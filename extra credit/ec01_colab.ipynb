{
  "nbformat": 4,
  "nbformat_minor": 0,
  "metadata": {
    "colab": {
      "provenance": [],
      "collapsed_sections": [
        "FFxvm88Wrxzv",
        "SWMFLdAByLuR",
        "b2wokVRvx7Iv",
        "GMobJP3UaofM",
        "CbMVV5VtkGTz",
        "_CldqbzZRlpL",
        "EXjspYyYRsGC",
        "hHX7awM4kQYZ",
        "WqLOompkeZTW",
        "g__AD0hmoQ2w",
        "O4JrRqoojH9m",
        "Dt73bfCLrSQU",
        "xFEeULh-sQl7",
        "XrBfmzocw_LS"
      ]
    },
    "kernelspec": {
      "name": "python3",
      "display_name": "Python 3"
    },
    "language_info": {
      "name": "python"
    }
  },
  "cells": [
    {
      "cell_type": "markdown",
      "source": [
        "#Math 685 & Math 385 | Spring 2024\n",
        "##Extra Credit, Coding, #1\n",
        "\n",
        "##<font color=red>\\<your name HERE. no style points if you leave this as is or dont include your name at all.\\></font>"
      ],
      "metadata": {
        "id": "t7arJ1-b3idP"
      }
    },
    {
      "cell_type": "markdown",
      "source": [
        "###1. expansion of text problem 1.5"
      ],
      "metadata": {
        "id": "LtlXjRQEZhPk"
      }
    },
    {
      "cell_type": "markdown",
      "source": [
        " 10 pts total, broken down as noted per step below.\n",
        "\n",
        "**<font color=red>the most important thing here is to get experience with different methods of data handling - especially external files. that will be important for later code requirements.</font>**"
      ],
      "metadata": {
        "id": "UiDCkwF56li_"
      }
    },
    {
      "cell_type": "markdown",
      "source": [
        "####0. prelim, run 1x stuff"
      ],
      "metadata": {
        "id": "FFxvm88Wrxzv"
      }
    },
    {
      "cell_type": "markdown",
      "source": [
        "#####0.a import statements, global vars"
      ],
      "metadata": {
        "id": "SWMFLdAByLuR"
      }
    },
    {
      "cell_type": "code",
      "source": [
        "import math\n",
        "import matplotlib.pyplot as plt\n",
        "import numpy as np\n",
        "import pandas as pd\n",
        "\n",
        "b_debug = True # simple method  to print interim stuff while verifying code\n",
        "\n",
        "# google drive stuff\n",
        "google_drive = \"/content/drive/My Drive/Colab Notebooks/\" # colab home directory\n",
        "local = \"\" # if subdirectory; eg, \"test/\" # yes, \"/\" is important\n",
        "path = google_drive + local\n",
        "\n",
        "file_prefix = \"ecc1_\" # default prefix; ~ extra credit, coding #1"
      ],
      "metadata": {
        "id": "VX6ZBOFRxIuI"
      },
      "execution_count": null,
      "outputs": []
    },
    {
      "cell_type": "markdown",
      "source": [
        "#####0.b mount google drive."
      ],
      "metadata": {
        "id": "b2wokVRvx7Iv"
      }
    },
    {
      "cell_type": "code",
      "source": [
        "from google.colab import drive\n",
        "drive.mount('/content/drive')\n",
        "\n",
        "# this is shell script executed in colab notebook\n",
        "#!ls \"/content/drive/My Drive/Colab Notebooks/\"\n",
        "# \"doc\", \"homework\", \"recitation\" are folders;\n",
        "# files would show with any associated extensions"
      ],
      "metadata": {
        "id": "tDdQLSmbiR7D",
        "colab": {
          "base_uri": "https://localhost:8080/"
        },
        "outputId": "ddef0146-9078-462a-c9fc-14268089577c"
      },
      "execution_count": null,
      "outputs": [
        {
          "output_type": "stream",
          "name": "stdout",
          "text": [
            "Mounted at /content/drive\n"
          ]
        }
      ]
    },
    {
      "cell_type": "markdown",
      "source": [
        "####1.a. generate data points $y = e^{5.5}$ and $y^{-1}$ for $n$ terms where $n\\in \\{1,2,...,24,25\\}$. (2 pts)"
      ],
      "metadata": {
        "id": "GMobJP3UaofM"
      }
    },
    {
      "cell_type": "markdown",
      "source": [
        "#####1.a.i. generate points, store in numpy.array."
      ],
      "metadata": {
        "id": "CbMVV5VtkGTz"
      }
    },
    {
      "cell_type": "markdown",
      "source": [
        "######algorithm"
      ],
      "metadata": {
        "id": "_CldqbzZRlpL"
      }
    },
    {
      "cell_type": "markdown",
      "source": [
        "\n",
        "```\n",
        "for i in range(n)     # use n in python for-loop\n",
        "  y = 0               # initialize; ie, reset to zero between sets of terms\n",
        "  for j in range(i+1) # use i+1 in python for-loop\n",
        "    dy = e^j/j!\n",
        "    y += dy           # where += -> y = y + dy\n",
        "  next j\n",
        "  save i,y            # save to some data structure\n",
        "next i\n",
        "```\n"
      ],
      "metadata": {
        "id": "UmWk9Z4tSDP5"
      }
    },
    {
      "cell_type": "markdown",
      "source": [
        "######code"
      ],
      "metadata": {
        "id": "EXjspYyYRsGC"
      }
    },
    {
      "cell_type": "code",
      "source": [
        "x = 5.5\n",
        "n = 19 # number approximations of y # tweak this until enough digits match\n",
        "rc = np.zeros((n,3)) # initialize return array; n rows, 3 columns (n,y,1/y)\n",
        "for i in range(n):\n",
        "  y = 0. # initialize\n",
        "  for j in range(i+1):\n",
        "    # dy = e^j/j! # this is pseudocode not code\n",
        "    dy = pow(x,j)/math.factorial(j)\n",
        "    # y += dy\n",
        "    y += dy\n",
        "    pass\n",
        "  rc[i,0] = i\n",
        "  rc[i,1] = y\n",
        "  rc[i,2] = 1./y\n",
        "\n",
        "if b_debug:\n",
        "  print(rc)"
      ],
      "metadata": {
        "id": "mxjkUotLeb1w"
      },
      "execution_count": null,
      "outputs": []
    },
    {
      "cell_type": "markdown",
      "source": [
        "#####1.a.ii. copy numpy.array into pandas.dataframe.\n",
        "\n",
        "can you just put y,1./y directly into dataframe and skip numpy.array. you sure can; nothings stopping you. this step is to show you how they can relate.\n",
        "\n",
        "[numpy.array](https://numpy.org/doc/stable/reference/generated/numpy.array.html)\n",
        "\n",
        "[pandas.DataFrame](https://pandas.pydata.org/docs/reference/frame.html)\n",
        "\n",
        "[pandas library](https://pandas.pydata.org/docs/reference/index.html#api)"
      ],
      "metadata": {
        "id": "hHX7awM4kQYZ"
      }
    },
    {
      "cell_type": "code",
      "source": [
        "nCol = ['n','y','1/y'] # column names, surprise\n",
        "nRow = [rc[:,0]] # labeled each row with its associated n value\n",
        "df = pd.DataFrame(data=rc,index=nRow,columns=nCol)\n",
        "\n",
        "if b_debug:\n",
        "  print(df)"
      ],
      "metadata": {
        "id": "6dOipRxRj4R5"
      },
      "execution_count": null,
      "outputs": []
    },
    {
      "cell_type": "markdown",
      "source": [
        "####1.b. export $n,y$ data to file. (1 pt ~ 2 pts total to interface with google drive from google colab)"
      ],
      "metadata": {
        "id": "WqLOompkeZTW"
      }
    },
    {
      "cell_type": "markdown",
      "source": [
        "#####1.b.i. export dataframe to spreadsheet-friendly csv (comma-separated) file.\n"
      ],
      "metadata": {
        "id": "g__AD0hmoQ2w"
      }
    },
    {
      "cell_type": "code",
      "source": [
        "file = file_prefix + \"data.csv\" # file in that local path\n",
        "df.to_csv(path+file,index=False) # outputs data in csv format # of many format options\n",
        "\n",
        "# this is shell script executed in colab notebook\n",
        "#!ls \"/content/drive/My Drive/Colab Notebooks/\"\n",
        "# there are no subfolders;\n",
        "# the rest are files, including the newly output r4_egOut.csv"
      ],
      "metadata": {
        "id": "5ZYEAR6gjlMq"
      },
      "execution_count": null,
      "outputs": []
    },
    {
      "cell_type": "markdown",
      "source": [
        "####1.c. read $n,y$ data file into dataframe. (1 pt ~ same 2 pts total as (1.b) to interface with google drive from google colab)"
      ],
      "metadata": {
        "id": "O4JrRqoojH9m"
      }
    },
    {
      "cell_type": "code",
      "source": [
        "file = file_prefix + \"data.csv\" # file in that local path\n",
        "df = pd.read_csv(path+file) # csv file read into pandas.dataframe\n",
        "\n",
        "if b_debug:\n",
        "  print(df)"
      ],
      "metadata": {
        "id": "T_JP2SNordS5"
      },
      "execution_count": null,
      "outputs": []
    },
    {
      "cell_type": "markdown",
      "source": [
        "####1.d. plot using dataframe for input data. (2 pts)"
      ],
      "metadata": {
        "id": "Dt73bfCLrSQU"
      }
    },
    {
      "cell_type": "markdown",
      "source": [
        "[pandas.DataFrame.plot()](https://pandas.pydata.org/docs/reference/api/pandas.DataFrame.plot.html)\n",
        "\n",
        "[matlibplot examples](https://matplotlib.org/stable/plot_types/basic/plot.html)\n"
      ],
      "metadata": {
        "id": "KRW975nMD-ge"
      }
    },
    {
      "cell_type": "code",
      "source": [
        "# plot, file for y\n",
        "\n",
        "# NOTE: pandas.DataFrame.plot() wraps matlibplot\n",
        "df.plot(kind = 'scatter', x = 'enter the column name for the x-axes', y = 'enter the column name for the y-axes')\n",
        "\n",
        "filename = \"ec1_scatter_y.png\"\n",
        "plt.savefig(path+filename)\n",
        "\n",
        "# plot, file for 1/y\n",
        "\n",
        "df.plot(kind = 'scatter', x = 'enter the column name for the x-axes', y = 'enter the column name for the y-axes')\n",
        "\n",
        "filename = \"ec1_scatter_yinv.png\"\n",
        "plt.savefig(path+filename)\n",
        "\n",
        "plt.show()\n"
      ],
      "metadata": {
        "id": "Hj2u5ggGs56G"
      },
      "execution_count": null,
      "outputs": []
    },
    {
      "cell_type": "markdown",
      "source": [
        "####1.e. good coding standards. (1 pt)"
      ],
      "metadata": {
        "id": "xFEeULh-sQl7"
      }
    },
    {
      "cell_type": "markdown",
      "source": [
        "make it nice; theres sensible examples all around you."
      ],
      "metadata": {
        "id": "js5c63F6Pj4b"
      }
    },
    {
      "cell_type": "markdown",
      "source": [
        "####1.f. generate extra plots for extra extra credit. (3 pts total, 1 per extra graph)"
      ],
      "metadata": {
        "id": "XrBfmzocw_LS"
      }
    },
    {
      "cell_type": "markdown",
      "source": [
        "extra plots must be relevant to text problem statement - not some random graph about random stuff. you can take previous graphs and do stuff with them like change symbols or colors or whatever. that counts. different datasets counts.\n",
        "\n",
        "research this one yourself or poach knowledge from your peers. if you spin your wheels for too long for this extra problem, email me if you like, but remember google is a coders bff."
      ],
      "metadata": {
        "id": "ixPyRcJn5a05"
      }
    },
    {
      "cell_type": "code",
      "source": [
        "# put some stuff here that works"
      ],
      "metadata": {
        "id": "F67RZ4yq5a1V"
      },
      "execution_count": null,
      "outputs": []
    }
  ]
}