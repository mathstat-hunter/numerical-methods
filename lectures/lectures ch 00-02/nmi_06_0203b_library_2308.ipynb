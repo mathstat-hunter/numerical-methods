{
  "nbformat": 4,
  "nbformat_minor": 0,
  "metadata": {
    "colab": {
      "provenance": [],
      "collapsed_sections": [
        "pj9gd3P7X4Hs",
        "pnFNFExtiuDb"
      ]
    },
    "kernelspec": {
      "name": "python3",
      "display_name": "Python 3"
    },
    "language_info": {
      "name": "python"
    }
  },
  "cells": [
    {
      "cell_type": "markdown",
      "source": [
        "# numerical methods\n",
        "## fall 2023 | lecture 08\n",
        "## elvis has left the building"
      ],
      "metadata": {
        "id": "wDCoOx2CQxmZ"
      }
    },
    {
      "cell_type": "markdown",
      "source": [
        "### cholesky factorizaton"
      ],
      "metadata": {
        "id": "Q1Lqx9wYREtv"
      }
    },
    {
      "cell_type": "markdown",
      "source": [
        "#### algorithm"
      ],
      "metadata": {
        "id": "5bdu4ZRNRIN4"
      }
    },
    {
      "cell_type": "markdown",
      "source": [
        "\n",
        "```\n",
        "for i = 1,n\n",
        "  if A[i,i] < 0\n",
        "    break\n",
        "  R[i,i] = √A[i,i]\n",
        "  for j = i+1,n\n",
        "    uT = A[i,j] / R[i,i]\n",
        "    R[i,j] = uT\n",
        "    A[j,j] = Aj,j] - uuT\n",
        "end\n",
        "\n",
        "```\n",
        "\n",
        "alternatively, use numpy.\n",
        "\n",
        "https://numpy.org/doc/stable/reference/generated/numpy.linalg.cholesky.html\n",
        "\n",
        "\n",
        "```\n",
        "L = linalg.cholesky(a)\n",
        "```\n",
        "\n",
        "\n",
        "one step, elimination yields: $R$ where $A = R^TR$.\n",
        "\n",
        "two steps, backward substitution yields $x$: where $R^Tc = b \\Rightarrow Rx = c$.\n"
      ],
      "metadata": {
        "id": "wpXSTmmfJJUj"
      }
    },
    {
      "cell_type": "markdown",
      "source": [
        "#### code"
      ],
      "metadata": {
        "id": "pj9gd3P7X4Hs"
      }
    },
    {
      "cell_type": "code",
      "source": [
        "# hw03 m385 backsub\n",
        "\n",
        "import numpy as np\n",
        "\n",
        "def bwdsub (aa,ab):\n",
        "  x = np.zeros_like(ab)\n",
        "  n = x.shape[0]\n",
        "  for i in reversed(range(n)):\n",
        "    sum_ax = 0;\n",
        "    for j in range(i+1,n):\n",
        "      sum_ax = sum_ax + aa[i,j]*x[j]\n",
        "    x[i] = (ab[i]-sum_ax)/aa[i,i]\n",
        "  return x;\n",
        "\n",
        "def fwdsub (aa,ab):\n",
        "  x = np.zeros_like(ab)\n",
        "  n = x.shape[0]\n",
        "  for i in range(n):\n",
        "    sum_ax = 0;\n",
        "    for j in range(i):\n",
        "      sum_ax = sum_ax + aa[i,j]*x[j]\n",
        "    x[i] = (ab[i]-sum_ax)/aa[i,i]\n",
        "  return x;\n"
      ],
      "metadata": {
        "id": "VX53-eaOBZFu"
      },
      "execution_count": null,
      "outputs": []
    },
    {
      "cell_type": "code",
      "execution_count": null,
      "metadata": {
        "colab": {
          "base_uri": "https://localhost:8080/"
        },
        "outputId": "63d3b220-67b0-4faf-aa92-41e783f9c45d",
        "id": "Y8PqT6wx845b"
      },
      "outputs": [
        {
          "output_type": "stream",
          "name": "stdout",
          "text": [
            "[[ 4. -2.]\n",
            " [-2. 10.]] = A, original\n",
            "\n",
            "[[ 2. -1.]\n",
            " [ 0.  3.]] = R\n",
            "\n",
            "[[ 2.  0.]\n",
            " [-1.  3.]] = RT\n",
            "\n",
            "[[5.]\n",
            " [3.]] = c\n",
            "\n",
            "[[3.]\n",
            " [1.]] = x\n"
          ]
        }
      ],
      "source": [
        "# cholesky # 2.6.7.b.\n",
        "\n",
        "# import statements\n",
        "import numpy as np\n",
        "\n",
        "# assign test data\n",
        "#a = np.array([[4.,-2.,2.],[-2.,2.,-4.],[2.,-4.,11.]])\n",
        "a = np.array([[4.,-2.],[-2.,10.]])\n",
        "b = np.array([[10.],[4.]])\n",
        "\n",
        "# cholesky factorization\n",
        "rt = np.linalg.cholesky(a) # numpy returns L\n",
        "r = np.transpose(rt)       # R = transpose(L)\n",
        "#a_cholesky = np.dot(rt,r)  # reconstitute A to verify\n",
        "\n",
        "print(f\"{a} = A, original\\n\")\n",
        "print(f\"{r} = R\\n\")\n",
        "print(f\"{rt} = RT\\n\")\n",
        "#print(f\"{a_cholesky} = A, reconstituted\")\n",
        "\n",
        "c = np.zeros_like(b)\n",
        "c = fwdsub(rt,b)\n",
        "print(f\"{c} = c\\n\")\n",
        "\n",
        "x = np.zeros_like(b)\n",
        "x = bwdsub(r,c)\n",
        "print(f\"{x} = x\")\n"
      ]
    },
    {
      "cell_type": "markdown",
      "source": [
        "### conjugate gradient"
      ],
      "metadata": {
        "id": "lDwQUedKYBDy"
      }
    },
    {
      "cell_type": "markdown",
      "source": [
        "#### algorithm"
      ],
      "metadata": {
        "id": "Qq8ndLbhYR79"
      }
    },
    {
      "cell_type": "markdown",
      "source": [
        "##### homely"
      ],
      "metadata": {
        "id": "7U9bCbCp7bzY"
      }
    },
    {
      "cell_type": "markdown",
      "source": [
        "![nmi_08_conjugategradient.png](data:image/png;base64,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)"
      ],
      "metadata": {
        "id": "MAqtKfd9gg7E"
      }
    },
    {
      "cell_type": "markdown",
      "source": [
        "\n",
        "\n",
        "```\n",
        "x[0] = initial guess\n",
        "d[0] = r[0] = b - a*x[0]\n",
        "for k = 0,n-1\n",
        "  if r[k] = 0\n",
        "    break\n",
        "\n",
        "  alpha[k] = transpose(r[k])*r[k] / (transpose(d[k])*A*d[k])\n",
        "  x[k+1] = x[k] + alpha[k]*d[k]\n",
        "  r[k+1] = r[k] - alpha[k]*A*d[k]\n",
        "  beta[k] = (transpose(r[k+1])*r[k+1]) / (transpose(r[k])*r[k])\n",
        "  d[k+1] = r[k+1] + beta[k]*d[k]\n",
        "```\n",
        "\n",
        "\n",
        "alternatively, use scipy.\n",
        "\n",
        "https://docs.scipy.org/doc/scipy/reference/generated/scipy.sparse.linalg.cg.html"
      ],
      "metadata": {
        "id": "41ZTWcMkYTWa"
      }
    },
    {
      "cell_type": "markdown",
      "source": [
        "#### code"
      ],
      "metadata": {
        "id": "pnFNFExtiuDb"
      }
    },
    {
      "cell_type": "code",
      "execution_count": null,
      "metadata": {
        "id": "AllmYyR1iuDo",
        "colab": {
          "base_uri": "https://localhost:8080/"
        },
        "outputId": "13f9d747-2dae-4300-faca-e0e6e915d3da"
      },
      "outputs": [
        {
          "output_type": "stream",
          "name": "stdout",
          "text": [
            "[[ 1. -1.]\n",
            " [-1.  5.]] = A, original\n",
            "\n",
            "[ 2. -1.] = x\n",
            "\n",
            "[[ 3.]\n",
            " [-7.]] = b\n",
            "\n",
            "[[-8.88178420e-16]\n",
            " [ 1.77635684e-15]] = r\n",
            "\n"
          ]
        }
      ],
      "source": [
        "# conjugate gradient\n",
        "\n",
        "# import statements\n",
        "import numpy as np\n",
        "import scipy as sp\n",
        "\n",
        "# assign test data\n",
        "#a = np.array([[1.,2.],[2.,5.]])\n",
        "#b = np.array([[1.],[3.]])\n",
        "a = np.array([[1.,-1.],[-1.,5.]])\n",
        "b = np.array([[3.],[-7.]])\n",
        "x = np.zeros_like(b)\n",
        "x0 = np.zeros_like(b)\n",
        "\n",
        "# conjugate gradient\n",
        "x = sp.sparse.linalg.cg(a,b,x0)[0]\n",
        "ax = np.dot(a,x)\n",
        "#r = b - ax.T # bc scipy\n",
        "r = np.zeros_like(b)\n",
        "for i in range(len(r)):\n",
        "  r[i] = b[i,0] - ax[i]\n",
        "\n",
        "print(f\"{a} = A, original\\n\")\n",
        "print(f\"{x} = x\\n\")\n",
        "print(f\"{b} = b\\n\")\n",
        "print(f\"{r} = r\\n\")\n"
      ]
    }
  ]
}