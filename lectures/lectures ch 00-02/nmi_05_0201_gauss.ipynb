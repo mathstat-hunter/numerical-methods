{
  "nbformat": 4,
  "nbformat_minor": 0,
  "metadata": {
    "colab": {
      "provenance": [],
      "collapsed_sections": [
        "FLDETWqfDJ3x",
        "GDFLLGjXvi9A",
        "38O3Ro9HIymo",
        "oZgBr0mQWi-c",
        "OILPVEAQYvZh",
        "mvz9omgGWrQN",
        "P-Io9LWLIuBY",
        "XGWd_XRpdQ-x",
        "Rav7soSYhX2-",
        "uiK2hqeihhO9",
        "5Oegd_Myhls9",
        "p59qRI4opLJF",
        "ljkpuAJzq2J6",
        "QNFLrgAqsRFL",
        "6hKiMR5IsUNj",
        "qU467Rm8vZlr",
        "G_WGvthkyqvK",
        "m33i8lRw8GkM",
        "ApjmxGUZ8hdz",
        "opdlvE1IDmkb",
        "SpDllgwYDpys",
        "O_ZNLGToTlhz",
        "Dfkm3xkzUZ1d",
        "B2FNAofaXbIV",
        "jrsXZboIcPAD",
        "xHxP3lEScsmE",
        "qdqA8g8wdT8f",
        "5Xn_nNNBe6MF",
        "1qgD2CcshQuK",
        "RgtaUI3Opwnm",
        "wZI_8JPRpfIM"
      ]
    },
    "kernelspec": {
      "name": "python3",
      "display_name": "Python 3"
    },
    "language_info": {
      "name": "python"
    }
  },
  "cells": [
    {
      "cell_type": "markdown",
      "source": [
        "# nmi | 2024 spring\n",
        "## lecture 05 : systems of equations : gauss elimination, PA=LU factorization\n"
      ],
      "metadata": {
        "id": "IgURT4MC1E1V"
      }
    },
    {
      "cell_type": "markdown",
      "source": [
        "why stop at one?\n",
        "</br>\n"
      ],
      "metadata": {
        "id": "NGJug_H6qVd9"
      }
    },
    {
      "cell_type": "markdown",
      "source": [
        "### 2.1 gaussian elimination\n"
      ],
      "metadata": {
        "id": "FLDETWqfDJ3x"
      }
    },
    {
      "cell_type": "markdown",
      "source": [
        "##### ex 01\n"
      ],
      "metadata": {
        "id": "GDFLLGjXvi9A"
      }
    },
    {
      "cell_type": "markdown",
      "source": [
        "consider system of equations\n",
        "</br></br>\n",
        "\n",
        "\\begin{align}\n",
        "  2x - 2y - z &= -2 \\\\\n",
        "  4x + y - 2z &= 1 \\\\\n",
        "  -2x + y -z &= -3. \\\\\n",
        "\\end{align}\n",
        "</br>\n",
        "\n",
        "three equations and three unknowns $\\Rightarrow$ mosh those equations to solve for $z$; use $z$ to solve for $y$; use $z,y$ to solve for $x$.\n",
        "</br>\n"
      ],
      "metadata": {
        "id": "bWvPMRyXrUz2"
      }
    },
    {
      "cell_type": "markdown",
      "source": [
        "in an orderly, pre-algorithm kind of way,\n",
        "</br></br>\n",
        "\n",
        "$$\n",
        "Ax =b \\Rightarrow\n",
        "\\underbrace{\n",
        "\\begin{bmatrix}\n",
        "  a_{11} & a_{12} & a_{13} \\\\\n",
        "  a_{21} & a_{22} & a_{23} \\\\\n",
        "  a_{31} & a_{32} & a_{33}\n",
        "\\end{bmatrix}\n",
        "\\begin{bmatrix} x \\\\ y \\\\ z \\end{bmatrix}\n",
        "=\n",
        "\\begin{bmatrix} b_1 \\\\ b_2 \\\\ b_3 \\end{bmatrix}\n",
        "}_{\\text{more writing}}\n",
        "\\Rightarrow\n",
        "\\underbrace{\n",
        "\\left[\\begin{array}{r}\n",
        "  a_{11} & a_{12} & a_{13} & | & b_1 \\\\\n",
        "  a_{21} & a_{22} & a_{23} & | & b_2 \\\\\n",
        "  a_{31} & a_{32} & a_{33} & | & b_3\n",
        "\\end{array}\\right]\n",
        "}_{\\text{less writing = yay}}\n",
        "$$\n",
        "</br>\n",
        "\n",
        "where $a_{ij}$, $b_i$ represents elements at row $i$ and column $j$.\n",
        "</br>\n",
        "\n"
      ],
      "metadata": {
        "id": "qcuKUC-ZvcxP"
      }
    },
    {
      "cell_type": "markdown",
      "source": [
        "to \"solve for $z$ then $y$ then $x$\", get the structure to look like this,\n",
        "</br></br>\n",
        "\n",
        "$$\n",
        "\\begin{bmatrix}\n",
        "  a_{11} & a_{12} & a_{13} \\\\\n",
        "  0 & a'_{22} & a'_{23} \\\\\n",
        "  0 & 0 & a'_{33}\n",
        "\\end{bmatrix}\n",
        "\\begin{bmatrix} x \\\\ y \\\\ z \\end{bmatrix}\n",
        "=\n",
        "\\begin{bmatrix} b_1 \\\\ b'_2 \\\\ b'_3 \\end{bmatrix}\n",
        "\\sim\n",
        "\\left[\\begin{array}{r}\n",
        "  a_{11} & a_{12} & a_{13} & | & b_1 \\\\\n",
        "  0 & a'_{22} & a'_{23} & | & b'_2 \\\\\n",
        "  0 & 0 & a'_{33} & | & b'_3\n",
        "\\end{array}\\right]\n",
        "$$\n",
        "</br>\n",
        "\n",
        "where prime $'$ represents element after modification by <b>forward elimination</b>.\n",
        "</br>\n"
      ],
      "metadata": {
        "id": "wauz9TiZvsmo"
      }
    },
    {
      "cell_type": "markdown",
      "source": [
        "for the given system of equations,\n",
        "</br></br>\n",
        "\n",
        "\\begin{align}\n",
        "  \\begin{bmatrix}\n",
        "    2 & -2 & -1 \\\\\n",
        "    4 & 1 & -2 \\\\\n",
        "    -2 & 1 & -1\n",
        "  \\end{bmatrix}\n",
        "  \\begin{bmatrix} x \\\\ y \\\\ z \\end{bmatrix}\n",
        "  =\n",
        "  \\begin{bmatrix} -2 \\\\ 1 \\\\ -3 \\end{bmatrix}\n",
        "  &\\Rightarrow\n",
        "  \\left[\\begin{array}{r}\n",
        "    2 & -2 & -1 & | & -2\\\\\n",
        "    4 & 1 & -2 & | & 1 \\\\\n",
        "    -2 & 1 & -1 & | & -1\n",
        "  \\end{array}\\right]\n",
        "  \\Rightarrow\n",
        "  \\left[\\begin{array}{r}\n",
        "    2 & -2 & -1 & | & -2\\\\\n",
        "    0 & ? & ? & | & ? \\\\\n",
        "    0 & 0 & ? & | & ?\n",
        "  \\end{array}\\right]\n",
        "  \\\\ \\\\\n",
        "  \\text{1. subtract row 1 from row 2} \\quad &\\Rightarrow \\text{new [row 2]} = \\text{[row 2]} - m\\times \\text{[row 1], where } m = \\frac{a_{21}}{a_{11}} = \\frac{4}{2} = 2\n",
        "  \\\\ \\\\\n",
        "  &\\Rightarrow\n",
        "  \\left[\\begin{array}{r}\n",
        "    2 & -2 & -1 & | & -2\\\\\n",
        "    4-2(2) & 1-2(-2) & -2-2(-1) & | & 1-2(-2) \\\\\n",
        "    -2 & 1 & -1 & | & -1\n",
        "  \\end{array}\\right]\n",
        "  =\n",
        "    \\left[\\begin{array}{r}\n",
        "    2 & -2 & -1 & | & -2\\\\\n",
        "    0 & 5 & 0 & | & 5 \\\\\n",
        "    -2 & 1 & -1 & | & -1\n",
        "  \\end{array}\\right]\n",
        "  \\\\ \\\\\n",
        "  \\text{2. subtract row 1 from row 3} \\quad &\\Rightarrow \\text{new [row 3]} = \\text{[row 3]} - m\\times \\text{[row 1], where } m = \\frac{a_{31}}{a_{11}} = \\frac{-2}{2} = -1\n",
        "  \\\\ \\\\\n",
        "  &\\Rightarrow\n",
        "  \\left[\\begin{array}{r}\n",
        "    2 & -2 & -1 & | & -2\\\\\n",
        "    0 & 5 & 0 & | & 5 \\\\\n",
        "    -2+1(2) & 1+1(-2) & -1+1(-1) & | & -1+1(-2)\n",
        "  \\end{array}\\right]\n",
        "  =\n",
        "    \\left[\\begin{array}{r}\n",
        "    2 & -2 & -1 & | & -2\\\\\n",
        "    0 & 5 & 0 & | & 5 \\\\\n",
        "    0 & -1 & -2 & | & -3\n",
        "  \\end{array}\\right]\n",
        "  \\\\ \\\\\n",
        "  \\text{3. subtract row 2 from row 3} \\quad &\\Rightarrow \\text{new [row 3]} = \\text{[row 3]} - m\\times \\text{[row 2], where } m = \\frac{a_{32}}{a_{22}} = \\frac{-1}{5} = -\\frac{1}{5}\n",
        "  \\\\ \\\\\n",
        "  &\\Rightarrow\n",
        "  \\left[\\begin{array}{r}\n",
        "    2 & -2 & -1 & | & -2\\\\\n",
        "    0 & 5 & 0 & | & 5 \\\\\n",
        "    0 & -1+\\frac{1}{5}(5) & -2+\\frac{1}{5}(0) & | & -3+\\frac{1}{5}(5)\n",
        "  \\end{array}\\right]\n",
        "  =\n",
        "    \\left[\\begin{array}{r}\n",
        "    2 & -2 & -1 & | & -2\\\\\n",
        "    0 & 5 & 0 & | & 5 \\\\\n",
        "    0 & 0 & -2 & | & -2\n",
        "  \\end{array}\\right]\n",
        "\\end{align}\n",
        "</br>\n",
        "\n",
        "huzzah, upper triangular matrix. $\\checkmark$\n",
        "</br>\n"
      ],
      "metadata": {
        "id": "IJF9f9sxwd1y"
      }
    },
    {
      "cell_type": "markdown",
      "source": [
        "#### 2.1.1 naive gaussian elimination\n"
      ],
      "metadata": {
        "id": "38O3Ro9HIymo"
      }
    },
    {
      "cell_type": "markdown",
      "source": [
        "##### forward elimination\n"
      ],
      "metadata": {
        "id": "oZgBr0mQWi-c"
      }
    },
    {
      "cell_type": "markdown",
      "source": [
        "to zero below the diagonal, consider that the columns zeroed are $j = 1$ to $n-1$, where $n = 3 ~$ number of equations, number of unknowns, dimension of $A_{n\\times n},b_n$.\n",
        "</br></br>\n",
        "\n",
        "```\n",
        "for j = 1 : n-1\n",
        "  # eliminate column j\n",
        "end\n",
        "```\n",
        "</br>\n",
        "\n",
        "for each $j$, the rows to zero below the diagonal are $i=j+1$ to $n$.</br></br>\n",
        "\n",
        "```\n",
        "for j = 1 : n-1\n",
        "  # eliminate column j\n",
        "  for i = j+1 : n\n",
        "    # eliminate entry a(i,j)\n",
        "end\n",
        "```\n",
        "</br>\n",
        "\n",
        "and whats applied to one element in a row (eg, $a_{ij}$) is applied to all elements in that row -- including $b_i$.\n",
        "</br></br>\n",
        "\n",
        "```\n",
        "for j = 1 : n-1\n",
        "  if abs(a(j,j))<eps; error('zero pivot encountered'); end\n",
        "  for i = j+1 : n\n",
        "    mult = a(i,j)/a(j,j);\n",
        "    for k = j+1:n\n",
        "      a(i,k) = a(i,k) - mult*a(j,k);\n",
        "    end\n",
        "    b(i) = b(i) - mult*b(j);\n",
        "  end\n",
        "end\n",
        "```\n",
        "</br>\n",
        "\n",
        "oc this requires that the diagonal not be zero. ie, the diagonal contains the <b>pivots</b> of coefficient matrix $A$.\n",
        "</br>\n"
      ],
      "metadata": {
        "id": "GjWXGGRfBVYq"
      }
    },
    {
      "cell_type": "markdown",
      "source": [
        "##### usw, continuing example 01\n"
      ],
      "metadata": {
        "id": "OILPVEAQYvZh"
      }
    },
    {
      "cell_type": "markdown",
      "source": [
        "$$\n",
        "  \\left[\\begin{array}{r}\n",
        "  2 & -2 & -1 & | & -2\\\\\n",
        "  0 & 5 & 0 & | & 5 \\\\\n",
        "  0 & 0 & -2 & | & -2\n",
        "\\end{array}\\right]\n",
        "\\sim\n",
        "\\left[\\begin{array}{r}\n",
        "  a_{11} & a_{12} & a_{13} & | & b_1 \\\\\n",
        "  0 & a'_{22} & a'_{23} & | & b'_2 \\\\\n",
        "  0 & 0 & a'_{33} & | & b'_3\n",
        "\\end{array}\\right]\n",
        "\\sim\n",
        "\\begin{bmatrix}\n",
        "  a_{11} & a_{12} & a_{13} \\\\\n",
        "  0 & a'_{22} & a'_{23} \\\\\n",
        "  0 & 0 & a'_{33}\n",
        "\\end{bmatrix}\n",
        "\\begin{bmatrix} x \\\\ y \\\\ z \\end{bmatrix}\n",
        "=\n",
        "\\begin{bmatrix} b_1 \\\\ b'_2 \\\\ b'_3 \\end{bmatrix}\n",
        "$$\n",
        "</br>\n",
        "\n",
        "to solve for $[x,y,z]^T$,\n",
        "</br></br>\n",
        "\n",
        "\\begin{align}\n",
        "  \\text{1.} \\quad z &= \\frac{b'_3}{a'_{33}} \\\\\n",
        "  \\text{2.} \\quad y &= \\frac{b'_2 - a'_{23}\\cdot z}{a'_{22}} \\\\\n",
        "  \\text{3.} \\quad x &= \\frac{b'_1 - a'_{13}\\cdot z - a'_{12}\\cdot y}{a'_{11}} \\\\\n",
        "  \\\\\n",
        "  &\\Downarrow \\\\\n",
        "  \\\\\n",
        "  [x,y,z]^T &= [\\frac{1}{2},1,1]^T\n",
        "\\end{align}\n",
        "</br>\n",
        "\n",
        "no surprises there. more generally, for any $n$...\n",
        "</br>\n"
      ],
      "metadata": {
        "id": "q0Oi_555XPaP"
      }
    },
    {
      "cell_type": "markdown",
      "source": [
        "##### backward substitution\n"
      ],
      "metadata": {
        "id": "mvz9omgGWrQN"
      }
    },
    {
      "cell_type": "markdown",
      "source": [
        "\n",
        "```\n",
        "for i = n : -1 : 1\n",
        "  for j = i+1 : n\n",
        "    b(i) = b(i) - a(i,j)*x(j);\n",
        "  end\n",
        "  x(i) = b(i)/a(i,i);\n",
        "end\n",
        "```\n",
        "</br>\n"
      ],
      "metadata": {
        "id": "SoAPirT3YY76"
      }
    },
    {
      "cell_type": "markdown",
      "source": [
        "#### 2.1.2 operation counts\n"
      ],
      "metadata": {
        "id": "P-Io9LWLIuBY"
      }
    },
    {
      "cell_type": "markdown",
      "source": [
        "consider matrix of coefficients $A$ wrt forward elimination. cost in operations stacks like this:\n",
        "</br></br>\n",
        "\n",
        "\\begin{bmatrix}\n",
        "  0 \\\\ 2n+1 & 0 \\\\ 2n+1 & 2(n-1)+1 & 0 \\\\\n",
        "  2n+1 & 2(n-1)+1 & 2(n-2)+1 & 0 \\\\\n",
        "  \\vdots & \\vdots & \\vdots & \\ddots & \\ddots \\\\\n",
        "  2n+1 & 2(n-1)+1 & 2(n-2)+1 & \\dots & 2(3)+1 & 0 \\\\\n",
        "  2n+1 & 2(n-1)+1 & 2(n-2)+1 & \\dots & 2(3)+1 & 2(2)+1 & 0 \\\\\n",
        "\\end{bmatrix}\n",
        "</br>\n",
        "\n",
        "where $n$ is dimension of $A_{n\\times n},b_n$ and each cell contains the cost in operations to zero its value.\n",
        "</br></br>\n",
        "\n",
        "eg, for $a'_{21} = 0 = a_{21} - a_{11}\\cdot\\frac{a_{21}}{a_{11}} \\sim$ 3 operations but also consider every cell in that same row that gets refactored by the same $m$. so $2n + 1$ where \"$2$\" is the subtraction and multiplication, \"$n$\" is the number of cells in that row that need attention (includes $b_i$) and \"$+1$\" is the cost of the single division required to evaluate $m$ for that row.\n",
        "</br>\n"
      ],
      "metadata": {
        "id": "cJIMMA19JQcy"
      }
    },
    {
      "cell_type": "markdown",
      "source": [
        "<b><font color=grey>lem 01</font></b> for any positive integer $n$, (a) $1 + 2 + 3 + \\dots + n = n(n+1)/2$ and (b) $1^2 + 2^2 + 3^2 + \\dots + n^2 = n(n+1)(2n+1)/6$.\n",
        "</br></br>\n",
        "\n",
        "<i>in case of homework...</i>\n",
        "</br>\n"
      ],
      "metadata": {
        "id": "Bf994r_eVJrs"
      }
    },
    {
      "cell_type": "markdown",
      "source": [
        "to sum,\n",
        "</br></br>\n",
        "\n",
        "\\begin{align}\n",
        "  \\sum_{j=1}^{n-1} \\sum_{i=1}^{j} 2(j+1)+1 &= \\sum_{j=1}^{n-1} 2j(j+1)+j \\\\\n",
        "  &= 2\\sum_{j=1}^{n-1}j^2 + 3\\sum_{j=1}^{n-1}j = 2\\frac{(n-1)n(2n-1)}{6} + 3\\frac{(n-1)n}{2} \\\\\n",
        "  &= (n-1)n\\left[ \\frac{2n-1}{3} + \\frac{3}{2} \\right] = \\frac{n(n-1)(4n+7)}{6} \\\\\n",
        "  &= \\frac{2}{3}n^3 + \\frac{1}{2}n^2 - \\frac{7}{6}n.\n",
        "\\end{align}\n",
        "</br>\n"
      ],
      "metadata": {
        "id": "w4kkxes1bALa"
      }
    },
    {
      "cell_type": "markdown",
      "source": [
        "the cost of back substitution is $n^2 \\sim \\mathcal{O}(n^2)$ vs $\\mathcal{O}(n^3)$ for forward elimination.\n",
        "</br></br>\n",
        "\n",
        "<i>big O refresher</i>: [@wiki](https://en.wikipedia.org/wiki/Big_O_notation) [@brightside](https://www.youtube.com/watch?v=vEUnVm2k2-k) (4 minutes!)\n",
        "</br>\n"
      ],
      "metadata": {
        "id": "OFIx2_xvaF6z"
      }
    },
    {
      "cell_type": "markdown",
      "source": [
        "### 2.2 LU factorization\n"
      ],
      "metadata": {
        "id": "XGWd_XRpdQ-x"
      }
    },
    {
      "cell_type": "markdown",
      "source": [
        "#### 2.2.1 matrix form of guassian elimination\n"
      ],
      "metadata": {
        "id": "Rav7soSYhX2-"
      }
    },
    {
      "cell_type": "markdown",
      "source": [
        "LU factorization splits coefficient matrix $A$ into <b>lower triangular</b> and <b>upper triangular</b> matrices such that\n",
        "</br></br>\n",
        "\n",
        "$$[L][U] = [A]$$\n",
        "</br>\n",
        "\n",
        "where entries of $L_{m\\times n}$ satisfy $l_{ij} = 0$ for $i<j$ and entries of $U_{m\\times n}$ statisy $u_{ij} = 0$ for $i>j$.\n",
        "</br>\n"
      ],
      "metadata": {
        "id": "hkpG3R3Ed4N4"
      }
    },
    {
      "cell_type": "markdown",
      "source": [
        "##### ex 04\n"
      ],
      "metadata": {
        "id": "uiK2hqeihhO9"
      }
    },
    {
      "cell_type": "markdown",
      "source": [
        "$$\n",
        "LU =\n",
        "\\begin{bmatrix} 1 & 0 \\\\ 3 & 1 \\end{bmatrix}\n",
        "\\begin{bmatrix} 1 & 1 \\\\ 0 & -7 \\end{bmatrix}\n",
        "=\n",
        "\\begin{bmatrix} 1 & 1 \\\\ 3 & -4 \\end{bmatrix}\n",
        "= A.\n",
        "$$\n",
        "</br>"
      ],
      "metadata": {
        "id": "jYfwHOrMhgL1"
      }
    },
    {
      "cell_type": "markdown",
      "source": [
        "##### ex 05\n"
      ],
      "metadata": {
        "id": "5Oegd_Myhls9"
      }
    },
    {
      "cell_type": "markdown",
      "source": [
        "consider matrix of coefficients,\n",
        "</br></br>\n",
        "\n",
        "$$\n",
        "A = \\begin{bmatrix} 1 & 2 & -1 \\\\ 2 & 1 & -2 \\\\ -3 & 1 & 1 \\end{bmatrix}\n",
        "$$\n",
        "</br>\n",
        "\n",
        "apply forward elimination on $A$ to get upper triangular $U$; however, store the $m$ used in each step in $L$. ie,\n",
        "</br></br>\n",
        "\n",
        "\\begin{align} \\\\\n",
        "\\text{0. start with }L = I,U=A \\qquad &\n",
        "\\\\ \\\\\n",
        "\\begin{bmatrix} 1 & 0 & 0 \\\\ 0 & 1 & 0 \\\\ 0 & 0 & 1 \\end{bmatrix}\n",
        "&\n",
        "\\begin{bmatrix} 1 & 2 & -1 \\\\ 2 & 1 & -2 \\\\ -3 & 1 & 1 \\end{bmatrix}\n",
        "\\\\ \\\\\n",
        "\\text{1. subtract row 1 from row 2} \\quad &\\Rightarrow \\text{new [row 2]} = \\text{[row 2]} - m\\times \\text{[row 1], where } m = \\frac{a_{21}}{a_{11}} = \\frac{2}{1} = 2 \\\\\n",
        "&\\Rightarrow l_{ij} = m \\text{ where }i = \\text{ [row to zero]} = 2 \\text{, }j = \\text{[row to zero with] = 1}\n",
        "\\\\ \\\\\n",
        "\\begin{bmatrix} 1 & 0 & 0 \\\\ 2 & 1 & 0 \\\\ 0 & 0 & 1 \\end{bmatrix}\n",
        "&\n",
        "\\begin{bmatrix} 1 & 2 & -1 \\\\ 0 & -3 & 0 \\\\ -3 & 1 & 1 \\end{bmatrix}\n",
        "\\\\ \\\\\n",
        "\\text{2. subtract row 1 from row 3} \\quad &\\Rightarrow \\text{new [row 3]} = \\text{[row 3]} - m\\times \\text{[row 1], where } m = \\frac{a_{31}}{a_{11}} = \\frac{-3}{1} = -3 \\\\\n",
        "&\\Rightarrow l_{ij} = m \\text{ where }i = \\text{ [row to zero]} = 3 \\text{, }j = \\text{[row to zero with] = 1}\n",
        "\\\\ \\\\\n",
        "\\begin{bmatrix} 1 & 0 & 0 \\\\ 2 & 1 & 0 \\\\ -3 & 0 & 1 \\end{bmatrix}\n",
        "&\n",
        "\\begin{bmatrix} 1 & 2 & -1 \\\\ 0 & -3 & 0 \\\\ 0 & 7 & -2 \\end{bmatrix}\n",
        "\\\\ \\\\\n",
        "\\text{3. subtract row 2 from row 3} \\quad &\\Rightarrow \\text{new [row 3]} = \\text{[row 3]} - m\\times \\text{[row 2], where } m = \\frac{a_{32}}{a_{22}} = \\frac{7}{-3} = -\\frac{7}{3} \\\\\n",
        "&\\Rightarrow l_{ij} = m \\text{ where }i = \\text{ [row to zero]} = 3 \\text{, }j = \\text{[row to zero with] = 2}\n",
        "\\\\ \\\\\n",
        "\\begin{bmatrix} 1 & 0 & 0 \\\\ 2 & 1 & 0 \\\\ -3 & -\\frac{7}{3} & 1 \\end{bmatrix}\n",
        "&\n",
        "\\begin{bmatrix} 1 & 2 & -1 \\\\ 0 & -3 & 0 \\\\ 0 & 0 & -2 \\end{bmatrix}\n",
        "= LU.\n",
        "\\end{align}\n",
        "</br>\n",
        "\n",
        "$$\n",
        "\\Rightarrow LU =\n",
        "\\begin{bmatrix} 1 & 0 & 0 \\\\ 2 & 1 & 0 \\\\ -3 & -\\frac{7}{3} & 1 \\end{bmatrix}\n",
        "\\begin{bmatrix} 1 & 2 & -1 \\\\ 0 & -3 & 0 \\\\ 0 & 0 & -2 \\end{bmatrix}\n",
        "=\n",
        "\\begin{bmatrix} 1 & 2 & -1 \\\\ 2 & 1 & -2 \\\\ -3 & 1 & 1 \\end{bmatrix}\n",
        "= A. \\checkmark\n",
        "$$\n",
        "</br>"
      ],
      "metadata": {
        "id": "1zu_dknphoC6"
      }
    },
    {
      "cell_type": "markdown",
      "source": [
        "#### 2.2.2 back substitution with LU factorization\n"
      ],
      "metadata": {
        "id": "p59qRI4opLJF"
      }
    },
    {
      "cell_type": "markdown",
      "source": [
        "$Ax = b \\Rightarrow LUx = b$. let $c = Ux$. then back substitution becomes\n",
        "</br></br>\n",
        "\n",
        "a) solve $Lc = b$ for $c$;\n",
        "</br>\n",
        "b) solve $Ux = c$ for $x$.\n",
        "</br>\n"
      ],
      "metadata": {
        "id": "D7B2KJfJpO1F"
      }
    },
    {
      "cell_type": "markdown",
      "source": [
        "#### 2.2.3 complexity of LU factorization\n"
      ],
      "metadata": {
        "id": "ljkpuAJzq2J6"
      }
    },
    {
      "cell_type": "markdown",
      "source": [
        "why do this? bc classical guassian elimination includes vector $b_n$ in forward elimination, the more expensive part of the process. if $n$ is large, that cost is significant.\n",
        "</br>\n"
      ],
      "metadata": {
        "id": "9_Ppuw3gq0jI"
      }
    },
    {
      "cell_type": "markdown",
      "source": [
        "### 2.3 error\n"
      ],
      "metadata": {
        "id": "QNFLrgAqsRFL"
      }
    },
    {
      "cell_type": "markdown",
      "source": [
        "beware poorly conditioned coefficient matrices; beware swamping.\n",
        "</br>\n"
      ],
      "metadata": {
        "id": "0_q9KlKnv6mQ"
      }
    },
    {
      "cell_type": "markdown",
      "source": [
        "#### 2.3.1 error magnification and condition number\n"
      ],
      "metadata": {
        "id": "6hKiMR5IsUNj"
      }
    },
    {
      "cell_type": "markdown",
      "source": [
        "<b><font color=grey>def 2.3</font></b> <b>infinity norm</b> of $\\vec{x}, ||x||_{\\infty} = \\text{max} |x_i|, i = 1,\\dots,n$.\n",
        "</br></br>\n",
        "\n",
        "<b><font color=grey>def 2.4</font></b> let $x_a$ be approximate solution of linear system $Ax = b$. then <b>residual</b> $\\vec{r} = b-Ax_a$. <b>backward error</b> $= ||b-Ax_a||_{\\infty}$ and <b>forward error</b> $=||x-x_a||_{\\infty} \\sim$ bc this is root-finding.\n",
        "</br>\n"
      ],
      "metadata": {
        "id": "t40BfzqlwOnf"
      }
    },
    {
      "cell_type": "markdown",
      "source": [
        "##### rant\n"
      ],
      "metadata": {
        "id": "qU467Rm8vZlr"
      }
    },
    {
      "cell_type": "markdown",
      "source": [
        "\n",
        "so. if you math kids go to the dark side and work as or for engineers, you might see some $y=f(x)$ or $g(x) = y-f(x)$ and maybe $g(x) = 0$. is input $x$? or is input $y$? and does that change if your overseer says its an [inverse problem](https://en.wikipedia.org/wiki/Inverse_problem)? your pack will let you know; if they dont, im sorry, but you work for [?!].\n",
        "</br>\n"
      ],
      "metadata": {
        "id": "it-NWakSwNy1"
      }
    },
    {
      "cell_type": "markdown",
      "source": [
        "##### ex 11\n"
      ],
      "metadata": {
        "id": "G_WGvthkyqvK"
      }
    },
    {
      "cell_type": "markdown",
      "source": [
        "calculate forward and backwards errors for approximate solution $x_a = [-1,3.0001]^T$ to system\n",
        "</br></br>\n",
        "\n",
        "\\begin{align}\n",
        "  x_1 + x_2 &= 2 \\\\\n",
        "  1.0001x_1 + x_2 &= 2.0001.\n",
        "\\end{align}\n",
        "</br>\n",
        "\n",
        "by gauss elimination, $x^* = [1,1]^T$. so\n",
        "</br></br>\n",
        "\n",
        "\\begin{align}\n",
        "  b-Ax_x &= \\begin{bmatrix} 2 \\\\ 2.0001 \\end{bmatrix} - \\begin{bmatrix} 1 & 1 \\\\ 1.0001 & 1 \\end{bmatrix}\\begin{bmatrix} -1 \\\\ 3.0001 \\end{bmatrix} = \\begin{bmatrix} -0.0001 \\\\ 0.0001 \\end{bmatrix} \\Rightarrow ||b-Ax_a||_{\\infty} = 0.0001 \\\\\n",
        "  \\\\\n",
        "  x-x_a &= \\begin{bmatrix} 1 \\\\ 1 \\end{bmatrix} - \\begin{bmatrix} -1 \\\\ -3.0001 \\end{bmatrix} = \\begin{bmatrix} 2 \\\\ -2.0001 \\end{bmatrix} \\Rightarrow ||x-x_a||_{\\infty} = 2.0001\n",
        "\\end{align}\n",
        "</br>\n"
      ],
      "metadata": {
        "id": "1B0oFyZ90BSk"
      }
    },
    {
      "cell_type": "markdown",
      "source": [
        "![ss_sauer2_02_f02.png](data:image/png;base64,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)"
      ],
      "metadata": {
        "id": "1ZhRP-1D8LOk"
      }
    },
    {
      "cell_type": "markdown",
      "source": [
        "###### lol"
      ],
      "metadata": {
        "id": "m33i8lRw8GkM"
      }
    },
    {
      "cell_type": "markdown",
      "source": [
        "its really too close together for me to zero in on.\n",
        "</br>\n"
      ],
      "metadata": {
        "id": "vqJ-XfH_liM2"
      }
    },
    {
      "cell_type": "code",
      "source": [
        "import matplotlib.pyplot as plt\n",
        "from mpl_toolkits.axes_grid1.inset_locator import zoomed_inset_axes\n",
        "from mpl_toolkits.axes_grid1.inset_locator import mark_inset\n",
        "\n",
        "#y1 = lambda x : 2 - x\n",
        "def y1(x):\n",
        "  n = len(x)\n",
        "  y = [0]*n\n",
        "  for i in range(len(x)):\n",
        "    y[i] = 2 - x[i]\n",
        "  return y\n",
        "#y2 = lambda x : 2.0001 - 1.00001*x\n",
        "def y2(x):\n",
        "  n = len(x)\n",
        "  y = [0]*n\n",
        "  for i in range(len(x)):\n",
        "    y[i] = 2.0001 - 1.0001*x[i]\n",
        "  return y\n",
        "\n",
        "xs = [-1,2]\n",
        "ys_1 = y1(xs)\n",
        "ys_2 = y2(xs)\n",
        "\n",
        "# plot, set data\n",
        "plt.scatter([1],[1],c=\"C0\",label=\"spot\")\n",
        "plt.plot(xs,ys_1,c=\"C1\",linestyle=\"--\",label=\"$y_1$\")\n",
        "plt.plot(xs,ys_2,c=\"C2\",linestyle=\"--\",label=\"$y_2$\")\n",
        "\n",
        "# plot, set style\n",
        "plt.grid()\n",
        "plt.title(\"example 11\")\n",
        "plt.legend(bbox_to_anchor=(1.02, 1), loc='upper left', borderaxespad=0)\n",
        "#plt.ylabel(\"\")\n",
        "#plt.xlabel(\"\")\n",
        "plt.axis([0.99999,1.00001,0.99999,1.00001])\n",
        "\n",
        "# plot, show\n",
        "plt.show()\n"
      ],
      "metadata": {
        "colab": {
          "base_uri": "https://localhost:8080/"
        },
        "id": "HhMTxIcy3DUf",
        "outputId": "be07db80-91de-42a7-af1b-30df232a1ed0"
      },
      "execution_count": null,
      "outputs": [
        {
          "output_type": "display_data",
          "data": {
            "text/plain": [
              "<Figure size 640x480 with 1 Axes>"
            ],
            "image/png": "[encoded data removed]"
          },
          "metadata": {}
        }
      ]
    },
    {
      "cell_type": "markdown",
      "source": [
        "##### usw\n"
      ],
      "metadata": {
        "id": "ApjmxGUZ8hdz"
      }
    },
    {
      "cell_type": "markdown",
      "source": [
        "that sort of thing happens when the approximation and the solution exist on nearly parallel lines.\n",
        "</br>\n"
      ],
      "metadata": {
        "id": "XNOsU9l58wjc"
      }
    },
    {
      "cell_type": "markdown",
      "source": [
        "also, the relative errors,\n",
        "</br></br>\n",
        "\n",
        "$$\\text{relative backward }=\\frac{||r||_{\\infty}}{||b||_{\\infty}}, \\text{relative forward} =\\frac{||x-x_a||_{\\infty}}{||x||_{\\infty}}.$$\n",
        "</br>\n",
        "\n",
        "<b>error magnification</b> $= \\frac{\\text{relative forward}}{\\text{relative backward}} = \\frac{\\frac{||x-x_a||_{\\infty}}{||x||_{\\infty}}}{\\frac{||r||_{\\infty}}{||b||_{\\infty}}}$.\n",
        "</br>\n"
      ],
      "metadata": {
        "id": "Mddss0L59GTD"
      }
    },
    {
      "cell_type": "markdown",
      "source": [
        "for example 11, error magnifcation $= \\frac{\\frac{2.0001}{1}}{\\frac{0.0001}{2.0001}} \\approx \\frac{200\\%}{0.005\\%} = 40004.0001 = $ LOL.\n",
        "</br>\n"
      ],
      "metadata": {
        "id": "l-DINoUG_cIv"
      }
    },
    {
      "cell_type": "markdown",
      "source": [
        "<b><font color=grey>def 2.5</font></b> <b>condition number</b> of square matrix $A$, <b>cond</b>(A) is maximum possible error magnification factor for solving $Ax=b$ over all RHS $b$.\n",
        "</br></br>\n",
        "\n",
        "<b>matrix norm</b> of $A_{n\\times n}$: $||A||_{\\infty} =$ maximum absolute row sum. ie, total absolute values of each row, assign maximum of these $n$ numbers to be norm of $A$.\n",
        "</br>\n"
      ],
      "metadata": {
        "id": "aRy-HO3k_hoo"
      }
    },
    {
      "cell_type": "markdown",
      "source": [
        "<b><font color=grey>th 2.6</font></b> condition number of $n\\times n$ matrix $A$ is\n",
        "</br></br>\n",
        "\n",
        "$$\\text{cond}(A) = ||A||\\cdot||A^{-1}||.$$\n",
        "</br>\n"
      ],
      "metadata": {
        "id": "m0AbIhoZAv95"
      }
    },
    {
      "cell_type": "markdown",
      "source": [
        "for example 11,\n",
        "</br></br>\n",
        "\n",
        "\\begin{align}\n",
        "  ||A|| &= 2.0001 \\\\\n",
        "  \\\\\n",
        "  A^{-1} &= \\begin{bmatrix} -10000 & 10000 \\\\ 10001 & -10000 \\end{bmatrix} \\\\\n",
        "  &\\Downarrow \\\\\n",
        "  ||A^{-1}|| &= 20001 \\\\\n",
        "  &\\Downarrow \\\\\n",
        "  \\text{cond}(A) &= (2.0001)(20001) = 40004.0001 = \\text{error magnification}.\n",
        "\\end{align}\n",
        "</br>\n"
      ],
      "metadata": {
        "id": "wkVt8-oABSxR"
      }
    },
    {
      "cell_type": "markdown",
      "source": [
        "#### 2.3.2 swamping\n"
      ],
      "metadata": {
        "id": "opdlvE1IDmkb"
      }
    },
    {
      "cell_type": "markdown",
      "source": [
        "##### ex 13\n"
      ],
      "metadata": {
        "id": "SpDllgwYDpys"
      }
    },
    {
      "cell_type": "markdown",
      "source": [
        "consider system of equations\n",
        "</br></br>\n",
        "\n",
        "\\begin{align}\n",
        "  10^{-20}x_1 + x_2 &= 1 \\\\\n",
        "  x_1 + 2x_2 &= 4.\n",
        "\\end{align}\n",
        "</br>\n"
      ],
      "metadata": {
        "id": "Vj9UL1naDx_c"
      }
    },
    {
      "cell_type": "markdown",
      "source": [
        "a) human flywheel\n",
        "</br></br>\n",
        "\n",
        "\\begin{align}\n",
        "  \\begin{bmatrix} 10^{-20} & 1 & | & 1 \\\\ 1 & 2 & | & 4 \\end{bmatrix}\n",
        "  &\\xrightarrow{\\text{subtract }10^{20}\\times\\text{row 1}\\text{ from row 2}}\n",
        "  \\begin{bmatrix} 10^{-20} & 1 & | & 1 \\\\ 0 & 2-10^{20} & | & 4-10^{20} \\end{bmatrix} \\\\\n",
        "  \\\\\n",
        "  &\\quad\\Downarrow \\\\ \\\\\n",
        "\\end{align}\n",
        "\\begin{align}\n",
        "  \\left.\\begin{array}{cl}\n",
        "  (2-10^{20})x_2 = 4-10^{20} &\\Rightarrow x_2 = \\frac{4-10^{20}}{2 - 10^{20}} \\\\\n",
        "  10^{-20}x_1 + \\frac{4-10^{20}}{2 - 10^{20}} = 1 &\\Rightarrow x_1 = 10^{20}\\left( 1 - \\frac{4-10^{20}}{2 - 10^{20}} \\right) = \\frac{-2\\times 10^20}{2-10^{20}}\n",
        "  \\end{array} \\quad\\right\\}\\quad \\Rightarrow\\quad\n",
        "  [x_1,x_2] \\approx [2,1].\n",
        "\\end{align}\n",
        "</br>\n"
      ],
      "metadata": {
        "id": "pNgFaK4SE-3N"
      }
    },
    {
      "cell_type": "markdown",
      "source": [
        "b) breaking the machine\n",
        "</br></br>\n",
        "\n",
        "with IEEE double precision,\n",
        "</br></br>\n",
        "\n",
        "\\begin{align}\n",
        "  \\begin{bmatrix} 10^{-20} & 1 & | & 1 \\\\ 1 & 2 & | & 4 \\end{bmatrix}\n",
        "  &\\rightarrow\n",
        "  \\begin{bmatrix} 10^{-20} & 1 & | & 1 \\\\ 0 & 2-10^{20} & | & 4-10^{20} \\end{bmatrix}\n",
        "  \\xrightarrow{2,4 \\text{ vs }10^{20} \\text {, lost to rounding}}\n",
        "  \\begin{bmatrix} 10^{-20} & 1 & | & 1 \\\\ 0 & -10^{20} & | & -10^{20} \\end{bmatrix}\n",
        "  \\\\ \\\\\n",
        "  &\\qquad\\qquad\\Downarrow \\\\ \\\\\n",
        "\\end{align}\n",
        "\\begin{align}\n",
        "  \\left.\\begin{array}{cl}\n",
        "  -10^{20}x_2 = -10^{20} &\\Rightarrow x_2 = 1 \\\\\n",
        "  10^{-20}x_1 + 1 = 1 &\\Rightarrow x_1 = 0 \\\\\n",
        "  \\end{array} \\quad\\right\\} \\quad\\Rightarrow\\quad\n",
        "  [x_1,x_2] = [0,1].\n",
        "\\end{align}\n",
        "</br>\n"
      ],
      "metadata": {
        "id": "HQFkaM5TKp7a"
      }
    },
    {
      "cell_type": "markdown",
      "source": [
        "c) compensating\n",
        "</br></br>\n",
        "\n",
        "with IEEE double precision and row exchange,\n",
        "</br></br>\n",
        "\n",
        "\\begin{align}\n",
        "  \\begin{bmatrix} 1 & 2 & | & 4 \\\\ 10^{-20} & 1 & | & 1 \\end{bmatrix}\n",
        "  \\xrightarrow{\\text{subtract }10^{-20}\\times \\text{ row 1 from row 2}}\n",
        "  &\\begin{bmatrix} 1 & 2 & | & 4 \\\\ 0 & 1-2\\times 10^{-20} & | & 1-4\\times 10^{-20} \\end{bmatrix}\n",
        "  \\xrightarrow{\\text{rounding}}\n",
        "  \\begin{bmatrix} 1 & 2 & | & 4 \\\\ 0 & 1 & | & 1 \\end{bmatrix}\n",
        "  \\\\ \\\\\n",
        "  &\\quad\\Downarrow \\\\ \\\\\n",
        "\\end{align}\n",
        "\\begin{align}\n",
        "  \\left.\\begin{array}{cl}\n",
        "  x_1 + 2x_2 = 4 &\\Rightarrow x_1 = 2 \\\\\n",
        "  x_2 = 1 &\\Rightarrow x_2 = 1 \\\\\n",
        "  \\end{array} \\quad\\right\\} \\quad\\Rightarrow\\quad\n",
        "  [x_1,x_2] = [2,1] \\text{ to about 16 significant digits}.\n",
        "\\end{align}\n",
        "</br>\n"
      ],
      "metadata": {
        "id": "IWykGIdgK5N0"
      }
    },
    {
      "cell_type": "markdown",
      "source": [
        "ie, for gauss elimination, multipliers should be kept as small to avoid swamping.\n",
        "</br>\n"
      ],
      "metadata": {
        "id": "QIKg0PrrSyRV"
      }
    },
    {
      "cell_type": "markdown",
      "source": [
        "### 2.4 PA-LU factorization\n"
      ],
      "metadata": {
        "id": "O_ZNLGToTlhz"
      }
    },
    {
      "cell_type": "markdown",
      "source": [
        "gauss so far has been \"naive\" bc it doesnt do much about zeros on the diagonal and theres that swamping thing. moving stuff around helps.\n",
        "</br>\n"
      ],
      "metadata": {
        "id": "AHc4FUa2UfNN"
      }
    },
    {
      "cell_type": "markdown",
      "source": [
        "#### 2.4.1 partial pivoting\n"
      ],
      "metadata": {
        "id": "Dfkm3xkzUZ1d"
      }
    },
    {
      "cell_type": "markdown",
      "source": [
        "<b>partial pivoting</b> refers to comparing numbers before each elimination step and swapping the row with the larger first entry towards the top.\n",
        "</br></br>\n",
        "\n",
        "ie, select $p$th row, where\n",
        "</br></br>\n",
        "\n",
        "$$|a_{p1}| \\ge |a_{i1}|$$\n",
        "</br>\n",
        "\n",
        "for all $1\\le i\\le n$ and exchange rows $1$ and $p$. then use the new $a_{11}$ to eliminate column $1$ as usual. ie,\n",
        "</br></br>\n",
        "\n",
        "$$m_{i1} = \\frac{a_{i1}}{a_{11}} \\text{ and } |m_{i1}| \\le 1.$$\n",
        "</br>\n",
        "\n",
        "apply same to every pivot during the algorithm. when deciding the second pivot, $a_{22}$ will be compared with entries lower than it,\n",
        "</br></br>\n",
        "\n",
        "$$|a_{p2}| \\ge |a_{i2}|$$\n",
        "</br>\n",
        "\n",
        "for all $2\\le i\\le n$ and exchange rows $2$ and $p$. then use the new $a_{22}$ to eliminate column $2$ as usual.\n",
        "</br></br>\n",
        "\n",
        "und so weiter.\n",
        "</br>\n"
      ],
      "metadata": {
        "id": "YJpVbrWLUt2c"
      }
    },
    {
      "cell_type": "markdown",
      "source": [
        "##### ex 15\n"
      ],
      "metadata": {
        "id": "B2FNAofaXbIV"
      }
    },
    {
      "cell_type": "markdown",
      "source": [
        "apply gaussian elimination with partial pivoting to system\n",
        "</br></br>\n",
        "\n",
        "\\begin{align}\n",
        "  x_1 - x_2 + 3x_3 &= -3 \\\\\n",
        "  -x_1 - 2x_3 &= 1 \\\\\n",
        "  2x_1 + 2x_2 + 4x_3 = 0.\n",
        "\\end{align}\n",
        "</br>\n"
      ],
      "metadata": {
        "id": "lAcW5I9lbOPC"
      }
    },
    {
      "cell_type": "markdown",
      "source": [
        "\\begin{align}\n",
        "  &\\begin{bmatrix}\n",
        "    1 & -1 & 3 & | & -3 \\\\\n",
        "    -1 & 0 & -2 & | & 1 \\\\\n",
        "    2 & 2 & 4 & | & 0\n",
        "  \\end{bmatrix}\n",
        "  &\\xrightarrow{\\text{swap row 1 with row 3}}\n",
        "  &\\begin{bmatrix}\n",
        "    2 & 2 & 4 & | & 0 \\\\\n",
        "    -1 & 0 & -2 & | & 1 \\\\\n",
        "    1 & -1 & 3 & | & -3\n",
        "  \\end{bmatrix} \\\\ \\\\\n",
        "  &&\\xrightarrow{\\text{subtract }-\\frac{1}{2}\\times \\text{row 1 with row 2}}\n",
        "  &\\begin{bmatrix}\n",
        "    2 & 2 & 4 & | & 0 \\\\\n",
        "    0 & 1 & 0 & | & 1 \\\\\n",
        "    1 & -1 & 3 & | & -3\n",
        "  \\end{bmatrix} \\\\ \\\\\n",
        "  &&\\xrightarrow{\\text{subtract }\\frac{1}{2}\\times \\text{row 1 with row 3}}\n",
        "  &\\begin{bmatrix}\n",
        "    2 & 2 & 4 & | & 0 \\\\\n",
        "    0 & 1 & 0 & | & 1 \\\\\n",
        "    0 & -2 & 1 & | & -3\n",
        "  \\end{bmatrix} \\\\ \\\\\n",
        "  \\\\\n",
        "  &\\begin{bmatrix}\n",
        "    2 & 2 & 4 & | & 0 \\\\\n",
        "    0 & 1 & 0 & | & 1 \\\\\n",
        "    0 & -2 & 1 & | & -3\n",
        "  \\end{bmatrix}\n",
        "  &\\xrightarrow{\\text{swap row 2 with row 3}}\n",
        "  &\\begin{bmatrix}\n",
        "    2 & 2 & 4 & | & 0 \\\\\n",
        "    0 & -2 & 1 & | & -3 \\\\\n",
        "    0 & 1 & 0 & | & 1\n",
        "  \\end{bmatrix} \\\\ \\\\\n",
        "  &&\\xrightarrow{\\text{subtract }-\\frac{1}{2}\\times \\text{row 2 with row 3}}\n",
        "  &\\begin{bmatrix}\n",
        "    2 & 2 & 4 & | & 0 \\\\\n",
        "    0 & -2 & 1 & | & -3 \\\\\n",
        "    0 & 0 & \\frac{1}{2} & | & -\\frac{1}{2}\n",
        "  \\end{bmatrix} \\\\\n",
        "\\end{align}\n",
        "</br>\n",
        "\n",
        "\n",
        "\n"
      ],
      "metadata": {
        "id": "y2pBimPKXc6u"
      }
    },
    {
      "cell_type": "markdown",
      "source": [
        "note: all three multipliers are less than 1 in absolute value.\n",
        "</br></br>\n",
        "\n",
        "$$\n",
        "\\left.\n",
        "\\begin{align}\n",
        "  \\frac{1}{2}x_3 &= -\\frac{1}{2} \\\\\n",
        "  -2x_2 + x_3 &= -3 \\\\\n",
        "  2x_1 + 2x_2 + 4x_3 &= 0.\n",
        "\\end{align}\n",
        "\\quad\\right\\}\\quad \\Rightarrow x=[1,1,-1]^T.\n",
        "$$\n",
        "</br>\n"
      ],
      "metadata": {
        "id": "KbHI118xbQZb"
      }
    },
    {
      "cell_type": "markdown",
      "source": [
        "#### 2.4.2 permuation matrices\n"
      ],
      "metadata": {
        "id": "jrsXZboIcPAD"
      }
    },
    {
      "cell_type": "markdown",
      "source": [
        "<b><font color=grey>permutation matrix</font></b> is $n\\times n$ matrix of all zeros except for a single 1 in every row and column.\n",
        "</br>\n"
      ],
      "metadata": {
        "id": "PK16mZTrcR36"
      }
    },
    {
      "cell_type": "markdown",
      "source": [
        "##### <b><font color=grey>th 2.8</font></b> <b>fundamental theorem of permutation matrices</b>\n"
      ],
      "metadata": {
        "id": "xHxP3lEScsmE"
      }
    },
    {
      "cell_type": "markdown",
      "source": [
        "let $P$ be $n\\times n$ permutation matrix formed by a particular set of row exchanges applied to the identity matrix. then for any $n\\times n$ matrix $A$, $PA$ is the matrix obtained by applied exactly the same set of row exchanges to $A$.\n",
        "</br>\n"
      ],
      "metadata": {
        "id": "1R2wsYDXc10l"
      }
    },
    {
      "cell_type": "markdown",
      "source": [
        "##### usw\n"
      ],
      "metadata": {
        "id": "qdqA8g8wdT8f"
      }
    },
    {
      "cell_type": "markdown",
      "source": [
        "eg, permutation matrix\n",
        "</br></br>\n",
        "\n",
        "\\begin{align}\n",
        "  \\begin{bmatrix} 1 & 0 & 0 \\\\ 0 & 0 & 1 \\\\ 0 & 1 & 0 \\end{bmatrix}\n",
        "\\end{align}\n",
        "</br>\n",
        "\n",
        "is formed by exchanging rows 2 and 3 of the identity matrix. applying it to another matrix is the same as applying the same row swaps,\n",
        "</br></br>\n",
        "\n",
        "\\begin{align}\n",
        "  \\begin{bmatrix} 1 & 0 & 0 \\\\ 0 & 0 & 1 \\\\ 0 & 1 & 0 \\end{bmatrix}\n",
        "  \\begin{bmatrix} a & b & c \\\\ d & e & f \\\\ g & h & i \\end{bmatrix}\n",
        "  =\n",
        "  \\begin{bmatrix} a & b & c \\\\ g & h & i \\\\ d & e & f \\end{bmatrix}\n",
        "  .\n",
        "\\end{align}\n",
        "</br>\n"
      ],
      "metadata": {
        "id": "yrAKblHGdXdE"
      }
    },
    {
      "cell_type": "markdown",
      "source": [
        "#### 2.4.3 PA=LU factorization\n"
      ],
      "metadata": {
        "id": "5Xn_nNNBe6MF"
      }
    },
    {
      "cell_type": "markdown",
      "source": [
        "the sum of gaussian elimination, hooray.\n",
        "</br></br>\n",
        "\n",
        "</however>\n",
        "</br></br>\n"
      ],
      "metadata": {
        "id": "ib-QE7qWgRdH"
      }
    },
    {
      "cell_type": "markdown",
      "source": [
        "##### ex 16\n"
      ],
      "metadata": {
        "id": "1qgD2CcshQuK"
      }
    },
    {
      "cell_type": "markdown",
      "source": [
        "find PA=LU factorization of matrix\n",
        "</br></br>\n",
        "\n",
        "\\begin{align}\n",
        "  A =\n",
        "  &\\begin{bmatrix} 2 & 1 & 5 \\\\ 4 & 4 & -4 \\\\ 1 & 3 & 1 \\end{bmatrix}\n",
        "  &\\Rightarrow PA = LU\n",
        "  \\qquad\\qquad\\qquad\\qquad\\qquad\\qquad\\qquad\n",
        "  \\\\ \\\\ \\\\\n",
        "  IA=\n",
        "  \\begin{bmatrix} 1 & 0 & 0 \\\\ 0 & 1 & 0 \\\\ 0 & 0 & 1 \\end{bmatrix}\n",
        "  &\\begin{bmatrix} 2 & 1 & 5 \\\\ 4 & 4 & -4 \\\\ 1 & 3 & 1 \\end{bmatrix}\n",
        "  &\\xrightarrow{\\text{swap row 1 with row 2}}\n",
        "  \\begin{bmatrix} 0 & 1 & 0 \\\\ 1 & 0 & 0 \\\\ 0 & 0 & 1 \\end{bmatrix}\n",
        "  \\begin{bmatrix} 2 & 1 & 5 \\\\ 4 & 4 & -4 \\\\ 1 & 3 & 1 \\end{bmatrix}\n",
        "  =\n",
        "  \\begin{bmatrix} 4 & 4 & -4 \\\\ 2 & 1 & 5 \\\\ 1 & 3 & 1 \\end{bmatrix}\n",
        "  &\\sim P_1A = A_1\n",
        "  \\\\ \\\\ \\\\\n",
        "  &&\\xrightarrow{\\text{mod row 2 with row 1}}\n",
        "  \\begin{bmatrix} 4 & 4 & -4 \\\\ \\color{red}{\\frac{1}{2}} & -1 & 7 \\\\ 1 & 3 & 1 \\end{bmatrix}\n",
        "  \\sim\n",
        "  \\begin{bmatrix} 1 & 0 & 0 \\\\ \\color{red}{\\frac{1}{2}} & 1 & 0 \\\\ 0 & 0 & 1 \\end{bmatrix}\n",
        "  \\begin{bmatrix} 4 & 4 & -4 \\\\ 0 & -1 & 7 \\\\ 1 & 3 & 1 \\end{bmatrix}\n",
        "  &\\sim L_1U_1\n",
        "  \\\\ \\\\\n",
        "  &&\\xrightarrow{\\text{mod row 3 with row 1}}\n",
        "  \\begin{bmatrix} 4 & 4 & -4 \\\\ \\color{red}{\\frac{1}{2}} & -1 & 7 \\\\ \\color{blue}{\\frac{1}{4}} & 2 & 2 \\end{bmatrix}\n",
        "  \\sim\n",
        "  \\begin{bmatrix} 1 & 0 & 0 \\\\ \\color{red}{\\frac{1}{2}} & 1 & 0 \\\\ \\color{blue}{\\frac{1}{4}} & 0 & 1 \\end{bmatrix}\n",
        "  \\begin{bmatrix} 4 & 4 & -4 \\\\ 0 & -1 & 7 \\\\ 0 & 2 & 2 \\end{bmatrix}\n",
        "  &\\sim L_2U_2\n",
        "  \\\\ \\\\ \\\\\n",
        "  P_1A =\n",
        "  \\begin{bmatrix} 0 & 1 & 0 \\\\ 1 & 0 & 0 \\\\ 0 & 0 & 1 \\end{bmatrix}\n",
        "  &\\begin{bmatrix} 2 & 1 & 5 \\\\ 4 & 4 & -4 \\\\ 1 & 3 & 1 \\end{bmatrix}\n",
        "  &\\xrightarrow{\\text{swap row 2 with row 3}}\n",
        "  \\begin{bmatrix} 0 & 1 & 0 \\\\ 0 & 0 & 1 \\\\ 1 & 0 & 0 \\end{bmatrix}\n",
        "  \\begin{bmatrix} 2 & 1 & 5 \\\\ 4 & 4 & -4 \\\\ 1 & 3 & 1 \\end{bmatrix}\n",
        "  =\n",
        "  \\begin{bmatrix} 4 & 4 & -4 \\\\ 1 & 3 & 1 \\\\ 2 & 1 & 5 \\end{bmatrix}\n",
        "  &\\sim P_2A = PA = A_2\n",
        "  \\\\ \\\\ \\\\\n",
        "  L_2U_2 =\n",
        "  \\begin{bmatrix} 1 & 0 & 0 \\\\ \\color{red}{\\frac{1}{2}} & 1 & 0 \\\\ \\color{blue}{\\frac{1}{4}} & 0 & 1 \\end{bmatrix}\n",
        "  \\begin{bmatrix} 4 & 4 & -4 \\\\ 0 & -1 & 7 \\\\ 0 & 2 & 2 \\end{bmatrix}\n",
        "  \\sim\n",
        "  &\\begin{bmatrix} 4 & 4 & -4 \\\\ \\color{red}{\\frac{1}{2}} & -1 & 7 \\\\ \\color{blue}{\\frac{1}{4}} & 2 & 2 \\end{bmatrix}\n",
        "  &\\xrightarrow{\\text{swap row 2 with row 3}}\n",
        "  \\begin{bmatrix} 4 & 4 & -4 \\\\ \\color{blue}{\\frac{1}{4}} & 2 & 2 \\\\ \\color{red}{\\frac{1}{2}} & -1 & 7 \\end{bmatrix}\n",
        "  \\sim\n",
        "  \\begin{bmatrix} 1 & 0 & 0 \\\\ \\color{blue}{\\frac{1}{4}} & 1 & 0 \\\\ \\color{red}{\\frac{1}{2}} & 0 & 1 \\end{bmatrix}\n",
        "  \\begin{bmatrix} 4 & 4 & -4 \\\\ 0 & 2 & 2 \\\\ 0 & -1 & 7 \\end{bmatrix}\n",
        "  &\\sim L_3U_3\n",
        "  \\\\ \\\\\n",
        "  &&\\xrightarrow{\\text{mod row 3 with row 2}}\n",
        "  \\begin{bmatrix} 4 & 4 & -4 \\\\ \\color{blue}{\\frac{1}{4}} & 2 & 2 \\\\ \\color{red}{\\frac{1}{2}} & \\color{orange}{-\\frac{1}{2}} & 2 \\end{bmatrix}\n",
        "  \\sim\n",
        "  \\begin{bmatrix} 1 & 0 & 0 \\\\ \\color{blue}{\\frac{1}{4}} & 1 & 0 \\\\ \\color{red}{\\frac{1}{2}} & \\color{orange}{-\\frac{1}{2}} & 1 \\end{bmatrix}\n",
        "  \\begin{bmatrix} 4 & 4 & -4 \\\\ 0 & 2 & 2 \\\\ 0 & 0 & 8 \\end{bmatrix}\n",
        "  &\\sim L_4U_4 = LU\n",
        "\\end{align}\n",
        "</br>\n",
        "\n",
        "\n"
      ],
      "metadata": {
        "id": "UPiNItqDhTG4"
      }
    },
    {
      "cell_type": "markdown",
      "source": [
        "##### usw\n"
      ],
      "metadata": {
        "id": "RgtaUI3Opwnm"
      }
    },
    {
      "cell_type": "markdown",
      "source": [
        "the LU factorization for PA=LU now becomes,\n",
        "</br></br>\n",
        "\n",
        "$$\n",
        "\\left.\n",
        "  \\begin{array}{cl}\n",
        "    PAx &= Pb \\\\\n",
        "    LUx &= Pb\n",
        "  \\end{array}\n",
        "\\quad\\right\\}\\quad\n",
        "\\xrightarrow{solve} \\quad\\quad\n",
        "\\begin{array}{cl}\n",
        "  \\text{1. }& Lc = Pb \\text{ for } c \\\\\n",
        "  \\text{2. }& Ux = c \\text{ for } x.\n",
        "\\end{array}\n",
        "$$\n",
        "</br>\n"
      ],
      "metadata": {
        "id": "kMlLSDZxpp4U"
      }
    },
    {
      "cell_type": "markdown",
      "source": [
        "##### ex 17\n"
      ],
      "metadata": {
        "id": "wZI_8JPRpfIM"
      }
    },
    {
      "cell_type": "markdown",
      "source": [
        "use PA=LU factorization to solve system $Ax = b$, where\n",
        "</br></br>\n",
        "\n",
        "$$\n",
        "A = \\begin{bmatrix} 2 & 1 & 5 \\\\ 4 & 4 & -4 \\\\ 1 & 3 & 1 \\end{bmatrix},\n",
        "b = \\begin{bmatrix} 5 \\\\ 0 \\\\ 6 \\end{bmatrix}.\n",
        "$$"
      ],
      "metadata": {
        "id": "_AcMGjJIpnFc"
      }
    },
    {
      "cell_type": "markdown",
      "source": [
        "1. solve $Lc = Pb$,\n",
        "</br></br>\n",
        "\n",
        "\\begin{align}\n",
        "  \\begin{bmatrix}\n",
        "    1 & 0 & 0 \\\\\n",
        "    \\frac{1}{4} & 1 & 0 \\\\\n",
        "    \\frac{1}{2} & -\\frac{1}{2} & 1\n",
        "  \\end{bmatrix}\n",
        "  \\begin{bmatrix} c_1 \\\\ c_2 \\\\ c_3 \\end{bmatrix}\n",
        "  =\n",
        "  \\begin{bmatrix} 0 & 1 & 0 \\\\ 0 & 0 & 1 \\\\ 1 & 0 & 0 \\end{bmatrix}\n",
        "  \\begin{bmatrix} 5 \\\\ 0 \\\\ 6 \\end{bmatrix}\n",
        "  =\n",
        "  \\begin{bmatrix} 0 \\\\ 6 \\\\ 5 \\end{bmatrix}\n",
        "\\end{align}\n",
        "</br>\n",
        "\n",
        "starting at the top,\n",
        "</br></br>\n",
        "\n",
        "$$\n",
        "\\left.\n",
        "\\begin{array}{rl}\n",
        "  c_1 &= 0 \\\\\n",
        "  \\frac{1}{4}(0) + c_2 &= 6 \\Rightarrow c_2 = 6 \\\\\n",
        "  \\frac{1}{2}(0) - \\frac{1}{2}(6) + c_3 &= 5 \\Rightarrow c_3 = 8\n",
        "\\end{array}\n",
        "\\right.\n",
        "\\quad\\Rightarrow\\quad c=[0,6,8]^T.\n",
        "$$\n",
        "</br>\n",
        "\n",
        "2. solve $Ux = c$,\n",
        "</br></br>\n",
        "\n",
        "\\begin{align}\n",
        "  \\begin{bmatrix}\n",
        "    4 & 4 & -4 \\\\\n",
        "    0 & 2 & 2 \\\\\n",
        "    0 & 0 & 8\n",
        "  \\end{bmatrix}\n",
        "  \\begin{bmatrix} x_1 \\\\ x_2 \\\\ x_3 \\end{bmatrix}\n",
        "  =\n",
        "  \\begin{bmatrix} 0 \\\\ 6 \\\\ 8 \\end{bmatrix}\n",
        "\\end{align}\n",
        "</br>\n",
        "\n",
        "starting at the bottom,\n",
        "</br></br>\n",
        "\n",
        "$$\n",
        "\\left.\n",
        "\\begin{array}{rl}\n",
        "  8x_3 &= 8 \\Rightarrow x_3 = 1 \\\\\n",
        "  2x_2 + 2(1) &= 6 \\Rightarrow x_2 = 2 \\\\\n",
        "  4x_1 + 4(2) - 4(1) &= 0 \\Rightarrow x_1 = -1\n",
        "\\end{array}\n",
        "\\right.\n",
        "\\quad\\Rightarrow\\quad x=[-1,2,1]^T.\n",
        "$$\n",
        "</br>\n",
        "\n"
      ],
      "metadata": {
        "id": "mIh-05ZBr1du"
      }
    },
    {
      "cell_type": "markdown",
      "source": [
        "</br></br></br></br></br>\n",
        "</br></br></br></br></br>\n",
        "colab, alles ausdrucken, bitte.\n",
        "</br>\n"
      ],
      "metadata": {
        "id": "sxuTHZuhrUlk"
      }
    }
  ]
}