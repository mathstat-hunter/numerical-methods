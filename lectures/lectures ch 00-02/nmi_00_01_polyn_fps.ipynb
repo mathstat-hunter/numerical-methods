{
  "nbformat": 4,
  "nbformat_minor": 0,
  "metadata": {
    "colab": {
      "provenance": [],
      "collapsed_sections": [
        "aDslT6Zzktrb",
        "1gqT0w1RkjDE",
        "bigzykE5lfge",
        "o7n6H3CRo2l0",
        "gwRj8270OHJJ",
        "Gsdou6mKQodM",
        "etgeus5kS7JV",
        "p_ni7XMKTLv_",
        "IonEoUCRVoKa",
        "q_fgAnrncPkR",
        "m3MqYbHJjzIb",
        "iQUJsoG6Jaqh",
        "blM51WyDLTV8",
        "dMawu0sUtweq",
        "d3Yc0kdytYBh",
        "UypQFEoh2ONB",
        "HpEhFSm17ISj",
        "AvNr1Nv4L1Cc",
        "SVjKIBFcit_P"
      ]
    },
    "kernelspec": {
      "name": "python3",
      "display_name": "Python 3"
    },
    "language_info": {
      "name": "python"
    }
  },
  "cells": [
    {
      "cell_type": "markdown",
      "source": [
        "# 00.01 basics: polynomials & floating-point\n"
      ],
      "metadata": {
        "id": "kx8DspCU7TM2"
      }
    },
    {
      "cell_type": "markdown",
      "source": [
        "## 00 numerical methods\n"
      ],
      "metadata": {
        "id": "aDslT6Zzktrb"
      }
    },
    {
      "cell_type": "markdown",
      "source": [
        "<b>numerical methods</b>, as distinguished from other branches of mathematics and from computer science,\n",
        "</br></br>\n",
        "\n",
        "1. work with arbitrary real numbers (including rational <b>approximations</b> of irrational number) and\n",
        "2. consider <b>cost</b> and\n",
        "3. consider <b>accuracy</b>.$^{[1]}$\n",
        "</br></br>\n",
        "\n",
        "<i>this class will provide another way to express, to extend your math.</i>\n",
        "</br>\n"
      ],
      "metadata": {
        "id": "ExMhkByPhnan"
      }
    },
    {
      "cell_type": "markdown",
      "source": [
        "numerical methods are the algorithms; <b>numerical analysis</b> is the study of their properties -- ie, accuracy, stability, convergence, efficiency, usw.\n",
        "</br>\n"
      ],
      "metadata": {
        "id": "Sk8R1ORFif8h"
      }
    },
    {
      "cell_type": "markdown",
      "source": [
        "## 01 polynomials\n"
      ],
      "metadata": {
        "id": "1gqT0w1RkjDE"
      }
    },
    {
      "cell_type": "markdown",
      "source": [
        "<i>The most fundamental operations of arithmetic are <b>addition</b> and <b>multiplication</b>. These are also the operations needed to evaluate a polynomial $p(x)$ at a particular value $x$. It is no coincidence that polynomials are the basic building blocks for many computational techniques we will construct.$^{[2]}$</i>\n",
        "</br>\n"
      ],
      "metadata": {
        "id": "MKJPQpxvkyAT"
      }
    },
    {
      "cell_type": "markdown",
      "source": [
        "### i) evaluation\n"
      ],
      "metadata": {
        "id": "bigzykE5lfge"
      }
    },
    {
      "cell_type": "markdown",
      "source": [
        "eg: $\\enspace p(x) = a_4x^4 + a_3x^3 + a_2x^2 + a_1x + a_0$.\n",
        "</br>\n",
        "\n"
      ],
      "metadata": {
        "id": "BQBRK1Q1qzeX"
      }
    },
    {
      "cell_type": "markdown",
      "source": [
        "with computational considerations:\n",
        "</br>\n",
        "\n",
        "1. <b>approximate</b> $p(x)$ at $x$ while\n",
        "2. minimizing <b>operations</b> and\n",
        "3. maximizing <b>accuracy</b>.\n",
        "</br>\n"
      ],
      "metadata": {
        "id": "8qm9uBPyl90X"
      }
    },
    {
      "cell_type": "markdown",
      "source": [
        "* method 1, step individually:\n",
        "</br></br>\n",
        "\n",
        "$p(x) = a_4\\times x\\times x\\times x\\times x + a_3\\times x\\times x\\times x + a_2\\times x\\times x + a_1\\times x + a_0 \\mapsto 14$ operations.\n",
        "</br></br>\n",
        "\n",
        "* method 2, cache and reuse:\n",
        "</br></br>\n",
        "\n",
        "$x_2 = x\\times x, x_3 = x_2\\times x, x_4 = x_3\\times x \\mapsto 3$ operations;\n",
        "</br>\n",
        "$p_4 = a_4\\times x_4, p_3 = a_x\\times x_3, p_2 = a_2\\times x_2, p_1 = a_1\\times x_1 \\mapsto 4$ operations;\n",
        "</br>\n",
        "$p(x) = p_4 + p_3 + p_2 + p_1 + a_0 \\mapsto 4$ ops $\\mapsto 11$ operations total.\n",
        "</br></br>\n",
        "\n",
        "* method 3, nested multiplication ([horners method](https://en.wikipedia.org/wiki/Horner%27s_method)):\n",
        "</br></br>\n",
        "\n",
        "$p(x) = (((a_4\\times x + a_3)\\times x + a_2)\\times x + a_1)\\times x + a_0 \\mapsto 8$ operations.\n",
        "</br>\n"
      ],
      "metadata": {
        "id": "eMP7mgtmmPpW"
      }
    },
    {
      "cell_type": "markdown",
      "source": [
        "## 02 binary notation"
      ],
      "metadata": {
        "id": "o7n6H3CRo2l0"
      }
    },
    {
      "cell_type": "markdown",
      "source": [
        "<b>binary notation:</b> $\\quad\\dots b_2b_1b_0.b_{-1}b_{-2} \\dots$.\n",
        "</br>\n"
      ],
      "metadata": {
        "id": "FCkzHXpopvWz"
      }
    },
    {
      "cell_type": "markdown",
      "source": [
        "### i) conversion to decimal\n"
      ],
      "metadata": {
        "id": "gwRj8270OHJJ"
      }
    },
    {
      "cell_type": "markdown",
      "source": [
        "$$\n",
        "\\Rightarrow\n",
        "\\dots b_2\\times 2^2 + b_1\\times 2^1 + b_0\\times 2^0 + b_{-1}\\times 2^{-1} + b_{-2}\\times 2^{-2} \\dots\n",
        "$$"
      ],
      "metadata": {
        "id": "BQELP5krOJp_"
      }
    },
    {
      "cell_type": "markdown",
      "source": [
        "eg, $111.11_2$.\n",
        "</br>\n"
      ],
      "metadata": {
        "id": "85glnnrP6e-1"
      }
    },
    {
      "cell_type": "markdown",
      "source": [
        "\\begin{align}\n",
        "  \\text{integer:}&\\quad 1\\times 2^2 + 1\\times 2^1 = 4 + 2 + 1 = 7 \\\\\n",
        "  \\\\\n",
        "  \\text{fractional:}&\\quad 1\\times 2^{-1} + 1\\times 2^{-2} = \\tfrac{1}{2} + \\tfrac{1}{4} = \\tfrac{3}{4} \\\\\n",
        "  \\\\\n",
        "  &\\quad\\Downarrow \\\\\n",
        "  \\\\\n",
        "  111.11_2 &= 7_{10} + (\\tfrac{3}{4})_{10} = 7.75_{10}.\n",
        "\\end{align}\n",
        "</br>\n"
      ],
      "metadata": {
        "id": "MvY8fJdSOoAQ"
      }
    },
    {
      "cell_type": "markdown",
      "source": [
        "### ii) decimal conversion to binary\n"
      ],
      "metadata": {
        "id": "Gsdou6mKQodM"
      }
    },
    {
      "cell_type": "markdown",
      "source": [
        "eg, $111.25_{10}$.\n",
        "</br>\n"
      ],
      "metadata": {
        "id": "tXKDfoVq6veX"
      }
    },
    {
      "cell_type": "markdown",
      "source": [
        "\\begin{align}\n",
        "  \\text{integer:}&\\quad \\tfrac{111}{2} = 55\\, R\\, 1 \\\\\n",
        "  &\\quad\\rightarrow \\tfrac{55}{2} = 27\\, R\\, 1 \\\\\n",
        "  &\\quad\\rightarrow \\tfrac{27}{2} = 13\\, R\\, 1 \\\\\n",
        "  &\\quad\\rightarrow \\tfrac{13}{2} = 6\\, R\\, 1 \\\\\n",
        "  &\\quad\\rightarrow \\tfrac{6}{2} = 3\\, R\\, 0 \\\\\n",
        "  &\\quad\\rightarrow \\tfrac{3}{2} = 1\\, R\\, 1 \\\\\n",
        "  &\\quad\\rightarrow \\tfrac{1}{2} = 0\\, R\\, 1 \\\\\n",
        "  &\\quad\\rightarrow 11011111, \\enspace\\text{remainders in reverse order}  \\\\\n",
        "  \\\\\n",
        "  \\text{fractional:}&\\quad 0.25\\times 2 = 0.50 + 0 \\\\\n",
        "  &\\quad\\rightarrow 0.50\\times 2 = 0.00 + 1 \\\\\n",
        "  &\\quad\\rightarrow 0.01, \\enspace\\text{integers in order from left to right} \\\\\n",
        "  \\\\\n",
        "  &\\quad\\Downarrow \\\\\n",
        "  \\\\\n",
        "  111.25_{10} &= 1101111_2 + 0.01_2 = 11011111.01_2.\n",
        "\\end{align}\n",
        "</br>\n"
      ],
      "metadata": {
        "id": "EPT3aBN3Qs5j"
      }
    },
    {
      "cell_type": "markdown",
      "source": [
        "## 03 polynomials in the machine\n"
      ],
      "metadata": {
        "id": "etgeus5kS7JV"
      }
    },
    {
      "cell_type": "markdown",
      "source": [
        "### i) digital representation\n"
      ],
      "metadata": {
        "id": "p_ni7XMKTLv_"
      }
    },
    {
      "cell_type": "markdown",
      "source": [
        "\\begin{align}\n",
        "  x &= [d_{N-1},\\dots,d_1,d_0] \\quad\\text{digital vector} \\\\\n",
        "  \\\\\n",
        "  &= d_{N-1}\\times b^{N-1} + \\dots + d_1\\times b^1 + d_0\\times b^0 \\quad\\text{with }{\\bf precision\\, N} \\text{ and }{\\bf base\\, b}.\n",
        "\\end{align}\n",
        "\n",
        "eg,\n",
        "</br>\n",
        "\n",
        "* base 10: $\\quad 500_{10} = [5,0,0]; \\quad [5] = 5_{10}$.\n",
        "* base 02: $\\quad [1,0,1] = 101_2 = 1\\times 2^2 + 0\\times 2^1 + 1\\times 2^0 = 4 + 0 + 1 = 5_{10}$."
      ],
      "metadata": {
        "id": "XSPUVrlfTQgu"
      }
    },
    {
      "cell_type": "markdown",
      "source": [
        "### ii) fixed/positional representation\n"
      ],
      "metadata": {
        "id": "IonEoUCRVoKa"
      }
    },
    {
      "cell_type": "markdown",
      "source": [
        "using previous example,\n",
        "</br>\n",
        "\n",
        "* base 02: $101_2 = 1\\times 2^2 + 0\\times 2^1 + 1\\times 2^0$\n",
        "</br></br>\n",
        "\n",
        "where RHS is <b>fixed representation</b> and LH subscript is the base or <b>radix</b> r. additionally, precision $N\\ge 1, r\\ge 2$ such that\n",
        "</br></br>\n",
        "\n",
        "$x = \\sum^N d_kr^k$ has $r^N$ <b>permutations</b> and can also be written as\n",
        "</br></br>\n",
        "\n",
        "$r^N = \\color{blue}{(r-1)}({\\bf r^{N-1}}) + \\color{red}{(r_{N-1})} = \\color{blue}{[r-1]_{N-1}}[r]_{N-2}\\dots[r]_1[r]_0\\color{red}{[r]_{-1}[r]_{-2}\\dots [r]_{N-2}[r]_{N-1}}$\n",
        "</br>\n",
        "\n",
        "where subscripts denote position wrt exponent.\n",
        "</br>\n"
      ],
      "metadata": {
        "id": "yJFbEWvAVsHp"
      }
    },
    {
      "cell_type": "markdown",
      "source": [
        "eg, describe set where $N=3, r=2$.\n",
        "</br></br>\n",
        "\n",
        "\\begin{align}\n",
        "  \\text{permutations:}&\\quad r^N = 2^3 \\Rightarrow \\{000,001,010,011,100,101,110,111 \\}; \\\\\n",
        "  \\\\\n",
        "  \\text{magnitude:}&\\quad \\sum^{N-1} d_kr^k \\le \\sum^{N-1} (r-1)r^k = {\\bf r^N - 1} \\Rightarrow \\enspace\\text{range}^{[*]} \\enspace [0,{\\bf r^N - 1}].\n",
        "\\end{align}\n",
        "</br>\n",
        "\n",
        "[*] note: \"range of magnitude\" of $x$ is also \"range\" of $x$ bc representation of $x$ does not allow for sign.\n",
        "</br>\n"
      ],
      "metadata": {
        "id": "tZSIEEdFZlk_"
      }
    },
    {
      "cell_type": "markdown",
      "source": [
        "### iii) sign\n"
      ],
      "metadata": {
        "id": "q_fgAnrncPkR"
      }
    },
    {
      "cell_type": "markdown",
      "source": [
        "sign extends range.\n",
        "</br>"
      ],
      "metadata": {
        "id": "UmGSqfFhcSTQ"
      }
    },
    {
      "cell_type": "markdown",
      "source": [
        "* method 1: use position $d_{N-1}$ for sign.\n",
        "</br>\n",
        "\n",
        "\\begin{align}\n",
        "  x &= [\\pm][d_{N-1},\\dots,d_1,d_0] \\quad\\text{and} \\\\\n",
        "  \\\\\n",
        "  \\text{permutations:}&\\quad r^{N-1}\\times 2; \\\\\n",
        "  \\\\\n",
        "  \\text{range:}&\\quad [-r^{N-1}+1,0),[0,+{\\bf r^{N-1}-1}].\n",
        "\\end{align}\n"
      ],
      "metadata": {
        "id": "azGrihaadNUa"
      }
    },
    {
      "cell_type": "markdown",
      "source": [
        "* method 2: use bias to obtain sign.\n",
        "</br></br>\n",
        "\n",
        "ie, all positions used for magnitude and bias is an operation.\n",
        "</br></br>\n",
        "\n",
        "\\begin{align}\n",
        "  x_{min} &= -B, x_{max} = r^N - B \\\\\n",
        "  \\\\\n",
        "  \\text{range:}&\\quad [x_{min},x_{max}] = [1-r^{N-1},r^{N-1}(r-1)]\n",
        "\\end{align}\n",
        "</br>\n",
        "\n",
        "with <b>standard bias</b> $B = {\\bf r^{N-1} - 1}$.\n"
      ],
      "metadata": {
        "id": "uq_5zup2e3_2"
      }
    },
    {
      "cell_type": "markdown",
      "source": [
        "eg, describe set where $N=3, r=2$ with standard bias.\n",
        "</br></br>\n",
        "\n",
        "\\begin{align}\n",
        "  B &= r^{N-1} - 1 = (2)^{(3-1)} - 1 = 4-1 = 3 \\quad\\text{and} \\\\\n",
        "  \\\\\n",
        "  \\text{range:}&\\quad [000,111]_2 \\mapsto [0,7]_{10} - B = [-3,+4]_{10}.\n",
        "\\end{align}\n"
      ],
      "metadata": {
        "id": "LqSu5-Y6g55R"
      }
    },
    {
      "cell_type": "markdown",
      "source": [
        "## 04 floating-point\n"
      ],
      "metadata": {
        "id": "m3MqYbHJjzIb"
      }
    },
    {
      "cell_type": "markdown",
      "source": [
        "$x = M.b^E$, where <b>mantissa</b> $M$ is an integer represented by sign, magnitude, radix and <b>precision</b> $m$; <b>exponent</b> $E$ is an integer represented by bias and same radix. also, $M$ is <b>normalized</b> as $1.F$, where \"$1.$\" is implicit and <b>fractional</b> $F$ is\n",
        "</br></br>\n",
        "\n",
        "$$F = \\sum^{m-2} d_kr^k, r\\ge 2 \\Rightarrow x = \\pm 1.F\\times b^E.$$\n"
      ],
      "metadata": {
        "id": "GCfOWpa-zU11"
      }
    },
    {
      "cell_type": "markdown",
      "source": [
        "ie, same $r$ for $M,E$; $m$ includes sign; $m_E = N-m$; $B=r^{N-1}-1$ with bias power $N-1 = m_E - 1$. note: $b$ is the base of the exponent and not the base of the exponents power.\n",
        "</br></br>\n",
        "\n",
        "$$x = \\color{green}{\\pm}1.\\color{blue}{F}\\times \\color{orange}{2}^{\\color{red}{E}} = [\\color{green}{s}] \\overbrace{\\underbrace{\\overbrace{[\\color{red}{\\dots}][\\color{red}{e_1}][\\color{red}{e_0}]}^{m_E = N-m}}_{\\color{red}{...} + \\color{red}{e_1}\\times \\color{purple}{r}^1 + \\color{red}{e_0}\\times \\color{purple}{r}^0} 1. \\underbrace{\\overbrace{[\\color{blue}{f_1}][\\color{blue}{f_2}][\\color{blue}{\\dots}]}^{m_F = m-sign}}_{\\color{blue}{f_1}\\times \\color{purple}{r}^{-1} + \\color{blue}{f_2}\\times \\color{purple}{r}^{-2} + \\color{blue}{\\dots}}}^{\\text{positions allocated}},$$"
      ],
      "metadata": {
        "id": "3iW5KwnFJtGQ"
      }
    },
    {
      "cell_type": "markdown",
      "source": [
        "##### example 01\n"
      ],
      "metadata": {
        "id": "iQUJsoG6Jaqh"
      }
    },
    {
      "cell_type": "markdown",
      "source": [
        "$\\enspace \\mathbb{FP}(N=5,m=3,r=\\color{purple}{3},b=\\color{orange}{2})$ with standard bias.$^{[3]}$\n",
        "</br>\n"
      ],
      "metadata": {
        "id": "8KZGadB2JjhZ"
      }
    },
    {
      "cell_type": "markdown",
      "source": [
        "$$x = \\color{green}{\\pm}1.\\color{blue}{F}\\times \\color{orange}{2}^{\\color{red}{E}} = [\\color{green}{s}] \\underbrace{\\overbrace{[\\color{red}{e_1}][\\color{red}{e_0}]}^{m_E = 5-3=2} 1. \\overbrace{[\\color{blue}{f_1}][\\color{blue}{f_2}]}^{m_F = 3-1=2}}_{\\text{positions allocated}},$$\n",
        "</br>\n",
        "\n",
        "where\n",
        "</br></br>\n",
        "\n",
        "\\begin{align}\n",
        "  \\color{green}{s} &\\in\\{0,1\\} \\\\\n",
        "  \\\\\n",
        "  \\color{blue}{f_j} &\\in\\{0,1,2\\}_{\\color{purple}{3}} \\\\\n",
        "  \\\\\n",
        "  &\\Downarrow \\\\\n",
        "  \\\\\n",
        "  F_{magnitude} &= [0.00,0.22]_{\\color{purple}{3}} \\quad\\text{and} \\\\\n",
        "  \\\\\n",
        "  \\color{red}{e_i} &\\in\\{0,1,2\\}_{\\color{purple}{3}} \\\\\n",
        "  \\\\\n",
        "  B &= r^{N-1} - 1 \\mapsto r^{m_E-1} - 1 = \\color{purple}{3}^{2-1} - 1 = (3-1)_{10} = 2_{10} \\\\\n",
        "  \\\\\n",
        "  &\\Downarrow \\\\\n",
        "  \\\\\n",
        "  E_{range} &= [00,22]_{\\color{purple}{3}} - B = [0,8]_{10} - 2_{10} = [-2,6]_{10}.\n",
        "\\end{align}\n",
        "</br>\n"
      ],
      "metadata": {
        "id": "YmJyuyP72k6J"
      }
    },
    {
      "cell_type": "markdown",
      "source": [
        "eg,\n",
        "</br></br>\n",
        "\n",
        "\\begin{align}\n",
        "  x &= [\\color{green}{0},\\color{red}{1},\\color{red}{1},\\color{blue}{2},\\color{blue}{0}]_{\\mathbb{F}(5,3,3,2)} \\\\\n",
        "  \\\\\n",
        "  &= (-1)^{\\color{green}{0}}\\times 1.\\color{blue}{20}_{\\color{purple}{3}}\\times \\color{orange}{2}^{\\color{red}{E}} \\quad\\text{where } \\color{red}{E} = (\\color{red}{11}_{\\color{purple}{3}} - B) = (4-2)_{10} = \\color{red}{2}_{10} \\\\\n",
        "  \\\\\n",
        "  &= +(1.+\\color{blue}{2}\\times \\color{purple}{3}^{-1})_{10}\\times \\color{orange}{2}^{\\color{red}{2}} = + (\\tfrac{5}{3})\\times 4 = +\\tfrac{20}{3} = +6.\\overline{6}.\n",
        "\\end{align}\n",
        "\n",
        "</br>\n"
      ],
      "metadata": {
        "id": "yeglMWmG9kDY"
      }
    },
    {
      "cell_type": "markdown",
      "source": [
        "##### example 02\n"
      ],
      "metadata": {
        "id": "blM51WyDLTV8"
      }
    },
    {
      "cell_type": "markdown",
      "source": [
        "$\\enspace \\mathbb{FP}(N=6,m=4,r=\\color{purple}{3},b=\\color{orange}{2})$ with standard bias.$^{[4]}$\n",
        "</br>\n"
      ],
      "metadata": {
        "id": "L66QVispLYoM"
      }
    },
    {
      "cell_type": "markdown",
      "source": [
        "$$x = \\color{green}{\\pm}1.\\color{blue}{F}\\times \\color{orange}{2}^{\\color{red}{E}} = [\\color{green}{s}] \\underbrace{\\overbrace{[\\color{red}{e}_1][\\color{red}{e}_0]}^{m_E = 6-4=2} 1. \\overbrace{[\\color{blue}{f}_1][\\color{blue}{f}_2][\\color{blue}{f}_3]}^{m_F = 4-1=3}}_{\\text{positions allocated}},$$\n",
        "</br>\n",
        "\n",
        "where\n",
        "</br>\n",
        "\n",
        "\\begin{align}\n",
        "  \\color{green}{s} &\\in\\{0,1\\}, \\color{blue}{f}_j \\in\\{0,1,2\\}_{\\color{purple}{3}} \\\\\n",
        "  \\\\\n",
        "  &\\Rightarrow F_{magnitude} = [0.000,0.222]_{\\color{purple}{3}} \\quad\\text{and} \\\\\n",
        "  \\\\\n",
        "  \\color{red}{e}_i &\\in\\{0,1,2\\}_{\\color{purple}{3}} \\\\\n",
        "  \\\\\n",
        "  B &= r^{N-1} - 1 \\mapsto r^{m_E-1} - 1 = {\\color{purple}{3}}^{2-1} - 1 = (3-1)_{10} = 2_{10} \\\\\n",
        "  \\\\\n",
        "  &\\Rightarrow E_{range} = [00,22]_{\\color{purple}{3}} - B = [0,8]_{10} - 2_{10} = [-2,6]_{10}.\n",
        "\\end{align}\n"
      ],
      "metadata": {
        "id": "GSXH_lQUMFbl"
      }
    },
    {
      "cell_type": "markdown",
      "source": [
        "ie,\n",
        "</br></br>\n",
        "\n",
        "\\begin{align}\n",
        "  |x_{min}| &= [\\color{green}{0},\\color{red}{0},\\color{red}{0},\\color{blue}{0},\\color{blue}{0},\\color{blue}{0}]_{\\mathbb{F}(6,4,3,2)} \\\\\n",
        "  \\\\\n",
        "  &= (-1)^{\\color{green}{0}}\\times 1.\\color{blue}{000}_{\\color{purple}{3}}\\times \\color{orange}{2}^{\\color{red}{E}}, \\quad \\color{red}{E} = (\\color{red}{00}_{\\color{purple}{3}} - B) = (0-2)_{10} = \\color{red}{-2}_{10} \\\\\n",
        "  \\\\\n",
        "  &= +1.\\color{blue}{0}_{10}\\times \\color{orange}{2}^{\\color{red}{-2}} = +\\tfrac{1}{4}. \\\\\n",
        "  \\\\\n",
        "  |x_{max}| &= [\\color{green}{0},\\color{red}{2},\\color{red}{2},\\color{blue}{2},\\color{blue}{2},\\color{blue}{2}]_{\\mathbb{F}(6,4,3,2)} \\\\\n",
        "  \\\\\n",
        "  &= (-1)^{\\color{green}{0}}\\times 1.\\color{blue}{222}_{\\color{purple}{3}}\\times \\color{orange}{2}^{\\color{red}{E}}, \\quad \\color{red}{E} = (\\color{red}{22}_{\\color{purple}{3}} - B) = (8-2)_{10} = \\color{red}{6}_{10} \\\\\n",
        "  \\\\\n",
        "  &= +[1.+(\\color{blue}{2}\\times {\\color{purple}{3}}^{-1} + \\color{blue}{2}\\times {\\color{purple}{3}}^{-2} + \\color{blue}{2}\\times {\\color{purple}{3}}^{-3})_{10}]\\times \\color{orange}{2}^{\\color{red}{6}} = +(1+\\tfrac{26}{27})\\times 64 \\approx +125.\\overline{629}. \\\\\n",
        "\\end{align}\n",
        "</br>\n"
      ],
      "metadata": {
        "id": "QW_xuRDlM7d3"
      }
    },
    {
      "cell_type": "markdown",
      "source": [
        "### i) denormalized vs normalized"
      ],
      "metadata": {
        "id": "dMawu0sUtweq"
      }
    },
    {
      "cell_type": "markdown",
      "source": [
        "a base-2 floating-point number will always start with \"$1$\", so its inclusion is implied. explicitly, $1\\times 2^0$ is a given so the position it might have used is given over to the fractional part of the mantissa. that is the normalized mantissa.\n",
        "</br>\n",
        "\n",
        "however, if the biased exponent is zero, the mantissa is <b>denormalized</b>. ie, there is no implicit \"$1$\". <i>(note: this is a feature of the standard, IEEE-754 and not necessarily a feature of other FPS.)</i>\n",
        "</br></br>\n",
        "\n",
        "\\begin{align}\n",
        "  \\text{eg, } B_{\\text{IEEE 754}} &= 126 \\Rightarrow [0][00000000]0.[00010…0] \\\\\n",
        "  &= +(1\\times 2^{-4})\\times (2^{0-126}) = +2^{-130}.^{[5]}\n",
        "\\end{align}"
      ],
      "metadata": {
        "id": "8KOrLwdbuG-t"
      }
    },
    {
      "cell_type": "markdown",
      "source": [
        "### ii) IEEE 754"
      ],
      "metadata": {
        "id": "d3Yc0kdytYBh"
      }
    },
    {
      "cell_type": "markdown",
      "source": [
        "the standard is [IEEE](https://www.ieee.org/) [754](https://en.wikipedia.org/wiki/IEEE_754)-[2019](https://standards.ieee.org/ieee/754/6210/), $\\mathbb{FP}(N-1,m,r,b) = \\mathbb{FP}(64,53,2,2)$, where 32-bit is single precision and 64-bit is double-precision."
      ],
      "metadata": {
        "id": "Ri2hm_HXx0h6"
      }
    },
    {
      "cell_type": "markdown",
      "source": [
        "### iii)  hexadecimal vs binary"
      ],
      "metadata": {
        "id": "UypQFEoh2ONB"
      }
    },
    {
      "cell_type": "markdown",
      "source": [
        "IEEE 754 stores floating-point numbers using binary format; however, hexadecimal ([base 16](https://en.wikipedia.org/wiki/Hexadecimal)) representation of those bits is considered more human friendly.\n",
        "</br>\n",
        "\n",
        "consider the approximation of $\\pi$:\n",
        "```\n",
        "π = 3.14159265358979\n",
        "\n",
        "IEEE 754: 01000000000100100000111110111010111\n",
        "\n",
        "Sign Bit: 0\n",
        "Exponent: 10000000 (128 in decimal, after subtracting the bias of 127)\n",
        "Mantissa: 00100100000111110111010111\n",
        "\n",
        "Hex     : 0x40490FDB\n",
        "\n",
        "Sign Bit: 0\n",
        "Hex Flag: x\n",
        "Exponent: 40\n",
        "Mantissa: 490FDB\n",
        "```"
      ],
      "metadata": {
        "id": "INJdxcwf2XsU"
      }
    },
    {
      "cell_type": "markdown",
      "source": [
        "### iv) observations\n"
      ],
      "metadata": {
        "id": "HpEhFSm17ISj"
      }
    },
    {
      "cell_type": "markdown",
      "source": [
        "* gaps between adjacent numbers scale with magnitude of number represented. (ie, consider negative exponents vs positive exponents.)\n",
        "\n"
      ],
      "metadata": {
        "id": "cRWDdJqJ7Lqp"
      }
    },
    {
      "cell_type": "code",
      "source": [
        "if __name__ == \"__main__\":\n",
        "  import matplotlib.pyplot as plt\n",
        "  import numpy as np\n",
        "\n",
        "  es = [-2,-1,0,1,2]\n",
        "  ms = np.arange(1,2,0.125) # implicit 1 + 3 position binary fractional\n",
        "  zeros = np.zeros_like(ms)\n",
        "\n",
        "  plt.figure(figsize=(20,2))\n",
        "  plt.plot([0,8],[0,0],color=\"0.5\")\n",
        "\n",
        "  for e in es:\n",
        "    xs = ms*pow(2,e)  # + mantissa x base^e\n",
        "    plt.scatter(xs,zeros,marker=\"|\",s=500)\n",
        "    s_e = \"$2^{\" + f\"{e}\" + \"}$\"\n",
        "    plt.text(xs.min(),.015,s_e,size=\"xx-large\")\n",
        "\n",
        "  plt.axis(\"off\")\n",
        "  plt.show()\n"
      ],
      "metadata": {
        "colab": {
          "base_uri": "https://localhost:8080/",
          "height": 108
        },
        "id": "92T8sevz7qmI",
        "outputId": "17ca6e95-a8ba-4bcb-d4df-8bedad13b7f1"
      },
      "execution_count": null,
      "outputs": [
        {
          "output_type": "display_data",
          "data": {
            "text/plain": [
              "<Figure size 2000x200 with 1 Axes>"
            ],
            "image/png": "[encoded data removed]"
          },
          "metadata": {}
        }
      ]
    },
    {
      "cell_type": "markdown",
      "source": [
        "* machine epsilon, $\\epsilon_{\\text{mach}}$, is the gap between $1$ and the next FPN.\n",
        "* unit roundoff, $\\mu_{\\text{mach}} = \\tfrac{1}{2}\\, \\epsilon_{\\text{mach}}$.\n",
        "* for all $x$ there exists a floating-point $x'$ such that $|x-x'| \\le \\mu_{\\text{mach}}\\times |x|$.\n",
        "* when $M$ normalized, zero represented by $\\epsilon = \\epsilon_{\\text{min}} - 1$.\n",
        "* $\\pm\\infty$ returned when and operation overflows.\n",
        "* $\\tfrac{x}{\\pm\\infty}$ returns $0$ and $\\tfrac{x}{0}$ returns $\\pm\\infty$.\n",
        "* \"not a number\" (NaN) is returned if no well-defined finite or infinite result.\n",
        "* [und so weiter](https://dict.leo.org/german-english/und%20so%20weiter).\n",
        "</br></br>\n",
        "</br></br></br></br></br></br></br></br>\n",
        "</br></br></br></br></br></br></br></br>"
      ],
      "metadata": {
        "id": "XGLO_tK9EKBM"
      }
    },
    {
      "cell_type": "markdown",
      "source": [
        "## resources"
      ],
      "metadata": {
        "id": "AvNr1Nv4L1Cc"
      }
    },
    {
      "cell_type": "markdown",
      "source": [
        "* horners method [@wiki](https://en.wikipedia.org/wiki/Horner%27s_method)\n",
        "* telescoping sum [@wiki](https://en.wikipedia.org/wiki/Telescoping_series)\n",
        "\n",
        "* floating-point [@wiki](https://en.wikipedia.org/wiki/Floating-point_arithmetic) [@youtube #1](https://www.youtube.com/watch?v=dQhj5RGtag0) [#2-pt1](https://www.youtube.com/watch?v=gc1Nl3mmCuY) [#2-pt2](https://www.youtube.com/watch?v=b2FgF2sUoS8)\n",
        "* unit in last place (ulp) [@wiki](https://en.wikipedia.org/wiki/Unit_in_the_last_place)\n",
        "* machine epsilon [@wiki](https://en.wikipedia.org/wiki/Machine_epsilon)\n",
        "\n",
        "* [IEEE](https://www.ieee.org/) [754](https://en.wikipedia.org/wiki/IEEE_754)-[2019](https://standards.ieee.org/ieee/754/6210/)"
      ],
      "metadata": {
        "id": "ZswwtCkvGe1R"
      }
    },
    {
      "cell_type": "markdown",
      "source": [
        "## references"
      ],
      "metadata": {
        "id": "SVjKIBFcit_P"
      }
    },
    {
      "cell_type": "markdown",
      "source": [
        "1. johnson, sg. <i>[18.335, introduction to numerical methods](https://ocw.mit.edu/courses/18-335j-introduction-to-numerical-methods-spring-2019/),</i> mit.ocw, spring 2015.\n",
        "2. sauer, tim. <i>numerical analysis, 2nd edition</i>, pearson education, 2012, p1.\n",
        "3. martinez, vincent. <i>math 685</i>, hunter, spring 2023.\n",
        "4. <i>ibid</i>.\n",
        "5. nerdfirst. <i>[denormal numbers](https://www.youtube.com/watch?v=b2FgF2sUoS8)</i>, [0612 tv](https://www.youtube.com/@NERDfirst), 2020."
      ],
      "metadata": {
        "id": "06lmmPxuiwDw"
      }
    }
  ]
}