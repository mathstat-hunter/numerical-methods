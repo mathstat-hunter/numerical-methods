{
  "nbformat": 4,
  "nbformat_minor": 0,
  "metadata": {
    "colab": {
      "provenance": [],
      "collapsed_sections": [
        "uDdmuC1QRYMM",
        "4Y1Myv3TR26j",
        "2bytMAQvb_yC",
        "rsHxSx6FsgSG",
        "GJpFFTJASpy5",
        "EF_5Wx0cswXg",
        "lb-3vIR5Ejdl",
        "m_UwjIUtt-5Z",
        "MCfo00-6coLJ",
        "PuzDHY-3dWh_",
        "z8bqn8Zyo61B",
        "KkpBsp_I-ti6",
        "uFGfXsCu-wLs",
        "pk4e6uVx-1Jk",
        "Fx-Gz9wrO35u",
        "KrxoidlODvQ8",
        "U-Vc4fRmnpd7",
        "mHkEinXjnxSq",
        "8Tu5j0YBgjJb",
        "OKNUVqSu6VaD",
        "54sVQeb2_w-1",
        "DerTZ5ukBuOz",
        "pCQuI_q3jULy",
        "XApf5q7GXMBv",
        "713qc6u7wrSI",
        "VV_FaZd2s4Qh",
        "KgyLpXDbrbP3",
        "MM6dHgmPRNXs",
        "2y1GOqNZRPDF"
      ]
    },
    "kernelspec": {
      "name": "python3",
      "display_name": "Python 3"
    },
    "language_info": {
      "name": "python"
    }
  },
  "cells": [
    {
      "cell_type": "markdown",
      "source": [
        "# 00.02 basics : error"
      ],
      "metadata": {
        "id": "kx8DspCU7TM2"
      }
    },
    {
      "cell_type": "markdown",
      "source": [
        "## 01 quality when theres quantity"
      ],
      "metadata": {
        "id": "uDdmuC1QRYMM"
      }
    },
    {
      "cell_type": "markdown",
      "source": [
        "the rational number $\\tfrac{1}{3}$ exists but it does not exist in the set known as FPS. instead, it is approximated by the nearest FPN. ie, hello errors.\n",
        "</br></br>\n",
        "\n",
        "if mathematical operations happen to this number, then hello more errors."
      ],
      "metadata": {
        "id": "HVJ3_PZQRbz2"
      }
    },
    {
      "cell_type": "markdown",
      "source": [
        "## 02 notation, floating-point operators"
      ],
      "metadata": {
        "id": "4Y1Myv3TR26j"
      }
    },
    {
      "cell_type": "markdown",
      "source": [
        "$\\circ$, \"round to nearest FPN\". eg, $x,y \\in\\mathbb{R} \\mapsto \\circ (x+y) = \\circ(x) + \\circ(y)$.\n",
        "</br></br>\n",
        "\n",
        "also, $\\oplus\\,\\ominus\\,\\otimes\\,\\oslash$ such that $x \\oplus y = \\circ(x+y)$. usw."
      ],
      "metadata": {
        "id": "LzEVZ9BaR9O-"
      }
    },
    {
      "cell_type": "markdown",
      "source": [
        "## 03 error"
      ],
      "metadata": {
        "id": "2bytMAQvb_yC"
      }
    },
    {
      "cell_type": "markdown",
      "source": [
        "suppose $x \\in\\mathbb{R}$ and $\\hat{x} \\in\\mathbb{FP}$ is its FPN approximation. ie, $\\hat{x} = \\circ x$. then\n",
        "</br>\n",
        "\n",
        "* <b>absolute error</b>, $\\Delta x = |x-\\hat{x}|$ and\n",
        "* <b>relative error</b>, $\\delta x = \\tfrac{\\Delta x}{|x|}$."
      ],
      "metadata": {
        "id": "1FolmYwWcCsY"
      }
    },
    {
      "cell_type": "markdown",
      "source": [
        "rounding is an algorithm and has two kinds of error:\n",
        "</br>\n",
        "\n",
        "1. <b>forward</b>, wrt how well the algorithm approximates the true output; and\n",
        "2. <b>backward</b>, wrt how desired results relate back to expected input."
      ],
      "metadata": {
        "id": "bFpd_eM3pjia"
      }
    },
    {
      "cell_type": "markdown",
      "source": [
        "### i) forward error"
      ],
      "metadata": {
        "id": "rsHxSx6FsgSG"
      }
    },
    {
      "cell_type": "markdown",
      "source": [
        "suppose $x,y$ such that $\\phi(x) = y$ and $\\hat{\\phi}(x) = \\hat{y}$, where $\\hat{\\phi}$ is the numerical approximation to real problem $\\phi$. then\n",
        "</br>\n",
        "\n",
        "* <b>forward error</b>, $\\Delta y = y - \\hat{y}$;\n",
        "* <b>absolute forward error</b>, $|\\Delta y| = |y - \\hat{y}|$; and\n",
        "* <b>relative forward error</b>, $\\delta y = \\tfrac{|\\Delta y|}{|y|}$."
      ],
      "metadata": {
        "id": "KtDv29gVtX8G"
      }
    },
    {
      "cell_type": "markdown",
      "source": [
        "###### code, visual: forward error"
      ],
      "metadata": {
        "id": "GJpFFTJASpy5"
      }
    },
    {
      "cell_type": "code",
      "execution_count": null,
      "metadata": {
        "colab": {
          "base_uri": "https://localhost:8080/",
          "height": 202
        },
        "id": "x3rEubjy7Si2",
        "outputId": "8f31b576-3d0c-414e-d117-176354cbe4da"
      },
      "outputs": [
        {
          "output_type": "display_data",
          "data": {
            "text/plain": [
              "<Figure size 200x200 with 1 Axes>"
            ],
            "image/png": "[encoded data removed]"
          },
          "metadata": {}
        }
      ],
      "source": [
        "if __name__ == \"__main__\":\n",
        "\n",
        "  import matplotlib.pyplot as plt\n",
        "  import numpy as np\n",
        "\n",
        "  data = np.array([[0,1],[1,1],[1,0]]) # [x,y_act,y_mod] where y(x)\n",
        "  ix = 0; iy_act = 1; iy_mod = 2\n",
        "  jx = 0; jy = 1\n",
        "\n",
        "  d_size = 2\n",
        "  fig,ax = plt.subplots(figsize=(d_size,d_size))\n",
        "\n",
        "  ax.scatter(data[:,jx],data[:,jy],c=\"C00\")\n",
        "  d_offset = d_size/20.\n",
        "  for point,label,offset in zip(data,[\"$x$\",\"$y$, actual\",\"$\\hat{y}$, model\"],\\\n",
        "     [-d_offset*1.5,d_offset,d_offset]):\n",
        "\n",
        "    ax.annotate(label,(point[0],point[1]),(point[0]+offset,point[1]-d_offset*0.25))\n",
        "\n",
        "  d_head = d_size/50.\n",
        "  for ifrom,ithru,label,color,offset in zip([ix,ix,iy_mod],[iy_act,iy_mod,iy_act],\\\n",
        "      [\"$\\phi$\",\"$\\hat{\\phi}$\",\"$\\Delta y = |y-\\hat{y}|$, fwd error \"],\\\n",
        "      [\"0\",\"0.5\",\"0\"],[(0,1),(-1,-3.5),(1,0)]):\n",
        "\n",
        "    dx = data[ithru,jx] - data[ifrom,jx]; dy = data[ithru,jy] - data[ifrom,jy]\n",
        "    ax.arrow(data[ifrom,jx],data[ifrom,jy],dx,dy,color=color,\\\n",
        "      head_width=d_head,length_includes_head=True)\n",
        "    dx += d_offset*offset[0]\n",
        "    dy += d_offset*offset[1]\n",
        "    ax.annotate(label,(data[ifrom,jx],data[ifrom,jy]),(data[ifrom,jx]+dx/2,data[ifrom,jy]+dy/2))\n",
        "\n",
        "  plt.axis(\"off\")\n",
        "  plt.show()\n"
      ]
    },
    {
      "cell_type": "markdown",
      "source": [
        "### ii) backward error"
      ],
      "metadata": {
        "id": "EF_5Wx0cswXg"
      }
    },
    {
      "cell_type": "markdown",
      "source": [
        "suppose $x, \\Delta x$ such that $\\hat{\\phi}(x) = \\hat{y} = \\phi(x+\\Delta x)$. then\n",
        "</br>\n",
        "\n",
        "* <b>backward error</b>, $\\Delta x = \\Delta x_{\\text{min}}$ where $\\hat{\\phi}(x) = \\hat{y} = \\phi(x+\\Delta x)$;\n",
        "* <b>absolute backward error</b>, $|\\Delta x|$; and\n",
        "* <b>relative backward error</b>, $\\delta x = \\tfrac{|\\Delta x|}{|x|}$.\n",
        "</br>\n",
        "\n",
        "ie, backward error identifies the (\"nearby\") problem the algorithm actually solved."
      ],
      "metadata": {
        "id": "8WApO6o9smc7"
      }
    },
    {
      "cell_type": "markdown",
      "source": [
        "###### code, visual: backward error"
      ],
      "metadata": {
        "id": "lb-3vIR5Ejdl"
      }
    },
    {
      "cell_type": "code",
      "execution_count": null,
      "metadata": {
        "colab": {
          "base_uri": "https://localhost:8080/",
          "height": 207
        },
        "outputId": "a976f72e-5802-4736-cad1-8e99ee71ddf6",
        "id": "bb7H-7KcEjdu"
      },
      "outputs": [
        {
          "output_type": "display_data",
          "data": {
            "text/plain": [
              "<Figure size 200x200 with 1 Axes>"
            ],
            "image/png": "[encoded data removed]"
          },
          "metadata": {}
        }
      ],
      "source": [
        "if __name__ == \"__main__\":\n",
        "\n",
        "  import matplotlib.pyplot as plt\n",
        "  import numpy as np\n",
        "\n",
        "  data = np.array([[0,1],[1,1],[1,0],[0.1,0.1]]) # [x,y_act,y_mod,x+Δx] where y(x)\n",
        "  ix = 0; iy_act = 1; iy_mod = 2; ix_del = 3\n",
        "  jx = 0; jy = 1\n",
        "\n",
        "  d_size = 2\n",
        "  fig,ax = plt.subplots(figsize=(d_size,d_size))\n",
        "\n",
        "  ax.scatter(data[:,jx],data[:,jy],c=\"C00\")\n",
        "  d_offset = d_size/20.\n",
        "  for point,label,offset in zip(data,[\"$x$\",\"$y$, actual\",\"$\\hat{y}$, model\",\"$x+\\Delta x$\"],\\\n",
        "     [-d_offset*1.5,d_offset,d_offset,-d_offset*4]):\n",
        "\n",
        "    ax.annotate(label,(point[0],point[1]),(point[0]+offset,point[1]-d_offset*0.25))\n",
        "\n",
        "  d_head = d_size/50.\n",
        "  for ifrom,ithru,label,color,offset in zip([ix,ix,iy_mod,ix,ix_del],\\\n",
        "      [iy_act,iy_mod,iy_act,ix_del,iy_mod],\\\n",
        "      [\"$\\phi$\",\"$\\hat{\\phi}$\",\"$\\Delta y$ = fwd error\",\"bwd error = $\\Delta x$\",\"$\\phi$\"],\\\n",
        "      [\"0\",\"0.5\",\"0\",\"0\",\"0\"],[(0,1),(-1,-3.5),(1,0),(-17,0),(-1,-2.5)]):\n",
        "\n",
        "    dx = data[ithru,jx] - data[ifrom,jx]; dy = data[ithru,jy] - data[ifrom,jy]\n",
        "    ax.arrow(data[ifrom,jx],data[ifrom,jy],dx,dy,color=color,\\\n",
        "      head_width=d_head,length_includes_head=True)\n",
        "    dx += d_offset*offset[0]\n",
        "    dy += d_offset*offset[1]\n",
        "    ax.annotate(label,(data[ifrom,jx],data[ifrom,jy]),(data[ifrom,jx]+dx/2,data[ifrom,jy]+dy/2))\n",
        "\n",
        "  plt.axis(\"off\")\n",
        "  plt.show()\n"
      ]
    },
    {
      "cell_type": "markdown",
      "source": [
        "#### why perturb $x$ there?"
      ],
      "metadata": {
        "id": "m_UwjIUtt-5Z"
      }
    },
    {
      "cell_type": "markdown",
      "source": [
        "why is $\\Delta x$ applied to $\\phi(x)$ and not $\\hat{\\phi}(x)$? bc perturbing the latter changes the computed approximation itself rather than identifying a nearby problem for which the original approximation is the exact solution.\n",
        "</br></br>\n",
        "\n",
        "<b>backward error analysis</b> is based on the idea that numerical methods introduce errors and the goal is to understand how these errors relate to the original problem. determining the smallest perturbation $\\Delta x$ that makes $\\hat{\\phi}(x)$ the exact solution to $\\phi(x + \\Delta x)$, allows quantification of the computation to see how far it has strayed from the original problem and to determine if it is still meaningful."
      ],
      "metadata": {
        "id": "xlGjJ93WuB55"
      }
    },
    {
      "cell_type": "markdown",
      "source": [
        "## 04 terminology"
      ],
      "metadata": {
        "id": "MCfo00-6coLJ"
      }
    },
    {
      "cell_type": "markdown",
      "source": [
        "fyi, this course favors (albeit imperfectly) \"actual problem\" and \"model solution\"."
      ],
      "metadata": {
        "id": "L_E2dTiqOcry"
      }
    },
    {
      "cell_type": "markdown",
      "source": [
        "###### code, visual: words words words"
      ],
      "metadata": {
        "id": "PuzDHY-3dWh_"
      }
    },
    {
      "cell_type": "code",
      "source": [
        "if __name__ == \"__main__\":\n",
        "\n",
        "  import matplotlib.pyplot as plt\n",
        "  from wordcloud import WordCloud\n",
        "\n",
        "  ws_lhs = [\"actual\",\"experimental\",\"real\",\"reference\",\"true\"]\n",
        "  ns_lhs = [30,2,1,1,6]\n",
        "  ws_rhs = [\"approximate\",\"engineered\",\"model\"]\n",
        "  ns_rhs = [8,2,30]\n",
        "  wx = [ws_lhs,ws_rhs]\n",
        "  nx = [ns_lhs,ns_rhs]\n",
        "\n",
        "  fig,axs = plt.subplots(1,2,figsize=(10,2))\n",
        "\n",
        "  i = 0\n",
        "  for ns,ws in zip(nx,wx):\n",
        "    text = \"\"\n",
        "    for imax,word in zip(ns,ws):\n",
        "      for _ in range(imax):\n",
        "        text += \" \" + word\n",
        "\n",
        "    words = WordCloud(background_color=\"white\",stopwords=[\"\"]).generate(text)\n",
        "    axs[i].imshow(words,interpolation=\"bilinear\")\n",
        "    axs[i].axis(\"off\")\n",
        "    i += 1\n",
        "\n",
        "  plt.show()\n"
      ],
      "metadata": {
        "colab": {
          "base_uri": "https://localhost:8080/",
          "height": 191
        },
        "id": "jlyoxHcAe7TK",
        "outputId": "64b7279f-aca3-4fbe-8a11-5485f8bce18e"
      },
      "execution_count": null,
      "outputs": [
        {
          "output_type": "display_data",
          "data": {
            "text/plain": [
              "<Figure size 1000x200 with 2 Axes>"
            ],
            "image/png": "[encoded data removed]"
          },
          "metadata": {}
        }
      ]
    },
    {
      "cell_type": "markdown",
      "source": [
        "## 05 stability"
      ],
      "metadata": {
        "id": "z8bqn8Zyo61B"
      }
    },
    {
      "cell_type": "markdown",
      "source": [
        "### i) forward stability"
      ],
      "metadata": {
        "id": "KkpBsp_I-ti6"
      }
    },
    {
      "cell_type": "markdown",
      "source": [
        "an engineered solution is <b>forward stable</b> if there exists $\\eta > 0$ such that $||y-\\hat{y}|| \\le \\eta \\times ||y||$."
      ],
      "metadata": {
        "id": "50rUsvPb-95L"
      }
    },
    {
      "cell_type": "markdown",
      "source": [
        "---\n",
        "however, forward error analysis is not prevalent bc \"true\" $\\phi$ is not always readily available. eg, $\\sqrt{3} \\in\\mathbb{R}$ but $\\sqrt{3} \\notin\\mathbb{FP}$.\n",
        "</br></br>\n",
        "\n",
        "ie, to implement an algorithm computationally, is to part ways with forward stability analysis at its abstract level. however, computationally, <b>use pythons native and/or standard libary functions to stand in for \"true\" $\\phi$</b>.\n",
        "</br></br>\n",
        "\n",
        "note: $\\sqrt{3} \\in\\mathbb{CAS}$, where $\\mathbb{CAS}$ refers to \"computer algebra systems\" but that is not the same as a set of numbers."
      ],
      "metadata": {
        "id": "OexqSPec2RqM"
      }
    },
    {
      "cell_type": "markdown",
      "source": [
        "</br>"
      ],
      "metadata": {
        "id": "HyfGNl07mOog"
      }
    },
    {
      "cell_type": "markdown",
      "source": [
        "### ii) backward stability"
      ],
      "metadata": {
        "id": "uFGfXsCu-wLs"
      }
    },
    {
      "cell_type": "markdown",
      "source": [
        "an engineered solution is <b>backward stable</b> if there exists $\\epsilon > 0$ such that $||\\Delta x|| \\le \\epsilon \\times ||x||$ where $\\hat{\\phi}(x) = \\hat{y} = \\phi(x+\\Delta x)$."
      ],
      "metadata": {
        "id": "Y0Nug-AH_zjz"
      }
    },
    {
      "cell_type": "markdown",
      "source": [
        "### iii) numerical stability"
      ],
      "metadata": {
        "id": "pk4e6uVx-1Jk"
      }
    },
    {
      "cell_type": "markdown",
      "source": [
        "an algorithm is of mixed stability iif there exists a $\\Delta x$ such that both $\\Delta x$ is small and $\\phi(x+\\Delta x) - \\hat{y}$ is small. ie,\n",
        "</br></br>\n",
        "\n",
        "an engineered solution is <b>numerically stable</b> iif there exists $\\eta > 0, \\epsilon > 0$ such that $\\tfrac{||y - \\hat{y}||}{ ||y||} \\le \\eta$ and $\\tfrac{||\\Delta x||}{||x||} \\le \\epsilon$, where $y = \\phi(x+\\Delta x)$ and $\\hat{y} = \\hat{\\phi}(x)$."
      ],
      "metadata": {
        "id": "QU39MlYEKrcG"
      }
    },
    {
      "cell_type": "markdown",
      "source": [
        "###### code, visual: numerical stability à la wiki"
      ],
      "metadata": {
        "id": "Fx-Gz9wrO35u"
      }
    },
    {
      "cell_type": "code",
      "execution_count": null,
      "metadata": {
        "colab": {
          "base_uri": "https://localhost:8080/",
          "height": 197
        },
        "outputId": "8b67a60a-e45b-4017-ede4-25ccca45cc4c",
        "id": "vIxC9GxbO354"
      },
      "outputs": [
        {
          "output_type": "display_data",
          "data": {
            "text/plain": [
              "<Figure size 200x200 with 1 Axes>"
            ],
            "image/png": "[encoded data removed]"
          },
          "metadata": {}
        }
      ],
      "source": [
        "if __name__ == \"__main__\":\n",
        "\n",
        "  import matplotlib.pyplot as plt\n",
        "  import numpy as np\n",
        "\n",
        "  data = np.array([[0.1,0.1],[1,1],[1,2],[0,1]]) # [x,y_act,y_mod,x+Δx] where y(x)\n",
        "  ix = 0; iy_act = 1; iy_mod = 2; ix_del = 3\n",
        "  jx = 0; jy = 1\n",
        "\n",
        "  d_size = 2\n",
        "  fig,ax = plt.subplots(figsize=(d_size,d_size))\n",
        "\n",
        "  ax.scatter(data[:,jx],data[:,jy],c=\"C00\")\n",
        "  d_offset = d_size/20.\n",
        "  for point,label,offset in zip(data,[\"$x$\",\"$y$, actual\",\"$\\hat{y}$, model\",\"$x+\\Delta x$\"],\\\n",
        "     [-d_offset*1.5,d_offset,d_offset,-d_offset*4]):\n",
        "\n",
        "    ax.annotate(label,(point[0],point[1]),(point[0]+offset,point[1]-d_offset*0.25))\n",
        "\n",
        "  d_head = d_size/50.\n",
        "  for ifrom,ithru,label,color,offset in zip([ix,iy_mod,ix,ix_del],\\\n",
        "      [iy_mod,iy_act,ix_del,iy_act],\\\n",
        "      [\"$\\hat{\\phi}$\",\"$\\Delta y$ = fwd error\",\"bwd error = $\\Delta x$\",\"$\\phi$\"],\\\n",
        "      [\"0.5\",\"0\",\"0\",\"0\"],[(0,4),(1,0),(-17,0),(-4,2)]):\n",
        "\n",
        "    dx = data[ithru,jx] - data[ifrom,jx]; dy = data[ithru,jy] - data[ifrom,jy]\n",
        "    ax.arrow(data[ifrom,jx],data[ifrom,jy],dx,dy,color=color,\\\n",
        "      head_width=d_head,length_includes_head=True)\n",
        "    dx += d_offset*offset[0]\n",
        "    dy += d_offset*offset[1]\n",
        "    ax.annotate(label,(data[ifrom,jx],data[ifrom,jy]),(data[ifrom,jx]+dx/2,data[ifrom,jy]+dy/2))\n",
        "\n",
        "  plt.axis(\"off\")\n",
        "  plt.show()\n"
      ]
    },
    {
      "cell_type": "markdown",
      "source": [
        "###### code, visual: numerical stability à la higham, corliss"
      ],
      "metadata": {
        "id": "KrxoidlODvQ8"
      }
    },
    {
      "cell_type": "code",
      "execution_count": null,
      "metadata": {
        "colab": {
          "base_uri": "https://localhost:8080/",
          "height": 213
        },
        "outputId": "2737c1fd-1472-461b-c7a8-3fcc17b9b1f3",
        "id": "PD_oOLMZD4r8"
      },
      "outputs": [
        {
          "output_type": "display_data",
          "data": {
            "text/plain": [
              "<Figure size 600x200 with 3 Axes>"
            ],
            "image/png": "[encoded data removed]"
          },
          "metadata": {}
        }
      ],
      "source": [
        "if __name__ == \"__main__\":\n",
        "\n",
        "  import matplotlib.pyplot as plt\n",
        "  import numpy as np\n",
        "\n",
        "  data = np.array([[0,0.8],[0,0.2],[1,1],[1,0.6],[1,0]]) # [x,x+Δx,y_act,y_mod,y_mod+Δy] where y(x)\n",
        "  ix = 0; ix_del = 1; iy_act = 2; iy_mod = 3; iy_del = 4\n",
        "  jx = 0; jy = 1\n",
        "\n",
        "  d_size = 2\n",
        "  n_subplots = 3\n",
        "  fig,axs = plt.subplots(1,n_subplots,figsize=(d_size*n_subplots,d_size))\n",
        "\n",
        "  # plot 0,label: data\n",
        "  axs[0].scatter(data[:,jx],data[:,jy],c=\"C00\")\n",
        "  d_offset = d_size/20.\n",
        "  for point,label,offset in zip(data,[\"$x$\",\"$x+\\Delta x$\",\"$y$\",\"$\\hat{y}$\",\"$\\hat{y}+\\Delta y$\"],\\\n",
        "     [-d_offset*1.5,-d_offset*4.5,d_offset,d_offset,d_offset]):\n",
        "\n",
        "    axs[0].annotate(label,(point[0],point[1]),(point[0]+offset,point[1]-d_offset*0.25))\n",
        "\n",
        "  d_head = d_size/50.\n",
        "  # plot 0,label: ϕ\n",
        "  for ifrom,ithru,label,color,offset in zip([ix,ix,ix_del],\\\n",
        "      [iy_act,iy_mod,iy_del],\\\n",
        "      [\"$\\phi$\",\"$\\hat{\\phi}$\",\"$\\phi$\"],\\\n",
        "      [\"0\",\"0.5\",\"0\"],[(0,1),(0,-3.5),(0,-2.5)]):\n",
        "\n",
        "    dx = data[ithru,jx] - data[ifrom,jx]; dy = data[ithru,jy] - data[ifrom,jy]\n",
        "    axs[0].arrow(data[ifrom,jx],data[ifrom,jy],dx,dy,color=color,\\\n",
        "      head_width=d_head,length_includes_head=True)\n",
        "    dx += d_offset*offset[0]\n",
        "    dy += d_offset*offset[1]\n",
        "    axs[0].annotate(label,(data[ifrom,jx],data[ifrom,jy]),(data[ifrom,jx]+dx/2,data[ifrom,jy]+dy/2))\n",
        "\n",
        "  # plot 0,label: Δx, Δy\n",
        "  for ifrom,ithru,label,color,offset in zip([ix,iy_act,iy_mod],\\\n",
        "      [ix_del,iy_mod,iy_del],\\\n",
        "      [\"bwe = $\\Delta x$\",\"fwe\",\"$\\Delta y$\"],\\\n",
        "      [\"0\",\"0\",\"0\"],[(-12,0),(1,0),(1,0)]):\n",
        "\n",
        "    dx = data[ithru,jx] - data[ifrom,jx]; dy = data[ithru,jy] - data[ifrom,jy]\n",
        "    axs[0].annotate(\"\",xy=(data[ifrom,jx],data[ifrom,jy]),xytext=(data[ifrom,jx]+dx,data[ifrom,jy]+dy),\\\n",
        "      arrowprops=dict(arrowstyle=\"<|-|>\"))\n",
        "    dx += d_offset*offset[0]\n",
        "    dy += d_offset*offset[1]\n",
        "    axs[0].annotate(label,(data[ifrom,jx],data[ifrom,jy]),(data[ifrom,jx]+dx/2,data[ifrom,jy]+dy/2))\n",
        "\n",
        "  # plot 1, spacer\n",
        "  axs[1].text(0.3,0.5,\"≈\",fontsize=\"xx-large\")\n",
        "\n",
        "  # plot 2, data\n",
        "  data = np.array([[0,1],[0,0],[1,1],[1,0]]) # [x,x+Δx,y_act,y_mod] where y(x)\n",
        "  ix = 0; ix_del = 1; iy_act = 2; iy_mod = 3\n",
        "\n",
        "  # plot 2,label: data\n",
        "  axs[2].annotate(\"≈\",(0.45,0.5))\n",
        "  axs[2].scatter(data[:,jx],data[:,jy],c=\"C00\")\n",
        "  d_offset = d_size/20.\n",
        "  for point,label,offset in zip(data,[\"$x$\",\"$x+\\Delta x$\",\"$y$\",\"$\\hat{y}=\\phi(x+\\Delta x)$\"],\\\n",
        "     [-d_offset*1.5,-d_offset*4.5,d_offset,d_offset,d_offset]):\n",
        "\n",
        "    axs[2].annotate(label,(point[0],point[1]),(point[0]+offset,point[1]-d_offset*0.25))\n",
        "\n",
        "  # plot 2,label: ϕ\n",
        "  for ifrom,ithru,label,color,offset in zip([ix,ix_del],\\\n",
        "      [iy_act,iy_mod],\\\n",
        "      [\"$\\phi$\",\"$\\phi$\"],\\\n",
        "      [\"0\",\"0\"],[(0,1),(0,-2.5)]):\n",
        "\n",
        "    dx = data[ithru,jx] - data[ifrom,jx]; dy = data[ithru,jy] - data[ifrom,jy]\n",
        "    axs[2].arrow(data[ifrom,jx],data[ifrom,jy],dx,dy,color=color,\\\n",
        "      head_width=d_head,length_includes_head=True)\n",
        "    dx += d_offset*offset[0]\n",
        "    dy += d_offset*offset[1]\n",
        "    axs[2].annotate(label,(data[ifrom,jx],data[ifrom,jy]),(data[ifrom,jx]+dx/2,data[ifrom,jy]+dy/2))\n",
        "\n",
        "  # plot 0,label: Δx, Δy\n",
        "  for ifrom,ithru,label,color,offset in zip([ix,iy_act],\\\n",
        "      [ix_del,iy_mod],\\\n",
        "      [\"bwe ≤ $\\epsilon$\",\"fwe ≤ $\\eta$\"],\\\n",
        "      [\"0\",\"0\"],[(-10,0),(1,0)]):\n",
        "\n",
        "    dx = data[ithru,jx] - data[ifrom,jx]; dy = data[ithru,jy] - data[ifrom,jy]\n",
        "    axs[2].annotate(\"\",xy=(data[ifrom,jx],data[ifrom,jy]),xytext=(data[ifrom,jx]+dx,data[ifrom,jy]+dy),\\\n",
        "      arrowprops=dict(arrowstyle=\"<|-|>\"))\n",
        "    dx += d_offset*offset[0]\n",
        "    dy += d_offset*offset[1]\n",
        "    axs[2].annotate(label,(data[ifrom,jx],data[ifrom,jy]),(data[ifrom,jx]+dx/2,data[ifrom,jy]+dy/2))\n",
        "\n",
        "  axs[0].axis(\"off\")\n",
        "  axs[1].axis(\"off\") # lol = spacer, atm\n",
        "  axs[2].axis(\"off\")\n",
        "  plt.show()\n"
      ]
    },
    {
      "cell_type": "markdown",
      "source": [
        "## 06 propagation"
      ],
      "metadata": {
        "id": "U-Vc4fRmnpd7"
      }
    },
    {
      "cell_type": "markdown",
      "source": [
        "### i) error magnification"
      ],
      "metadata": {
        "id": "mHkEinXjnxSq"
      }
    },
    {
      "cell_type": "markdown",
      "source": [
        "<b>error magnification</b>, frequently $\\gamma$, relates forward and backward error wrt amplification. ie, it quantifies how small errors in input can increase in the final solution.\n",
        "</br></br>\n",
        "\n",
        "\\begin{align}\n",
        "  \\gamma &= \\text{forward error} / \\text{backward error} = |\\Delta y| / |\\Delta x| \\\\\n",
        "  \\\\\n",
        "  &\\Downarrow \\quad\\text{or more formally} \\\\\n",
        "  \\\\\n",
        "  &= \\lim_{\\Delta x\\rightarrow 0}\\, \\text{sup}_{\\Delta x \\le \\epsilon}\\, |\\Delta y|/|\\Delta x|.\n",
        "\\end{align}"
      ],
      "metadata": {
        "id": "AyagBeVDnzvA"
      }
    },
    {
      "cell_type": "markdown",
      "source": [
        "### ii) condition number"
      ],
      "metadata": {
        "id": "8Tu5j0YBgjJb"
      }
    },
    {
      "cell_type": "markdown",
      "source": [
        "<b>condition number</b>, frequently $\\kappa$, relates forward and backward error wrt likelihood. ie, it quantifies how small perturbations in input affect the final solution.\n",
        "</br></br>\n",
        "\n",
        "\\begin{align}\n",
        "  \\kappa &= \\text{relative forward error} / \\text{relative backward error} = |\\delta y| / |\\delta x| \\\\\n",
        "  \\\\\n",
        "  &\\Downarrow \\quad\\text{or more formally} \\\\\n",
        "  \\\\\n",
        "  &= \\lim_{\\Delta x\\rightarrow 0}\\, \\text{sup}_{\\Delta x \\le \\epsilon}\\, [\\,|\\Delta y| / |y|\\,] / [\\,|\\Delta x| / |x|\\,].\n",
        "\\end{align}\n",
        "</br>\n",
        "\n",
        "a small condition number indicates a \"well-conditioned\" system and a large condition number indicates an \"ill-conditioned\" system wrt stability."
      ],
      "metadata": {
        "id": "ZHXD7Tp7pEqW"
      }
    },
    {
      "cell_type": "markdown",
      "source": [
        "</br></br></br></br></br></br></br></br></br></br>"
      ],
      "metadata": {
        "id": "GU1JRTXfmAUp"
      }
    },
    {
      "cell_type": "markdown",
      "source": [
        "##### example 01"
      ],
      "metadata": {
        "id": "OKNUVqSu6VaD"
      }
    },
    {
      "cell_type": "markdown",
      "source": [
        "consider perturbations wrt $p(x) = 17x^3 + 11x^2 + 2 \\Rightarrow \\Delta y$."
      ],
      "metadata": {
        "id": "FSYLzgoO6YD4"
      }
    },
    {
      "cell_type": "markdown",
      "source": [
        "\\begin{align}\n",
        "  \\Delta y &= p(x + \\Delta x) - p(x) \\\\\n",
        "  &= [17(x+\\Delta x)^3 + 11(x+\\Delta x)^2 + 2] - [17x^3 + 11x^2 + 2] \\\\\n",
        "  &= 51x^2\\Delta x + 51x(\\Delta x)^2 + 17(\\Delta x)^3 + 22x(\\Delta x) + 11(\\Delta x)^2 \\\\\n",
        "  \\\\\n",
        "  &\\Downarrow \\quad|\\Delta x| \\ll 1 \\text{, disregard higher orders of } \\Delta x \\\\\n",
        "  \\\\\n",
        "  \\Delta y &\\approx 51x^2\\Delta x + 22x\\Delta x. \\\\\n",
        "  \\\\\n",
        "  &\\Downarrow \\quad\\text{consider } x = 1 \\pm 0.1 \\\\\n",
        "  \\\\\n",
        "  \\Delta y &\\approx 30 \\pm 7.3.\n",
        "\\end{align}"
      ],
      "metadata": {
        "id": "cRuWayjy65Ox"
      }
    },
    {
      "cell_type": "markdown",
      "source": [
        "$p(1) = 30$, so the $\\pm 7.1$ that results from $\\Delta x = \\pm 0.1$ is inherent to this $p(x)$.\n",
        "</br></br>\n",
        "\n",
        "consider $1$ as an ideal upper bound for $\\kappa$.\n",
        "</br></br>\n",
        "\n",
        "\\begin{align}\n",
        "  \\kappa_{\\text{REL}} &= |\\delta y| / |\\delta x| = |7.3/30| / |0.1/1| = 2.4\\overline{3} \\sim\\,\\text{not great!} \\\\\n",
        "  \\\\\n",
        "  \\kappa_{\\text{ABS}} &= |\\delta y| / |\\delta x| = |7.3|/|0.1| = 73 \\sim\\,\\text{godawful.}\n",
        "\\end{align}"
      ],
      "metadata": {
        "id": "5JNeMrMaebps"
      }
    },
    {
      "cell_type": "markdown",
      "source": [
        "</br></br></br></br></br></br></br></br></br></br>\n",
        "</br></br></br></br></br></br>"
      ],
      "metadata": {
        "id": "-wVkGGgWl3zB"
      }
    },
    {
      "cell_type": "markdown",
      "source": [
        "##### theorem 01. rounding error limit"
      ],
      "metadata": {
        "id": "54sVQeb2_w-1"
      }
    },
    {
      "cell_type": "markdown",
      "source": [
        "suppose $i = 1,\\dots,n$ and $0 < \\delta_i \\le \\mu_{\\text{mach}}$ and $\\epsilon_i \\in\\{-1,+1\\}$. additionally, suppose $n\\mu_{\\text{mach}} < 1$. then\n",
        "</br></br>\n",
        "\n",
        "$$\\prod^n\\, (1+\\delta_i)^{e_i} = 1 + \\Theta_n$$\n",
        "</br>\n",
        "\n",
        "where $|\\Theta_n| \\le \\gamma_n \\equiv n\\mu_{\\text{mach}}/(1-n\\mu_{\\text{mach}})$. ie, <b>$\\Theta_n$ aggregates error and $\\gamma_n$ is its bound.</b>$^{[1]}$\n",
        "</br></br>\n",
        "\n",
        "note: rounding error, $\\mu_{\\text{mach}} = \\tfrac{1}{2}\\epsilon_{\\text{mach}}$, where $\\epsilon_{\\text{mach}}$ is machine error."
      ],
      "metadata": {
        "id": "356neOXq_0sp"
      }
    },
    {
      "cell_type": "markdown",
      "source": [
        "###### proof-lite"
      ],
      "metadata": {
        "id": "DerTZ5ukBuOz"
      }
    },
    {
      "cell_type": "markdown",
      "source": [
        "\\begin{align}\n",
        "  \\prod^n\\, (1+\\delta_i)^{e_i} &\\le \\prod^n\\, (1+\\delta_i) \\le \\prod^n\\, (1+\\mu_{\\text{mach}}) = (1+\\mu_{\\text{mach}})^n. \\\\\n",
        "  \\\\\n",
        "  &\\le (1+n\\mu_{\\text{mach}})^n \\\\\n",
        "  \\\\\n",
        "  &\\le \\frac{1}{1 - n\\mu_{\\text{mach}}} \\quad\\text{bc binomial theorem, } n\\mu_{\\text{mach}} < 1 \\\\\n",
        "  \\\\\n",
        "  &\\Rightarrow \\text{choose } \\gamma_n = \\frac{1}{1 - n\\mu_{\\text{mach}}} - 1 = \\frac{n\\mu_{\\text{mach}}}{1 - n\\mu_{\\text{mach}}} \\\\\n",
        "  \\\\\n",
        "  &\\Rightarrow \\Theta_n + 1 \\le \\gamma_n  + 1. \\enspace\\checkmark\n",
        "\\end{align}"
      ],
      "metadata": {
        "id": "9Mck8U-lBwTA"
      }
    },
    {
      "cell_type": "markdown",
      "source": [
        "</br></br></br></br></br></br></br></br></br></br>\n",
        "</br></br></br></br></br>"
      ],
      "metadata": {
        "id": "j0KG_lOGlsjL"
      }
    },
    {
      "cell_type": "markdown",
      "source": [
        "##### theorem 02. dot product in $\\mathbb{R}^3$"
      ],
      "metadata": {
        "id": "pCQuI_q3jULy"
      }
    },
    {
      "cell_type": "markdown",
      "source": [
        "dot product in $\\mathbb{R}^3$ is backward stable in $\\mathbb{FP}^3$."
      ],
      "metadata": {
        "id": "2WPftnRUTOVn"
      }
    },
    {
      "cell_type": "markdown",
      "source": [
        "###### proof"
      ],
      "metadata": {
        "id": "XApf5q7GXMBv"
      }
    },
    {
      "cell_type": "markdown",
      "source": [
        "determine backward stability for the computational approximation of the dot product."
      ],
      "metadata": {
        "id": "V1-xzbB_YS_P"
      }
    },
    {
      "cell_type": "markdown",
      "source": [
        "<i>note: for simplicity, this proof only considers $\\otimes$, which is more expensive then $\\oplus$.</i>"
      ],
      "metadata": {
        "id": "Dvp_aBJMXOvA"
      }
    },
    {
      "cell_type": "markdown",
      "source": [
        "\\begin{align}\n",
        "  \\phi(x,y) &= x\\cdot y \\quad x,y \\in\\mathbb{R}^3 \\quad\\text{and} \\\\\n",
        "  \\hat{\\phi}(\\hat{x},\\hat{y}) & = \\hat{x}\\odot\\hat{y} = (\\hat{x_1}\\otimes\\hat{y_1})+(\\hat{x_2}\\otimes\\hat{y_2})+(\\hat{x_3}\\otimes\\hat{y_3}) \\\\\n",
        "  \\\\\n",
        "  &\\Downarrow \\quad\\text{where } \\hat{x}_j = x_j(1+\\color{blue}{\\delta_{x_j}}), \\hat{y}_j = y_j(1+\\color{blue}{\\delta_{y_j}}), \\quad \\color{blue}{\\text{representation error}} \\\\\n",
        "  \\\\\n",
        "  &= \\sum^3_{j=1}\\, x_j(1+\\color{blue}{\\delta_{x_j}}) \\color{orange}{\\otimes} y_j(1+\\color{blue}{\\delta_{y_j}}) \\\\\n",
        "  &= \\sum^3_{j=1}\\, x_j(1+\\color{blue}{\\delta_{x_j}}) y_j(1+\\color{blue}{\\delta_{y_j}}) (1 + \\color{orange}{\\delta_{\\otimes_j}}), \\quad \\color{orange}{\\otimes \\text{ operation error}} \\\\\n",
        "  &= \\sum^3_{j=1}\\, x_jy_j(1+\\color{blue}{\\delta_{x_j}}) (1+\\color{blue}{\\delta_{y_j}}) (1 + \\color{orange}{\\delta_{\\otimes_j}}) \\\\\n",
        "  &= \\sum^3_{j=1}\\, x_jy_j(1+\\color{green}{\\Theta_{3,j}}) \\quad\\text{order } \\color{green}{3} \\text{ per } j, \\text{ theorem 01} \\\\\n",
        "  &= x_1y_1(1+\\color{green}{\\Theta_{3,1}}) + x_2y_2(1+\\color{green}{\\Theta_{3,2}}) + x_3y_3(1+\\color{green}{\\Theta_{3,3}}) \\\\\n",
        "  \\\\\n",
        "  &\\Downarrow \\quad\\text{let } \\color{red}{\\Delta x_j} = x_j\\color{green}{\\Theta_{3,j}} \\\\\n",
        "  \\\\\n",
        "  &= \\phi(x,y) + \\underbrace{y_1\\color{red}{\\Delta x_1} + y_2\\color{red}{\\Delta x_2} + y_3\\color{red}{\\Delta x_3}}_{\\text{dot product bt }y,\\color{red}{\\Delta x}} = \\phi(x,y) + \\phi(\\color{red}{\\Delta x},y) \\quad \\\\\n",
        "  \\\\\n",
        "  &\\Downarrow \\quad\\text{let } \\color{purple}{\\Delta y} = 0 \\\\\n",
        "  \\\\\n",
        "  &= \\phi(x+\\color{red}{\\Delta x},y+\\color{purple}{\\Delta y}) \\\\\n",
        "  \\\\\n",
        "  &\\Rightarrow \\text{choose } \\gamma_{\\color{green}{3}} \\text{ such that } ||(\\color{red}{\\Delta x},\\color{purple}{\\Delta y})|| \\le \\gamma_{\\color{green}{3}} ||(x,y)|| \\text{ and } |\\color{green}{\\Theta_{3,j}}| \\le \\gamma_{\\color{green}{3}} = \\tfrac{\\color{green}{3}\\mu_{\\text{mach}}}{1 - \\color{green}{3}\\mu_{\\text{mach}}}, \\text{ theorem 01} \\\\\n",
        "  \\\\\n",
        "  &\\Rightarrow\\, \\therefore \\text{ bounded and backward stable. } \\blacksquare\n",
        "\\end{align}"
      ],
      "metadata": {
        "id": "7jAd5LZ9Xc3B"
      }
    },
    {
      "cell_type": "markdown",
      "source": [
        "#### condition number vs correlation"
      ],
      "metadata": {
        "id": "713qc6u7wrSI"
      }
    },
    {
      "cell_type": "markdown",
      "source": [
        "however, distinguish between stability and correlation. eg, $\\kappa \\ll 1$ indicates high stability wrt to a system between its modeled inputs to output but the inputs may not correlate (ie, relate linearly) to the output."
      ],
      "metadata": {
        "id": "dPjKCAafwvCw"
      }
    },
    {
      "cell_type": "markdown",
      "source": [
        "#### matrix condition number"
      ],
      "metadata": {
        "id": "VV_FaZd2s4Qh"
      }
    },
    {
      "cell_type": "markdown",
      "source": [
        "<b>matrix condition number</b>, $cond(A)$, is a specific type of condition number that relates to matrices. for matrix $A = \\{a_{ii}\\}$,\n",
        "</br></br>\n",
        "\n",
        "$$cond(A) = \\kappa(A) \\ge \\frac{\\text{max}_i(|a_{ii}|)}{\\text{min}_i(|a_{ii}|)}.$$"
      ],
      "metadata": {
        "id": "r78S6Fibs7gp"
      }
    },
    {
      "cell_type": "markdown",
      "source": [
        "### iii) error magnification vs condition number"
      ],
      "metadata": {
        "id": "KgyLpXDbrbP3"
      }
    },
    {
      "cell_type": "markdown",
      "source": [
        "error magnification indicates how much an error is amplified; condition number indicates how likely it is for an error to be amplified."
      ],
      "metadata": {
        "id": "3cg52XNjr9G2"
      }
    },
    {
      "cell_type": "markdown",
      "source": [
        "</br></br></br></br></br></br></br></br></br></br>\n",
        "</br></br></br></br></br></br></br></br></br></br>\n",
        "</br>"
      ],
      "metadata": {
        "id": "1k48eZ6_lPzA"
      }
    },
    {
      "cell_type": "markdown",
      "source": [
        "## resources"
      ],
      "metadata": {
        "id": "MM6dHgmPRNXs"
      }
    },
    {
      "cell_type": "markdown",
      "source": [
        "* perturbation theory [@wiki](https://en.wikipedia.org/wiki/Perturbation_theory)\n",
        "* stability analysis [@wiki](https://en.wikipedia.org/wiki/Stability_theory) (this one is way too much tbh, so for fun, yes?)\n",
        "* condition number [@wiki](https://en.wikipedia.org/wiki/Condition_number)\n",
        "</br></br>\n",
        "\n",
        "additional reading for theorem 01.\n",
        "* mcclure, david. \"ch 09, computer rounding errors\", <i>computational physics guide</i>, editura, 2009.$^{[3]}$\n",
        "* mcclure, david. \"ch 10, computer rounding errors: applications\", <i>computational physics guide</i>, editura, 2009.$^{[4]}$\n",
        "</br>\n",
        "\n",
        "additional reading for stability. or for anything, really.\n",
        "* higham, nick. <i>[backward error](https://nhigham.com/2020/03/25/what-is-backward-error/)</i>. $\\color{orange}{\\bigstar}$\n",
        "* higham, nick. <i>[numerical stability](https://nhigham.com/2020/08/04/what-is-numerical-stability/)</i>. $\\color{orange}{\\bigstar}$"
      ],
      "metadata": {
        "id": "5fk6SNYH3xgJ"
      }
    },
    {
      "cell_type": "markdown",
      "source": [
        "## references"
      ],
      "metadata": {
        "id": "2y1GOqNZRPDF"
      }
    },
    {
      "cell_type": "markdown",
      "source": [
        "1. corliss, richard. <i></i>\n",
        "2. <i>ibid.</i>\n",
        "3. may be searched at source: portland state university.\n",
        "4. may be searched at source: portland state university."
      ],
      "metadata": {
        "id": "mv9uXsxAR38q"
      }
    }
  ]
}