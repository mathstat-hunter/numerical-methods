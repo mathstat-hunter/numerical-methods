{
  "nbformat": 4,
  "nbformat_minor": 0,
  "metadata": {
    "colab": {
      "provenance": [],
      "collapsed_sections": [
        "De22YYrw3bY3",
        "PcvDWPUEQopv",
        "Mh6JjUeQ9J7v",
        "rmhreA-GOsdo"
      ]
    },
    "kernelspec": {
      "name": "python3",
      "display_name": "Python 3"
    },
    "language_info": {
      "name": "python"
    }
  },
  "cells": [
    {
      "cell_type": "markdown",
      "source": [
        "# 04.01 least squares and the normal equations"
      ],
      "metadata": {
        "id": "IgURT4MC1E1V"
      }
    },
    {
      "cell_type": "markdown",
      "source": [
        "##### code, support for section text"
      ],
      "metadata": {
        "id": "De22YYrw3bY3"
      }
    },
    {
      "cell_type": "code",
      "source": [
        "if False: # settings for sensei\n",
        "  from google.colab import auth\n",
        "  from googleapiclient.discovery import build\n",
        "\n",
        "  auth.authenticate_user()\n",
        "  about = build('drive','v3').about().get(fields='user').execute()\n",
        "  if about['user']['displayName'] == \"Sun K.\":\n",
        "\n",
        "    # output to pdf setting\n",
        "    from google.colab import output\n",
        "    output.no_vertical_scroll()\n",
        "    #output.no_horizontal_scroll() # sigh, doesnt exist"
      ],
      "metadata": {
        "id": "lBate1Eqjvc1"
      },
      "execution_count": null,
      "outputs": []
    },
    {
      "cell_type": "code",
      "source": [
        "if True: # settings for the people\n",
        "  import matplotlib.pyplot as plt\n",
        "  import numpy as np\n",
        "  import pandas as pd\n",
        "  from tabulate import tabulate\n",
        "\n",
        "  pd.set_option('display.max_rows',10)\n"
      ],
      "metadata": {
        "id": "-15p98tNjvc2"
      },
      "execution_count": null,
      "outputs": []
    },
    {
      "cell_type": "markdown",
      "source": [
        "###### code, horners"
      ],
      "metadata": {
        "id": "PcvDWPUEQopv"
      }
    },
    {
      "cell_type": "code",
      "source": [
        "def horners(cs,x):\n",
        "  \"\"\"\n",
        "  cs : coefficients = a[n] ... a[2],a[1],a[0]\n",
        "  x : lol, really?\n",
        "\n",
        "  returns : evaluated nested polynomial\n",
        "  \"\"\"\n",
        "  rc = None\n",
        "  if cs:\n",
        "    i = len(cs) - 1\n",
        "    rc = cs[i]\n",
        "    for i in reversed(range(i)):\n",
        "      rc = rc*x + cs[i]\n",
        "  return rc\n"
      ],
      "metadata": {
        "id": "9iQsPr8xQqfv"
      },
      "execution_count": null,
      "outputs": []
    },
    {
      "cell_type": "markdown",
      "source": [
        "###### code, images in order of appearance"
      ],
      "metadata": {
        "id": "Mh6JjUeQ9J7v"
      }
    },
    {
      "cell_type": "code",
      "source": [
        "# this is a plain jane, no special method script to plot the previous system\n",
        "\n",
        "def img_lsq_eqns(x_approx):\n",
        "\n",
        "  # system, y ≡ x₂(x₁,b)\n",
        "  y1 = lambda x: 2 - x\n",
        "  y2 = lambda x: x - 1\n",
        "  y3 = lambda x: 3 - x\n",
        "\n",
        "  # intervals\n",
        "  xs = np.array([0,4])\n",
        "  ys_1 = y1(xs)\n",
        "  ys_2 = y2(xs)\n",
        "  ys_3 = y3(xs)\n",
        "\n",
        "  # plot, cfg\n",
        "  plt.close(\"all\")\n",
        "\n",
        "  # plot, data\n",
        "  plt.scatter(x_approx[0,0],x_approx[1,0],label=\"best one\",marker=\"*\",c=\"red\",s=100,zorder=10)\n",
        "  plt.plot(xs,ys_1,label=\"$f_1(x) = 2 - x$\")\n",
        "  plt.plot(xs,ys_2,label=\"$f_2(x) = x - 1$\")\n",
        "  plt.plot(xs,ys_3,label=\"$f_3(x) = 3 - x$\")\n",
        "\n",
        "  # plot, set style\n",
        "  plt.grid()\n",
        "  plt.title(f\"least squares\\n\")\n",
        "  plt.legend(bbox_to_anchor=(1.02,1),loc='upper left',borderaxespad=0)\n",
        "  plt.ylabel(\"y\")\n",
        "  plt.xlabel(\"x\")\n",
        "\n",
        "  # plot, show\n",
        "  plt.show()\n"
      ],
      "metadata": {
        "id": "ONmbxD1O43oR"
      },
      "execution_count": null,
      "outputs": []
    },
    {
      "cell_type": "code",
      "source": [
        "def img_lsq_data():\n",
        "  ts = np.array([2,5.5,7,10.5,13])\n",
        "  ys = np.array([4.5,4,8,7,7])\n",
        "\n",
        "  ts_dis = np.linspace(min(ts)-1,max(ts)+1,101) # display interval\n",
        "  optics = lambda x: 3 + x/2 #lies lies lies\n",
        "\n",
        "  # least squares\n",
        "  pr_lsq = np.polyfit(ts,ys,deg=1,full=True) # coeffs, residual, stuff\n",
        "  pc_lsq = pr_lsq[0] # coeffs\n",
        "  if False: # display, error\n",
        "    pr_lsq_se = pr_lsq[1] # SE\n",
        "    print(f\"\\n  SE: {pr_lsq_se}\")\n",
        "    print(f\"\\nRMSE: {np.sqrt(pr_lsq_se/len(xs))}\")\n",
        "    print(f\"\\n   y: {pc_lsq[1]} {pc_lsq[0]:+}·x\") # coeffs in reverse order\n",
        "  px_lsq = np.poly1d(pc_lsq) # poly object from coeffs\n",
        "  ps_lsq = px_lsq(ts_dis) # y = p(x) over interval\n",
        "\n",
        "  # plot, cfg\n",
        "  plt.close(\"all\")\n",
        "\n",
        "  # plot, data\n",
        "  plt.scatter(ts,ys,c=\"black\",zorder=10)\n",
        "  plt.plot(ts_dis,optics(ts_dis)) # lies lies lies\n",
        "  plt.plot(ts_dis,ps_lsq,lw=20,alpha=.1)\n",
        "\n",
        "  offset = 0.1\n",
        "  s_data = \"\"\n",
        "  s_error = \"\"\n",
        "  for i,(t,y) in enumerate(zip(ts,ys)):\n",
        "    f = optics(t)\n",
        "    dy = f - y\n",
        "    s_data = f\"($t_{i+1}$,$y_{i+1}$)\"\n",
        "    s_error = f\"$e_{i+1}$\"\n",
        "    plt.plot([t,t],[y,f],c=\"grey\")\n",
        "    if dy < 0:\n",
        "      plt.text(t-6*offset,y+7*offset,s_data)\n",
        "      plt.text(t-7*offset,y-abs(dy)/2,s_error)\n",
        "    else:\n",
        "      plt.text(t-6*offset,y-10*offset,s_data)\n",
        "      plt.text(t+3*offset,y+abs(dy)/4,s_error)\n",
        "\n",
        "  # plot, style\n",
        "  plt.xlim(0,15)\n",
        "  plt.ylim(0,15)\n",
        "  # plot, show\n",
        "  plt.show()\n"
      ],
      "metadata": {
        "id": "J4SBlZU5MZmg"
      },
      "execution_count": null,
      "outputs": []
    },
    {
      "cell_type": "markdown",
      "source": [
        "###### code, examples"
      ],
      "metadata": {
        "id": "rmhreA-GOsdo"
      }
    },
    {
      "cell_type": "code",
      "source": [
        "# example 03: uses polyfit,poly1d\n",
        "\n",
        "def eg_03():\n",
        "\n",
        "  xs = np.array([1,-1,1])\n",
        "  ys = np.array([2,1,3])\n",
        "\n",
        "  # get least squares fit\n",
        "  #pc_lsq = np.polyfit(xs,ys,deg=1) # coeffs, default is lsq\n",
        "  pr_lsq = np.polyfit(xs,ys,deg=1,full=True) # coeffs, residual, stuff\n",
        "  pc_lsq = pr_lsq[0] # coeffs\n",
        "\n",
        "  # use least squares fit\n",
        "  px_lsq = np.poly1d(pc_lsq) # poly object from coeffs\n",
        "  xs_dis = np.linspace(min(xs)-1,max(xs)+1,101) # display interval\n",
        "  ps_lsq = px_lsq(xs_dis) # y = p(x) over interval\n",
        "\n",
        "  if True: # plot\n",
        "    # plot, cfg\n",
        "    plt.close(\"all\")\n",
        "\n",
        "    # plot, data\n",
        "    plt.scatter(xs,ys,c=\"C0\",marker=\"o\",label=\"some data\")\n",
        "    plt.plot(xs_dis,ps_lsq,c=\"C0\",linestyle=\":\",label=str(px_lsq))\n",
        "\n",
        "    # plot, labels\n",
        "    offset = 0.1\n",
        "    sxy = []\n",
        "    for i,x in enumerate(xs):\n",
        "      sxy.append(f\"({xs[i]},{ys[i]})\")\n",
        "    for i,label in enumerate(sxy):\n",
        "      plt.text(xs[i]+offset,ys[i]+offset,label)\n",
        "\n",
        "    # plot, style\n",
        "    plt.title(\"\\nbest linear model for some data,\\n\\nleast squares\\n\")\n",
        "    plt.legend(bbox_to_anchor=(1.02,1),loc='upper left',borderaxespad=0)\n",
        "    plt.ylabel(\"y\")\n",
        "    plt.xlabel(\"x\")\n",
        "    # plot, show\n",
        "    plt.show()\n",
        "\n",
        "  if True: # error\n",
        "    # display, error\n",
        "    pr_lsq_se = pr_lsq[1] # SE\n",
        "    print(f\"\\n  SE: {pr_lsq_se}\")\n",
        "    print(f\"\\nRMSE: {np.sqrt(pr_lsq_se/len(xs))}\\n\")\n",
        "\n",
        "  if True: # dataframe\n",
        "    # pandas dataframe # only for 4 data points so \"xs\"\n",
        "    ps = np.full((xs.size,4),np.nan) # cols = t,y,model,error\n",
        "    ps[:,0] = xs\n",
        "    ps[:,1] = ys\n",
        "    ps[:,2] = px_lsq(xs)\n",
        "    ps[:,3] = ps[:,1] - ps[:,2]\n",
        "    sCol = [\"t\",\"y\",\"model\",\"error\"] # pandas can use latex, i guess?\n",
        "    df = pd.DataFrame(data=ps,columns=sCol)\n",
        "    df[\"error\"] = df[\"error\"].apply(\"{:.4f}\".format)\n",
        "    display(df)\n"
      ],
      "metadata": {
        "id": "zFOCPImmNxsI"
      },
      "execution_count": null,
      "outputs": []
    },
    {
      "cell_type": "code",
      "source": [
        "# example 04 # during lecture, ok?\n",
        "\n",
        "#  # data for example 04\n",
        "#  xs = np.array([-1,0,1,2])\n",
        "#  ys = np.array([-1,0,0,-2])\n",
        "\n",
        "# 01 copy-pasted previous code cell for example 03\n",
        "# 02 renamed pasted code cell to example 04\n",
        "# 03 replaced lines 10,11 with xs,ys above\n",
        "# 04 updated line 15 argument \"deg\" to 2 from 1 (and later to 3 for kicks)\n",
        "#\n",
        "# nothing else needs to change - no labels, no anything"
      ],
      "metadata": {
        "id": "oo6x73wtph5O"
      },
      "execution_count": null,
      "outputs": []
    },
    {
      "cell_type": "code",
      "source": [
        "# example 05: uses least squares\n",
        "\n",
        "def eg_05(nc,ny,snark=\"lol\"):\n",
        "  \"\"\"\n",
        "  nc : # unkowns = coeffs\n",
        "  ny : # equations\n",
        "  snark : (known) commentary\n",
        "  \"\"\"\n",
        "\n",
        "  xs = np.linspace(2.0,4.0,ny) # these are not unknown\n",
        "  ys = horners([1]*nc,xs) # populate b = y[i]\n",
        "  vdm = np.ones((ny,nc))\n",
        "  for j in reversed(range(1,nc)):\n",
        "    for i in range(ny):\n",
        "      for k in range(j,nc):\n",
        "        vdm[i,k] *= xs[i]\n",
        "\n",
        "  # get best numpy solution\n",
        "  cs_sys,r_sys,rank_sys,s_sys = np.linalg.lstsq(vdm,ys,rcond=None)\n",
        "\n",
        "  # get lecture/basic least squares solution\n",
        "  ata = vdm.T @ vdm\n",
        "  atb = vdm.T @ ys\n",
        "  cs_lsq = np.linalg.solve(ata,atb)\n",
        "\n",
        "  print(f\"\\nsys: {cs_sys} = {snark}\")\n",
        "  print(f\"\\nbc cond(vdm): {np.linalg.cond(vdm):.2f}\")\n",
        "  print(f\"\\nlsq: {cs_lsq} = {snark}++\")\n",
        "  print(f\"\\nbc cond(ata): {np.linalg.cond(ata):.2f}\")\n",
        "\n"
      ],
      "metadata": {
        "id": "bv9vEbA4SErN"
      },
      "execution_count": null,
      "outputs": []
    },
    {
      "cell_type": "markdown",
      "source": [
        "## 0 intro"
      ],
      "metadata": {
        "id": "FQjes0NW3YEI"
      }
    },
    {
      "cell_type": "markdown",
      "source": [
        "least squares as an idea has been around since gauss and legendre, depending on how you define \"as an idea\". and \"L2\" is all over, underpinning this modern world."
      ],
      "metadata": {
        "id": "KhMYiUgTwiRu"
      }
    },
    {
      "cell_type": "markdown",
      "source": [
        "rootfinding has been cases where solutions exist, exact or approximate; what about when they dont exist? interpolation has focused on models that intersect all data; is that always the best model?"
      ],
      "metadata": {
        "id": "ee9WmBV-xqSM"
      }
    },
    {
      "cell_type": "markdown",
      "source": [
        "## 1 inconsistent systems of equations"
      ],
      "metadata": {
        "id": "chdpyMel0885"
      }
    },
    {
      "cell_type": "markdown",
      "source": [
        "\\begin{align}\n",
        "  x_1 + x_2 &= 2 \\\\\n",
        "  x_1 - x_2 &= 1 \\\\\n",
        "  x_1 + x_2 &= 3.\n",
        "\\end{align}"
      ],
      "metadata": {
        "id": "Arv0rWoq3gzw"
      }
    },
    {
      "cell_type": "markdown",
      "source": [
        "who do you uninvite to the party? lets not have math be exclusionist; lets compromise with a solution that comes close. interpret \"close\" in terms of euclidean distance as method of the week."
      ],
      "metadata": {
        "id": "x6w_29GsEmOB"
      }
    },
    {
      "cell_type": "markdown",
      "source": [
        "for $m\\times n$ system $Ax=b$, C"
      ],
      "metadata": {
        "id": "UdGvMufg3lVm"
      }
    },
    {
      "cell_type": "markdown",
      "source": [
        "\\begin{align}\n",
        "  \\begin{bmatrix} 1 & 1 \\\\ 1 & -1 \\\\ 1 & 1 \\end{bmatrix}\n",
        "  \\begin{bmatrix} x_1 \\\\ x_2 \\end{bmatrix}\n",
        "  &=\n",
        "  \\begin{bmatrix} 2 \\\\ 1 \\\\ 3 \\end{bmatrix} \\\\\n",
        "  \\\\\n",
        "  &\\Downarrow \\quad\\text{or} \\\\\n",
        "  \\\\\n",
        "  x_1 \\begin{bmatrix} 1 \\\\ 1 \\\\ 1 \\end{bmatrix}\n",
        "  +\n",
        "  x_2 \\begin{bmatrix} 1 \\\\ -1 \\\\ 1 \\end{bmatrix}\n",
        "  &=\n",
        "  \\begin{bmatrix} 2 \\\\ 1 \\\\ 3 \\end{bmatrix}\n",
        "  \\quad\\Rightarrow\\quad\n",
        "  x_1v_1 + x_2v_2 + \\dots + x_nv_n = b.\n",
        "\\end{align}"
      ],
      "metadata": {
        "id": "OReyqu3a3nM3"
      }
    },
    {
      "cell_type": "markdown",
      "source": [
        "ie, hit target 3d $b$ with two 3d vectors, $x_1,x_2$. \"closest\" to $b$ is in the plane $Ax = x_1 + x_2$ in $\\mathbb{R}^3$."
      ],
      "metadata": {
        "id": "2S1cDiAOGMoo"
      }
    },
    {
      "cell_type": "code",
      "source": [
        "#import numpy as np\n",
        "\n",
        "a = np.array([[1,1],[1,-1],[1,1]])\n",
        "b = np.array([[2],[1],[3]])\n",
        "\n",
        "ata = a.T@a\n",
        "atb = a.T@b\n",
        "x_approx = np.linalg.solve(ata,atb)\n",
        "print(x_approx)\n"
      ],
      "metadata": {
        "colab": {
          "base_uri": "https://localhost:8080/"
        },
        "id": "D-AULkE0P7U0",
        "outputId": "77657331-22c5-41bb-aadb-d9c202c2c80e"
      },
      "execution_count": null,
      "outputs": [
        {
          "output_type": "stream",
          "name": "stdout",
          "text": [
            "[[1.75]\n",
            " [0.75]]\n"
          ]
        }
      ]
    },
    {
      "cell_type": "code",
      "source": [
        "img_lsq_eqns(x_approx)"
      ],
      "metadata": {
        "colab": {
          "base_uri": "https://localhost:8080/",
          "height": 493
        },
        "outputId": "10727ea1-2569-434c-a604-6d1846114ab3",
        "id": "5Yp3KkLaXUd2"
      },
      "execution_count": null,
      "outputs": [
        {
          "output_type": "display_data",
          "data": {
            "text/plain": [
              "<Figure size 640x480 with 1 Axes>"
            ],
            "image/png": "[encoded data removed]"
          },
          "metadata": {}
        }
      ]
    },
    {
      "cell_type": "markdown",
      "source": [
        "there is no $x_1,x_2$ that solves the problem but there is a point in the plane $Ax$ of all possible candidates that is closest to $b$. also, $\\vec{r} = b - A\\bar{x}$ is perpendicular to $\\{Ax|x\\in\\mathbb{R}^n\\}$."
      ],
      "metadata": {
        "id": "fCQQnyy4dDpb"
      }
    },
    {
      "cell_type": "markdown",
      "source": [
        "recall: $A_{m\\times n}^T$ is $n\\times m$ matrix; $(A+B)^T = A^T + B^T$; $(AB)^T = B^TA^T$."
      ],
      "metadata": {
        "id": "Wz1yc9i8fZm3"
      }
    },
    {
      "cell_type": "markdown",
      "source": [
        "\\begin{align}\n",
        "  \\color{red}{\\vec{r}} &= b - A\\bar{x} \\color{blue}{\\perp \\{Ax|x\\in\\mathbb{R}^n\\}} \\\\\n",
        "  \\\\\n",
        "  &\\Downarrow \\quad \\vec{r}\\ne 0 \\text{ but imagine it for a moment} \\\\\n",
        "  \\\\\n",
        "  \\color{blue}{(Ax)^T}(b-A\\bar{x}) &= \\color{red}{0} \\quad \\forall\\text{ } x\\in \\mathbb{r}^n \\\\\n",
        "  \\\\\n",
        "  &\\Downarrow \\\\\n",
        "  \\\\\n",
        "  x^TA^T(b-A\\bar{x}) &= 0 \\quad \\forall\\, x\\in \\mathbb{r}^n \\\\\n",
        "  \\\\\n",
        "  &\\Downarrow \\quad A^T(b-A\\bar{x}) \\perp\\text{ all } x\\in \\mathbb{R}^n \\\\\n",
        "  \\\\\n",
        "  A^T(b-A\\bar{x}) &= 0 \\\\\n",
        "  \\\\\n",
        "  &\\Downarrow \\quad \\text{least squares solution} \\\\\n",
        "  \\\\\n",
        "  A^TA\\bar{x} &= A^Tb.\n",
        "\\end{align}"
      ],
      "metadata": {
        "id": "KjtoA7d8gLLW"
      }
    },
    {
      "cell_type": "markdown",
      "source": [
        "<b>normal equations for least squares</b>"
      ],
      "metadata": {
        "id": "NQylD1KX98Cm"
      }
    },
    {
      "cell_type": "markdown",
      "source": [
        "given inconsistent system $Ax = b$, solve $A^TA\\bar{x} = A^Tb$\n",
        "where $\\bar{x}$ that minimizes the euclidean length of the residual $r=b-Ax$.\n"
      ],
      "metadata": {
        "id": "LixyI0RMjT36"
      }
    },
    {
      "cell_type": "markdown",
      "source": [
        "##### example 01\n"
      ],
      "metadata": {
        "id": "BvkY_0x7j6fN"
      }
    },
    {
      "cell_type": "markdown",
      "source": [
        "use normal equations to find least squares solution of inconsistent system"
      ],
      "metadata": {
        "id": "HAwHAGjN-Bou"
      }
    },
    {
      "cell_type": "markdown",
      "source": [
        "$$\n",
        "A = \\begin{bmatrix} 1 & 1 \\\\ 1 & -1 \\\\ 1 & 1 \\end{bmatrix}, \\quad\n",
        "b = \\begin{bmatrix} 2 \\\\ 1 \\\\ 3 \\end{bmatrix}.\n",
        "$$"
      ],
      "metadata": {
        "id": "k2t-W6Rzj9ay"
      }
    },
    {
      "cell_type": "markdown",
      "source": [
        "\\begin{align}\n",
        "  A^TA &=\n",
        "  \\begin{bmatrix} 1 & 1 & 1 \\\\ 1 & -1 & 1 \\end{bmatrix}\n",
        "  \\begin{bmatrix} 1 & 1 \\\\ 1 & -1 \\\\ 1 & 1 \\end{bmatrix}\n",
        "  = \\begin{bmatrix} 3 & 1 \\\\ 1 & 3 \\end{bmatrix}, \\\\\n",
        "  \\\\\n",
        "  A^Tb &=\n",
        "  \\begin{bmatrix} 1 & 1 & 1 \\\\ 1 & -1 & 1 \\end{bmatrix}\n",
        "  \\begin{bmatrix} 2 \\\\ 1 \\\\ 3 \\end{bmatrix}\n",
        "  = \\begin{bmatrix} 6 \\\\ 4 \\end{bmatrix}. \\\\\n",
        "  \\\\\n",
        "  &\\Downarrow \\quad\\text{normal equations} \\\\\n",
        "  \\\\\n",
        "  \\begin{bmatrix} 3 & 1 \\\\ 1 & 3 \\end{bmatrix}\n",
        "  \\begin{bmatrix} x_1 \\\\ x_2 \\end{bmatrix}\n",
        "  &= \\begin{bmatrix} 6 \\\\ 4 \\end{bmatrix} \\\\\n",
        "  \\\\\n",
        "  &\\Downarrow \\quad\\text{gaussian elimination} \\\\\n",
        "  \\\\\n",
        "  \\begin{bmatrix} 3 & 1 & | & 6 \\\\ 1 & 3 & | & 4 \\end{bmatrix}\n",
        "  &\\rightarrow\n",
        "  \\begin{bmatrix} 3 & 1 & | & 6 \\\\ 0 & \\frac{8}{3} & | & 2 \\end{bmatrix}\n",
        "  \\quad\\Rightarrow\\quad \\bar{x}\n",
        "  = \\begin{bmatrix} \\bar{x_1} \\\\ \\bar{x_2} \\end{bmatrix}\n",
        "  = \\begin{bmatrix} \\frac{7}{4} \\\\ \\frac{3}{4} \\end{bmatrix}.\n",
        "\\end{align}"
      ],
      "metadata": {
        "id": "Wu1llhVNMRJh"
      }
    },
    {
      "cell_type": "markdown",
      "source": [
        "\\begin{align}\n",
        "  \\begin{bmatrix} 1 & 1 \\\\ 1 & -1 \\\\ 1 & 1 \\end{bmatrix}\n",
        "  \\begin{bmatrix} \\frac{7}{4} \\\\ \\frac{3}{4} \\end{bmatrix}\n",
        "  &= \\begin{bmatrix} 2.5 \\\\ 1 \\\\ 2.5 \\end{bmatrix}\n",
        "  \\ne \\begin{bmatrix} 2 \\\\ 1 \\\\ 3 \\end{bmatrix}\n",
        "  \\quad\\text{ remember youve solved exactly for a system where }\\vec{r}\\ne 0 \\\\\n",
        "  \\\\\n",
        "  &\\Downarrow \\quad\\text{and} \\\\\n",
        "  \\\\\n",
        "  r &= b - A\\bar{x} =\n",
        "  \\begin{bmatrix} 2 \\\\ 1 \\\\ 3 \\end{bmatrix} -\n",
        "  \\begin{bmatrix} 2.5 \\\\ 1 \\\\ 2.5 \\end{bmatrix} =\n",
        "  \\begin{bmatrix} -0.5 \\\\ 0.0 \\\\ 0.5 \\end{bmatrix}\n",
        "\\end{align}"
      ],
      "metadata": {
        "id": "oP9SACuOmvhO"
      }
    },
    {
      "cell_type": "markdown",
      "source": [
        "if $r$ is zero, the solution is exact. if not, the euclidean length of the residual vector is a backward error measure of how far $\\bar{x}$ is from being a solution. the size of the residual is expressed in more than one way:"
      ],
      "metadata": {
        "id": "7BhC_ub7-LEA"
      }
    },
    {
      "cell_type": "markdown",
      "source": [
        "\\begin{align}\n",
        "  \\text{euclidean 2-norm, } ||r||_2 &= \\sqrt{r_1^2 + \\dots + r_m^2} \\\\ \\\\\n",
        "  \\text{squared error, } SE &= r_1^2 + \\dots + r_m^2 \\\\ \\\\\n",
        "  \\text{root mean squared error, } RMSE &= \\sqrt{(r_1^2 + \\dots + r_m^2)/m}. \\\\ \\\\\n",
        "  \\Rightarrow\\quad RMSE &= \\sqrt{SE/m} = \\frac{||r||_2}{\\sqrt{m}}\n",
        "\\end{align}"
      ],
      "metadata": {
        "id": "Xkn2bizMpBJo"
      }
    },
    {
      "cell_type": "markdown",
      "source": [
        "##### example 02"
      ],
      "metadata": {
        "id": "jjMgXm5nL8RK"
      }
    },
    {
      "cell_type": "markdown",
      "source": [
        "solve least squares problem"
      ],
      "metadata": {
        "id": "gXmyAino-X9H"
      }
    },
    {
      "cell_type": "markdown",
      "source": [
        "$$\n",
        "\\begin{bmatrix} 1 & -4 \\\\ 2 & 3 \\\\ 2 & 2 \\end{bmatrix}\n",
        "\\begin{bmatrix} x_1 \\\\ x_2 \\end{bmatrix}\n",
        "= \\begin{bmatrix} -3 \\\\ 15 \\\\ 9 \\end{bmatrix}.\n",
        "$$"
      ],
      "metadata": {
        "id": "Y_yql_A6L-Ux"
      }
    },
    {
      "cell_type": "markdown",
      "source": [
        "\\begin{align}\n",
        "  A^TAx &= A^Tb \\\\\n",
        "  \\\\\n",
        "  &\\Downarrow \\\\\n",
        "  \\\\\n",
        "  \\begin{bmatrix} 9 & 6 \\\\ 6 & 29 \\end{bmatrix}\n",
        "  \\begin{bmatrix} x_1 \\\\ x_2 \\end{bmatrix}\n",
        "  &= \\begin{bmatrix} 45 \\\\ 75 \\end{bmatrix} \\\\\n",
        "  \\\\\n",
        "  &\\Downarrow \\quad\\text{gauss elimination or numpy.linalg.solve(), usw} \\\\\n",
        "  \\\\\n",
        "  \\bar{x} = \\begin{bmatrix} \\bar{x_1} \\\\ \\bar{x_2} \\end{bmatrix}\n",
        "  &= \\begin{bmatrix} 3.8 \\\\ 1.8 \\end{bmatrix}, \\\\\n",
        "  \\\\\n",
        "  r &= b-A\\bar{x} \\\\\n",
        "  \\\\\n",
        "  &= \\begin{bmatrix} -3 \\\\ 15 \\\\ 9 \\end{bmatrix}\n",
        "  - \\begin{bmatrix} 1 & -4 \\\\ 2 & 3 \\\\ 2 & 2 \\end{bmatrix}\n",
        "  \\begin{bmatrix} 3.8 \\\\ 1.8 \\end{bmatrix} \\\\\n",
        "  \\\\\n",
        "  &= \\begin{bmatrix} -3 \\\\ 15 \\\\ 9 \\end{bmatrix}\n",
        "  - \\begin{bmatrix} -3.4 \\\\ 13 \\\\ 11.2 \\end{bmatrix}\n",
        "  = \\begin{bmatrix} 0.4 \\\\ 2 \\\\ -2.2 \\end{bmatrix}, \\\\\n",
        "  \\\\\n",
        "  &\\Downarrow \\\\\n",
        "  \\\\\n",
        "  ||e||_2 &= \\sqrt{(0.4)^2 + 2^2 + (-2.2)^2} = 3.\n",
        "\\end{align}"
      ],
      "metadata": {
        "id": "2VwzJS0rQry3"
      }
    },
    {
      "cell_type": "markdown",
      "source": [
        "## 2 fitting models to data\n"
      ],
      "metadata": {
        "id": "98yI6YfBUCRu"
      }
    },
    {
      "cell_type": "markdown",
      "source": [
        "let $(t_1,y_1),\\dots,(t_m,y_m)$ be a set of points in the plane. given a ﬁxed class of models, such as all lines $y = c_1 + c_2t$, seek to locate the speciﬁc instance of the model that best ﬁts the data points in the 2-norm. the core of the least squares idea consists of measuring the residual of the ﬁt by the squared errors of the model at the data points and ﬁnding the model parameters that minimize this quantity."
      ],
      "metadata": {
        "id": "U1MN3NJWUHV5"
      }
    },
    {
      "cell_type": "code",
      "source": [
        "img_lsq_data()"
      ],
      "metadata": {
        "colab": {
          "base_uri": "https://localhost:8080/",
          "height": 430
        },
        "id": "iBzYcZW6Mpf0",
        "outputId": "018e82e0-248d-4194-ede0-259de2ab92d4"
      },
      "execution_count": null,
      "outputs": [
        {
          "output_type": "display_data",
          "data": {
            "text/plain": [
              "<Figure size 640x480 with 1 Axes>"
            ],
            "image/png": "[encoded data removed]"
          },
          "metadata": {}
        }
      ]
    },
    {
      "cell_type": "markdown",
      "source": [
        "##### example 03"
      ],
      "metadata": {
        "id": "PnaMKM-HOms5"
      }
    },
    {
      "cell_type": "markdown",
      "source": [
        "continues example 01.\n",
        "<br/><br/>\n",
        "\n",
        "find best fit line for $(t,y) = (1,2),(-1,1),(1,3)$.\n"
      ],
      "metadata": {
        "id": "UXgfzXKROom3"
      }
    },
    {
      "cell_type": "markdown",
      "source": [
        "find best $c_1,c_2$ for model $y=c_1 + c_2t$."
      ],
      "metadata": {
        "id": "AQmmopzrnJnK"
      }
    },
    {
      "cell_type": "markdown",
      "source": [
        "\\begin{align}\n",
        "  c_1 + c_2(1) &= 2 \\\\\n",
        "  c_1 + c_2(-1) &= 1 \\\\\n",
        "  c_1 + c_2(1) &= 3 \\\\\n",
        "  \\\\\n",
        "  &\\Downarrow \\\\\n",
        "  \\\\\n",
        "  \\begin{bmatrix} 1 & 1 \\\\ 1 & -1 \\\\ 1 & 1 \\end{bmatrix}\n",
        "  \\begin{bmatrix} c_1 \\\\ c_2 \\end{bmatrix} &=\n",
        "  \\begin{bmatrix} 2 \\\\ 1 \\\\ 3 \\end{bmatrix} \\\\\n",
        "  \\\\\n",
        "  &\\Downarrow \\\\\n",
        "  \\\\\n",
        "  c = \\begin{bmatrix} c_1 \\\\ c_2 \\end{bmatrix}\n",
        "  &= \\begin{bmatrix} \\frac{7}{4} \\\\ \\frac{3}{4} \\end{bmatrix}.\n",
        "\\end{align}"
      ],
      "metadata": {
        "id": "u0YTLikEQelp"
      }
    },
    {
      "cell_type": "markdown",
      "source": [
        "|t|y|line|error|\n",
        "|-:|-:|-:|-:|\n",
        "1|2|2.5|-0.5\n",
        "-1|1|1.0|0.0\n",
        "1|3|2.5|0.5"
      ],
      "metadata": {
        "id": "FyJaeYHnnNCI"
      }
    },
    {
      "cell_type": "markdown",
      "source": [
        "$\\Rightarrow\\quad RMSE = \\frac{1}{\\sqrt{6}}$."
      ],
      "metadata": {
        "id": "1E-8cmfYnPxI"
      }
    },
    {
      "cell_type": "code",
      "source": [
        "eg_03()"
      ],
      "metadata": {
        "colab": {
          "base_uri": "https://localhost:8080/",
          "height": 774
        },
        "id": "ZfzRnbCYC1U0",
        "outputId": "96df8b6d-dd82-43a2-f147-1aac170841f4"
      },
      "execution_count": null,
      "outputs": [
        {
          "output_type": "display_data",
          "data": {
            "text/plain": [
              "<Figure size 640x480 with 1 Axes>"
            ],
            "image/png": "[encoded data removed]"
          },
          "metadata": {}
        },
        {
          "output_type": "stream",
          "name": "stdout",
          "text": [
            "\n",
            "  SE: [0.5]\n",
            "\n",
            "RMSE: [0.40824829]\n",
            "\n"
          ]
        },
        {
          "output_type": "display_data",
          "data": {
            "text/plain": [
              "     t    y  model    error\n",
              "0  1.0  2.0    2.5  -0.5000\n",
              "1 -1.0  1.0    1.0  -0.0000\n",
              "2  1.0  3.0    2.5   0.5000"
            ],
            "text/html": [
              "\n",
              "  <div id=\"df-e7736a85-8f8a-4a8c-a226-0cb8b6625a1d\" class=\"colab-df-container\">\n",
              "    <div>\n",
              "<style scoped>\n",
              "    .dataframe tbody tr th:only-of-type {\n",
              "        vertical-align: middle;\n",
              "    }\n",
              "\n",
              "    .dataframe tbody tr th {\n",
              "        vertical-align: top;\n",
              "    }\n",
              "\n",
              "    .dataframe thead th {\n",
              "        text-align: right;\n",
              "    }\n",
              "</style>\n",
              "<table border=\"1\" class=\"dataframe\">\n",
              "  <thead>\n",
              "    <tr style=\"text-align: right;\">\n",
              "      <th></th>\n",
              "      <th>t</th>\n",
              "      <th>y</th>\n",
              "      <th>model</th>\n",
              "      <th>error</th>\n",
              "    </tr>\n",
              "  </thead>\n",
              "  <tbody>\n",
              "    <tr>\n",
              "      <th>0</th>\n",
              "      <td>1.0</td>\n",
              "      <td>2.0</td>\n",
              "      <td>2.5</td>\n",
              "      <td>-0.5000</td>\n",
              "    </tr>\n",
              "    <tr>\n",
              "      <th>1</th>\n",
              "      <td>-1.0</td>\n",
              "      <td>1.0</td>\n",
              "      <td>1.0</td>\n",
              "      <td>-0.0000</td>\n",
              "    </tr>\n",
              "    <tr>\n",
              "      <th>2</th>\n",
              "      <td>1.0</td>\n",
              "      <td>3.0</td>\n",
              "      <td>2.5</td>\n",
              "      <td>0.5000</td>\n",
              "    </tr>\n",
              "  </tbody>\n",
              "</table>\n",
              "</div>\n",
              "    <div class=\"colab-df-buttons\">\n",
              "\n",
              "  <div class=\"colab-df-container\">\n",
              "    <button class=\"colab-df-convert\" onclick=\"convertToInteractive('df-e7736a85-8f8a-4a8c-a226-0cb8b6625a1d')\"\n",
              "            title=\"Convert this dataframe to an interactive table.\"\n",
              "            style=\"display:none;\">\n",
              "\n",
              "  <svg xmlns=\"http://www.w3.org/2000/svg\" height=\"24px\" viewBox=\"0 -960 960 960\">\n",
              "    <path d=\"M120-120v-720h720v720H120Zm60-500h600v-160H180v160Zm220 220h160v-160H400v160Zm0 220h160v-160H400v160ZM180-400h160v-160H180v160Zm440 0h160v-160H620v160ZM180-180h160v-160H180v160Zm440 0h160v-160H620v160Z\"/>\n",
              "  </svg>\n",
              "    </button>\n",
              "\n",
              "  <style>\n",
              "    .colab-df-container {\n",
              "      display:flex;\n",
              "      gap: 12px;\n",
              "    }\n",
              "\n",
              "    .colab-df-convert {\n",
              "      background-color: #E8F0FE;\n",
              "      border: none;\n",
              "      border-radius: 50%;\n",
              "      cursor: pointer;\n",
              "      display: none;\n",
              "      fill: #1967D2;\n",
              "      height: 32px;\n",
              "      padding: 0 0 0 0;\n",
              "      width: 32px;\n",
              "    }\n",
              "\n",
              "    .colab-df-convert:hover {\n",
              "      background-color: #E2EBFA;\n",
              "      box-shadow: 0px 1px 2px rgba(60, 64, 67, 0.3), 0px 1px 3px 1px rgba(60, 64, 67, 0.15);\n",
              "      fill: #174EA6;\n",
              "    }\n",
              "\n",
              "    .colab-df-buttons div {\n",
              "      margin-bottom: 4px;\n",
              "    }\n",
              "\n",
              "    [theme=dark] .colab-df-convert {\n",
              "      background-color: #3B4455;\n",
              "      fill: #D2E3FC;\n",
              "    }\n",
              "\n",
              "    [theme=dark] .colab-df-convert:hover {\n",
              "      background-color: #434B5C;\n",
              "      box-shadow: 0px 1px 3px 1px rgba(0, 0, 0, 0.15);\n",
              "      filter: drop-shadow(0px 1px 2px rgba(0, 0, 0, 0.3));\n",
              "      fill: #FFFFFF;\n",
              "    }\n",
              "  </style>\n",
              "\n",
              "    <script>\n",
              "      const buttonEl =\n",
              "        document.querySelector('#df-e7736a85-8f8a-4a8c-a226-0cb8b6625a1d button.colab-df-convert');\n",
              "      buttonEl.style.display =\n",
              "        google.colab.kernel.accessAllowed ? 'block' : 'none';\n",
              "\n",
              "      async function convertToInteractive(key) {\n",
              "        const element = document.querySelector('#df-e7736a85-8f8a-4a8c-a226-0cb8b6625a1d');\n",
              "        const dataTable =\n",
              "          await google.colab.kernel.invokeFunction('convertToInteractive',\n",
              "                                                    [key], {});\n",
              "        if (!dataTable) return;\n",
              "\n",
              "        const docLinkHtml = 'Like what you see? Visit the ' +\n",
              "          '<a target=\"_blank\" href=https://colab.research.google.com/notebooks/data_table.ipynb>data table notebook</a>'\n",
              "          + ' to learn more about interactive tables.';\n",
              "        element.innerHTML = '';\n",
              "        dataTable['output_type'] = 'display_data';\n",
              "        await google.colab.output.renderOutput(dataTable, element);\n",
              "        const docLink = document.createElement('div');\n",
              "        docLink.innerHTML = docLinkHtml;\n",
              "        element.appendChild(docLink);\n",
              "      }\n",
              "    </script>\n",
              "  </div>\n",
              "\n",
              "\n",
              "<div id=\"df-6ed79eea-a696-4c88-8149-65bb3b98cc73\">\n",
              "  <button class=\"colab-df-quickchart\" onclick=\"quickchart('df-6ed79eea-a696-4c88-8149-65bb3b98cc73')\"\n",
              "            title=\"Suggest charts\"\n",
              "            style=\"display:none;\">\n",
              "\n",
              "<svg xmlns=\"http://www.w3.org/2000/svg\" height=\"24px\"viewBox=\"0 0 24 24\"\n",
              "     width=\"24px\">\n",
              "    <g>\n",
              "        <path d=\"M19 3H5c-1.1 0-2 .9-2 2v14c0 1.1.9 2 2 2h14c1.1 0 2-.9 2-2V5c0-1.1-.9-2-2-2zM9 17H7v-7h2v7zm4 0h-2V7h2v10zm4 0h-2v-4h2v4z\"/>\n",
              "    </g>\n",
              "</svg>\n",
              "  </button>\n",
              "\n",
              "<style>\n",
              "  .colab-df-quickchart {\n",
              "      --bg-color: #E8F0FE;\n",
              "      --fill-color: #1967D2;\n",
              "      --hover-bg-color: #E2EBFA;\n",
              "      --hover-fill-color: #174EA6;\n",
              "      --disabled-fill-color: #AAA;\n",
              "      --disabled-bg-color: #DDD;\n",
              "  }\n",
              "\n",
              "  [theme=dark] .colab-df-quickchart {\n",
              "      --bg-color: #3B4455;\n",
              "      --fill-color: #D2E3FC;\n",
              "      --hover-bg-color: #434B5C;\n",
              "      --hover-fill-color: #FFFFFF;\n",
              "      --disabled-bg-color: #3B4455;\n",
              "      --disabled-fill-color: #666;\n",
              "  }\n",
              "\n",
              "  .colab-df-quickchart {\n",
              "    background-color: var(--bg-color);\n",
              "    border: none;\n",
              "    border-radius: 50%;\n",
              "    cursor: pointer;\n",
              "    display: none;\n",
              "    fill: var(--fill-color);\n",
              "    height: 32px;\n",
              "    padding: 0;\n",
              "    width: 32px;\n",
              "  }\n",
              "\n",
              "  .colab-df-quickchart:hover {\n",
              "    background-color: var(--hover-bg-color);\n",
              "    box-shadow: 0 1px 2px rgba(60, 64, 67, 0.3), 0 1px 3px 1px rgba(60, 64, 67, 0.15);\n",
              "    fill: var(--button-hover-fill-color);\n",
              "  }\n",
              "\n",
              "  .colab-df-quickchart-complete:disabled,\n",
              "  .colab-df-quickchart-complete:disabled:hover {\n",
              "    background-color: var(--disabled-bg-color);\n",
              "    fill: var(--disabled-fill-color);\n",
              "    box-shadow: none;\n",
              "  }\n",
              "\n",
              "  .colab-df-spinner {\n",
              "    border: 2px solid var(--fill-color);\n",
              "    border-color: transparent;\n",
              "    border-bottom-color: var(--fill-color);\n",
              "    animation:\n",
              "      spin 1s steps(1) infinite;\n",
              "  }\n",
              "\n",
              "  @keyframes spin {\n",
              "    0% {\n",
              "      border-color: transparent;\n",
              "      border-bottom-color: var(--fill-color);\n",
              "      border-left-color: var(--fill-color);\n",
              "    }\n",
              "    20% {\n",
              "      border-color: transparent;\n",
              "      border-left-color: var(--fill-color);\n",
              "      border-top-color: var(--fill-color);\n",
              "    }\n",
              "    30% {\n",
              "      border-color: transparent;\n",
              "      border-left-color: var(--fill-color);\n",
              "      border-top-color: var(--fill-color);\n",
              "      border-right-color: var(--fill-color);\n",
              "    }\n",
              "    40% {\n",
              "      border-color: transparent;\n",
              "      border-right-color: var(--fill-color);\n",
              "      border-top-color: var(--fill-color);\n",
              "    }\n",
              "    60% {\n",
              "      border-color: transparent;\n",
              "      border-right-color: var(--fill-color);\n",
              "    }\n",
              "    80% {\n",
              "      border-color: transparent;\n",
              "      border-right-color: var(--fill-color);\n",
              "      border-bottom-color: var(--fill-color);\n",
              "    }\n",
              "    90% {\n",
              "      border-color: transparent;\n",
              "      border-bottom-color: var(--fill-color);\n",
              "    }\n",
              "  }\n",
              "</style>\n",
              "\n",
              "  <script>\n",
              "    async function quickchart(key) {\n",
              "      const quickchartButtonEl =\n",
              "        document.querySelector('#' + key + ' button');\n",
              "      quickchartButtonEl.disabled = true;  // To prevent multiple clicks.\n",
              "      quickchartButtonEl.classList.add('colab-df-spinner');\n",
              "      try {\n",
              "        const charts = await google.colab.kernel.invokeFunction(\n",
              "            'suggestCharts', [key], {});\n",
              "      } catch (error) {\n",
              "        console.error('Error during call to suggestCharts:', error);\n",
              "      }\n",
              "      quickchartButtonEl.classList.remove('colab-df-spinner');\n",
              "      quickchartButtonEl.classList.add('colab-df-quickchart-complete');\n",
              "    }\n",
              "    (() => {\n",
              "      let quickchartButtonEl =\n",
              "        document.querySelector('#df-6ed79eea-a696-4c88-8149-65bb3b98cc73 button');\n",
              "      quickchartButtonEl.style.display =\n",
              "        google.colab.kernel.accessAllowed ? 'block' : 'none';\n",
              "    })();\n",
              "  </script>\n",
              "</div>\n",
              "\n",
              "    </div>\n",
              "  </div>\n"
            ],
            "application/vnd.google.colaboratory.intrinsic+json": {
              "type": "dataframe",
              "summary": "{\n  \"name\": \"eg_03()\",\n  \"rows\": 3,\n  \"fields\": [\n    {\n      \"column\": \"t\",\n      \"properties\": {\n        \"dtype\": \"number\",\n        \"std\": 1.1547005383792517,\n        \"min\": -1.0,\n        \"max\": 1.0,\n        \"num_unique_values\": 2,\n        \"samples\": [\n          -1.0,\n          1.0\n        ],\n        \"semantic_type\": \"\",\n        \"description\": \"\"\n      }\n    },\n    {\n      \"column\": \"y\",\n      \"properties\": {\n        \"dtype\": \"number\",\n        \"std\": 1.0,\n        \"min\": 1.0,\n        \"max\": 3.0,\n        \"num_unique_values\": 3,\n        \"samples\": [\n          2.0,\n          1.0\n        ],\n        \"semantic_type\": \"\",\n        \"description\": \"\"\n      }\n    },\n    {\n      \"column\": \"model\",\n      \"properties\": {\n        \"dtype\": \"number\",\n        \"std\": 0.8660254037844384,\n        \"min\": 1.0000000000000004,\n        \"max\": 2.5,\n        \"num_unique_values\": 2,\n        \"samples\": [\n          1.0000000000000004,\n          2.5\n        ],\n        \"semantic_type\": \"\",\n        \"description\": \"\"\n      }\n    },\n    {\n      \"column\": \"error\",\n      \"properties\": {\n        \"dtype\": \"string\",\n        \"num_unique_values\": 3,\n        \"samples\": [\n          \"-0.5000\",\n          \"-0.0000\"\n        ],\n        \"semantic_type\": \"\",\n        \"description\": \"\"\n      }\n    }\n  ]\n}"
            }
          },
          "metadata": {}
        }
      ]
    },
    {
      "cell_type": "markdown",
      "source": [
        "##### algorithm <b>fitting data by least squares</b>"
      ],
      "metadata": {
        "id": "i9n3wIBvC0fc"
      }
    },
    {
      "cell_type": "markdown",
      "source": [
        "```\n",
        "given data (t,y),\n",
        "\n",
        "01 choose parameterized model - eg, f(t) = c[1] + c[2]*t;\n",
        "\n",
        "02 force model to fit data - ie, y_hat = f(t);\n",
        "\n",
        "03 solve with normal equations.\n",
        "```"
      ],
      "metadata": {
        "id": "TSeOAzQPSsTr"
      }
    },
    {
      "cell_type": "markdown",
      "source": [
        "(they can look like this, too.)"
      ],
      "metadata": {
        "id": "3P2Br1EMNot_"
      }
    },
    {
      "cell_type": "markdown",
      "source": [
        "##### example 04"
      ],
      "metadata": {
        "id": "Lfqj3LHrT0FX"
      }
    },
    {
      "cell_type": "markdown",
      "source": [
        "find best fit line for $(t,y) = (-1,1),(0,0),(1,0),(2,-2)$."
      ],
      "metadata": {
        "id": "e-TDxI3rT2Xe"
      }
    },
    {
      "cell_type": "markdown",
      "source": [
        "1.  for model $y = c_1 + c_2t$."
      ],
      "metadata": {
        "id": "LIse-wAhPHEC"
      }
    },
    {
      "cell_type": "markdown",
      "source": [
        "\\begin{align}\n",
        "  c_1 + c_2(-1) &= 1 \\\\\n",
        "  c_1 + c_2(0) &= 0 \\\\\n",
        "  c_1 + c_2(1) &= 0 \\\\\n",
        "  c_1 + c_2(2) &= -2 \\\\\n",
        "  \\\\\n",
        "  &\\Downarrow \\\\\n",
        "  \\\\\n",
        "  \\begin{bmatrix} 1 & -1 \\\\ 1 & 0 \\\\ 1 & 1 \\\\ 1 & 2 \\end{bmatrix}\n",
        "  \\begin{bmatrix} c_1 \\\\ c_2 \\end{bmatrix}\n",
        "  &= \\begin{bmatrix} 1 \\\\ 0 \\\\ 0 \\\\ -2 \\end{bmatrix} \\\\\n",
        "  \\\\\n",
        "  &\\Downarrow \\\\\n",
        "  \\\\\n",
        "  \\begin{bmatrix} 4 & 2 \\\\ 2 & 6 \\end{bmatrix}\n",
        "  \\begin{bmatrix} c_1 \\\\ c_2 \\end{bmatrix}\n",
        "  &= \\begin{bmatrix} -1 \\\\ -5 \\end{bmatrix} \\\\\n",
        "  \\\\\n",
        "  &\\Downarrow \\\\\n",
        "  \\\\\n",
        "  c = \\begin{bmatrix} c_1 \\\\ c_2 \\end{bmatrix}\n",
        "  &= \\begin{bmatrix} 0.2 \\\\ -0.9 \\end{bmatrix}\n",
        "\\end{align}"
      ],
      "metadata": {
        "id": "nzwO9t_eaImb"
      }
    },
    {
      "cell_type": "markdown",
      "source": [
        "|t|y|line|error|\n",
        "|-:|-:|-:|-:|\n",
        "-1|1|1.1|-0.1\n",
        "0|0|0.2|-0.2\n",
        "1|0|-0.7|0.7\n",
        "2|-2|-1.6|-0.4"
      ],
      "metadata": {
        "id": "sxPJSlWhPLtK"
      }
    },
    {
      "cell_type": "markdown",
      "source": [
        "$\\Rightarrow\\quad SE = (-0.1)^2 + (-0.2)^2 + (0.7)^2 + (-0.4)^2 = 0.7, \\quad RMSE = \\sqrt{\\frac{0.7}{4}} = 0.418$."
      ],
      "metadata": {
        "id": "_IzpL6E7POUb"
      }
    },
    {
      "cell_type": "markdown",
      "source": [
        "2. for model $y = c_1 + c_2t + c_3t^2$."
      ],
      "metadata": {
        "id": "LvVGA6gOPSNC"
      }
    },
    {
      "cell_type": "markdown",
      "source": [
        "\\begin{align}\n",
        "  c_1 + c_2(-1) + c_3(-1)^2 &= 1 \\\\\n",
        "  c_1 + c_2(0) + c_3(0)^2 &= 0 \\\\\n",
        "  c_1 + c_2(1) + c_3(1)^2 &= 0 \\\\\n",
        "  c_1 + c_2(2) + c_3(2)^2 &= -2 \\\\\n",
        "  \\\\\n",
        "  &\\Downarrow \\\\\n",
        "  \\\\\n",
        "  \\begin{bmatrix}\n",
        "    1 & -1 & 1 \\\\ 1 & 0 & 0 \\\\ 1 & 1 & 1 \\\\ 1 & 2 & 4\n",
        "  \\end{bmatrix}\n",
        "  \\begin{bmatrix} c_1 \\\\ c_2 \\\\ c_3 \\end{bmatrix}\n",
        "  &= \\begin{bmatrix} 1 \\\\ 0 \\\\ 0 \\\\ -2 \\end{bmatrix} \\\\\n",
        "  \\\\\n",
        "  &\\Downarrow \\\\\n",
        "  \\\\\n",
        "  \\begin{bmatrix}\n",
        "    4 & 2 & 6 \\\\ 2 & 6 & 8 \\\\ 6 & 8 & 18\n",
        "  \\end{bmatrix}\n",
        "  \\begin{bmatrix} c_1 \\\\ c_2 \\\\ c_3 \\end{bmatrix}\n",
        "  &= \\begin{bmatrix} -1 \\\\ -5 \\\\ -7 \\end{bmatrix} \\\\\n",
        "  \\\\\n",
        "  &\\Downarrow \\\\\n",
        "  \\\\\n",
        "  c = \\begin{bmatrix} c_1 \\\\ c_2 \\\\ c_3 \\end{bmatrix}\n",
        "  &= \\begin{bmatrix} 0.45 \\\\ -0.65 \\\\ -0.25 \\end{bmatrix}\n",
        "\\end{align}"
      ],
      "metadata": {
        "id": "3E5gwVnZuGea"
      }
    },
    {
      "cell_type": "markdown",
      "source": [
        "|t|y|parabola|error|\n",
        "|-:|-:|-:|-:|\n",
        "-1|1|0.85|0.15\n",
        "0|0|0.45|-0.45\n",
        "1|0|-0.45|0.45\n",
        "2|-2|-1.85|-0.15"
      ],
      "metadata": {
        "id": "KBpFaRi3PY-M"
      }
    },
    {
      "cell_type": "markdown",
      "source": [
        "$\\Rightarrow\\quad SE = (0.15)^2 + (-0.45)^2 + (0.45)^2 + (-0.15)^2 = 0.45, \\quad RMSE = \\sqrt{\\frac{0.45}{4}} = 0.335$."
      ],
      "metadata": {
        "id": "AswtUgNEPXfy"
      }
    },
    {
      "cell_type": "code",
      "source": [
        "#eg_04() # during lecture, ok?"
      ],
      "metadata": {
        "id": "xD3qhsCpSQTm"
      },
      "execution_count": null,
      "outputs": []
    },
    {
      "cell_type": "markdown",
      "source": [
        "## 3 conditioning of least squares"
      ],
      "metadata": {
        "id": "9hiA8z1c1iWJ"
      }
    },
    {
      "cell_type": "markdown",
      "source": [
        "how accurately can least squares solution $\\bar{x}$ be determined? consider a system where the true root is known."
      ],
      "metadata": {
        "id": "aGIQPkiY4X8O"
      }
    },
    {
      "cell_type": "markdown",
      "source": [
        "##### example 05 van der monde matrix"
      ],
      "metadata": {
        "id": "-0JDeRrE4x1O"
      }
    },
    {
      "cell_type": "markdown",
      "source": [
        "let $x_1 = 2.0, x_2 = 2.2, \\dots, x_{11} = 4.0$ and set $y_i = 1 + x_i + x_i^2 + x_i^3 + x_i^4 + x_i^5 + x_i^6 + x_i^7$ for $1\\le i\\le 11$. use normal equations to find least squares polynomial $P(x) = c_1 + c_2x + \\dots + c_8x^7$ fitting $(x_i,y_i)$."
      ],
      "metadata": {
        "id": "h9GSGmxO41PG"
      }
    },
    {
      "cell_type": "code",
      "source": [
        "eg_05(8,11,\"meh\")"
      ],
      "metadata": {
        "colab": {
          "base_uri": "https://localhost:8080/"
        },
        "id": "UX2AlUP8DrJv",
        "outputId": "8e6f7b4d-16d3-41b7-8788-63f766f52aa1"
      },
      "execution_count": null,
      "outputs": [
        {
          "output_type": "stream",
          "name": "stdout",
          "text": [
            "\n",
            "sys: [1.00000036 0.99999912 1.00000091 0.99999948 1.00000018 0.99999996\n",
            " 1.         1.        ] = meh\n",
            "\n",
            "bc cond(vdm): 5408707369.66\n",
            "\n",
            "lsq: [ -6.5451339   19.63513982 -18.52627454  12.25347206  -2.85328861\n",
            "   1.78405095   0.91219801   1.00417562] = meh++\n",
            "\n",
            "bc cond(ata): 64240895280342507520.00\n"
          ]
        }
      ]
    },
    {
      "cell_type": "code",
      "source": [
        "eg_05(3,3,\"eh\") # example 05, what happens with smaller system?"
      ],
      "metadata": {
        "colab": {
          "base_uri": "https://localhost:8080/"
        },
        "id": "yMFK18txi0o_",
        "outputId": "9202d21d-5904-4b94-eb8a-b1ab39e41dd9"
      },
      "execution_count": null,
      "outputs": [
        {
          "output_type": "stream",
          "name": "stdout",
          "text": [
            "\n",
            "sys: [1. 1. 1.] = eh\n",
            "\n",
            "bc cond(vdm): 251.03\n",
            "\n",
            "lsq: [1. 1. 1.] = eh++\n",
            "\n",
            "bc cond(ata): 63016.51\n"
          ]
        }
      ]
    },
    {
      "cell_type": "markdown",
      "source": [
        "## resources"
      ],
      "metadata": {
        "id": "E5e-a6LNMWzZ"
      }
    },
    {
      "cell_type": "markdown",
      "source": [
        "- least squares, normal equations [@mathemagician](https://www.youtube.com/watch?v=NWMgpaJXu2c) (5m), [example](https://www.youtube.com/watch?v=Nn0YGiVH4UY) (4m)\n",
        "- least squares, normal equations [@jeffreychasnov](https://www.youtube.com/watch?v=WABC6wmuLOk) (15m)"
      ],
      "metadata": {
        "id": "ZZI3OYdhSvC3"
      }
    },
    {
      "cell_type": "markdown",
      "source": [
        "- 3dplots [@matplotlib](https://matplotlib.org/stable/gallery/mplot3d/2dcollections3d.html)\n",
        "- axes ticks [@matplotlib](https://matplotlib.org/stable/users/explain/axes/axes_ticks.html)"
      ],
      "metadata": {
        "id": "RiHZ6-JkobpQ"
      }
    }
  ]
}