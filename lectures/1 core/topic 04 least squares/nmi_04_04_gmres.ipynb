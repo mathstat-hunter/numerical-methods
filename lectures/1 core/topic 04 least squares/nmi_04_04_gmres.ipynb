{
  "nbformat": 4,
  "nbformat_minor": 0,
  "metadata": {
    "colab": {
      "provenance": []
    },
    "kernelspec": {
      "name": "python3",
      "display_name": "Python 3"
    },
    "language_info": {
      "name": "python"
    }
  },
  "cells": [
    {
      "cell_type": "markdown",
      "source": [
        "# 04.04 generalized minimum residual method (GMRES)"
      ],
      "metadata": {
        "id": "IgURT4MC1E1V"
      }
    },
    {
      "cell_type": "markdown",
      "source": [
        "a good choice for large, sparse, nonsymmetric linear systems $Ax = b$."
      ],
      "metadata": {
        "id": "QFMtWZXBxJd1"
      }
    },
    {
      "cell_type": "markdown",
      "source": [
        "why does orthogonality matter to a linear system? bc matrices with almost parallel column vectors tend to be ill-conditioned - ie, have large error magnification."
      ],
      "metadata": {
        "id": "Y0sTCKeQxLKV"
      }
    },
    {
      "cell_type": "markdown",
      "source": [
        "GMRES ~ orthogonal x2: with each iteration,"
      ],
      "metadata": {
        "id": "F7427_UsxNA1"
      }
    },
    {
      "cell_type": "markdown",
      "source": [
        "1. search space basis is reorthogonalized; and\n",
        "2. backwards error minimized using least squares."
      ],
      "metadata": {
        "id": "DYo_QrvPf-li"
      }
    },
    {
      "cell_type": "markdown",
      "source": [
        "## 1 iterative krylov method"
      ],
      "metadata": {
        "id": "4OW9wIfJkU1Y"
      }
    },
    {
      "cell_type": "markdown",
      "source": [
        "GMRES is a krylov method - which relies on krylov space. krylov space is a vector space spanned by $\\{r, Ar, . . . , A^k r\\}$, where $r = b - Ax_0$ is the residual vector of the initial guess."
      ],
      "metadata": {
        "id": "6uMAdZGwx5Sw"
      }
    },
    {
      "cell_type": "markdown",
      "source": [
        "chebyshev minimized runge error by choosing roots; GMRES minimizes error by how it improves the initial guess. (note: not the initial guess itself but the increments to it.)"
      ],
      "metadata": {
        "id": "miDb3Pqhx7NS"
      }
    },
    {
      "cell_type": "markdown",
      "source": [
        "it looks at the krylov space spanned by $r$ and its products under nonsingular $A$. at each step $k$, the krylov space increases, its basis is reorthogonalized and least squares is applied. (ie, gram-schmidt & householder from previous lecture.)"
      ],
      "metadata": {
        "id": "0jbhmSj1njvb"
      }
    },
    {
      "cell_type": "markdown",
      "source": [
        "##### algorithm, GMRES"
      ],
      "metadata": {
        "id": "z1UwsZ1pn_wz"
      }
    },
    {
      "cell_type": "markdown",
      "source": [
        "```\n",
        "x[0] = initial guess\n",
        "r = b - A*x[0]\n",
        "β = ||r|| # L2 norm\n",
        "TOL = ε[mach]*||A||\n",
        "\n",
        "q[1] = r/β\n",
        "for k in range(m) # [0,m) # m = max iterations of krylov subspace\n",
        "  y = A*q[k]\n",
        "  for j in range(k) # [0,k)\n",
        "    h[j,k] = (q[j])ᵀ•y\n",
        "    y = y - h[j,k]*q[j]\n",
        "\n",
        "  h[k+1,k] = ||y|| # L2 norm\n",
        "\n",
        "  if h[k+1,k] > TOL\n",
        "    q[k+1] = y/h[k+1,k]\n",
        "\n",
        "  # minimize || H*c[k] - β*e[1]ᵀ ||, where e[1] = [1, 0, ..., 0]\n",
        "  c[k] = least_squares(H,β*e[1]ᵀ)\n",
        "  x[k] = Q[k]*c[k] + x[0]\n",
        "\n",
        "  # check residual for convergence\n",
        "  r_norm = β * abs(c[k][-1])\n",
        "  if r_norm <= TOL * β or h[k+1,k] <= TOL:\n",
        "    break # stop at iteration k\n",
        "\n",
        "return x[k],k\n",
        "```"
      ],
      "metadata": {
        "id": "Et5s0cB1oByi"
      }
    },
    {
      "cell_type": "markdown",
      "source": [
        "where"
      ],
      "metadata": {
        "id": "xIEf4nHmyDk_"
      }
    },
    {
      "cell_type": "markdown",
      "source": [
        "*   $x_k$ is $\\bar{x}$ for $Ax = b$;"
      ],
      "metadata": {
        "id": "UPyxRSY0yFGY"
      }
    },
    {
      "cell_type": "markdown",
      "source": [
        "and at iteration $k$,"
      ],
      "metadata": {
        "id": "p236mqWeyG7R"
      }
    },
    {
      "cell_type": "markdown",
      "source": [
        "*   $H$ is the $k+1$ x $k$ matrix minimized with least squares for $c$;\n",
        "*   $Q_k$ is the $n$ x $k$ matrix of $k$ orthonormal colums; and\n",
        "*   if $h_{k+1,k} = 0$, $k$ is final step and minimizing $H$ will return the exact solution of $Ax = b$."
      ],
      "metadata": {
        "id": "dhiSF3LRthBI"
      }
    },
    {
      "cell_type": "markdown",
      "source": [
        "arnoldi iteration is gram-schmidt applied to $\\{r,Ar,...,A^kr\\}$ and results in $AQ_k = Q_{k+1}H_k$. <mark>this is step one of GMRES.</mark> ie,"
      ],
      "metadata": {
        "id": "_pull_70yLRv"
      }
    },
    {
      "cell_type": "markdown",
      "source": [
        "$$\n",
        "A\\left[\\begin{array}{c|c|c}\n",
        "  \\\\ \\\\ q_1 & \\dots & q_k \\\\ \\\\ \\\\\n",
        "\\end{array}\\right]\n",
        "=\\left[\\begin{array}{c|c|c|c}\n",
        "  \\\\ \\\\ q_1 & \\dots & q_k & q_{k+1} \\\\ \\\\ \\\\\n",
        "\\end{array}\\right]\n",
        "\\left[\\begin{array}{c}\n",
        "  h_{11} & h_{12} & \\dots & h_{1k} \\\\\n",
        "  h_{21} & h_{22} & \\dots & h_{2k} \\\\\n",
        "  & h_{32} & \\dots & h_{3k} \\\\\n",
        "  && \\ddots & \\vdots \\\\\n",
        "  &&& h_{k+1,1k} \\\\\n",
        "\\end{array}\\right].\n",
        "$$"
      ],
      "metadata": {
        "id": "-QkzcXikKgur"
      }
    },
    {
      "cell_type": "markdown",
      "source": [
        "$A$ is $n$ x $n$, $Q_k$ is $n$ x $k$ and $H_k$ is $(k+1)$ x $k$. usually $k \\ll n$, where $n$ is number of unknowns / columns."
      ],
      "metadata": {
        "id": "hOSCOa41yOtW"
      }
    },
    {
      "cell_type": "markdown",
      "source": [
        "$Q_k$, which spans the $k$-dimensional krylov space, is what is searched for the increment $x_{\\text{add}}$ that is applied to $x_0$."
      ],
      "metadata": {
        "id": "uxIpmvbkyTDI"
      }
    },
    {
      "cell_type": "markdown",
      "source": [
        "\\begin{align}\n",
        "  b - A(x_0 + x_{\\text{add}}) &= r - Ax_{\\text{add}} \\\\\n",
        "  \\\\\n",
        "  &\\Rightarrow ||Ax_{\\text{add}} - r||_2 \\\\\n",
        "  \\\\\n",
        "  &= ||AQ_kc - r||_2 \\\\\n",
        "  \\\\\n",
        "  &= ||Q_{k+1}H_kc - r||_2 \\\\\n",
        "  &= ||H_kc - Q^T_{k+1}r||_2, \\text{ where } Q^T_{k+1}r = \\beta\\cdot e_1^T = \\underbrace{[\\; \\overbrace{||r||_2}^{\\beta}\\; 0\\; \\dots\\; 0]^T}_{e_1^T = [1\\; 0\\; \\dots\\; 0\\; ]^T}.\n",
        "\\end{align}"
      ],
      "metadata": {
        "id": "yVzpJuauread"
      }
    },
    {
      "cell_type": "markdown",
      "source": [
        "ie, find $c$ that minimizes the residual above by solving the least squares problem below. <mark>this is step two of GMRES.</mark>"
      ],
      "metadata": {
        "id": "PBUTcQlYyXRo"
      }
    },
    {
      "cell_type": "markdown",
      "source": [
        "$$\n",
        "\\left[\\begin{array}{c}\n",
        "  h_{11} & h_{12} & \\dots & h_{1k} \\\\\n",
        "  h_{21} & h_{22} & \\dots & h_{2k} \\\\\n",
        "  & h_{32} & \\dots & h_{3k} \\\\\n",
        "  \\\\\n",
        "  && \\ddots & \\vdots \\\\\n",
        "  \\\\\n",
        "  &&& h_{k+1,k} \\\\\n",
        "\\end{array}\\right]\n",
        "\\left[\\begin{array}{c}\n",
        "  c_1 \\\\ c_2 \\\\ \\\\ \\vdots \\\\ \\\\ c_k\n",
        "\\end{array}\\right]\n",
        "=\n",
        "\\left[\\begin{array}{c}\n",
        "  ||r||_2 \\\\ 0 \\\\ \\\\ \\\\ \\vdots \\\\ \\\\ 0\n",
        "\\end{array}\\right]_{k+1 \\times 1}\n",
        "$$"
      ],
      "metadata": {
        "id": "RwlKUvYJzAaV"
      }
    },
    {
      "cell_type": "markdown",
      "source": [
        "then $x_k = x_0 + x_{\\text{add},k}$ where $x_{\\text{add},k} = Q_k \\times c$."
      ],
      "metadata": {
        "id": "x78JJu7VtYlZ"
      }
    },
    {
      "cell_type": "markdown",
      "source": [
        "#### cost, usw"
      ],
      "metadata": {
        "id": "YxKyEAVj_s-y"
      }
    },
    {
      "cell_type": "markdown",
      "source": [
        "computationally, least squares is what costs the most but usually $k \\ll n$, so usually its beneficial. when $h_{k+1,k} = 0$, the problem is zero and the solution $x_k$ exact."
      ],
      "metadata": {
        "id": "V9JoOJR0yc7Z"
      }
    },
    {
      "cell_type": "markdown",
      "source": [
        "also, bc of least squares, error $||b-Ax_k||_2$ decreases monotonically with $k$."
      ],
      "metadata": {
        "id": "4LTLFrYLyemw"
      }
    },
    {
      "cell_type": "markdown",
      "source": [
        "also, you can do the least squares part once in a while or only at the end if you only need an approximate solution. thats not very math-like but sometimes the real world gets impatient."
      ],
      "metadata": {
        "id": "P90Nt4MwygRQ"
      }
    },
    {
      "cell_type": "markdown",
      "source": [
        "also, if a large $n$ runs too long, stop it and restart with $x_0 = x_{\\text{stop}}$. and there was much rejoicing.[$^{[1]}$](#ref-01)"
      ],
      "metadata": {
        "id": "xPhRJxmsy_z8"
      }
    },
    {
      "cell_type": "markdown",
      "source": [
        "## 2 pre-conditioned GMRES"
      ],
      "metadata": {
        "id": "yfG1frNC78Yh"
      }
    },
    {
      "cell_type": "markdown",
      "source": [
        "for nonsymmetric $Ax = b$, solve $M^{-1}Ax = M^{-1}b$. ie, residual $r = M^{-1}(b-Ax_0)$ with krylov space iteration $w = M^{-1}Aq_k$."
      ],
      "metadata": {
        "id": "9XjOGdTu9Kgh"
      }
    },
    {
      "cell_type": "markdown",
      "source": [
        "##### algorithm, GMRES, pre-conditioned"
      ],
      "metadata": {
        "id": "_7r0B4Ka94Rp"
      }
    },
    {
      "cell_type": "markdown",
      "source": [
        "```\n",
        "x[0] = initial guess\n",
        "r = inverse(M)*(b - A*x[0])\n",
        "β = ||r|| # L2 norm\n",
        "TOL = ε[mach]*||A|| # ok enough for most preconditioned\n",
        "\n",
        "q[1] = r/β # L2 norm\n",
        "for k in range(m) # [0,m) # m = max iterations of krylov subspace\n",
        "  w = inverse(M)*A*q[k]\n",
        "  for j in range(k) # [0,k)\n",
        "    h[j,k] = wᵀ•q[j]\n",
        "    w = w - h[j,k]*q[j]\n",
        "\n",
        "  h[k+1,k] = ||w|| # L2 norm\n",
        "  q[k+1] = w/h[k+1,k]\n",
        "\n",
        "  # minimize || H*c[k] - β*e[1]ᵀ ||, where e[1] = [1, 0, ..., 0]\n",
        "  c[k] = least_squares(H,β*e[1]ᵀ)\n",
        "  x[k] = Q[k]*c[k] + x[0]\n",
        "\n",
        "  # check residual for convergence\n",
        "  r_norm = β * abs(c[k][-1])\n",
        "  if r_norm <= TOL * β or h[k+1,k] <= TOL:\n",
        "    break # stop at iteration k\n",
        "\n",
        "return x[k],k\n",
        "```"
      ],
      "metadata": {
        "id": "MrT1g3nF99pB"
      }
    },
    {
      "cell_type": "markdown",
      "source": [
        "## resources\n"
      ],
      "metadata": {
        "id": "6w3wSSbdG3oy"
      }
    },
    {
      "cell_type": "markdown",
      "source": [
        "<b>krylov subspaces</b>"
      ],
      "metadata": {
        "id": "8JkulgqNyrfw"
      }
    },
    {
      "cell_type": "markdown",
      "source": [
        "* excellent summary! [@aerodynamic cfd](https://www.youtube.com/watch?v=B_eSPrYuIuU) (4m)\n",
        "* rationale, proofs [@daniel an](https://www.youtube.com/watch?v=UgyLaAXqlQ4) (12m)\n",
        "* textbook-like [@ocw.mit](https://ocw.mit.edu/courses/18-086-mathematical-methods-for-engineers-ii-spring-2006/41750e11021842bc972670e46cc949cc_am64.pdf) (homely but obviously diligent)\n",
        "* math for the people [@etchzurich](https://people.math.ethz.ch/~mhg/pub/biksm.pdf) (not as homely)\n",
        "* nerdy reading [@arxiv](https://arxiv.org/abs/1811.09025)"
      ],
      "metadata": {
        "id": "cqQEroNFytoZ"
      }
    },
    {
      "cell_type": "markdown",
      "source": [
        "<b>GMRES</b>"
      ],
      "metadata": {
        "id": "dfwqXsZbyvlg"
      }
    },
    {
      "cell_type": "markdown",
      "source": [
        "* krylov for GMRES [@daniel an](https://www.youtube.com/watch?v=R9DHmkCE9oI&list=PLP1OdTlavJNvV0KDxLjqkmc_RGr5z6WIi&index=4)\n",
        "* GMRES [@scipy](https://docs.scipy.org/doc/scipy/reference/generated/scipy.sparse.linalg.gmres.html)"
      ],
      "metadata": {
        "id": "8HpHoUG-t7v2"
      }
    },
    {
      "cell_type": "markdown",
      "source": [
        "## references"
      ],
      "metadata": {
        "id": "I6tUxIYezavO"
      }
    },
    {
      "cell_type": "markdown",
      "source": [
        "<a name=\"ref-01\"></a>\n",
        "1. [and there was much rejoicing...](https://www.youtube.com/watch?v=yciX2meIkXI)"
      ],
      "metadata": {
        "id": "aZCP3lAyzmBe"
      }
    }
  ]
}