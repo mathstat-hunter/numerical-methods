{
  "nbformat": 4,
  "nbformat_minor": 0,
  "metadata": {
    "colab": {
      "provenance": []
    },
    "kernelspec": {
      "name": "python3",
      "display_name": "Python 3"
    },
    "language_info": {
      "name": "python"
    }
  },
  "cells": [
    {
      "cell_type": "markdown",
      "source": [
        "# 04.05 nonlinear"
      ],
      "metadata": {
        "id": "IgURT4MC1E1V"
      }
    },
    {
      "cell_type": "markdown",
      "source": [
        "##### code, support for section text"
      ],
      "metadata": {
        "id": "-iTiw0ofz0-j"
      }
    },
    {
      "cell_type": "code",
      "source": [
        "if True: # settings for the people\n",
        "  import matplotlib.pyplot as plt\n",
        "  import numpy as np\n",
        "  import pandas as pd\n",
        "  import scipy as sp\n",
        "  from tabulate import tabulate\n",
        "\n",
        "  pd.set_option('display.max_rows',10)\n"
      ],
      "metadata": {
        "id": "aP0ScJIwehEo"
      },
      "execution_count": 6,
      "outputs": []
    },
    {
      "cell_type": "markdown",
      "source": [
        "###### code, examples"
      ],
      "metadata": {
        "id": "UmRA9Jun0HE0"
      }
    },
    {
      "cell_type": "code",
      "source": [
        "# example 21,22,23\n",
        "\n",
        "# references\n",
        "#https://stackoverflow.com/questions/31556446/how-to-draw-axis-in-the-middle-of-the-figure\n",
        "#https://stackoverflow.com/questions/37039685/hide-tick-label-values-but-keep-axis-labels\n",
        "\n",
        "# extra term k mods circle radius for intersection\n",
        "\n",
        "def format_axes(ax):\n",
        "  ax.set_aspect(\"equal\",\"box\")\n",
        "  # Move left y-axis and bottom x-axis to centre, passing through (0,0)\n",
        "  ax.spines['left'].set_position('zero')\n",
        "  ax.spines['bottom'].set_position('zero')\n",
        "  # Eliminate upper and right axes\n",
        "  ax.spines['right'].set_color('none')\n",
        "  ax.spines['top'].set_color('none')\n",
        "  # Show ticks in the left and lower axes only\n",
        "  #ax.xaxis.set_ticks_position('bottom')\n",
        "  #ax.yaxis.set_ticks_position('left')\n",
        "  ax.set_yticklabels([])\n",
        "  ax.set_xticklabels([])\n",
        "  ax.set_xticks([])\n",
        "  ax.set_yticks([])\n",
        "\n",
        "def xy_circle(x,y,r):\n",
        "  a=x-r; b=x+r; nx = 101\n",
        "  xs = np.zeros((2*nx+1))\n",
        "  ys = np.zeros((2*nx+1))\n",
        "  for i in range(nx):\n",
        "    xs[ i] = (b+a)/2 + (b-a)/2*np.cos(np.pi*(2*i+1)/(2*nx))\n",
        "    xs[2*nx-1-i] = (b+a)/2 + (b-a)/2*np.cos(np.pi*(2*i+1)/(2*nx))\n",
        "    ys[ i] = y + np.sqrt(pow(r,2)-pow(xs[ i]-x,2))\n",
        "    ys[2*nx-1-i] = 2*y - ys[i]\n",
        "  # close circle if plot vs scatter\n",
        "  xs[-1] = xs[0]\n",
        "  ys[-1] = ys[0]\n",
        "  if False:\n",
        "    for i in range(2*nx+1):\n",
        "      print(f\"{i}: {xs[i]},{ys[i]}\")\n",
        "  return xs,ys\n",
        "\n",
        "# example 21: gauss-newton\n",
        "def ex_21(circles,r,drx,dry,eps):\n",
        "  # method, setup\n",
        "  x_old = np.zeros((2))\n",
        "  x_new = x_old.copy()\n",
        "  n_eqns = len(circles)\n",
        "  n_vars = len(x_old)\n",
        "  a = np.zeros((n_eqns,n_vars))\n",
        "  b = np.zeros((n_eqns))\n",
        "  # method, iteration\n",
        "  for k in range(10):\n",
        "    for i,circle in enumerate(circles):\n",
        "      a[i,0] = drx(x_old,circle)\n",
        "      a[i,1] = dry(x_old,circle)\n",
        "      b[i] = r(x_old,circle)\n",
        "    ata = a.T @ a\n",
        "    atb = a.T @ (-b)\n",
        "    delta = np.linalg.solve(ata,atb)\n",
        "    x_new = x_old + delta\n",
        "\n",
        "    #check error\n",
        "    n2 = np.linalg.norm(x_new-x_old)\n",
        "    if n2 < eps:\n",
        "      break\n",
        "    if False:\n",
        "      print(f\"{k}: {x_old} + {delta} = {x_new} w n2 = {n2:.7f}\")\n",
        "    x_old = x_new.copy()\n",
        "\n",
        "  return x_new\n",
        "\n",
        "# example 22: multivariate newtons w extra term\n",
        "def ex_22(circles,r,drx,dry,eps):\n",
        "  # method, setup\n",
        "  x_old = np.zeros((3))\n",
        "  x_new = x_old.copy()\n",
        "  n_eqns = len(circles)\n",
        "  n_vars = len(x_old)\n",
        "  a = np.zeros((n_eqns,n_vars))\n",
        "  b = np.zeros((n_eqns))\n",
        "  # method, iteration\n",
        "  for k in range(10):\n",
        "    for i,circle in enumerate(circles):\n",
        "      a[i,0] = drx(x_old,circle)\n",
        "      a[i,1] = dry(x_old,circle)\n",
        "      a[i,2] = -1\n",
        "      b[i] = r(x_old,circle)\n",
        "    delta = np.linalg.solve(a,-b)\n",
        "    x_new = x_old + delta # new term delta later\n",
        "\n",
        "    # check error\n",
        "    n2 = np.linalg.norm(x_new[0:2]-x_old[0:2])\n",
        "    if n2 < eps:\n",
        "      break\n",
        "    if False:\n",
        "      print(f\"{k}: {x_old} + {delta} = {x_new} w n2 = {n2:.7f}\")\n",
        "      #print(f\"{k}: {x_old[0:2]} + {delta[0:2]} = {x_new[0:2]} w n2 = {n2:.7f}\")\n",
        "    x_old = x_new.copy()\n",
        "  x_new[2] = delta[2] # TODO check this later\n",
        "\n",
        "  return x_new\n",
        "\n",
        "# example 23: gauss-newton w extra term\n",
        "def ex_23(circles,r,drx,dry,eps):\n",
        "  # method, setup\n",
        "  x_old = np.zeros((3))\n",
        "  x_new = x_old.copy()\n",
        "  n_eqns = len(circles)\n",
        "  n_vars = len(x_old)\n",
        "  a = np.zeros((n_eqns,n_vars))\n",
        "  b = np.zeros((n_eqns))\n",
        "  # method, iteration\n",
        "  for k in range(10):\n",
        "    for i,circle in enumerate(circles):\n",
        "      a[i,0] = drx(x_old,circle)\n",
        "      a[i,1] = dry(x_old,circle)\n",
        "      a[i,2] = -1\n",
        "      b[i] = r(x_old,circle)\n",
        "    ata = a.T @ a\n",
        "    atb = a.T @ (-b)\n",
        "    delta = np.linalg.solve(ata,atb)\n",
        "    x_new = x_old + delta\n",
        "\n",
        "    # check error\n",
        "    n2 = np.linalg.norm(x_new[0:2]-x_old[0:2])\n",
        "    if n2 < eps:\n",
        "      break\n",
        "    if False:\n",
        "      print(f\"{k}: {x_old} + {delta} = {x_new} w n2 = {n2:.7f}\")\n",
        "      #print(f\"{k}: {x_old[0:2]} + {delta[0:2]} = {x_new[0:2]} w n2 = {n2:.7f}\")\n",
        "    x_old = x_new.copy()\n",
        "  x_new[2] = delta[2] # TODO check this later\n",
        "\n",
        "  return x_new\n",
        "\n",
        "def egs_21_22_23():\n",
        "\n",
        "  # methods: s=distance,r=residual,dr=partial derivatives\n",
        "  s = lambda x,c: np.sqrt(pow(x[0]-c[0],2) + pow(x[1]-c[1],2))\n",
        "  r = lambda x,c: s(x,c) - c[2]\n",
        "  drx = lambda x,c: (x[0]-c[0])/s(x,c)\n",
        "  dry = lambda x,c: (x[1]-c[1])/s(x,c)\n",
        "\n",
        "  # run, parms\n",
        "  eps = 1e-06\n",
        "\n",
        "  # data: circles(center,radius)\n",
        "  circles = np.array([[-1,0,1],[1,.5,.5],[1,-.5,.5],[0,1,0.5]]) # [x,y,R]\n",
        "\n",
        "  # plot, cfg\n",
        "  plt.close(\"all\")\n",
        "\n",
        "  # plot, circles\n",
        "  for i,circle in enumerate(circles):\n",
        "    plt.scatter([circle[0]],[circle[1]])\n",
        "    xs_circle,ys_circle = xy_circle(circle[0],circle[1],circle[2])\n",
        "    plt.plot(xs_circle,ys_circle,label=f\"circle {i+1}\")\n",
        "\n",
        "  # plot best, example 21 gauss-newton\n",
        "  x_21 = ex_21(circles[0:3],r,drx,dry,eps)\n",
        "  plt.scatter([x_21[0]],[x_21[1]],marker=\"*\",label=\"gauss-newton\",color=\"black\")\n",
        "  offset = 0.05\n",
        "  plt.text(x_21[0]+offset,x_21[1]-offset*5,f\"({round(x_21[0],6)},{round(x_21[1],6)})\")\n",
        "\n",
        "  # plot best, example 22 multivariate newtons using radius extension\n",
        "  x_22 = ex_22(circles[0:3],r,drx,dry,eps)\n",
        "  plt.scatter([x_22[0]],[x_22[1]],marker=\"*\",label=\"multivariate newtons\",color=\"grey\")\n",
        "  offset = .05\n",
        "  plt.text(x_22[0]-offset*35,x_22[1]-offset*5,f\"({round(x_22[0],6)},{round(x_22[1],6)},{round(x_22[2],6)})\")\n",
        "  circle_k = circles.copy()\n",
        "  for circle in circle_k[0:3]:\n",
        "    circle[2] += x_22[2]\n",
        "    xs_circle,ys_circle = xy_circle(circle[0],circle[1],circle[2])\n",
        "    plt.plot(xs_circle,ys_circle,linestyle=\":\",color=\"grey\")\n",
        "\n",
        "  # plot best, example 23 gauss-newton with additional circle (0,1,0.5) and extended radius\n",
        "  x_23 = ex_23(circles,r,drx,dry,eps)\n",
        "  plt.scatter([x_23[0]],[x_23[1]],marker=\"*\",label=\"gauss-newton #2\",color=\"red\")\n",
        "  offset = .05\n",
        "  plt.text(x_22[0]-offset*20,x_22[1]+offset*5,f\"({round(x_22[0],6)},{round(x_22[1],6)},{round(x_22[2],6)})\")\n",
        "  circle_k = circles.copy()\n",
        "  for circle in circle_k:\n",
        "    circle[2] += x_23[2]\n",
        "    xs_circle,ys_circle = xy_circle(circle[0],circle[1],circle[2])\n",
        "    plt.plot(xs_circle,ys_circle,linestyle=\":\",color=\"red\")\n",
        "\n",
        "  ax = plt.gca()\n",
        "  format_axes(ax)\n",
        "  plt.legend(bbox_to_anchor=(1.02,1),loc='upper left',borderaxespad=0)\n",
        "  plt.show()\n"
      ],
      "metadata": {
        "id": "a8slp5qHDWH3"
      },
      "execution_count": 2,
      "outputs": []
    },
    {
      "cell_type": "code",
      "source": [
        "# example 24 uses example 08 data, (a) scipy.optimize.least_squares\n",
        "\n",
        "def eg_24a():\n",
        "\n",
        "  # model, descriptors\n",
        "  f = lambda cs,x: cs[0]*np.exp(cs[1]*x)\n",
        "  r = lambda cs,x,y: f(cs,x) - y\n",
        "  sf = lambda cs: f\"{cs[0]:.4f}·e^({cs[1]:+.4f}x)\"\n",
        "  sf_y_axis = \"cars\"\n",
        "  sf_y_units = sf_y_axis + \" (M)\"\n",
        "\n",
        "  # data, offsets\n",
        "  xs_offset = 1950\n",
        "  h = 5 # x stepsize\n",
        "  xs = np.arange(0,31,h) # [1950,1980]\n",
        "  ys = np.array([53.05,73.04,98.31,139.78,193.48,260.20,320.39]) # b\n",
        "\n",
        "  # run, parms\n",
        "  c0 = np.array([ys[0],0]) # first guess\n",
        "  #eps = 1e-5 # default is 1e-08\n",
        "  cs = (sp.optimize.least_squares(fun=r,x0=c0,args=[xs,ys])).x\n",
        "  #cs = (sp.optimize.least_squares(fun=r,x0=c0,method='lm',args=[xs,ys])).x\n",
        "\n",
        "  print(\"\\n\",sf(cs))\n"
      ],
      "metadata": {
        "id": "E8ajMPkVemu8"
      },
      "execution_count": 9,
      "outputs": []
    },
    {
      "cell_type": "code",
      "source": [
        "# example 24 uses example 08 data, newton-gauss\n",
        "\n",
        "def eg_24b():\n",
        "\n",
        "  # model, descriptors\n",
        "  f = lambda cs,x: cs[0]*np.exp(cs[1]*x)\n",
        "  sf = lambda cs: f\"{cs[0]:.4f}·e^({cs[1]:+.4f}x)\"\n",
        "  sf_y_axis = \"cars\"\n",
        "  sf_y_units = sf_y_axis + \" (M)\"\n",
        "\n",
        "  # data, offsets\n",
        "  xs_offset = 1950\n",
        "  h = 5\n",
        "  xs = np.arange(0,31,h) # [1950,1980]\n",
        "  ys = np.array([53.05,73.04,98.31,139.78,193.48,260.20,320.39]) # b\n",
        "  # data, interval w higher resolution to display functions smoothly\n",
        "  xs_dis = np.linspace(min(xs),max(xs),(len(xs)-1)*h+1)\n",
        "\n",
        "  # r(x), dr(x)\n",
        "  r = lambda cs,x,y: f(cs,x) - y\n",
        "  dr1 = lambda cs,x,y: np.exp(cs[1]*x)\n",
        "  dr2 = lambda cs,x,y: f(cs,x)*x\n",
        "\n",
        "  # parms, run-time\n",
        "  eps = 1e-5\n",
        "  imax = 10 # lol, not even this\n",
        "  cs_old = np.array([50,.1])\n",
        "  cs_new = cs_old.copy()\n",
        "\n",
        "  n_eqns = len(ys)\n",
        "  n_vars = len(cs_old)\n",
        "  a = np.zeros((n_eqns,n_vars))\n",
        "  b = np.zeros((n_eqns))\n",
        "  for k in range(imax):\n",
        "    for i in range(n_eqns):\n",
        "      # build a = DF\n",
        "      a[i,0] = dr1(cs_old,xs[i],ys[i])\n",
        "      a[i,1] = dr2(cs_old,xs[i],ys[i])\n",
        "      # build b = r = f - y\n",
        "      b[i] = r(cs_old,xs[i],ys[i])\n",
        "\n",
        "    # least squares\n",
        "    if False:\n",
        "      # short way: numpy\n",
        "      soln = np.linalg.lstsq(a,-b,rcond=None)\n",
        "      delta = soln[0]\n",
        "    else:\n",
        "      # long way\n",
        "      ata = a.T @ a\n",
        "      atb = a.T @ (-b)\n",
        "      delta = np.linalg.solve(ata,atb)\n",
        "\n",
        "    cs_new = cs_old + delta\n",
        "    cs_old = cs_new.copy()\n",
        "    error = np.linalg.norm(delta)\n",
        "    print(f\"newton-gauss step {k}: [{cs_new[0]:.4f},{cs_new[1]:.4f}] w error = {error:.4f}\")\n",
        "    if error < eps:\n",
        "      break\n",
        "\n",
        "  ri_lsq = r(cs_new,xs,ys)\n",
        "  yi_lsq = f(cs_new,xs)\n",
        "  ys_lsq = f(cs_new,xs_dis)\n",
        "\n",
        "  # revert offset # here in case plot via pandas\n",
        "  xs = xs + xs_offset\n",
        "  xs_dis = xs_dis + xs_offset\n",
        "\n",
        "  if True: # plot\n",
        "    # plot, data\n",
        "    plt.scatter(xs,ys,c=\"C0\",marker=\"o\",label=\"some data\")\n",
        "    plt.scatter(xs,yi_lsq,c=\"C1\",marker=\"*\")\n",
        "    plt.plot(xs_dis,ys_lsq,c=\"C1\",linestyle=\":\",label=sf(cs_new))\n",
        "\n",
        "    # plot, style\n",
        "    plt.title(\"\\nso many \" + sf_y_axis + \", so little time\\n\")\n",
        "    plt.legend(bbox_to_anchor=(1.02,1),loc='upper left',borderaxespad=0)\n",
        "    plt.xlabel(\"year\")\n",
        "    plt.ylabel(sf_y_units)\n",
        "\n",
        "    # plot, display\n",
        "    plt.show()\n",
        "\n",
        "  if True: # table\n",
        "    # pandas dataframe # only for 4 data points so \"xs\"\n",
        "    ps = np.full((xs.size,4),np.nan) # cols = t,T,(y,err)x3\n",
        "    ps[:,0] = xs\n",
        "    ps[:,1] = ys\n",
        "    ps[:,2] = yi_lsq\n",
        "    ps[:,3] = ps[:,1] - ps[:,2]\n",
        "    sCol = [\"year\",sf_y_axis,\"model\",\"error\"]\n",
        "    df = pd.DataFrame(data=ps,columns=sCol) # populate dataframe\n",
        "    df[\"error\"] = df[\"error\"].apply(\"{:.4f}\".format)\n",
        "    df[\"year\"] = df[\"year\"].apply(\"{:.0f}\".format)\n",
        "    display(df)\n"
      ],
      "metadata": {
        "id": "r26AlQb4FYix"
      },
      "execution_count": 11,
      "outputs": []
    },
    {
      "cell_type": "code",
      "source": [
        "# example 24 uses example 08 data, (c) method comparison\n",
        "\n",
        "def eg_24c():\n",
        "\n",
        "  f = lambda cs,x: cs[0]*np.exp(cs[1]*x)\n",
        "  r = lambda cs,x,y: f(cs,x) - y # EX 24\n",
        "  sf = lambda cs: f\"{cs[0]:.4f}·e^({cs[1]:+.4f}x)\"\n",
        "  sf_x_axis = \"year\"\n",
        "  sf_y_axis = \"cars\"\n",
        "  sf_y_units = sf_y_axis + \" (M)\"\n",
        "\n",
        "  xs_offset = 1950\n",
        "  h = 5\n",
        "  xs = np.arange(0,31,h) # [1950,1980]\n",
        "  ys = np.array([53.05,73.04,98.31,139.78,193.48,260.20,320.39]) # b\n",
        "\n",
        "  ck_lin = np.polyfit(xs,np.log(ys),deg=1) # returns [c2,k=ln(c1)]\n",
        "  cs_lin = np.array([np.exp(ck_lin[1]),ck_lin[0]]) # reordered,translated [ck]\n",
        "  print(f\"\\ncoeffs, linearized: [c,k] = {ck_lin[1]:.4f},{ck_lin[0]:.4f} → y(x) = {cs_lin[0]:.4f}·e^({cs_lin[1]:.4f}x)\\n\")\n",
        "\n",
        "  xs_dis = np.linspace(min(xs),max(xs),(len(xs)-1)*h+1) # display interval\n",
        "  ys_lin = f(cs_lin,xs_dis) # linearized model over interval\n",
        "  yi_lin = f(cs_lin,xs) # linearized model at data x[i]\n",
        "\n",
        "  # run, parms: levenberg-marquardt\n",
        "  c0 = np.array([ys[0],0]) # first guess\n",
        "  #eps = 1e-5 # default is 1e-08\n",
        "  cs_lmq = (sp.optimize.least_squares(fun=r,x0=c0,method='lm',args=[xs,ys])).x\n",
        "  print(f\"\\ncoeffs, nonlinear,lmq: [c1,c2] = y(x) = {cs_lmq[0]:.4f}·e^({cs_lmq[1]:.4f}x)\\n\")\n",
        "  ys_lmq = f(cs_lmq,xs_dis) # nonlinearized model over interval\n",
        "  yi_lmq = f(cs_lmq,xs) # nonlinearized model at data x[i]\n",
        "\n",
        "  # run, parms: scipy default = trust region reflective\n",
        "  c0 = np.array([ys[0],0]) # first guess\n",
        "  #eps = 1e-5 # default is 1e-08\n",
        "  cs_trf = (sp.optimize.least_squares(fun=r,x0=c0,args=[xs,ys])).x\n",
        "  print(f\"\\ncoeffs, nonlinear,trf: [c1,c2] = y(x) = {cs_trf[0]:.4f}·e^({cs_trf[1]:.4f}x)\\n\")\n",
        "  ys_trf = f(cs_trf,xs_dis) # nonlinearized model over interval\n",
        "  yi_trf = f(cs_trf,xs) # nonlinearized model at data x[i]\n",
        "\n",
        "  # revert offset # here in case plot via pandas\n",
        "  xs = xs + xs_offset\n",
        "  xs_dis = xs_dis + xs_offset\n",
        "\n",
        "  if True: # plot\n",
        "    # plot, cfg\n",
        "    plt.close(\"all\")\n",
        "\n",
        "    plt.scatter(xs,ys,c=\"C0\",marker=\"o\",label=\"some data\")\n",
        "    plt.scatter(xs,yi_lin,c=\"C1\",marker=\"*\")\n",
        "    plt.plot(xs_dis,ys_lin,c=\"C1\",linestyle=\":\",label=\"linearized, \"+sf(cs_lin))\n",
        "    plt.scatter(xs,yi_lmq,c=\"C2\",marker=\"v\")\n",
        "    plt.plot(xs_dis,ys_lmq,c=\"C2\",linestyle=\":\",label=\"nonlin, lm, \"+sf(cs_lmq))\n",
        "    plt.scatter(xs,yi_trf,c=\"C3\",marker=\"^\")\n",
        "    plt.plot(xs_dis,ys_trf,c=\"C3\",linestyle=\":\",label=\"nonlin,trf, \"+sf(cs_trf))\n",
        "\n",
        "    # plot, style\n",
        "    plt.title(\"\\nso many \" + sf_y_axis + \", so little time\\n\")\n",
        "    plt.legend(bbox_to_anchor=(1.02,1),loc='upper left',borderaxespad=0)\n",
        "    plt.xlabel(sf_x_axis)\n",
        "    plt.ylabel(sf_y_units)\n",
        "\n",
        "    # plot, display\n",
        "    plt.show()\n",
        "\n",
        "  if True: # table\n",
        "    # pandas dataframe # only for 4 data points so \"xs\"\n",
        "    ps = np.full((xs.size,8),np.nan) # cols = t,T,lin,err,lm,error,trf,err\n",
        "    ps[:,0] = xs\n",
        "    ps[:,1] = ys\n",
        "    ps[:,2] = yi_lin\n",
        "    ps[:,3] = ps[:,1] - ps[:,2]\n",
        "    ps[:,4] = yi_lmq\n",
        "    ps[:,5] = ps[:,1] - ps[:,4]\n",
        "    ps[:,6] = yi_trf\n",
        "    ps[:,7] = ps[:,1] - ps[:,6]\n",
        "    sCol = [sf_x_axis,sf_y_axis,\"mod,lin\",\"err,lin\",\"mod,l-m\",\"err,l-m\",\"mod,trf\",\"err,trf\"]\n",
        "    df = pd.DataFrame(data=ps,columns=sCol) # populate dataframe\n",
        "    df[\"err,lin\"] = df[\"err,lin\"].apply(\"{:.4f}\".format)\n",
        "    df[\"err,l-m\"] = df[\"err,l-m\"].apply(\"{:.4f}\".format)\n",
        "    df[\"err,trf\"] = df[\"err,trf\"].apply(\"{:.4f}\".format)\n",
        "    df[sf_x_axis] = df[sf_x_axis].apply(\"{:.0f}\".format)\n",
        "    display(df)\n"
      ],
      "metadata": {
        "id": "2GFJp7j7Wdeo"
      },
      "execution_count": 15,
      "outputs": []
    },
    {
      "cell_type": "code",
      "source": [
        "# example 25 plot problem data = wth\n",
        "\n",
        "def eg_25a():\n",
        "\n",
        "  # model\n",
        "  f = lambda cs,x: cs[0]*np.exp(-cs[1]*pow(x-cs[2],2))\n",
        "  cs_ans = np.array([6.301,0.5088,2.249])\n",
        "\n",
        "  # data, offsets\n",
        "  xs_offset = 0\n",
        "  h = 10\n",
        "  xs = np.array([1,2,2,3,4]) # t\n",
        "  ys = np.array([3,5,7,5,1]) # b\n",
        "  # data, interval w higher resolution to display functions smoothly\n",
        "  xs_dis = np.linspace(min(xs),max(xs),(len(xs)-1)*h+1)\n",
        "  ys_ans = f(cs_ans,xs_dis)\n",
        "\n",
        "  # plot, cfg\n",
        "  plt.close(\"all\")\n",
        "\n",
        "  # plot, data\n",
        "  plt.scatter(xs,ys)\n",
        "  plt.plot(xs_dis,ys_ans)\n",
        "\n",
        "  # plot, style, data point labels\n",
        "  offset = 0.1\n",
        "  sxy = []\n",
        "  for i,x in enumerate(xs):\n",
        "    sxy.append(f\"({xs[i]},{ys[i]})\")\n",
        "  for i,label in enumerate(sxy):\n",
        "    plt.text(xs[i]+offset,ys[i]+offset,label)\n",
        "\n",
        "  plt.show()\n"
      ],
      "metadata": {
        "id": "KHbllCQJ2WfY"
      },
      "execution_count": null,
      "outputs": []
    },
    {
      "cell_type": "code",
      "source": [
        "# example 25 uses levenberg-marquardt by editing code from example 24, last version\n",
        "\n",
        "def eg_25b():\n",
        "\n",
        "  # answer\n",
        "  cs_ans = np.array([6.301,0.5088,2.249])\n",
        "\n",
        "  # model, descriptors\n",
        "  f = lambda cs,x: cs[0]*np.exp(-cs[1]*pow(x-cs[2],2))\n",
        "  sf = lambda cs: f\"{cs[0]:+.4f}·e^({-1*cs[1]:+.4f}(t{-1*cs[2]:+.4f})^2)\"\n",
        "  sf_y_axis = \"y\"\n",
        "  sf_y_units = sf_y_axis + \"\"\n",
        "\n",
        "  # data, offsets\n",
        "  xs_offset = 0\n",
        "  h = 5\n",
        "  xs = np.array([1,2,2,3,4]) # t\n",
        "  ys = np.array([3,5,7,5,1]) # b\n",
        "  # data, interval w higher resolution to display functions smoothly\n",
        "  xs_dis = np.linspace(min(xs),max(xs),(len(xs)-1)*h+1)\n",
        "\n",
        "  # r(x), dr(x)\n",
        "  r = lambda cs,x,y: f(cs,x) - y\n",
        "  dr1 = lambda cs,x: np.exp(-cs[1]*pow(x-cs[2],2))\n",
        "  dr2 = lambda cs,x: -1*pow(x-cs[2],2)*f(cs,x)\n",
        "  dr3 = lambda cs,x: 2*cs[1]*(x-cs[2])*f(cs,x)\n",
        "\n",
        "  # parms, run-time\n",
        "  eps = 1e-5\n",
        "  imax = 10 # lol, not even this\n",
        "  cs_old = np.array([1,1,1])\n",
        "  cs_new = cs_old.copy()\n",
        "\n",
        "  n_eqns = len(ys)\n",
        "  n_vars = len(cs_old)\n",
        "  a = np.zeros((n_eqns,n_vars))\n",
        "  b = np.zeros((n_eqns))\n",
        "  for k in range(imax):\n",
        "    for i in range(n_eqns):\n",
        "      # build a = DF\n",
        "      a[i,0] = dr1(cs_old,xs[i])\n",
        "      a[i,1] = dr2(cs_old,xs[i])\n",
        "      a[i,2] = dr3(cs_old,xs[i])\n",
        "      # build b = r = f - y\n",
        "      b[i] = r(cs_old,xs[i],ys[i])\n",
        "\n",
        "    # least squares\n",
        "    if True:\n",
        "      if True: # lmq w varying λ (internal to method)\n",
        "        #eps = 1e-5 # default is 1e-08\n",
        "        cs_lmq = (sp.optimize.least_squares(fun=r,x0=cs_old,method='lm',args=[xs,ys])).x\n",
        "        print(f\"\\ncoeffs, nonlinear, lmq: [c1,c2,c3] → y(x) = {sf(cs_lmq)}\\n\")\n",
        "        ys_lmq = f(cs_lmq,xs_dis) # nonlinearized model over interval\n",
        "        yi_lmq = f(cs_lmq,xs) # nonlinearized model at data x[i]\n",
        "        delta = cs_lmq - cs_old # for show\n",
        "        k = imax+1 # ends loop; iteration happens within method\n",
        "      else:\n",
        "        # short way: numpy, λ = 0 = gauss-newton ~ fail for this problem\n",
        "        soln = np.linalg.lstsq(a,-b,rcond=None)\n",
        "        delta = soln[0]\n",
        "    else:\n",
        "      # levenberg-marquardt w constant λ\n",
        "      λ = 50\n",
        "      ata = a.T @ a + λ*np.diagonal(a.T @ a)\n",
        "      atb = a.T @ (-b)\n",
        "      delta = np.linalg.solve(ata,atb)\n",
        "\n",
        "    cs_new = cs_old + delta\n",
        "    cs_old = cs_new.copy()\n",
        "    error = np.linalg.norm(delta)\n",
        "    print(f\"levenberg-marquardt step {k}: [{delta[0]:.4f},{delta[1]:.4f},{delta[1]:.4f}] w error = {error:.4f}\")\n",
        "    if (error < eps) or (k>imax): # hack for break with numpy method\n",
        "      print() # spacer\n",
        "      break\n",
        "\n",
        "  ri_lsq = r(cs_new,xs,ys)\n",
        "  yi_lsq = f(cs_new,xs)\n",
        "  ys_lsq = f(cs_new,xs_dis)\n",
        "\n",
        "  # revert offset # here in case plot via pandas\n",
        "  xs = xs + xs_offset\n",
        "  xs_dis = xs_dis + xs_offset\n",
        "\n",
        "  if True: # plot\n",
        "    # plot, cfg\n",
        "    plt.close(\"all\")\n",
        "\n",
        "    # plot, data\n",
        "    plt.scatter(xs,ys,c=\"C0\",marker=\"o\",label=\"some data\")\n",
        "    plt.scatter(xs,yi_lsq,c=\"C1\",marker=\"*\")\n",
        "    plt.plot(xs_dis,ys_lsq,c=\"C1\",linestyle=\":\",label=sf(cs_new))\n",
        "\n",
        "    # plot, style\n",
        "    plt.title(\"\\nso many \" + sf_y_axis + \", so little time\\n\")\n",
        "    plt.legend(bbox_to_anchor=(1.02,1),loc='upper left',borderaxespad=0)\n",
        "    plt.xlabel(\"t\")\n",
        "    plt.ylabel(sf_y_units)\n",
        "\n",
        "    # plot, display\n",
        "    plt.show()\n",
        "\n",
        "  if True: # table\n",
        "    # pandas dataframe # only for 4 data points so \"xs\"\n",
        "    ps = np.full((xs.size,4),np.nan) # cols = t,T,(y,err)x3\n",
        "    ps[:,0] = xs\n",
        "    ps[:,1] = ys\n",
        "    ps[:,2] = yi_lsq\n",
        "    ps[:,3] = ps[:,1] - ps[:,2]\n",
        "    sCol = [\"t\",sf_y_axis,\"model\",\"error\"]\n",
        "    df = pd.DataFrame(data=ps,columns=sCol) # populate dataframe\n",
        "    df[\"error\"] = df[\"error\"].apply(\"{:.4f}\".format)\n",
        "    df[\"t\"] = df[\"t\"].apply(\"{:.0f}\".format)\n",
        "    display(df)\n"
      ],
      "metadata": {
        "id": "ZuEdHHKwtlcq"
      },
      "execution_count": null,
      "outputs": []
    },
    {
      "cell_type": "markdown",
      "source": [
        "## 0 intro"
      ],
      "metadata": {
        "id": "tPGx1sOvz5ez"
      }
    },
    {
      "cell_type": "markdown",
      "source": [
        "so theres QR factorization and GMRES for to minimize the L2 norm for linear systems. but theyre only for linear. so now gauss-newton for nonlinear least squares problems."
      ],
      "metadata": {
        "id": "A2sHSgUUAUDK"
      }
    },
    {
      "cell_type": "markdown",
      "source": [
        "## 1 gauss-newton"
      ],
      "metadata": {
        "id": "nMq4xeW_AtYd"
      }
    },
    {
      "cell_type": "markdown",
      "source": [
        "consider $m$ equations with $n$ unknowns such that $m\\ge n$ and with residuals,"
      ],
      "metadata": {
        "id": "zeZXb7HOzH3t"
      }
    },
    {
      "cell_type": "markdown",
      "source": [
        "\\begin{align}\n",
        "  r_1(x_1,\\dots,x_n) &= 0 \\\\\n",
        "  \\vdots \\qquad\\qquad \\\\\n",
        "  r_m(x_1,\\dots,x_n) &= 0.\n",
        "\\end{align}"
      ],
      "metadata": {
        "id": "GCsCmBxzMLag"
      }
    },
    {
      "cell_type": "markdown",
      "source": [
        "sum the squares of the errors"
      ],
      "metadata": {
        "id": "-tXyGDgGzK_A"
      }
    },
    {
      "cell_type": "markdown",
      "source": [
        "$$E(x_1,\\dots,x_n) =  \\frac{1}{2}(r_1^2+\\dots r_m^2) = \\frac{1}{2} r^Tr, \\text{ with }\\frac{1}{2}\\text{ for convenience.}$$"
      ],
      "metadata": {
        "id": "rUKVnukBMOxW"
      }
    },
    {
      "cell_type": "markdown",
      "source": [
        "to minimize $E$, set gradient $F(x) = \\nabla E(x) = 0$ and apply dot product rule"
      ],
      "metadata": {
        "id": "muuJJjx2zOA0"
      }
    },
    {
      "cell_type": "markdown",
      "source": [
        "$$0 = F(x) = \\nabla E(x) = \\nabla \\left(\\frac{1}{2}r(x)^Tr(x)\\right) = r(x)^TDr(x).$$"
      ],
      "metadata": {
        "id": "S2Mqqx49MS9W"
      }
    },
    {
      "cell_type": "markdown",
      "source": [
        "apply multivariate newtons and product rule to"
      ],
      "metadata": {
        "id": "8o3wdO1xzQ6e"
      }
    },
    {
      "cell_type": "markdown",
      "source": [
        "$$F(x)^T = (r^TDr)^T = \\underbrace{(Dr)^T\\cdot Dr}_{\\text{linear approximation}} + \\underbrace{\\sum_{i=1}^m r_iDc_i}_{\\text{curvature}}$$"
      ],
      "metadata": {
        "id": "yqmSZLuWMXLI"
      }
    },
    {
      "cell_type": "markdown",
      "source": [
        "where $c_i$ is $i$th column of $Dr$."
      ],
      "metadata": {
        "id": "u__ieEG_zT_G"
      }
    },
    {
      "cell_type": "markdown",
      "source": [
        "note: $Dc_i = H_{r_i}$, the <b>hessian</b> (matrix of 2nd derivatives) of $r_i$."
      ],
      "metadata": {
        "id": "K7gstGalzW6b"
      }
    },
    {
      "cell_type": "markdown",
      "source": [
        "\\begin{align}\n",
        "  H_{r_i} = \\begin{bmatrix}\n",
        "    \\frac{\\partial^2r_i}{\\partial x_1 \\partial x_1} & \\dots & \\frac{\\partial^2r_i}{\\partial x_1 \\partial x_n} \\\\\n",
        "    \\vdots && \\vdots \\\\\n",
        "    \\frac{\\partial^2r_i}{\\partial x_n \\partial x_1} & \\dots & \\frac{\\partial^2r_i}{\\partial x_n \\partial x_n}\n",
        "  \\end{bmatrix}.\n",
        "\\end{align}"
      ],
      "metadata": {
        "id": "ZpI6WPQPzYwK"
      }
    },
    {
      "cell_type": "markdown",
      "source": [
        "simplify by dropping terms beyond $n$."
      ],
      "metadata": {
        "id": "ZxyoX_CAAyek"
      }
    },
    {
      "cell_type": "markdown",
      "source": [
        "##### algorithm <b>gauss-newton</b>"
      ],
      "metadata": {
        "id": "mUXZOrq4U1f-"
      }
    },
    {
      "cell_type": "markdown",
      "source": [
        "```\n",
        "# minimize (r[1](x))^2 + ... + (r[m](x))^2\n",
        "\n",
        "x[0] = initial vector\n",
        "for k in range(n) # ie, terms not dropped, n ≤ m\n",
        "  A = Dr(x[k])\n",
        "  transpose(A)Av[k] = - transpose(A)r(x[k])\n",
        "  x[k+1] = x[k] + v[k]\n",
        "\n",
        "```"
      ],
      "metadata": {
        "id": "43as1IfaWklF"
      }
    },
    {
      "cell_type": "markdown",
      "source": [
        "each step resembles the normal equations but the coefficient matrix is replaced by $Dr$. gauss-newton solves for a root of the gradient of the squared error."
      ],
      "metadata": {
        "id": "0A53tAAFBjUc"
      }
    },
    {
      "cell_type": "markdown",
      "source": [
        "##### comments"
      ],
      "metadata": {
        "id": "7txXRuc3YAL3"
      }
    },
    {
      "cell_type": "markdown",
      "source": [
        "warning: although the gradient must be at least zero, the converse is not true, so it is possible that it converges to a maximum or neutral point."
      ],
      "metadata": {
        "id": "ic-v2tH5YChi"
      }
    },
    {
      "cell_type": "markdown",
      "source": [
        "##### example 21"
      ],
      "metadata": {
        "id": "98MD97-kBwJ0"
      }
    },
    {
      "cell_type": "markdown",
      "source": [
        "consider three circles in the plane with centers $(x_1,y_1) = (-1,0),(x_2,y_2) = (1,\\tfrac{1}{2}),(x_3,y_3) = (1,-\\tfrac{1}{2})$ and radii $R_1=1,R_2=\\tfrac{1}{2},R_3=\\tfrac{1}{2}$. use gauss-newton to find a point for which the sum of the squared distances to the three circles is minimized."
      ],
      "metadata": {
        "id": "23-OdVoDByx0"
      }
    },
    {
      "cell_type": "code",
      "source": [
        "# gauss-newton, multivariate newtons w extra term, gauss-newton w extra term\n",
        "egs_21_22_23()"
      ],
      "metadata": {
        "colab": {
          "base_uri": "https://localhost:8080/",
          "height": 406
        },
        "id": "q21ZDCQRzwFl",
        "outputId": "74c08f5b-18d2-4fc6-a7c5-92d6392375ce"
      },
      "execution_count": 14,
      "outputs": [
        {
          "output_type": "display_data",
          "data": {
            "text/plain": [
              "<Figure size 640x480 with 1 Axes>"
            ],
            "image/png": "[encoded data removed]"
          },
          "metadata": {}
        }
      ]
    },
    {
      "cell_type": "markdown",
      "source": [
        "###### code"
      ],
      "metadata": {
        "id": "MKcONhNRUZj-"
      }
    },
    {
      "cell_type": "markdown",
      "source": [
        "## 2 models with nonlinear parameters"
      ],
      "metadata": {
        "id": "KzxPfu79Y1ut"
      }
    },
    {
      "cell_type": "markdown",
      "source": [
        "let function $y = f_c(x)$ fit points $(t_1,y_1),\\dots,(t_m,y_m)$, where $c = [c_1,\\dots,c_p]$ is the set of parameters that minimizes the sum of the squares of the residuals"
      ],
      "metadata": {
        "id": "Si4_HgVO0cx8"
      }
    },
    {
      "cell_type": "markdown",
      "source": [
        "\\begin{align}\n",
        "  r_1(c) &= f_c(t_1) = y_1 \\\\\n",
        "  &\\vdots \\\\\n",
        "  r_m(c) &= f_c(t_m) = y_m.\n",
        "\\end{align}"
      ],
      "metadata": {
        "id": "bg-rZFOB0eak"
      }
    },
    {
      "cell_type": "markdown",
      "source": [
        "if $c$ can be linearized (ie, by logs), then QR factorization applies. ie, the log space is where L2 norm happens. but to solve the original least squares problem, use gauss-newton to minimize error function $E$ as a function of parameter $c$. ie, matrix $Dr$ of partial derivatives of errors $r_i$ wrt parameters $c_j$"
      ],
      "metadata": {
        "id": "ewqtBQx30gRj"
      }
    },
    {
      "cell_type": "markdown",
      "source": [
        "$$(DR)_{ij} = \\frac{\\partial r_i}{\\partial c_j} = f_{c_j}(t_i).$$"
      ],
      "metadata": {
        "id": "pKbnzo4XZBUy"
      }
    },
    {
      "cell_type": "markdown",
      "source": [
        "##### example 24"
      ],
      "metadata": {
        "id": "p7pjBe3p1a3q"
      }
    },
    {
      "cell_type": "markdown",
      "source": [
        "continue example 08 with a nonlinearized exponential model."
      ],
      "metadata": {
        "id": "hV2XOuOH1ggz"
      }
    },
    {
      "cell_type": "markdown",
      "source": [
        "\\begin{align}\n",
        "  r &=\n",
        "  \\begin{bmatrix}\n",
        "    c_1e^{c_2t_1} - y_1 \\\\\n",
        "    \\vdots \\\\\n",
        "    c_1e^{c_2t_m} - y_m\n",
        "  \\end{bmatrix} \\\\\n",
        "  \\\\\n",
        "  &\\Downarrow \\\\\n",
        "  \\\\\n",
        "  Dr &= -\n",
        "  \\begin{bmatrix}\n",
        "    e^{c_2t_1} & c_1t_1e^{c_2t_1} \\\\\n",
        "    \\vdots & \\vdots \\\\\n",
        "    e^{c_2t_m} & c_1t_me^{c_2t_m}\n",
        "  \\end{bmatrix}.\n",
        "\\end{align}\n"
      ],
      "metadata": {
        "id": "lRUeyls11uV7"
      }
    },
    {
      "cell_type": "code",
      "source": [
        "# example 24 uses example 08 data, scipy.optimize.least_squares\n",
        "eg_24a()"
      ],
      "metadata": {
        "colab": {
          "base_uri": "https://localhost:8080/"
        },
        "id": "cjFyay2V0mMC",
        "outputId": "817e69ce-8ad4-450c-f00d-26a584c545df"
      },
      "execution_count": 10,
      "outputs": [
        {
          "output_type": "stream",
          "name": "stdout",
          "text": [
            "\n",
            " 58.5075·e^(+0.0577x)\n"
          ]
        }
      ]
    },
    {
      "cell_type": "code",
      "source": [
        "# example 24 uses example 08 data, (b) newton-gauss\n",
        "eg_24b()"
      ],
      "metadata": {
        "colab": {
          "base_uri": "https://localhost:8080/",
          "height": 894
        },
        "id": "25SIjKkL1UbG",
        "outputId": "a104fc29-1ad6-40fa-90dd-4290a803adbe"
      },
      "execution_count": 12,
      "outputs": [
        {
          "output_type": "stream",
          "name": "stdout",
          "text": [
            "newton-gauss step 0: [47.4574,0.0790] w error = 2.5426\n",
            "newton-gauss step 1: [55.8620,0.0612] w error = 8.4046\n",
            "newton-gauss step 2: [58.6062,0.0576] w error = 2.7442\n",
            "newton-gauss step 3: [58.5030,0.0577] w error = 0.1032\n",
            "newton-gauss step 4: [58.5077,0.0577] w error = 0.0048\n",
            "newton-gauss step 5: [58.5075,0.0577] w error = 0.0002\n",
            "newton-gauss step 6: [58.5075,0.0577] w error = 0.0000\n"
          ]
        },
        {
          "output_type": "display_data",
          "data": {
            "text/plain": [
              "<Figure size 640x480 with 1 Axes>"
            ],
            "image/png": "[encoded data removed]"
          },
          "metadata": {}
        },
        {
          "output_type": "display_data",
          "data": {
            "text/plain": [
              "   year    cars       model     error\n",
              "0  1950   53.05   58.507544   -5.4575\n",
              "1  1955   73.04   78.080217   -5.0402\n",
              "2  1960   98.31  104.200585   -5.8906\n",
              "3  1965  139.78  139.059064    0.7209\n",
              "4  1970  193.48  185.578837    7.9012\n",
              "5  1975  260.20  247.660984   12.5390\n",
              "6  1980  320.39  330.511626  -10.1216"
            ],
            "text/html": [
              "\n",
              "  <div id=\"df-95d5b413-ba6d-4bed-bfbd-eb9637bbb5dc\" class=\"colab-df-container\">\n",
              "    <div>\n",
              "<style scoped>\n",
              "    .dataframe tbody tr th:only-of-type {\n",
              "        vertical-align: middle;\n",
              "    }\n",
              "\n",
              "    .dataframe tbody tr th {\n",
              "        vertical-align: top;\n",
              "    }\n",
              "\n",
              "    .dataframe thead th {\n",
              "        text-align: right;\n",
              "    }\n",
              "</style>\n",
              "<table border=\"1\" class=\"dataframe\">\n",
              "  <thead>\n",
              "    <tr style=\"text-align: right;\">\n",
              "      <th></th>\n",
              "      <th>year</th>\n",
              "      <th>cars</th>\n",
              "      <th>model</th>\n",
              "      <th>error</th>\n",
              "    </tr>\n",
              "  </thead>\n",
              "  <tbody>\n",
              "    <tr>\n",
              "      <th>0</th>\n",
              "      <td>1950</td>\n",
              "      <td>53.05</td>\n",
              "      <td>58.507544</td>\n",
              "      <td>-5.4575</td>\n",
              "    </tr>\n",
              "    <tr>\n",
              "      <th>1</th>\n",
              "      <td>1955</td>\n",
              "      <td>73.04</td>\n",
              "      <td>78.080217</td>\n",
              "      <td>-5.0402</td>\n",
              "    </tr>\n",
              "    <tr>\n",
              "      <th>2</th>\n",
              "      <td>1960</td>\n",
              "      <td>98.31</td>\n",
              "      <td>104.200585</td>\n",
              "      <td>-5.8906</td>\n",
              "    </tr>\n",
              "    <tr>\n",
              "      <th>3</th>\n",
              "      <td>1965</td>\n",
              "      <td>139.78</td>\n",
              "      <td>139.059064</td>\n",
              "      <td>0.7209</td>\n",
              "    </tr>\n",
              "    <tr>\n",
              "      <th>4</th>\n",
              "      <td>1970</td>\n",
              "      <td>193.48</td>\n",
              "      <td>185.578837</td>\n",
              "      <td>7.9012</td>\n",
              "    </tr>\n",
              "    <tr>\n",
              "      <th>5</th>\n",
              "      <td>1975</td>\n",
              "      <td>260.20</td>\n",
              "      <td>247.660984</td>\n",
              "      <td>12.5390</td>\n",
              "    </tr>\n",
              "    <tr>\n",
              "      <th>6</th>\n",
              "      <td>1980</td>\n",
              "      <td>320.39</td>\n",
              "      <td>330.511626</td>\n",
              "      <td>-10.1216</td>\n",
              "    </tr>\n",
              "  </tbody>\n",
              "</table>\n",
              "</div>\n",
              "    <div class=\"colab-df-buttons\">\n",
              "\n",
              "  <div class=\"colab-df-container\">\n",
              "    <button class=\"colab-df-convert\" onclick=\"convertToInteractive('df-95d5b413-ba6d-4bed-bfbd-eb9637bbb5dc')\"\n",
              "            title=\"Convert this dataframe to an interactive table.\"\n",
              "            style=\"display:none;\">\n",
              "\n",
              "  <svg xmlns=\"http://www.w3.org/2000/svg\" height=\"24px\" viewBox=\"0 -960 960 960\">\n",
              "    <path d=\"M120-120v-720h720v720H120Zm60-500h600v-160H180v160Zm220 220h160v-160H400v160Zm0 220h160v-160H400v160ZM180-400h160v-160H180v160Zm440 0h160v-160H620v160ZM180-180h160v-160H180v160Zm440 0h160v-160H620v160Z\"/>\n",
              "  </svg>\n",
              "    </button>\n",
              "\n",
              "  <style>\n",
              "    .colab-df-container {\n",
              "      display:flex;\n",
              "      gap: 12px;\n",
              "    }\n",
              "\n",
              "    .colab-df-convert {\n",
              "      background-color: #E8F0FE;\n",
              "      border: none;\n",
              "      border-radius: 50%;\n",
              "      cursor: pointer;\n",
              "      display: none;\n",
              "      fill: #1967D2;\n",
              "      height: 32px;\n",
              "      padding: 0 0 0 0;\n",
              "      width: 32px;\n",
              "    }\n",
              "\n",
              "    .colab-df-convert:hover {\n",
              "      background-color: #E2EBFA;\n",
              "      box-shadow: 0px 1px 2px rgba(60, 64, 67, 0.3), 0px 1px 3px 1px rgba(60, 64, 67, 0.15);\n",
              "      fill: #174EA6;\n",
              "    }\n",
              "\n",
              "    .colab-df-buttons div {\n",
              "      margin-bottom: 4px;\n",
              "    }\n",
              "\n",
              "    [theme=dark] .colab-df-convert {\n",
              "      background-color: #3B4455;\n",
              "      fill: #D2E3FC;\n",
              "    }\n",
              "\n",
              "    [theme=dark] .colab-df-convert:hover {\n",
              "      background-color: #434B5C;\n",
              "      box-shadow: 0px 1px 3px 1px rgba(0, 0, 0, 0.15);\n",
              "      filter: drop-shadow(0px 1px 2px rgba(0, 0, 0, 0.3));\n",
              "      fill: #FFFFFF;\n",
              "    }\n",
              "  </style>\n",
              "\n",
              "    <script>\n",
              "      const buttonEl =\n",
              "        document.querySelector('#df-95d5b413-ba6d-4bed-bfbd-eb9637bbb5dc button.colab-df-convert');\n",
              "      buttonEl.style.display =\n",
              "        google.colab.kernel.accessAllowed ? 'block' : 'none';\n",
              "\n",
              "      async function convertToInteractive(key) {\n",
              "        const element = document.querySelector('#df-95d5b413-ba6d-4bed-bfbd-eb9637bbb5dc');\n",
              "        const dataTable =\n",
              "          await google.colab.kernel.invokeFunction('convertToInteractive',\n",
              "                                                    [key], {});\n",
              "        if (!dataTable) return;\n",
              "\n",
              "        const docLinkHtml = 'Like what you see? Visit the ' +\n",
              "          '<a target=\"_blank\" href=https://colab.research.google.com/notebooks/data_table.ipynb>data table notebook</a>'\n",
              "          + ' to learn more about interactive tables.';\n",
              "        element.innerHTML = '';\n",
              "        dataTable['output_type'] = 'display_data';\n",
              "        await google.colab.output.renderOutput(dataTable, element);\n",
              "        const docLink = document.createElement('div');\n",
              "        docLink.innerHTML = docLinkHtml;\n",
              "        element.appendChild(docLink);\n",
              "      }\n",
              "    </script>\n",
              "  </div>\n",
              "\n",
              "\n",
              "<div id=\"df-f99d1efb-7860-4b68-ae70-54ee17822140\">\n",
              "  <button class=\"colab-df-quickchart\" onclick=\"quickchart('df-f99d1efb-7860-4b68-ae70-54ee17822140')\"\n",
              "            title=\"Suggest charts\"\n",
              "            style=\"display:none;\">\n",
              "\n",
              "<svg xmlns=\"http://www.w3.org/2000/svg\" height=\"24px\"viewBox=\"0 0 24 24\"\n",
              "     width=\"24px\">\n",
              "    <g>\n",
              "        <path d=\"M19 3H5c-1.1 0-2 .9-2 2v14c0 1.1.9 2 2 2h14c1.1 0 2-.9 2-2V5c0-1.1-.9-2-2-2zM9 17H7v-7h2v7zm4 0h-2V7h2v10zm4 0h-2v-4h2v4z\"/>\n",
              "    </g>\n",
              "</svg>\n",
              "  </button>\n",
              "\n",
              "<style>\n",
              "  .colab-df-quickchart {\n",
              "      --bg-color: #E8F0FE;\n",
              "      --fill-color: #1967D2;\n",
              "      --hover-bg-color: #E2EBFA;\n",
              "      --hover-fill-color: #174EA6;\n",
              "      --disabled-fill-color: #AAA;\n",
              "      --disabled-bg-color: #DDD;\n",
              "  }\n",
              "\n",
              "  [theme=dark] .colab-df-quickchart {\n",
              "      --bg-color: #3B4455;\n",
              "      --fill-color: #D2E3FC;\n",
              "      --hover-bg-color: #434B5C;\n",
              "      --hover-fill-color: #FFFFFF;\n",
              "      --disabled-bg-color: #3B4455;\n",
              "      --disabled-fill-color: #666;\n",
              "  }\n",
              "\n",
              "  .colab-df-quickchart {\n",
              "    background-color: var(--bg-color);\n",
              "    border: none;\n",
              "    border-radius: 50%;\n",
              "    cursor: pointer;\n",
              "    display: none;\n",
              "    fill: var(--fill-color);\n",
              "    height: 32px;\n",
              "    padding: 0;\n",
              "    width: 32px;\n",
              "  }\n",
              "\n",
              "  .colab-df-quickchart:hover {\n",
              "    background-color: var(--hover-bg-color);\n",
              "    box-shadow: 0 1px 2px rgba(60, 64, 67, 0.3), 0 1px 3px 1px rgba(60, 64, 67, 0.15);\n",
              "    fill: var(--button-hover-fill-color);\n",
              "  }\n",
              "\n",
              "  .colab-df-quickchart-complete:disabled,\n",
              "  .colab-df-quickchart-complete:disabled:hover {\n",
              "    background-color: var(--disabled-bg-color);\n",
              "    fill: var(--disabled-fill-color);\n",
              "    box-shadow: none;\n",
              "  }\n",
              "\n",
              "  .colab-df-spinner {\n",
              "    border: 2px solid var(--fill-color);\n",
              "    border-color: transparent;\n",
              "    border-bottom-color: var(--fill-color);\n",
              "    animation:\n",
              "      spin 1s steps(1) infinite;\n",
              "  }\n",
              "\n",
              "  @keyframes spin {\n",
              "    0% {\n",
              "      border-color: transparent;\n",
              "      border-bottom-color: var(--fill-color);\n",
              "      border-left-color: var(--fill-color);\n",
              "    }\n",
              "    20% {\n",
              "      border-color: transparent;\n",
              "      border-left-color: var(--fill-color);\n",
              "      border-top-color: var(--fill-color);\n",
              "    }\n",
              "    30% {\n",
              "      border-color: transparent;\n",
              "      border-left-color: var(--fill-color);\n",
              "      border-top-color: var(--fill-color);\n",
              "      border-right-color: var(--fill-color);\n",
              "    }\n",
              "    40% {\n",
              "      border-color: transparent;\n",
              "      border-right-color: var(--fill-color);\n",
              "      border-top-color: var(--fill-color);\n",
              "    }\n",
              "    60% {\n",
              "      border-color: transparent;\n",
              "      border-right-color: var(--fill-color);\n",
              "    }\n",
              "    80% {\n",
              "      border-color: transparent;\n",
              "      border-right-color: var(--fill-color);\n",
              "      border-bottom-color: var(--fill-color);\n",
              "    }\n",
              "    90% {\n",
              "      border-color: transparent;\n",
              "      border-bottom-color: var(--fill-color);\n",
              "    }\n",
              "  }\n",
              "</style>\n",
              "\n",
              "  <script>\n",
              "    async function quickchart(key) {\n",
              "      const quickchartButtonEl =\n",
              "        document.querySelector('#' + key + ' button');\n",
              "      quickchartButtonEl.disabled = true;  // To prevent multiple clicks.\n",
              "      quickchartButtonEl.classList.add('colab-df-spinner');\n",
              "      try {\n",
              "        const charts = await google.colab.kernel.invokeFunction(\n",
              "            'suggestCharts', [key], {});\n",
              "      } catch (error) {\n",
              "        console.error('Error during call to suggestCharts:', error);\n",
              "      }\n",
              "      quickchartButtonEl.classList.remove('colab-df-spinner');\n",
              "      quickchartButtonEl.classList.add('colab-df-quickchart-complete');\n",
              "    }\n",
              "    (() => {\n",
              "      let quickchartButtonEl =\n",
              "        document.querySelector('#df-f99d1efb-7860-4b68-ae70-54ee17822140 button');\n",
              "      quickchartButtonEl.style.display =\n",
              "        google.colab.kernel.accessAllowed ? 'block' : 'none';\n",
              "    })();\n",
              "  </script>\n",
              "</div>\n",
              "\n",
              "    </div>\n",
              "  </div>\n"
            ],
            "application/vnd.google.colaboratory.intrinsic+json": {
              "type": "dataframe",
              "summary": "{\n  \"name\": \"eg_24b()\",\n  \"rows\": 7,\n  \"fields\": [\n    {\n      \"column\": \"year\",\n      \"properties\": {\n        \"dtype\": \"object\",\n        \"num_unique_values\": 7,\n        \"samples\": [\n          \"1950\",\n          \"1955\",\n          \"1975\"\n        ],\n        \"semantic_type\": \"\",\n        \"description\": \"\"\n      }\n    },\n    {\n      \"column\": \"cars\",\n      \"properties\": {\n        \"dtype\": \"number\",\n        \"std\": 100.04429914031178,\n        \"min\": 53.05,\n        \"max\": 320.39,\n        \"num_unique_values\": 7,\n        \"samples\": [\n          53.05,\n          73.04,\n          260.2\n        ],\n        \"semantic_type\": \"\",\n        \"description\": \"\"\n      }\n    },\n    {\n      \"column\": \"model\",\n      \"properties\": {\n        \"dtype\": \"number\",\n        \"std\": 98.23190986659806,\n        \"min\": 58.507543717428355,\n        \"max\": 330.5116259638918,\n        \"num_unique_values\": 7,\n        \"samples\": [\n          58.507543717428355,\n          78.0802169941665,\n          247.66098442894256\n        ],\n        \"semantic_type\": \"\",\n        \"description\": \"\"\n      }\n    },\n    {\n      \"column\": \"error\",\n      \"properties\": {\n        \"dtype\": \"string\",\n        \"num_unique_values\": 7,\n        \"samples\": [\n          \"-5.4575\",\n          \"-5.0402\",\n          \"12.5390\"\n        ],\n        \"semantic_type\": \"\",\n        \"description\": \"\"\n      }\n    }\n  ]\n}"
            }
          },
          "metadata": {}
        }
      ]
    },
    {
      "cell_type": "code",
      "source": [
        "# example 24 uses example 08 data, (c) method comparison\n",
        "eg_24c()"
      ],
      "metadata": {
        "colab": {
          "base_uri": "https://localhost:8080/",
          "height": 931
        },
        "id": "PkxvzVKW2ZjA",
        "outputId": "f9d611c6-4d2a-4f2e-9639-f1d6887c52c0"
      },
      "execution_count": 16,
      "outputs": [
        {
          "output_type": "stream",
          "name": "stdout",
          "text": [
            "\n",
            "coeffs, linearized: [c,k] = 3.9896,0.0615 → y(x) = 54.0315·e^(0.0615x)\n",
            "\n",
            "\n",
            "coeffs, nonlinear,lmq: [c1,c2] = y(x) = 58.5075·e^(0.0577x)\n",
            "\n",
            "\n",
            "coeffs, nonlinear,trf: [c1,c2] = y(x) = 58.5075·e^(0.0577x)\n",
            "\n"
          ]
        },
        {
          "output_type": "display_data",
          "data": {
            "text/plain": [
              "<Figure size 640x480 with 1 Axes>"
            ],
            "image/png": "[encoded data removed]"
          },
          "metadata": {}
        },
        {
          "output_type": "display_data",
          "data": {
            "text/plain": [
              "   year    cars     mod,lin   err,lin     mod,l-m   err,l-m     mod,trf  \\\n",
              "0  1950   53.05   54.031463   -0.9815   58.507532   -5.4575   58.507535   \n",
              "1  1955   73.04   73.491388   -0.4514   78.080205   -5.0402   78.080208   \n",
              "2  1960   98.31   99.959982   -1.6500  104.200573   -5.8906  104.200576   \n",
              "3  1965  139.78  135.961481    3.8185  139.059054    0.7209  139.059057   \n",
              "4  1970  193.48  184.929249    8.5508  185.578831    7.9012  185.578833   \n",
              "5  1975  260.20  251.533205    8.6668  247.660986   12.5390  247.660986   \n",
              "6  1980  320.39  342.125184  -21.7352  330.511642  -10.1216  330.511637   \n",
              "\n",
              "    err,trf  \n",
              "0   -5.4575  \n",
              "1   -5.0402  \n",
              "2   -5.8906  \n",
              "3    0.7209  \n",
              "4    7.9012  \n",
              "5   12.5390  \n",
              "6  -10.1216  "
            ],
            "text/html": [
              "\n",
              "  <div id=\"df-4b0eba3c-2de1-44a3-8842-c416b62299ab\" class=\"colab-df-container\">\n",
              "    <div>\n",
              "<style scoped>\n",
              "    .dataframe tbody tr th:only-of-type {\n",
              "        vertical-align: middle;\n",
              "    }\n",
              "\n",
              "    .dataframe tbody tr th {\n",
              "        vertical-align: top;\n",
              "    }\n",
              "\n",
              "    .dataframe thead th {\n",
              "        text-align: right;\n",
              "    }\n",
              "</style>\n",
              "<table border=\"1\" class=\"dataframe\">\n",
              "  <thead>\n",
              "    <tr style=\"text-align: right;\">\n",
              "      <th></th>\n",
              "      <th>year</th>\n",
              "      <th>cars</th>\n",
              "      <th>mod,lin</th>\n",
              "      <th>err,lin</th>\n",
              "      <th>mod,l-m</th>\n",
              "      <th>err,l-m</th>\n",
              "      <th>mod,trf</th>\n",
              "      <th>err,trf</th>\n",
              "    </tr>\n",
              "  </thead>\n",
              "  <tbody>\n",
              "    <tr>\n",
              "      <th>0</th>\n",
              "      <td>1950</td>\n",
              "      <td>53.05</td>\n",
              "      <td>54.031463</td>\n",
              "      <td>-0.9815</td>\n",
              "      <td>58.507532</td>\n",
              "      <td>-5.4575</td>\n",
              "      <td>58.507535</td>\n",
              "      <td>-5.4575</td>\n",
              "    </tr>\n",
              "    <tr>\n",
              "      <th>1</th>\n",
              "      <td>1955</td>\n",
              "      <td>73.04</td>\n",
              "      <td>73.491388</td>\n",
              "      <td>-0.4514</td>\n",
              "      <td>78.080205</td>\n",
              "      <td>-5.0402</td>\n",
              "      <td>78.080208</td>\n",
              "      <td>-5.0402</td>\n",
              "    </tr>\n",
              "    <tr>\n",
              "      <th>2</th>\n",
              "      <td>1960</td>\n",
              "      <td>98.31</td>\n",
              "      <td>99.959982</td>\n",
              "      <td>-1.6500</td>\n",
              "      <td>104.200573</td>\n",
              "      <td>-5.8906</td>\n",
              "      <td>104.200576</td>\n",
              "      <td>-5.8906</td>\n",
              "    </tr>\n",
              "    <tr>\n",
              "      <th>3</th>\n",
              "      <td>1965</td>\n",
              "      <td>139.78</td>\n",
              "      <td>135.961481</td>\n",
              "      <td>3.8185</td>\n",
              "      <td>139.059054</td>\n",
              "      <td>0.7209</td>\n",
              "      <td>139.059057</td>\n",
              "      <td>0.7209</td>\n",
              "    </tr>\n",
              "    <tr>\n",
              "      <th>4</th>\n",
              "      <td>1970</td>\n",
              "      <td>193.48</td>\n",
              "      <td>184.929249</td>\n",
              "      <td>8.5508</td>\n",
              "      <td>185.578831</td>\n",
              "      <td>7.9012</td>\n",
              "      <td>185.578833</td>\n",
              "      <td>7.9012</td>\n",
              "    </tr>\n",
              "    <tr>\n",
              "      <th>5</th>\n",
              "      <td>1975</td>\n",
              "      <td>260.20</td>\n",
              "      <td>251.533205</td>\n",
              "      <td>8.6668</td>\n",
              "      <td>247.660986</td>\n",
              "      <td>12.5390</td>\n",
              "      <td>247.660986</td>\n",
              "      <td>12.5390</td>\n",
              "    </tr>\n",
              "    <tr>\n",
              "      <th>6</th>\n",
              "      <td>1980</td>\n",
              "      <td>320.39</td>\n",
              "      <td>342.125184</td>\n",
              "      <td>-21.7352</td>\n",
              "      <td>330.511642</td>\n",
              "      <td>-10.1216</td>\n",
              "      <td>330.511637</td>\n",
              "      <td>-10.1216</td>\n",
              "    </tr>\n",
              "  </tbody>\n",
              "</table>\n",
              "</div>\n",
              "    <div class=\"colab-df-buttons\">\n",
              "\n",
              "  <div class=\"colab-df-container\">\n",
              "    <button class=\"colab-df-convert\" onclick=\"convertToInteractive('df-4b0eba3c-2de1-44a3-8842-c416b62299ab')\"\n",
              "            title=\"Convert this dataframe to an interactive table.\"\n",
              "            style=\"display:none;\">\n",
              "\n",
              "  <svg xmlns=\"http://www.w3.org/2000/svg\" height=\"24px\" viewBox=\"0 -960 960 960\">\n",
              "    <path d=\"M120-120v-720h720v720H120Zm60-500h600v-160H180v160Zm220 220h160v-160H400v160Zm0 220h160v-160H400v160ZM180-400h160v-160H180v160Zm440 0h160v-160H620v160ZM180-180h160v-160H180v160Zm440 0h160v-160H620v160Z\"/>\n",
              "  </svg>\n",
              "    </button>\n",
              "\n",
              "  <style>\n",
              "    .colab-df-container {\n",
              "      display:flex;\n",
              "      gap: 12px;\n",
              "    }\n",
              "\n",
              "    .colab-df-convert {\n",
              "      background-color: #E8F0FE;\n",
              "      border: none;\n",
              "      border-radius: 50%;\n",
              "      cursor: pointer;\n",
              "      display: none;\n",
              "      fill: #1967D2;\n",
              "      height: 32px;\n",
              "      padding: 0 0 0 0;\n",
              "      width: 32px;\n",
              "    }\n",
              "\n",
              "    .colab-df-convert:hover {\n",
              "      background-color: #E2EBFA;\n",
              "      box-shadow: 0px 1px 2px rgba(60, 64, 67, 0.3), 0px 1px 3px 1px rgba(60, 64, 67, 0.15);\n",
              "      fill: #174EA6;\n",
              "    }\n",
              "\n",
              "    .colab-df-buttons div {\n",
              "      margin-bottom: 4px;\n",
              "    }\n",
              "\n",
              "    [theme=dark] .colab-df-convert {\n",
              "      background-color: #3B4455;\n",
              "      fill: #D2E3FC;\n",
              "    }\n",
              "\n",
              "    [theme=dark] .colab-df-convert:hover {\n",
              "      background-color: #434B5C;\n",
              "      box-shadow: 0px 1px 3px 1px rgba(0, 0, 0, 0.15);\n",
              "      filter: drop-shadow(0px 1px 2px rgba(0, 0, 0, 0.3));\n",
              "      fill: #FFFFFF;\n",
              "    }\n",
              "  </style>\n",
              "\n",
              "    <script>\n",
              "      const buttonEl =\n",
              "        document.querySelector('#df-4b0eba3c-2de1-44a3-8842-c416b62299ab button.colab-df-convert');\n",
              "      buttonEl.style.display =\n",
              "        google.colab.kernel.accessAllowed ? 'block' : 'none';\n",
              "\n",
              "      async function convertToInteractive(key) {\n",
              "        const element = document.querySelector('#df-4b0eba3c-2de1-44a3-8842-c416b62299ab');\n",
              "        const dataTable =\n",
              "          await google.colab.kernel.invokeFunction('convertToInteractive',\n",
              "                                                    [key], {});\n",
              "        if (!dataTable) return;\n",
              "\n",
              "        const docLinkHtml = 'Like what you see? Visit the ' +\n",
              "          '<a target=\"_blank\" href=https://colab.research.google.com/notebooks/data_table.ipynb>data table notebook</a>'\n",
              "          + ' to learn more about interactive tables.';\n",
              "        element.innerHTML = '';\n",
              "        dataTable['output_type'] = 'display_data';\n",
              "        await google.colab.output.renderOutput(dataTable, element);\n",
              "        const docLink = document.createElement('div');\n",
              "        docLink.innerHTML = docLinkHtml;\n",
              "        element.appendChild(docLink);\n",
              "      }\n",
              "    </script>\n",
              "  </div>\n",
              "\n",
              "\n",
              "<div id=\"df-87fb6467-94da-46c1-b91f-2768bb8e3062\">\n",
              "  <button class=\"colab-df-quickchart\" onclick=\"quickchart('df-87fb6467-94da-46c1-b91f-2768bb8e3062')\"\n",
              "            title=\"Suggest charts\"\n",
              "            style=\"display:none;\">\n",
              "\n",
              "<svg xmlns=\"http://www.w3.org/2000/svg\" height=\"24px\"viewBox=\"0 0 24 24\"\n",
              "     width=\"24px\">\n",
              "    <g>\n",
              "        <path d=\"M19 3H5c-1.1 0-2 .9-2 2v14c0 1.1.9 2 2 2h14c1.1 0 2-.9 2-2V5c0-1.1-.9-2-2-2zM9 17H7v-7h2v7zm4 0h-2V7h2v10zm4 0h-2v-4h2v4z\"/>\n",
              "    </g>\n",
              "</svg>\n",
              "  </button>\n",
              "\n",
              "<style>\n",
              "  .colab-df-quickchart {\n",
              "      --bg-color: #E8F0FE;\n",
              "      --fill-color: #1967D2;\n",
              "      --hover-bg-color: #E2EBFA;\n",
              "      --hover-fill-color: #174EA6;\n",
              "      --disabled-fill-color: #AAA;\n",
              "      --disabled-bg-color: #DDD;\n",
              "  }\n",
              "\n",
              "  [theme=dark] .colab-df-quickchart {\n",
              "      --bg-color: #3B4455;\n",
              "      --fill-color: #D2E3FC;\n",
              "      --hover-bg-color: #434B5C;\n",
              "      --hover-fill-color: #FFFFFF;\n",
              "      --disabled-bg-color: #3B4455;\n",
              "      --disabled-fill-color: #666;\n",
              "  }\n",
              "\n",
              "  .colab-df-quickchart {\n",
              "    background-color: var(--bg-color);\n",
              "    border: none;\n",
              "    border-radius: 50%;\n",
              "    cursor: pointer;\n",
              "    display: none;\n",
              "    fill: var(--fill-color);\n",
              "    height: 32px;\n",
              "    padding: 0;\n",
              "    width: 32px;\n",
              "  }\n",
              "\n",
              "  .colab-df-quickchart:hover {\n",
              "    background-color: var(--hover-bg-color);\n",
              "    box-shadow: 0 1px 2px rgba(60, 64, 67, 0.3), 0 1px 3px 1px rgba(60, 64, 67, 0.15);\n",
              "    fill: var(--button-hover-fill-color);\n",
              "  }\n",
              "\n",
              "  .colab-df-quickchart-complete:disabled,\n",
              "  .colab-df-quickchart-complete:disabled:hover {\n",
              "    background-color: var(--disabled-bg-color);\n",
              "    fill: var(--disabled-fill-color);\n",
              "    box-shadow: none;\n",
              "  }\n",
              "\n",
              "  .colab-df-spinner {\n",
              "    border: 2px solid var(--fill-color);\n",
              "    border-color: transparent;\n",
              "    border-bottom-color: var(--fill-color);\n",
              "    animation:\n",
              "      spin 1s steps(1) infinite;\n",
              "  }\n",
              "\n",
              "  @keyframes spin {\n",
              "    0% {\n",
              "      border-color: transparent;\n",
              "      border-bottom-color: var(--fill-color);\n",
              "      border-left-color: var(--fill-color);\n",
              "    }\n",
              "    20% {\n",
              "      border-color: transparent;\n",
              "      border-left-color: var(--fill-color);\n",
              "      border-top-color: var(--fill-color);\n",
              "    }\n",
              "    30% {\n",
              "      border-color: transparent;\n",
              "      border-left-color: var(--fill-color);\n",
              "      border-top-color: var(--fill-color);\n",
              "      border-right-color: var(--fill-color);\n",
              "    }\n",
              "    40% {\n",
              "      border-color: transparent;\n",
              "      border-right-color: var(--fill-color);\n",
              "      border-top-color: var(--fill-color);\n",
              "    }\n",
              "    60% {\n",
              "      border-color: transparent;\n",
              "      border-right-color: var(--fill-color);\n",
              "    }\n",
              "    80% {\n",
              "      border-color: transparent;\n",
              "      border-right-color: var(--fill-color);\n",
              "      border-bottom-color: var(--fill-color);\n",
              "    }\n",
              "    90% {\n",
              "      border-color: transparent;\n",
              "      border-bottom-color: var(--fill-color);\n",
              "    }\n",
              "  }\n",
              "</style>\n",
              "\n",
              "  <script>\n",
              "    async function quickchart(key) {\n",
              "      const quickchartButtonEl =\n",
              "        document.querySelector('#' + key + ' button');\n",
              "      quickchartButtonEl.disabled = true;  // To prevent multiple clicks.\n",
              "      quickchartButtonEl.classList.add('colab-df-spinner');\n",
              "      try {\n",
              "        const charts = await google.colab.kernel.invokeFunction(\n",
              "            'suggestCharts', [key], {});\n",
              "      } catch (error) {\n",
              "        console.error('Error during call to suggestCharts:', error);\n",
              "      }\n",
              "      quickchartButtonEl.classList.remove('colab-df-spinner');\n",
              "      quickchartButtonEl.classList.add('colab-df-quickchart-complete');\n",
              "    }\n",
              "    (() => {\n",
              "      let quickchartButtonEl =\n",
              "        document.querySelector('#df-87fb6467-94da-46c1-b91f-2768bb8e3062 button');\n",
              "      quickchartButtonEl.style.display =\n",
              "        google.colab.kernel.accessAllowed ? 'block' : 'none';\n",
              "    })();\n",
              "  </script>\n",
              "</div>\n",
              "\n",
              "    </div>\n",
              "  </div>\n"
            ],
            "application/vnd.google.colaboratory.intrinsic+json": {
              "type": "dataframe",
              "summary": "{\n  \"name\": \"eg_24c()\",\n  \"rows\": 7,\n  \"fields\": [\n    {\n      \"column\": \"year\",\n      \"properties\": {\n        \"dtype\": \"object\",\n        \"num_unique_values\": 7,\n        \"samples\": [\n          \"1950\",\n          \"1955\",\n          \"1975\"\n        ],\n        \"semantic_type\": \"\",\n        \"description\": \"\"\n      }\n    },\n    {\n      \"column\": \"cars\",\n      \"properties\": {\n        \"dtype\": \"number\",\n        \"std\": 100.04429914031178,\n        \"min\": 53.05,\n        \"max\": 320.39,\n        \"num_unique_values\": 7,\n        \"samples\": [\n          53.05,\n          73.04,\n          260.2\n        ],\n        \"semantic_type\": \"\",\n        \"description\": \"\"\n      }\n    },\n    {\n      \"column\": \"mod,lin\",\n      \"properties\": {\n        \"dtype\": \"number\",\n        \"std\": 104.07990420084128,\n        \"min\": 54.031463379376774,\n        \"max\": 342.1251838242571,\n        \"num_unique_values\": 7,\n        \"samples\": [\n          54.031463379376774,\n          73.49138786831257,\n          251.53320514352853\n        ],\n        \"semantic_type\": \"\",\n        \"description\": \"\"\n      }\n    },\n    {\n      \"column\": \"err,lin\",\n      \"properties\": {\n        \"dtype\": \"string\",\n        \"num_unique_values\": 7,\n        \"samples\": [\n          \"-0.9815\",\n          \"-0.4514\",\n          \"8.6668\"\n        ],\n        \"semantic_type\": \"\",\n        \"description\": \"\"\n      }\n    },\n    {\n      \"column\": \"mod,l-m\",\n      \"properties\": {\n        \"dtype\": \"number\",\n        \"std\": 98.23191983958927,\n        \"min\": 58.50753202617852,\n        \"max\": 330.5116416795126,\n        \"num_unique_values\": 7,\n        \"samples\": [\n          58.50753202617852,\n          78.08020461098327,\n          247.6609859942503\n        ],\n        \"semantic_type\": \"\",\n        \"description\": \"\"\n      }\n    },\n    {\n      \"column\": \"err,l-m\",\n      \"properties\": {\n        \"dtype\": \"string\",\n        \"num_unique_values\": 7,\n        \"samples\": [\n          \"-5.4575\",\n          \"-5.0402\",\n          \"12.5390\"\n        ],\n        \"semantic_type\": \"\",\n        \"description\": \"\"\n      }\n    },\n    {\n      \"column\": \"mod,trf\",\n      \"properties\": {\n        \"dtype\": \"number\",\n        \"std\": 98.23191700291821,\n        \"min\": 58.50753538000233,\n        \"max\": 330.5116372381899,\n        \"num_unique_values\": 7,\n        \"samples\": [\n          58.50753538000233,\n          78.08020816593574,\n          247.66098558702714\n        ],\n        \"semantic_type\": \"\",\n        \"description\": \"\"\n      }\n    },\n    {\n      \"column\": \"err,trf\",\n      \"properties\": {\n        \"dtype\": \"string\",\n        \"num_unique_values\": 7,\n        \"samples\": [\n          \"-5.4575\",\n          \"-5.0402\",\n          \"12.5390\"\n        ],\n        \"semantic_type\": \"\",\n        \"description\": \"\"\n      }\n    }\n  ]\n}"
            }
          },
          "metadata": {}
        }
      ]
    },
    {
      "cell_type": "markdown",
      "source": [
        "## 3 levenberg-marquardt"
      ],
      "metadata": {
        "id": "Dqf3x9EHdwCp"
      }
    },
    {
      "cell_type": "markdown",
      "source": [
        "least squares minimization is tough for ill-conditioned matrix of coefficients and nonlinearity can make that worse. levenberg-marquardt uses a \"regularization term\" to partially remedy the conditioning problem."
      ],
      "metadata": {
        "id": "VZcKKw9xejzp"
      }
    },
    {
      "cell_type": "markdown",
      "source": [
        "##### algorithm <b>simple mod on gauss-newton</b>"
      ],
      "metadata": {
        "id": "Au35twmoglI6"
      }
    },
    {
      "cell_type": "markdown",
      "source": [
        "```\n",
        "# minimize (r[1](x))^2 + ... + (r[m](x))^2\n",
        "\n",
        "x[0] = initial vector, λ = constant\n",
        "for k in range(m) # ie, terms not dropped, n ≤ m\n",
        "  A = Dr(x[k])\n",
        "  (transpose(A)*A + λ*diag(transpose(A)*A))v[k] = - transpose(A)r(x[k])\n",
        "  x[k+1] = x[k] + v[k]\n",
        "\n",
        "```"
      ],
      "metadata": {
        "id": "YqPs4qREf3c5"
      }
    },
    {
      "cell_type": "markdown",
      "source": [
        "note: $\\lambda = 0$ is the same as gauss-newton. increasing $\\lambda$ obviously increases influence of the diagonal of $A^TA$, which improves condition number and generally allows convergence from a broader set of initial guesses than gauss-newton."
      ],
      "metadata": {
        "id": "YH9RYGG92teI"
      }
    },
    {
      "cell_type": "markdown",
      "source": [
        "##### example 25"
      ],
      "metadata": {
        "id": "Q8_B_fV8nWad"
      }
    },
    {
      "cell_type": "markdown",
      "source": [
        "use levenberg-marquardt to fit the model $y = c_1 e^{-c_2(t-c_3)^2}$ for data points $(t_i,y_i) = (1,3),(2,5),(2,7),(3,5),(4,1)$."
      ],
      "metadata": {
        "id": "7bALY6avnZA9"
      }
    },
    {
      "cell_type": "markdown",
      "source": [
        "find $c_1,c_2,c_3$ that minimizes the RMSE for error vector"
      ],
      "metadata": {
        "id": "64NVGm-42yN2"
      }
    },
    {
      "cell_type": "markdown",
      "source": [
        "\\begin{align}\n",
        "  r &=\n",
        "  \\begin{bmatrix}\n",
        "    c_1 e^{-c_2(t_1-c_3)^2} - y_1 \\\\\n",
        "    \\vdots \\\\\n",
        "    c_1 e^{-c_2(t_5-c_3)^2} - y_5\n",
        "  \\end{bmatrix} \\\\\n",
        "  \\\\\n",
        "  &\\Downarrow \\\\\n",
        "  \\\\\n",
        "  Dr &=\n",
        "  \\begin{bmatrix}\n",
        "    e^{c_2(t_1-c_3)^2} & -c_1(t_1-c_3)^2e^{c_2(t_1-c_3)^2} & 2c_1c_2(t_1-c_3)e^{c_2(t_1-c_3)^2} \\\\\n",
        "    \\vdots & & \\vdots \\\\\n",
        "    e^{c_2(t_5-c_3)^2} & -c_1(t_5-c_3)^2e^{c_2(t_5-c_3)^2} & 2c_1c_2(t_5-c_3)e^{c_2(t_5-c_3)^2}\n",
        "  \\end{bmatrix}\n",
        "\\end{align}"
      ],
      "metadata": {
        "id": "Au4OiLJ5qUav"
      }
    },
    {
      "cell_type": "markdown",
      "source": [
        "let inital $(c_1,c_2,c_3) = (1,1,1)$ and $\\lambda = 50$."
      ],
      "metadata": {
        "id": "SnCsqr8-23Sm"
      }
    },
    {
      "cell_type": "markdown",
      "source": [
        "$$\\Rightarrow y = 6.301e^{-0.5088(t-2.249)^2}.$$"
      ],
      "metadata": {
        "id": "pMePKYnW20-g"
      }
    },
    {
      "cell_type": "code",
      "source": [
        "# example 25 plot problem data = wth\n",
        "eg_25a()"
      ],
      "metadata": {
        "colab": {
          "base_uri": "https://localhost:8080/",
          "height": 430
        },
        "id": "EgjsY_wu28dB",
        "outputId": "7ac1bc9f-c6de-41d6-e60a-836848463d8c"
      },
      "execution_count": 18,
      "outputs": [
        {
          "output_type": "display_data",
          "data": {
            "text/plain": [
              "<Figure size 640x480 with 1 Axes>"
            ],
            "image/png": "[encoded data removed]"
          },
          "metadata": {}
        }
      ]
    },
    {
      "cell_type": "code",
      "source": [
        "# example 25 uses levenberg-marquardt by editing code from example 24, last version\n",
        "eg_25b()"
      ],
      "metadata": {
        "colab": {
          "base_uri": "https://localhost:8080/",
          "height": 831
        },
        "id": "lhcZoszK3ZqI",
        "outputId": "1e998e99-c5d2-4bd8-afd4-c3973da7198c"
      },
      "execution_count": 20,
      "outputs": [
        {
          "output_type": "stream",
          "name": "stdout",
          "text": [
            "\n",
            "coeffs, nonlinear, lmq: [c1,c2,c3] → y(x) = +6.3006·e^(-0.5088(t-2.2488)^2)\n",
            "\n",
            "levenberg-marquardt step 11: [5.3006,-0.4912,-0.4912] w error = 5.4678\n",
            "\n"
          ]
        },
        {
          "output_type": "stream",
          "name": "stderr",
          "text": [
            "<ipython-input-19-13b7614564c9>:9: RuntimeWarning: overflow encountered in exp\n",
            "  f = lambda cs,x: cs[0]*np.exp(-cs[1]*pow(x-cs[2],2))\n"
          ]
        },
        {
          "output_type": "display_data",
          "data": {
            "text/plain": [
              "<Figure size 640x480 with 1 Axes>"
            ],
            "image/png": "[encoded data removed]"
          },
          "metadata": {}
        },
        {
          "output_type": "display_data",
          "data": {
            "text/plain": [
              "   t    y     model    error\n",
              "0  1  3.0  2.849672   0.1503\n",
              "1  2  5.0  6.105251  -1.1053\n",
              "2  2  7.0  6.105251   0.8947\n",
              "3  3  5.0  4.728192   0.2718\n",
              "4  4  1.0  1.323639  -0.3236"
            ],
            "text/html": [
              "\n",
              "  <div id=\"df-f64d0224-98b5-4e60-ac47-687d13f01623\" class=\"colab-df-container\">\n",
              "    <div>\n",
              "<style scoped>\n",
              "    .dataframe tbody tr th:only-of-type {\n",
              "        vertical-align: middle;\n",
              "    }\n",
              "\n",
              "    .dataframe tbody tr th {\n",
              "        vertical-align: top;\n",
              "    }\n",
              "\n",
              "    .dataframe thead th {\n",
              "        text-align: right;\n",
              "    }\n",
              "</style>\n",
              "<table border=\"1\" class=\"dataframe\">\n",
              "  <thead>\n",
              "    <tr style=\"text-align: right;\">\n",
              "      <th></th>\n",
              "      <th>t</th>\n",
              "      <th>y</th>\n",
              "      <th>model</th>\n",
              "      <th>error</th>\n",
              "    </tr>\n",
              "  </thead>\n",
              "  <tbody>\n",
              "    <tr>\n",
              "      <th>0</th>\n",
              "      <td>1</td>\n",
              "      <td>3.0</td>\n",
              "      <td>2.849672</td>\n",
              "      <td>0.1503</td>\n",
              "    </tr>\n",
              "    <tr>\n",
              "      <th>1</th>\n",
              "      <td>2</td>\n",
              "      <td>5.0</td>\n",
              "      <td>6.105251</td>\n",
              "      <td>-1.1053</td>\n",
              "    </tr>\n",
              "    <tr>\n",
              "      <th>2</th>\n",
              "      <td>2</td>\n",
              "      <td>7.0</td>\n",
              "      <td>6.105251</td>\n",
              "      <td>0.8947</td>\n",
              "    </tr>\n",
              "    <tr>\n",
              "      <th>3</th>\n",
              "      <td>3</td>\n",
              "      <td>5.0</td>\n",
              "      <td>4.728192</td>\n",
              "      <td>0.2718</td>\n",
              "    </tr>\n",
              "    <tr>\n",
              "      <th>4</th>\n",
              "      <td>4</td>\n",
              "      <td>1.0</td>\n",
              "      <td>1.323639</td>\n",
              "      <td>-0.3236</td>\n",
              "    </tr>\n",
              "  </tbody>\n",
              "</table>\n",
              "</div>\n",
              "    <div class=\"colab-df-buttons\">\n",
              "\n",
              "  <div class=\"colab-df-container\">\n",
              "    <button class=\"colab-df-convert\" onclick=\"convertToInteractive('df-f64d0224-98b5-4e60-ac47-687d13f01623')\"\n",
              "            title=\"Convert this dataframe to an interactive table.\"\n",
              "            style=\"display:none;\">\n",
              "\n",
              "  <svg xmlns=\"http://www.w3.org/2000/svg\" height=\"24px\" viewBox=\"0 -960 960 960\">\n",
              "    <path d=\"M120-120v-720h720v720H120Zm60-500h600v-160H180v160Zm220 220h160v-160H400v160Zm0 220h160v-160H400v160ZM180-400h160v-160H180v160Zm440 0h160v-160H620v160ZM180-180h160v-160H180v160Zm440 0h160v-160H620v160Z\"/>\n",
              "  </svg>\n",
              "    </button>\n",
              "\n",
              "  <style>\n",
              "    .colab-df-container {\n",
              "      display:flex;\n",
              "      gap: 12px;\n",
              "    }\n",
              "\n",
              "    .colab-df-convert {\n",
              "      background-color: #E8F0FE;\n",
              "      border: none;\n",
              "      border-radius: 50%;\n",
              "      cursor: pointer;\n",
              "      display: none;\n",
              "      fill: #1967D2;\n",
              "      height: 32px;\n",
              "      padding: 0 0 0 0;\n",
              "      width: 32px;\n",
              "    }\n",
              "\n",
              "    .colab-df-convert:hover {\n",
              "      background-color: #E2EBFA;\n",
              "      box-shadow: 0px 1px 2px rgba(60, 64, 67, 0.3), 0px 1px 3px 1px rgba(60, 64, 67, 0.15);\n",
              "      fill: #174EA6;\n",
              "    }\n",
              "\n",
              "    .colab-df-buttons div {\n",
              "      margin-bottom: 4px;\n",
              "    }\n",
              "\n",
              "    [theme=dark] .colab-df-convert {\n",
              "      background-color: #3B4455;\n",
              "      fill: #D2E3FC;\n",
              "    }\n",
              "\n",
              "    [theme=dark] .colab-df-convert:hover {\n",
              "      background-color: #434B5C;\n",
              "      box-shadow: 0px 1px 3px 1px rgba(0, 0, 0, 0.15);\n",
              "      filter: drop-shadow(0px 1px 2px rgba(0, 0, 0, 0.3));\n",
              "      fill: #FFFFFF;\n",
              "    }\n",
              "  </style>\n",
              "\n",
              "    <script>\n",
              "      const buttonEl =\n",
              "        document.querySelector('#df-f64d0224-98b5-4e60-ac47-687d13f01623 button.colab-df-convert');\n",
              "      buttonEl.style.display =\n",
              "        google.colab.kernel.accessAllowed ? 'block' : 'none';\n",
              "\n",
              "      async function convertToInteractive(key) {\n",
              "        const element = document.querySelector('#df-f64d0224-98b5-4e60-ac47-687d13f01623');\n",
              "        const dataTable =\n",
              "          await google.colab.kernel.invokeFunction('convertToInteractive',\n",
              "                                                    [key], {});\n",
              "        if (!dataTable) return;\n",
              "\n",
              "        const docLinkHtml = 'Like what you see? Visit the ' +\n",
              "          '<a target=\"_blank\" href=https://colab.research.google.com/notebooks/data_table.ipynb>data table notebook</a>'\n",
              "          + ' to learn more about interactive tables.';\n",
              "        element.innerHTML = '';\n",
              "        dataTable['output_type'] = 'display_data';\n",
              "        await google.colab.output.renderOutput(dataTable, element);\n",
              "        const docLink = document.createElement('div');\n",
              "        docLink.innerHTML = docLinkHtml;\n",
              "        element.appendChild(docLink);\n",
              "      }\n",
              "    </script>\n",
              "  </div>\n",
              "\n",
              "\n",
              "<div id=\"df-bb4568a6-429e-41d2-bc39-56f9339556d4\">\n",
              "  <button class=\"colab-df-quickchart\" onclick=\"quickchart('df-bb4568a6-429e-41d2-bc39-56f9339556d4')\"\n",
              "            title=\"Suggest charts\"\n",
              "            style=\"display:none;\">\n",
              "\n",
              "<svg xmlns=\"http://www.w3.org/2000/svg\" height=\"24px\"viewBox=\"0 0 24 24\"\n",
              "     width=\"24px\">\n",
              "    <g>\n",
              "        <path d=\"M19 3H5c-1.1 0-2 .9-2 2v14c0 1.1.9 2 2 2h14c1.1 0 2-.9 2-2V5c0-1.1-.9-2-2-2zM9 17H7v-7h2v7zm4 0h-2V7h2v10zm4 0h-2v-4h2v4z\"/>\n",
              "    </g>\n",
              "</svg>\n",
              "  </button>\n",
              "\n",
              "<style>\n",
              "  .colab-df-quickchart {\n",
              "      --bg-color: #E8F0FE;\n",
              "      --fill-color: #1967D2;\n",
              "      --hover-bg-color: #E2EBFA;\n",
              "      --hover-fill-color: #174EA6;\n",
              "      --disabled-fill-color: #AAA;\n",
              "      --disabled-bg-color: #DDD;\n",
              "  }\n",
              "\n",
              "  [theme=dark] .colab-df-quickchart {\n",
              "      --bg-color: #3B4455;\n",
              "      --fill-color: #D2E3FC;\n",
              "      --hover-bg-color: #434B5C;\n",
              "      --hover-fill-color: #FFFFFF;\n",
              "      --disabled-bg-color: #3B4455;\n",
              "      --disabled-fill-color: #666;\n",
              "  }\n",
              "\n",
              "  .colab-df-quickchart {\n",
              "    background-color: var(--bg-color);\n",
              "    border: none;\n",
              "    border-radius: 50%;\n",
              "    cursor: pointer;\n",
              "    display: none;\n",
              "    fill: var(--fill-color);\n",
              "    height: 32px;\n",
              "    padding: 0;\n",
              "    width: 32px;\n",
              "  }\n",
              "\n",
              "  .colab-df-quickchart:hover {\n",
              "    background-color: var(--hover-bg-color);\n",
              "    box-shadow: 0 1px 2px rgba(60, 64, 67, 0.3), 0 1px 3px 1px rgba(60, 64, 67, 0.15);\n",
              "    fill: var(--button-hover-fill-color);\n",
              "  }\n",
              "\n",
              "  .colab-df-quickchart-complete:disabled,\n",
              "  .colab-df-quickchart-complete:disabled:hover {\n",
              "    background-color: var(--disabled-bg-color);\n",
              "    fill: var(--disabled-fill-color);\n",
              "    box-shadow: none;\n",
              "  }\n",
              "\n",
              "  .colab-df-spinner {\n",
              "    border: 2px solid var(--fill-color);\n",
              "    border-color: transparent;\n",
              "    border-bottom-color: var(--fill-color);\n",
              "    animation:\n",
              "      spin 1s steps(1) infinite;\n",
              "  }\n",
              "\n",
              "  @keyframes spin {\n",
              "    0% {\n",
              "      border-color: transparent;\n",
              "      border-bottom-color: var(--fill-color);\n",
              "      border-left-color: var(--fill-color);\n",
              "    }\n",
              "    20% {\n",
              "      border-color: transparent;\n",
              "      border-left-color: var(--fill-color);\n",
              "      border-top-color: var(--fill-color);\n",
              "    }\n",
              "    30% {\n",
              "      border-color: transparent;\n",
              "      border-left-color: var(--fill-color);\n",
              "      border-top-color: var(--fill-color);\n",
              "      border-right-color: var(--fill-color);\n",
              "    }\n",
              "    40% {\n",
              "      border-color: transparent;\n",
              "      border-right-color: var(--fill-color);\n",
              "      border-top-color: var(--fill-color);\n",
              "    }\n",
              "    60% {\n",
              "      border-color: transparent;\n",
              "      border-right-color: var(--fill-color);\n",
              "    }\n",
              "    80% {\n",
              "      border-color: transparent;\n",
              "      border-right-color: var(--fill-color);\n",
              "      border-bottom-color: var(--fill-color);\n",
              "    }\n",
              "    90% {\n",
              "      border-color: transparent;\n",
              "      border-bottom-color: var(--fill-color);\n",
              "    }\n",
              "  }\n",
              "</style>\n",
              "\n",
              "  <script>\n",
              "    async function quickchart(key) {\n",
              "      const quickchartButtonEl =\n",
              "        document.querySelector('#' + key + ' button');\n",
              "      quickchartButtonEl.disabled = true;  // To prevent multiple clicks.\n",
              "      quickchartButtonEl.classList.add('colab-df-spinner');\n",
              "      try {\n",
              "        const charts = await google.colab.kernel.invokeFunction(\n",
              "            'suggestCharts', [key], {});\n",
              "      } catch (error) {\n",
              "        console.error('Error during call to suggestCharts:', error);\n",
              "      }\n",
              "      quickchartButtonEl.classList.remove('colab-df-spinner');\n",
              "      quickchartButtonEl.classList.add('colab-df-quickchart-complete');\n",
              "    }\n",
              "    (() => {\n",
              "      let quickchartButtonEl =\n",
              "        document.querySelector('#df-bb4568a6-429e-41d2-bc39-56f9339556d4 button');\n",
              "      quickchartButtonEl.style.display =\n",
              "        google.colab.kernel.accessAllowed ? 'block' : 'none';\n",
              "    })();\n",
              "  </script>\n",
              "</div>\n",
              "\n",
              "    </div>\n",
              "  </div>\n"
            ],
            "application/vnd.google.colaboratory.intrinsic+json": {
              "type": "dataframe",
              "summary": "{\n  \"name\": \"eg_25b()\",\n  \"rows\": 5,\n  \"fields\": [\n    {\n      \"column\": \"t\",\n      \"properties\": {\n        \"dtype\": \"string\",\n        \"num_unique_values\": 4,\n        \"samples\": [\n          \"2\",\n          \"4\",\n          \"1\"\n        ],\n        \"semantic_type\": \"\",\n        \"description\": \"\"\n      }\n    },\n    {\n      \"column\": \"y\",\n      \"properties\": {\n        \"dtype\": \"number\",\n        \"std\": 2.280350850198276,\n        \"min\": 1.0,\n        \"max\": 7.0,\n        \"num_unique_values\": 4,\n        \"samples\": [\n          5.0,\n          1.0,\n          3.0\n        ],\n        \"semantic_type\": \"\",\n        \"description\": \"\"\n      }\n    },\n    {\n      \"column\": \"model\",\n      \"properties\": {\n        \"dtype\": \"number\",\n        \"std\": 2.099599895547256,\n        \"min\": 1.3236390360108836,\n        \"max\": 6.105250874569509,\n        \"num_unique_values\": 4,\n        \"samples\": [\n          6.105250874569509,\n          1.3236390360108836,\n          2.8496715463923272\n        ],\n        \"semantic_type\": \"\",\n        \"description\": \"\"\n      }\n    },\n    {\n      \"column\": \"error\",\n      \"properties\": {\n        \"dtype\": \"string\",\n        \"num_unique_values\": 5,\n        \"samples\": [\n          \"-1.1053\",\n          \"-0.3236\",\n          \"0.8947\"\n        ],\n        \"semantic_type\": \"\",\n        \"description\": \"\"\n      }\n    }\n  ]\n}"
            }
          },
          "metadata": {}
        }
      ]
    },
    {
      "cell_type": "markdown",
      "source": [
        "## miscellaney"
      ],
      "metadata": {
        "id": "6w3wSSbdG3oy"
      }
    },
    {
      "cell_type": "markdown",
      "source": [
        "* levenberg-marquardt [@scipy](https://docs.scipy.org/doc/scipy/reference/generated/scipy.optimize.least_squares.html)"
      ],
      "metadata": {
        "id": "BC1dBSJPlHYy"
      }
    }
  ]
}