{
  "nbformat": 4,
  "nbformat_minor": 0,
  "metadata": {
    "colab": {
      "provenance": [],
      "collapsed_sections": [
        "R99c7SBwqX5K",
        "5ifniWzJr_ex",
        "fzqJ1CkNusvp"
      ]
    },
    "kernelspec": {
      "name": "python3",
      "display_name": "Python 3"
    },
    "language_info": {
      "name": "python"
    }
  },
  "cells": [
    {
      "cell_type": "markdown",
      "source": [
        "# 04.03 QR factorization"
      ],
      "metadata": {
        "id": "IgURT4MC1E1V"
      }
    },
    {
      "cell_type": "markdown",
      "source": [
        "##### code, support for section text"
      ],
      "metadata": {
        "id": "R99c7SBwqX5K"
      }
    },
    {
      "cell_type": "code",
      "source": [
        "if False: # settings for sensei\n",
        "  from google.colab import auth\n",
        "  from googleapiclient.discovery import build\n",
        "\n",
        "  auth.authenticate_user()\n",
        "  about = build('drive','v3').about().get(fields='user').execute()\n",
        "  if about['user']['displayName'] == \"Sun K.\":\n",
        "\n",
        "    # output to pdf setting\n",
        "    from google.colab import output\n",
        "    output.no_vertical_scroll()\n",
        "    #output.no_horizontal_scroll() # sigh, doesnt exist"
      ],
      "metadata": {
        "id": "lBate1Eqjvc1"
      },
      "execution_count": null,
      "outputs": []
    },
    {
      "cell_type": "code",
      "source": [
        "if True: # settings for the people\n",
        "  from itertools import count\n",
        "  import matplotlib.animation\n",
        "  import matplotlib.patches as patches\n",
        "  import matplotlib.pyplot as plt\n",
        "  import numpy as np\n",
        "  import pandas as pd\n",
        "  from tabulate import tabulate\n",
        "\n",
        "  pd.set_option('display.max_rows',10)\n"
      ],
      "metadata": {
        "id": "-15p98tNjvc2"
      },
      "execution_count": null,
      "outputs": []
    },
    {
      "cell_type": "markdown",
      "source": [
        "###### code, visuals"
      ],
      "metadata": {
        "id": "5ifniWzJr_ex"
      }
    },
    {
      "cell_type": "code",
      "source": [
        "# code, visual: gram-schmidt orthogonalization\n",
        "\n",
        "def img_gramschmidt():\n",
        "\n",
        "  # problem # its not unitary bc its just a picture, ok?\n",
        "  a = np.array([[7,29/3],[14/3,2/3]])\n",
        "  q = np.array([[3,2],[2,-3]])\n",
        "  origin = (0,0)\n",
        "\n",
        "  # plot, cfg\n",
        "  plt.close(\"all\")\n",
        "\n",
        "  # plot, animation # soon!\n",
        "  plt.rcParams[\"animation.html\"] = \"jshtml\"\n",
        "  plt.rcParams['figure.dpi'] = 100\n",
        "  plt.ioff()\n",
        "  fig,ax = plt.subplots()\n",
        "  index = count() # used in animate()\n",
        "\n",
        "  # plot, vertices\n",
        "  ax.scatter(origin[0],origin[1],color=\"deepskyblue\",zorder=40)\n",
        "  ax.scatter(a[0,:],a[1,:],zorder=20) # column vectors not (x,y)\n",
        "  y2 = a[:,1] - a[:,0]\n",
        "  ax.scatter(y2[0],y2[1],color=\"powderblue\",zorder=30)\n",
        "\n",
        "  # label, vertices & vectors\n",
        "  offset = 0.1\n",
        "  ax.text(origin[0]-5*offset,origin[1]-offset,\"0\")\n",
        "  ax.text(a[0,0]+3*offset,a[1,0]+offset,\"$A_1$\")\n",
        "  ax.text(a[0,0]-7*offset,a[1,0]+offset,\"$y_1$\")\n",
        "  ax.text(a[0,1]+3*offset,a[1,1]-2*offset,\"$A_2$\")\n",
        "  ax.text(y2[0]-5*offset,y2[1]-3*offset,\"$y_2$\")\n",
        "  ax.text(q[0,0]-3*offset,q[1,0]+3*offset,\"$q_1$\")\n",
        "  ax.text(q[0,1]-5*offset,q[1,1]-3*offset,\"$q_2$\")\n",
        "\n",
        "  # plot, arrow style\n",
        "  style = \"simple,tail_width=0.5,head_width=4,head_length=8\"\n",
        "\n",
        "  # plot, column vectors\n",
        "  kw = dict(arrowstyle=style,color=\"powderblue\",zorder=30)\n",
        "  a1 = patches.FancyArrowPatch(origin,a[:,0],**kw)\n",
        "  a2 = patches.FancyArrowPatch(origin,a[:,1],**kw)\n",
        "  a3 = patches.FancyArrowPatch(origin,y2,**kw)\n",
        "  for arc in [a1,a2,a3]:\n",
        "    ax.add_patch(arc)\n",
        "\n",
        "  # plot, unitary\n",
        "  kw = dict(arrowstyle=style,color=\"deepskyblue\",zorder=40)\n",
        "  q1 = patches.FancyArrowPatch(origin,q[:,0],**kw)\n",
        "  q2 = patches.FancyArrowPatch(origin,q[:,1],**kw)\n",
        "  for arc in [q1,q2]:\n",
        "    ax.add_patch(arc)\n",
        "\n",
        "  # plot, finish box\n",
        "  ax.plot(a[0,:],a[1,:],color=\"0.5\",zorder=10)\n",
        "  ax.plot([y2[0],a[0,1]],[y2[1],a[1,1]],color=\"0.5\",zorder=10)\n",
        "\n",
        "  # plot style\n",
        "  ax.set_aspect(\"equal\")\n",
        "  plt.axis(\"off\")\n",
        "\n",
        "  # plot, show\n",
        "  plt.show()\n"
      ],
      "metadata": {
        "id": "NtCPo9hM_B_0"
      },
      "execution_count": null,
      "outputs": []
    },
    {
      "cell_type": "code",
      "source": [
        "# code, visual: householder reflection\n",
        "\n",
        "def img_householder():\n",
        "\n",
        "  origin = (0,0)\n",
        "  θ = np.pi/3 # 30°\n",
        "\n",
        "  # plot, cfg\n",
        "  plt.close(\"all\")\n",
        "  fig,ax = plt.subplots()\n",
        "\n",
        "  plt.plot( [origin[0],np.cos(θ),1,origin[0]], \\\n",
        "            [origin[1],np.sin(θ),0,origin[1]], color=\"C0\") # bc\n",
        "  plt.plot( [-np.cos(θ/2)*0.1,np.cos(θ/2)], \\\n",
        "            [-np.sin(θ/2)*0.1,np.sin(θ/2)] ,color=\"0.9\")   # reflection axis\n",
        "\n",
        "  # label, vectors\n",
        "  offset = 0.01\n",
        "  ax.text(np.cos(θ)*2/3-3*offset,np.sin(θ)*2/3+3*offset,\"$x$\")\n",
        "  ax.text(1/2-5*offset,0-5*offset,\"$w$\")\n",
        "  ax.text(5/6+3*offset,1/3-5*offset,\"$v$\")\n",
        "\n",
        "  # plot, arrow style\n",
        "  style = \"simple,tail_width=0.5,head_width=4,head_length=8\"\n",
        "\n",
        "  # plot, column vectors\n",
        "  kw = dict(arrowstyle=style,zorder=30)\n",
        "  a1 = patches.FancyArrowPatch(origin,(np.cos(θ),np.sin(θ)),**kw)\n",
        "  a2 = patches.FancyArrowPatch(origin,(1,0),**kw)\n",
        "  a3 = patches.FancyArrowPatch((np.cos(θ),np.sin(θ)),(1,0),**kw)\n",
        "  for arc in [a1,a2,a3]:\n",
        "    ax.add_patch(arc)\n",
        "\n",
        "  # plot style\n",
        "  ax.set_aspect(\"equal\")\n",
        "  #plt.axis(\"off\")\n",
        "  ax.spines['left'].set_position('zero')\n",
        "  ax.spines['bottom'].set_position('zero')\n",
        "  ax.spines['right'].set_visible(False)\n",
        "  ax.spines['top'].set_visible(False)\n",
        "  ax.set_xticks([])\n",
        "  ax.set_yticks([])\n",
        "\n",
        "  # plot, show\n",
        "  plt.show()\n"
      ],
      "metadata": {
        "id": "ZS6ay1xyeg8f"
      },
      "execution_count": null,
      "outputs": []
    },
    {
      "cell_type": "markdown",
      "source": [
        "###### code, examples"
      ],
      "metadata": {
        "id": "fzqJ1CkNusvp"
      }
    },
    {
      "cell_type": "code",
      "source": [
        "# example 15: uses qr\n",
        "\n",
        "# quick code to populate b = y[i]\n",
        "def horners(cs,x):\n",
        "  \"\"\"\n",
        "  cs : coefficients = a[n] ... a[2],a[1],a[0]\n",
        "  x : lol, really?\n",
        "\n",
        "  returns : evaluated nested polynomial\n",
        "  \"\"\"\n",
        "  rc = None\n",
        "  if cs:\n",
        "    i = len(cs) - 1\n",
        "    rc = cs[i]\n",
        "    for i in reversed(range(i)):\n",
        "      rc = rc*x + cs[i]\n",
        "  return rc\n",
        "\n",
        "def eg_15():\n",
        "  # data to fit\n",
        "  nc = 8 # unknowns = coeffs\n",
        "  ny = 11 # eqns\n",
        "  xs = np.linspace(2.0,4.0,ny) # these are not unknown\n",
        "  ys = horners([1]*nc,xs)\n",
        "  vdm = np.ones((ny,nc))\n",
        "  for j in reversed(range(1,nc)):\n",
        "    for i in range(ny):\n",
        "      for k in range(j,nc):\n",
        "        vdm[i,k] *= xs[i]\n",
        "\n",
        "  # numpy ~ least squares\n",
        "  cs_sys,r_sys,rank_sys,s_sys = np.linalg.lstsq(vdm,ys,rcond=None)\n",
        "\n",
        "  # numpy ~ qr factorization\n",
        "  q,r = np.linalg.qr(vdm) #,mode='complete')\n",
        "  d = q.T@ys # b = ys\n",
        "  cs_almost = np.linalg.solve(r[0:nc,:],d[0:nc])\n",
        "  err = d[nc:]\n",
        "\n",
        "  print(f\"\\nLSQ: {cs_sys} = meh\")\n",
        "  print(f\"\\nbc cond(vdm): {np.linalg.cond(vdm):.2f}\")\n",
        "  print(f\"\\n QR: {cs_almost} = oh, alright\")\n",
        "  print(f\"\\nerr: {np.linalg.norm(err)} = fancy\")\n",
        "  print(f\"\\nbc cond(ata): {np.linalg.cond(r[0:nc,:]):.2f}\")\n"
      ],
      "metadata": {
        "id": "UX2AlUP8DrJv"
      },
      "execution_count": null,
      "outputs": []
    },
    {
      "cell_type": "markdown",
      "source": [
        "## 1 gram-schmidt orthogonalization and least squares"
      ],
      "metadata": {
        "id": "xMJAlhJmJrha"
      }
    },
    {
      "cell_type": "markdown",
      "source": [
        "gram-schmidt method orthogonalizes a set of vectors. given an input set of $m$-dimensional vectors, the goal is to ﬁnd an orthogonal coordinate system for the subspace spanned by the set. more precisely, given $n$ linearly independent input vectors, it computes $n$ mutually perpendicular unit vectors spanning the same subspace as the input vectors. the unit length is with respect to the euclidean or 2-norm, which is all about this week."
      ],
      "metadata": {
        "id": "oATg0lXiqhSk"
      }
    },
    {
      "cell_type": "markdown",
      "source": [
        "let $A_1,\\dots,A_n$ be linearly independent vectors from $\\mathbb{R}^m$. ie, $n\\le m$. gram-schmidt begins by dividing $A_1$ by its length to make it a unit vector. define"
      ],
      "metadata": {
        "id": "SmZg4X7XqjIO"
      }
    },
    {
      "cell_type": "markdown",
      "source": [
        "$$y_1 = A_1, \\quad q_1 = \\frac{y_1}{||y_1||_2}.$$"
      ],
      "metadata": {
        "id": "r_z4uPdfqk_k"
      }
    },
    {
      "cell_type": "markdown",
      "source": [
        "to find the second unit vector, subtract away the projection of $A_2$ in the direction of $q_1$ and normalize the result:"
      ],
      "metadata": {
        "id": "YA5mJO53qmvu"
      }
    },
    {
      "cell_type": "markdown",
      "source": [
        "$$y_2 = A_2 - q_1(q_1^TA_2), \\quad q_2 = \\frac{y_2}{||y_2||_2}.$$"
      ],
      "metadata": {
        "id": "yJF8IYTTqqF0"
      }
    },
    {
      "cell_type": "markdown",
      "source": [
        "then $q_1^Ty_2 = q_1^T(A_2 - q_1(q_1^TA_2)) = q_1^TA_2 - q_1^TA_2 = 0$, so $q_1$, $q_2$ are pairwise orthogonal."
      ],
      "metadata": {
        "id": "Hkc4QlqRqruc"
      }
    },
    {
      "cell_type": "markdown",
      "source": [
        "at $j$th step, define"
      ],
      "metadata": {
        "id": "7OrvpOChqtbc"
      }
    },
    {
      "cell_type": "markdown",
      "source": [
        "$$y_j = A_j - q_1(q_1^TA_j) - q_2(q_2^TA_j) - \\dots - q_{j-1}(q_{j-1}^TA_j), \\quad q_j = \\frac{y_j}{||y_j||_2}.$$"
      ],
      "metadata": {
        "id": "bP2iD5pHqvml"
      }
    },
    {
      "cell_type": "markdown",
      "source": [
        "it is clear $q_j$ is orthogonal to each of the previously produced $q_i$ for $i=1,\\dots,j-1$, bc"
      ],
      "metadata": {
        "id": "EKNDIOwNrGV2"
      }
    },
    {
      "cell_type": "markdown",
      "source": [
        "\\begin{align}\n",
        "  q_i^Ty_j &= q_i^TA_j - q_i^Tq_1q_1^TA_j - \\dots - q_i^Tq_{j-1}q_{j-1}^TA_j \\\\\n",
        "  &= q_i^TA_j - q_i^Tq_iq_i^TA_j = 0,\n",
        "\\end{align}"
      ],
      "metadata": {
        "id": "KSsDl1B0rISu"
      }
    },
    {
      "cell_type": "markdown",
      "source": [
        "where by induction, the $q_i$ are pairwise orthogonal for $i<j$. geometrically, this corresponds to subtracting from $A_j$ the projections of $A_j$ onto the previously determined orthogonal vectors $q_i, i = 1,\\dots,j-1$. What remains is orthogonal to $q_i$ and, after dividing by its length to become a unit vector, is used as $q_j$ . therefore, the set $\\{q_1,\\dots,q_n\\}$ consists of mutually orthogonal vectors spanning the same subspace of $\\mathbb{R}^m$ as $\\{A_1,\\dots,A_n\\}$."
      ],
      "metadata": {
        "id": "izIt_a7uJ6Ga"
      }
    },
    {
      "cell_type": "code",
      "source": [
        "img_gramschmidt()"
      ],
      "metadata": {
        "colab": {
          "base_uri": "https://localhost:8080/",
          "height": 406
        },
        "id": "lAbNQwtPrjR3",
        "outputId": "37143a86-d5e1-4ec8-bff9-32d23c64c374"
      },
      "execution_count": null,
      "outputs": [
        {
          "output_type": "display_data",
          "data": {
            "text/plain": [
              "<Figure size 640x480 with 1 Axes>"
            ],
            "image/png": "[encoded data removed]"
          },
          "metadata": {}
        }
      ]
    },
    {
      "cell_type": "markdown",
      "source": [
        "the result of gram-schmidt orthogonalization can be put into matrix form by introducing new notation for the dot products in the above calculation. deﬁne $r_{jj} = ||y_j||_2$ and $r_{ij} = q_i^TA_j$. then"
      ],
      "metadata": {
        "id": "8BCkyWgKsMmv"
      }
    },
    {
      "cell_type": "markdown",
      "source": [
        "\\begin{align}\n",
        "  A_1 &= r_{11}q_1 \\\\\n",
        "  A_2 &= r_{12}q_1 + r_{22}q_2 \\\\\n",
        "  \\\\\n",
        "  &\\Downarrow \\\\\n",
        "  \\\\\n",
        "  A_j &= r_{1j}q_1 + \\dots + r_{j-1,j}q_{j-1} + r_{jj}q_j \\\\\n",
        "  \\\\\n",
        "  &\\Downarrow \\\\\n",
        "  \\\\\n",
        "  (A_1|\\dots|A_n) &= (q_1|\\dots|q_n)\n",
        "  \\begin{bmatrix}\n",
        "    r_{11} & r_{12} & \\dots & r_{1n} \\\\\n",
        "    & r_{22} & \\dots & r_{2n} \\\\\n",
        "    & & \\ddots & \\vdots \\\\\n",
        "    & & & r_{nn}\n",
        "  \\end{bmatrix} \\\\\n",
        "  \\\\\n",
        "  &\\Downarrow \\\\\n",
        "  \\\\\n",
        "  A &= QR,\n",
        "\\end{align}"
      ],
      "metadata": {
        "id": "JIaA2pEcsP6_"
      }
    },
    {
      "cell_type": "markdown",
      "source": [
        "where $A$ is matrix consisting of columns $A_j$. this is <b>reduced QR factorization</b>. the assumption that vectors $A_j$ are linearly independent guarantees that the main diagonal coefficients $r_{jj}$ are nonzero. conversely, if $A_j$ lies in span of $A_1,\\dots,A_{j-1}$, then the projections onto the latter vectors make up the entire vector and $r_{jj} = ||y_j||_2 = 0$."
      ],
      "metadata": {
        "id": "u3YUVtnqTe1c"
      }
    },
    {
      "cell_type": "markdown",
      "source": [
        "##### example 12"
      ],
      "metadata": {
        "id": "4FH5dvK2V6S-"
      }
    },
    {
      "cell_type": "markdown",
      "source": [
        "find reduced QR factorization by applying gram-schmidt orthogonalization to $A = \\left[\\begin{array}{r} 1 & -4 \\\\ 2 & 3 \\\\ 2 & 2 \\end{array}\\right]$."
      ],
      "metadata": {
        "id": "l1w2lBwYslmA"
      }
    },
    {
      "cell_type": "markdown",
      "source": [
        "\\begin{align}\n",
        "  y_1 &= A_1 = \\begin{bmatrix} 1 \\\\ 2 \\\\ 2 \\end{bmatrix} \\\\ \\\\\n",
        "  r_{11} &= ||y_1||_2 = \\sqrt{1^2 + 2^2 + 2^2} = 3 \\\\ \\\\\n",
        "  q_1 &= \\frac{y_1}{||y_1||_2} =\n",
        "  \\begin{bmatrix}\n",
        "    \\frac{1}{3} \\\\ \\frac{2}{3} \\\\ \\frac{2}{3}\n",
        "  \\end{bmatrix} \\\\\n",
        "  \\\\\n",
        "  y_2 &= A_2 - q_1\\underbrace{q_1^TA_2}_{r_{12}} =\n",
        "  \\left[\\begin{array}{r} -4 \\\\ 3 \\\\ 2 \\end{array}\\right] -\n",
        "  \\begin{bmatrix}\n",
        "    \\frac{1}{3} \\\\ \\frac{2}{3} \\\\ \\frac{2}{3}\n",
        "  \\end{bmatrix} \\cdot 2 =\n",
        "  \\left[\\begin{array}{r}\n",
        "    -\\frac{14}{3} \\\\ \\frac{5}{3} \\\\ \\frac{2}{3}\n",
        "  \\end{array}\\right] \\\\ \\\\\n",
        "  r_{22} &= ||y_2||_2 = 5 \\\\ \\\\\n",
        "  q_2 &= \\frac{y_2}{||y_2||_2} = \\frac{1}{5}\n",
        "  \\left[\\begin{array}{r}\n",
        "    -\\frac{14}{3} \\\\ \\frac{5}{3} \\\\ \\frac{2}{3}\n",
        "  \\end{array}\\right] =\n",
        "  \\left[\\begin{array}{r}\n",
        "    -\\frac{14}{15} \\\\ \\frac{1}{3} \\\\ \\frac{2}{15}\n",
        "  \\end{array}\\right] \\\\\n",
        "  \\\\\n",
        "  &\\quad\\Downarrow \\\\\n",
        "  \\\\\n",
        "  A &=\n",
        "  \\left[\\begin{array}{r}\n",
        "    1 & -4 \\\\ 2 & 3 \\\\ 2 & 2\n",
        "  \\end{array}\\right] =\n",
        "  \\left[\\begin{array}{r}\n",
        "    \\frac{1}{3} & -\\frac{14}{5} \\\\\n",
        "    \\frac{2}{3} & \\frac{1}{3} \\\\\n",
        "    \\frac{2}{3} & \\frac{2}{15}\n",
        "  \\end{array}\\right]\n",
        "  \\begin{bmatrix} 3 & 2 \\\\ 0 & 5 \\end{bmatrix} = QR.\n",
        "\\end{align}"
      ],
      "metadata": {
        "id": "xf1iXyK5WWOX"
      }
    },
    {
      "cell_type": "markdown",
      "source": [
        "##### algorithm <b>classical gram-schmidt orthogonalization</b>"
      ],
      "metadata": {
        "id": "Nrgowhkvb5I2"
      }
    },
    {
      "cell_type": "markdown",
      "source": [
        "```\n",
        "# a[j], j = 1,2,...,n linearly independent vectors\n",
        "\n",
        "for j = 1:n\n",
        "  y = A[j]\n",
        "  for i = 1:j-1\n",
        "    r[i,j] = transpose(q[i])·A[j]\n",
        "    y = y - r[i,j]q[i]\n",
        "  end\n",
        "  r[j,j] = ||y|| # L2 norm\n",
        "  q[j] = y/r[j,j]\n",
        "end\n",
        "```"
      ],
      "metadata": {
        "id": "zEKxMCdFb8JV"
      }
    },
    {
      "cell_type": "markdown",
      "source": [
        "##### usw"
      ],
      "metadata": {
        "id": "ruxoAtriMkY6"
      }
    },
    {
      "cell_type": "markdown",
      "source": [
        "when method successful, it is customary to ﬁll out the matrix of orthogonal unit vectors to a complete basis of $\\mathbb{R}^m$, to achieve the \"full\" QR factorization. this can be done by adding $m-n$ extra vectors to the $A_j$, so that $m$ vectors span $\\mathbb{R}^m$ and carrying out gram–schmidt. in terms of the basis of $\\mathbb{R}^m$ formed by $q_1,\\dots,q_m$, the original vectors can be expressed as"
      ],
      "metadata": {
        "id": "0Ug2GtYbtKSI"
      }
    },
    {
      "cell_type": "markdown",
      "source": [
        "$$\n",
        "(A_1|\\dots|A_n) = (q_1|\\dots|q_m)\n",
        "  \\begin{bmatrix}\n",
        "    r_{11} & r_{12} & \\dots & r_{1n} \\\\\n",
        "    & r_{22} & \\dots & r_{2n} \\\\\n",
        "    & & \\ddots & \\vdots \\\\\n",
        "    & & & r_{nn} \\\\\n",
        "    0 & \\dots & \\dots & 0 \\\\\n",
        "    \\vdots &&& \\vdots \\\\\n",
        "    0 & \\dots & \\dots & 0\n",
        "  \\end{bmatrix}.\n",
        "$$"
      ],
      "metadata": {
        "id": "OBseZlVmdcCH"
      }
    },
    {
      "cell_type": "markdown",
      "source": [
        "this is full QR factorization of the matrix $A = (A_1|\\dots|A_n)$, formed by the original input vectors. note the matrix sizes in the full QR factorization: $A$ is $m\\times n$, $Q$ is a square $m\\times m$ matrix, and upper triangular matrix $R$ is $m\\times n$, the same size as $A$. matrix $Q$ in the full QR factorization has a special place in numerical analysis and is given a special deﬁnition."
      ],
      "metadata": {
        "id": "tfSaJfwqtNq4"
      }
    },
    {
      "cell_type": "markdown",
      "source": [
        "##### <b><font color=grey>definition 01</font></b>"
      ],
      "metadata": {
        "id": "ljNGNBeBeXOw"
      }
    },
    {
      "cell_type": "markdown",
      "source": [
        "square matrix $Q$ is <b>orthogonal</b> if $Q^T = Q^{-1}$."
      ],
      "metadata": {
        "id": "u7YyMB9befIe"
      }
    },
    {
      "cell_type": "markdown",
      "source": [
        "note that a square matrix is orthogonal iif its columns are pairwise orthogonal unit vectors. therefore, a full QR factorization is the equation $A = QR$, where $Q$ is an orthogonal square matrix and $R$ is an upper triangular matrix the same size as $A$."
      ],
      "metadata": {
        "id": "_ufKLSzItVGA"
      }
    },
    {
      "cell_type": "markdown",
      "source": [
        "the key property of an orthogonal matrix is that it preserves the euclidean norm of a vector."
      ],
      "metadata": {
        "id": "3EWYEL4Teq6Y"
      }
    },
    {
      "cell_type": "markdown",
      "source": [
        "##### <b><font color=grey>lemma 02</font></b>"
      ],
      "metadata": {
        "id": "iqiB3-WNfHuu"
      }
    },
    {
      "cell_type": "markdown",
      "source": [
        "if $Q$ is an orthogonal $m\\times m$ matrix and $x$ is an $m$-dimensional vector, then $||Qx||_2 = ||x||_2$."
      ],
      "metadata": {
        "id": "EA5cs8ELfMVP"
      }
    },
    {
      "cell_type": "markdown",
      "source": [
        "the product of two orthogonal $m\\times m$ matrices is again orthogonal. the QR factorization of an $m\\times m$ matrix by gram-schmidt method requires approximately $m^3$ multiplication/divisions, three times more than LU factorization and about the same number of additions."
      ],
      "metadata": {
        "id": "XOe4-Ypsfr0I"
      }
    },
    {
      "cell_type": "markdown",
      "source": [
        "##### example 13"
      ],
      "metadata": {
        "id": "3S2ESCUwfxrg"
      }
    },
    {
      "cell_type": "markdown",
      "source": [
        "continues example 12."
      ],
      "metadata": {
        "id": "Rd8Sjaf8tcf5"
      }
    },
    {
      "cell_type": "markdown",
      "source": [
        "find the full QR factorization of $A= \\left[\\begin{array}{r} 1 & -4 \\\\ 2 & 3 \\\\ 2& 2 \\end{array}\\right]$."
      ],
      "metadata": {
        "id": "R9qTIeBMfzrg"
      }
    },
    {
      "cell_type": "markdown",
      "source": [
        "\\begin{align}\n",
        "  q_1 &= \\begin{bmatrix}\n",
        "    \\frac{1}{3} \\\\ \\frac{2}{3} \\\\ \\frac{2}{3}\n",
        "  \\end{bmatrix}, \\quad q_2 =\n",
        "  \\left[\\begin{array}{r}\n",
        "    -\\frac{14}{15} \\\\ \\frac{1}{3} \\\\ \\frac{2}{15}\n",
        "  \\end{array}\\right], \\quad\\text{previously} \\\\\n",
        "  \\\\\n",
        "  &\\Downarrow \\quad\\text{add }A_3 = \\begin{bmatrix} 1 & 0 & 0 \\end{bmatrix}^T \\\\\n",
        "  \\\\\n",
        "  y_3 &= A_3 - q_1q_1^TA_3 - q_2q_2^TA_3 \\\\\n",
        "  \\\\\n",
        "  &= \\begin{bmatrix} 1 \\\\ 0 \\\\ 0 \\end{bmatrix} -\n",
        "  \\begin{bmatrix}\n",
        "    \\frac{1}{3} \\\\ \\frac{2}{3} \\\\ \\frac{2}{3}\n",
        "  \\end{bmatrix} \\frac{1}{3} -\n",
        "  \\left[\\begin{array}{r}\n",
        "    -\\frac{14}{15} \\\\ \\frac{1}{3} \\\\ \\frac{2}{15}\n",
        "  \\end{array}\\right] (-\\frac{14}{15})\n",
        "  = \\frac{2}{225} \\left[\\begin{array}{r} 2 \\\\ 10 \\\\ -11 \\end{array}\\right] \\\\\n",
        "  \\\\\n",
        "  q_3 &= \\frac{y_3}{||y_3||_2} = \\left[\\begin{array}{r}\n",
        "    \\frac{2}{15} \\\\ \\frac{10}{15} \\\\ -\\frac{11}{15}\n",
        "  \\end{array}\\right] \\\\\n",
        "  \\\\\n",
        "  &\\Downarrow \\quad r_{11} = 3, r_{12} = 2, r_{22} = 5, \\quad\\text{previously} \\\\\n",
        "  \\\\\n",
        "  A &= \\begin{bmatrix} 1 & -4 \\\\ 2 & 3 \\\\ 2 & 2 \\end{bmatrix} =\n",
        "  \\left[\\begin{array}{r}\n",
        "    \\frac{1}{3} & -\\frac{14}{15} & \\frac{2}{15} \\\\\n",
        "    \\frac{2}{3} & \\frac{1}{3} & \\frac{2}{3} \\\\\n",
        "    \\frac{2}{3} & \\frac{2}{15} & -\\frac{11}{15} \\\\\n",
        "  \\end{array}\\right]\n",
        "  \\begin{bmatrix} 3 & 2 \\\\ 0 & 5 \\\\ 0 & 0 \\end{bmatrix} = QR\n",
        "\\end{align}"
      ],
      "metadata": {
        "id": "UbVhQ_N9mOpL"
      }
    },
    {
      "cell_type": "code",
      "source": [
        "# example 12\n",
        "\n",
        "#https://numpy.org/doc/stable/reference/generated/numpy.linalg.qr.html\n",
        "\n",
        "# see miscellaney for commentary on signs\n",
        "\n",
        "if __name__ == \"__main__\":\n",
        "\n",
        "  a = np.array([[1,-4],[2,3],[2,2]])\n",
        "  q,r = np.linalg.qr(a)\n",
        "\n",
        "  print(f\"\\nA:\\n{a}\")\n",
        "  print(f\"\\nQ:\\n{q}\")\n",
        "  print(f\"\\nR:\\n{r}\")\n"
      ],
      "metadata": {
        "colab": {
          "base_uri": "https://localhost:8080/"
        },
        "id": "4myM39L-sEq5",
        "outputId": "27a29469-c1e8-4bf9-e666-7d5bf05a6ab9"
      },
      "execution_count": null,
      "outputs": [
        {
          "output_type": "stream",
          "name": "stdout",
          "text": [
            "\n",
            "A:\n",
            "[[ 1 -4]\n",
            " [ 2  3]\n",
            " [ 2  2]]\n",
            "\n",
            "Q:\n",
            "[[-0.33333333  0.93333333]\n",
            " [-0.66666667 -0.33333333]\n",
            " [-0.66666667 -0.13333333]]\n",
            "\n",
            "R:\n",
            "[[-3. -2.]\n",
            " [ 0. -5.]]\n"
          ]
        }
      ]
    },
    {
      "cell_type": "markdown",
      "source": [
        "and then what?"
      ],
      "metadata": {
        "id": "i4CM-EYv8fCP"
      }
    },
    {
      "cell_type": "markdown",
      "source": [
        "like LU, QR can solve a system of equations:"
      ],
      "metadata": {
        "id": "GbdkQi3qtnra"
      }
    },
    {
      "cell_type": "markdown",
      "source": [
        "$$Ax = b \\Rightarrow QRx = b \\Rightarrow Rx = Q^Tb.$$"
      ],
      "metadata": {
        "id": "d5ONJ6ZPtrVw"
      }
    },
    {
      "cell_type": "markdown",
      "source": [
        "but its way more expensive, so dont do it. but its technically an option."
      ],
      "metadata": {
        "id": "7xs6IPPMttvK"
      }
    },
    {
      "cell_type": "markdown",
      "source": [
        "more immediately, that non-square $A$ might fit in with least squares."
      ],
      "metadata": {
        "id": "i1jgQ51D8iyl"
      }
    },
    {
      "cell_type": "markdown",
      "source": [
        "let $A$ be $m\\times n$ matrix with $m\\ge n$. to minimize $\\|Ax-b||_2$, rewrite as $||QRx - b||_2 = ||Rx - Q^Tb||_2$ by lemma 02. the euclidean norm as its matrix self,"
      ],
      "metadata": {
        "id": "aLgV0u-ktzDq"
      }
    },
    {
      "cell_type": "markdown",
      "source": [
        "$$\n",
        "\\begin{bmatrix}\n",
        "  e_1 \\\\ \\vdots \\\\ e_n \\\\ -- \\\\ e_{n+1} \\\\ \\vdots \\\\ e_m\n",
        "\\end{bmatrix} =\n",
        "\\begin{bmatrix}\n",
        "  r_{11} & r_{12} & \\dots & r_{1n} \\\\\n",
        "  & r_{22} & \\dots & r_{2n} \\\\\n",
        "  && \\ddots & \\vdots \\\\\n",
        "  &&& r_{nn} \\\\\n",
        "  -- & -- & -- & -- \\\\\n",
        "  0 & \\dots & \\dots & 0 \\\\\n",
        "  \\vdots &&& \\vdots \\\\\n",
        "  0 & \\dots & \\dots & 0\n",
        "\\end{bmatrix} \\begin{bmatrix} x_1 \\\\ \\vdots \\\\ x_n \\end{bmatrix} -\n",
        "\\begin{bmatrix}\n",
        "  d_1 \\\\ \\vdots \\\\ d_n \\\\ -- \\\\ d_{n+1} \\\\ \\vdots \\\\ d_m\n",
        "\\end{bmatrix}\n",
        "$$"
      ],
      "metadata": {
        "id": "mdthNZfu9--f"
      }
    },
    {
      "cell_type": "markdown",
      "source": [
        "where $d = Q^Tb$. assume $r_{ij\\ne 0}$. the upper part of $e$ can be zeroed through back substitution and $x_i$ is irrelevant for remaining equations. ie, $(e_{n+1},\\dots,e_m) = (-d_{n+1},\\dots,-d_m)$. ie, least squares solution is minimized by using $x$ from back-solving and the least squares error is $||e||_2 = d_{n+1}^2 + \\dots + d_m^2$."
      ],
      "metadata": {
        "id": "nCPcFmL1t3Fb"
      }
    },
    {
      "cell_type": "markdown",
      "source": [
        "###### algorithm <b>least squares by QR factorization</b>"
      ],
      "metadata": {
        "id": "YnwfVzggBlRh"
      }
    },
    {
      "cell_type": "markdown",
      "source": [
        "1. given $m\\times n$ inconsistent system, $Ax = b$,\n",
        "2. find full QR factorization $A=QR$ and set</br>\n",
        "$\\hat{R} =$ upper $n\\times n$ submatrix of $R$,</br>\n",
        "$\\hat{d} =$ upper $n$ entries of $d = Q^Tb$.\n",
        "3. solve $\\hat{R}\\bar{x} = \\hat{d}$ for least squares solution $\\bar{x}$."
      ],
      "metadata": {
        "id": "QBJp-Z8iBnAq"
      }
    },
    {
      "cell_type": "markdown",
      "source": [
        "##### example 14"
      ],
      "metadata": {
        "id": "fGc4ZzlZDIAk"
      }
    },
    {
      "cell_type": "markdown",
      "source": [
        "continues example 13."
      ],
      "metadata": {
        "id": "MXn-Wunvt9E1"
      }
    },
    {
      "cell_type": "markdown",
      "source": [
        "use full QR factorization to solve the least squares problem\n",
        "$\n",
        "\\left[\\begin{array}{r} 1 & -4 \\\\ 2 & 3 \\\\ 2 & 2 \\end{array}\\right]\n",
        "\\begin{bmatrix} x_1 \\\\ x_2 \\end{bmatrix} =\n",
        "\\left[\\begin{array}{r} -3 \\\\ 15 \\\\ 9 \\end{array}\\right]\n",
        "$."
      ],
      "metadata": {
        "id": "vpKOK3Akt-3R"
      }
    },
    {
      "cell_type": "markdown",
      "source": [
        "\\begin{align}\n",
        "  Rx &= Q^Tb \\\\\n",
        "  \\\\\n",
        "  &\\Downarrow \\\\\n",
        "  \\\\\n",
        "  Q &= \\left[\\begin{array}{r}\n",
        "    5 & -14 & 2 \\\\\n",
        "    10 & 5 & 10 \\\\\n",
        "    10 & 2 & -11\n",
        "  \\end{array}\\right], \\quad\n",
        "  R = \\begin{bmatrix} 3 & 2 \\\\ 0 & 5 \\\\ 0 & 0 \\end{bmatrix} \\\\\n",
        "  \\\\\n",
        "  &\\Downarrow \\\\\n",
        "  \\\\\n",
        "  \\begin{bmatrix} 3 & 2 \\\\ 0 & 5 \\\\ -- & -- \\\\ 0 & 0 \\end{bmatrix}\n",
        "  \\begin{bmatrix} x_1 \\\\ x_2 \\end{bmatrix} &= \\frac{1}{15}\n",
        "  \\left[\n",
        "    \\begin{array}{r} 5 & 10 & 10 \\\\ -14 & 5 & 2 \\\\ 2 & 10 & -11 \\end{array}\n",
        "  \\right]\n",
        "  \\left[\\begin{array}{r} -3 \\\\ 15 \\\\ 9 \\end{array}\\right] =\n",
        "  \\left[\\begin{array}{r} 15 \\\\ 9 \\\\ -- \\\\ 3 \\end{array}\\right].\n",
        "\\end{align}"
      ],
      "metadata": {
        "id": "qpmeDy4kuDW9"
      }
    },
    {
      "cell_type": "markdown",
      "source": [
        "least squares error $||e||_2 = ||(0,0,3)||_2 = 3$ and for $\\bar{x}$"
      ],
      "metadata": {
        "id": "kwsR0LJ5uGJB"
      }
    },
    {
      "cell_type": "markdown",
      "source": [
        "$$\n",
        "\\begin{bmatrix} 3 & 2 \\\\ 0 & 5 \\end{bmatrix}\n",
        "\\begin{bmatrix} x_1 \\\\ x_2 \\end{bmatrix}\n",
        "=\n",
        "\\left[\\begin{array}{r} 15 \\\\ 9 \\end{array}\\right]\n",
        "\\quad\\Rightarrow\\quad\n",
        "\\bar{x} = \\begin{bmatrix} 3.8 \\\\ 1.8 \\end{bmatrix}.\n",
        "$$"
      ],
      "metadata": {
        "id": "XZjoZCRFDkKy"
      }
    },
    {
      "cell_type": "code",
      "source": [
        "# verified resource\n",
        "\n",
        "if __name__ == \"__main__\":\n",
        "\n",
        "  ys = np.array([-3,15,9])\n",
        "  a = np.array([[1,-4],[2,3],[2,2]])\n",
        "  q,r = np.linalg.qr(a)  #\\\\\\,mode='complete')\n",
        "\n",
        "  print(f\"\\nA:\\n{a}\")\n",
        "  print(f\"\\nQ:\\n{q}\")\n",
        "  print(f\"\\nR:\\n{r}\")\n",
        "\n",
        "  d = q.T@ys # b = ys\n",
        "  x = np.linalg.solve(r,d)\n",
        "  print(f\"\\nx:\\n{x}\")\n"
      ],
      "metadata": {
        "colab": {
          "base_uri": "https://localhost:8080/"
        },
        "outputId": "71cb9d04-a499-43b1-b11e-a0814cd5afad",
        "id": "iX1WJHLcTjci"
      },
      "execution_count": null,
      "outputs": [
        {
          "output_type": "stream",
          "name": "stdout",
          "text": [
            "\n",
            "A:\n",
            "[[ 1 -4]\n",
            " [ 2  3]\n",
            " [ 2  2]]\n",
            "\n",
            "Q:\n",
            "[[-0.33333333  0.93333333]\n",
            " [-0.66666667 -0.33333333]\n",
            " [-0.66666667 -0.13333333]]\n",
            "\n",
            "R:\n",
            "[[-3. -2.]\n",
            " [ 0. -5.]]\n",
            "\n",
            "x:\n",
            "[3.8 1.8]\n"
          ]
        }
      ]
    },
    {
      "cell_type": "markdown",
      "source": [
        "##### example 15"
      ],
      "metadata": {
        "id": "l1NXmckeGCEw"
      }
    },
    {
      "cell_type": "markdown",
      "source": [
        "revisits example 05, van der monde."
      ],
      "metadata": {
        "id": "dX9_eug6GFoC"
      }
    },
    {
      "cell_type": "code",
      "source": [
        "eg_15()"
      ],
      "metadata": {
        "colab": {
          "base_uri": "https://localhost:8080/"
        },
        "id": "ARFtRp0XuXVB",
        "outputId": "28ebcb04-a7c4-4225-f4ac-8d0ef6fe69f7"
      },
      "execution_count": null,
      "outputs": [
        {
          "output_type": "stream",
          "name": "stdout",
          "text": [
            "\n",
            "LSQ: [1.00000036 0.99999912 1.00000091 0.99999948 1.00000018 0.99999996\n",
            " 1.         1.        ] = meh\n",
            "\n",
            "bc cond(vdm): 5408707369.66\n",
            "\n",
            " QR: [1.00000015 0.99999961 1.00000041 0.99999976 1.00000008 0.99999998\n",
            " 1.         1.        ] = oh, alright\n",
            "\n",
            "err: 0.0 = fancy\n",
            "\n",
            "bc cond(ata): 5408707240.83\n"
          ]
        }
      ]
    },
    {
      "cell_type": "markdown",
      "source": [
        "## 2 modified gram-schmidt orthogonalization"
      ],
      "metadata": {
        "id": "nVZhr_o-JyWy"
      }
    },
    {
      "cell_type": "markdown",
      "source": [
        "##### algorithm <b>modified gram-schmidt orthogonalization</b>"
      ],
      "metadata": {
        "id": "DjsdffhsQ-DG"
      }
    },
    {
      "cell_type": "markdown",
      "source": [
        "this is computational tweak that doesnt change the mathematical equivalent: replace $A_j$ with $y$ in the innermost loop."
      ],
      "metadata": {
        "id": "bE-Bc5-vS1KY"
      }
    },
    {
      "cell_type": "markdown",
      "source": [
        "```\n",
        "# a[j], j=1,2,...,n linearly independent vectors\n",
        "\n",
        "for j = 1:n\n",
        "  y = a[j]\n",
        "  for i = 1:j-1\n",
        "    r[i,j] = transpose(q[i])·y\n",
        "    y = y - r[i,j]q[i]\n",
        "  end\n",
        "  r[j,j] = ||y|| # L2 norm\n",
        "  q[j] = y/r[j,j]\n",
        "```"
      ],
      "metadata": {
        "id": "E326S3OTRDGt"
      }
    },
    {
      "cell_type": "markdown",
      "source": [
        "when projecting away the part of vector $A_j$ in the direction of $q_i$, subtract away the projection of the remainder $y$ of $A_j$ with the $q_{i-1}$ part already removed, instead of the projection of $A_j$ itself on $q_i$."
      ],
      "metadata": {
        "id": "CPj1D9evP8uk"
      }
    },
    {
      "cell_type": "markdown",
      "source": [
        "## 3 householder reflectors"
      ],
      "metadata": {
        "id": "Zob20r2fJ2E6"
      }
    },
    {
      "cell_type": "markdown",
      "source": [
        "modified improves on classical and householder reﬂectors beats the mod. it requires fewer operations and is more stable, in the sense of ampliﬁcation of rounding errors."
      ],
      "metadata": {
        "id": "y3Rtycwtu955"
      }
    },
    {
      "cell_type": "markdown",
      "source": [
        "a household reflector is an orthogonal matrix that reﬂects all $m$-vectors through an $m-1$ dimensional plane. this means that the length of each vector is unchanged when multiplied by the matrix, making householder reﬂectors ideal for moving vectors. given a vector $x$ relocate to a vector $w$ of equal length, householder reﬂector matrix $H$ such that $Hx = w$."
      ],
      "metadata": {
        "id": "TX8FP4ytvAQr"
      }
    },
    {
      "cell_type": "markdown",
      "source": [
        "draw the $m-1$ dimensional plane bisecting $x$ and $w$, then reﬂect all vectors through the plane."
      ],
      "metadata": {
        "id": "jwrATDTkP9t9"
      }
    },
    {
      "cell_type": "code",
      "source": [
        "img_householder()"
      ],
      "metadata": {
        "colab": {
          "base_uri": "https://localhost:8080/",
          "height": 406
        },
        "id": "dXKdZHfqvaFd",
        "outputId": "300d3a4a-ae9f-4316-dc66-4fcaac167f2b"
      },
      "execution_count": null,
      "outputs": [
        {
          "output_type": "display_data",
          "data": {
            "text/plain": [
              "<Figure size 640x480 with 1 Axes>"
            ],
            "image/png": "[encoded data removed]"
          },
          "metadata": {}
        }
      ]
    },
    {
      "cell_type": "markdown",
      "source": [
        "##### lemma 03"
      ],
      "metadata": {
        "id": "ZYkj_A49bHC_"
      }
    },
    {
      "cell_type": "markdown",
      "source": [
        "assume $x,w$ are vectors of the same euclidean length, $||x||_2 = ||w||_2$. then $w-x$ and $w+x$ are perpendicular."
      ],
      "metadata": {
        "id": "9fMNZPJibJyW"
      }
    },
    {
      "cell_type": "markdown",
      "source": [
        "##### usw"
      ],
      "metadata": {
        "id": "8eRGY52obfee"
      }
    },
    {
      "cell_type": "markdown",
      "source": [
        "define vector $v = w-x$ and consider the projection matrix"
      ],
      "metadata": {
        "id": "7G8fAQXqv4Ut"
      }
    },
    {
      "cell_type": "markdown",
      "source": [
        "$$P = \\frac{vv^T}{v^Tv}.$$"
      ],
      "metadata": {
        "id": "RieqQbqiv6h_"
      }
    },
    {
      "cell_type": "markdown",
      "source": [
        "a <b>projection matrix</b> is a matrix that satisﬁes $P^2 = P$."
      ],
      "metadata": {
        "id": "p5LXzwKpv9SW"
      }
    },
    {
      "cell_type": "markdown",
      "source": [
        "geometrically, for any vector $u$, $Pu$ is the projection of $u$ onto $v$. subtract twice the projection $Px$ from $x$ to get $w$. to verify this, set $H = I-2P$. then"
      ],
      "metadata": {
        "id": "AkxIrQ5Nv_91"
      }
    },
    {
      "cell_type": "markdown",
      "source": [
        "\\begin{align}\n",
        "  Hx &= x - 2Px \\\\\n",
        "  &= w - v - \\frac{2vv^Tx}{v^Tv} \\\\\n",
        "  &= w - v - \\frac{vv^Tx}{v^Tv} - \\frac{vv^T(w-v)}{v^Tv} \\\\\n",
        "  &= w - \\frac{2vv^T(w+x)}{v^Tv} \\\\\n",
        "  \\\\\n",
        "  &\\Downarrow \\quad\\text{by lemma 03} \\\\\n",
        "  \\\\\n",
        "  &= w \\quad\\checkmark.\n",
        "\\end{align}"
      ],
      "metadata": {
        "id": "akOhkBaqbg5d"
      }
    },
    {
      "cell_type": "markdown",
      "source": [
        "$H$ is called a <b>householder reflector</b>."
      ],
      "metadata": {
        "id": "EBwB5Nl-wDce"
      }
    },
    {
      "cell_type": "markdown",
      "source": [
        "##### <b><font color=grey>theorem 04</font> householder reflectors</b>"
      ],
      "metadata": {
        "id": "3OxNuLpLc7qv"
      }
    },
    {
      "cell_type": "markdown",
      "source": [
        "let $x,w$ be vectors with $||x||_2 = ||w||_2$ and define $v=w-x$. then $H = I - 2vv^T/v^Tv$ is symmmetric orthogonal matrix and $Hx=w$."
      ],
      "metadata": {
        "id": "ODeibDNGdHLH"
      }
    },
    {
      "cell_type": "markdown",
      "source": [
        "##### example 17"
      ],
      "metadata": {
        "id": "1CrzH2wG6gfu"
      }
    },
    {
      "cell_type": "markdown",
      "source": [
        "let $x = [3,4], w = [5,0]$. find householder reflector $h$ that satisfies $Hx = w$."
      ],
      "metadata": {
        "id": "_-Gm3KhZ6k53"
      }
    },
    {
      "cell_type": "markdown",
      "source": [
        "\\begin{align}\n",
        "  v &= w-x =\n",
        "  \\begin{bmatrix} 5 \\\\ 0 \\end{bmatrix} -\n",
        "  \\begin{bmatrix} 3 \\\\ 4 \\end{bmatrix} =\n",
        "  \\left[\\begin{array}{r} 2 \\\\ -4 \\end{array}\\right] \\\\\n",
        "  \\\\\n",
        "  &\\Downarrow \\\\\n",
        "  \\\\\n",
        "  P &= \\frac{vv^T}{v^Tv} = \\frac{1}{20}\n",
        "  \\left[\\begin{array}{r} 4 & -8 \\\\ -8 & 16 \\end{array}\\right] =\n",
        "  \\left[\\begin{array}{r} 0.2 & -0.4 \\\\ -0.4 & 0.8 \\end{array}\\right] \\\\\n",
        "  \\\\\n",
        "  &\\Downarrow \\\\\n",
        "  \\\\\n",
        "  H = I - 2P &= \\begin{bmatrix} 1 & 0 \\\\ 0 & 1 \\end{bmatrix} -\n",
        "  \\left[\\begin{array}{r} 0.4 & -0.8 \\\\ -0.8 & 1.6 \\end{array}\\right] =\n",
        "  \\left[\\begin{array}{r} 0.6 & 0.8 \\\\ 0.8 & -0.6 \\end{array}\\right] \\\\\n",
        "  \\\\\n",
        "  &\\Downarrow \\quad\\text{verify} \\\\\n",
        "  \\\\\n",
        "  Hx &= \\left[\\begin{array}{r} 0.6 & 0.8 \\\\ 0.8 & -0.6 \\end{array}\\right]\n",
        "  \\begin{bmatrix} 3 \\\\ 4 \\end{bmatrix} =\n",
        "  \\begin{bmatrix} 5 \\\\ 0 \\end{bmatrix} = w \\\\\n",
        "  \\\\\n",
        "  Hw &= \\left[\\begin{array}{r} 0.6 & 0.8 \\\\ 0.8 & -0.6 \\end{array}\\right]\n",
        "  \\begin{bmatrix} 5 \\\\ 0 \\end{bmatrix} =\n",
        "  \\begin{bmatrix} 3 \\\\ 4 \\end{bmatrix} = x \\quad\\checkmark\n",
        "\\end{align}"
      ],
      "metadata": {
        "id": "8o5yXqtU63Mv"
      }
    },
    {
      "cell_type": "markdown",
      "source": [
        "##### usw"
      ],
      "metadata": {
        "id": "KDYrb7WG832c"
      }
    },
    {
      "cell_type": "markdown",
      "source": [
        "what was the point of gram-schmidt? to get QR. what is the point of householder? to get QR. specifically, reﬂectors will move a column vector $x$ to a coordinate axis as a way of putting zeros into a matrix -- ie, the $R$ of QR."
      ],
      "metadata": {
        "id": "tD7obNFHdfGi"
      }
    },
    {
      "cell_type": "markdown",
      "source": [
        "for $A$ decomposed into $QR$, let $x$ be its first column. let $w = \\pm(||A_1||_2,0,\\dots,0)$ be a vector along the first coordinate axis of identical euclidean length. (either sign works in theory but choose sign opposite to first component for numerical stability.) create householder reflector $H_1$ such that $H_1x = w$. eg, for $A_{4\\times 3}$,"
      ],
      "metadata": {
        "id": "eoUVBzYLwMmn"
      }
    },
    {
      "cell_type": "markdown",
      "source": [
        "$$\n",
        "H_1A = H_1\n",
        "\\begin{bmatrix}\n",
        "  x & x & x \\\\\n",
        "  x & x & x \\\\\n",
        "  x & x & x \\\\\n",
        "  x & x & x\n",
        "\\end{bmatrix}\n",
        "=\n",
        "\\begin{bmatrix}\n",
        "  x & x & x \\\\\n",
        "  0 & x & x \\\\\n",
        "  0 & x & x \\\\\n",
        "  0 & x & x\n",
        "\\end{bmatrix}.\n",
        "$$"
      ],
      "metadata": {
        "id": "BxPnkjyXdjyD"
      }
    },
    {
      "cell_type": "markdown",
      "source": [
        "so $H_1$ enabled some RHS zeros. so maybe do that some more."
      ],
      "metadata": {
        "id": "Iocfl0UmwP9U"
      }
    },
    {
      "cell_type": "markdown",
      "source": [
        "\\begin{align}\n",
        "  \\begin{pmatrix}\n",
        "    1 & | & 0 & 0 & 0 \\\\\n",
        "    - & - & - & - & - \\\\\n",
        "    0 & | \\\\\n",
        "    0 & | && \\hat{H}_2 \\\\\n",
        "    0 & |\n",
        "  \\end{pmatrix}\n",
        "  \\begin{pmatrix}\n",
        "    x & | & x & x \\\\\n",
        "    - & - & - & - \\\\\n",
        "    0 & | & x & x \\\\\n",
        "    0 & | & x & x \\\\\n",
        "    0 & | & x & x\n",
        "  \\end{pmatrix}\n",
        "  &=\n",
        "  \\begin{pmatrix}\n",
        "    x & | & x & x \\\\\n",
        "    - & - & - & - \\\\\n",
        "    0 & | & x & x \\\\\n",
        "    0 & | & 0 & x \\\\\n",
        "    0 & | & 0 & x\n",
        "  \\end{pmatrix} \\\\\n",
        "  \\\\\n",
        "  &\\Downarrow \\\\\n",
        "  \\\\\n",
        "  \\begin{pmatrix}\n",
        "    1 & 0 & | & 0 & 0 \\\\\n",
        "    0 & 1 & | & 0 & 0 \\\\\n",
        "    - & - & - & - & - \\\\\n",
        "    0 & 0 & | \\\\\n",
        "    0 & 0 & | && \\hat{H}_3\n",
        "  \\end{pmatrix}\n",
        "  \\begin{pmatrix}\n",
        "    x & x & | & x \\\\\n",
        "    0 & x & | & x \\\\\n",
        "    - & - & - & - \\\\\n",
        "    0 & 0 & | & x \\\\\n",
        "    0 & 0 & | & x\n",
        "  \\end{pmatrix}\n",
        "  &=\n",
        "  \\begin{pmatrix}\n",
        "    x & x & | & x \\\\\n",
        "    0 & x & | & x \\\\\n",
        "    - & - & - & - \\\\\n",
        "    0 & 0 & | & x \\\\\n",
        "    0 & 0 & | & 0\n",
        "  \\end{pmatrix} \\\\\n",
        "  \\\\\n",
        "  &\\Downarrow \\\\\n",
        "  \\\\\n",
        "  H_3H_2H_1A &= R \\\\\n",
        "  \\\\\n",
        "  A = H_1H_2H_3R &= QR.\n",
        "\\end{align}"
      ],
      "metadata": {
        "id": "bykdhsDi9v_6"
      }
    },
    {
      "cell_type": "markdown",
      "source": [
        "note $H_i^T = H_i$ bc $H_i$ is symmetric orthogonal."
      ],
      "metadata": {
        "id": "HNs7pW5KwTNN"
      }
    },
    {
      "cell_type": "markdown",
      "source": [
        "##### example 18"
      ],
      "metadata": {
        "id": "ADwfVjAHDwvb"
      }
    },
    {
      "cell_type": "markdown",
      "source": [
        "use householder reflectors to find QR factorization of"
      ],
      "metadata": {
        "id": "_aVpUj2VwW-c"
      }
    },
    {
      "cell_type": "markdown",
      "source": [
        "$$A = \\begin{bmatrix} 3 & 1 \\\\ 4 & 3 \\end{bmatrix}.$$"
      ],
      "metadata": {
        "id": "SWe5cLG9DydW"
      }
    },
    {
      "cell_type": "markdown",
      "source": [
        "find householder reflector that moves first column $[3,4]$ onto $x$-axis. from example 17,"
      ],
      "metadata": {
        "id": "kAQWq6fswaTc"
      }
    },
    {
      "cell_type": "markdown",
      "source": [
        "\\begin{align}\n",
        "  H_1A &=\n",
        "  \\left[\\begin{array}{r} 0.6 & 0.8 \\\\ 0.8 & -0.6 \\end{array}\\right]\n",
        "  \\begin{bmatrix} 3 & 1 \\\\ 4 & 3 \\end{bmatrix}\n",
        "  =\n",
        "  \\left[\\begin{array}{r} 5 & 3 \\\\ 0 & -1 \\end{array}\\right] \\\\\n",
        "  \\\\\n",
        "  &\\Downarrow \\quad\\text{multiply both sides on left by }H_1^{-1} = H_1 \\\\\n",
        "  \\\\\n",
        "  A &=\n",
        "  \\begin{bmatrix} 3 & 1 \\\\ 4 & 3 \\end{bmatrix}\n",
        "  =\n",
        "  \\left[\\begin{array}{r} 0.6 & 0.8 \\\\ 0.8 & -0.6 \\end{array}\\right]\n",
        "  \\left[\\begin{array}{r} 5 & 3 \\\\ 0 & -1 \\end{array}\\right]\n",
        "  = QR \\quad\\text{ where } Q = H_1^T = H_1.\n",
        "\\end{align}"
      ],
      "metadata": {
        "id": "Zus5M9jMEXiu"
      }
    },
    {
      "cell_type": "markdown",
      "source": [
        "##### example 19"
      ],
      "metadata": {
        "id": "tIY2wMGvF709"
      }
    },
    {
      "cell_type": "markdown",
      "source": [
        "continues example 17."
      ],
      "metadata": {
        "id": "DkL7TdWewee3"
      }
    },
    {
      "cell_type": "markdown",
      "source": [
        "use householder reflectors to find QR factorization of $A = \\left[\\begin{array}{r} 1 & -4 \\\\ 2 & 3 \\\\ 2 & 2 \\end{array}\\right]$."
      ],
      "metadata": {
        "id": "W9qOqXGiwf_l"
      }
    },
    {
      "cell_type": "markdown",
      "source": [
        "find householder reflector that moves first column $[1,2,2]$ to vector $w = [||x||_2,0,0]$. set $v = w-x = [3,0,0] - [1,2,2] = [2,-2,-2]$."
      ],
      "metadata": {
        "id": "hOEBE-BHwpOe"
      }
    },
    {
      "cell_type": "markdown",
      "source": [
        "\\begin{align}\n",
        "  H_1 &=\n",
        "  \\begin{bmatrix}\n",
        "    1 & 0 & 0 \\\\ 0 & 1 & 0 \\\\ 0 & 0 & 1\n",
        "  \\end{bmatrix} - \\frac{2}{12}\n",
        "  \\left[\\begin{array}{r}\n",
        "    4 & -4 & -4 \\\\ -4 & 4 & 4 \\\\ -4 & 4 & 4\n",
        "  \\end{array}\\right] =\n",
        "  \\left[\\begin{array}{r}\n",
        "    \\frac{1}{3} & \\frac{2}{3} & \\frac{2}{3} \\\\\n",
        "    \\frac{2}{3} & \\frac{1}{3} & -\\frac{2}{3} \\\\\n",
        "    \\frac{2}{3} & -\\frac{2}{3} & \\frac{1}{3}\n",
        "  \\end{array}\\right] \\quad\\text{by theorem 04} \\\\\n",
        "  \\\\\n",
        "  H_1A &=\n",
        "  \\left[\\begin{array}{r}\n",
        "    \\frac{1}{3} & \\frac{2}{3} & \\frac{2}{3} \\\\\n",
        "    \\frac{2}{3} & \\frac{1}{3} & -\\frac{2}{3} \\\\\n",
        "    \\frac{2}{3} & -\\frac{2}{3} & \\frac{1}{3}\n",
        "  \\end{array}\\right]\n",
        "  \\left[\\begin{array}{r} 1 & -4 \\\\ 2 & 3 \\\\ 2 & 2 \\end{array}\\right]\n",
        "  =\n",
        "  \\left[\\begin{array}{r} 3 & 2 \\\\ 0 & -3 \\\\ 0 & -4 \\end{array}\\right] \\\\\n",
        "  \\\\\n",
        "  &\\Downarrow\n",
        "    \\quad\\text{move }\\hat{x}=[-3,-4]^T \\rightarrow\\, \\hat{w} = [5,0]^T\n",
        "    \\text{ with }H_2\\text{ from examples 17,18} \\\\\n",
        "  \\\\\n",
        "  H_2 \\hat{x} &=\n",
        "  \\left[\\begin{array}{r} 0.6 & 0.8 \\\\ 0.8 & -0.6 \\end{array}\\right]\n",
        "  \\begin{bmatrix} -3 \\\\ -4 \\end{bmatrix}\n",
        "  =\n",
        "  \\begin{bmatrix} 5 \\\\ 0 \\end{bmatrix} = \\hat{w} \\\\\n",
        "  \\\\\n",
        "  &\\Downarrow \\\\\n",
        "  \\\\\n",
        "  H_2H_1A &=\n",
        "  \\left[\\begin{array}{r}\n",
        "    1 & 0 & 0 \\\\ 0 & 0.6 & 0.8 \\\\ 0 & 0.8 & -0.6\n",
        "  \\end{array}\\right]\n",
        "  \\left[\\begin{array}{r}\n",
        "    \\frac{1}{3} & \\frac{2}{3} & \\frac{2}{3} \\\\\n",
        "    \\frac{2}{3} & \\frac{1}{3} & -\\frac{2}{3} \\\\\n",
        "    \\frac{2}{3} & -\\frac{2}{3} & \\frac{1}{3}\n",
        "  \\end{array}\\right]\n",
        "  \\left[\\begin{array}{r} 1 & -4 \\\\ 2 & 3 \\\\ 2 & 2 \\end{array}\\right]\n",
        "  =\n",
        "  \\begin{bmatrix} 3 & 2 \\\\ 0 & 5 \\\\ 0 & 0 \\end{bmatrix} = R \\\\\n",
        "  \\\\\n",
        "  &\\Downarrow \\quad\\text{multiply both sides on left by }H_1^{-1}H_2^{-1} = H_1H_2 \\\\\n",
        "  \\\\\n",
        "  \\left[\\begin{array}{r} 1 & -4 \\\\ 2 & 3 \\\\ 2 & 2 \\end{array}\\right]\n",
        "  &= H_1H_2R =\n",
        "  \\left[\\begin{array}{r}\n",
        "    \\frac{1}{3} & \\frac{2}{3} & \\frac{2}{3} \\\\\n",
        "    \\frac{2}{3} & \\frac{1}{3} & -\\frac{2}{3} \\\\\n",
        "    \\frac{2}{3} & -\\frac{2}{3} & \\frac{1}{3}\n",
        "  \\end{array}\\right]\n",
        "  \\left[\\begin{array}{r}\n",
        "    1 & 0 & 0 \\\\ 0 & 0.6 & 0.8 \\\\ 0 & 0.8 & -0.6\n",
        "  \\end{array}\\right]\n",
        "  \\begin{bmatrix} 3 & 2 \\\\ 0 & 5 \\\\ 0 & 0 \\end{bmatrix} \\\\\n",
        "  \\\\\n",
        "  &=\n",
        "  \\left[\\begin{array}{r}\n",
        "    \\frac{1}{3} & -\\frac{14}{15} & -\\frac{2}{15} \\\\\n",
        "    \\frac{2}{3} & \\frac{1}{3} & -\\frac{2}{3} \\\\\n",
        "    \\frac{2}{3} & \\frac{2}{15} & \\frac{11}{15}\n",
        "  \\end{array}\\right]\n",
        "  \\begin{bmatrix} 3 & 2 \\\\ 0 & 5 \\\\ 0 & 0 \\end{bmatrix} = QR.\n",
        "\\end{align}"
      ],
      "metadata": {
        "id": "vJb1PYW5GPBI"
      }
    },
    {
      "cell_type": "markdown",
      "source": [
        "householder reflection costs $\\frac{2}{3}m^3$ multiplications and the same number of additions -- lower than gram-schmidt orthogonalization. householder also delivers better orthogonality and requires less memory. however, for large matrices, householder reflection is complicated in costly ways - which is why numpy and scipy use modified gram-schmidt."
      ],
      "metadata": {
        "id": "4BI5Xt9aF-WO"
      }
    },
    {
      "cell_type": "markdown",
      "source": [
        "###### code"
      ],
      "metadata": {
        "id": "ive7_bRtR8H6"
      }
    },
    {
      "cell_type": "code",
      "source": [
        "# 240308 ksa  lol = not yet, check next semester. but theres a decent python\n",
        "#             link miscellaney for young students who dont like to relax.\n"
      ],
      "metadata": {
        "id": "kbyB_t97R9qE"
      },
      "execution_count": null,
      "outputs": []
    },
    {
      "cell_type": "markdown",
      "source": [
        "### miscellaney"
      ],
      "metadata": {
        "id": "_6zwUgFTMt4V"
      }
    },
    {
      "cell_type": "markdown",
      "source": [
        "* gram-schmidt [@khan](https://www.youtube.com/watch?v=rHonltF77zI) (19m)\n",
        "* QR decomposition [@brightside](https://www.youtube.com/watch?v=FAnNBw7d0vg) (14m)\n",
        "* same thing [@leahhoward](https://www.youtube.com/watch?v=qmRC8mTPGI8) (8:30m)\n",
        "* householder QR factorization [@santa](https://www.youtube.com/watch?v=5MeeuSoFBdY) (5m) [@kutz](https://www.youtube.com/watch?v=gvnFVCWI044) (46:30m)\n",
        "* householder, python [@quantstart](https://www.quantstart.com/articles/QR-Decomposition-with-Python-and-NumPy/)"
      ],
      "metadata": {
        "id": "YemEsqfRwwc0"
      }
    },
    {
      "cell_type": "markdown",
      "source": [
        "<b>libraries</b>\n",
        "* qr-factorization [@numpy](https://numpy.org/doc/stable/reference/generated/numpy.linalg.qr.html)"
      ],
      "metadata": {
        "id": "Uch42qh8wy3v"
      }
    },
    {
      "cell_type": "markdown",
      "source": [
        "<b>some quirks</b>\n",
        "\n",
        "* [why so negative?](https://scipy-user.scipy.narkive.com/FkwGgR1O/qr-decompostion-gives-negative-q-r)"
      ],
      "metadata": {
        "id": "NP3Y0TNbMvW9"
      }
    },
    {
      "cell_type": "markdown",
      "source": [
        "<br/><br/><br/><br/><br/><br/><br/><br/><br/><br/>\n",
        "<br/><br/><br/><br/><br/><br/><br/><br/><br/><br/>\n",
        "<br/><br/><br/><br/><br/><br/><br/><br/><br/><br/>\n"
      ],
      "metadata": {
        "id": "fptdQJ2Ro7g9"
      }
    }
  ]
}