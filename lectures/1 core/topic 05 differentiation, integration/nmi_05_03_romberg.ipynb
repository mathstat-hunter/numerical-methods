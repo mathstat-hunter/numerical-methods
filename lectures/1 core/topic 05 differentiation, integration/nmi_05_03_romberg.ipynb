{
  "nbformat": 4,
  "nbformat_minor": 0,
  "metadata": {
    "colab": {
      "provenance": []
    },
    "kernelspec": {
      "name": "python3",
      "display_name": "Python 3"
    },
    "language_info": {
      "name": "python"
    }
  },
  "cells": [
    {
      "cell_type": "markdown",
      "source": [
        "# 05.03 romberg integration"
      ],
      "metadata": {
        "id": "qIZbKBpWolzT"
      }
    },
    {
      "cell_type": "markdown",
      "source": [
        "romberg is extrapolation applied to composite trapezoidal. ie, depending on step size $h$, the rule can be extrapolated if the order of the rule for approximating quantity $M$ is known. composite trapezoidal is at least second order in $h$; therefore, extrapolation can be applied to achieve a new rule of at least third order."
      ],
      "metadata": {
        "id": "6LXMbpGNWYH-"
      }
    },
    {
      "cell_type": "markdown",
      "source": [
        "from the error term of the trapezoidal rule, for an infinitely differentiable function $f$,"
      ],
      "metadata": {
        "id": "l3ZnP5Ufd5kC"
      }
    },
    {
      "cell_type": "markdown",
      "source": [
        "$$\\int_a^b f(x)dx = \\frac{h}{2} \\left( y_0 + y_m + 2\\sum_{i=1}^{m-1}y_i \\right) + c_2h^2 + c_4h^4 + c6h^6 + \\dots,$$"
      ],
      "metadata": {
        "id": "fBZDqJRcd7Ev"
      }
    },
    {
      "cell_type": "markdown",
      "source": [
        "where the $c_i$ depends only on higher derivatives of $f$ at $a$ and $b$ and not on $h$. eg, $c_2 = \\frac{f'(a) - f'(b)}{12}$. bc there are no odd power terms, extrapolation yields a 4th order formula and extrapolating that yields a 6th order formula, usw."
      ],
      "metadata": {
        "id": "NmiLoKBuWgdV"
      }
    },
    {
      "cell_type": "markdown",
      "source": [
        "extrapolation evaluates the formula at $h$ and $\\frac{h}{2}$, which leads to"
      ],
      "metadata": {
        "id": "ZdUVUUkHd96n"
      }
    },
    {
      "cell_type": "markdown",
      "source": [
        "\\begin{align}\n",
        "h_1 &= b-a \\\\\n",
        "h_2 &= \\frac{1}{2}(b-a) \\\\\n",
        "&\\vdots \\\\\n",
        "h_j &= \\frac{1}{2^{j-1}}(b-a).\n",
        "\\end{align}"
      ],
      "metadata": {
        "id": "KUnu6_-JWj64"
      }
    },
    {
      "cell_type": "markdown",
      "source": [
        "to approximate this quantity $M = \\int_a^b f(x)dx$, define formulas $R_{j,1}$ as composite trapezoid rule using $h_j$. ie, $R_{j+1,1}$ is exactly $R_{j,1}$ with its step size cut in half. note the overlap."
      ],
      "metadata": {
        "id": "k8iWUikEeBfR"
      }
    },
    {
      "cell_type": "markdown",
      "source": [
        "\\begin{align}\n",
        "  R_{1,1} &= \\frac{h_1}{2}(f(a) + f(b)) \\\\\n",
        "  \\\\\n",
        "  R_{2,1} &= \\frac{h_2}{2} \\left(\n",
        "    f(a) + f(b) + 2f \\left( \\frac{a+b}{2} \\right)\n",
        "  \\right) \\\\\n",
        "  \\\\\n",
        "  &= \\frac{1}{2}R_{1,1} + h_2f\\left(\\frac{a+b}{2}\\right) \\\\\n",
        "  \\\\\n",
        "  &\\vdots \\\\\n",
        "  \\\\\n",
        "  \\color{green}{\\bf R_{j,1}}\n",
        "    &\\color{green}{\\bf = \\frac{1}{2}R_{j-1,1} + h_j\\sum_{i=1}^{2^{j-2}} f(a + (2i-1)h_j)}.\n",
        "\\end{align}"
      ],
      "metadata": {
        "id": "QJH0lh5eWntW"
      }
    },
    {
      "cell_type": "markdown",
      "source": [
        "and extrapolation populates the rest of the tableau."
      ],
      "metadata": {
        "id": "UQrwjjGAeFQI"
      }
    },
    {
      "cell_type": "markdown",
      "source": [
        "\\begin{array}{l}\n",
        "  \\color{green}{R_{1,1}} \\\\\n",
        "  \\\\\n",
        "  \\color{green}{R_{2,1}} &\\color{blue}{\\quad R_{2,2}} \\\\\n",
        "  \\\\\n",
        "  \\color{green}{R_{3,1}} &\\color{blue}{\\quad R_{3,2}}\n",
        "    &\\color{blue}{\\quad R_{3,3}} \\\\\n",
        "  \\\\\n",
        "  \\color{green}{\\vdots} &&&\\color{blue}{\\ddots}\n",
        "\\end{array}"
      ],
      "metadata": {
        "id": "gIbxxnfmWxye"
      }
    },
    {
      "cell_type": "markdown",
      "source": [
        "the second column relates to the first column and the third column relates to the second column und so weiter."
      ],
      "metadata": {
        "id": "go7uZYb6eIdg"
      }
    },
    {
      "cell_type": "markdown",
      "source": [
        "\\begin{align}\n",
        "  R_{2,2} &= \\frac{2^2R_{2,1} - R_{1,1}}{3} \\\\\n",
        "  \\\\\n",
        "  R_{3,2} &= \\frac{2^2R_{3,1} - R_{2,1}}{3}\n",
        "    &\\quad\\quad R_{3,3} &= \\frac{4^2R_{3,2} - R_{2,2}}{4^2-1} \\\\\n",
        "  \\\\\n",
        "  R_{4,2} &= \\frac{2^2R_{4,1} - R_{3,1}}{3}\n",
        "    &\\quad\\quad R_{4,3} &= \\frac{4^2R_{4,2} - R_{3,2}}{4^2-1}\n",
        "    &\\quad\\quad\\quad\\quad\\quad\\quad\n",
        "      R_{4,4} &= \\frac{4^3R_{4,3} - R_{3,3}}{4^3-1} \\\\\n",
        "  \\\\\n",
        "  &\\vdots &&&&& &\\ddots \\\\\n",
        "  \\\\\n",
        "  \\color{blue}{\\bf R_{j,k}}\n",
        "    &\\color{blue}{\\bf = \\frac{4^{k-1}R_{j,k-1} - R_{j-1,k-1}}{4^{k-1}-1}}\n",
        "  &\\quad\\quad &\\cdots\n",
        "  &\\quad\\quad &\\cdots\n",
        "\\end{align}"
      ],
      "metadata": {
        "id": "nr1UY-hp7kAN"
      }
    },
    {
      "cell_type": "markdown",
      "source": [
        "ie, for this lower triangular matrix, the best approximation for definite integral $M$ is $R_{j,j}$, the $j$th order approximation. romberg as an algorithm is the calculation of $R_{j,1}$ and $R_{j,k}$."
      ],
      "metadata": {
        "id": "oiyD1C2UW1zH"
      }
    },
    {
      "cell_type": "markdown",
      "source": [
        "###### algorithm, romberg"
      ],
      "metadata": {
        "id": "0GQ9v5HiZKGF"
      }
    },
    {
      "cell_type": "markdown",
      "source": [
        "modified from sauer, 2nd ed, p267.\n",
        "\n",
        "```\n",
        "R[1,1] = (b-a)*(f(a) + f(b))/2\n",
        "\n",
        "for j in range(2,deg) # degree wanted\n",
        "  h[j] = (b-a)/pow(2,j-1)\n",
        "\n",
        "  sum = 0\n",
        "  for i in range(pow(2,j-2)) # [0,pow(2,j-2))\n",
        "    sum += f(a + (2i-1)*h[j])\n",
        "  R[j,1] = R[j-1,1]/2 + h[j]*sum\n",
        "\n",
        "  for j in range(2,j+1) # [2,j]\n",
        "    R[j,k] = (pow(4,k-1)*R[j,k-1] - R[j-1,k-1])/(pow(4,k-1) -1)\n",
        "```"
      ],
      "metadata": {
        "id": "7-hEtJhZZQFb"
      }
    }
  ]
}