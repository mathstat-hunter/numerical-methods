{
  "nbformat": 4,
  "nbformat_minor": 0,
  "metadata": {
    "colab": {
      "provenance": [],
      "collapsed_sections": [
        "Z0bTRPTfMd7e",
        "0Mk7nZDofqfn",
        "zLCqUHl-fw1i",
        "avol6aQbf4Li"
      ]
    },
    "kernelspec": {
      "name": "python3",
      "display_name": "Python 3"
    },
    "language_info": {
      "name": "python"
    }
  },
  "cells": [
    {
      "cell_type": "markdown",
      "source": [
        "# 05.05 gaussian quadrature"
      ],
      "metadata": {
        "id": "qIZbKBpWolzT"
      }
    },
    {
      "cell_type": "markdown",
      "source": [
        "##### code, support for section text"
      ],
      "metadata": {
        "id": "Z0bTRPTfMd7e"
      }
    },
    {
      "cell_type": "code",
      "source": [
        "if True: # settings for the people\n",
        "  import matplotlib.pyplot as plt\n",
        "  import numpy as np\n",
        "  import scipy as sp\n",
        "  import sympy as sy\n",
        "  from tabulate import tabulate"
      ],
      "metadata": {
        "id": "o2cneo5QMjio"
      },
      "execution_count": null,
      "outputs": []
    },
    {
      "cell_type": "markdown",
      "source": [
        "###### code, legendre"
      ],
      "metadata": {
        "id": "0Mk7nZDofqfn"
      }
    },
    {
      "cell_type": "code",
      "source": [
        "def legendre(n,x):\n",
        "  if n == 0:\n",
        "    return np.ones_like(x)\n",
        "  elif n == 1:\n",
        "    return x\n",
        "  else:\n",
        "    return ((2*n-1)*x*legendre(n-1,x) - (n-1)*legendre(n-2,x)) /n\n"
      ],
      "metadata": {
        "id": "ZU4z01QxMiuR"
      },
      "execution_count": null,
      "outputs": []
    },
    {
      "cell_type": "code",
      "source": [
        "def legendre_dp(n, x):\n",
        "  return n*(x*legendre(n,x) - legendre(n-1,x)) /(x**2 - 1)"
      ],
      "metadata": {
        "id": "ROzdRe38eJAt"
      },
      "execution_count": null,
      "outputs": []
    },
    {
      "cell_type": "code",
      "source": [
        "def legendre_roots(n, max_iterations=100,tolerance=1e-15):\n",
        "  roots = np.cos(np.pi*(4*np.arange(1,n+1)-1)/(4*n+2)) # initial guess\n",
        "\n",
        "  for _ in range(max_iterations):\n",
        "    p = legendre(n,roots)\n",
        "    p_prime = legendre_dp(n,roots)\n",
        "\n",
        "    new_roots = roots - p / p_prime\n",
        "    if np.all(np.abs(new_roots - roots) < tolerance):\n",
        "      roots = new_roots\n",
        "      break\n",
        "    roots = new_roots\n",
        "\n",
        "  weights = 2 / ((1-roots**2)*p_prime**2)\n",
        "  return roots, weights\n"
      ],
      "metadata": {
        "id": "1m6S8XGZameA"
      },
      "execution_count": null,
      "outputs": []
    },
    {
      "cell_type": "markdown",
      "source": [
        "###### code, images in order of appearance"
      ],
      "metadata": {
        "id": "zLCqUHl-fw1i"
      }
    },
    {
      "cell_type": "code",
      "source": [
        "# visual, display n legendre polynomials on [-1,1]\n",
        "\n",
        "def do_something(n):\n",
        "  '''\n",
        "  n: degree of legendre polynomial\n",
        "  '''\n",
        "\n",
        "  # data\n",
        "  xx = (-1,1)\n",
        "  xs = np.linspace(xx[0],xx[1],101)\n",
        "\n",
        "  # plot, data\n",
        "  for i in range(n):\n",
        "    plt.plot(xs,legendre(i,xs),label=f\"$P_{i}$\")\n",
        "\n",
        "  # plot, style\n",
        "  plt.title(\"legendre polynomials\\n\") # ,y=-0.1,pad=-14) # for title below\n",
        "  plt.legend(bbox_to_anchor=(1.01,1.01),loc='upper left')\n",
        "  plt.grid()\n",
        "\n",
        "  # plot, show\n",
        "  plt.show()\n"
      ],
      "metadata": {
        "id": "FJ0YlTpoM4Zo"
      },
      "execution_count": null,
      "outputs": []
    },
    {
      "cell_type": "code",
      "source": [
        "# visual, display for gaussian quadrature roots and coefficients\n",
        "\n",
        "def do_something_else():\n",
        "  data = []\n",
        "  for i in range(2,5):\n",
        "    xs,ws = sp.special.roots_legendre(i)\n",
        "    xs_ih,ws_ih = legendre_roots(i) # in-house\n",
        "    for x,w,x_ih,w_ih in zip(xs,ws,xs_ih,ws_ih):\n",
        "      data.append([i,x,x_ih,w,w_ih])\n",
        "\n",
        "  print(\"\\nscipy.special.roots_legendre(n) & in-house\\n\")\n",
        "  print(tabulate(data,headers=[\"n\",\"roots\",\"in-house\",\"coeffs\",\"in-house\"],tablefmt=\"github\"),\"\\n\")\n"
      ],
      "metadata": {
        "id": "JdxSSCTlW_b7"
      },
      "execution_count": null,
      "outputs": []
    },
    {
      "cell_type": "markdown",
      "source": [
        "###### code, examples"
      ],
      "metadata": {
        "id": "avol6aQbf4Li"
      }
    },
    {
      "cell_type": "code",
      "source": [
        "# example 15: gaussian guadrature vs some stuff\n",
        "\n",
        "def ex15(f,xx,n,d):\n",
        "\n",
        "  # gaussian quadrature, fixed order\n",
        "  s_gq,meh = sp.integrate.fixed_quad(f,xx[0],xx[1],n=n) # degree 4\n",
        "  print() # spacer\n",
        "  print(f\"gaussian quadrature {s_gq}\")\n",
        "  print() # spacer\n",
        "\n",
        "  # romberg, fixed step h\n",
        "  h = (xx[1]-xx[0])/d\n",
        "  xs = np.linspace(xx[0],xx[1],d+1)\n",
        "  sp.integrate.romb(f(xs),dx=h,show=True)\n",
        "\n",
        "  # benchmark: fortran QUADPACK which uses lots of stuff\n",
        "  s_gq,meh = sp.integrate.quad(f,xx[0],xx[1]) # ,maxiter=4)\n",
        "  print() # spacer\n",
        "  print(f\"benchmark {s_gq} with error estimate {meh:.16e}\")\n"
      ],
      "metadata": {
        "id": "YuE1zgwkVSil"
      },
      "execution_count": null,
      "outputs": []
    },
    {
      "cell_type": "markdown",
      "source": [
        "## 0 intro"
      ],
      "metadata": {
        "id": "tr2MJfebfdUA"
      }
    },
    {
      "cell_type": "markdown",
      "source": [
        "the precision of quadrature is the degree of its polynomial without error. newton-cotes of degree $n$ has precision $n$ (for $n$ odd) and $n+1$ for (for $n$ even). ie, trapezoid is degree 1, precision one and simpsons is degree 2, precise up to and including third degree polynomials."
      ],
      "metadata": {
        "id": "tRXgIglcrYRq"
      }
    },
    {
      "cell_type": "markdown",
      "source": [
        "newton-cotes achieves these precisions for evenly spaced points. so if quadrature does away with \"evenly spaced\", what other methods might swap out newton-cotes? does this course not swing between newton and gauss, so guess whos back."
      ],
      "metadata": {
        "id": "OvHN6hTxrfza"
      }
    },
    {
      "cell_type": "markdown",
      "source": [
        "given $n+1$ points, gaussian quadrature has precision $2n+1$, double that of newton."
      ],
      "metadata": {
        "id": "GlwJh05iqxB5"
      }
    },
    {
      "cell_type": "markdown",
      "source": [
        "##### <b><font color=grey>definition 03</font> orthogonal functions</b>"
      ],
      "metadata": {
        "id": "Xlr3d-mhPW1E"
      }
    },
    {
      "cell_type": "markdown",
      "source": [
        "the set of nonzero functions ${p_0,\\dots,p_n}$ on interval $[a,b]$ is orthogonal on $[a,b]$ if"
      ],
      "metadata": {
        "id": "QrroT4dKrkV6"
      }
    },
    {
      "cell_type": "markdown",
      "source": [
        "\\begin{align}\n",
        "  \\int_a^b p_j(x)\\; p_k(x)\\; dx =\n",
        "  \\left\\{\n",
        "    \\begin{array}{r l}\n",
        "      0 & j\\ne k \\\\\n",
        "      \\ne 0 & j=k.\n",
        "    \\end{array}\n",
        "  \\right.\n",
        "\\end{align}"
      ],
      "metadata": {
        "id": "rrNC1gEMPBYz"
      }
    },
    {
      "cell_type": "markdown",
      "source": [
        "##### <b><font color=grey>theorem 04</font></b>"
      ],
      "metadata": {
        "id": "Cpgso8otPfdL"
      }
    },
    {
      "cell_type": "markdown",
      "source": [
        "if $\\{p_0, p_1,\\dots,p_n\\}$ is an orthogonal set of polynomials on the interval $[a,b]$, where degree $p_i = i$, then $\\{p_0, p_1,\\dots,p_n\\}$ is a basis for the vector space of degree at most $n$ polynomials on $[a,b]$."
      ],
      "metadata": {
        "id": "VgWFF22YPCEL"
      }
    },
    {
      "cell_type": "markdown",
      "source": [
        "##### <b><font color=grey>theorem 05</font></b>"
      ],
      "metadata": {
        "id": "5d-UWsXGPqp1"
      }
    },
    {
      "cell_type": "markdown",
      "source": [
        "if $\\{p_0, p_1,\\dots,p_n\\}$ is an orthogonal set of polynomials on the interval $[a,b]$ and if degree $p_i = i$, then $p_i$ has $i$ distinct roots in the interval $(a,b)$."
      ],
      "metadata": {
        "id": "kJk0QJ9E5bO7"
      }
    },
    {
      "cell_type": "markdown",
      "source": [
        "##### usw"
      ],
      "metadata": {
        "id": "it2lCcDKPxm7"
      }
    },
    {
      "cell_type": "markdown",
      "source": [
        "orthogonality defines and solves least squares problems; <b>gaussian quadrature makes use of orthogonal basis sets</b>."
      ],
      "metadata": {
        "id": "r1z0aXmh8wox"
      }
    },
    {
      "cell_type": "markdown",
      "source": [
        "##### example 13"
      ],
      "metadata": {
        "id": "TRTQHgxqDQdc"
      }
    },
    {
      "cell_type": "markdown",
      "source": [
        "find a set of three orthogonal polynomials on the interval $[-1,1]$."
      ],
      "metadata": {
        "id": "ddAoBeaUDSTB"
      }
    },
    {
      "cell_type": "markdown",
      "source": [
        "easy picks of $p_0(x) = x^0 = 1, p_1(x) = x$ bc"
      ],
      "metadata": {
        "id": "u-EExERnrr9i"
      }
    },
    {
      "cell_type": "markdown",
      "source": [
        "$$\\int_{-1}^1\\, 1\\cdot x\\, dx = 0.$$"
      ],
      "metadata": {
        "id": "72_yQdmwrtqS"
      }
    },
    {
      "cell_type": "markdown",
      "source": [
        "$p_2(x) = x^2$ lacks orthogonality with $p_0(x)$,"
      ],
      "metadata": {
        "id": "jo6T8yjVr0Xr"
      }
    },
    {
      "cell_type": "markdown",
      "source": [
        "$$\\int_{-1}^1 1\\cdot x^2\\, dx = \\frac{2}{3} \\ne 0.$$"
      ],
      "metadata": {
        "id": "ghbhb5ZVr2Za"
      }
    },
    {
      "cell_type": "markdown",
      "source": [
        "however, with $p_2(x) = x^2 + c$,"
      ],
      "metadata": {
        "id": "lFNdmLqCr4WS"
      }
    },
    {
      "cell_type": "markdown",
      "source": [
        "$$\\int_{-1}^1 1\\cdot (x^2 + c)\\, dx = \\frac{2}{3} + 2c = 0$$"
      ],
      "metadata": {
        "id": "Fn6Up9NFr7aj"
      }
    },
    {
      "cell_type": "markdown",
      "source": [
        "where $c = -\\frac{1}{3}$. ie, set $\\{1,x,x^2 - \\frac{1}{3}\\}$ is an orthogonal set on $[-1,1]$. and those polynomials are also legendre polynomials."
      ],
      "metadata": {
        "id": "HCT-tJ08DYcS"
      }
    },
    {
      "cell_type": "markdown",
      "source": [
        "##### example 14: legendre polynomials"
      ],
      "metadata": {
        "id": "aTSWus_l_Dx_"
      }
    },
    {
      "cell_type": "markdown",
      "source": [
        "show the set of legendre polynomials"
      ],
      "metadata": {
        "id": "65fAoUsbsJyb"
      }
    },
    {
      "cell_type": "markdown",
      "source": [
        "$$p_i(x) = \\frac{1}{2^ii!}\\frac{d^i}{dx^i}[(x^2-1)^i]$$"
      ],
      "metadata": {
        "id": "-jgWNhQ1sMR0"
      }
    },
    {
      "cell_type": "markdown",
      "source": [
        "for $0\\le i\\le n$ is orthogonal on $[-1,1]$."
      ],
      "metadata": {
        "id": "s6nz2oZmDHSF"
      }
    },
    {
      "cell_type": "markdown",
      "source": [
        "note that $p_i(x)$ is degree $i$ polynomial and the $i$th derivative of $(x^2-1)^j$ is divisible by $(x^2-1)$ if $i<j$."
      ],
      "metadata": {
        "id": "WbStcfkQPRWk"
      }
    },
    {
      "cell_type": "markdown",
      "source": [
        "if $i<j$ then"
      ],
      "metadata": {
        "id": "UFtxb5CasPfr"
      }
    },
    {
      "cell_type": "markdown",
      "source": [
        "$$\\int_{-1}^1 [(x^2-1)^i]^{(i)}[(x^2-1)^j]^{(j)}dx$$"
      ],
      "metadata": {
        "id": "3pmMZmr6sRXb"
      }
    },
    {
      "cell_type": "markdown",
      "source": [
        "is zero. integrate by parts with $u=[(x^2-1)^i]^{(i)}$ and $dv=[(x^2-1)^j]^{(j)}dx$."
      ],
      "metadata": {
        "id": "Ht0k4PDcsTfy"
      }
    },
    {
      "cell_type": "markdown",
      "source": [
        "\\begin{align}\n",
        "  uv - \\int_{-1}^1 vdu\n",
        "    &= \\left. [(x^2-1)^i]^{(i)}[(x^2-1)^j]^{(j-1)} \\right|_{-1}^1\n",
        "    - \\int_{-1}^1 [(x^2-1)^i]^{(i+1)}[(x^2-1)^j]^{(j-1)}dx \\\\\n",
        "  \\\\\n",
        "  &= - \\int_{-1}^1 [(x^2-1)^i]^{(i+1)}[(x^2-1)^j]^{(j-1)}dx\n",
        "\\end{align}"
      ],
      "metadata": {
        "id": "wZzan1XcPoh0"
      }
    },
    {
      "cell_type": "markdown",
      "source": [
        "bc $[(x^2-1)^j]^{(j-1)}$ divisible by $(x^2-1)$. after $i+1$ repetions of integration by parts,"
      ],
      "metadata": {
        "id": "76pAXa_hsWZz"
      }
    },
    {
      "cell_type": "markdown",
      "source": [
        "$$(-1)^{i+1} \\int_{-1}^1 [(x^2-1)^i]^{(2i+1)}[(x^2-1)^j]^{(j-i-1)}dx = 0$$"
      ],
      "metadata": {
        "id": "zdt6u_GssZuC"
      }
    },
    {
      "cell_type": "markdown",
      "source": [
        "bc $(2i - 1)^i$ is zero. lol?"
      ],
      "metadata": {
        "id": "gjpO_YyCFG7B"
      }
    },
    {
      "cell_type": "code",
      "source": [
        "do_something(6) # n = number of polynomials to show\n"
      ],
      "metadata": {
        "colab": {
          "base_uri": "https://localhost:8080/",
          "height": 473
        },
        "id": "DOteYfw-Hk1s",
        "outputId": "295d730b-2341-4f90-c7ac-c68fda11c8ad"
      },
      "execution_count": null,
      "outputs": [
        {
          "output_type": "display_data",
          "data": {
            "text/plain": [
              "<Figure size 640x480 with 1 Axes>"
            ],
            "image/png": "[encoded data removed]"
          },
          "metadata": {}
        }
      ]
    },
    {
      "cell_type": "markdown",
      "source": [
        "$n$th legendre polynomial has $n$ roots $x_1,\\dots,x_n$ in $[-1,1]$. guassian quadrature of a function is a linear combination of functions evaluated at legendre roots. ie, approximate the integral of the desired function by the intergral of the interpolating polynomial -- whose nodes are legendre roots."
      ],
      "metadata": {
        "id": "kM1ZtLYrQGRM"
      }
    },
    {
      "cell_type": "markdown",
      "source": [
        "ie, choose $n$ and let $Q(x)$ be the interpolating polynomial for $f(x)$ at nodes $x_1,\\dots,x_n$. using lagrange,"
      ],
      "metadata": {
        "id": "8a3baRPrsdJz"
      }
    },
    {
      "cell_type": "markdown",
      "source": [
        "$$Q(x) = \\sum_{i=1}^n L_i(x)f(x_i), \\quad L_i(x) = \\frac{(x-x_1)\\dots(x-x_i)\\dots(x-x_n)}{(x_i-x_1)\\dots(x_i-x_i)\\dots(x_i-x_n)}.$$"
      ],
      "metadata": {
        "id": "kTD4H9sEse9b"
      }
    },
    {
      "cell_type": "markdown",
      "source": [
        "integrating results in the following approximation."
      ],
      "metadata": {
        "id": "Ds93mNx2J-Rt"
      }
    },
    {
      "cell_type": "markdown",
      "source": [
        "###### <b>gaussian quadrature</b>"
      ],
      "metadata": {
        "id": "tARogvB3QFe5"
      }
    },
    {
      "cell_type": "markdown",
      "source": [
        "$$\\int_{-1}^1 f(x)dx \\approx \\sum_{i=1}^n c_if(x_i), \\quad c_i = \\int_{-1}^1 L_i(x)dx, i = 1,\\dots,n.$$"
      ],
      "metadata": {
        "id": "fXSo8a0WQLXr"
      }
    },
    {
      "cell_type": "markdown",
      "source": [
        "programmatically,"
      ],
      "metadata": {
        "id": "KTyPQf59kvPU"
      }
    },
    {
      "cell_type": "code",
      "source": [
        "do_something_else() # values within reach\n"
      ],
      "metadata": {
        "colab": {
          "base_uri": "https://localhost:8080/"
        },
        "id": "Mxmmpre2e_vm",
        "outputId": "07248563-de0e-48ef-a841-15e10455360b"
      },
      "execution_count": null,
      "outputs": [
        {
          "output_type": "stream",
          "name": "stdout",
          "text": [
            "\n",
            "scipy.special.roots_legendre(n) & in-house\n",
            "\n",
            "|   n |     roots |   in-house |   coeffs |   in-house |\n",
            "|-----|-----------|------------|----------|------------|\n",
            "|   2 | -0.57735  |   0.57735  | 1        |   1        |\n",
            "|   2 |  0.57735  |  -0.57735  | 1        |   1        |\n",
            "|   3 | -0.774597 |   0.774597 | 0.555556 |   0.555556 |\n",
            "|   3 |  0        |   0        | 0.888889 |   0.888889 |\n",
            "|   3 |  0.774597 |  -0.774597 | 0.555556 |   0.555556 |\n",
            "|   4 | -0.861136 |   0.861136 | 0.347855 |   0.347855 |\n",
            "|   4 | -0.339981 |   0.339981 | 0.652145 |   0.652145 |\n",
            "|   4 |  0.339981 |  -0.339981 | 0.652145 |   0.652145 |\n",
            "|   4 |  0.861136 |  -0.861136 | 0.347855 |   0.347855 | \n",
            "\n"
          ]
        }
      ]
    },
    {
      "cell_type": "markdown",
      "source": [
        "and fashionably,"
      ],
      "metadata": {
        "id": "e9yVhJmpksIf"
      }
    },
    {
      "cell_type": "markdown",
      "source": [
        "$$\n",
        "\\begin{array}{|c|r|r|}\n",
        "  \\hline\n",
        "  n & \\text{roots }x_i \\qquad\\qquad\\qquad\\enspace & \\text{coefficients } c_i \\qquad\\qquad \\\\\n",
        "  \\hline\n",
        "  2 &\n",
        "    \\begin{array}{r c r}\n",
        "      -\\sqrt{1/3} &= &-0.57735026918963 \\\\\n",
        "       \\sqrt{1/3} &= & 0.57735026918963\n",
        "    \\end{array}\n",
        "  &\n",
        "    \\begin{array}{c c r}\n",
        "      1 &= & 1.00000000000000 \\\\\n",
        "      1 &= & 1.00000000000000\n",
        "    \\end{array} \\\\\n",
        "  \\hline\n",
        "  3 &\n",
        "    \\begin{array}{r c r}\n",
        "      -\\sqrt{3/5} &= &-0.77459666924148 \\\\\n",
        "                0 &= & 0.00000000000000 \\\\\n",
        "       \\sqrt{3/5} &= & 0.77459666924148\n",
        "    \\end{array}\n",
        "  &\n",
        "    \\begin{array}{c c r}\n",
        "      5/9 &= & 0.55555555555555 \\\\\n",
        "      8/9 &= & 0.88888888888888 \\\\\n",
        "      5/9 &= & 0.55555555555555\n",
        "    \\end{array} \\\\\n",
        "  \\hline\n",
        "  4 &\n",
        "    \\begin{array}{r c r}\n",
        "      -\\sqrt{\\frac{15+2\\sqrt{30}}{35}} &= &-0.86113631159405 \\\\\n",
        "      -\\sqrt{\\frac{15-2\\sqrt{30}}{35}} &= &-0.33998104358486 \\\\\n",
        "       \\sqrt{\\frac{15-2\\sqrt{30}}{35}} &= & 0.33998104358486 \\\\\n",
        "       \\sqrt{\\frac{15+2\\sqrt{30}}{35}} &= & 0.86113631159405 \\\\\n",
        "    \\end{array}\n",
        "  &\n",
        "    \\begin{array}{c c r}\n",
        "      \\sqrt{\\frac{90-5\\sqrt{30}}{180}} &= & 0.34785484513745 \\\\\n",
        "      \\sqrt{\\frac{90+5\\sqrt{30}}{180}} &= & 0.65214515486255 \\\\\n",
        "      \\sqrt{\\frac{90+5\\sqrt{30}}{180}} &= & 0.65214515486255 \\\\\n",
        "      \\sqrt{\\frac{90-5\\sqrt{30}}{180}} &= & 0.34785484513745 \\\\\n",
        "    \\end{array} \\\\\n",
        "  \\hline\n",
        "\\end{array}\n",
        "$$"
      ],
      "metadata": {
        "id": "DtuhaY5efHl4"
      }
    },
    {
      "cell_type": "markdown",
      "source": [
        "yes, there are old-fashioned tables for $c_i$!"
      ],
      "metadata": {
        "id": "I3k_QSvuTrz_"
      }
    },
    {
      "cell_type": "markdown",
      "source": [
        "##### example 15"
      ],
      "metadata": {
        "id": "8K9dS_ryQaB0"
      }
    },
    {
      "cell_type": "markdown",
      "source": [
        "approximate $\\int_{-1}^1 e^{\\frac{x^2}{2}}dx$ using gaussian quadrature."
      ],
      "metadata": {
        "id": "0u6v5pgasoEk"
      }
    },
    {
      "cell_type": "markdown",
      "source": [
        "\\begin{align}\n",
        "  n=2 \\quad\n",
        "    &\\approx \\quad c_1f(x_1) + c_2f(x_2)\n",
        "    = 1\\cdot f(-\\sqrt{\\frac{1}{3}}) + 1\\cdot f(\\sqrt{\\frac{1}{3}}) \\\\\n",
        "  \\\\\n",
        "  n=3 \\quad\n",
        "    &\\approx \\quad c_1f(x_1) + c_2f(x_2) + c_3f(x_3)\n",
        "    = \\frac{5}{9}\\cdot f(-\\sqrt{\\frac{3}{5}})\n",
        "      + \\frac{8}{9}\\cdot f(0)\n",
        "      + \\frac{5}{9}\\cdot \\sqrt{\\frac{5}{9}}) \\\\\n",
        "  \\\\\n",
        "  n=4 \\quad\n",
        "    &\\approx \\quad c_1f(x_1) + c_2f(x_2) + c_3f(x_3) + c_4f(x_4)\n",
        "    = \\frac{90-5\\sqrt{30}}{180}\n",
        "      \\cdot f(-\\sqrt{\\frac{15+2\\sqrt{30}}{35}})\n",
        "      + \\dots\n",
        "\\end{align}"
      ],
      "metadata": {
        "id": "0N0VkPdMssHr"
      }
    },
    {
      "cell_type": "markdown",
      "source": [
        "compare code results below for gaussian quadrature (at $n=4$ function evaluations) with romberg fixed step $R_{3,3}$ (which requires 5 function evaluations)."
      ],
      "metadata": {
        "id": "ozip58DSQUVr"
      }
    },
    {
      "cell_type": "code",
      "source": [
        "ex15(lambda x: np.exp(-pow(x,2)/2.),(-1,1),n=4,d=4) # d=4 to get R₃₃\n"
      ],
      "metadata": {
        "colab": {
          "base_uri": "https://localhost:8080/"
        },
        "id": "0ds2KbdQZmYx",
        "outputId": "66b2310c-f868-45ee-9a0e-31081976f3c4"
      },
      "execution_count": null,
      "outputs": [
        {
          "output_type": "stream",
          "name": "stdout",
          "text": [
            "\n",
            "gaussian quadrature 1.7112245045994898\n",
            "\n",
            "Richardson Extrapolation Table for Romberg Integration\n",
            "======================================================\n",
            " 1.21306 \n",
            " 1.60653  1.73769 \n",
            " 1.68576  1.71217  1.71047 \n",
            "======================================================\n",
            "\n",
            "benchmark 1.7112487837842973 with error estimate 1.8998678006191232e-14\n"
          ]
        }
      ]
    },
    {
      "cell_type": "markdown",
      "source": [
        "##### usw: why do the gaussian quadrature roots work so well?"
      ],
      "metadata": {
        "id": "AiHoHFYQQo3k"
      }
    },
    {
      "cell_type": "markdown",
      "source": [
        "##### <b><font color=grey>theorem 06</font></b>: guassian quadrature precision"
      ],
      "metadata": {
        "id": "v5YqL2RnQ1FT"
      }
    },
    {
      "cell_type": "markdown",
      "source": [
        "gaussian quadrature using the $n$ degree legendre polynomial on $[-1,1]$ has precision $2n-1$."
      ],
      "metadata": {
        "id": "t8rU5mnPQ7v9"
      }
    },
    {
      "cell_type": "markdown",
      "source": [
        "###### proof"
      ],
      "metadata": {
        "id": "pPPqs-hZRB6s"
      }
    },
    {
      "cell_type": "markdown",
      "source": [
        "let $P(x)$ be polynomial of degree at most $2n-1$. show it is integrated exactly by gaussian quadrature."
      ],
      "metadata": {
        "id": "Oi0qXHSpRAdO"
      }
    },
    {
      "cell_type": "markdown",
      "source": [
        "by long division,"
      ],
      "metadata": {
        "id": "IoQPRG-KsxJM"
      }
    },
    {
      "cell_type": "markdown",
      "source": [
        "$$P(x) = S(x)p_n(x) + R(x)$$"
      ],
      "metadata": {
        "id": "fxmqDugRsyr7"
      }
    },
    {
      "cell_type": "markdown",
      "source": [
        "where $S(x)$ and $R(x)$ are polynomials of degree less than $n$. gaussian quadrature will be exact on $R(x)$ bc it integrates the interpolating polynomial of degree $n-1$, which is identical to $R(x)$."
      ],
      "metadata": {
        "id": "H-ndf-sGRDd-"
      }
    },
    {
      "cell_type": "markdown",
      "source": [
        "at the roots $x_i$ of the $n$th legendre polynomial, $P(x_i) = R(x_i)$, since $p_n(x_i) = 0$ for all $i$. this implies their gaussian quadrature approximations will be the same. their integrals are also identical."
      ],
      "metadata": {
        "id": "w_IVGqBiRGAe"
      }
    },
    {
      "cell_type": "markdown",
      "source": [
        "$$\\int_{-1}^1 P(x)\\, dx = \\int_{-1}^1 S(x)p_n(x)\\, dx + \\int_{-1}^1 R(x)\\, dx = 0 + \\int_{-1}^1 R(x)\\, dx$$"
      ],
      "metadata": {
        "id": "Pz7OUoH6s780"
      }
    },
    {
      "cell_type": "markdown",
      "source": [
        "by theorem 5.4, $S(x)$ can be written as a linear combination of polynomials of degree less than $n$, which are orthogonal to $p_n(x)$. since gaussian quadrature is exact on $R(x)$, it must also be for $P(x)$. $\\blacksquare$"
      ],
      "metadata": {
        "id": "d-pgRFxWjLqy"
      }
    },
    {
      "cell_type": "markdown",
      "source": [
        "also, to approximate integrals on a general $[a,b]$, translate it back to $[-1,1]$. eg, $t = \\frac{(2x-a-b)}{(b-a)}$ such that"
      ],
      "metadata": {
        "id": "slq8Ntdys-us"
      }
    },
    {
      "cell_type": "markdown",
      "source": [
        "$$\\int_a^b f(x)\\, dx = \\int_{-1}^1 f\\left( \\frac{(b-a)\\cdot t + b + a}{2} \\right) \\frac{b-a}{2}\\, dt$$"
      ],
      "metadata": {
        "id": "4uNwK4m814MO"
      }
    },
    {
      "cell_type": "markdown",
      "source": [
        "##### <b><font color=grey>theorem 07</font></b>: guassian quadrature optimality"
      ],
      "metadata": {
        "id": "6HZVf_uzl-HR"
      }
    },
    {
      "cell_type": "markdown",
      "source": [
        "no $n$-point quadrature rule can have a degree of precision higher than $2n-1$."
      ],
      "metadata": {
        "id": "9Gx2cc8pmG0_"
      }
    },
    {
      "cell_type": "markdown",
      "source": [
        "###### proof"
      ],
      "metadata": {
        "id": "QJmPflVpnzRo"
      }
    },
    {
      "cell_type": "markdown",
      "source": [
        "1. an $n$-point quadrature has $2n$ parameters: $n$ nodes $x_1, \\dots, x_n$ and $n$ weights $w_1, \\dots, w_n$. ie, $\\int f(x)dx \\approx \\sum w_if(x_i)$.\n",
        "\n",
        "2. for a quadrature to have degree of precision $k$, it must exactly integrate all polynomials up to degree $k$. ie, $\\int x_i dx = \\sum w_i x_i^j$ for $j = 0,1,\\dots k$. each $j$ gives one equation and $k+1$ are needed for $j=0,1,\\dots,k$.\n",
        "\n",
        "3. each equation $\\sum w_i x_i^j dx$ is independent bc moments of monomials are linearly independent.\n",
        "\n",
        "4. by linear algebra: given $2n$ unknown parameters and $k+1$ equations, then $k+1 \\le 2n \\Rightarrow k \\le 2n-1$. $\\checkmark$"
      ],
      "metadata": {
        "id": "MNB404xUn0xK"
      }
    },
    {
      "cell_type": "markdown",
      "source": [
        "## references"
      ],
      "metadata": {
        "id": "FFW4Jr8aEsru"
      }
    },
    {
      "cell_type": "markdown",
      "source": [
        "* gaussian [@wiki](https://en.wikipedia.org/wiki/Gaussian_quadrature)\n",
        "* quadrature [@scipy](https://docs.scipy.org/doc/scipy/reference/generated/scipy.integrate.quadrature.html)"
      ],
      "metadata": {
        "id": "ghM9IV1c-8BK"
      }
    },
    {
      "cell_type": "markdown",
      "source": [
        "## resources"
      ],
      "metadata": {
        "id": "rMnfTL4lEpOP"
      }
    },
    {
      "cell_type": "markdown",
      "source": [
        "meh, youre fine."
      ],
      "metadata": {
        "id": "WHG65Ruph-RN"
      }
    }
  ]
}