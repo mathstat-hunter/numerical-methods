{
  "nbformat": 4,
  "nbformat_minor": 0,
  "metadata": {
    "colab": {
      "provenance": [],
      "collapsed_sections": [
        "eBfWFD6XQ9ZI",
        "q5t8p9qsaFZw",
        "ubhA5iz6S6sO"
      ]
    },
    "kernelspec": {
      "name": "python3",
      "display_name": "Python 3"
    },
    "language_info": {
      "name": "python"
    }
  },
  "cells": [
    {
      "cell_type": "markdown",
      "source": [
        "# 05.01 numerical differentiation"
      ],
      "metadata": {
        "id": "qIZbKBpWolzT"
      }
    },
    {
      "cell_type": "markdown",
      "source": [
        "##### code, support for section text"
      ],
      "metadata": {
        "id": "eBfWFD6XQ9ZI"
      }
    },
    {
      "cell_type": "code",
      "source": [
        "if True: # settings for the people\n",
        "  import matplotlib.pyplot as plt\n",
        "  import numpy as np\n",
        "  import pandas as pd\n"
      ],
      "metadata": {
        "id": "E1iE6DVuRA9a"
      },
      "execution_count": null,
      "outputs": []
    },
    {
      "cell_type": "markdown",
      "source": [
        "###### code, examples"
      ],
      "metadata": {
        "id": "q5t8p9qsaFZw"
      }
    },
    {
      "cell_type": "code",
      "source": [
        "# 05.01 example 03\n",
        "\n",
        "def eg_03(table=True,plot=True):\n",
        "\n",
        "  # methods\n",
        "  f_2fd = lambda x,h: (np.exp(x+h) - np.exp(x))/h\n",
        "  f_3cd = lambda x,h: (np.exp(x+h) - np.exp(x-h))/(2*h)\n",
        "\n",
        "  # run, parms\n",
        "  x = 0\n",
        "  f_act = np.exp(x) # python as truth\n",
        "  nh = 9\n",
        "  hs = np.zeros((nh))\n",
        "  fs_2fd = hs.copy()\n",
        "  fs_3cd = hs.copy()\n",
        "\n",
        "  for i in range(nh):\n",
        "    hs[i] = pow(10,-(i+1))\n",
        "    fs_2fd[i] = f_2fd(x,hs[i])\n",
        "    fs_3cd[i] = f_3cd(x,hs[i])\n",
        "\n",
        "  if table: # table\n",
        "    # pandas dataframe # only for 4 data points so \"xs\"\n",
        "    ps = np.full((nh,1+2*2),np.nan) # cols = h,(method,error)x2\n",
        "    ps[:,0] = hs\n",
        "    ps[:,1] = fs_2fd\n",
        "    ps[:,2] = f_act - ps[:,1]\n",
        "    ps[:,3] = fs_3cd\n",
        "    ps[:,4] = f_act - ps[:,3]\n",
        "    sCol = [\"h\",\"2fd\",\"2fd,err\",\"3cd\",\"3cd,err\"]\n",
        "    df = pd.DataFrame(data=ps,columns=sCol) # populate dataframe\n",
        "    df[\"h\"] = df[\"h\"].apply(\"{:.2g}\".format)\n",
        "    df[\"2fd\"] = df[\"2fd\"].apply(\"{:.16f}\".format)\n",
        "    df[\"2fd,err\"] = df[\"2fd,err\"].apply(\"{:.16f}\".format)\n",
        "    df[\"3cd\"] = df[\"3cd\"].apply(\"{:.16f}\".format)\n",
        "    df[\"3cd,err\"] = df[\"3cd,err\"].apply(\"{:.16f}\".format)\n",
        "    display(df)\n",
        "\n",
        "  if plot: # plot\n",
        "    fig, ax1 = plt.subplots()\n",
        "    ax2 = ax1.twinx() # 2nd y-axis\n",
        "\n",
        "    # plot, data\n",
        "    ax1.plot(hs,abs(f_act-fs_2fd),color=\"tab:red\",linestyle=\":\")\n",
        "    ax2.plot(hs,abs(f_act-fs_3cd),color=\"tab:blue\",linestyle=\":\")\n",
        "\n",
        "    # plot, style\n",
        "    # shared\n",
        "    plt.title(\"\\nso many steps, so little time\\n\")\n",
        "    ax1.set_xlabel(\"stepsize h\")\n",
        "    ax1.set_xscale(\"log\")\n",
        "    ax1.set_xlim(1e-09,1e-04)\n",
        "    # two-point\n",
        "    ax1.set_ylabel(\"error, two-point forward-difference\",color=\"tab:red\")\n",
        "    ax1.tick_params(axis=\"y\",labelcolor=\"tab:red\")\n",
        "    ax1.set_ylim(0,1e-07)\n",
        "    # three-point\n",
        "    ax2.set_ylabel(\"error, three-point centered difference\",color=\"tab:blue\")\n",
        "    ax2.tick_params(axis=\"y\",labelcolor=\"tab:blue\")\n",
        "    ax2.set_ylim(0,1e-10)\n",
        "\n",
        "    # plot, display\n",
        "    fig.tight_layout()\n",
        "    plt.show()\n"
      ],
      "metadata": {
        "id": "aD7MiCV4Q_NB"
      },
      "execution_count": null,
      "outputs": []
    },
    {
      "cell_type": "markdown",
      "source": [
        "## 0 introduction"
      ],
      "metadata": {
        "id": "hQryE3T4Z1kw"
      }
    },
    {
      "cell_type": "markdown",
      "source": [
        "computational calculus - to compute derivatives and integrals of functions - can be done numerically or symbolically. if trig derivatives are the problem, symbolic is a nice life. if lists of data are the problem, numeric is the only choice bc the function is unknown."
      ],
      "metadata": {
        "id": "X9WLlEbZo1UA"
      }
    },
    {
      "cell_type": "markdown",
      "source": [
        "## 1 finite difference formulas"
      ],
      "metadata": {
        "id": "ROvq1zlppcX4"
      }
    },
    {
      "cell_type": "markdown",
      "source": [
        "definition, for the derivative of $f(x)$ at $x$"
      ],
      "metadata": {
        "id": "wmV6ltfyXMZO"
      }
    },
    {
      "cell_type": "markdown",
      "source": [
        "$$f'(x) = \\lim_{h\\rightarrow 0} \\frac{f(x+h) - f(x)}{h}$$"
      ],
      "metadata": {
        "id": "5wjTBibJXOJg"
      }
    },
    {
      "cell_type": "markdown",
      "source": [
        "provided a limit exists. if $f$ is twice continuously differentiable, by taylors theorem"
      ],
      "metadata": {
        "id": "ZcdzIVvkXPuO"
      }
    },
    {
      "cell_type": "markdown",
      "source": [
        "$$f(x+h) = f(x) + hf'(x) + \\frac{h^2}{2}f''(c)$$"
      ],
      "metadata": {
        "id": "1r1aREjEXRRk"
      }
    },
    {
      "cell_type": "markdown",
      "source": [
        "where $c$ is between $x,x+h$."
      ],
      "metadata": {
        "id": "lR0Qf7BtpmMp"
      }
    },
    {
      "cell_type": "markdown",
      "source": [
        "##### <b>two-point forward-difference formula</b>"
      ],
      "metadata": {
        "id": "D3DEIKEOFC-a"
      }
    },
    {
      "cell_type": "markdown",
      "source": [
        "$$f'(x) = \\frac{f(x+h) - f(x)}{h} - \\frac{h}{2}f''(c)$$"
      ],
      "metadata": {
        "id": "EgCZbe2hXYA1"
      }
    },
    {
      "cell_type": "markdown",
      "source": [
        "where $c$ is between $x,x+h$."
      ],
      "metadata": {
        "id": "809WPlpKFJJ8"
      }
    },
    {
      "cell_type": "markdown",
      "source": [
        "##### usw"
      ],
      "metadata": {
        "id": "sTR6H8SVFghs"
      }
    },
    {
      "cell_type": "markdown",
      "source": [
        "the former does not apply to finite calculations but the latter implies this approximation"
      ],
      "metadata": {
        "id": "xC6n447QXcKr"
      }
    },
    {
      "cell_type": "markdown",
      "source": [
        "$$f'(x) \\approx \\frac{f(x+h) - f(x)}{h}$$"
      ],
      "metadata": {
        "id": "xrDV_gylXdlc"
      }
    },
    {
      "cell_type": "markdown",
      "source": [
        "where convenient $\\frac{h}{2}f''(c)$ gets conveniently rolled up as error $\\mathcal{O}(h^n)$, called \"of order $n$\" and sidelined."
      ],
      "metadata": {
        "id": "QjtKaj3EXgWa"
      }
    },
    {
      "cell_type": "markdown",
      "source": [
        "also, this first order approximation, $c$ depends on $h$. ie, as $h \\rightarrow 0$, $c$ changes. however, if $f''$ is continuous, $f''(c)$ tends toward $f''(x)$ as $h \\rightarrow 0$, legitimizing the formula as first order."
      ],
      "metadata": {
        "id": "RSoW6obbFXyV"
      }
    },
    {
      "cell_type": "markdown",
      "source": [
        "##### <b>convergence</b>"
      ],
      "metadata": {
        "id": "hABxOhcMFmis"
      }
    },
    {
      "cell_type": "markdown",
      "source": [
        "bc this formula is first order, halving stepsize $h$ will approximately halve expected error -- even without a way to compute the proportionality constant $f''(c)/2$."
      ],
      "metadata": {
        "id": "G7102FuwFo1f"
      }
    },
    {
      "cell_type": "markdown",
      "source": [
        "##### example 01"
      ],
      "metadata": {
        "id": "_T9PInL6GeS9"
      }
    },
    {
      "cell_type": "markdown",
      "source": [
        "use two-point forward-difference with $h=0.1$ to approximate the derivative of $f(x)=\\frac{1}{x}$ at $x=2$."
      ],
      "metadata": {
        "id": "-F2EWO7kGgSl"
      }
    },
    {
      "cell_type": "markdown",
      "source": [
        "\\begin{align}\n",
        "  f'(x) &\\approx \\frac{f(x+h) - f(x)}{h}  = \\frac{\\tfrac{1}{2+0.1}-\\tfrac{1}{2}}{0.1} = \\frac{\\tfrac{1}{2.1} - \\tfrac{1}{2}}{0.1} \\approx -0.2381 \\\\\n",
        "  \\\\\n",
        "  \\text{error } &= -0.2381 - (-0.2500) = 0.0119 \\\\\n",
        "  \\\\\n",
        "  \\frac{h}{2} f''(c) &= \\frac{h}{2}\\frac{2}{c^3}, \\quad f''(x) = 2x^{-3}, 2\\le c\\le 2.1 \\\\\n",
        "  &\\Rightarrow \\frac{0.1}{2}\\frac{2}{2^3} \\approx 0.0125, \\frac{0.1}{2}\\frac{2}{2.1^3} \\approx 0.0108. \\checkmark \\\\\n",
        "\\end{align}"
      ],
      "metadata": {
        "id": "9dLpCiwdGsRe"
      }
    },
    {
      "cell_type": "markdown",
      "source": [
        "for a second order formula, by taylors, if $f$ is three times continuously differentiable, then"
      ],
      "metadata": {
        "id": "Z1MAXyV0XzS8"
      }
    },
    {
      "cell_type": "markdown",
      "source": [
        "$$f(x+h) = f(x) + hf'(x) + \\frac{h^2}{2}f''(x) + \\frac{h^3}{6}f'''(c_1)$$"
      ],
      "metadata": {
        "id": "6zfktaliX19q"
      }
    },
    {
      "cell_type": "markdown",
      "source": [
        "and"
      ],
      "metadata": {
        "id": "4ehhvWFOX3wP"
      }
    },
    {
      "cell_type": "markdown",
      "source": [
        "$$f(x-h) = f(x) - hf'(x) + \\frac{h^2}{2}f''(x) - \\frac{h^3}{6}f'''(c_2)$$"
      ],
      "metadata": {
        "id": "LNh7VvTWX6O5"
      }
    },
    {
      "cell_type": "markdown",
      "source": [
        "where $x-h<c_2<x<c_1<x+h$ and\n"
      ],
      "metadata": {
        "id": "werUlQXmX8bd"
      }
    },
    {
      "cell_type": "markdown",
      "source": [
        "$$f'(x) = \\frac{f(x+h)-f(x-h)}{2h} - \\frac{h^2}{12}f'''(c_1) - \\frac{h^2}{12}f'''(c_2).$$"
      ],
      "metadata": {
        "id": "-rz_HAsEEmYp"
      }
    },
    {
      "cell_type": "markdown",
      "source": [
        "##### <b><font color=grey>theorem 01</font> generalized intermediate value theorem</b>"
      ],
      "metadata": {
        "id": "6fqOOSKHt_hd"
      }
    },
    {
      "cell_type": "markdown",
      "source": [
        "*intermediate value theorem (IVT): if $f$ is a continuous function whose domain contains the interval $[a,b]$, then it takes on any given value between $f(a)$ and $f(b)$ at some point within the interval.*"
      ],
      "metadata": {
        "id": "ih99KoK9uJ9U"
      }
    },
    {
      "cell_type": "markdown",
      "source": [
        "let $f$ be a continuous function on the interval $[a,b]$. let $[x_1,\\dots,x_n]$ be points in $[a,b]$ and $a_1,\\dots,a_n > 0$. then there exists number $c$ between $a$ and $b$ such that"
      ],
      "metadata": {
        "id": "DZnQno3MYBWH"
      }
    },
    {
      "cell_type": "markdown",
      "source": [
        "$$(a_1 + \\dots + a_n)f(c) = a_1f(x_1) + \\dots + a_nf(x_n).$$"
      ],
      "metadata": {
        "id": "K5Rvqk6luGOO"
      }
    },
    {
      "cell_type": "markdown",
      "source": [
        "###### proof"
      ],
      "metadata": {
        "id": "yLFQFzanu3Wb"
      }
    },
    {
      "cell_type": "markdown",
      "source": [
        "let $f(x_i) = f_{min}$ and $f(x_j) = f_{max}$ of $n$ function values. then"
      ],
      "metadata": {
        "id": "1P-D-CGHYNmW"
      }
    },
    {
      "cell_type": "markdown",
      "source": [
        "$$a_1f(x_i) + \\dots + a_nf(x_i) \\le a_1f(x_1) + \\dots + a_nf(x_n) \\le a_1f(x_j) + \\dots + a_nf(x_j)$$"
      ],
      "metadata": {
        "id": "wCe3BH5pYPAk"
      }
    },
    {
      "cell_type": "markdown",
      "source": [
        "implies that"
      ],
      "metadata": {
        "id": "Vof_71qBYQXW"
      }
    },
    {
      "cell_type": "markdown",
      "source": [
        "$$f(x_i) \\le \\frac{a_1f(x_1) + \\dots + a_nf(x_n)}{a_1 + \\dots + a_n} \\le f(x_j).$$"
      ],
      "metadata": {
        "id": "XEoCn9cuYRz1"
      }
    },
    {
      "cell_type": "markdown",
      "source": [
        "by IVT, there is a number $c$ between $x_i$ and $x_j$ such that"
      ],
      "metadata": {
        "id": "joopG_m6YTn0"
      }
    },
    {
      "cell_type": "markdown",
      "source": [
        "$$f(c) = \\frac{a_1f(x_1) + \\dots + a_nf(x_n)}{a_1 + \\dots + a_n}. \\checkmark$$"
      ],
      "metadata": {
        "id": "UnGTLhj6u6ck"
      }
    },
    {
      "cell_type": "markdown",
      "source": [
        "##### usw"
      ],
      "metadata": {
        "id": "UTxyotY2wTve"
      }
    },
    {
      "cell_type": "markdown",
      "source": [
        "ie, the formula now becomes"
      ],
      "metadata": {
        "id": "-BUKQx3UK3SH"
      }
    },
    {
      "cell_type": "markdown",
      "source": [
        "##### <b>three-point centered-difference formula</b>"
      ],
      "metadata": {
        "id": "pt8qtleSwbcO"
      }
    },
    {
      "cell_type": "markdown",
      "source": [
        "$$f'(x) = \\frac{f(x+h)-f(x-h)}{2h} - \\frac{h^2}{6}f'''(c)$$"
      ],
      "metadata": {
        "id": "37ewLzroYZbr"
      }
    },
    {
      "cell_type": "markdown",
      "source": [
        "where $x-h < c < x+h$."
      ],
      "metadata": {
        "id": "Vhd_dbwYK9kS"
      }
    },
    {
      "cell_type": "markdown",
      "source": [
        "##### example 02"
      ],
      "metadata": {
        "id": "pKmAyntjLVkx"
      }
    },
    {
      "cell_type": "markdown",
      "source": [
        "use three-point centered-difference with $h=0.1$ to approximate derivative of $f(x) = \\frac{1}{x}$ at $x=2$."
      ],
      "metadata": {
        "id": "4YaO4Qp7LYGB"
      }
    },
    {
      "cell_type": "markdown",
      "source": [
        "\\begin{align}\n",
        "  f'(x) &= \\frac{f(x+h)-f(x-h)}{2h} = \\frac{\\tfrac{1}{2+0.1}-\\tfrac{1}{2-0.1}}{2\\cdot 0.1} \\approx \\frac{\\tfrac{1}{2.1}-\\tfrac{1}{1.6}}{0.2} \\approx -0.2506 \\\\\n",
        "  \\\\\n",
        "  \\text{error } &= -0.2506 - (-0.2500) = 0.0006 \\quad\\sim \\text{vs }0.0108 \\text{, two-point fwd-diff}.\n",
        "\\end{align}"
      ],
      "metadata": {
        "id": "pZscXFj-Lkah"
      }
    },
    {
      "cell_type": "markdown",
      "source": [
        "##### usw"
      ],
      "metadata": {
        "id": "Sil0OnJ9NtwU"
      }
    },
    {
      "cell_type": "markdown",
      "source": [
        "approximation for higher derivatives can be obtained similarly. eg, taylor expansions"
      ],
      "metadata": {
        "id": "sfBkDuo6YgKE"
      }
    },
    {
      "cell_type": "markdown",
      "source": [
        "\\begin{align}\n",
        "  f(x+h) &= f(x) + hf'(x) + \\frac{h^2}{2}f''(x) + \\frac{h^3}{3!}f'''(x) + \\frac{h^4}{4!}f^{(iv)}(c_1) \\\\\n",
        "  f(x-h) &= f(x) - hf'(x) + \\frac{h^2}{2}f''(x) - \\frac{h^3}{3!}f'''(x) + \\frac{h^4}{4!}f^{(iv)}(c_2) \\\\\n",
        "  \\\\\n",
        "  &\\Downarrow \\quad x-h < c_2 < x < c_1 < x+h \\\\\n",
        "  \\\\\n",
        "  f(x+h) + f(x-h) - 2f(x) &= h^2f''(x) + \\frac{h^4}{4!}f^{(iv)}(c_1) + \\frac{h^4}{4!}f^{(iv)}(c_2) \\\\\n",
        "\\end{align}"
      ],
      "metadata": {
        "id": "pAJtvqsSNvIM"
      }
    },
    {
      "cell_type": "markdown",
      "source": [
        "and by theorem 01, the below."
      ],
      "metadata": {
        "id": "JKS-HGLiYjbc"
      }
    },
    {
      "cell_type": "markdown",
      "source": [
        "##### <b>three-point centered-difference formula for second derivative</b>"
      ],
      "metadata": {
        "id": "KDpaxKVmNczd"
      }
    },
    {
      "cell_type": "markdown",
      "source": [
        "$$f''(x) = \\frac{f(x-h)-2f(x)+f(x+h)}{h^2} - \\frac{h^2}{12}f^{(iv)}(c)$$"
      ],
      "metadata": {
        "id": "1Q5zYl2sYnvt"
      }
    },
    {
      "cell_type": "markdown",
      "source": [
        "where $x-h < c < x+h$."
      ],
      "metadata": {
        "id": "MW5ezFK5LU16"
      }
    },
    {
      "cell_type": "markdown",
      "source": [
        "##### <b>convergence</b>"
      ],
      "metadata": {
        "id": "gZ8JnvBuM2hi"
      }
    },
    {
      "cell_type": "markdown",
      "source": [
        "two- and three-point approximations converge to the derivative as $h\\rightarrow 0$. these formulas break a cardinal rule of floating point by subtracing nearly equal numbers; however, finding derivatives is an inherently unstable process. for very small $h$, roundoff will affect the calculation."
      ],
      "metadata": {
        "id": "6_bkiFY4M_RZ"
      }
    },
    {
      "cell_type": "markdown",
      "source": [
        "## 2 rounding error"
      ],
      "metadata": {
        "id": "6Yfa_yHG5x2o"
      }
    },
    {
      "cell_type": "markdown",
      "source": [
        "##### example 03"
      ],
      "metadata": {
        "id": "w_CJFvCBQcuk"
      }
    },
    {
      "cell_type": "markdown",
      "source": [
        "approximate derivative of $f(x) = e^x$ at $x=0$."
      ],
      "metadata": {
        "id": "gnz-h21OQhYP"
      }
    },
    {
      "cell_type": "markdown",
      "source": [
        "\\begin{align}\n",
        "  \\text{two-point fwd-diff } f'(x) &= \\frac{e^{x+h} - e^x}{h} \\\\\n",
        "  \\\\\n",
        "  \\text{three-point ctr-diff } f'(x) &= \\frac{e^{x+h} - e^{x-h}}{2h}\n",
        "\\end{align}"
      ],
      "metadata": {
        "id": "yT_zBmQPQyTO"
      }
    },
    {
      "cell_type": "code",
      "source": [
        "eg_03()"
      ],
      "metadata": {
        "colab": {
          "base_uri": "https://localhost:8080/",
          "height": 802
        },
        "id": "hJFXHI0WRhAx",
        "outputId": "5cf6555d-604a-4ea8-f65e-fbd5755b98d1"
      },
      "execution_count": null,
      "outputs": [
        {
          "output_type": "display_data",
          "data": {
            "text/plain": [
              "        h                 2fd              2fd,err                 3cd  \\\n",
              "0     0.1  1.0517091807564771  -0.0517091807564771  1.0016675001984410   \n",
              "1    0.01  1.0050167084167949  -0.0050167084167949  1.0000166667499921   \n",
              "2   0.001  1.0005001667083846  -0.0005001667083846  1.0000001666666813   \n",
              "3  0.0001  1.0000500016671410  -0.0000500016671410  1.0000000016668897   \n",
              "4   1e-05  1.0000050000069649  -0.0000050000069649  1.0000000000121023   \n",
              "5   1e-06  1.0000004999621837  -0.0000004999621837  0.9999999999732445   \n",
              "6   1e-07  1.0000000494336803  -0.0000000494336803  0.9999999994736442   \n",
              "7   1e-08  0.9999999939225290   0.0000000060774710  0.9999999939225290   \n",
              "8   1e-09  1.0000000827403710  -0.0000000827403710  1.0000000272292198   \n",
              "\n",
              "               3cd,err  \n",
              "0  -0.0016675001984410  \n",
              "1  -0.0000166667499921  \n",
              "2  -0.0000001666666813  \n",
              "3  -0.0000000016668897  \n",
              "4  -0.0000000000121023  \n",
              "5   0.0000000000267555  \n",
              "6   0.0000000005263558  \n",
              "7   0.0000000060774710  \n",
              "8  -0.0000000272292198  "
            ],
            "text/html": [
              "\n",
              "  <div id=\"df-c8fbc949-9436-4807-a2e2-1f8a258ae53e\" class=\"colab-df-container\">\n",
              "    <div>\n",
              "<style scoped>\n",
              "    .dataframe tbody tr th:only-of-type {\n",
              "        vertical-align: middle;\n",
              "    }\n",
              "\n",
              "    .dataframe tbody tr th {\n",
              "        vertical-align: top;\n",
              "    }\n",
              "\n",
              "    .dataframe thead th {\n",
              "        text-align: right;\n",
              "    }\n",
              "</style>\n",
              "<table border=\"1\" class=\"dataframe\">\n",
              "  <thead>\n",
              "    <tr style=\"text-align: right;\">\n",
              "      <th></th>\n",
              "      <th>h</th>\n",
              "      <th>2fd</th>\n",
              "      <th>2fd,err</th>\n",
              "      <th>3cd</th>\n",
              "      <th>3cd,err</th>\n",
              "    </tr>\n",
              "  </thead>\n",
              "  <tbody>\n",
              "    <tr>\n",
              "      <th>0</th>\n",
              "      <td>0.1</td>\n",
              "      <td>1.0517091807564771</td>\n",
              "      <td>-0.0517091807564771</td>\n",
              "      <td>1.0016675001984410</td>\n",
              "      <td>-0.0016675001984410</td>\n",
              "    </tr>\n",
              "    <tr>\n",
              "      <th>1</th>\n",
              "      <td>0.01</td>\n",
              "      <td>1.0050167084167949</td>\n",
              "      <td>-0.0050167084167949</td>\n",
              "      <td>1.0000166667499921</td>\n",
              "      <td>-0.0000166667499921</td>\n",
              "    </tr>\n",
              "    <tr>\n",
              "      <th>2</th>\n",
              "      <td>0.001</td>\n",
              "      <td>1.0005001667083846</td>\n",
              "      <td>-0.0005001667083846</td>\n",
              "      <td>1.0000001666666813</td>\n",
              "      <td>-0.0000001666666813</td>\n",
              "    </tr>\n",
              "    <tr>\n",
              "      <th>3</th>\n",
              "      <td>0.0001</td>\n",
              "      <td>1.0000500016671410</td>\n",
              "      <td>-0.0000500016671410</td>\n",
              "      <td>1.0000000016668897</td>\n",
              "      <td>-0.0000000016668897</td>\n",
              "    </tr>\n",
              "    <tr>\n",
              "      <th>4</th>\n",
              "      <td>1e-05</td>\n",
              "      <td>1.0000050000069649</td>\n",
              "      <td>-0.0000050000069649</td>\n",
              "      <td>1.0000000000121023</td>\n",
              "      <td>-0.0000000000121023</td>\n",
              "    </tr>\n",
              "    <tr>\n",
              "      <th>5</th>\n",
              "      <td>1e-06</td>\n",
              "      <td>1.0000004999621837</td>\n",
              "      <td>-0.0000004999621837</td>\n",
              "      <td>0.9999999999732445</td>\n",
              "      <td>0.0000000000267555</td>\n",
              "    </tr>\n",
              "    <tr>\n",
              "      <th>6</th>\n",
              "      <td>1e-07</td>\n",
              "      <td>1.0000000494336803</td>\n",
              "      <td>-0.0000000494336803</td>\n",
              "      <td>0.9999999994736442</td>\n",
              "      <td>0.0000000005263558</td>\n",
              "    </tr>\n",
              "    <tr>\n",
              "      <th>7</th>\n",
              "      <td>1e-08</td>\n",
              "      <td>0.9999999939225290</td>\n",
              "      <td>0.0000000060774710</td>\n",
              "      <td>0.9999999939225290</td>\n",
              "      <td>0.0000000060774710</td>\n",
              "    </tr>\n",
              "    <tr>\n",
              "      <th>8</th>\n",
              "      <td>1e-09</td>\n",
              "      <td>1.0000000827403710</td>\n",
              "      <td>-0.0000000827403710</td>\n",
              "      <td>1.0000000272292198</td>\n",
              "      <td>-0.0000000272292198</td>\n",
              "    </tr>\n",
              "  </tbody>\n",
              "</table>\n",
              "</div>\n",
              "    <div class=\"colab-df-buttons\">\n",
              "\n",
              "  <div class=\"colab-df-container\">\n",
              "    <button class=\"colab-df-convert\" onclick=\"convertToInteractive('df-c8fbc949-9436-4807-a2e2-1f8a258ae53e')\"\n",
              "            title=\"Convert this dataframe to an interactive table.\"\n",
              "            style=\"display:none;\">\n",
              "\n",
              "  <svg xmlns=\"http://www.w3.org/2000/svg\" height=\"24px\" viewBox=\"0 -960 960 960\">\n",
              "    <path d=\"M120-120v-720h720v720H120Zm60-500h600v-160H180v160Zm220 220h160v-160H400v160Zm0 220h160v-160H400v160ZM180-400h160v-160H180v160Zm440 0h160v-160H620v160ZM180-180h160v-160H180v160Zm440 0h160v-160H620v160Z\"/>\n",
              "  </svg>\n",
              "    </button>\n",
              "\n",
              "  <style>\n",
              "    .colab-df-container {\n",
              "      display:flex;\n",
              "      gap: 12px;\n",
              "    }\n",
              "\n",
              "    .colab-df-convert {\n",
              "      background-color: #E8F0FE;\n",
              "      border: none;\n",
              "      border-radius: 50%;\n",
              "      cursor: pointer;\n",
              "      display: none;\n",
              "      fill: #1967D2;\n",
              "      height: 32px;\n",
              "      padding: 0 0 0 0;\n",
              "      width: 32px;\n",
              "    }\n",
              "\n",
              "    .colab-df-convert:hover {\n",
              "      background-color: #E2EBFA;\n",
              "      box-shadow: 0px 1px 2px rgba(60, 64, 67, 0.3), 0px 1px 3px 1px rgba(60, 64, 67, 0.15);\n",
              "      fill: #174EA6;\n",
              "    }\n",
              "\n",
              "    .colab-df-buttons div {\n",
              "      margin-bottom: 4px;\n",
              "    }\n",
              "\n",
              "    [theme=dark] .colab-df-convert {\n",
              "      background-color: #3B4455;\n",
              "      fill: #D2E3FC;\n",
              "    }\n",
              "\n",
              "    [theme=dark] .colab-df-convert:hover {\n",
              "      background-color: #434B5C;\n",
              "      box-shadow: 0px 1px 3px 1px rgba(0, 0, 0, 0.15);\n",
              "      filter: drop-shadow(0px 1px 2px rgba(0, 0, 0, 0.3));\n",
              "      fill: #FFFFFF;\n",
              "    }\n",
              "  </style>\n",
              "\n",
              "    <script>\n",
              "      const buttonEl =\n",
              "        document.querySelector('#df-c8fbc949-9436-4807-a2e2-1f8a258ae53e button.colab-df-convert');\n",
              "      buttonEl.style.display =\n",
              "        google.colab.kernel.accessAllowed ? 'block' : 'none';\n",
              "\n",
              "      async function convertToInteractive(key) {\n",
              "        const element = document.querySelector('#df-c8fbc949-9436-4807-a2e2-1f8a258ae53e');\n",
              "        const dataTable =\n",
              "          await google.colab.kernel.invokeFunction('convertToInteractive',\n",
              "                                                    [key], {});\n",
              "        if (!dataTable) return;\n",
              "\n",
              "        const docLinkHtml = 'Like what you see? Visit the ' +\n",
              "          '<a target=\"_blank\" href=https://colab.research.google.com/notebooks/data_table.ipynb>data table notebook</a>'\n",
              "          + ' to learn more about interactive tables.';\n",
              "        element.innerHTML = '';\n",
              "        dataTable['output_type'] = 'display_data';\n",
              "        await google.colab.output.renderOutput(dataTable, element);\n",
              "        const docLink = document.createElement('div');\n",
              "        docLink.innerHTML = docLinkHtml;\n",
              "        element.appendChild(docLink);\n",
              "      }\n",
              "    </script>\n",
              "  </div>\n",
              "\n",
              "\n",
              "<div id=\"df-1de06b43-af1a-45f0-9ef8-b101fc411090\">\n",
              "  <button class=\"colab-df-quickchart\" onclick=\"quickchart('df-1de06b43-af1a-45f0-9ef8-b101fc411090')\"\n",
              "            title=\"Suggest charts\"\n",
              "            style=\"display:none;\">\n",
              "\n",
              "<svg xmlns=\"http://www.w3.org/2000/svg\" height=\"24px\"viewBox=\"0 0 24 24\"\n",
              "     width=\"24px\">\n",
              "    <g>\n",
              "        <path d=\"M19 3H5c-1.1 0-2 .9-2 2v14c0 1.1.9 2 2 2h14c1.1 0 2-.9 2-2V5c0-1.1-.9-2-2-2zM9 17H7v-7h2v7zm4 0h-2V7h2v10zm4 0h-2v-4h2v4z\"/>\n",
              "    </g>\n",
              "</svg>\n",
              "  </button>\n",
              "\n",
              "<style>\n",
              "  .colab-df-quickchart {\n",
              "      --bg-color: #E8F0FE;\n",
              "      --fill-color: #1967D2;\n",
              "      --hover-bg-color: #E2EBFA;\n",
              "      --hover-fill-color: #174EA6;\n",
              "      --disabled-fill-color: #AAA;\n",
              "      --disabled-bg-color: #DDD;\n",
              "  }\n",
              "\n",
              "  [theme=dark] .colab-df-quickchart {\n",
              "      --bg-color: #3B4455;\n",
              "      --fill-color: #D2E3FC;\n",
              "      --hover-bg-color: #434B5C;\n",
              "      --hover-fill-color: #FFFFFF;\n",
              "      --disabled-bg-color: #3B4455;\n",
              "      --disabled-fill-color: #666;\n",
              "  }\n",
              "\n",
              "  .colab-df-quickchart {\n",
              "    background-color: var(--bg-color);\n",
              "    border: none;\n",
              "    border-radius: 50%;\n",
              "    cursor: pointer;\n",
              "    display: none;\n",
              "    fill: var(--fill-color);\n",
              "    height: 32px;\n",
              "    padding: 0;\n",
              "    width: 32px;\n",
              "  }\n",
              "\n",
              "  .colab-df-quickchart:hover {\n",
              "    background-color: var(--hover-bg-color);\n",
              "    box-shadow: 0 1px 2px rgba(60, 64, 67, 0.3), 0 1px 3px 1px rgba(60, 64, 67, 0.15);\n",
              "    fill: var(--button-hover-fill-color);\n",
              "  }\n",
              "\n",
              "  .colab-df-quickchart-complete:disabled,\n",
              "  .colab-df-quickchart-complete:disabled:hover {\n",
              "    background-color: var(--disabled-bg-color);\n",
              "    fill: var(--disabled-fill-color);\n",
              "    box-shadow: none;\n",
              "  }\n",
              "\n",
              "  .colab-df-spinner {\n",
              "    border: 2px solid var(--fill-color);\n",
              "    border-color: transparent;\n",
              "    border-bottom-color: var(--fill-color);\n",
              "    animation:\n",
              "      spin 1s steps(1) infinite;\n",
              "  }\n",
              "\n",
              "  @keyframes spin {\n",
              "    0% {\n",
              "      border-color: transparent;\n",
              "      border-bottom-color: var(--fill-color);\n",
              "      border-left-color: var(--fill-color);\n",
              "    }\n",
              "    20% {\n",
              "      border-color: transparent;\n",
              "      border-left-color: var(--fill-color);\n",
              "      border-top-color: var(--fill-color);\n",
              "    }\n",
              "    30% {\n",
              "      border-color: transparent;\n",
              "      border-left-color: var(--fill-color);\n",
              "      border-top-color: var(--fill-color);\n",
              "      border-right-color: var(--fill-color);\n",
              "    }\n",
              "    40% {\n",
              "      border-color: transparent;\n",
              "      border-right-color: var(--fill-color);\n",
              "      border-top-color: var(--fill-color);\n",
              "    }\n",
              "    60% {\n",
              "      border-color: transparent;\n",
              "      border-right-color: var(--fill-color);\n",
              "    }\n",
              "    80% {\n",
              "      border-color: transparent;\n",
              "      border-right-color: var(--fill-color);\n",
              "      border-bottom-color: var(--fill-color);\n",
              "    }\n",
              "    90% {\n",
              "      border-color: transparent;\n",
              "      border-bottom-color: var(--fill-color);\n",
              "    }\n",
              "  }\n",
              "</style>\n",
              "\n",
              "  <script>\n",
              "    async function quickchart(key) {\n",
              "      const quickchartButtonEl =\n",
              "        document.querySelector('#' + key + ' button');\n",
              "      quickchartButtonEl.disabled = true;  // To prevent multiple clicks.\n",
              "      quickchartButtonEl.classList.add('colab-df-spinner');\n",
              "      try {\n",
              "        const charts = await google.colab.kernel.invokeFunction(\n",
              "            'suggestCharts', [key], {});\n",
              "      } catch (error) {\n",
              "        console.error('Error during call to suggestCharts:', error);\n",
              "      }\n",
              "      quickchartButtonEl.classList.remove('colab-df-spinner');\n",
              "      quickchartButtonEl.classList.add('colab-df-quickchart-complete');\n",
              "    }\n",
              "    (() => {\n",
              "      let quickchartButtonEl =\n",
              "        document.querySelector('#df-1de06b43-af1a-45f0-9ef8-b101fc411090 button');\n",
              "      quickchartButtonEl.style.display =\n",
              "        google.colab.kernel.accessAllowed ? 'block' : 'none';\n",
              "    })();\n",
              "  </script>\n",
              "</div>\n",
              "\n",
              "    </div>\n",
              "  </div>\n"
            ],
            "application/vnd.google.colaboratory.intrinsic+json": {
              "type": "dataframe",
              "summary": "{\n  \"name\": \"eg_03()\",\n  \"rows\": 9,\n  \"fields\": [\n    {\n      \"column\": \"h\",\n      \"properties\": {\n        \"dtype\": \"string\",\n        \"num_unique_values\": 9,\n        \"samples\": [\n          \"1e-08\",\n          \"0.01\",\n          \"1e-06\"\n        ],\n        \"semantic_type\": \"\",\n        \"description\": \"\"\n      }\n    },\n    {\n      \"column\": \"2fd\",\n      \"properties\": {\n        \"dtype\": \"string\",\n        \"num_unique_values\": 9,\n        \"samples\": [\n          \"0.9999999939225290\",\n          \"1.0050167084167949\",\n          \"1.0000004999621837\"\n        ],\n        \"semantic_type\": \"\",\n        \"description\": \"\"\n      }\n    },\n    {\n      \"column\": \"2fd,err\",\n      \"properties\": {\n        \"dtype\": \"string\",\n        \"num_unique_values\": 9,\n        \"samples\": [\n          \"0.0000000060774710\",\n          \"-0.0050167084167949\",\n          \"-0.0000004999621837\"\n        ],\n        \"semantic_type\": \"\",\n        \"description\": \"\"\n      }\n    },\n    {\n      \"column\": \"3cd\",\n      \"properties\": {\n        \"dtype\": \"string\",\n        \"num_unique_values\": 9,\n        \"samples\": [\n          \"0.9999999939225290\",\n          \"1.0000166667499921\",\n          \"0.9999999999732445\"\n        ],\n        \"semantic_type\": \"\",\n        \"description\": \"\"\n      }\n    },\n    {\n      \"column\": \"3cd,err\",\n      \"properties\": {\n        \"dtype\": \"string\",\n        \"num_unique_values\": 9,\n        \"samples\": [\n          \"0.0000000060774710\",\n          \"-0.0000166667499921\",\n          \"0.0000000000267555\"\n        ],\n        \"semantic_type\": \"\",\n        \"description\": \"\"\n      }\n    }\n  ]\n}"
            }
          },
          "metadata": {}
        },
        {
          "output_type": "display_data",
          "data": {
            "text/plain": [
              "<Figure size 640x480 with 2 Axes>"
            ],
            "image/png": "[encoded data removed]"
          },
          "metadata": {}
        }
      ]
    },
    {
      "cell_type": "markdown",
      "source": [
        "below: dramatic image of where three-point centered-difference error does a turn-around when $h$ approaches FPS limits."
      ],
      "metadata": {
        "id": "WleXYfOUXqbh"
      }
    },
    {
      "cell_type": "markdown",
      "source": [
        "![ss_nmi_sauer_fig5.1.jpg](data:image/jpeg;base64,/9j/4AAQSkZJRgABAQEBLAEsAAD/4QDGRXhpZgAASUkqAAgAAAAHABIBAwABAAAAAQAAABoBBQABAAAAYgAAABsBBQABAAAAagAAACgBAwABAAAAAgAAADEBAgANAAAAcgAAADIBAgAUAAAAgAAAAGmHBAABAAAAlAAAAAAAAAAsAQAAAQAAACwBAAABAAAAR0lNUCAyLjEwLjM4AAAyMDI0OjEwOjA1IDE5OjQ2OjEzAAMAAaADAAEAAAABAAAAAqAEAAEAAACEAwAAA6AEAAEAAAC9AQAAAAAAAP/hDM9odHRwOi8vbnMuYWRvYmUuY29tL3hhcC8xLjAvADw/eHBhY2tldCBiZWdpbj0i77u/IiBpZD0iVzVNME1wQ2VoaUh6cmVTek5UY3prYzlkIj8+IDx4OnhtcG1ldGEgeG1sbnM6eD0iYWRvYmU6bnM6bWV0YS8iIHg6eG1wdGs9IlhNUCBDb3JlIDQuNC4wLUV4aXYyIj4gPHJkZjpSREYgeG1sbnM6cmRmPSJodHRwOi8vd3d3LnczLm9yZy8xOTk5LzAyLzIyLXJkZi1zeW50YXgtbnMjIj4gPHJkZjpEZXNjcmlwdGlvbiByZGY6YWJvdXQ9IiIgeG1sbnM6eG1wTU09Imh0dHA6Ly9ucy5hZG9iZS5jb20veGFwLzEuMC9tbS8iIHhtbG5zOnN0RXZ0PSJodHRwOi8vbnMuYWRvYmUuY29tL3hhcC8xLjAvc1R5cGUvUmVzb3VyY2VFdmVudCMiIHhtbG5zOmRjPSJodHRwOi8vcHVybC5vcmcvZGMvZWxlbWVudHMvMS4xLyIgeG1sbnM6R0lNUD0iaHR0cDovL3d3dy5naW1wLm9yZy94bXAvIiB4bWxuczp4bXA9Imh0dHA6Ly9ucy5hZG9iZS5jb20veGFwLzEuMC8iIHhtcE1NOkRvY3VtZW50SUQ9ImdpbXA6ZG9jaWQ6Z2ltcDo5MTAyMTk2Yi1iMTc4LTQyYjEtYTBhOC02OTNjMDJkOWU4YWEiIHhtcE1NOkluc3RhbmNlSUQ9InhtcC5paWQ6NWY1YjlmYzktMmY1Yy00NjQ4LTllNDYtNWZjMDNlZWU3ZGQzIiB4bXBNTTpPcmlnaW5hbERvY3VtZW50SUQ9InhtcC5kaWQ6MjU2NTg0MDMtMjE3NS00MWQwLWExM2YtZGYxOGJjZWFiZjRiIiBkYzpGb3JtYXQ9ImltYWdlL2pwZWciIEdJTVA6QVBJPSIyLjAiIEdJTVA6UGxhdGZvcm09IkxpbnV4IiBHSU1QOlRpbWVTdGFtcD0iMTcyODE3MTk3NTc1NDY1MSIgR0lNUDpWZXJzaW9uPSIyLjEwLjM4IiB4bXA6Q3JlYXRvclRvb2w9IkdJTVAgMi4xMCIgeG1wOk1ldGFkYXRhRGF0ZT0iMjAyNDoxMDowNVQxOTo0NjoxMy0wNDowMCIgeG1wOk1vZGlmeURhdGU9IjIwMjQ6MTA6MDVUMTk6NDY6MTMtMDQ6MDAiPiA8eG1wTU06SGlzdG9yeT4gPHJkZjpTZXE+IDxyZGY6bGkgc3RFdnQ6YWN0aW9uPSJzYXZlZCIgc3RFdnQ6Y2hhbmdlZD0iLyIgc3RFdnQ6aW5zdGFuY2VJRD0ieG1wLmlpZDo5YWQ5N2VhMC0zMWI1LTRhZjEtOGQ1YS02NGI2ZWQxNDI4NTIiIHN0RXZ0OnNvZnR3YXJlQWdlbnQ9IkdpbXAgMi4xMCAoTGludXgpIiBzdEV2dDp3aGVuPSIyMDI0LTEwLTA1VDE5OjQ2OjE1LTA0OjAwIi8+IDwvcmRmOlNlcT4gPC94bXBNTTpIaXN0b3J5PiA8L3JkZjpEZXNjcmlwdGlvbj4gPC9yZGY6UkRGPiA8L3g6eG1wbWV0YT4gICAgICAgICAgICAgICAgICAgICAgICAgICAgICAgICAgICAgICAgICAgICAgICAgICAgICAgICAgICAgICAgICAgICAgICAgICAgICAgICAgICAgICAgICAgICAgICAgICAgICAgICAgICAgICAgICAgICAgICAgICAgICAgICAgICAgICAgICAgICAgICAgICAgICAgICAgICAgICAgICAgICAgICAgICAgICAgICAgICAgICAgICAgICAgICAgICAgICAgICAgICAgICAgICAgICAgICAgICAgICAgICAgICAgICAgICAgICAgICAgICAgICAgICAgICAgICAgICAgICAgICAgICAgICAgICAgICAgICAgICAgICAgICAgICAgICAgICAgICAgICAgICAgICAgICAgICAgICAgICAgICAgICAgICAgICAgICAgICAgICAgICAgICAgICAgICAgICAgICAgICAgICAgICAgICAgICAgICAgICAgICAgICAgICAgICAgICAgICAgICAgICAgICAgICAgICAgICAgICAgICAgICAgICAgICAgICAgICAgICAgICAgICAgICAgICAgICAgICAgICAgICAgICAgICAgICAgICAgICAgICAgICAgICAgICAgICAgICAgICAgICAgICAgICAgICAgICAgICAgICAgICAgICAgICAgICAgICAgICAgICAgICAgICAgICAgICAgICAgICAgICAgICAgICAgICAgICAgICAgICAgICAgICAgICAgICAgICAgICAgICAgICAgICAgICAgICAgICAgICAgICAgICAgICAgICAgICAgICAgICAgICAgICAgICAgICAgICAgICAgICAgICAgICAgICAgICAgICAgICAgICAgICAgICAgICAgICAgICAgICAgICAgICAgICAgICAgICAgICAgICAgICAgICAgICAgICAgICAgICAgICAgICAgICAgICAgICAgICAgICAgICAgICAgICAgICAgICAgICAgICAgICAgICAgICAgICAgICAgICAgICAgICAgICAgICAgICAgICAgICAgICAgICAgICAgICAgICAgICAgICAgICAgICAgICAgICAgICAgICAgICAgICAgICAgICAgICAgICAgICAgICAgICAgICAgICAgICAgICAgICAgICAgICAgICAgICAgICAgICAgICAgICAgICAgICAgICAgICAgICAgICAgICAgICAgICAgICAgICAgICAgICAgICAgICAgICAgICAgICAgICAgICAgICAgICAgICAgICAgICAgICAgICAgICAgICAgICAgICAgICAgICAgICAgICAgICAgICAgICAgICAgICAgICAgICAgICAgICAgICAgICAgICAgICAgICAgICAgICAgICAgICAgICAgICAgICAgICAgICAgICAgICAgICAgICAgICAgICAgICAgICAgICAgICAgICAgICAgICAgICAgICAgICAgICAgICAgICAgICAgICAgICAgICAgICAgICAgICAgICAgICAgICAgICAgICAgICAgICAgICAgICAgICAgICAgICAgICAgICAgICAgICAgICAgICAgICAgICAgICAgICAgICAgICAgICAgICAgICAgICAgICAgICAgICAgICAgICAgICAgICAgICAgICAgICAgICAgICAgICAgICAgICAgICAgICAgICAgICAgICAgICAgICAgICAgICAgICAgICAgICAgICAgICAgICAgICAgICAgICAgICAgICAgICAgICAgICAgICAgICAgICAgICAgICAgICAgICAgICAgICAgICAgICAgICAgICAgICAgICAgICAgICAgICAgICAgICAgICAgICAgICAgICAgICAgICAgICAgICAgICAgICAgICAgICAgICAgICAgICAgICAgICAgICAgICAgICAgICAgICAgICAgICAgICAgICAgICAgICAgICAgICAgICAgICAgICAgICAgICAgICAgICAgICAgICAgICAgICAgICAgICAgICAgICAgICAgICAgICAgICAgICAgICAgICAgICAgICAgICAgICAgICAgICAgICAgICAgICAgICAgICAgICAgICAgICAgICAgICAgICAgICAgICAgICAgICAgICAgICAgICAgICAgICAgICAgICAgICAgICAgICAgICAgICAgICAgICAgICAgICAgICAgICAgICAgICAgICAgICAgICAgICAgICAgICAgICAgICAgICAgICAgICAgICAgICAgICAgICAgICAgICAgICAgICAgICAgICAgICAgICAgICAgICAgICAgICAgICAgICAgICAgICAgICAgICAgICAgICAgICAgICAgICAgICAgICAgICAgICAgICAgICAgICAgICAgICAgICAgICAgICAgICAgICAgICAgICAgICAgICAgICAgICAgICAgICAgICAgICAgICAgICAgICAgICAgICAgICAgICAgICAgICAgICAgICAgICAgICAgICAgICAgICAgICAgICAgICAgICAgICAgICAgICAgICAgICAgICAgICAgICAgICAgICAgICAgICAgICAgICAgICAgICAgICAgICAgICAgICAgICAgICAgICAgICAgICAgICAgICAgICAgICA8P3hwYWNrZXQgZW5kPSJ3Ij8+/+ICsElDQ19QUk9GSUxFAAEBAAACoGxjbXMEQAAAbW50clJHQiBYWVogB+gACgAFABcAFgAbYWNzcEFQUEwAAAAAAAAAAAAAAAAAAAAAAAAAAAAAAAAAAPbWAAEAAAAA0y1sY21zAAAAAAAAAAAAAAAAAAAAAAAAAAAAAAAAAAAAAAAAAAAAAAAAAAAAAAAAAAAAAAANZGVzYwAAASAAAABAY3BydAAAAWAAAAA2d3RwdAAAAZgAAAAUY2hhZAAAAawAAAAsclhZWgAAAdgAAAAUYlhZWgAAAewAAAAUZ1hZWgAAAgAAAAAUclRSQwAAAhQAAAAgZ1RSQwAAAhQAAAAgYlRSQwAAAhQAAAAgY2hybQAAAjQAAAAkZG1uZAAAAlgAAAAkZG1kZAAAAnwAAAAkbWx1YwAAAAAAAAABAAAADGVuVVMAAAAkAAAAHABHAEkATQBQACAAYgB1AGkAbAB0AC0AaQBuACAAcwBSAEcAQm1sdWMAAAAAAAAAAQAAAAxlblVTAAAAGgAAABwAUAB1AGIAbABpAGMAIABEAG8AbQBhAGkAbgAAWFlaIAAAAAAAAPbWAAEAAAAA0y1zZjMyAAAAAAABDEIAAAXe///zJQAAB5MAAP2Q///7of///aIAAAPcAADAblhZWiAAAAAAAABvoAAAOPUAAAOQWFlaIAAAAAAAACSfAAAPhAAAtsRYWVogAAAAAAAAYpcAALeHAAAY2XBhcmEAAAAAAAMAAAACZmYAAPKnAAANWQAAE9AAAApbY2hybQAAAAAAAwAAAACj1wAAVHwAAEzNAACZmgAAJmcAAA9cbWx1YwAAAAAAAAABAAAADGVuVVMAAAAIAAAAHABHAEkATQBQbWx1YwAAAAAAAAABAAAADGVuVVMAAAAIAAAAHABzAFIARwBC/9sAQwACAgICAgECAgICAwICAwMGBAMDAwMHBQUEBggHCQgIBwgICQoNCwkKDAoICAsPCwwNDg4PDgkLEBEQDhENDg4O/9sAQwECAwMDAwMHBAQHDgkICQ4ODg4ODg4ODg4ODg4ODg4ODg4ODg4ODg4ODg4ODg4ODg4ODg4ODg4ODg4ODg4ODg4O/8IAEQgBvQOEAwERAAIRAQMRAf/EABwAAQACAgMBAAAAAAAAAAAAAAAGBwEIAgMFBP/EABsBAQADAQEBAQAAAAAAAAAAAAABBgcFAgQD/9oADAMBAAIQAxAAAAHf4AAAAAAAAAAAAAAAAAAAAAAAAAAAAAAAAAAAAAAAAAAAAAAAAAAAAAAAAAAAAAAAAAAAAAAAAAAAAAAAAAAAAAAAAAAAAAAAAAAAAAAAAAAAAAAAAAAAAAAAAAAEaIiWmAAAAAAAAAAAAAAAAAAAAAAAAAAAAAAAAAAAAAAAAAAAAAAAAAAAAAAAVcR4vIAAAAAAAAAAAAAAAAAAAAAAAAAAAAAAAAAAAAAAAAAAAAAAAAAAAAAAApo9AtUAAAAAAAAAAAAAAAAAAAAAAAAAAAAAAAAAAAAAAAAAAAAAAAAAAAAAAA8MqIvkAAAAAAAAAAAAAAAAAAAAAAAAAAAAAAAAAAAAAAAAAAAAAAAAAAAAAAA1xIQbigAAAAAAAAAAAAAAAAAAAAAAAAAAAAAAAAAAAAAAAAAAAAAAAAAAAAAAGpxCTcDp8/1Pk+j0/n+gAAAAAAAAAAAAAAAAAAAAAAAAAAAAAAAAAAAAAAAAAAAAAAAAAAAAACAEdPlu9RmfE6s44fZAAAAAAAAAAAAAAAAAAAAAAAAAAAAAAAAAAAAAAAAAAAAAAAAAAAAAAgBHUfJeKlNOH1Zxw+yAAAAAAAAAAAAAAAAAAAAAAAAAAAAAAAAAAAAAAAAAAAAAAAAAAAAABACOny3epTLidWc8PsAAAAAAAAAAAAAAAAAAAAAAAAAAAAAAAAAAAAAAAAAAAAAAAAAAAAAAQAjp0Xapy3jdOd8LsgAAAAAAAAAAAAAAAAAAAAAAAAAAAAAAAAAAAAAAAAAAAAAAAAAAAAAQAjpi61OR8npT/gdoAAAAAAAAAAAAAAAAAAAAAAAAAAAAAAAAAAAAAAAAAAAAAAAAAAAAACAEdO+31X0/j+ux653wAAAAAAAAAAAAAAAAAAAAAAAAAAAAAAAAAAAAAAAAAAAAAAAAAAAAAIAR09K0VriWjV7KAAAAAAAAAAAAAAAAAAAAAAAAAAAAAAAAAAAAAAAAAAAAAAAAAAAAABACOnu2LheL9/w29TrWAAAAAAAAAAAAAAAAAAAAAAAAAAAAAAAAAAAAAAAAAAAAAAAAAAAAABACOkq7nHhfc5N10e3AAAAAAAAAAAAAAAAAAAAAAAAAAAAAAAAAAAAAAAAAAAAAAAAAAAAAAQAjpOujzqsuFYvrPrwAAAAAAAAAAAAAAAAAMQGZAAAAAAAAAAAAAAAAAAAAAAAAAAAAAAAAAAAQAjpaH7/hr/o1G2RzLQAAAAAAAAAAAAAAAAAOE+dbtKoGyeZ6DmQAAAAAAAAAAAAAAAAAAAAAAAAAAAAAAAAAAEAI6W9PjWTUM82ey7RgAAAAAAAAAAAAAAABiI1u0zP7WqVmnfB7WUgAAAAAAAAAAAAAAAAAAAAAAAAAAAAAAAAAAQAjpcENXdVzjaPK9HAAAAAAAAAAAAAAAAxEVDcat5/0/hd9FuKQAAAAAAAAAAAAAAAAAAAAAAAAAAAAAAAAAAAgBHS4Iav6rm+0GV6RkAAAAAAAAAAAAAAAwiG9jk0peajs7luiZmQAAAAAAAAAAAAAAAAAAAAAAAAAAAAAAAAAAAIAR0uGGrmq5ttFlekZSAAAAAAAAAAAAAAB5P0/Lq9q2cbY5Fp3b59ZSAAAAAAAAAAAAAAAAAAAAAAAAAAAAAAAAAAABACOlww1c1XN9ocq0blPoAAAAAAAAAAAAAAdPrxqfrmZbP5XovrfL9eQAAAAAAAAAAAAAAAAAAAAAAAAAAAAAAAAAAAAQAjpcENc9LoF7Z/dfX+X6gAAAAAAAAAAAAAMI1d1TOLyodymHG62ZAAAAAAAAAAAAAAAAAAAAAAAAAAAAAAAAAAAAAQAjpcMKfudT9zn/dYld7wAAAAAAAAAAAAAQ160WiTTh9e0avZAAAAAAAAAAAAAAAAAAAAAAAAAAAAAAAAAAAAAAIAR0uEiXV5daWqu3xQLsAAAAAAAAAAAAAKXutR+f9fzvCi3IAAAAAAAAAAAAAAAAAAAAAAAAAAAAAAAAAAAAAAQAjpcJ1z51h1LOtoss0cAAAAAAAAAAAAYKwtFbgdg4uxmb34AAAAAAAAAAAAAAAAAAAAAAAAAAAAAAAAAAAAAACAEdLhMGreq5ttHlOkcpkAAAAAAAAAAAYiIFYOJUFyq2zeW6JymQAAAAAAAAAAAAAAAAAAAAAAAAAAAAAAAAAAAAAAIAR0uEway6hnex+Z377Pz/YAAAAAAAAAADEIZ2uRRN/pW02T6V2PQAAAAAAAAAAAAAAAAAAAAAAAAAAAAAAAAAAAAAAAgBHS4TBVNsrHd492jVrIAAAAAAAAAAMIiHY5dAaFR9qsm0rtj2AAAAAAAAAAAAAAAAAAAAAAAAAAAAAAAAAAAAAAABACOlwg+P9fy1u0zPtncu0YAAAAAAAAADEId2eTQOh0janJtK7vHvMgAAAAAAAAAAAAAAAAAAAAAAAAAAAAAAAAAAAAAAAIAR0uEGDVfV802nyjSuSQAAAAAAAAMIg/d41GXynbS5RpHf49JkAAAAAAAAAAAAAAAAAAAAAAAAAAAAAAAAAAAAAAAAQAjpcIEKdudS9b4/ssys2EAAAAAAAAYiK1s9fqe3VjZ7LNG7I9ZAAAAAAAAAAAAAAAAAAAAAAAAAAAAAAAAAAAAAAAAAIAR0uEA6PXjVzVc32pyfS8yAAAAAAAGCl7rUI31Pg2Lza+5MpAAAAAAAAAAAAAAAAAAAAAAAAAAAAAAAAAAAAAAAAAEAI6XCADX3Q6NZlWsM24vYAAAAAAGIcPXnXDSqDKuV0bopNvyAAAAAAAAAAAAAAAAAAAAAAAAAAAAAAAAAAAAAAAAAACAEdLhAB83v89U9azPbPItP5JAAAAAGEeF9vxa0ajnt85/dZ5wO2kAAAAAAAAAAAAAAAAAAAAAAAAAAAAAAAAAAAAAAAAAABACOlwgAFc2Ov1/YuJsLnN7zIAAADEExTN0qdfWPhbLZfoXo/h9GQAAAAAAAAAAAAAAAAAAAAAAAAAAAAAAAAAAAAAAAAAAAQAjpcIABiFH3um9c+b0olzykAADEIT3OPQug0m2KhZ7XqNm5TIAAAAAAAAAAAAAAAAAAAAAAAAAAAAAAAAAAAAAAAAAAAAgBHS4QAAcYiobjVq2tFe2Ezi9STm9DMyB0+vFXWqt1VbazLeP1L1oN1+rx+gAAAAAAAAAAAAAAAAAAAAAAAAAAAAAAAAAAAAAAAAAAAAAgBHS4QAAAeV9Py0VfqZ4n3fG8+iOXpz8TZdYsNoVWydsegAAAAAAAAAAAAAAAAAAAAAAAAAAAAAAAAAAAAAAAAAAAAABACOlwgAAAABAJAAAAAAAAAAAAAAAAAAAAAAAAAAAAAAAAAAAAAAAAAAAAAAAAEAI6XCAAAAAAAAAAAAAAAAAAAAAAAAAAAAAAAAAAAAAAAAAAAAAAAAAAAAAAAQAjpcIAAAAAAAAAAAAAAAAAAAAAAAAAAAAAAAAAAAAAAAAAAAAAAAAAAAAAABACOlwgAAAAAAAAAAAAAAAAAAAAAAAAAAAAAAAAAAAAAAAAAAAAAAAAAAAAAAEAI6XCAAAAAAAAAAAAAAAAAAAAAAAAAAAAAAAAAAAAAAAAAAAAAAAAAAAAAAAQAjpcIAAAABgyAAAAAAAAAAAAAAAAAAAAAAAAAAAAAAAAAAAAAAAAAAAAAAAAAQAjpcIAAAABqQbbgAAAAAAAAAAAAAAAAAAAAAAAAAAAAAAAAAAAAAAAAAAAAAAAwZBACOlwgAAAAGnpuEAAAAAAAAAAAAD4yoCdkvNYTZ8AAAAAAAAAAAAAAAAAAAAAAAAAAAAAAAAhJSwPAPOJgAAAcTIB5x6IIIfQd5LQAAAAAAAAADBSxYptea6GzpzAAAAAAAAAAAAAAAAAAAAAAAAAAAAAAAAAIAR0uEAAApMgBdp8RTJZxCySnwHYX6AAAAAAAAAACJEtAAAAAAAAAAAAAAAAAAAAAAAAAAAAAAAAAAAIAR0uEAAApkhB8hPDwDzz7S5iTGTIAAAAAAAAAAAAAAAAAAAAAAAAAAAAAAAAAAAAAAAAAAAAAAIqeMWGAAAecegAAecekAAAAAAAAAAAAAAAAAAAAAAAAAAAAAAAAAAAAAAAAAAAAAAAAAAAAAAAAAAAAAAAAAAAAAAAAAAAAAAAAAAAAAAAAAAAAAAAAAAAAAAAAAAAAAAAAAAAAAAAAAAAAAAAAAAAAAAAAAAAAAAAAAAAAAAAAAAAAAAAAAAAAAAAAAAAAAAAAAAAAAAAAAAAAAAAAAAAAAAAAAAAAAAAD//xAAvEAACAQMEAQIFAwQDAAAAAAAFBgQCAzYAARZgBxFAEBMUIDASFVAhIyUmN3CA/9oACAEBAAEFAv8AvYoViCIMdxCyp3b26VXZUAMK/Ip7eZBmiLGJDlY7V28lOoGgk8+QMEO3+QCX6IKDJptNvb2MCRumA4oj88sVjhw8OVanC+2tOAI2BPmEreCdtacARsCfMJW8E7a04AjYE+YQtYJ21pwBGwJ7wdZwLtrTgCNgTzt/oavv6oPbWnAEbAnbb18fKe/r4+7a04AjYE5bevjtN39fHfbWnAEbAmun9Xj9Iq9UHtrTgCNgTJT+pEQ6vVJ7a04AjYEao+Yn+P6vVW7a04AjYFLp/WJ8d1+sL+Dq32po/fSZzyF0hpwBGwLf+tHj/wDtEv4NsN3ZcxfCWgoXpDTgCNgWlT+35V/gmth2EjlFe3gR+ktOAI2Bag+kXz5/AnDFgKFWA98sX6U04AjYFojt9J55/gJsyxAGQo0tzbqKKbdnpTTgCNgWnTb6d79/XXRbszpMtzbIMKOPF9LacARsC15Ds+o2Be+oCe+YjF84ZCB7AUN0xpwBGwLTxZ+ahql756B71rYbnzVleoCjemtOAI2BaO2N5KagX/1q3vGpk/bI6ot7wLfTmnAEbAtVbbVW0jf6Nu92ysNsKOVl67cldPacARsC+FX+M89e6PnbAQWug5Bcn1BpwBGwL4PlqqOWsXab8P3Bs1GCiggaUxmdttqaeoNOAI2BfBzh/VIqfM+rRfbmTMUKLEipjScoppotdRacARsC+EizRIgo96uGw+2MmooUYLFTms3bt0WrPUmnAEbAvid/wfln19dvaHDsUIOEh5rOXooot2eptOAI2BfF1HfWKKmR/cEz2bAxxgkQKvSzhKmmmijqjTgCNgXxuUU3LAC5Uv8Akn2TG12hul9Vu3pXVmnAEbAvseRdVcMAVpLrX596tqaDbZemS11TtDesNOAI2BfZdtUXo0C9cUPIG2+2+35Z5GGMgSSBlxIBF+EFidYacARsC+1kB0mgageq9fyG3GGO1AXSrDPixI8KF1lpwBGwL7mla3naWmqmZt+EqwDBFF0mxNd8IpQBXXGnAEbAvvYVSOW1CZiwCVALDydr7K7lFq0QcQsLVRxoYqxaNHtXLVq3ZsdcacARsC/BLhRZ0WahW/m7WXwZvydvt65Q3V63kP0/VKWYnXYCcEhapp2pp6804AjYF29pwBGwLt7TgCNgXb2nAEbAu3tOAI2BdvacARsC7e04AjYF+NSv3qvKfY2nAEbAvxqH/KXupF6iNBsPgS7qMfDS99DjEOB5I6CeF3y4TgZLXAyWiifOgAAatMLAeBktcDJa4GS1wMlrgZLXAyWuBktcEI64IS1wQlrghH0sIt+7Z4IS1wQlqcEvDz80BdgGhS9WZtcDJa4GS1wMlrgZLXAyWuBktcDJa4GS1wMlrgZLXAyWuBktcDJa4GS1wMlrgZLXAyWuBktcDJa4GS1wMlrgZLRYbZGEAaTLnbzKr1kNfFToKtt/WjobTgCNgX3kqaz70asVhyRNhiDZjIR3ioJqzfWNMLFajqVsfLp8aGb1RUHBv73p6XRdqI+2tAxdo50dpwBGwL76Lv7X5anSzJUGWXCllikRps5hYZF2a23Qf7CLoK7xPEoaHuPVdtttuwG4d2eqK46SLUfvvxI0rf7b0SNIv/8AqD//xAA9EQAABQEEBggDBgYDAAAAAAABAgMEBQAREjFgBhMUIUFxIzI1QFFhofAiUNEVJDCBsfEgJTNCkcGQoOH/2gAIAQMBAT8B/wCS167TYoCsfCkFiuEiqlwHOGkfZo8wqK7OS5Zw0j7NHmFRXZyXLOGkfZo8wqK7OS5Zw0j7MHmFRXZyXLOGkXZo8wqJ7NS5Zw0h7MNzCoYbY1PlnCeC9GHqBG9GEzhMBbGq8q0d7NDmOcJXfHK8q0cG2OAPMc4Py32ShfIa0YNazMHnnBbekblWiw9CoHn8kEQALRr7RdyEmCbUbCFxyWcLSiFaN/Ausn4fJJqQOspsLbEcfp9ajI8jBvd/uHHJkN8EwuXn+vyOZkwZpatPrmqFixbl2hbrm9Mmt+i0lOXx+nyKQfJsG4qGx4VEsVHq23Ot/hk53YjpGQ3jZ67vkK66bZIVFMApBFaeea5XcmX3Z9aKUpS2FydPWJyKCnvcNBh38xgIW8NOFlp17qEtyZff7U3bpNUgSTCwAyfpQToUz+dNzgogU4cQ7/KPlZBfYWuHGo9ikwQBMn5jlDSEl6NEfCyoZTWRqY/l/jv0zJmt2NtvOONRMYVglabecccoyKetYqFDwGtGlLzISeA99mZTZCalHeoPpUNFbMG0L7zj6ZSMF4LK0fHUPVm4+7O+S0oVgl8PXHCoeLOY+2O95hwyoP3TSPyP/vvclIpx6No7zDgFRceq9W253+VcsqaRkFNdFyHD96TPrCAYOPeZB+kwRvnx4BUewWlV9sedXgHvhQAAbgyrPIa+ON4l31Br6+OL5bu8Pn6LBG+p+QUyZrzDja3XU4BRSgULAysoQFExIPGtHji3dKtDe7O7v36LBK+fHwpmzcTK+1OupwCilKQt0uWJH+XzRHHA37DVtoW91kZJGPSvGx4BTJg4lltqedXgFFKUgWFyzpA12hjeDEm+oZ1tTEojiG4e6ScqkwJZibwphGLyC21vcOAe+FAAFCwMtHKByiUajTDGSx2p+qbD/Xc5SZI16FHepUZDnOptT3eYeFYZc0haCYgO0+sX9KjXhXzQqnHj3ARAAtGpCZUXPszELRHj9Ki4YjXplt5/0y8cgKFEo4DTY5oSSFE/9M1ANofjOXSDRO+qNlKun06pqkAup+8aYRjdgSwgWm8cwS0eV+3sDrBhUJJGt2NzuMGH4shOItejS+I9N4t5Jqa96NgeHvCkUUkCXEwsDMUxEi4+8N9xw9aiZkF+gcbjh6/hPJJoyDpDb/Cju5SZNcQC6So+EbMviN8RvHMsnDJvekT+E9ISz2NPqXpbQ8feNN3rV2W1I1v8JjFIFphp1OsG+A3h8qF/Lyg3WxbpffH6Uz0eTKbWOjXxohCJlukCwMzrIIuC3FS2hS+jZb15qe6NXNI2eA3g/wA/+19rTZOsj6DX2vND1UfQa1mkjnALvpRYB84G10rTaCj2++7eHzoAAoWB/wBur//EAEIRAAAEAgUHCQYFAgcAAAAAAAECAwUABAYRITFgEhMUQVFx0TI1QGGBscHh8CIjJDNQoRUwUmKRQqIgJXKQoLLx/9oACAECAQE/Af8ActkJFZxmAQSviYQPLLGRPeXGFFOdewYeedVt+MKJ869gw886rb8YUU52DcMPPOq2/GFFOdg3DD1zqt/qxhRXnYNww987Lb8YUZGp3J290P4VO62/GFHRqeEu3uGKRBU8K9ncGMGEcl3R3xSgtTubrAMYMw5LoiP7opWFTr2BjBvNkzyQ/uDvil5anEo/t44wQGpco9YRTEPfpG6h+iAAiNQQLVJNjOZWdCtQ13Vu8cFhYMUsDLQl1PWr6JR9sTQTFynLClu48IdnNRzms4PJC4MGP1SjBLH3f9fobC0C4rZxX5Zb+vqikDxph9GQ+WX7+WDZoM/RJM36au+r6E2NyrnNAkS7WOwIfHFFvl/w2SsqvHw37cHSXxFE1Ch/TX9rfoMtLKzSwJJBWIxMrIUab9HRtWNr8eEGMY5so1+DqN1rNMyiHqsPoBSmOYClvGJVFCjTfpC1qxvVXGJmZVm1xWVGsRwfQ5T4hVPaHd/7EymKMydPYIh09mbkWuWFynbB1B61jDk4rOUyKp7tQbAwhRdXNu5Q/UAh4+EPyWZdlQ66/wCbenMDQTJ0+bsIW0K+/dD27nc1/ZsTC4PHCLYrmXBI4/qCKWpZDiVT9RemsLLpx8+vYkX7+tcPz0E4bRpexIv38sJANQ1xScAmW+Xmg9Vh0xlZ1HNes1iYXj4BD68JlT0CSsIF9XdxwoX46idWtPwHh0tpalnNfJLYULxh5dEZBD8NkbKrx9a9uFaKHBaXXlB12+EKEFNQSGvDpLY2rucxm07tY7Ic3KXZpbQJDlax2efdAjXfhWjczo7qSu41nrtikMtozqfYa3+fPpDa2zDmvm0rtY7IcJ+WYZXQpLl6x8d8CYTGyhwskcySgHLeEUoTLMyiE8TX42h49HbW2Yc182n2jsifn5VhldCkvmax8d8GMY5sow24Yav80o8pKDyiXd4dGa2qYdFsgl2sdkODlLMcvoMjy9Y+tfdBjGObKNfhmjM5oriBBuPZwh/k9CcjgHJNaHb0RoZl3RTYQLx4Q5vEu1oaA3XhePrXAiJhrHDRTGIYDF1Q7FB3ZSTpOUS/x6GzMCk975f2Uu/1th3fUyJ6E32ECysPDjh2i08UqppJXkn7/OHWQM3TpkRu1bugAAiNQQ2MCUunpjlYUNXHhDw/qT3uEPZS78PEOZM4HLeETaZKRNATCfzSehDtvCLvzpWTmJ1XNoFrGEZNto2lnpkcpXV5cYc3aac1K1BqLqDEDK6GbJvK/oG+KQtRavxCVtIa0eP5rXR2ZnalFvYT+4xNPMgzpaK2gAm1j6vhddaYUFRUaxHETE9BKfDTNqRvt5Q9MJpb4mV9pIft5flSDTPOI+6LZt1QnIs7AUFJoctT1cHiMOdIJtw9gvsE2ccSs78s3e6U9pPZs3cImWRvdyaS3GqHZq8ompCbkjZK5BD/AAlKY41FCuJOjjnN25OSHXwgGtiZwypw+WfZ5cYnqUrKFzUmXNl+/lBznUNlHGsRxOhMryqmcRNkjEtSxTJyJxMDh67IzlE57lBkCO8PKBZKPHtJM/3BAMdHy2mmf7gjM0RlOUbL/ke6DUlbpUKpNDuCJykbnNWZWSHVxvgREw1j/wAur//EAEwQAAECAwMGBg8FBwIHAAAAAAECAwAEBREScyExYJHB0RMiNUFRYQYQFBUgIzAyQEJScYGhsUNQYnKyJDNTdILh8KLSJWNwgISS8f/aAAgBAQAGPwL/AK7JmJwrDal3RcRblhiXbW6FurCEXmslp0wXLsWmZnFhhoDntz/KEydblkNKp621STQVxhdHn5M426YMTjFRYaZl1XpZC2/MOTXmh2qVSeam3VS/Ajg0XecHTCZnnBalpFtnSeYRUETq0rSkBbd1Fl3q0wlqW2rjOHhHfyjN8/pDzCjZw7Bu+8ZfpbphWavOXe5EN2sEKz5gBZFHqsgyt8d0ce56tiufqIgzkyla0XgkJQMpMMTbNvBOovJtz6XVPC2iG8ZcI/mU/QxS8AaXVPC2iG8ZcI/mU/QxS8AaXVPC2iG8ZcJ/mU/QxS8AaXVPC2iG8Zcf+QnbFLwdLqnhbRDeMuF9T6IpmFt0uqeFtEN4y4mT0OI/VFO/Kf1HS6p4W0Q3jLif/o/WIkPev9Z0uqeFtEN4y4qX5Af9Qhkey6sfPS6p4W0Q3jLiqYBMKHRMq+g0uqeFtEN4y4qiOmUcH+kxNp6Jo/pGl1TwtohvGXEyjpaUPlFTb6FoP1+5CpRsSM5MMS9HdLdPZXatVmRaecnZoTU8LaIbxlwRFWlz5wCfkSPuQdj9LtcdWq6+Uc/4N8BoWKmV5X3Ok7tCanhbRDeMvtVlrFFnucH3H3NLK/4g8ni/8se1HfKeSTPvDIFZ2xvOhVTwtohvGX2ppoZnlL+ab/3EqZc4zpyMt+2YV2Q1bxgK7WUqHnHp9w5tC6nhbRDeMvtSbxzPKRZ8Rc+4XZuZXcZbFphc7OBTdLZNl3q9gdfT/wDIS22kIQkWJSObQup4W0Q3jL7VGnTkTYnL+Vdu37gU44oIQkWqUcwEIkZIlumsm28c1ntnYIalJVFxlsZOvr0MqeFtEN4y+1Tn+ZLikaxbsiTfz8IylWsenooFH8Y0V2OLGZZ/2iEyzXGcOV12zKs6G1PC2iG8ZfadX/CdSv52bYpyibbqCjUbPTu8lLJcmnDceUjOLfVHXF9yxc+6PGr9n8I0OqeFtEN4y+1UmQLVGXVdHWBbEwxetLcxm6AQP7+m9wySr1RcHN9kOn3x3ynxeqDg4oV9kDt0PqeFtEN4y+0UnMRlir0xXnWZ/wAirNvplxuxdQcHikez+Ix39q9rkws32UL/AFnZohU8LaIbxl9tJ8xqYVrvp/3el31WOTS/3LXT1+6O/wDWvGJWq802r1+v3aI1PC2iG8ZfbpVUb85PF+KTeG2Gn0G1DiApPx9JL7xvuqyMtDOswqt1q1UsTxEH7TqH4RAAFgGiNTwtohvGX231JTeWwoOjb8iYlQVXlsWtK+Gb5WekGYmDeWcjTQzrMGsVcnuK3io9v8I6oShCQhCRYAObRKp4W0Q3jL7bzDgvNuIKVDqMVSjPmxYygdaTYf8AOr0fh5g3nD+6aGdZg1arkiRB4qM178KeqEttpCG0ixKUjINE6nhbRDeMvwJOqDisPEKXZ/6r3+jcI74yYV+6ZByq/tHfisqPclvERmv9Q6EwlttIQhIsSkDINFKnhbRDeMvwC+gWuyquE/p9bf8ACJe8bXmPFOfDN8rPRLuR6eUPFs25us9Ud+q8VKaUbUNK+03JgJSLqQLABorU8LaIbxl+AttYvIULFA84iao76v2d9V1BOtB2ehqk5GyYqJyHnDX9+qO+9etefWb6WXPqrdovU8LaIbxl+CxWJfivy+Rwpz3eY/A/WGZq0cMOK8BzKHoBUo2JGcmO9XY8FOurN0vozn8u+Ezs/ZMVE5elLe89ejFTwtohvGX4LjLqb7a03VA84h2SmFHva/6x6PVV8MxjJlHljMTjwaRzdKuoQZOntmWpoPHtOT+s7IsZHCzKh4x9QyncNGanhbRDeMvwilNgnGuMwrZ8Y7xVG1uaa4rJXz2ep7x5VUvJ2Ts7myHiI952QKjX3ltMHzW8ylDqHqiES8qylhlOZKdGqnhbRDeMvw++VOFyot5VBOThLNsJp1UVwNQTxUqVk4T+/kj3S/ee5mW8qzuhUtTmTKSGZRBsH9StghLzv7ZO/wARQyJ9w0cqeFtEN4y/IKmpYiWqHteq5798Cn16WcdbHmrPnge/1ovSU0h7pTbYofDwStxaW0DOVGwQUoeM66PVYyjXmgtUqWMnLHOtvas7ID9We7tez8GPM+POYS0y2lptIsSlIsA0dqeFtEN4y/IlibYRMNHmUI4akzqpZfqocygf1Z4sQtU60n8SXLdfGixdG1ybm+LE0YfCTc3xa2yqUQea4lv9WWAur1a3nsvKdPzgKUwZx32pg2jVmgJSLqRmA0fqeFtEN4y9MKnhbRDeMvTCp4W0Q3jL0wqeFtEN4y9MKnhbRDeMvTCp4W0Q3jL0wqeFtEN4y/KT15xSuEDl+0+dl0kqeFtEN4y/KTP5Xfr6W9MOW8G0grVYOYR40TEt+du36WwkMVJhSlealS7pPwPaqgmKhNLl7/BMocJWL1uXUdAhKy84ZNXCBRUPWHR/nRHLI1K3xyyNSt8TM45VA8hpNpRYcsJnGaiJZBWRcsMcsjUrfHLI1K3xyyNSt8csjUrfHLI1K3xyyNSt8csjUrfHLQ1K3xyyNSt8csjUrfHLQ1K3wmYla0y4hWZxsEg/G2OWRqVvjlkalb4l6e/Un77xSEupZPB2nrvQiSfrRCuAU+tYQohCR05YeVJV29wRsWFNqBHRzxyyNSt8csjUrfHLI1K3xyyNSt8csjUrfHLI1K3xyyNSt8csjUrfHLI1K3xyyNSt8csjUrfHLI1K3xyyNSt8csjUrfHLI1K3xyyNSt8csjUrfHLI1K3xyyNSt8csjUrfHLI1K3xyyNSt8GURPJnZhJscDbdgR1WwmYqV6SlfY+0XuiZXKt8K+lo8EjpNmSOx1oSD02sTndU6hsWm90H4ZIBss6tBKnhbRDeMvyHea8pFMk0h2bu5OEVzJ/zriSmn609M11cwFJ9VtLdp1CG5Tgnp2eWLUsS6LyrIfdALb0wgNtoV51qub32Wx2Ouysw9eSjxrIcPBkpsKsnXeMIVIrLk1Os2s3M6E2ZV9VkS9Zl6lNLnmv2rxrxUnJnFnujsXnWGlKDk+0tQSLbvTHZN2R9y93JT+zsMj10Jz7PnFYnA28mTfLfBqmBxlEW/T0d2ook092LN4rOXL0jo0IqeFtEN4y/ITSX+LL1RtPAr/GnJd/zpETFGm6O4uqKfuB9LFjSEXgfO+ELmWG5mfl1tIQFS0yG1ixIFhyHojsalXpZ5qWlmhMTBUq+L4zJKuc5PnFMSKPPPS8m+oPHue1LgNmbVE/axM1aYmWXZeULLZWJdBHP0Z4ck35OYlZoM9zNpdbu8KpXs+6JGTX57bQv+/OYyCzSCek2LOFcbsTb0w1KzYCX76lFINtlvkGu6GEPcEu+3eFt09PhMOvsJdcZVeaKh5p/7of/EAC0QAAECBAUDBAMAAwEAAAAAAAEAESExQVFgYXGh8BCBsTBAkcEgUOFw0fGA/9oACAEBAAE/If8AO0Q4SDgJpoUYjYFBEYR1xgDIJ3Ejg7gR3TFDAkEMSMWLyi0xgGGJ+ltxMCCd0UyPWSU4wAofnGD1ihe1LuEgIN6ABHJBFpiU3OeMIPjLByBOrir7QBnOGcJYwMXB7k6nBnc53dO5VjzPjOoR5QtAAonUiQKFQRyasAN8XbMrmL4w232ZXOXxhN/syucvjCqzZlc5dC45eNDfQeTi7Zlc5dPEuNyF3kG7F2zK5y6z0uwfafth4uNmVzl1oYmvTwcXezK5y6aVvgEXLgf94u2ZXOXTTt8aP0sopu4u2ZXOXTRzEIvqZ2P+nF2zK5y6r1vhK2QHuA+v0gdAjkMAEwdoKCHtzIMx2wRsyucuhBKIIYqM9N1LyP0jZ7jcSs4tdQPmEHaGSQ+a4J2ZXOX6EZeCNR/R+jYQMpjRdnb+KKYWPJjHe+L4K2ZXOX6HBgAeao/RMyz9j/pFSrDtQHb2gyyiJYK2ZXOX6CPWJ8eo/Qx9UtTYC5KYCBAWAmGYmXhB+CCWACQGC9mVzl+hIaSannghIe/O5eZYCZJToToEEhBcy8EUFa0BUqlcmZwZsyucv0M3xIdL7U4pc73ZPv5+QPBTj3Cat8s20mXOlhg3Zlc5foyoffkzuw+Ux2A986zxjktdW2sicIJkPAKmp7YO2ZXOX6PioXGDcBALOYjIDce9AOA3PE5ZdQd9QE9+ijMd9TSV8H7MrnL9Aiu0BP7cC1Eh+8u9jpizwjc92EgT+Jc7tlJ2bB+zK5y/SihgNbjSe7wdIQ7PdYEcONGz0MUGgrpMBhhDZlc5fqOyISNgPL8E76RZA49zF5Il/ABU/wAUahsMGSBTezihhhGAAgBhHZlc5fpRE0oagQQR4Fkv6fcIhFENMLC5oh+AVwAAwsjU1jVyA5AB2ACQGEtmVzl+ruckqBinuINLLeoI9uNYmgr+YXNPgJsLkTgIPYGprq5AL+mAASAGE9mVzl+tEBGYMkLXw2ooAEguD7U9I3lhbm1xR8NvTAkOheurlDUsYQBIAYU2ZXOX/A0PeMImQPhkCN7ooYu/k9o3UnH8Py+SKQosIUcfAK6TGfZiYAWwrsyucv8AgHOfFOCQIRtAoLJ8gHuOXswpcqPlX/6WIPUoxen001sAGAAgMLbMrnL/AIgLJIhUSZw0KBoO/bsZjI+wFgEchgBdQIBVqDnldGJDAMSbcFLnC+zK5y/4gQFpMQMQnFxDSnn7XcyQCSckR6wx3gBnWKlRJmzDLgnkO7OpCIdox4POGdmVzl/yFG6E3qZt5MVEkiYQQqbGWkfTdQm+IRjImcmyizINokjcO6B2FhG7m5zw1syucv8AnS/CThkINtDWVkEQc1tOTG2Wu3pMNMvsp5Fk+qTtY3eAKYeBRm/a1nomhhvZlc5f0CoLiiRlrk3UIg/cQSD370Ttozh7mcQh+ApwOFB3KCm2Zv5PqJUJnBDN2XgUXocuKQ7N/pGSZ0EOBkBh3Zlc5f0bnsOxuDQ5hDmBy7nQBButDfyKHTInLeEeMhzJRioILDaRYnKQDs6YaQ4LsQOYDAMBh/Zlc5fGGzK5y+MNmVzl8YbMrnL4w2ZXOXxhsyucv6jh2fEmzK5y/qREzxkAs+mJNmVzF/U4i33dWsSFhyw7Is0RmMN/gi3DZ01oJdURvPM55C/IAIGRwEKp3IYAMbEQiD2dShTM1s/Aqc07DZ4JFYH0ChQoUKFChCHIR1lSoQkSEKDQWZ+LFgi61Kkw/wCzLAOA6sCjKo8I+MyLFmE9UQsxc2TNQWPx7YoUKFChQoUKFChQoUKFChQoUKQFR/mUhGYYnIJwQxDWFoZdY5VRSJ+ExHAjmys0NSxGY6LJGSRGQ7pjAmzK5y/oApjulFMXrMR/wChQkx5iQlIDO04TKF3uUYG0tUIPdbAGLLHNQhxEc2oTKHuo9AL4vXmag/cZFBxC0MEC3ZFPSqOCZnHeLQuHRpk7CNAVgwIcYHJRMJgNAhwBECHNDL27uSy5aUwGBZjBGzK5y/oObBOUQbnXn/RBUTYsOHbpMynPYBNK4JoBM/yrAGlIzFd5QDo5Jj4xMMU2R3c8cA2cTGwoWmXiUKfAkOEyALntdS5KB3Y/sJQFgBOAxBUQZsCBdtkyrxuKgHEPj0DSYCaGZB1brH8T4bw/9Q//2gAMAwEAAgADAAAAEAAAAAAAAAAAAAAAAAAAAAAAAAAAAAAAAAAAAAAAAAAAAAAAAAAAAAAAAAAAAAAAAAAAAAAAAAAAAAAAAAAAAAAAAAAAAAAAAAAAAAAAAAAAAAAAAAAAAAAAAAAAIAAAAAAAAAAAAAAAAAAAAAAAAAAAAAAAAAAAAAAAAAAAAAAAAAAAAAAABIAAAAAAAAAAAAAAAAAAAAAAAAAAAAAAAAAAAAAAAAAAAAAAAAAAAAAAAAAAAAAAAAAAAAAAAAAAAAAAAAAAAAAAAAAAAAAAAAAAAAAAAAAAAAAAAAIAAAAAAAAAAAAAAAAAAAAAAAAAAAAAAAAAAAAAAAAAAAAAAAAAAAAAAAAAAAAAAAAAAAAAAAAAAAAAAAAAAAAAAAAAAAAAAAAAAAAAAAAAAAAAAABJMAAAAAAAAAAAAAAAAAAAAAAAAAAAAAAAAAAAAAAAAAAAAAAAAAAAAAAAFwAAAAAAAAAAAAAAAAAAAAAAAAAAAAAAAAAAAAAAAAAAAAAAAAAAAAABDOAAAAAAAAAAAAAAAAAAAAAAAAAAAAAAAAAAAAAAAAAAAAAAAAAAAAAAINgAAAAAAAAAAAAAAAAAAAAAAAAAAAAAAAAAAAAAAAAAAAAAAAAAAAAABBuAAAAAAAAAAAAAAAAAAAAAAAAAAAAAAAAAAAAAAAAAAAAAAAAAAAAAAIDAAAAAAAAAAAAAAAAAAAAAAAAAAAAAAAAAAAAAAAAAAAAAAAAAAAAAABBuAAAAAAAAAAAAAAAAAAAAAAAAAAAAAAAAAAAAAAAAAAAAAAAAAAAAAAIGgAAAAAAAAAAAAAAAAAAAAAAAAAAAAAAAAAAAAAAAAAAAAAAAAAAAAABB+AAAAAAAAAAAAAAAAAAAAAAAAAAAAAAAAAAAAAAAAAAAAAAAAAAAAAAIAAAAAAAAAAAAAAAAAAAAAAAAAAAAAAAAAAAAAAAAAAAAAAAAAAAAAAABBoAAAAAAAAAAAAAAAAAAsAAAAAAAAAAAAAAAAAAAAAAAAAAAAAAAAAAAIHAAAAAAAAAAAAAAAAAAbgAAAAAAAAAAAAAAAAAAAAAAAAAAAAAAAAAABBmAAAAAAAAAAAAAAAAAy6AAAAAAAAAAAAAAAAAAAAAAAAAAAAAAAAAAAINgAAAAAAAAAAAAAAAB8EAAAAAAAAAAAAAAAAAAAAAAAAAAAAAAAAAAABBrAAAAAAAAAAAAAAABfmAAAAAAAAAAAAAAAAAAAAAAAAAAAAAAAAAAAAIFSAAAAAAAAAAAAAAAFxQAAAAAAAAAAAAAAAAAAAAAAAAAAAAAAAAAAABArwAAAAAAAAAAAAAAAjAAAAAAAAAAAAAAAAAAAAAAAAAAAAAAAAAAAAAIMoAAAAAAAAAAAAAALXgAAAAAAAAAAAAAAAAAAAAAAAAAAAAAAAAAAAABAqgAAAAAAAAAAAAAEeAAAAAAAAAAAAAAAAAAAAAAAAAAAAAAAAAAAAAAIB6AAAAAAAAAAAAAAyAAAAAAAAAAAAAAAAAAAAAAAAAAAAAAAAAAAAAABAMgAAAAAAAAAAAAIqAAAAAAAAAAAAAAAAAAAAAAAAAAAAAAAAAAAAAAAIBLQAAAAAAAAAAAOzgAAAAAAAAAAAAAAAAAAAAAAAAAAAAAAAAAAAAAABAJuAAAAAAAAAAAN3wAAAAAAAAAAAAAAAAAAAAAAAAAAAAAAAAAAAAAAAIBIwAAAAAAAAAALGQAAAAAAAAAAAAAAAAAAAAAAAAAAAAAAAAAAAAAAABABGAAAAAAAAAAN8sAAAAAAAAAAAAAAAAAAAAAAAAAAAAAAAAAAAAAAAAIAIQAAAAAAAAAKBGAAAAAAAAAAAAAAAAAAAAAAAAAAAAAAAAAAAAAAAABAAmAAAAAAAAAPRIAAAAAAAAAAAAAAAAAAAAAAAAAAAAAAAAAAAAAAAAAIABHgAAAAAAAJ1KAAAAAAAAAAAAAAAAAAAAAAAAAAAAAAAAAAAAAAAAABAAAoAAAAAABrnAAAAAAAAAAAAAAAAAAAAAAAAAAAAAAAAAAAAAAAAAAAIAAFkAAAAABewgAAAAAAAAAAAAAAAAAAAAAAAAAAAAAAAAAAAAAAAAAABAAAOMAAAANdlAAAAAAAAAAAAAAAAAAAAAAAAAAAAAAAAAAAAAAAAAAAAIAABhiAAANDmAAAAAAAAAAAAAAAAAAAAAAAAAAAAAAAAAAAAAAAAAAAABAAABlKwAqfgAAAAAAAAAAAAAAAAAAAAAAAAAAAAAAAAAAAAAAAAAAAAAIAAAAG5qGYAAAAAAAAAAAAAAAAAAAAAAAAAAAAAAAAAAAAAAAAAAAAAABAAAAAACQAAAAAAAAAAAAAAAAAAAAAAAAAAAAAAAAAAAAAAAAAAAAAAAAIAAAAAAAAAAAAAAAAAAAAAAAAAAAAAAAAAAAAAAAAAAAAAAAAAAAAAAABAAAAAAAAAAAAAAAAAAAAAAAAAAAAAAAAAAAAAAAAAAAAAAAAAAAAAAAAIAAAAAAAAAAAAAAAAAAAAAAAAAAAAAAAAAAAAAAAAAAAAAAAAAAAAAAABAAAAAAAAAAAAAAAAAAAAAAAAAAAAAAAAAAAAAAAAAAAAAAAAAAAAAAAAIAAAAABAAAAAAAAAAAAAAAAAAAAAAAAAAAAAAAAAAAAAAAAAAAAAAAAABAAAAAAIAAAAAAAAAAAAAAAAAAAAAAAAAAAAAAAAAAAAAAAAAAAAAAABAAAAAAABAAAAAAAAAAAAAJJAAAAAAAAAAAAAAAAAAAAAAAAAAAAAAAAAIAAAAAIIJBBAAAAAAAAAABAJIAAAAAAAAAAAAAAAAAAAAAAAAAAAAAAAAAIAAAAABABAAAAAAAAAAAAAAAAAAAAAAAAAAAAAAAAAAAAAAAAAAAAAAABAAAABABJBAAAAAAAAAAAAAAAAAAAAAAAAAAAAAAAAAAAAAAAAAAAAAAAIAAABJJIAAAAAAAAAAAAAAAAAAAAAAAAAAAAAAAAAAAAAAAAAAAAAAAAAAAAAAAAAAAAAAAAAAAAAAAAAAAAAAAAAAAAAAAAAAAAAAAAAAAAAAAAAAAAAAAAAAAAAAAAAAAAAAAAAAAAAAAAAAAAAAAAAAAAAAAAAAAAAAAAAAAAAAAAAAAAAAAAAAAAAAAAAAAAAAAAAAAAAAAAAAAAAAAAP/EACsRAQABAgQFBQEAAgMAAAAAAAERACExQVFgYXGBocFAkbHR8FAgMJCg4f/aAAgBAwEBPxD/AJLRJUQQYy1gUsm8FH4L12nd7X6Gtdt3hivxNdv3h+JrXb94Gf2Xpzye8DP4L1yjvBC9IfZK5Ik77w5eT7Up4fybwCA10eifJvDix8VcJ/mbwAJ1fFByT4/iIkgKnOVdFkMV+Az2XxEGnK5vhT+IEuPCPp76CgxJuLV+jLZjlc/s/hyokoAyHN8VE2b18j5c9mvSJ+Xj+FfSwDV0+6fncyXDgxoZe+zmqt9z5fwXqihrIqx4cXN0oUUBgbOK2xJfkfdKQ+vSLAXWiyKrvl55OtREl+ebs8mJcR7i+KdyQH3PXKBLQO6m4z16GeuFXSFvmL+w2gcXM13jzQEZHg9dFrgYZTkcXsVg8N2nA/X2iwaVi5hJ3qe8X738+tulgSLwc+elWQxd73eXPttIVedLiv7I+PWQe7DeXgd61tAOJxfBltRxsxidH2Vz9V3ZAX6Kx0TcuejyMvegC1htQELKHWRB2GiwcB9/Urmlcxf2dYsEzqaW0d8+IMEBtWUBNh0x7TV8st7p/wCenaYNd5i07sDqcDhrrQc4DA2sakgT3pb7jIc0L1E9OtWcgxWsMweYaHDVzoAEBYjTbARrRzf8QI86AAz9KzuvmL4NXzUnk94cDT55UJKAyNsqh3PZn99KNh4zD3L+kT4nAfLoVJtVdM9LZDTPPOTAQG2hpkRE500UcRGsOeE8PRnt2ta4Trx0Kl03gsuL4MCgBBRts7bpMZ5Ho+aMDZYaJj98vQTogqU60R+W44VfWe+pL5eO3irkETnT+3bOQZPTB96AEwf9s09OO7wCmrgbuXVnyOtXmDFYv0cNwKyzlx0eDQE0uJZxlzMtT/YoY1PaNBgc3wUXfk5k0DJ3oWMMjcXG52tZ5MnpyCMvS2s+HUqf9DU7B0LrSzX7hbi+D3qALjsuR+a5bjaanhzyefHjjRJ42M0HHAd9aMH4Jvyij/CGAOLFSJwa73cKeTbP7XhNXcm8Xjq4vWOVAgBkEbnfgbUmiyuUX+S9BC1ZW+ndUyJ+h905V6lL/hnyloE2JlJX2y7VEqBnd2wo4IBkbsgqD/s+/wD/xAArEQEAAAUCBQQDAAMBAAAAAAABABEhMUFRYWBxgZGhQLHB8DBQ0SCQoPH/2gAIAQIBAT8Q/wBlrkAhZtAC8BTWRlqcYGZ+9o8zxhZ+9o8zxg5fTtHn+MPq9o89xgpffoQZc/xhL+oPJ+IkL6ocYdZwudlcYU0cvcSAbqPEvjjAVNET11+Y4w2P9lCYdHh/SmDgpCse4ROFn3j9ICCaxIyOidU2NxdV/pwU0Uhh7I+RHz+jnEigEy/321NdIfKlDSP63e1jgxAMfMfo5ZpP1LyfLg5wU3lTpZFOzHfTgxgFb+w/a/oqUV3cHnoZYENQkVw3asumYODQrqrzHt/QzNjkf3kZYNqBm5Dq2LB/sPEmqq3XVeDnUJRkc08yho+vFCaSAuriFBgZBnYbF100iZoc1+DYscHoEbLLWaUGASe2KevoEBWKk7MugGDxSbswaHPVywcHNoSZyPAQbj+AfL1rC9GixllswZdryXUedu3fBTXhEn0gmOyyfEOAUDuKe0vWpKrhnmYnoZdOU4cxKlJz4YM30lwihC5AF0b9JO0n1lZCeZ8j4K6DO0UKylhtqy9Z8J1Kr9rv7RTHqsHlphtu4Iw5JFjUnlZYteyueFLC4k6iviL/AMo9GXqRhSFcA/uhnvFrEshrVdXL+rEI1U14VAylNfW3gQ5QlIPu8H1AEpC5YavwZ5TTKKbgt06sGCGyzW6534WV6SicxnAd0El2Ejog5vplgScgqlhq76F2KaVG4LluwWDpC5Sqq5YkcLoqSZ9e4nKGYycekrAEZG7YfLoexFCvVSdVytLeEKEVM1aq6sSrPhibmRz87+VDnCipdiu7Mz0kwHbPLU+2d5EAoDjWudbjFbMFmuXhpmJKEdyC/mVG1g8mvLn6ORzgrNo8mhr2bUW1ilM02a3ONVms2M8NsvM2Q2oqdHkIOTW9VbtZ3H884BBNYmkK0f3XQVc6QQzQpKzJrKxod9Dh1MZII6JUghaVQvM9h7GsIqTf8xZjdjdbBzgqZygxyY3XTSKDhZsf13fBxAWU2idtTc/pBxJsywuGznR8T/FOsoK2gXVE2xsYN2maw5CN0HVc/B4hWd8v223EU9xitZ2ltWTF9Zz3KKVr99DjOv4ZjAkbW6DrnkTgO98L18EE75Sybs8rQ3nxJJDn8zNerGqpyhiNaus6l30loZjncMqPJKef8RrE4Cb4iRLf0/17RKlL6kZ+UoagGg0o2CnROWsP2XCs168TlEjkZf8Apsw3Vgkh6jV4hkXsY7T+MWYHN+IXqDk/ETFxz9gELziWUDnSa9ZRMzP4p73O8LEmuv8A11f/xAArEAEAAQMDAgUFAQADAAAAAAABEQAhMUFRYGHwEDBAcYFQkaGxwSBwgNH/2gAIAQEAAT8Q/wCdh5ISZLkwIvKYo42ychsmJQTgm9r1py8gldnXR1Hufegv3ecrmW/wWDpAwcvUAE9iLzIgyjAF5umerESizRYV1W5hAr8ZGSRDF1QxM0Du/kYwJEILsXU8w9+XtiFqF7gzNBOkVpL9h8wLQxgidCNIgItcqTPzMSgnppW2LkGVIVYGBAEIqljVgVhZ7HCYF4S4wpJZeXgO3badiiy+6/L0HatvhC7Ns8vQdq20J6FQpXp/s5eg7VtqR7j8f9r2EX2Ll6DtW2u6Q/oqQmn2B8vQdq21/wCBDNZeb+Gf85eg7VtqFmfsq1JZu38CfiOXoO1basbPbB0q8+jbSuX6DtW2kPJ/S6im5fYp/o5eg7VtpTk+6DFRTuKbQf5X0VYc0PCUHattEmQaN4X9pJSw079+v0RSOyARKq4AKxCbEPHS5zatyyzQ4Sg7Vto2pMHUSKOLjllmH3+59DWGr14yVtmNNXgCTAaCcnQ7sze6hbWEqg4Sg7VtpxUq5ywLF9j8voU3qSwQwJrg+QWyi3IKVhtUOuvclNw0N/CkHattOK9hfIoqibfQJJqFVGzx7G5m0DdQTPUr2aCSxCXAugFBEJnhaDtW3w2gXS6g+U+9GfoA4WMlcC1CAGVo+gIOzKajA7g2ZAGbsEdACwABFFjhaDtW2nFJRE22XfA9KfuevNZQkpKlgAVWnAGWAHApKVXh3MgwB3WJ1UpqrRjhiDtW2nFX/wDb6iH2+1TT6bPKR/PrlAlYOtJREO5ORCYhyJWWCgVQ6hB3WxxoG6qliOGoO1baaWSeKuEl+P6rUkIygU+Betk3qIZgLiEW9C0MZLRIKxAlpH3r6BOABg4cg7Vt8LSn8zg/NKbQ+t13wfkD6xxUtio9PFqJ6UyIgowC+tgTN7964cJlw9B2rb4T7K3gkJTMZowLGN2/4fVuKQqyNhgiNaYNKCwqOEEPC0wOvMADCeIiDtW3wcqTdJ1YExPcT7kUX9S4pJhE1H5ZBLrYLtO5iCQzNhAY4DgVgAANuIoO1bfBxUDrEXKnq+zTqfigrfZPULBQSBQCc/aGGATKhbmAizvzoI1zeTQrkPALABgOJIO1bfByoFki7KV/hnxQYCUwzyf2/TrFWbFPAnwEkthuoMUzYSyh6+TIkSqgKsLp6AFgAgCteJIO1bfEH2B8yX2WrqIWtbO1UepL0zpULxjYEwbMkpATKpeOMURBTLLDdSCqgAlLhaALAEAFQTPE0Hatvi5VMOrRQSwws/YXN6IcARMI+kWKFoyF7qXicp0BYFLcEALm5SiRDKm6gPP9ItAFgAgCo4og7Vt8XDTO7CigvHAJKgFNGqpCebsqXE9D6NYpA7NxDRS5ODKsYoQUOKTr7R0bna6oA8CxiABYAIgqLzxVB2rb46UPusQBQORFKm7YSLvZy9RpC4VPoVgrBDCTmwk3yBjOii4OcV3cTrjQEQtUIgAgAsUEcWQdq2/40rNgjxTMXltMCaAoMToRjLEgSzDrWnnT0p5eyIV1LYAvNM5ulqttmAMuAJYAVUdRcyCZ/KsTFAOMIO1bf8n5p6VSOiKVBQnn2akCnAsOGKCsAKJEcI1p5k02FlaYcg7tGDSVgFo2XhTYWpOZR0sYHwQw+Ub3MF0JUTQRjjKDtW3/AFb7JUGPRogXQXIRHAfLhDLsPUIyKCRnypJpAKsG9XugzA7CYk9WyKqjaYCZ0j6O6ZGJa25lDuqZTKlVurQQRxpB2rb/AKgWh1g7J0QEiMwIBNoAAHAibJiNIVEsXsEgvfyFIzQFgtERJJYDoo60vjt0XZtDISSw3AmnYRxGlDfUQhfOcIYqyAUY42g7Vt/2kt5oGSJmNAESaApMIAgnzywgklOlBgl5UUKfIogtPeSHRaw6+Mm9REROHdQCrHgAExqpDS46ZpJHTCDUABJGD7tRT+70xlYWTWSUVQNXAnYAAHtx5B2rb5L4wmFZRqr1kE3qYoqlPaj7j63tH4cCl2NK/DUmQ5mvwFMwTj94f6rAwzCurJPw1PRGUgOROP7BoRTl9USaZYIZ4lJvmR04DgNALHIEHatvmQVBtyRB2rbzFB2rbzFB2rbzFB2rbzFB2rb5giAUyTjkqDtW3y9KXF5TyOcssLbEhZ5DN48XFqaDs23y9KkWPVoqoZGncRlhQVPzkGK977tmg9gIKMAmVtE03pKfI7PYWsEz7bIyTwESLZsVRZJ1t7Hi6fE2aAYWl03XNKIEdSUg2Zf28h8+fPnz58jGMqNLkX/DfhxAlUQKNNQLCVgrhGHI0n4ePJet4GXmCJonwgAIdAlgZ5hGAaKdvQ/FWVcED1SHpnz58+fPnz58+fPnz58+fPnz58ohUcjWYgszXUi6wgxCKJFLPCP+IV7c9EEpNI/0tvq8jq+akIuK4Ul4lLCVe8psdqGVMMKSdFOCoO1bfIWaLBS3LJIWjDyJpWWbxCcqZMJFlBEi3oJi+AZWJhDEM0h9nMHIMLi01aCPFKKIcLjnM7yAqdAszRWzZGcREWuEBzGspJTCmFUllFxECCwaKCSklXNAMBiK+LCTFEkeQAHgWZYEWgyHprmTxLSjWt0Bu3u1AaeEEcGQdq2+QzHnogQ8JS4nI5ohlz8T9GyvQmpUuhUYGryZLViElmo3vyN4nAUsjqBToMdlWI9ypCUDHFgHiWUimIpADsGaLqZQkCLLoKOSIxLmIlkDDsVdqDCAlZX3WoOPtgWjCgU6SwlsTeooLEolSRMAskvl8gQiI1fycJUWqCoLUFIOaX1oOmA7bYfcHIJ/2g//2Q==)"
      ],
      "metadata": {
        "id": "-1s2A1PsE8Dp"
      }
    },
    {
      "cell_type": "markdown",
      "source": [
        "as $h$ decreases error improves and then it doesnt. thats bc of loss of significance when subtracting small numbers from small numbers and the magnification of that error by dividing by small numbers."
      ],
      "metadata": {
        "id": "F2oW2KgcYzEd"
      }
    },
    {
      "cell_type": "markdown",
      "source": [
        "the take-away is that three-point centered-difference formula improves as $h$ decreases until $h$ nears the size of the cube root of machine epsilon."
      ],
      "metadata": {
        "id": "HULzJJWb51K3"
      }
    },
    {
      "cell_type": "markdown",
      "source": [
        "## 3 extrapolation"
      ],
      "metadata": {
        "id": "9NUU_Mzk6e1y"
      }
    },
    {
      "cell_type": "markdown",
      "source": [
        "given formula $F(h)$ of order $n$ that approximates quantity $Q$."
      ],
      "metadata": {
        "id": "q66GO6WOY3zv"
      }
    },
    {
      "cell_type": "markdown",
      "source": [
        "$$Q \\approx F_n(h) + Kh^n$$"
      ],
      "metadata": {
        "id": "MrvsM78hY5LT"
      }
    },
    {
      "cell_type": "markdown",
      "source": [
        "where $K$ is roughly constant over the range of $h$ of interest. eg,"
      ],
      "metadata": {
        "id": "rZ3yLalYY6-P"
      }
    },
    {
      "cell_type": "markdown",
      "source": [
        "$$f'(x) = \\frac{f(x+h)-f(x-h)}{2h} - \\frac{f'''(c_h)}{6}h^2$$"
      ],
      "metadata": {
        "id": "aIYQWWiwY8qR"
      }
    },
    {
      "cell_type": "markdown",
      "source": [
        "where unknown $c_h$ between $x$ and $x+h$ and dependent on $h$. although $c_h$ is not constant, the function $f$ is reasonably smooth and $h$ is not too large, the error coefficient $\\frac{f'''(c_h)}{6}$ should not vary far from $\\frac{f'''(x)}{6}$."
      ],
      "metadata": {
        "id": "MTgEqdEXY_8m"
      }
    },
    {
      "cell_type": "markdown",
      "source": [
        "bc $F(h)$ is of order $n$, if $\\frac{h}{2}$ applied instead of $h$, error reduces from a constant times $h^n$ to a constant times $(\\frac{h}{2})^n$ - ie, reduced by a factor of $2^n$. ie,"
      ],
      "metadata": {
        "id": "n6mAo8syZCMg"
      }
    },
    {
      "cell_type": "markdown",
      "source": [
        "with your good friend algebra,"
      ],
      "metadata": {
        "id": "t3X_0IJz9xoz"
      }
    },
    {
      "cell_type": "markdown",
      "source": [
        "\\begin{align}\n",
        "  Q &\\approx F_n(h) + Kh^n \\\\ \\\\\n",
        "  Q &\\approx F_n(\\tfrac{h}{2}) + K(\\tfrac{h}{2})^n \\\\ \\\\\n",
        "  &\\Downarrow\\quad \\text{eliminate } K\\cdot h^n \\\\ \\\\\n",
        "  Q - F(\\frac{h}{2}) &\\approx \\frac{1}{2^n}(Q-F(h)) \\\\ \\\\\n",
        "  2^nQ - Q = (2^n - 1)\\cdot Q &\\approx 2^n F(\\tfrac{h}{2}) - F(h) \\\\ \\\\\n",
        "  \\Rightarrow\\quad Q &\\approx \\frac{2^n F(\\tfrac{h}{2}) - F(h)}{2^n - 1}\n",
        "\\end{align}"
      ],
      "metadata": {
        "id": "EJslpjR46y9m"
      }
    },
    {
      "cell_type": "markdown",
      "source": [
        "##### <b>richardson extrapolation</b>: extrapolation for order $n$ formula"
      ],
      "metadata": {
        "id": "7e8F2BYWhhfE"
      }
    },
    {
      "cell_type": "markdown",
      "source": [
        "$$Q_{n+1} \\approx \\frac{2^nF_n(\\frac{h}{2}) - F_n(h)}{2^n-1}.$$"
      ],
      "metadata": {
        "id": "wZHEsrkRhtJM"
      }
    },
    {
      "cell_type": "markdown",
      "source": [
        "##### usw"
      ],
      "metadata": {
        "id": "5ur2fXpYiE9r"
      }
    },
    {
      "cell_type": "markdown",
      "source": [
        "this formula typically gives a higher-order approximation of $Q$ than $F(h)$."
      ],
      "metadata": {
        "id": "c_NYs6MrZKRj"
      }
    },
    {
      "cell_type": "markdown",
      "source": [
        "\\begin{align}\n",
        "  Q &= F_n(h) + Kh^n + \\mathcal{O}(h^{n+1}) \\\\\n",
        "  \\\\\n",
        "  &\\Rightarrow F_n(\\frac{h}{2}) + K\\frac{h^n}{2^n} + \\mathcal{O}((\\frac{h}{2})^{n+1}).\n",
        "\\end{align}"
      ],
      "metadata": {
        "id": "GTM7CmpoZMBf"
      }
    },
    {
      "cell_type": "markdown",
      "source": [
        "extrapolated,"
      ],
      "metadata": {
        "id": "ZIO17etUZNf2"
      }
    },
    {
      "cell_type": "markdown",
      "source": [
        "\\begin{align}\n",
        "  F_{n+1}(h) &= \\frac{2^nF_n(\\tfrac{h}{2}) - F_n(h)}{2^n-1} \\\\\n",
        "  \\\\\n",
        "  &= \\frac{\n",
        "    2^n(Q-K\\frac{h^n}{2^n} - \\mathcal{O}(h^{n+1}))\n",
        "    - (Q-Kh^n-\\mathcal{O}(h^{n+1}))\n",
        "  }{2^n -1} \\\\\n",
        "  \\\\\n",
        "  &= \\frac{\n",
        "    (2^n - 1)\\cdot Q - Kh^n + Kh^n - (2^n - 1)\n",
        "    \\cdot \\mathcal{O}(h^{n+1})\n",
        "  }{2^n -1} \\\\\n",
        "  \\\\\n",
        "  &= Q - \\mathcal{O}(h^{n+1}) \\\\\n",
        "  \\\\\n",
        "  &\\Rightarrow Q = F_{n+1}(h) + \\mathcal{O}(h^{n+1}).\n",
        "\\end{align}"
      ],
      "metadata": {
        "id": "XIRcoUO1ZQZI"
      }
    },
    {
      "cell_type": "markdown",
      "source": [
        "ie, $F_{n+1}(h)$ is at least an order $n+1$ formula for approximating $Q$."
      ],
      "metadata": {
        "id": "hc-RuZBkZSQQ"
      }
    },
    {
      "cell_type": "markdown",
      "source": [
        "[extrapolation wrt numerical analysis@wiki](https://en.wikipedia.org/wiki/Richardson_extrapolation) ~ \"estimate by extrapolating the estimates to $h = 0$\"."
      ],
      "metadata": {
        "id": "SzAxcjKyh8Ib"
      }
    },
    {
      "cell_type": "markdown",
      "source": [
        "##### example 04"
      ],
      "metadata": {
        "id": "0Ngm3XzzbXGr"
      }
    },
    {
      "cell_type": "markdown",
      "source": [
        "apply extrapolation to three-point centered difference formula."
      ],
      "metadata": {
        "id": "focr2uawbujQ"
      }
    },
    {
      "cell_type": "markdown",
      "source": [
        "\\begin{align}\n",
        "  f'(x) = F_2(x) &= \\frac{f(x+h)-f(x-h)}{2h} \\\\\n",
        "  \\\\\n",
        "  F_{n+1}(x) = F_3(x) &= \\frac{2^2F_2(\\frac{h}{2}) - F_2(h)}{2^2-1} \\\\\n",
        "  \\\\\n",
        "  &= \\frac{\n",
        "    4\\cdot\\left[\\frac{f(x+\\frac{h}{2})\n",
        "    - f(x-\\frac{h}{2})}{2\\cdot\\frac{h}{2}}\\right]\n",
        "    - \\frac{f(x+h)-f(x-h)}{2h}\n",
        "  }{3} \\\\\n",
        "  \\\\\n",
        "  &= \\frac{\n",
        "    \\frac{8}{2h}\\cdot\\left[f(x+\\frac{h}{2})\n",
        "    - f(x-\\frac{h}{2})\\right]\n",
        "    - \\frac{1}{2h}(f(x+h)-f(x-h))\n",
        "  }{3} \\\\\n",
        "  \\\\\n",
        "  &= \\frac{f(x-h) - 8f(x-\\frac{h}{2}) + 8f(x+\\frac{h}{2}) - f(x+h)}{6h}\n",
        "  = F_4(x).\n",
        "\\end{align}"
      ],
      "metadata": {
        "id": "9pZOXOWKcDIf"
      }
    },
    {
      "cell_type": "markdown",
      "source": [
        "this is a five point centered difference formula. bc the order three error terms (ie, $\\frac{h^2}{3!}f'''(c)$) cancel out, this is an order four formula. further, $F_4(h) = F_4(-h)$ so error for $h$ is the same as for $-h$; therefore, the error terms are only in terms of even powers of $h$."
      ],
      "metadata": {
        "id": "fclZRVJYZZBl"
      }
    },
    {
      "cell_type": "markdown",
      "source": [
        "##### example 05"
      ],
      "metadata": {
        "id": "rIvZVW0chQFl"
      }
    },
    {
      "cell_type": "markdown",
      "source": [
        "apply extrapolation to second derivative formula."
      ],
      "metadata": {
        "id": "9Xa_h4SKhVRT"
      }
    },
    {
      "cell_type": "markdown",
      "source": [
        "\\begin{align}\n",
        "  f''(x) = F_2(x)\n",
        "    &= \\frac{f(x-h)-2f(x)+f(x+h)}{h^2} - \\frac{h^2}{12}f^{(iv)}(c) \\\\\n",
        "  \\\\\n",
        "  F_{n+1}(x) = F_3(x)\n",
        "  &= \\frac{2^2F_2(\\frac{h}{2}) - F_2(h)}{2^2-1} \\\\\n",
        "  \\\\\n",
        "  &= \\frac{\n",
        "    4\\cdot\\left[\n",
        "      \\frac{f(x+\\frac{h}{2})-2f(x)+f(x-\\frac{h}{2})}{(\\frac{h}{2})^2}\n",
        "    \\right] - \\frac{f(x-h) - 2f(x) + f(x+h))}{h^2}\n",
        "  }{3} \\\\\n",
        "  \\\\\n",
        "  &= \\frac{\n",
        "    \\frac{16}{h^2}\\cdot\\left[\n",
        "      f(x+\\frac{h}{2})-2f(x)+f(x-\\frac{h}{2})\n",
        "    \\right] - \\frac{1}{h^2}\\cdot(f(x-h) - 2f(x) + f(x+h))\n",
        "  }{3} \\\\\n",
        "  \\\\\n",
        "  &= \\frac{\n",
        "    -f(x-h) + 16f(x-\\frac{h}{2}) - 30f(x) + 16f(x+\\frac{h}{2})- f(x+h)\n",
        "  }{3h^2} = F_4(x).\n",
        "\\end{align}"
      ],
      "metadata": {
        "id": "Az9jY2GWiPqr"
      }
    },
    {
      "cell_type": "markdown",
      "source": [
        "for same reasons as example 04."
      ],
      "metadata": {
        "id": "4Ho0_JF4ZfOZ"
      }
    },
    {
      "cell_type": "markdown",
      "source": [
        "#### 5.1.4 symbolic differentiation and interpretation"
      ],
      "metadata": {
        "id": "BQgbsxO47i6S"
      }
    },
    {
      "cell_type": "markdown",
      "source": [
        "super-uninterested; however, there will be a sympy example at the end of this set of lectures. plus a previous homework also contains an example."
      ],
      "metadata": {
        "id": "wTces7-P7oTR"
      }
    },
    {
      "cell_type": "markdown",
      "source": [
        "##### sympy"
      ],
      "metadata": {
        "id": "33kbaxeWrAPb"
      }
    },
    {
      "cell_type": "markdown",
      "source": [
        "###### code, basic examples"
      ],
      "metadata": {
        "id": "HWeAeYIwrCpM"
      }
    },
    {
      "cell_type": "code",
      "source": [
        "# alright, fine.\n",
        "\n",
        "#https://certik.github.io/scipy-2013-tutorial/html/tutorial/basic_operations.html\n",
        "#https://certik.github.io/scipy-2013-tutorial/html/tutorial/calculus.html\n",
        "\n",
        "#from sympy import *\n",
        "import sympy as sy\n",
        "\n",
        "x,y,z = sy.symbols(\"x y z\")\n"
      ],
      "metadata": {
        "id": "VntCRZWBnCVb"
      },
      "execution_count": 1,
      "outputs": []
    },
    {
      "cell_type": "code",
      "source": [
        "f = sy.sin(3*x)\n",
        "f.subs(x,y)\n",
        "print(f)\n",
        "print(f.subs(x,y))\n",
        "print(f.subs(x,0))"
      ],
      "metadata": {
        "colab": {
          "base_uri": "https://localhost:8080/"
        },
        "id": "WxFp4j9trsDT",
        "outputId": "05758699-9a8e-441d-bde0-dfcb76bbdb5f"
      },
      "execution_count": null,
      "outputs": [
        {
          "output_type": "stream",
          "name": "stdout",
          "text": [
            "sin(3*x)\n",
            "sin(3*y)\n",
            "0\n"
          ]
        }
      ]
    },
    {
      "cell_type": "code",
      "source": [
        "f = sy.sqrt(8)\n",
        "print(f)\n",
        "f.evalf()\n"
      ],
      "metadata": {
        "colab": {
          "base_uri": "https://localhost:8080/",
          "height": 55
        },
        "id": "ilZvveEvrlWM",
        "outputId": "1e110994-1974-4f12-a75e-72b52a816e4d"
      },
      "execution_count": null,
      "outputs": [
        {
          "output_type": "stream",
          "name": "stdout",
          "text": [
            "2*sqrt(2)\n"
          ]
        },
        {
          "output_type": "execute_result",
          "data": {
            "text/plain": [
              "2.82842712474619"
            ],
            "text/latex": "$\\displaystyle 2.82842712474619$"
          },
          "metadata": {},
          "execution_count": 5
        }
      ]
    },
    {
      "cell_type": "code",
      "source": [
        "sy.pi.evalf(20) # 20 positions\n"
      ],
      "metadata": {
        "colab": {
          "base_uri": "https://localhost:8080/",
          "height": 37
        },
        "id": "bqj4U1yYrebr",
        "outputId": "76d942d7-16df-4a34-dbcc-ed7395a6de32"
      },
      "execution_count": null,
      "outputs": [
        {
          "output_type": "execute_result",
          "data": {
            "text/plain": [
              "3.1415926535897932385"
            ],
            "text/latex": "$\\displaystyle 3.1415926535897932385$"
          },
          "metadata": {},
          "execution_count": 6
        }
      ]
    },
    {
      "cell_type": "code",
      "source": [
        "f = sy.sin(3*x)\n",
        "print(sy.diff(f,x))\n",
        "print(sy.diff(f,x,x,x))\n",
        "sy.diff(f,x,3)\n"
      ],
      "metadata": {
        "colab": {
          "base_uri": "https://localhost:8080/",
          "height": 75
        },
        "id": "bdE-1FaprV81",
        "outputId": "854c64bf-97ce-4aea-9a30-99e5d4478926"
      },
      "execution_count": null,
      "outputs": [
        {
          "output_type": "stream",
          "name": "stdout",
          "text": [
            "3*cos(3*x)\n",
            "-27*cos(3*x)\n"
          ]
        },
        {
          "output_type": "execute_result",
          "data": {
            "text/plain": [
              "-27*cos(3*x)"
            ],
            "text/latex": "$\\displaystyle - 27 \\cos{\\left(3 x \\right)}$"
          },
          "metadata": {},
          "execution_count": 6
        }
      ]
    },
    {
      "cell_type": "code",
      "source": [
        "f = sy.sin(x)*sy.cos(y)\n",
        "sy.diff(f,x,y)\n"
      ],
      "metadata": {
        "colab": {
          "base_uri": "https://localhost:8080/",
          "height": 38
        },
        "id": "TfuY3LiVrPM0",
        "outputId": "2fc78a6d-527c-4391-9b9b-4da881c23bff"
      },
      "execution_count": null,
      "outputs": [
        {
          "output_type": "execute_result",
          "data": {
            "text/plain": [
              "-sin(y)*cos(x)"
            ],
            "text/latex": "$\\displaystyle - \\sin{\\left(y \\right)} \\cos{\\left(x \\right)}$"
          },
          "metadata": {},
          "execution_count": 7
        }
      ]
    },
    {
      "cell_type": "code",
      "source": [
        "expr = sy.exp(x*y*z)\n",
        "sy.diff(expr, x, y, y, z, z, z, z)\n",
        "#diff(expr, x, y, 2, z, 4)\n",
        "#diff(expr, x, y, y, z, 4)\n"
      ],
      "metadata": {
        "colab": {
          "base_uri": "https://localhost:8080/",
          "height": 38
        },
        "id": "mYR05lP1q6D9",
        "outputId": "ca136e06-7574-4556-9c93-96205983925c"
      },
      "execution_count": null,
      "outputs": [
        {
          "output_type": "execute_result",
          "data": {
            "text/plain": [
              "x**3*y**2*(x**3*y**3*z**3 + 14*x**2*y**2*z**2 + 52*x*y*z + 48)*exp(x*y*z)"
            ],
            "text/latex": "$\\displaystyle x^{3} y^{2} \\left(x^{3} y^{3} z^{3} + 14 x^{2} y^{2} z^{2} + 52 x y z + 48\\right) e^{x y z}$"
          },
          "metadata": {},
          "execution_count": 8
        }
      ]
    },
    {
      "cell_type": "code",
      "source": [
        "deriv = sy.Derivative(expr, x, y, y, z, 4)\n",
        "deriv\n"
      ],
      "metadata": {
        "colab": {
          "base_uri": "https://localhost:8080/",
          "height": 57
        },
        "id": "kLwDbnbCq1MS",
        "outputId": "91fc8f65-3814-49a7-d645-ca259123bcbd"
      },
      "execution_count": null,
      "outputs": [
        {
          "output_type": "execute_result",
          "data": {
            "text/plain": [
              "Derivative(exp(x*y*z), x, (y, 2), (z, 4))"
            ],
            "text/latex": "$\\displaystyle \\frac{\\partial^{7}}{\\partial z^{4}\\partial y^{2}\\partial x} e^{x y z}$"
          },
          "metadata": {},
          "execution_count": 9
        }
      ]
    },
    {
      "cell_type": "code",
      "source": [
        "f = sy.sin(3*x)\n",
        "f1 = sy.diff(f,x)\n",
        "f1"
      ],
      "metadata": {
        "colab": {
          "base_uri": "https://localhost:8080/",
          "height": 38
        },
        "id": "qk27oiecr7zD",
        "outputId": "b7f79c33-f202-47d4-fa46-4718ca4b50ca"
      },
      "execution_count": null,
      "outputs": [
        {
          "output_type": "execute_result",
          "data": {
            "text/plain": [
              "3*cos(3*x)"
            ],
            "text/latex": "$\\displaystyle 3 \\cos{\\left(3 x \\right)}$"
          },
          "metadata": {},
          "execution_count": 10
        }
      ]
    },
    {
      "cell_type": "code",
      "source": [
        "f3 = sy.diff(f,x,3) # or diff(f,x,x,x)\n",
        "f3\n"
      ],
      "metadata": {
        "colab": {
          "base_uri": "https://localhost:8080/",
          "height": 38
        },
        "id": "V1T4dATRsDQC",
        "outputId": "13c6e2ed-dae6-4b84-d11b-ef99bfb21433"
      },
      "execution_count": null,
      "outputs": [
        {
          "output_type": "execute_result",
          "data": {
            "text/plain": [
              "-27*cos(3*x)"
            ],
            "text/latex": "$\\displaystyle - 27 \\cos{\\left(3 x \\right)}$"
          },
          "metadata": {},
          "execution_count": 11
        }
      ]
    },
    {
      "cell_type": "code",
      "source": [
        "f = sy.sin(x)\n",
        "sy.integrate(f,x)\n"
      ],
      "metadata": {
        "colab": {
          "base_uri": "https://localhost:8080/",
          "height": 38
        },
        "id": "GKLcgJ7ZsLcH",
        "outputId": "85a0a690-9100-4162-cc01-22ec796776ff"
      },
      "execution_count": null,
      "outputs": [
        {
          "output_type": "execute_result",
          "data": {
            "text/plain": [
              "-cos(x)"
            ],
            "text/latex": "$\\displaystyle - \\cos{\\left(x \\right)}$"
          },
          "metadata": {},
          "execution_count": 12
        }
      ]
    },
    {
      "cell_type": "code",
      "source": [
        "sy.integrate(f,(x,0,sy.pi))\n"
      ],
      "metadata": {
        "colab": {
          "base_uri": "https://localhost:8080/",
          "height": 38
        },
        "id": "oV5okPlTsT9M",
        "outputId": "5b6b2101-8e85-4b07-ffab-cace4a77293c"
      },
      "execution_count": null,
      "outputs": [
        {
          "output_type": "execute_result",
          "data": {
            "text/plain": [
              "2"
            ],
            "text/latex": "$\\displaystyle 2$"
          },
          "metadata": {},
          "execution_count": 13
        }
      ]
    },
    {
      "cell_type": "code",
      "source": [
        "f = sy.sin(x)**7\n",
        "sy.integrate(f)\n"
      ],
      "metadata": {
        "colab": {
          "base_uri": "https://localhost:8080/",
          "height": 54
        },
        "id": "sqNOOiwUs1do",
        "outputId": "932aa164-008b-4b02-dd91-ed5971f35d1b"
      },
      "execution_count": null,
      "outputs": [
        {
          "output_type": "execute_result",
          "data": {
            "text/plain": [
              "cos(x)**7/7 - 3*cos(x)**5/5 + cos(x)**3 - cos(x)"
            ],
            "text/latex": "$\\displaystyle \\frac{\\cos^{7}{\\left(x \\right)}}{7} - \\frac{3 \\cos^{5}{\\left(x \\right)}}{5} + \\cos^{3}{\\left(x \\right)} - \\cos{\\left(x \\right)}$"
          },
          "metadata": {},
          "execution_count": 14
        }
      ]
    },
    {
      "cell_type": "code",
      "source": [
        "sy.diff(f,x,7)\n"
      ],
      "metadata": {
        "colab": {
          "base_uri": "https://localhost:8080/",
          "height": 38
        },
        "id": "cWeXrF5BtDvq",
        "outputId": "6aa53ccb-3a38-446f-ef70-89d4fb6ab317"
      },
      "execution_count": null,
      "outputs": [
        {
          "output_type": "execute_result",
          "data": {
            "text/plain": [
              "7*(-19279*sin(x)**6 + 69930*sin(x)**4*cos(x)**2 - 27720*sin(x)**2*cos(x)**4 + 720*cos(x)**6)*cos(x)"
            ],
            "text/latex": "$\\displaystyle 7 \\left(- 19279 \\sin^{6}{\\left(x \\right)} + 69930 \\sin^{4}{\\left(x \\right)} \\cos^{2}{\\left(x \\right)} - 27720 \\sin^{2}{\\left(x \\right)} \\cos^{4}{\\left(x \\right)} + 720 \\cos^{6}{\\left(x \\right)}\\right) \\cos{\\left(x \\right)}$"
          },
          "metadata": {},
          "execution_count": 15
        }
      ]
    },
    {
      "cell_type": "markdown",
      "source": [
        "###### code, specific purpose example from previous coursework"
      ],
      "metadata": {
        "id": "ubhA5iz6S6sO"
      }
    },
    {
      "cell_type": "markdown",
      "source": [
        "solve the system with conjugate gradient method. show your work."
      ],
      "metadata": {
        "id": "FGc7BWWzZoUe"
      }
    },
    {
      "cell_type": "markdown",
      "source": [
        "\\begin{align}\n",
        "  \\text{a) }\n",
        "  \\left[ \\begin{array}{r r} 1 & 2 \\\\ \\;\\enspace 2 & \\;\\enspace 5 \\end{array} \\right]\n",
        "  \\left[ \\begin{array}{r} x_1 \\\\ x_2 \\end{array} \\right]\n",
        "  &=\n",
        "  \\left[ \\begin{array}{r} 1 \\\\ \\;\\enspace 1 \\end{array} \\right]; \\\\\n",
        "  \\\\\n",
        "  \\text{b) }\n",
        "  \\left[ \\begin{array}{r r} 1 & -1 \\\\ -1 & 5 \\end{array} \\right]\n",
        "  \\left[ \\begin{array}{r} x_1 \\\\ x_2 \\end{array} \\right]\n",
        "  &=\n",
        "  \\left[ \\begin{array}{r} 3 \\\\ -7 \\end{array} \\right].\n",
        "\\end{align}"
      ],
      "metadata": {
        "id": "UcypeEzYWewK"
      }
    },
    {
      "cell_type": "markdown",
      "source": [
        "<i>the code below provides individual steps for the problem above if students answer with hand-calculations and not code. even sensei makes use of sympy at times.</i>"
      ],
      "metadata": {
        "id": "SKoUPwLZZq_W"
      }
    },
    {
      "cell_type": "code",
      "source": [
        "# conjugate gradient with sympy to display unevaluated fractions\n",
        "\n",
        "import numpy as np\n",
        "import sympy as sy\n",
        "\n",
        "def sym_cg(aA,ab,ax0,adisplay=True):\n",
        "  A,x_old,b,r_old,d,α,β = sy.symbols(\"A,x_old,b,r_old,d,α,β\")\n",
        "\n",
        "  A = sy.Matrix(aA)\n",
        "  b = sy.Matrix(ab)\n",
        "  x_old = sy.Matrix(ax0)\n",
        "  x_new = None\n",
        "\n",
        "  Ax = sy.Matrix([A.row(0).dot(x_old),A.row(1).dot(x_old)])\n",
        "  r_old = b.copy() - Ax\n",
        "  d_old = r_old.copy()\n",
        "\n",
        "  r_zero = sy.Matrix([[0],[0]])\n",
        "  n = len(x_old)\n",
        "  for i in range(n):\n",
        "    if r_old == r_zero:\n",
        "      break\n",
        "\n",
        "    Ad = sy.Matrix([A.row(0).dot(d_old),A.row(1).dot(d_old)])\n",
        "    α = r_old.col(0).dot(r_old) / d_old.dot(Ad)\n",
        "    x_new = x_old + α*d_old\n",
        "    r_new = r_old - α*Ad\n",
        "    β = r_new.col(0).dot(r_new) / r_old.col(0).dot(r_old)\n",
        "    d_new = r_new + β*d_old\n",
        "\n",
        "    if adisplay:\n",
        "      print(f\"\\nstep : {i+1} of {n}\\n\")\n",
        "      print(f\"A·d[{i}] : {Ad}\")\n",
        "      print(f\"α : {α}\")\n",
        "      print(f\"x[{i+1}] : {x_new}\")\n",
        "      print(f\"r[{i+1}] : {r_new}\")\n",
        "      print(f\"β : {β}\")\n",
        "      print(f\"d[{i+1}] : {d_new}\")\n",
        "\n",
        "    x_old = x_new.copy()\n",
        "    r_old = r_new.copy()\n",
        "    d_old = d_new.copy()\n",
        "\n",
        "  return x_new\n",
        "\n",
        "def main():\n",
        "  # problem, original\n",
        "  A = [[[1,-1],[-1,5]]] # 3rd set nested brackets for subsequent problems\n",
        "  b = [[[3],[-7]]]\n",
        "  x0 = [[[0],[0]]]\n",
        "\n",
        "  # problem w smaller RHS\n",
        "  A.append([[1,2],[2,5]])\n",
        "  b.append([[1],[1]])\n",
        "  x0.append([[0],[0]])\n",
        "  print(A[0])\n",
        "\n",
        "  si = [\"a\",\"b\"]\n",
        "  for i in range(len(A)):\n",
        "    print(f\"\\n({si[i]}) solution x : {sym_cg(A[i],b[i],x0[i])}\")\n",
        "\n",
        "if __name__ == \"__main__\":\n",
        "  main()\n"
      ],
      "metadata": {
        "colab": {
          "base_uri": "https://localhost:8080/"
        },
        "id": "XXcJk7fWYlkM",
        "outputId": "91b315aa-b8c9-42f1-d16e-4f388141f103"
      },
      "execution_count": null,
      "outputs": [
        {
          "output_type": "stream",
          "name": "stdout",
          "text": [
            "[[1, -1], [-1, 5]]\n",
            "\n",
            "step : 1 of 2\n",
            "\n",
            "A·d[0] : Matrix([[10], [-38]])\n",
            "α : 29/148\n",
            "x[1] : Matrix([[87/148], [-203/148]])\n",
            "r[1] : Matrix([[77/74], [33/74]])\n",
            "β : 121/5476\n",
            "d[1] : Matrix([[6061/5476], [1595/5476]])\n",
            "\n",
            "step : 2 of 2\n",
            "\n",
            "A·d[1] : Matrix([[2233/2738], [957/2738]])\n",
            "α : 37/29\n",
            "x[2] : Matrix([[2], [-1]])\n",
            "r[2] : Matrix([[0], [0]])\n",
            "β : 0\n",
            "d[2] : Matrix([[0], [0]])\n",
            "\n",
            "(a) solution x : Matrix([[2], [-1]])\n",
            "\n",
            "step : 1 of 2\n",
            "\n",
            "A·d[0] : Matrix([[3], [7]])\n",
            "α : 1/5\n",
            "x[1] : Matrix([[1/5], [1/5]])\n",
            "r[1] : Matrix([[2/5], [-2/5]])\n",
            "β : 4/25\n",
            "d[1] : Matrix([[14/25], [-6/25]])\n",
            "\n",
            "step : 2 of 2\n",
            "\n",
            "A·d[1] : Matrix([[2/25], [-2/25]])\n",
            "α : 5\n",
            "x[2] : Matrix([[3], [-1]])\n",
            "r[2] : Matrix([[0], [0]])\n",
            "β : 0\n",
            "d[2] : Matrix([[0], [0]])\n",
            "\n",
            "(b) solution x : Matrix([[3], [-1]])\n"
          ]
        }
      ]
    },
    {
      "cell_type": "markdown",
      "source": [
        "## resources"
      ],
      "metadata": {
        "id": "cNymwYjD9AA4"
      }
    },
    {
      "cell_type": "markdown",
      "source": [
        "* richardsons extrapolation wrt simpsons rule (lecture 12, 24/03/13) [@iitm](https://www.youtube.com/watch?v=KITIYW4wq3o)"
      ],
      "metadata": {
        "id": "ZizcjcYg9CXC"
      }
    }
  ]
}