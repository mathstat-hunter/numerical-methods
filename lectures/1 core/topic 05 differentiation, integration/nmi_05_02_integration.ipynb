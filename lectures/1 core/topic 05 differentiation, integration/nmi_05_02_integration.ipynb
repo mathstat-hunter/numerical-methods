{
  "nbformat": 4,
  "nbformat_minor": 0,
  "metadata": {
    "colab": {
      "provenance": [],
      "collapsed_sections": [
        "P4_GeYEKJ5Ga",
        "Mh6JjUeQ9J7v"
      ]
    },
    "kernelspec": {
      "name": "python3",
      "display_name": "Python 3"
    },
    "language_info": {
      "name": "python"
    }
  },
  "cells": [
    {
      "cell_type": "markdown",
      "source": [
        "# 05.02 numerical integration, newton-cotes"
      ],
      "metadata": {
        "id": "qIZbKBpWolzT"
      }
    },
    {
      "cell_type": "markdown",
      "source": [
        "##### code, support for section text"
      ],
      "metadata": {
        "id": "P4_GeYEKJ5Ga"
      }
    },
    {
      "cell_type": "code",
      "source": [
        "if True: # settings for the people\n",
        "  import matplotlib.pyplot as plt\n",
        "  import numpy as np\n",
        "  from numpy import polynomial as npp\n"
      ],
      "metadata": {
        "id": "zmtgB8a2NRIt"
      },
      "execution_count": null,
      "outputs": []
    },
    {
      "cell_type": "markdown",
      "source": [
        "###### code, images in order of appearance"
      ],
      "metadata": {
        "id": "Mh6JjUeQ9J7v"
      }
    },
    {
      "cell_type": "code",
      "source": [
        "# VISUAL, integration: a,b,c\n",
        "\n",
        "def do_something():\n",
        "\n",
        "  # problem, functions ~ integrands\n",
        "  dfa = lambda x,h: x/h\n",
        "  dfb = lambda x,h: 1 - pow(dfa(x,h),2)\n",
        "  dfc = lambda x,h: pow((2*x-h)/(2*h),2) - h/4\n",
        "  sfa = \"$\\\\int_0^h\\\\; \\\\frac{x}{h}\\\\;dx = \\\\frac{h}{2}$\\n\"\n",
        "  sfb = \"$\\\\int_{-h}^h\\\\; P(x)\\\\;dx = x - \\\\frac{x^3}{3h^2} = \\\\frac{4}{3}h$\\n\"\n",
        "  sfc = \"$\\\\int_{-h}^h\\\\; P(x)\\\\;dx = \\\\frac{h}{3}$\\n\"\n",
        "  sf = [sfa,sfb,sfc]\n",
        "\n",
        "  # problem, interval\n",
        "  xx = (-1,1) # interval for display\n",
        "  h = 0.8     # step-size for integration\n",
        "\n",
        "  # discrete points for display interval\n",
        "  n = 201                  # number of points\n",
        "  dx = (xx[1]-xx[0])/(n-1) # step-size between points\n",
        "  xs = np.linspace(xx[0],xx[1],n) # xs for display\n",
        "\n",
        "  # calculate discrete integrand values\n",
        "  dfas = dfa(xs,h)\n",
        "  dfbs = dfb(xs,h)\n",
        "  dfcs = dfc(xs,h)\n",
        "  df = [dfas,dfbs,dfcs]\n",
        "\n",
        "  # subselection of relevant h within xx\n",
        "  ix_hneg = np.where(xs==-h)[0][0]\n",
        "  ix_zero = np.where(xs==0)[0][0]\n",
        "  ix_thru = np.where(xs==h)[0][0]\n",
        "  ix_from = [ix_zero,ix_hneg,ix_hneg]\n",
        "\n",
        "  if True: # plot\n",
        "    # plot, data\n",
        "    fig,axs = plt.subplots(1,3,figsize=(10,10))\n",
        "    for i,ax in enumerate(axs):\n",
        "      ax.scatter([-h,h],[0,0],marker=\"|\",zorder=11)\n",
        "      ax.plot(xs,df[i],alpha=0.5)\n",
        "      ax.fill_between(xs[ix_from[i]:(ix_thru+1)],df[i][ix_from[i]:(ix_thru+1)],0,color='lightblue',zorder=1)\n",
        "\n",
        "    # plot, style\n",
        "    for i,ax in enumerate(axs):\n",
        "      ax.set_title(sf[i],y=-0.6,loc='center')\n",
        "      ax.set_aspect(\"equal\")\n",
        "      ax.spines['left'].set_position('zero')\n",
        "      ax.spines['bottom'].set_position('zero')\n",
        "      ax.spines['right'].set_visible(False)\n",
        "      ax.spines['top'].set_visible(False)\n",
        "      ax.set_xticks([-1,1])\n",
        "      ax.set_yticks([1])\n",
        "      ax.set_ylim(h-1,2-h)\n",
        "\n",
        "    # plot, show\n",
        "    plt.show()\n"
      ],
      "metadata": {
        "id": "LLCp0mL8M9YE"
      },
      "execution_count": null,
      "outputs": []
    },
    {
      "cell_type": "code",
      "source": [
        "# VISUAL, composite, evolved for section 05.02\n",
        "\n",
        "def do_something_else(data,s_methods,panels=1,fancy=False,debug=False):\n",
        "\n",
        "  #debug = False\n",
        "  #fancy = False\n",
        "\n",
        "  # labels\n",
        "  sm_trapz = \"trapezoid\"\n",
        "  sm_simps = \"simpsons\"\n",
        "  sm_combo = \"simpsons (and trapezoid)\" # simpsons with trapezoid as background\n",
        "  #s_methods = [sm_trapz]\n",
        "  n_methods = len(s_methods)\n",
        "\n",
        "  # data\n",
        "  #data = np.array([[0,5],[4,10/3],[5/3,0],[6,4],[8,19/3]]) # f(x), eyeballed\n",
        "  f = npp.polynomial.Polynomial.fit(data[:,0],data[:,1],deg=len(data)-1)\n",
        "  if debug:\n",
        "    print(f\"\\nf(x): {f}\")\n",
        "\n",
        "  # data, per panel\n",
        "  #panels = 1 # panels\n",
        "  xa = data[ 0,0] # np.min(data[:,0]) # if unordered\n",
        "  xb = data[-1,0] # np.max(data[:,0]) # if unordered\n",
        "  xs_n = np.linspace(xa,xb,panels+1) # include endpoints\n",
        "  fs_n = f(xs_n)\n",
        "\n",
        "  if True: # plot\n",
        "    isize = 5\n",
        "    fig,axs = plt.subplots(1,n_methods,figsize=(n_methods*isize,isize))\n",
        "    if n_methods==1:\n",
        "      axs = [axs]\n",
        "    offset = 0.1\n",
        "\n",
        "    # interval, display\n",
        "    h = 0.1\n",
        "    xs_dis = np.arange(xa-2*h,xb+3*h,h)\n",
        "    fs_dis = f(xs_dis)\n",
        "\n",
        "    # plot, background\n",
        "    for i,ax in enumerate(axs):\n",
        "      ax.plot([xa]*2,[0,f(xa)],color=\"0.9\",zorder=10)\n",
        "      ax.plot([xb]*2,[0,f(xb)],color=\"0.9\",zorder=10)\n",
        "      ax.plot(xs_dis,f(xs_dis),color=\"0.5\",ls=\":\",label=\"$f(x)$\",zorder=10)\n",
        "\n",
        "    # plot per panel\n",
        "    for i in range(panels):\n",
        "      for iax,ax in enumerate(axs):\n",
        "        if i == 0:\n",
        "          # first x\n",
        "          ax.scatter(xs_n[i],fs_n[i],color=\"0.5\",zorder=20)\n",
        "          ax.scatter(xs_n[i],[0],color=\"C0\",marker=\"|\",zorder=40)\n",
        "          ax.text(xs_n[i]-offset,-4*offset,f\"$x_{i}$\",zorder=40)\n",
        "        # next x\n",
        "        i_display = i+1\n",
        "        if (s_methods[iax] != sm_trapz) and (panels == 1): # special case for one-panel example\n",
        "          i_display += 1\n",
        "        ax.scatter(xs_n[i+1],fs_n[i+1],color=\"0.5\",zorder=20)\n",
        "        ax.scatter(xs_n[i+1],[0],color=\"C0\",marker=\"|\",zorder=40)\n",
        "        ax.text(xs_n[i+1]-offset,-4*offset,f\"$x_{i_display}$\",zorder=40)\n",
        "\n",
        "        # trapezoid behind simpsons\n",
        "        if s_methods[iax] == sm_combo:\n",
        "          ax.plot([xs_n[i],xs_n[i+1]],[fs_n[i],fs_n[i+1]],color=\"0.9\",zorder=10)\n",
        "\n",
        "        if s_methods[iax] == sm_trapz: # trapezoid, one panel at a time\n",
        "          xs_trapz = np.array([xs_n[i],xs_n[i+1]])\n",
        "          fs_trapz = np.array([fs_n[i],fs_n[i+1]])\n",
        "          ax.plot(xs_trapz,fs_trapz,color=\"C0\",zorder=10)\n",
        "          if fancy: # complicate for area of integration and error\n",
        "            # fit parabola to panel endpoints bc i was to lazy to generate linear\n",
        "            p = npp.polynomial.Polynomial.fit(xs_trapz,fs_trapz,deg=1)\n",
        "\n",
        "            # generate fit points for display\n",
        "            xs_panel = np.arange(xs_n[i],xs_n[i+1]+h,h)\n",
        "            ps_panel = p(xs_panel)\n",
        "\n",
        "            # generate area of integration\n",
        "            ax.fill_between(xs_panel,ps_panel,0,color=\"blue\",alpha=0.2)\n",
        "\n",
        "            # generate error for display\n",
        "            fs_panel = f(xs_panel)\n",
        "            ax.fill_between(xs_panel,ps_panel,fs_panel,color=\"red\",alpha=0.2)\n",
        "\n",
        "        else: # simpsons\n",
        "          # midpoint added per panel for simpsons\n",
        "          xm = (xs_n[i]+xs_n[i+1])/2\n",
        "          ax.scatter(xm,f(xm),color=\"0.7\",zorder=20)\n",
        "          if panels == 1: # special case for one-panel example\n",
        "            i_display = i+1\n",
        "            ax.scatter(xm,[0],color=\"C0\",marker=\"|\",zorder=40)\n",
        "            ax.text(xm-offset,-4*offset,f\"$x_{i_display}$\",zorder=40)\n",
        "\n",
        "          # fit parabola to panel endpoints and panel midpoint\n",
        "          xs_simps = np.array([xs_n[i],xm,xs_n[i+1]])\n",
        "          fs_simps = f(xs_simps)\n",
        "          p = npp.polynomial.Polynomial.fit(xs_simps,fs_simps,deg=2)\n",
        "\n",
        "          # generate fit points for display\n",
        "          xs_panel = np.arange(xs_n[i],xs_n[i+1]+h,h)\n",
        "          ps_panel = p(xs_panel)\n",
        "          ax.plot(xs_panel,ps_panel,color=\"C0\",zorder=30)\n",
        "\n",
        "          if fancy:\n",
        "            # generate area of integration\n",
        "            ax.fill_between(xs_panel,ps_panel,0,color=\"blue\",alpha=0.2)\n",
        "\n",
        "            # generate error for display\n",
        "            fs_panel = f(xs_panel)\n",
        "            ax.fill_between(xs_panel,ps_panel,fs_panel,color=\"red\",alpha=0.2)\n",
        "\n",
        "    # plot, style\n",
        "    for i,ax in enumerate(axs):\n",
        "      ax.set_title(s_methods[i],y=-0.15,loc='center')\n",
        "      ax.set_aspect(\"equal\")\n",
        "      ax.spines['left'].set_visible(False)\n",
        "      ax.spines['bottom'].set_position('zero')\n",
        "      ax.spines['right'].set_visible(False)\n",
        "      ax.spines['top'].set_visible(False)\n",
        "      ax.set_xticks([])\n",
        "      ax.set_yticks([])\n",
        "\n",
        "    # plot, show\n",
        "    plt.show()\n"
      ],
      "metadata": {
        "id": "r6UdKLrQHMol"
      },
      "execution_count": null,
      "outputs": []
    },
    {
      "cell_type": "code",
      "source": [
        "# data for do_something_else()\n",
        "data = np.array([[0,5],[4,10/3],[5/3,0],[6,4],[8,19/3]]) # f(x), eyeballed"
      ],
      "metadata": {
        "id": "N068JCmIKAnp"
      },
      "execution_count": null,
      "outputs": []
    },
    {
      "cell_type": "markdown",
      "source": [
        "## 0 introduction"
      ],
      "metadata": {
        "id": "rC8zX2brbE1k"
      }
    },
    {
      "cell_type": "markdown",
      "source": [
        "approximating functions to data points, interpolation and least squares get repurposed here."
      ],
      "metadata": {
        "id": "aR8iiaUwbHpj"
      }
    },
    {
      "cell_type": "markdown",
      "source": [
        "eg, an interpolating polynomial is a polynomial. ie, its easy to integrate. so newton-cotes does that."
      ],
      "metadata": {
        "id": "7rFk5DtUbJLa"
      }
    },
    {
      "cell_type": "markdown",
      "source": [
        "first, slot these basic integrals into memory."
      ],
      "metadata": {
        "id": "sQ1fxscnJnd9"
      }
    },
    {
      "cell_type": "code",
      "source": [
        "do_something()"
      ],
      "metadata": {
        "colab": {
          "base_uri": "https://localhost:8080/",
          "height": 264
        },
        "id": "sx3lgdz3N1q5",
        "outputId": "f9ff2d67-0469-4079-fec2-7b1f34c97d40"
      },
      "execution_count": null,
      "outputs": [
        {
          "output_type": "display_data",
          "data": {
            "text/plain": [
              "<Figure size 1000x1000 with 3 Axes>"
            ],
            "image/png": "[encoded data removed]"
          },
          "metadata": {}
        }
      ]
    },
    {
      "cell_type": "markdown",
      "source": [
        "## 1 trapezoid rule"
      ],
      "metadata": {
        "id": "OtJb8qkagIRF"
      }
    },
    {
      "cell_type": "markdown",
      "source": [
        "trapezoid rule replaces the function with the line interpolating $(x_0,f(x_0))$ and $(x_1,f(x_1))$."
      ],
      "metadata": {
        "id": "byr-rCUa9DL3"
      }
    },
    {
      "cell_type": "code",
      "source": [
        "do_something_else(data,[\"trapezoid\"])"
      ],
      "metadata": {
        "colab": {
          "base_uri": "https://localhost:8080/",
          "height": 418
        },
        "id": "6W1lRE57Jc1K",
        "outputId": "2ca91abb-f414-4df8-9c09-c24940652e0d"
      },
      "execution_count": null,
      "outputs": [
        {
          "output_type": "display_data",
          "data": {
            "text/plain": [
              "<Figure size 500x500 with 1 Axes>"
            ],
            "image/png": "[encoded data removed]"
          },
          "metadata": {}
        }
      ]
    },
    {
      "cell_type": "markdown",
      "source": [
        "let $f(x)$ be a function with a continuous second derivative, defined on $[x_0,x_1]$, with $y_0 = f(x_0)$ and $y_1 = f(x_1)$. consider degree 1 interpolating polynomial $P_1(x)$ through $(x_0,y_0)$ and $(x_1,y_1)$."
      ],
      "metadata": {
        "id": "9XqtSM0JgPcG"
      }
    },
    {
      "cell_type": "markdown",
      "source": [
        "apply lagrange."
      ],
      "metadata": {
        "id": "tDbKdjIEbTA9"
      }
    },
    {
      "cell_type": "markdown",
      "source": [
        "$$f(x) = y_0\\frac{x-x_1}{x_0-x_1} + y_1\\frac{x-x_0}{x_1-x_0} + \\frac{(x-x_0)(x-x_1)}{2!}f''(c_x) = P(x) + E(x)$$"
      ],
      "metadata": {
        "id": "uoUlpsQTbUZK"
      }
    },
    {
      "cell_type": "markdown",
      "source": [
        "ie, $c$ depends continuously on $x$. integrate both sides."
      ],
      "metadata": {
        "id": "CNXsdaaabWFF"
      }
    },
    {
      "cell_type": "markdown",
      "source": [
        "$$\\int_{x_0}^{x_1} f(x)dx = \\int_{x_0}^{x_1} P(x)dx+ \\int_{x_0}^{x_1}E(x)dx$$"
      ],
      "metadata": {
        "id": "ka9_hbrHw8Vh"
      }
    },
    {
      "cell_type": "markdown",
      "source": [
        "define $h = x_1 - x_0$."
      ],
      "metadata": {
        "id": "ZzCiCfpubY-L"
      }
    },
    {
      "cell_type": "markdown",
      "source": [
        "$$\\int_{x_0}^{x_1} P(x)dx = y_0\\int_{x_0}^{x_1} \\frac{x-x_1}{x_0-x_1}dx + y_1\\int_{x_0}^{x_1} \\frac{x-x_0}{x_1-x_0}dx = y_0\\frac{h}{2} + y_1\\frac{h}{2} = \\frac{h}{2}(y_0+y_1)$$"
      ],
      "metadata": {
        "id": "qciuE3eGxHDz"
      }
    },
    {
      "cell_type": "markdown",
      "source": [
        "let $w = -x + x_1$."
      ],
      "metadata": {
        "id": "X_tDazUCbbvW"
      }
    },
    {
      "cell_type": "markdown",
      "source": [
        "$$\\int_{x_0}^{x_1} \\frac{x-x_1}{x_0-x_1}dx = \\int_0^h \\frac{-w}{-h}(-dw) = \\int_0^h \\frac{w}{h}dw = \\frac{h}{2}$$"
      ],
      "metadata": {
        "id": "U6Al5FAdxJGx"
      }
    },
    {
      "cell_type": "markdown",
      "source": [
        "let $w = x - x_0$."
      ],
      "metadata": {
        "id": "JNguXwCDbeiU"
      }
    },
    {
      "cell_type": "markdown",
      "source": [
        "$$\\int_{x_0}^{x_1} \\frac{x-x_0}{x_1-x_0}dx = \\int_0^h \\frac{w}{h}dw = \\frac{h}{2}$$"
      ],
      "metadata": {
        "id": "JMU_VwOTxPwK"
      }
    },
    {
      "cell_type": "markdown",
      "source": [
        "let $u = x - x_0$. apply the mean value theorem."
      ],
      "metadata": {
        "id": "RfV93N_QbiGc"
      }
    },
    {
      "cell_type": "markdown",
      "source": [
        "\\begin{align}\n",
        "  \\int_{x_0}^{x_1}E(x)dx &= \\frac{1}{2!} \\int_{x_0}^{x_1} (x-x_0)(x-x_1) f''(c(x))dx \\\\\n",
        "  \\\\\n",
        "  &=\\frac{f''(c)}{2} \\int_{x_0}^{x_1} (x-x_0)(x-x_1)dx \\\\\n",
        "  \\\\\n",
        "  &=\\frac{f''(c)}{2} \\int_0^h u(u-h)du \\\\\n",
        "  \\\\\n",
        "  &=\\frac{h^3}{12} f''(c)\n",
        "\\end{align}"
      ],
      "metadata": {
        "id": "JJL28iPonZY6"
      }
    },
    {
      "cell_type": "markdown",
      "source": [
        "##### <b>trapezoidal rule</b>\n"
      ],
      "metadata": {
        "id": "XA9Qh9Cv_ta1"
      }
    },
    {
      "cell_type": "markdown",
      "source": [
        "$$\\int_{x_0}^{x_1} f(x)dx = \\frac{h}{2}(y_0 + y_1) - \\frac{h^3}{12}f''(c)$$"
      ],
      "metadata": {
        "id": "L3NU5JDzbmF8"
      }
    },
    {
      "cell_type": "markdown",
      "source": [
        "where $h = x_1 - x_0$ and $c$ is between $x_0$ and $x_1$."
      ],
      "metadata": {
        "id": "Lv23PQI0_zv1"
      }
    },
    {
      "cell_type": "markdown",
      "source": [
        "## 2 simpsons rule"
      ],
      "metadata": {
        "id": "VHudR_q0xT0A"
      }
    },
    {
      "cell_type": "markdown",
      "source": [
        "simpsons rule uses the parabola interpolating the function at three points $(x_0,f(x_0)), (x_1,f(x_1)), (x_2,f(x_2))$."
      ],
      "metadata": {
        "id": "kLsQ-mZn0Ino"
      }
    },
    {
      "cell_type": "code",
      "source": [
        "do_something_else(data,[\"simpsons (and trapezoid)\"])"
      ],
      "metadata": {
        "colab": {
          "base_uri": "https://localhost:8080/",
          "height": 418
        },
        "outputId": "2d7d7f2a-95b4-42cd-c81e-f16c90c4afe9",
        "id": "QIDLHITyKMKQ"
      },
      "execution_count": null,
      "outputs": [
        {
          "output_type": "display_data",
          "data": {
            "text/plain": [
              "<Figure size 500x500 with 1 Axes>"
            ],
            "image/png": "[encoded data removed]"
          },
          "metadata": {}
        }
      ]
    },
    {
      "cell_type": "markdown",
      "source": [
        "its like trapezoidal but of degree 2, surprise."
      ],
      "metadata": {
        "id": "eacHZvBTbsbN"
      }
    },
    {
      "cell_type": "markdown",
      "source": [
        "\\begin{align}\n",
        "  f(x) &= y_0 \\frac{(x-x_1)(x-x_2)}{(x_0-x_1)(x_0-x_2)} + y_1 \\frac{(x-x_0)(x-x_2)}{(x_1-x_0)(x_1-x_2)} \\\\\n",
        "  \\\\\n",
        "  &\\quad + y_2 \\frac{(x-x_0)(x-x_1)}{(x_2-x_0)(x_2-x_1)} + \\frac{(x-x_0)(x-x_1)(x-x_2)}{3!}f'''(c_x) \\\\\n",
        "  \\\\\n",
        "  &= P(x) + E(x)\n",
        "\\end{align}"
      ],
      "metadata": {
        "id": "qPf8aCVGx2k4"
      }
    },
    {
      "cell_type": "markdown",
      "source": [
        "##### <b>simpsons rule</b>"
      ],
      "metadata": {
        "id": "BjeWOxrfAEaM"
      }
    },
    {
      "cell_type": "markdown",
      "source": [
        "$$\\int_{x_0}^{x_2} f(x)dx = y_0\\frac{h}{3} + y_1\\frac{4h}{3} + y_2\\frac{h}{3} - \\frac{h^5}{90}f^{(iv)}(c)$$"
      ],
      "metadata": {
        "id": "pZsspu-UbwM0"
      }
    },
    {
      "cell_type": "markdown",
      "source": [
        "where $h = x_2 - x_1 = x_1 - x_0$ and $x_0 < c < x_2$."
      ],
      "metadata": {
        "id": "aJgkip0P_6eH"
      }
    },
    {
      "cell_type": "markdown",
      "source": [
        "##### example 06"
      ],
      "metadata": {
        "id": "2STUaeRgAvIt"
      }
    },
    {
      "cell_type": "markdown",
      "source": [
        "apply trapezoid rule and simpsons rule to approximate"
      ],
      "metadata": {
        "id": "dq2sD09tbzwL"
      }
    },
    {
      "cell_type": "markdown",
      "source": [
        "$$\\int_1^2 ln\\; x\\;dx,$$"
      ],
      "metadata": {
        "id": "9UveHgU9b1kU"
      }
    },
    {
      "cell_type": "markdown",
      "source": [
        "and find an upper bound for the approximation error."
      ],
      "metadata": {
        "id": "evzXW6adAxC8"
      }
    },
    {
      "cell_type": "markdown",
      "source": [
        "trapezoid:"
      ],
      "metadata": {
        "id": "sdGdUPhcb5MN"
      }
    },
    {
      "cell_type": "markdown",
      "source": [
        "\\begin{align}\n",
        "  \\int_1^2 ln \\text{ }x \\text{ }dx\n",
        "    &\\approx \\frac{h}{2}(y_0+y_1)\n",
        "    = \\frac{1}{2}(ln\\; 1 + ln\\; 2)\n",
        "    = \\frac{ln\\; 2}{2}\n",
        "    \\approx 0.3466 \\\\\n",
        "  \\\\\n",
        "  \\text{error }\n",
        "    &= \\frac{h^3}{12}\\; f''(c) \\\\\n",
        "  \\\\\n",
        "  &\\Downarrow \\quad f''(x) = -\\frac{1}{x^2}, 1 < c < 2 \\\\\n",
        "  \\\\\n",
        "  &= \\frac{1^3}{12}\\; \\frac{1}{c^2}\n",
        "    \\le \\frac{1}{12} \\approx 0.0834. \\\\\n",
        "  \\\\\n",
        "  \\int_1^2 ln\\; x\\; dx &= 0.3466 \\pm 0.0834 \\\\\n",
        "  \\\\\n",
        "  \\uparrow\\text{ by } & \\text{approximation }\n",
        "    \\text{and exactly by }\\downarrow \\\\\n",
        "  \\\\\n",
        "  \\int_1^2 ln\\; x\\; dx\n",
        "    &= x\\; ln\\; x|_1^2 - \\int_1^2 dx \\\\\n",
        "    &= 2\\; ln\\; 2 - 1\\; ln\\; 1\n",
        "    \\approx 0.386294. \\quad\\checkmark\n",
        "\\end{align}"
      ],
      "metadata": {
        "id": "DjGl9fEmBG09"
      }
    },
    {
      "cell_type": "markdown",
      "source": [
        "simpsons:"
      ],
      "metadata": {
        "id": "e7jVAF6ob9xl"
      }
    },
    {
      "cell_type": "markdown",
      "source": [
        "\\begin{align}\n",
        "  \\int_1^2 ln\\; x\\; dx\n",
        "    &\\approx \\frac{h}{3}(y_0+4y_1+y_2)\n",
        "    = \\frac{0.5}{3} \\left( ln\\; 1 + 4ln\\frac{3}{2} + ln\\; 2 \\right)\n",
        "    \\approx 0.3858 \\\\\n",
        "  \\\\\n",
        "  \\text{error }\n",
        "    &= -\\frac{h^5}{90}\\; f^{(iv)}(c) \\\\\n",
        "  \\\\\n",
        "  &\\Downarrow \\quad f^{(iv)}(x) = -\\frac{6}{x^4}, 1 < c < 2 \\\\\n",
        "  \\\\\n",
        "  &= \\frac{6(0.5)^5}{90c^4}\n",
        "    \\le \\frac{6(0.5)^5}{90}\n",
        "    = \\frac{1}{480} \\approx 0.0021 \\\\\n",
        "  \\\\\n",
        "  \\int_1^2 ln\\; x\\; dx &= 0.3858 \\pm 0.0021\n",
        "    \\quad\\text{by approximation}. \\quad\\checkmark\n",
        "\\end{align}"
      ],
      "metadata": {
        "id": "pcmXOaiHE7x8"
      }
    },
    {
      "cell_type": "markdown",
      "source": [
        "one way of comparing numerial integration rules is by comparing error terms."
      ],
      "metadata": {
        "id": "rcB5cA2x_63w"
      }
    },
    {
      "cell_type": "markdown",
      "source": [
        "<b><font color=grey>definition</font> degree of precision</b> of numerical integration method is the greatest integer $k$ for which all degree $k$ or less polynomials are integrated exactly by the method. eg, degree 1 trapezoidal rule is exact for polynomial of degree 1 or less. also, by the error, simpsons is degree 3."
      ],
      "metadata": {
        "id": "CXU06YHBHE56"
      }
    },
    {
      "cell_type": "markdown",
      "source": [
        "##### <b>simpsons $\\frac{3}{8}$ rule</b>"
      ],
      "metadata": {
        "id": "UtTkQdCqH4xZ"
      }
    },
    {
      "cell_type": "markdown",
      "source": [
        "$$\\int_{x_0}^{x_3} f(x)dx \\approx \\frac{3h}{8}(y_0 + 3y_1 + 3y_2 + y_3)$$"
      ],
      "metadata": {
        "id": "8tQI_l_1AUtk"
      }
    },
    {
      "cell_type": "markdown",
      "source": [
        "##### example 07"
      ],
      "metadata": {
        "id": "HfBZHgulAOlV"
      }
    },
    {
      "cell_type": "markdown",
      "source": [
        "find the degree of precision of the degree 3 newton-cotes formula, simpsons $\\frac{3}{8}$ rule."
      ],
      "metadata": {
        "id": "ZJUKeTe7HvFX"
      }
    },
    {
      "cell_type": "markdown",
      "source": [
        "\\begin{align}\n",
        "  \\frac{3h}{8}&(y_0 + 3y_1 + 3y_2 + y_3) \\\\\n",
        "  \\\\\n",
        "  &\\Downarrow \\quad \\text{eg, } f(x) = x^2 \\\\\n",
        "  \\\\\n",
        "  &= \\frac{3h}{8}(x^2 + 3(x+h)^2 + 3(x+2h)^2 + (x+3h)^2) \\\\\n",
        "  &= \\frac{(x-3h)^3-x^3}{3} = \\int_x^{x+h} x^2.\n",
        "\\end{align}"
      ],
      "metadata": {
        "id": "C9wjo8x2H-Fx"
      }
    },
    {
      "cell_type": "markdown",
      "source": [
        "this holds for $1,x,x^2,x^3$ but fails for $x^4$. therefore, degree of precision of rule is three."
      ],
      "metadata": {
        "id": "YkZcOLW0cHv2"
      }
    },
    {
      "cell_type": "markdown",
      "source": [
        "## 3 composite newton-cotes"
      ],
      "metadata": {
        "id": "Z99omKXC5fnB"
      }
    },
    {
      "cell_type": "code",
      "source": [
        "do_something_else(data,[\"trapezoid\",\"simpsons (and trapezoid)\"],panels=5,fancy=True)"
      ],
      "metadata": {
        "colab": {
          "base_uri": "https://localhost:8080/",
          "height": 386
        },
        "outputId": "c69ef7da-1fc8-40fd-ec24-dd98ac8ba7f9",
        "id": "xM38YAsFKfQG"
      },
      "execution_count": null,
      "outputs": [
        {
          "output_type": "display_data",
          "data": {
            "text/plain": [
              "<Figure size 1000x500 with 2 Axes>"
            ],
            "image/png": "[encoded data removed]"
          },
          "metadata": {}
        }
      ]
    },
    {
      "cell_type": "markdown",
      "source": [
        "(a) composite trapezoid rule sums the trapezoid rule on $m$ adjacent subintervals. (b) composite simpsons rule does the same for simpsons rule."
      ],
      "metadata": {
        "id": "BjIgKPYIANq9"
      }
    },
    {
      "cell_type": "markdown",
      "source": [
        "trapezoidal and simpsons work over intervals. <b>composite numerical integration</b> means to divide an interval into subintervals or <b>panels</b> for better error."
      ],
      "metadata": {
        "id": "tbgkoJ615meP"
      }
    },
    {
      "cell_type": "markdown",
      "source": [
        "composite trapezoidal sums trapezoid rule approximations on adjacent intervals. to approximate"
      ],
      "metadata": {
        "id": "ahRo9kE1cL_d"
      }
    },
    {
      "cell_type": "markdown",
      "source": [
        "$$\\int_a^b f(x) dx$$"
      ],
      "metadata": {
        "id": "Y2Ce1nPWcNg6"
      }
    },
    {
      "cell_type": "markdown",
      "source": [
        "consider evenly spaced grid,"
      ],
      "metadata": {
        "id": "RTsdZIBhcPZW"
      }
    },
    {
      "cell_type": "markdown",
      "source": [
        "$$a = x_0 < x_1 < x_2 < \\dots < x_{m-2} < x_{m-1} < x_{m} = b$$"
      ],
      "metadata": {
        "id": "zC5ODjxWcRRs"
      }
    },
    {
      "cell_type": "markdown",
      "source": [
        "where $h = x_{i+1} - x_i$. for each subinterval,"
      ],
      "metadata": {
        "id": "174qmA1QcS3U"
      }
    },
    {
      "cell_type": "markdown",
      "source": [
        "$$\\int_{x_i}^{x_{i+1}} f(x)dx = \\frac{h}{2}(f(x_i) + f(x_{i+1})) - \\frac{h^3}{12}f''(c_i)$$"
      ],
      "metadata": {
        "id": "g8IrgPvVcU-q"
      }
    },
    {
      "cell_type": "markdown",
      "source": [
        "where $f''$ is continuous. adding up subintervals,"
      ],
      "metadata": {
        "id": "6iuRd0-QcWee"
      }
    },
    {
      "cell_type": "markdown",
      "source": [
        "\\begin{align}\n",
        "  \\int_a^b f(x)dx\n",
        "    &= \\frac{h}{2} \\left[\n",
        "    (f(a) + f(b) + \\underbrace{2\\sum_{i=1}^{m-1} f(x_i)}_{\\text{internal borders}}\n",
        "    \\right] - \\underbrace{\n",
        "    \\sum_{i=0}^{m-1} \\frac{h^3}{12}f''(c_i)}_{\\text{error}} \\\\\n",
        "  \\\\\n",
        "  \\text{error}\n",
        "  &= \\frac{h^3}{12} \\sum_{i=0}^{m-1} f''(c_i)\n",
        "  = \\frac{h^3}{12} m f''(c)\n",
        "  = \\frac{(b-a)h^2}{12}f''(c),\n",
        "    \\quad a<c<b, mh = (b-a). \\\\\n",
        "  &\\Downarrow\n",
        "\\end{align}"
      ],
      "metadata": {
        "id": "xEW9aQustahu"
      }
    },
    {
      "cell_type": "markdown",
      "source": [
        "##### <b>composite trapezoidal rule</b>"
      ],
      "metadata": {
        "id": "PWREBp-pt6lH"
      }
    },
    {
      "cell_type": "markdown",
      "source": [
        "$$\\int_a^b f(x)dx = \\frac{h}{2} \\left( y_0 + y_m + 2\\sum_{i=1}^{m-1}y_i \\right) - (b-a)\\frac{h^2}{12}f''(c)$$"
      ],
      "metadata": {
        "id": "Lud05-uBcamE"
      }
    },
    {
      "cell_type": "markdown",
      "source": [
        "where $h = (b-a)/m$ and $c$ is between $a$ and $b$."
      ],
      "metadata": {
        "id": "SljGfmwIuC2X"
      }
    },
    {
      "cell_type": "markdown",
      "source": [
        "##### usw"
      ],
      "metadata": {
        "id": "xXiNmRY7ymHG"
      }
    },
    {
      "cell_type": "markdown",
      "source": [
        "composite simpsons sums simpsons rule approximations similarly. consider evenly spaced grid,"
      ],
      "metadata": {
        "id": "vf9NRQLbceEt"
      }
    },
    {
      "cell_type": "markdown",
      "source": [
        "$$a = x_0 < x_1 < x_2 < \\dots < x_{2m-2} < x_{2m-1} < x_{2m} = b$$"
      ],
      "metadata": {
        "id": "XZ6-ODJZcfrM"
      }
    },
    {
      "cell_type": "markdown",
      "source": [
        "where each $h = x_{i+1} - x_i$. on each length $2h$ subinterval $[x_{2i},x_{2i+2}]$, execute simpsons. ie, the interpolating parabola fits to $[x_{2i},x_{2i+1},s_{2i+2}]$."
      ],
      "metadata": {
        "id": "7vPXdPWU3rts"
      }
    },
    {
      "cell_type": "markdown",
      "source": [
        "$$\\int_{x_{2i}}^{x_{2i+2}} f(x)dx = \\frac{h}{3}[f(x_{2i}) + 4f(x_{2i+1}) + f(x_{2i+2})] - \\frac{h^5}{90}f^{(iv)}(c_i)$$"
      ],
      "metadata": {
        "id": "77LkPwovcl4s"
      }
    },
    {
      "cell_type": "markdown",
      "source": [
        "where $f^{(iv)}$ is continuous. adding up subintervals,"
      ],
      "metadata": {
        "id": "cZ90Dd8Lcnj7"
      }
    },
    {
      "cell_type": "markdown",
      "source": [
        "\\begin{align}\n",
        "  \\int_a^b f(x)dx\n",
        "    &= \\frac{h}{3} \\left[\n",
        "    (f(a) + f(b) +\n",
        "      \\underbrace{4\\sum_{i=1}^m f(x_{2i-1})}_{\\text{simpsons}}\n",
        "    + \\underbrace{2\\sum_{i=1}^{m-1} f(x_{2i})}_{\\text{internal borders}}\n",
        "    \\right] - \\underbrace{\n",
        "    \\sum_{i=0}^{m-1} \\frac{h^5}{90}f^{(iv)}(c_i)}_{\\text{error}} \\\\\n",
        "  \\\\\n",
        "  \\text{error}\n",
        "  &= \\frac{h^5}{90} \\sum_{i=0}^{m-1} f^{(iv)}(c_i)\n",
        "  = \\frac{h^5}{90} m f^{(iv)}(c)\n",
        "  = (b-a)\\frac{h^4}{180}f^{(iv)}(c),\n",
        "    \\quad a<c<b, m\\cdot 2h = (b-a). \\\\\n",
        "  &\\Downarrow\n",
        "\\end{align}"
      ],
      "metadata": {
        "id": "Tl50hRGyykUv"
      }
    },
    {
      "cell_type": "markdown",
      "source": [
        "##### <b>composite simpsons rule</b>"
      ],
      "metadata": {
        "id": "f4RSTOSP31el"
      }
    },
    {
      "cell_type": "markdown",
      "source": [
        "$$\\int_a^b f(x)dx = \\frac{h}{3}\\left[ y_0 + y_{2m} + 4\\sum_{i=1}^m y_{2i-1} + 2\\sum_{i=1}^{m-1}y_{2i} \\right] - \\frac{(b-a)h^4}{180}f^{(iv)}(c)$$"
      ],
      "metadata": {
        "id": "AC9KHNig6X7S"
      }
    },
    {
      "cell_type": "markdown",
      "source": [
        "where $c$ is between $a$ and $b$."
      ],
      "metadata": {
        "id": "H2qvfw7DcrY1"
      }
    },
    {
      "cell_type": "markdown",
      "source": [
        "##### example 08"
      ],
      "metadata": {
        "id": "Lice4qZT4Gze"
      }
    },
    {
      "cell_type": "markdown",
      "source": [
        "carry out four-panel approximations of"
      ],
      "metadata": {
        "id": "lCnAptRPcvdG"
      }
    },
    {
      "cell_type": "markdown",
      "source": [
        "$$\\int_1^2 ln\\; x\\; dx$$"
      ],
      "metadata": {
        "id": "xq8evlOLcwyN"
      }
    },
    {
      "cell_type": "markdown",
      "source": [
        "using the composite trapezoid rule and composite simpsons rule."
      ],
      "metadata": {
        "id": "nXiz6C5M4JGd"
      }
    },
    {
      "cell_type": "markdown",
      "source": [
        "trapezoid rule with $a=1,b=2,h=\\frac{b-a}{4}=\\frac{1}{4}$:"
      ],
      "metadata": {
        "id": "yAliQZggc0GZ"
      }
    },
    {
      "cell_type": "markdown",
      "source": [
        "\\begin{align}\n",
        "  \\int_1^2 ln\\; x\\; dx &\\approx \\frac{\\frac{1}{4}}{2}\n",
        "    \\left[ y_0 + y_4 + 2\\sum_{i=1}^3 y_i \\right] \\\\\n",
        "  &= \\frac{1}{8} \\left[ ln1 + ln2 + 2\\left(ln\\frac{5}{4} + ln\\frac{6}{4} + ln\\frac{7}{4}\\right) \\right] \\\\\n",
        "  &\\approx 0.3837 \\\\\n",
        "  \\\\\n",
        "  \\text{error }\n",
        "    &= (b-a)\\frac{h^2}{12} |f''(c)|\n",
        "    = \\frac{\\frac{1}{16}}{12}\\frac{1}{c^2}\n",
        "    \\le \\frac{1}{(16)(12)(1^2)} = \\frac{1}{192} \\approx 0.0052.\n",
        "\\end{align}"
      ],
      "metadata": {
        "id": "EYDIwBD64gt8"
      }
    },
    {
      "cell_type": "markdown",
      "source": [
        "simpsons rule with $a=1,b=2,2h=\\frac{b-a}{4}=\\frac{1}{8}$:"
      ],
      "metadata": {
        "id": "2QuWaFawc3RT"
      }
    },
    {
      "cell_type": "markdown",
      "source": [
        "\\begin{align}\n",
        "  \\int_1^2 ln\\; x\\; dx &\\approx \\frac{\\frac{1}{8}}{3}\n",
        "    \\left[ y_0 + y_8 + 4\\sum_{i=1}^4 y_{2i-1} + 2\\sum_{i=1}^3 y_{2i} \\right] \\\\\n",
        "  &= \\frac{1}{24} \\left[ ln1 + ln2\n",
        "    + 4\\left( ln\\frac{9}{8} + ln\\frac{11}{8} + ln\\frac{13}{8} + ln\\frac{15}{8} \\right)\n",
        "    + 2\\left( ln\\frac{5}{4} + ln\\frac{6}{4} + ln\\frac{7}{4} \\right)\\right] \\\\\n",
        "  &\\approx 0.386292 \\\\\n",
        "  \\\\\n",
        "  \\text{error }\n",
        "    &= (b-a)\\frac{h^4}{180} |f^{(iv)}(c)|\n",
        "    = \\frac{1}{180}\\frac{6}{c^4}\n",
        "    \\le \\frac{6}{(8^4)(180)(1^4)} = \\approx 0.000008.\n",
        "\\end{align}"
      ],
      "metadata": {
        "id": "RYX2EAKU6ofZ"
      }
    },
    {
      "cell_type": "markdown",
      "source": [
        "##### example 09"
      ],
      "metadata": {
        "id": "iWrYqRUu8kFh"
      }
    },
    {
      "cell_type": "markdown",
      "source": [
        "find the number of panels $m$ necessary for the composite simpsons rule to approximate"
      ],
      "metadata": {
        "id": "NSYrZvjnc6mW"
      }
    },
    {
      "cell_type": "markdown",
      "source": [
        "$$\\int_0^{\\pi} sin^2x\\; dx$$"
      ],
      "metadata": {
        "id": "-2ASXwg5c79T"
      }
    },
    {
      "cell_type": "markdown",
      "source": [
        "within six correct decimal places."
      ],
      "metadata": {
        "id": "oerfSeGe8lwJ"
      }
    },
    {
      "cell_type": "markdown",
      "source": [
        "\\begin{align}\n",
        "  \\frac{(\\pi - 0)h^4}{180}|f^{(iv)}(c)| &< 0.5\\times 10^{-6} \\\\\n",
        "  \\\\\n",
        "  &\\Downarrow \\quad f^{(iv)}(x) = -8cos\\text{ }2x \\\\\n",
        "  \\\\\n",
        "  \\frac{\\pi h^4}{180}8 &< 0.5\\times 10^{-6} \\\\\n",
        "  \\\\\n",
        "  &\\Downarrow \\\\\n",
        "  \\\\\n",
        "  h &< 0.0435, m = \\text{ceil}(\\frac{\\pi}{2h}) = 37 \\text{ panels}.\n",
        "\\end{align}"
      ],
      "metadata": {
        "id": "93ZKMwTe82Ij"
      }
    },
    {
      "cell_type": "markdown",
      "source": [
        "## 4 open newton-cotes"
      ],
      "metadata": {
        "id": "j3X63sQU9oyk"
      }
    },
    {
      "cell_type": "markdown",
      "source": [
        "trapezoidal and simpsons require values at the end points. open newton-cotes does not use end points, allowing integrands removable singularities at those end points."
      ],
      "metadata": {
        "id": "5dloaMLZ9r7E"
      }
    },
    {
      "cell_type": "markdown",
      "source": [
        "##### <b>midpoint rule</b>"
      ],
      "metadata": {
        "id": "hN_y8aeh_PjD"
      }
    },
    {
      "cell_type": "markdown",
      "source": [
        "$$\\int_{x_0}^{x_1} f(x)dx = hf(w) + \\frac{h^3}{24}f''(c)$$"
      ],
      "metadata": {
        "id": "xIRdd9b6_NzU"
      }
    },
    {
      "cell_type": "markdown",
      "source": [
        "where $f''$ continuous on $[a,b]$, $h = (x_1 - x_0)$, midpoint $w = x_0 + \\frac{h}{2}$, $x_0 < c < x_1$. this method requires only one function evaluation and the error term is suspiciously half that of trapezoidal."
      ],
      "metadata": {
        "id": "JonnvH4KANe0"
      }
    },
    {
      "cell_type": "markdown",
      "source": [
        "find $f'(x)$ where $f(x) = x^{x^x}$."
      ],
      "metadata": {
        "id": "3XYYAXKw0976"
      }
    },
    {
      "cell_type": "markdown",
      "source": [
        "###### proof-lite"
      ],
      "metadata": {
        "id": "esPin_tOFh0L"
      }
    },
    {
      "cell_type": "markdown",
      "source": [
        "similar to the derivation of the trapezoid rule. set $h = x_1 - x_0$. degree one taylor expansion of $f(x)$ about interval midpoint $w = x_0 + \\frac{h}{2}$"
      ],
      "metadata": {
        "id": "SwIxl6vVdBZm"
      }
    },
    {
      "cell_type": "markdown",
      "source": [
        "\\begin{align}\n",
        "  f(x) &= f(w) + (x-w)f'(x) + \\frac{1}{2}(x-w)^2f''(c_x)\n",
        "    \\quad x_0 < c_x < x_1, c_x \\text{ depends on } x \\\\\n",
        "  \\\\\n",
        "  &\\Downarrow \\\\\n",
        "  \\\\\n",
        "  \\int_{x_0}^{x_1} f(x) dx\n",
        "    &= (x_1 - x_0)f(w)\n",
        "      + f'(w)\\int_{x_0}^{x_1} (x-w)dx\n",
        "      + \\underbrace{\\frac{1}{2} \\int_{x_0}^{x_1} f''(c_x)(x-w)^2dx}_{f'' \\int dx \\quad\\Leftarrow \\text{ MVT}} \\\\\n",
        "    &= hf(w) + 0 + \\frac{f''(c)}{2} \\int_{x_0}^{x_1} (x-w)^2 dx \\\\\n",
        "    &= hf(w) + \\frac{h^3}{24}f''(c)\n",
        "\\end{align}"
      ],
      "metadata": {
        "id": "KEV9FdNPFjt8"
      }
    },
    {
      "cell_type": "markdown",
      "source": [
        "where $x_0 < c < x_1$. $\\checkmark$"
      ],
      "metadata": {
        "id": "tQRn24PWdELG"
      }
    },
    {
      "cell_type": "markdown",
      "source": [
        "##### <b>composite midpoint rule</b>"
      ],
      "metadata": {
        "id": "e9GRGk7SAR_1"
      }
    },
    {
      "cell_type": "markdown",
      "source": [
        "$$\\int_a^b f(x)dx = h\\sum_{i=1}^m f(w_i) + \\frac{(b-a)h^2}{24}f''(c)$$"
      ],
      "metadata": {
        "id": "MvhL3yo7AWMM"
      }
    },
    {
      "cell_type": "markdown",
      "source": [
        "where $h = \\frac{b-a}{m}$, $a < c <b$, $w_i$ are midpoints of $m$ equal subintervals of $[a,b]$."
      ],
      "metadata": {
        "id": "feKCBDF5dHRG"
      }
    },
    {
      "cell_type": "markdown",
      "source": [
        "##### example 10"
      ],
      "metadata": {
        "id": "nKmq45zqAKu0"
      }
    },
    {
      "cell_type": "markdown",
      "source": [
        "approximate $\\int_0^1 \\frac{sin\\; x}{x} dx$ by composite midpoint rule with $m=10$ panels.\n"
      ],
      "metadata": {
        "id": "FpspiHOtAxsL"
      }
    },
    {
      "cell_type": "markdown",
      "source": [
        "midpoints are $0.05,0.15,\\dots,0.95$ and"
      ],
      "metadata": {
        "id": "w09Vmdr5dKp3"
      }
    },
    {
      "cell_type": "markdown",
      "source": [
        "$$\\int_0^1 f(x)dx \\approx 0.1 \\sum_1^{10} f(m_i) = 0.94620858.$$"
      ],
      "metadata": {
        "id": "en3_D4E2BdEV"
      }
    },
    {
      "cell_type": "markdown",
      "source": [
        "the correct answer to eightplaces is $0.94608307$."
      ],
      "metadata": {
        "id": "WBFk3eu1dNS8"
      }
    },
    {
      "cell_type": "markdown",
      "source": [
        "##### bonus newton-cotes rule"
      ],
      "metadata": {
        "id": "yWcecLqdDI3G"
      }
    },
    {
      "cell_type": "markdown",
      "source": [
        "$$\\int_{x_0}^{x_4} f(x) dx = \\frac{4}{3}h \\left[ 2f(x_1) - f(x_2) + 2f(x_3) \\right] + \\frac{14h^5}{45}f^{(iv)}(c)$$"
      ],
      "metadata": {
        "id": "73W2ctkiDVmn"
      }
    },
    {
      "cell_type": "markdown",
      "source": [
        "where $h = \\frac{x_4-x_0}{4}, x_1 = x_0 + h, x_2 = x_0 + 2h, x_3 = x_0 + 3h$ and $x_0 < c < x_4$."
      ],
      "metadata": {
        "id": "CtFMms8CdQtr"
      }
    },
    {
      "cell_type": "markdown",
      "source": [
        "## resources"
      ],
      "metadata": {
        "id": "g7XtWpXNLlaR"
      }
    },
    {
      "cell_type": "markdown",
      "source": [
        "meh, youre fine."
      ],
      "metadata": {
        "id": "I43fS_UcdWav"
      }
    }
  ]
}