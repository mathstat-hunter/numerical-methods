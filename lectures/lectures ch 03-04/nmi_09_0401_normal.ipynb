{
  "nbformat": 4,
  "nbformat_minor": 0,
  "metadata": {
    "colab": {
      "provenance": [],
      "collapsed_sections": [
        "XJQUtxfDrwhX",
        "nZFGxeSvSkXp",
        "PKK5V9qzpgXn",
        "q005oFsPHCFv"
      ]
    },
    "kernelspec": {
      "name": "python3",
      "display_name": "Python 3"
    },
    "language_info": {
      "name": "python"
    }
  },
  "cells": [
    {
      "cell_type": "markdown",
      "source": [
        "# nmi | 2024 spring\n",
        "## lecture 09 : least squares\n"
      ],
      "metadata": {
        "id": "IgURT4MC1E1V"
      }
    },
    {
      "cell_type": "markdown",
      "source": [
        "## 4 least squares\n"
      ],
      "metadata": {
        "id": "W8U-cKl3xk6M"
      }
    },
    {
      "cell_type": "markdown",
      "source": [
        "least squares as an idea has been around since gauss and legendre, depending on how you define \"as an idea\". and \"L2\" is all over, underpinning this modern world.\n",
        "</br>"
      ],
      "metadata": {
        "id": "KhMYiUgTwiRu"
      }
    },
    {
      "cell_type": "markdown",
      "source": [
        "### 4.1 least squares and the normal equations\n"
      ],
      "metadata": {
        "id": "5co0aknTxewn"
      }
    },
    {
      "cell_type": "markdown",
      "source": [
        "rootfinding has been cases where solutions exist, exact or approximate; what about when they dont exist? interpolation has focused on models that intersect all data; is that always the best model?\n",
        "</br>\n"
      ],
      "metadata": {
        "id": "ee9WmBV-xqSM"
      }
    },
    {
      "cell_type": "markdown",
      "source": [
        "#### 4.1.1 inconsistent systems of equations\n"
      ],
      "metadata": {
        "id": "chdpyMel0885"
      }
    },
    {
      "cell_type": "markdown",
      "source": [
        "\\begin{align}\n",
        "  x_1 + x_2 &= 2 \\\\\n",
        "  x_1 - x_2 &= 1 \\\\\n",
        "  x_1 + x_2 &= 3.\n",
        "\\end{align}\n",
        "</br>\n",
        "\n",
        "who do you uninvite to the party? lets not have math be exclusionist; lets compromise with a solution that comes close. interpret \"close\" in terms of euclidean distance as method of the week.\n",
        "</br>\n"
      ],
      "metadata": {
        "id": "x6w_29GsEmOB"
      }
    },
    {
      "cell_type": "markdown",
      "source": [
        "for $m\\times n$ system $Ax=b$, C\n",
        "\n",
        "\\begin{align}\n",
        "  \\begin{bmatrix} 1 & 1 \\\\ 1 & -1 \\\\ 1 & 1 \\end{bmatrix}\n",
        "  \\begin{bmatrix} x_1 \\\\ x_2 \\end{bmatrix}\n",
        "  &=\n",
        "  \\begin{bmatrix} 2 \\\\ 1 \\\\ 3 \\end{bmatrix} \\\\\n",
        "  \\\\\n",
        "  &\\Downarrow \\quad\\text{or} \\\\\n",
        "  \\\\\n",
        "  x_1 \\begin{bmatrix} 1 \\\\ 1 \\\\ 1 \\end{bmatrix}\n",
        "  +\n",
        "  x_2 \\begin{bmatrix} 1 \\\\ -1 \\\\ 1 \\end{bmatrix}\n",
        "  &=\n",
        "  \\begin{bmatrix} 2 \\\\ 1 \\\\ 3 \\end{bmatrix}\n",
        "  \\quad\\Rightarrow\\quad\n",
        "  x_1v_1 + x_2v_2 + \\dots + x_nv_n = b.\n",
        "\\end{align}\n",
        "</br>\n",
        "\n",
        "ie, hit target 3d $b$ with two 3d vectors, $x_1,x_2$. \"closest\" to $b$ is in the plane $Ax = x_1 + x_2$ in $\\mathbb{R}^3$."
      ],
      "metadata": {
        "id": "2S1cDiAOGMoo"
      }
    },
    {
      "cell_type": "markdown",
      "source": [
        "##### visual\n"
      ],
      "metadata": {
        "id": "XJQUtxfDrwhX"
      }
    },
    {
      "cell_type": "code",
      "source": [
        "# this is a plain jane, no special method script to plot the previous system\n",
        "\n",
        "import matplotlib.pyplot as plt\n",
        "import numpy as np\n",
        "\n",
        "def main():\n",
        "\n",
        "  y1 = lambda x: 2 - x\n",
        "  y2 = lambda x: x - 1\n",
        "  y3 = lambda x: 3 - x\n",
        "\n",
        "  xs = np.array([0,4])\n",
        "  ys_1 = y1(xs)\n",
        "  ys_2 = y2(xs)\n",
        "  ys_3 = y3(xs)\n",
        "\n",
        "  # plot, data\n",
        "  plt.plot(xs,ys_1,label=\"$f_1(x) = 2 - x$\")\n",
        "  plt.plot(xs,ys_2,label=\"$f_2(x) = x - 1$\")\n",
        "  plt.plot(xs,ys_3,label=\"$f_3(x) = 3 - x$\")\n",
        "\n",
        "  # plot, set style\n",
        "  plt.grid()\n",
        "  plt.title(f\"least squares\\n\")\n",
        "  plt.legend(bbox_to_anchor=(1.02,1),loc='upper left',borderaxespad=0)\n",
        "  plt.ylabel(\"y\")\n",
        "  plt.xlabel(\"x\")\n",
        "\n",
        "  # plot, show\n",
        "  plt.show()\n",
        "\n",
        "if __name__ == \"__main__\":\n",
        "  main()\n"
      ],
      "metadata": {
        "colab": {
          "base_uri": "https://localhost:8080/",
          "height": 493
        },
        "outputId": "e3e41f85-84ab-494d-d936-e720dbe05ca7",
        "id": "5Yp3KkLaXUd2"
      },
      "execution_count": null,
      "outputs": [
        {
          "output_type": "display_data",
          "data": {
            "text/plain": [
              "<Figure size 640x480 with 1 Axes>"
            ],
            "image/png": "[encoded data removed]"
          },
          "metadata": {}
        }
      ]
    },
    {
      "cell_type": "markdown",
      "source": [
        "##### usw\n"
      ],
      "metadata": {
        "id": "yFsFBlTCr0Be"
      }
    },
    {
      "cell_type": "markdown",
      "source": [
        "there is no $x_1,x_2$ that solves the problem but there is a point in the plane $Ax$ of all possible candidates that is closest to $b$. also, $\\vec{r} = b - A\\bar{x}$ is perpendicular to $\\{Ax|x\\in\\mathbb{R}^n\\}$.\n",
        "</br>\n"
      ],
      "metadata": {
        "id": "fCQQnyy4dDpb"
      }
    },
    {
      "cell_type": "markdown",
      "source": [
        "recall: $A_{m\\times n}^T$ is $n\\times m$ matrix; $(A+B)^T = A^T + B^T$; $(AB)^T = B^TA^T$.\n",
        "</br>\n"
      ],
      "metadata": {
        "id": "Wz1yc9i8fZm3"
      }
    },
    {
      "cell_type": "markdown",
      "source": [
        "\\begin{align}\n",
        "  \\color{red}{\\vec{r}} &= b - A\\bar{x} \\color{blue}{\\perp \\{Ax|x\\in\\mathbb{R}^n\\}} \\\\\n",
        "  \\\\\n",
        "  &\\Downarrow \\quad \\vec{r}\\ne 0 \\text{ but imagine it for a moment} \\\\\n",
        "  \\\\\n",
        "  \\color{blue}{(Ax)^T}(b-A\\bar{x}) &= \\color{red}{0} \\quad \\forall\\text{ } x\\in \\mathbb{r}^n \\\\\n",
        "  \\\\\n",
        "  &\\Downarrow \\\\\n",
        "  \\\\\n",
        "  x^TA^T(b-A\\bar{x}) &= 0 \\quad \\forall\\text{ } x\\in \\mathbb{r}^n \\\\\n",
        "  \\\\\n",
        "  &\\Downarrow \\quad A^T(b-A\\bar{x}) \\perp\\text{ all } x\\in \\mathbb{R}^n \\\\\n",
        "  \\\\\n",
        "  A^T(b-A\\bar{x}) &= 0 \\\\\n",
        "  \\\\\n",
        "  &\\Downarrow \\quad \\text{least squares solution} \\\\\n",
        "  \\\\\n",
        "  A^TA\\bar{x} &= A^Tb.\n",
        "\\end{align}\n",
        "</br>\n"
      ],
      "metadata": {
        "id": "KjtoA7d8gLLW"
      }
    },
    {
      "cell_type": "markdown",
      "source": [
        "<b>normal equations for least squares</b>\n",
        "</br></br>\n",
        "\n",
        "given inconsistent system $Ax = b$, solve $A^TA\\bar{x} = A^Tb$\n",
        "where $\\bar{x}$ that minimizes the euclidean length of the residual $r=b-Ax$.\n",
        "</br>\n"
      ],
      "metadata": {
        "id": "LixyI0RMjT36"
      }
    },
    {
      "cell_type": "markdown",
      "source": [
        "##### example 01\n"
      ],
      "metadata": {
        "id": "BvkY_0x7j6fN"
      }
    },
    {
      "cell_type": "markdown",
      "source": [
        "use normal equations to find least squares solution of inconsistent system\n",
        "</br></br>\n",
        "\n",
        "$$\n",
        "A = \\begin{bmatrix} 1 & 1 \\\\ 1 & -1 \\\\ 1 & 1 \\end{bmatrix},\n",
        "b = \\begin{bmatrix} 2 \\\\ 1 \\\\ 3 \\end{bmatrix}.\n",
        "$$\n",
        "</br>\n"
      ],
      "metadata": {
        "id": "k2t-W6Rzj9ay"
      }
    },
    {
      "cell_type": "markdown",
      "source": [
        "\\begin{align}\n",
        "  A^TA &=\n",
        "  \\begin{bmatrix} 1 & 1 & 1 \\\\ 1 & -1 & 1 \\end{bmatrix}\n",
        "  \\begin{bmatrix} 1 & 1 \\\\ 1 & -1 \\\\ 1 & 1 \\end{bmatrix}\n",
        "  = \\begin{bmatrix} 3 & 1 \\\\ 1 & 3 \\end{bmatrix}, \\\\\n",
        "  \\\\\n",
        "  A^Tb &=\n",
        "  \\begin{bmatrix} 1 & 1 & 1 \\\\ 1 & -1 & 1 \\end{bmatrix}\n",
        "  \\begin{bmatrix} 2 \\\\ 1 \\\\ 3 \\end{bmatrix}\n",
        "  = \\begin{bmatrix} 6 \\\\ 4 \\end{bmatrix}. \\\\\n",
        "  \\\\\n",
        "  &\\Downarrow \\quad\\text{normal equations} \\\\\n",
        "  \\\\\n",
        "  \\begin{bmatrix} 3 & 1 \\\\ 1 & 3 \\end{bmatrix}\n",
        "  \\begin{bmatrix} x_1 \\\\ x_2 \\end{bmatrix}\n",
        "  &= \\begin{bmatrix} 6 \\\\ 4 \\end{bmatrix} \\\\\n",
        "  \\\\\n",
        "  &\\Downarrow \\quad\\text{gaussian elimination} \\\\\n",
        "  \\\\\n",
        "  \\begin{bmatrix} 3 & 1 & | & 6 \\\\ 1 & 3 & | & 4 \\end{bmatrix}\n",
        "  &\\rightarrow\n",
        "  \\begin{bmatrix} 3 & 1 & | & 6 \\\\ 0 & \\frac{8}{3} & | & 2 \\end{bmatrix}\n",
        "  \\quad\\Rightarrow\\quad \\bar{x}\n",
        "  = \\begin{bmatrix} \\bar{x_1} \\\\ \\bar{x_2} \\end{bmatrix}\n",
        "  = \\begin{bmatrix} \\frac{7}{4} \\\\ \\frac{3}{4} \\end{bmatrix}.\n",
        "\\end{align}\n",
        "</br>\n"
      ],
      "metadata": {
        "id": "Wu1llhVNMRJh"
      }
    },
    {
      "cell_type": "markdown",
      "source": [
        "\\begin{align}\n",
        "  \\begin{bmatrix} 1 & 1 \\\\ 1 & -1 \\\\ 1 & 1 \\end{bmatrix}\n",
        "  \\begin{bmatrix} \\frac{7}{4} \\\\ \\frac{3}{4} \\end{bmatrix}\n",
        "  &= \\begin{bmatrix} 2.5 \\\\ 1 \\\\ 2.5 \\end{bmatrix}\n",
        "  \\ne \\begin{bmatrix} 2 \\\\ 1 \\\\ 3 \\end{bmatrix}\n",
        "  \\quad\\text{ remember youve solved exactly for a system where }\\vec{r}\\ne 0 \\\\\n",
        "  \\\\\n",
        "  &\\Downarrow \\quad\\text{and} \\\\\n",
        "  \\\\\n",
        "  r &= b - A\\bar{x} =\n",
        "  \\begin{bmatrix} 2 \\\\ 1 \\\\ 3 \\end{bmatrix} -\n",
        "  \\begin{bmatrix} 2.5 \\\\ 1 \\\\ 2.5 \\end{bmatrix} =\n",
        "  \\begin{bmatrix} -0.5 \\\\ 0.0 \\\\ 0.5 \\end{bmatrix}\n",
        "\\end{align}\n",
        "</br>\n"
      ],
      "metadata": {
        "id": "oP9SACuOmvhO"
      }
    },
    {
      "cell_type": "markdown",
      "source": [
        "if $r$ is zero, the solution is exact. if not, the euclidean length of the residual vector is a backward error measure of how far $\\bar{x}$ is from being a solution. the size of the residual is expressed in more than one way:\n",
        "</br></br>\n",
        "\n",
        "\\begin{align}\n",
        "  \\text{euclidean 2-norm, } ||r||_2 &= \\sqrt{r_1^2 + \\dots + r_m^2} \\\\ \\\\\n",
        "  \\text{squared error, } SE &= r_1^2 + \\dots + r_m^2 \\\\ \\\\\n",
        "  \\text{root mean squared error, } RMSE &= \\sqrt{(r_1^2 + \\dots + r_m^2)/m}. \\\\ \\\\\n",
        "  \\Rightarrow\\quad RMSE &= \\sqrt{SE/m} = \\frac{||r||_2}{\\sqrt{m}}\n",
        "\\end{align}\n",
        "</br>\n"
      ],
      "metadata": {
        "id": "Xkn2bizMpBJo"
      }
    },
    {
      "cell_type": "markdown",
      "source": [
        "##### example 02\n"
      ],
      "metadata": {
        "id": "jjMgXm5nL8RK"
      }
    },
    {
      "cell_type": "markdown",
      "source": [
        "solve least squares problem\n",
        "</br></br>\n",
        "\n",
        "$$\n",
        "\\begin{bmatrix} 1 & -4 \\\\ 2 & 3 \\\\ 2 & 2 \\end{bmatrix}\n",
        "\\begin{bmatrix} x_1 \\\\ x_2 \\end{bmatrix}\n",
        "= \\begin{bmatrix} -3 \\\\ 15 \\\\ 9 \\end{bmatrix}.\n",
        "$$\n",
        "</br>\n"
      ],
      "metadata": {
        "id": "Y_yql_A6L-Ux"
      }
    },
    {
      "cell_type": "markdown",
      "source": [
        "\\begin{align}\n",
        "  A^TAx &= A^Tb \\\\\n",
        "  \\\\\n",
        "  &\\Downarrow \\\\\n",
        "  \\\\\n",
        "  \\begin{bmatrix} 9 & 6 \\\\ 6 & 29 \\end{bmatrix}\n",
        "  \\begin{bmatrix} x_1 \\\\ x_2 \\end{bmatrix}\n",
        "  &= \\begin{bmatrix} 45 \\\\ 75 \\end{bmatrix} \\\\\n",
        "  \\\\\n",
        "  &\\Downarrow \\quad\\text{gauss elimination or numpy.linalg.solve(), usw} \\\\\n",
        "  \\\\\n",
        "  \\bar{x} = \\begin{bmatrix} \\bar{x_1} \\\\ \\bar{x_2} \\end{bmatrix}\n",
        "  &= \\begin{bmatrix} 3.8 \\\\ 1.8 \\end{bmatrix}, \\\\\n",
        "  \\\\\n",
        "  r &= b-A\\bar{x} \\\\\n",
        "  \\\\\n",
        "  &= \\begin{bmatrix} -3 \\\\ 15 \\\\ 9 \\end{bmatrix}\n",
        "  - \\begin{bmatrix} 1 & -4 \\\\ 2 & 3 \\\\ 2 & 2 \\end{bmatrix}\n",
        "  \\begin{bmatrix} 3.8 \\\\ 1.8 \\end{bmatrix} \\\\\n",
        "  \\\\\n",
        "  &= \\begin{bmatrix} -3 \\\\ 15 \\\\ 9 \\end{bmatrix}\n",
        "  - \\begin{bmatrix} -3.4 \\\\ 13 \\\\ 11.2 \\end{bmatrix}\n",
        "  = \\begin{bmatrix} 0.4 \\\\ 2 \\\\ -2.2 \\end{bmatrix}, \\\\\n",
        "  \\\\\n",
        "  &\\Downarrow \\\\\n",
        "  \\\\\n",
        "  ||e||_2 &= \\sqrt{(0.4)^2 + 2^2 + (-2.2)^2} = 3.\n",
        "\\end{align}\n",
        "</br>\n"
      ],
      "metadata": {
        "id": "2VwzJS0rQry3"
      }
    },
    {
      "cell_type": "markdown",
      "source": [
        "#### 4.1.2 fitting models to data\n"
      ],
      "metadata": {
        "id": "98yI6YfBUCRu"
      }
    },
    {
      "cell_type": "markdown",
      "source": [
        "let $(t_1,y_1),\\dots,(t_m,y_m)$ be a set of points in the plane. given a ﬁxed class of models, such as all lines $y = c_1 + c_2t$, seek to locate the speciﬁc instance of the model that best ﬁts the data points in the 2-norm. the core of the least squares idea consists of measuring the residual of the ﬁt by the squared errors of the model at the data points and ﬁnding the model parameters that minimize this quantity.\n",
        "</br>\n"
      ],
      "metadata": {
        "id": "U1MN3NJWUHV5"
      }
    },
    {
      "cell_type": "markdown",
      "source": [
        "![ss_sauer2_04_f02.png](data:image/png;base64,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)"
      ],
      "metadata": {
        "id": "JyWqDpsBOTHQ"
      }
    },
    {
      "cell_type": "markdown",
      "source": [
        "##### example 03\n"
      ],
      "metadata": {
        "id": "PnaMKM-HOms5"
      }
    },
    {
      "cell_type": "markdown",
      "source": [
        "continues example 01.\n",
        "</br></br>\n",
        "\n",
        "find best fit line for $(t,y) = (1,2),(-1,1),(1,3)$.\n",
        "</br>\n"
      ],
      "metadata": {
        "id": "UXgfzXKROom3"
      }
    },
    {
      "cell_type": "markdown",
      "source": [
        "find best $c_1,c_2$ for model $y=c_1 + c_2t$.\n",
        "</br></br>\n",
        "\n",
        "\\begin{align}\n",
        "  c_1 + c_2(1) &= 2 \\\\\n",
        "  c_1 + c_2(-1) &= 1 \\\\\n",
        "  c_1 + c_2(1) &= 3 \\\\\n",
        "  \\\\\n",
        "  &\\Downarrow \\\\\n",
        "  \\\\\n",
        "  \\begin{bmatrix} 1 & 1 \\\\ 1 & -1 \\\\ 1 & 1 \\end{bmatrix}\n",
        "  \\begin{bmatrix} c_1 \\\\ c_2 \\end{bmatrix} &=\n",
        "  \\begin{bmatrix} 2 \\\\ 1 \\\\ 3 \\end{bmatrix} \\\\\n",
        "  \\\\\n",
        "  &\\Downarrow \\\\\n",
        "  \\\\\n",
        "  c = \\begin{bmatrix} c_1 \\\\ c_2 \\end{bmatrix}\n",
        "  &= \\begin{bmatrix} \\frac{7}{4} \\\\ \\frac{3}{4} \\end{bmatrix}.\n",
        "\\end{align}\n",
        "</br>\n",
        "\n",
        "|t|y|line|error|\n",
        "|-:|-:|-:|-:|\n",
        "1|2|2.5|-0.5\n",
        "-1|1|1.0|0.0\n",
        "1|3|2.5|0.5\n",
        "\n",
        "</br>\n",
        "$\\Rightarrow\\quad RMSE = \\frac{1}{\\sqrt{6}}$.\n",
        "</br>\n"
      ],
      "metadata": {
        "id": "u0YTLikEQelp"
      }
    },
    {
      "cell_type": "markdown",
      "source": [
        "###### code\n"
      ],
      "metadata": {
        "id": "nZFGxeSvSkXp"
      }
    },
    {
      "cell_type": "code",
      "source": [
        "# example 03: uses polyfit,poly1d\n",
        "\n",
        "import matplotlib.pyplot as plt\n",
        "import numpy as np\n",
        "import pandas as pd\n",
        "\n",
        "pd.set_option('display.max_rows',10)\n",
        "\n",
        "def main():\n",
        "  xs = np.array([1,-1,1])\n",
        "  ys = np.array([2,1,3])\n",
        "\n",
        "  # get least squares fit\n",
        "  #pc_lsq = np.polyfit(xs,ys,deg=1) # coeffs, default is lsq\n",
        "  pr_lsq = np.polyfit(xs,ys,deg=1,full=True) # coeffs, residual, stuff\n",
        "  pc_lsq = pr_lsq[0] # coeffs\n",
        "\n",
        "  # display, error\n",
        "  pr_lsq_se = pr_lsq[1] # SE\n",
        "  print(f\"\\n  SE: {pr_lsq_se}\")\n",
        "  print(f\"\\nRMSE: {np.sqrt(pr_lsq_se/len(xs))}\\n\")\n",
        "\n",
        "  # use least squares fit\n",
        "  px_lsq = np.poly1d(pc_lsq) # poly object from coeffs\n",
        "  xs_dis = np.linspace(min(xs)-1,max(xs)+1,101) # display interval\n",
        "  ps_lsq = px_lsq(xs_dis) # y = p(x) over interval\n",
        "\n",
        "  # pandas dataframe # only for 4 data points so \"xs\"\n",
        "  ps = np.full((xs.size,4),np.nan) # cols = t,y,model,error\n",
        "  ps[:,0] = xs\n",
        "  ps[:,1] = ys\n",
        "  ps[:,2] = px_lsq(xs)\n",
        "  ps[:,3] = ps[:,1] - ps[:,2]\n",
        "  sCol = [\"t\",\"y\",\"model\",\"error\"] # pandas can use latex, i guess?\n",
        "  df = pd.DataFrame(data=ps,columns=sCol)\n",
        "  df[\"error\"] = df[\"error\"].apply(\"{:.4f}\".format)\n",
        "  display(df)\n",
        "\n",
        "  # plot, data\n",
        "  plt.scatter(xs,ys,c=\"C0\",marker=\"o\",label=\"some data\")\n",
        "  plt.plot(xs_dis,ps_lsq,c=\"C0\",linestyle=\":\",label=str(px_lsq))\n",
        "\n",
        "  # plot, style, data point labels\n",
        "  offset = 0.1\n",
        "  sxy = []\n",
        "  for i,x in enumerate(xs):\n",
        "    sxy.append(f\"({xs[i]},{ys[i]})\")\n",
        "  for i,label in enumerate(sxy):\n",
        "    plt.text(xs[i]+offset,ys[i]+offset,label)\n",
        "\n",
        "  # plot, style\n",
        "  plt.title(\"\\nbest linear model for some data,\\n\\nleast squares\\n\")\n",
        "  plt.legend(bbox_to_anchor=(1.02,1),loc='upper left',borderaxespad=0)\n",
        "  plt.ylabel(\"y\")\n",
        "  plt.xlabel(\"x\")\n",
        "\n",
        "  # plot, display\n",
        "  plt.show()\n",
        "\n",
        "if __name__ == \"__main__\":\n",
        "  main()\n"
      ],
      "metadata": {
        "colab": {
          "base_uri": "https://localhost:8080/",
          "height": 768
        },
        "id": "ZfzRnbCYC1U0",
        "outputId": "f01f24a8-d1a9-4d08-ab74-b415ca81cc52"
      },
      "execution_count": null,
      "outputs": [
        {
          "output_type": "stream",
          "name": "stdout",
          "text": [
            "\n",
            "  SE: [0.5]\n",
            "\n",
            "RMSE: [0.40824829]\n",
            "\n"
          ]
        },
        {
          "output_type": "display_data",
          "data": {
            "text/plain": [
              "     t    y  model    error\n",
              "0  1.0  2.0    2.5  -0.5000\n",
              "1 -1.0  1.0    1.0  -0.0000\n",
              "2  1.0  3.0    2.5   0.5000"
            ],
            "text/html": [
              "\n",
              "  <div id=\"df-954015ef-2005-4121-802d-096097515525\" class=\"colab-df-container\">\n",
              "    <div>\n",
              "<style scoped>\n",
              "    .dataframe tbody tr th:only-of-type {\n",
              "        vertical-align: middle;\n",
              "    }\n",
              "\n",
              "    .dataframe tbody tr th {\n",
              "        vertical-align: top;\n",
              "    }\n",
              "\n",
              "    .dataframe thead th {\n",
              "        text-align: right;\n",
              "    }\n",
              "</style>\n",
              "<table border=\"1\" class=\"dataframe\">\n",
              "  <thead>\n",
              "    <tr style=\"text-align: right;\">\n",
              "      <th></th>\n",
              "      <th>t</th>\n",
              "      <th>y</th>\n",
              "      <th>model</th>\n",
              "      <th>error</th>\n",
              "    </tr>\n",
              "  </thead>\n",
              "  <tbody>\n",
              "    <tr>\n",
              "      <th>0</th>\n",
              "      <td>1.0</td>\n",
              "      <td>2.0</td>\n",
              "      <td>2.5</td>\n",
              "      <td>-0.5000</td>\n",
              "    </tr>\n",
              "    <tr>\n",
              "      <th>1</th>\n",
              "      <td>-1.0</td>\n",
              "      <td>1.0</td>\n",
              "      <td>1.0</td>\n",
              "      <td>-0.0000</td>\n",
              "    </tr>\n",
              "    <tr>\n",
              "      <th>2</th>\n",
              "      <td>1.0</td>\n",
              "      <td>3.0</td>\n",
              "      <td>2.5</td>\n",
              "      <td>0.5000</td>\n",
              "    </tr>\n",
              "  </tbody>\n",
              "</table>\n",
              "</div>\n",
              "    <div class=\"colab-df-buttons\">\n",
              "\n",
              "  <div class=\"colab-df-container\">\n",
              "    <button class=\"colab-df-convert\" onclick=\"convertToInteractive('df-954015ef-2005-4121-802d-096097515525')\"\n",
              "            title=\"Convert this dataframe to an interactive table.\"\n",
              "            style=\"display:none;\">\n",
              "\n",
              "  <svg xmlns=\"http://www.w3.org/2000/svg\" height=\"24px\" viewBox=\"0 -960 960 960\">\n",
              "    <path d=\"M120-120v-720h720v720H120Zm60-500h600v-160H180v160Zm220 220h160v-160H400v160Zm0 220h160v-160H400v160ZM180-400h160v-160H180v160Zm440 0h160v-160H620v160ZM180-180h160v-160H180v160Zm440 0h160v-160H620v160Z\"/>\n",
              "  </svg>\n",
              "    </button>\n",
              "\n",
              "  <style>\n",
              "    .colab-df-container {\n",
              "      display:flex;\n",
              "      gap: 12px;\n",
              "    }\n",
              "\n",
              "    .colab-df-convert {\n",
              "      background-color: #E8F0FE;\n",
              "      border: none;\n",
              "      border-radius: 50%;\n",
              "      cursor: pointer;\n",
              "      display: none;\n",
              "      fill: #1967D2;\n",
              "      height: 32px;\n",
              "      padding: 0 0 0 0;\n",
              "      width: 32px;\n",
              "    }\n",
              "\n",
              "    .colab-df-convert:hover {\n",
              "      background-color: #E2EBFA;\n",
              "      box-shadow: 0px 1px 2px rgba(60, 64, 67, 0.3), 0px 1px 3px 1px rgba(60, 64, 67, 0.15);\n",
              "      fill: #174EA6;\n",
              "    }\n",
              "\n",
              "    .colab-df-buttons div {\n",
              "      margin-bottom: 4px;\n",
              "    }\n",
              "\n",
              "    [theme=dark] .colab-df-convert {\n",
              "      background-color: #3B4455;\n",
              "      fill: #D2E3FC;\n",
              "    }\n",
              "\n",
              "    [theme=dark] .colab-df-convert:hover {\n",
              "      background-color: #434B5C;\n",
              "      box-shadow: 0px 1px 3px 1px rgba(0, 0, 0, 0.15);\n",
              "      filter: drop-shadow(0px 1px 2px rgba(0, 0, 0, 0.3));\n",
              "      fill: #FFFFFF;\n",
              "    }\n",
              "  </style>\n",
              "\n",
              "    <script>\n",
              "      const buttonEl =\n",
              "        document.querySelector('#df-954015ef-2005-4121-802d-096097515525 button.colab-df-convert');\n",
              "      buttonEl.style.display =\n",
              "        google.colab.kernel.accessAllowed ? 'block' : 'none';\n",
              "\n",
              "      async function convertToInteractive(key) {\n",
              "        const element = document.querySelector('#df-954015ef-2005-4121-802d-096097515525');\n",
              "        const dataTable =\n",
              "          await google.colab.kernel.invokeFunction('convertToInteractive',\n",
              "                                                    [key], {});\n",
              "        if (!dataTable) return;\n",
              "\n",
              "        const docLinkHtml = 'Like what you see? Visit the ' +\n",
              "          '<a target=\"_blank\" href=https://colab.research.google.com/notebooks/data_table.ipynb>data table notebook</a>'\n",
              "          + ' to learn more about interactive tables.';\n",
              "        element.innerHTML = '';\n",
              "        dataTable['output_type'] = 'display_data';\n",
              "        await google.colab.output.renderOutput(dataTable, element);\n",
              "        const docLink = document.createElement('div');\n",
              "        docLink.innerHTML = docLinkHtml;\n",
              "        element.appendChild(docLink);\n",
              "      }\n",
              "    </script>\n",
              "  </div>\n",
              "\n",
              "\n",
              "<div id=\"df-b76e55e0-9e55-4409-ae4f-c13eca0d7274\">\n",
              "  <button class=\"colab-df-quickchart\" onclick=\"quickchart('df-b76e55e0-9e55-4409-ae4f-c13eca0d7274')\"\n",
              "            title=\"Suggest charts\"\n",
              "            style=\"display:none;\">\n",
              "\n",
              "<svg xmlns=\"http://www.w3.org/2000/svg\" height=\"24px\"viewBox=\"0 0 24 24\"\n",
              "     width=\"24px\">\n",
              "    <g>\n",
              "        <path d=\"M19 3H5c-1.1 0-2 .9-2 2v14c0 1.1.9 2 2 2h14c1.1 0 2-.9 2-2V5c0-1.1-.9-2-2-2zM9 17H7v-7h2v7zm4 0h-2V7h2v10zm4 0h-2v-4h2v4z\"/>\n",
              "    </g>\n",
              "</svg>\n",
              "  </button>\n",
              "\n",
              "<style>\n",
              "  .colab-df-quickchart {\n",
              "      --bg-color: #E8F0FE;\n",
              "      --fill-color: #1967D2;\n",
              "      --hover-bg-color: #E2EBFA;\n",
              "      --hover-fill-color: #174EA6;\n",
              "      --disabled-fill-color: #AAA;\n",
              "      --disabled-bg-color: #DDD;\n",
              "  }\n",
              "\n",
              "  [theme=dark] .colab-df-quickchart {\n",
              "      --bg-color: #3B4455;\n",
              "      --fill-color: #D2E3FC;\n",
              "      --hover-bg-color: #434B5C;\n",
              "      --hover-fill-color: #FFFFFF;\n",
              "      --disabled-bg-color: #3B4455;\n",
              "      --disabled-fill-color: #666;\n",
              "  }\n",
              "\n",
              "  .colab-df-quickchart {\n",
              "    background-color: var(--bg-color);\n",
              "    border: none;\n",
              "    border-radius: 50%;\n",
              "    cursor: pointer;\n",
              "    display: none;\n",
              "    fill: var(--fill-color);\n",
              "    height: 32px;\n",
              "    padding: 0;\n",
              "    width: 32px;\n",
              "  }\n",
              "\n",
              "  .colab-df-quickchart:hover {\n",
              "    background-color: var(--hover-bg-color);\n",
              "    box-shadow: 0 1px 2px rgba(60, 64, 67, 0.3), 0 1px 3px 1px rgba(60, 64, 67, 0.15);\n",
              "    fill: var(--button-hover-fill-color);\n",
              "  }\n",
              "\n",
              "  .colab-df-quickchart-complete:disabled,\n",
              "  .colab-df-quickchart-complete:disabled:hover {\n",
              "    background-color: var(--disabled-bg-color);\n",
              "    fill: var(--disabled-fill-color);\n",
              "    box-shadow: none;\n",
              "  }\n",
              "\n",
              "  .colab-df-spinner {\n",
              "    border: 2px solid var(--fill-color);\n",
              "    border-color: transparent;\n",
              "    border-bottom-color: var(--fill-color);\n",
              "    animation:\n",
              "      spin 1s steps(1) infinite;\n",
              "  }\n",
              "\n",
              "  @keyframes spin {\n",
              "    0% {\n",
              "      border-color: transparent;\n",
              "      border-bottom-color: var(--fill-color);\n",
              "      border-left-color: var(--fill-color);\n",
              "    }\n",
              "    20% {\n",
              "      border-color: transparent;\n",
              "      border-left-color: var(--fill-color);\n",
              "      border-top-color: var(--fill-color);\n",
              "    }\n",
              "    30% {\n",
              "      border-color: transparent;\n",
              "      border-left-color: var(--fill-color);\n",
              "      border-top-color: var(--fill-color);\n",
              "      border-right-color: var(--fill-color);\n",
              "    }\n",
              "    40% {\n",
              "      border-color: transparent;\n",
              "      border-right-color: var(--fill-color);\n",
              "      border-top-color: var(--fill-color);\n",
              "    }\n",
              "    60% {\n",
              "      border-color: transparent;\n",
              "      border-right-color: var(--fill-color);\n",
              "    }\n",
              "    80% {\n",
              "      border-color: transparent;\n",
              "      border-right-color: var(--fill-color);\n",
              "      border-bottom-color: var(--fill-color);\n",
              "    }\n",
              "    90% {\n",
              "      border-color: transparent;\n",
              "      border-bottom-color: var(--fill-color);\n",
              "    }\n",
              "  }\n",
              "</style>\n",
              "\n",
              "  <script>\n",
              "    async function quickchart(key) {\n",
              "      const quickchartButtonEl =\n",
              "        document.querySelector('#' + key + ' button');\n",
              "      quickchartButtonEl.disabled = true;  // To prevent multiple clicks.\n",
              "      quickchartButtonEl.classList.add('colab-df-spinner');\n",
              "      try {\n",
              "        const charts = await google.colab.kernel.invokeFunction(\n",
              "            'suggestCharts', [key], {});\n",
              "      } catch (error) {\n",
              "        console.error('Error during call to suggestCharts:', error);\n",
              "      }\n",
              "      quickchartButtonEl.classList.remove('colab-df-spinner');\n",
              "      quickchartButtonEl.classList.add('colab-df-quickchart-complete');\n",
              "    }\n",
              "    (() => {\n",
              "      let quickchartButtonEl =\n",
              "        document.querySelector('#df-b76e55e0-9e55-4409-ae4f-c13eca0d7274 button');\n",
              "      quickchartButtonEl.style.display =\n",
              "        google.colab.kernel.accessAllowed ? 'block' : 'none';\n",
              "    })();\n",
              "  </script>\n",
              "</div>\n",
              "\n",
              "    </div>\n",
              "  </div>\n"
            ],
            "application/vnd.google.colaboratory.intrinsic+json": {
              "type": "dataframe",
              "summary": "{\n  \"name\": \"  main()\",\n  \"rows\": 3,\n  \"fields\": [\n    {\n      \"column\": \"t\",\n      \"properties\": {\n        \"dtype\": \"number\",\n        \"std\": 1.1547005383792517,\n        \"min\": -1.0,\n        \"max\": 1.0,\n        \"num_unique_values\": 2,\n        \"samples\": [\n          -1.0,\n          1.0\n        ],\n        \"semantic_type\": \"\",\n        \"description\": \"\"\n      }\n    },\n    {\n      \"column\": \"y\",\n      \"properties\": {\n        \"dtype\": \"number\",\n        \"std\": 1.0,\n        \"min\": 1.0,\n        \"max\": 3.0,\n        \"num_unique_values\": 3,\n        \"samples\": [\n          2.0,\n          1.0\n        ],\n        \"semantic_type\": \"\",\n        \"description\": \"\"\n      }\n    },\n    {\n      \"column\": \"model\",\n      \"properties\": {\n        \"dtype\": \"number\",\n        \"std\": 0.8660254037844384,\n        \"min\": 1.0000000000000004,\n        \"max\": 2.5,\n        \"num_unique_values\": 2,\n        \"samples\": [\n          1.0000000000000004,\n          2.5\n        ],\n        \"semantic_type\": \"\",\n        \"description\": \"\"\n      }\n    },\n    {\n      \"column\": \"error\",\n      \"properties\": {\n        \"dtype\": \"string\",\n        \"num_unique_values\": 3,\n        \"samples\": [\n          \"-0.5000\",\n          \"-0.0000\"\n        ],\n        \"semantic_type\": \"\",\n        \"description\": \"\"\n      }\n    }\n  ]\n}"
            }
          },
          "metadata": {}
        },
        {
          "output_type": "display_data",
          "data": {
            "text/plain": [
              "<Figure size 640x480 with 1 Axes>"
            ],
            "image/png": "[encoded data removed]"
          },
          "metadata": {}
        }
      ]
    },
    {
      "cell_type": "markdown",
      "source": [
        "##### algorithm\n"
      ],
      "metadata": {
        "id": "i9n3wIBvC0fc"
      }
    },
    {
      "cell_type": "markdown",
      "source": [
        "<b>fitting data by least squares</b>\n",
        "</br></br>\n",
        "```\n",
        "given data (t,y),\n",
        "\n",
        "01 choose parameterized model - eg, f(t) = c[1] + c[2]*t;\n",
        "\n",
        "02 force model to fit data - ie, y_hat = f(t);\n",
        "\n",
        "03 solve with normal equations.\n",
        "```\n",
        "\n",
        "(they can look like this, too.)\n",
        "</br>\n"
      ],
      "metadata": {
        "id": "TSeOAzQPSsTr"
      }
    },
    {
      "cell_type": "markdown",
      "source": [
        "##### example 04\n"
      ],
      "metadata": {
        "id": "Lfqj3LHrT0FX"
      }
    },
    {
      "cell_type": "markdown",
      "source": [
        "find best fit line for $(t,y) = (-1,1),(0,0),(1,0),(2,-2)$.\n",
        "</br>\n"
      ],
      "metadata": {
        "id": "e-TDxI3rT2Xe"
      }
    },
    {
      "cell_type": "markdown",
      "source": [
        "1.  for model $y = c_1 + c_2t$.\n",
        "</br></br>\n",
        "\n",
        "\\begin{align}\n",
        "  c_1 + c_2(-1) &= 1 \\\\\n",
        "  c_1 + c_2(0) &= 0 \\\\\n",
        "  c_1 + c_2(1) &= 0 \\\\\n",
        "  c_1 + c_2(2) &= -2 \\\\\n",
        "  \\\\\n",
        "  &\\Downarrow \\\\\n",
        "  \\\\\n",
        "  \\begin{bmatrix} 1 & -1 \\\\ 1 & 0 \\\\ 1 & 1 \\\\ 1 & 2 \\end{bmatrix}\n",
        "  \\begin{bmatrix} c_1 \\\\ c_2 \\end{bmatrix}\n",
        "  &= \\begin{bmatrix} 1 \\\\ 0 \\\\ 0 \\\\ -2 \\end{bmatrix} \\\\\n",
        "  \\\\\n",
        "  &\\Downarrow \\\\\n",
        "  \\\\\n",
        "  \\begin{bmatrix} 4 & 2 \\\\ 2 & 6 \\end{bmatrix}\n",
        "  \\begin{bmatrix} c_1 \\\\ c_2 \\end{bmatrix}\n",
        "  &= \\begin{bmatrix} -1 \\\\ -5 \\end{bmatrix} \\\\\n",
        "  \\\\\n",
        "  &\\Downarrow \\\\\n",
        "  \\\\\n",
        "  c = \\begin{bmatrix} c_1 \\\\ c_2 \\end{bmatrix}\n",
        "  &= \\begin{bmatrix} 0.2 \\\\ -0.9 \\end{bmatrix}\n",
        "\\end{align}\n",
        "</br>\n",
        "\n",
        "|t|y|line|error|\n",
        "|-:|-:|-:|-:|\n",
        "-1|1|1.1|-0.1\n",
        "0|0|0.2|-0.2\n",
        "1|0|-0.7|0.7\n",
        "2|-2|-1.6|-0.4\n",
        "\n",
        "</br>\n",
        "$\\Rightarrow\\quad SE = (-0.1)^2 + (-0.2)^2 + (0.7)^2 + (-0.4)^2 = 0.7, \\quad RMSE = \\sqrt{\\frac{0.7}{4}} = 0.418$.\n",
        "</br>\n"
      ],
      "metadata": {
        "id": "nzwO9t_eaImb"
      }
    },
    {
      "cell_type": "markdown",
      "source": [
        "2. for model $y = c_1 + c_2t + c_3t^2$.\n",
        "</br></br>\n",
        "\n",
        "\\begin{align}\n",
        "  c_1 + c_2(-1) + c_3(-1)^2 &= 1 \\\\\n",
        "  c_1 + c_2(0) + c_3(0)^2 &= 0 \\\\\n",
        "  c_1 + c_2(1) + c_3(1)^2 &= 0 \\\\\n",
        "  c_1 + c_2(2) + c_3(2)^2 &= -2 \\\\\n",
        "  \\\\\n",
        "  &\\Downarrow \\\\\n",
        "  \\\\\n",
        "  \\begin{bmatrix}\n",
        "    1 & -1 & 1 \\\\ 1 & 0 & 0 \\\\ 1 & 1 & 1 \\\\ 1 & 2 & 4\n",
        "  \\end{bmatrix}\n",
        "  \\begin{bmatrix} c_1 \\\\ c_2 \\\\ c_3 \\end{bmatrix}\n",
        "  &= \\begin{bmatrix} 1 \\\\ 0 \\\\ 0 \\\\ -2 \\end{bmatrix} \\\\\n",
        "  \\\\\n",
        "  &\\Downarrow \\\\\n",
        "  \\\\\n",
        "  \\begin{bmatrix}\n",
        "    4 & 2 & 6 \\\\ 2 & 6 & 8 \\\\ 6 & 8 & 18\n",
        "  \\end{bmatrix}\n",
        "  \\begin{bmatrix} c_1 \\\\ c_2 \\\\ c_3 \\end{bmatrix}\n",
        "  &= \\begin{bmatrix} -1 \\\\ -5 \\\\ -7 \\end{bmatrix} \\\\\n",
        "  \\\\\n",
        "  &\\Downarrow \\\\\n",
        "  \\\\\n",
        "  c = \\begin{bmatrix} c_1 \\\\ c_2 \\\\ c_3 \\end{bmatrix}\n",
        "  &= \\begin{bmatrix} 0.45 \\\\ -0.65 \\\\ -0.25 \\end{bmatrix}\n",
        "\\end{align}\n",
        "</br>\n",
        "\n",
        "|t|y|parabola|error|\n",
        "|-:|-:|-:|-:|\n",
        "-1|1|0.85|0.15\n",
        "0|0|0.45|-0.45\n",
        "1|0|-0.45|0.45\n",
        "2|-2|-1.85|-0.15\n",
        "\n",
        "</br>\n",
        "$\\Rightarrow\\quad SE = (0.15)^2 + (-0.45)^2 + (0.45)^2 + (-0.15)^2 = 0.45, \\quad RMSE = \\sqrt{\\frac{0.45}{4}} = 0.335$.\n",
        "</br>\n"
      ],
      "metadata": {
        "id": "3E5gwVnZuGea"
      }
    },
    {
      "cell_type": "markdown",
      "source": [
        "###### code\n"
      ],
      "metadata": {
        "id": "PKK5V9qzpgXn"
      }
    },
    {
      "cell_type": "code",
      "source": [
        "# during lecture, ok?\n",
        "\n",
        "#  # data for example 04\n",
        "#  xs = np.array([-1,0,1,2])\n",
        "#  ys = np.array([-1,0,0,-2])\n",
        "\n",
        "# 01 copy-pasted previous code cell for example 03\n",
        "# 02 renamed pasted code cell to example 04\n",
        "# 03 replaced lines 10,11 with xs,ys above\n",
        "# 04 updated line 15 argument \"deg\" to 2 from 1 (and later to 3 for kicks)\n",
        "#\n",
        "# nothing else needs to change - no labels, no anything"
      ],
      "metadata": {
        "id": "oo6x73wtph5O"
      },
      "execution_count": null,
      "outputs": []
    },
    {
      "cell_type": "code",
      "source": [
        "# example 04: uses polyfit,poly1d # try with different degrees of fit\n",
        "\n",
        "import matplotlib.pyplot as plt\n",
        "import numpy as np\n",
        "import pandas as pd\n",
        "\n",
        "pd.set_option('display.max_rows',10)\n",
        "\n",
        "def main():\n",
        "  xs = np.array([-1,0,1,2])\n",
        "  ys = np.array([-1,0,0,-2])\n",
        "\n",
        "  # get least squares fit\n",
        "  #pc_lsq = np.polyfit(xs,ys,deg=1) # coeffs, default is lsq\n",
        "  pr_lsq = np.polyfit(xs,ys,deg=3,full=True) # coeffs, residual, stuff\n",
        "  pc_lsq = pr_lsq[0] # coeffs\n",
        "\n",
        "  # display, error\n",
        "  pr_lsq_se = pr_lsq[1] # SE\n",
        "  print(f\"\\n  SE: {pr_lsq_se}\")\n",
        "  print(f\"\\nRMSE: {np.sqrt(pr_lsq_se/len(xs))}\\n\")\n",
        "\n",
        "  # use least squares fit\n",
        "  px_lsq = np.poly1d(pc_lsq) # poly object from coeffs\n",
        "  xs_dis = np.linspace(min(xs)-1,max(xs)+1,101) # display interval\n",
        "  ps_lsq = px_lsq(xs_dis) # y = p(x) over interval\n",
        "\n",
        "  # pandas dataframe # only for 4 data points so \"xs\"\n",
        "  ps = np.full((xs.size,4),np.nan) # cols = t,y,model,error\n",
        "  ps[:,0] = xs\n",
        "  ps[:,1] = ys\n",
        "  ps[:,2] = px_lsq(xs)\n",
        "  ps[:,3] = ps[:,1] - ps[:,2]\n",
        "  nCol = [\"t\",\"y\",\"model\",\"error\"] # pandas can use latex, i guess?\n",
        "  df = pd.DataFrame(data=ps,columns=nCol)\n",
        "  df[\"error\"] = df[\"error\"].apply(\"{:.4f}\".format)\n",
        "  display(df)\n",
        "\n",
        "  # plot, data\n",
        "  plt.scatter(xs,ys,c=\"C0\",marker=\"o\",label=\"some data\")\n",
        "  plt.plot(xs_dis,ps_lsq,c=\"C0\",linestyle=\":\",label=str(px_lsq))\n",
        "\n",
        "  # plot, style, data point labels\n",
        "  offset = 0.1\n",
        "  sxy = []\n",
        "  for i,x in enumerate(xs):\n",
        "    sxy.append(f\"({xs[i]},{ys[i]})\")\n",
        "  for i,label in enumerate(sxy):\n",
        "    plt.text(xs[i]+offset,ys[i]+offset,label)\n",
        "\n",
        "  # plot, style\n",
        "  plt.title(\"\\nleast squares for some data\\n\")\n",
        "  plt.legend(bbox_to_anchor=(1.02,1),loc='upper left',borderaxespad=0)\n",
        "  plt.ylabel(\"y\")\n",
        "  plt.xlabel(\"x\")\n",
        "\n",
        "  # plot, display\n",
        "  plt.show()\n",
        "\n",
        "if __name__ == \"__main__\":\n",
        "  main()\n"
      ],
      "metadata": {
        "colab": {
          "base_uri": "https://localhost:8080/",
          "height": 705
        },
        "outputId": "a0b0d81a-e5c6-4e3e-cf04-19fac5fec1da",
        "id": "ZlVVPtyxzInr"
      },
      "execution_count": null,
      "outputs": [
        {
          "output_type": "stream",
          "name": "stdout",
          "text": [
            "  SE: []\n",
            "RMSE: []\n"
          ]
        },
        {
          "output_type": "display_data",
          "data": {
            "text/plain": [
              "     t    y         model    error\n",
              "0 -1.0 -1.0 -1.000000e+00  -0.0000\n",
              "1  0.0  0.0  2.053913e-15  -0.0000\n",
              "2  1.0  0.0  1.942890e-15  -0.0000\n",
              "3  2.0 -2.0 -2.000000e+00  -0.0000"
            ],
            "text/html": [
              "\n",
              "  <div id=\"df-c248639a-e3a0-4dba-a126-2703887572b6\" class=\"colab-df-container\">\n",
              "    <div>\n",
              "<style scoped>\n",
              "    .dataframe tbody tr th:only-of-type {\n",
              "        vertical-align: middle;\n",
              "    }\n",
              "\n",
              "    .dataframe tbody tr th {\n",
              "        vertical-align: top;\n",
              "    }\n",
              "\n",
              "    .dataframe thead th {\n",
              "        text-align: right;\n",
              "    }\n",
              "</style>\n",
              "<table border=\"1\" class=\"dataframe\">\n",
              "  <thead>\n",
              "    <tr style=\"text-align: right;\">\n",
              "      <th></th>\n",
              "      <th>t</th>\n",
              "      <th>y</th>\n",
              "      <th>model</th>\n",
              "      <th>error</th>\n",
              "    </tr>\n",
              "  </thead>\n",
              "  <tbody>\n",
              "    <tr>\n",
              "      <th>0</th>\n",
              "      <td>-1.0</td>\n",
              "      <td>-1.0</td>\n",
              "      <td>-1.000000e+00</td>\n",
              "      <td>-0.0000</td>\n",
              "    </tr>\n",
              "    <tr>\n",
              "      <th>1</th>\n",
              "      <td>0.0</td>\n",
              "      <td>0.0</td>\n",
              "      <td>2.053913e-15</td>\n",
              "      <td>-0.0000</td>\n",
              "    </tr>\n",
              "    <tr>\n",
              "      <th>2</th>\n",
              "      <td>1.0</td>\n",
              "      <td>0.0</td>\n",
              "      <td>1.942890e-15</td>\n",
              "      <td>-0.0000</td>\n",
              "    </tr>\n",
              "    <tr>\n",
              "      <th>3</th>\n",
              "      <td>2.0</td>\n",
              "      <td>-2.0</td>\n",
              "      <td>-2.000000e+00</td>\n",
              "      <td>-0.0000</td>\n",
              "    </tr>\n",
              "  </tbody>\n",
              "</table>\n",
              "</div>\n",
              "    <div class=\"colab-df-buttons\">\n",
              "\n",
              "  <div class=\"colab-df-container\">\n",
              "    <button class=\"colab-df-convert\" onclick=\"convertToInteractive('df-c248639a-e3a0-4dba-a126-2703887572b6')\"\n",
              "            title=\"Convert this dataframe to an interactive table.\"\n",
              "            style=\"display:none;\">\n",
              "\n",
              "  <svg xmlns=\"http://www.w3.org/2000/svg\" height=\"24px\" viewBox=\"0 -960 960 960\">\n",
              "    <path d=\"M120-120v-720h720v720H120Zm60-500h600v-160H180v160Zm220 220h160v-160H400v160Zm0 220h160v-160H400v160ZM180-400h160v-160H180v160Zm440 0h160v-160H620v160ZM180-180h160v-160H180v160Zm440 0h160v-160H620v160Z\"/>\n",
              "  </svg>\n",
              "    </button>\n",
              "\n",
              "  <style>\n",
              "    .colab-df-container {\n",
              "      display:flex;\n",
              "      gap: 12px;\n",
              "    }\n",
              "\n",
              "    .colab-df-convert {\n",
              "      background-color: #E8F0FE;\n",
              "      border: none;\n",
              "      border-radius: 50%;\n",
              "      cursor: pointer;\n",
              "      display: none;\n",
              "      fill: #1967D2;\n",
              "      height: 32px;\n",
              "      padding: 0 0 0 0;\n",
              "      width: 32px;\n",
              "    }\n",
              "\n",
              "    .colab-df-convert:hover {\n",
              "      background-color: #E2EBFA;\n",
              "      box-shadow: 0px 1px 2px rgba(60, 64, 67, 0.3), 0px 1px 3px 1px rgba(60, 64, 67, 0.15);\n",
              "      fill: #174EA6;\n",
              "    }\n",
              "\n",
              "    .colab-df-buttons div {\n",
              "      margin-bottom: 4px;\n",
              "    }\n",
              "\n",
              "    [theme=dark] .colab-df-convert {\n",
              "      background-color: #3B4455;\n",
              "      fill: #D2E3FC;\n",
              "    }\n",
              "\n",
              "    [theme=dark] .colab-df-convert:hover {\n",
              "      background-color: #434B5C;\n",
              "      box-shadow: 0px 1px 3px 1px rgba(0, 0, 0, 0.15);\n",
              "      filter: drop-shadow(0px 1px 2px rgba(0, 0, 0, 0.3));\n",
              "      fill: #FFFFFF;\n",
              "    }\n",
              "  </style>\n",
              "\n",
              "    <script>\n",
              "      const buttonEl =\n",
              "        document.querySelector('#df-c248639a-e3a0-4dba-a126-2703887572b6 button.colab-df-convert');\n",
              "      buttonEl.style.display =\n",
              "        google.colab.kernel.accessAllowed ? 'block' : 'none';\n",
              "\n",
              "      async function convertToInteractive(key) {\n",
              "        const element = document.querySelector('#df-c248639a-e3a0-4dba-a126-2703887572b6');\n",
              "        const dataTable =\n",
              "          await google.colab.kernel.invokeFunction('convertToInteractive',\n",
              "                                                    [key], {});\n",
              "        if (!dataTable) return;\n",
              "\n",
              "        const docLinkHtml = 'Like what you see? Visit the ' +\n",
              "          '<a target=\"_blank\" href=https://colab.research.google.com/notebooks/data_table.ipynb>data table notebook</a>'\n",
              "          + ' to learn more about interactive tables.';\n",
              "        element.innerHTML = '';\n",
              "        dataTable['output_type'] = 'display_data';\n",
              "        await google.colab.output.renderOutput(dataTable, element);\n",
              "        const docLink = document.createElement('div');\n",
              "        docLink.innerHTML = docLinkHtml;\n",
              "        element.appendChild(docLink);\n",
              "      }\n",
              "    </script>\n",
              "  </div>\n",
              "\n",
              "\n",
              "<div id=\"df-4330ed90-e65b-4e33-86d3-c15c93e34fb3\">\n",
              "  <button class=\"colab-df-quickchart\" onclick=\"quickchart('df-4330ed90-e65b-4e33-86d3-c15c93e34fb3')\"\n",
              "            title=\"Suggest charts\"\n",
              "            style=\"display:none;\">\n",
              "\n",
              "<svg xmlns=\"http://www.w3.org/2000/svg\" height=\"24px\"viewBox=\"0 0 24 24\"\n",
              "     width=\"24px\">\n",
              "    <g>\n",
              "        <path d=\"M19 3H5c-1.1 0-2 .9-2 2v14c0 1.1.9 2 2 2h14c1.1 0 2-.9 2-2V5c0-1.1-.9-2-2-2zM9 17H7v-7h2v7zm4 0h-2V7h2v10zm4 0h-2v-4h2v4z\"/>\n",
              "    </g>\n",
              "</svg>\n",
              "  </button>\n",
              "\n",
              "<style>\n",
              "  .colab-df-quickchart {\n",
              "      --bg-color: #E8F0FE;\n",
              "      --fill-color: #1967D2;\n",
              "      --hover-bg-color: #E2EBFA;\n",
              "      --hover-fill-color: #174EA6;\n",
              "      --disabled-fill-color: #AAA;\n",
              "      --disabled-bg-color: #DDD;\n",
              "  }\n",
              "\n",
              "  [theme=dark] .colab-df-quickchart {\n",
              "      --bg-color: #3B4455;\n",
              "      --fill-color: #D2E3FC;\n",
              "      --hover-bg-color: #434B5C;\n",
              "      --hover-fill-color: #FFFFFF;\n",
              "      --disabled-bg-color: #3B4455;\n",
              "      --disabled-fill-color: #666;\n",
              "  }\n",
              "\n",
              "  .colab-df-quickchart {\n",
              "    background-color: var(--bg-color);\n",
              "    border: none;\n",
              "    border-radius: 50%;\n",
              "    cursor: pointer;\n",
              "    display: none;\n",
              "    fill: var(--fill-color);\n",
              "    height: 32px;\n",
              "    padding: 0;\n",
              "    width: 32px;\n",
              "  }\n",
              "\n",
              "  .colab-df-quickchart:hover {\n",
              "    background-color: var(--hover-bg-color);\n",
              "    box-shadow: 0 1px 2px rgba(60, 64, 67, 0.3), 0 1px 3px 1px rgba(60, 64, 67, 0.15);\n",
              "    fill: var(--button-hover-fill-color);\n",
              "  }\n",
              "\n",
              "  .colab-df-quickchart-complete:disabled,\n",
              "  .colab-df-quickchart-complete:disabled:hover {\n",
              "    background-color: var(--disabled-bg-color);\n",
              "    fill: var(--disabled-fill-color);\n",
              "    box-shadow: none;\n",
              "  }\n",
              "\n",
              "  .colab-df-spinner {\n",
              "    border: 2px solid var(--fill-color);\n",
              "    border-color: transparent;\n",
              "    border-bottom-color: var(--fill-color);\n",
              "    animation:\n",
              "      spin 1s steps(1) infinite;\n",
              "  }\n",
              "\n",
              "  @keyframes spin {\n",
              "    0% {\n",
              "      border-color: transparent;\n",
              "      border-bottom-color: var(--fill-color);\n",
              "      border-left-color: var(--fill-color);\n",
              "    }\n",
              "    20% {\n",
              "      border-color: transparent;\n",
              "      border-left-color: var(--fill-color);\n",
              "      border-top-color: var(--fill-color);\n",
              "    }\n",
              "    30% {\n",
              "      border-color: transparent;\n",
              "      border-left-color: var(--fill-color);\n",
              "      border-top-color: var(--fill-color);\n",
              "      border-right-color: var(--fill-color);\n",
              "    }\n",
              "    40% {\n",
              "      border-color: transparent;\n",
              "      border-right-color: var(--fill-color);\n",
              "      border-top-color: var(--fill-color);\n",
              "    }\n",
              "    60% {\n",
              "      border-color: transparent;\n",
              "      border-right-color: var(--fill-color);\n",
              "    }\n",
              "    80% {\n",
              "      border-color: transparent;\n",
              "      border-right-color: var(--fill-color);\n",
              "      border-bottom-color: var(--fill-color);\n",
              "    }\n",
              "    90% {\n",
              "      border-color: transparent;\n",
              "      border-bottom-color: var(--fill-color);\n",
              "    }\n",
              "  }\n",
              "</style>\n",
              "\n",
              "  <script>\n",
              "    async function quickchart(key) {\n",
              "      const quickchartButtonEl =\n",
              "        document.querySelector('#' + key + ' button');\n",
              "      quickchartButtonEl.disabled = true;  // To prevent multiple clicks.\n",
              "      quickchartButtonEl.classList.add('colab-df-spinner');\n",
              "      try {\n",
              "        const charts = await google.colab.kernel.invokeFunction(\n",
              "            'suggestCharts', [key], {});\n",
              "      } catch (error) {\n",
              "        console.error('Error during call to suggestCharts:', error);\n",
              "      }\n",
              "      quickchartButtonEl.classList.remove('colab-df-spinner');\n",
              "      quickchartButtonEl.classList.add('colab-df-quickchart-complete');\n",
              "    }\n",
              "    (() => {\n",
              "      let quickchartButtonEl =\n",
              "        document.querySelector('#df-4330ed90-e65b-4e33-86d3-c15c93e34fb3 button');\n",
              "      quickchartButtonEl.style.display =\n",
              "        google.colab.kernel.accessAllowed ? 'block' : 'none';\n",
              "    })();\n",
              "  </script>\n",
              "</div>\n",
              "\n",
              "    </div>\n",
              "  </div>\n"
            ],
            "application/vnd.google.colaboratory.intrinsic+json": {
              "type": "dataframe",
              "summary": "{\n  \"name\": \"  main()\",\n  \"rows\": 4,\n  \"fields\": [\n    {\n      \"column\": \"t\",\n      \"properties\": {\n        \"dtype\": \"number\",\n        \"std\": 1.2909944487358056,\n        \"min\": -1.0,\n        \"max\": 2.0,\n        \"num_unique_values\": 4,\n        \"samples\": [\n          0.0,\n          2.0,\n          -1.0\n        ],\n        \"semantic_type\": \"\",\n        \"description\": \"\"\n      }\n    },\n    {\n      \"column\": \"y\",\n      \"properties\": {\n        \"dtype\": \"number\",\n        \"std\": 0.9574271077563381,\n        \"min\": -2.0,\n        \"max\": 0.0,\n        \"num_unique_values\": 3,\n        \"samples\": [\n          -1.0,\n          0.0,\n          -2.0\n        ],\n        \"semantic_type\": \"\",\n        \"description\": \"\"\n      }\n    },\n    {\n      \"column\": \"model\",\n      \"properties\": {\n        \"dtype\": \"number\",\n        \"std\": 0.9574271077563384,\n        \"min\": -1.999999999999999,\n        \"max\": 2.0539125955565396e-15,\n        \"num_unique_values\": 4,\n        \"samples\": [\n          2.0539125955565396e-15,\n          -1.999999999999999,\n          -0.9999999999999969\n        ],\n        \"semantic_type\": \"\",\n        \"description\": \"\"\n      }\n    },\n    {\n      \"column\": \"error\",\n      \"properties\": {\n        \"dtype\": \"category\",\n        \"num_unique_values\": 1,\n        \"samples\": [\n          \"-0.0000\"\n        ],\n        \"semantic_type\": \"\",\n        \"description\": \"\"\n      }\n    }\n  ]\n}"
            }
          },
          "metadata": {}
        },
        {
          "output_type": "display_data",
          "data": {
            "text/plain": [
              "<Figure size 640x480 with 1 Axes>"
            ],
            "image/png": "[encoded data removed]"
          },
          "metadata": {}
        }
      ]
    },
    {
      "cell_type": "markdown",
      "source": [
        "#### 4.1.3 conditioning of least squares\n"
      ],
      "metadata": {
        "id": "9hiA8z1c1iWJ"
      }
    },
    {
      "cell_type": "markdown",
      "source": [
        "how accurately can least squares solution $\\bar{x}$ be determined? consider a system where the true root is known.\n",
        "</br>\n"
      ],
      "metadata": {
        "id": "aGIQPkiY4X8O"
      }
    },
    {
      "cell_type": "markdown",
      "source": [
        "##### example 05 van der monde matrix\n"
      ],
      "metadata": {
        "id": "-0JDeRrE4x1O"
      }
    },
    {
      "cell_type": "markdown",
      "source": [
        "let $x_1 = 2.0, x_2 = 2.2, \\dots, x_{11} = 4.0$ and set $y_i = 1 + x_i + x_i^2 + x_i^3 + x_i^4 + x_i^5 + x_i^6 + x_i^7$ for $1\\le i\\le 11$. use normal equations to find least squares polynomial $P(x) = c_1 + c_2x + \\dots + c_8x^7$ fitting $(x_i,y_i)$."
      ],
      "metadata": {
        "id": "h9GSGmxO41PG"
      }
    },
    {
      "cell_type": "markdown",
      "source": [
        "###### code\n"
      ],
      "metadata": {
        "id": "q005oFsPHCFv"
      }
    },
    {
      "cell_type": "code",
      "source": [
        "# example 05: uses least squares\n",
        "\n",
        "import numpy as np\n",
        "\n",
        "# quick code to populate b = y[i]\n",
        "def horners(cs,x):\n",
        "  \"\"\"\n",
        "  cs : coefficients = a[n] ... a[2],a[1],a[0]\n",
        "  x : lol, really?\n",
        "\n",
        "  returns : evaluated nested polynomial\n",
        "  \"\"\"\n",
        "  rc = None\n",
        "  if cs:\n",
        "    i = len(cs) - 1\n",
        "    rc = cs[i]\n",
        "    for i in reversed(range(i)):\n",
        "      rc = rc*x + cs[i]\n",
        "  return rc\n",
        "\n",
        "def main():\n",
        "  # data to fit\n",
        "  nc = 8 # unknowns = coeffs\n",
        "  ny = 11 # eqns\n",
        "  xs = np.linspace(2.0,4.0,ny) # these are not unknown\n",
        "  ys = horners([1]*nc,xs)\n",
        "  vdm = np.ones((ny,nc))\n",
        "  for j in reversed(range(1,nc)):\n",
        "    for i in range(ny):\n",
        "      for k in range(j,nc):\n",
        "        vdm[i,k] *= xs[i]\n",
        "\n",
        "  # get best numpy solution\n",
        "  cs_sys,r_sys,rank_sys,s_sys = np.linalg.lstsq(vdm,ys,rcond=None)\n",
        "\n",
        "  # get lecture/basic least squares solution\n",
        "  ata = vdm.T @ vdm\n",
        "  atb = vdm.T @ ys\n",
        "  cs_lsq = np.linalg.solve(ata,atb)\n",
        "\n",
        "  print(f\"\\nsys: {cs_sys} = meh\")\n",
        "  print(f\"\\nbc cond(vdm): {np.linalg.cond(vdm):.2f}\")\n",
        "  print(f\"\\nlsq: {cs_lsq} = meh++\")\n",
        "  print(f\"\\nbc cond(ata): {np.linalg.cond(ata):.2f}\")\n",
        "\n",
        "if __name__ == \"__main__\":\n",
        "  main()\n"
      ],
      "metadata": {
        "colab": {
          "base_uri": "https://localhost:8080/"
        },
        "id": "UX2AlUP8DrJv",
        "outputId": "449325b2-32c0-4b57-b9c9-78ce2e488c38"
      },
      "execution_count": null,
      "outputs": [
        {
          "output_type": "stream",
          "name": "stdout",
          "text": [
            "\n",
            "sys: [1.00000036 0.99999912 1.00000091 0.99999948 1.00000018 0.99999996\n",
            " 1.         1.        ] = meh\n",
            "\n",
            "bc cond(vdm): 5408707369.66\n",
            "\n",
            "lsq: [ -6.5451339   19.63513982 -18.52627454  12.25347206  -2.85328861\n",
            "   1.78405095   0.91219801   1.00417562] = meh++\n",
            "\n",
            "bc cond(ata): 64240895280342507520.00\n"
          ]
        }
      ]
    },
    {
      "cell_type": "code",
      "source": [
        "# example 05, what happens with smaller system?\n",
        "\n",
        "def main():\n",
        "  # data to fit\n",
        "  nc = 3 # unknowns = coeffs\n",
        "  ny = 3 # eqns\n",
        "  xs = np.linspace(2.0,4.0,ny) # these are not unknown\n",
        "  ys = horners([1]*nc,xs)\n",
        "  vdm = np.ones((ny,nc))\n",
        "  for j in reversed(range(1,nc)):\n",
        "    for i in range(ny):\n",
        "      for k in range(j,nc):\n",
        "        vdm[i,k] *= xs[i]\n",
        "\n",
        "  cs_sys,r_sys,rank_sys,s_sys = np.linalg.lstsq(vdm,ys,rcond=None)\n",
        "  ata = vdm.T @ vdm\n",
        "  atb = vdm.T @ ys\n",
        "  cs_lsq = np.linalg.solve(ata,atb) # np.linalg.solve(ata,atb)\n",
        "\n",
        "  print(f\"\\nsys: {cs_sys} = eh\")\n",
        "  print(f\"\\nbc cond(vdm): {np.linalg.cond(vdm):.2f}\")\n",
        "  print(f\"\\nlsq: {cs_lsq} = eh++\")\n",
        "  print(f\"\\nbc cond(ata): {np.linalg.cond(ata):.2f}\")\n",
        "\n",
        "if __name__ == \"__main__\":\n",
        "  main()\n"
      ],
      "metadata": {
        "colab": {
          "base_uri": "https://localhost:8080/"
        },
        "id": "yMFK18txi0o_",
        "outputId": "e0e35432-3341-4d16-a440-782ad5f11017"
      },
      "execution_count": null,
      "outputs": [
        {
          "output_type": "stream",
          "name": "stdout",
          "text": [
            "\n",
            "sys: [1. 1. 1.] = eh\n",
            "\n",
            "bc cond(vdm): 251.03\n",
            "\n",
            "lsq: [1. 1. 1.] = eh++\n",
            "\n",
            "bc cond(ata): 63016.51\n"
          ]
        }
      ]
    },
    {
      "cell_type": "markdown",
      "source": [
        "### miscellaney\n"
      ],
      "metadata": {
        "id": "_buY7toCoAbQ"
      }
    },
    {
      "cell_type": "markdown",
      "source": [
        "* least squares, normal equations [@mathemagician](https://www.youtube.com/watch?v=NWMgpaJXu2c) (5m), [example](https://www.youtube.com/watch?v=Nn0YGiVH4UY) (4m)\n",
        "* least squares, normal equations [@jeffreychasnov](https://www.youtube.com/watch?v=WABC6wmuLOk) (15m)\n",
        "</br></br>\n",
        "\n",
        "* 3dplots [@matplotlib](https://matplotlib.org/stable/gallery/mplot3d/2dcollections3d.html)\n",
        "* axes ticks [@matplotlib](https://matplotlib.org/stable/users/explain/axes/axes_ticks.html)\n",
        "</br>\n"
      ],
      "metadata": {
        "id": "RiHZ6-JkobpQ"
      }
    }
  ]
}