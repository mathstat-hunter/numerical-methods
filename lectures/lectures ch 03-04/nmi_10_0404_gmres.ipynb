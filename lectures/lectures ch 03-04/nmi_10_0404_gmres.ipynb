{
  "nbformat": 4,
  "nbformat_minor": 0,
  "metadata": {
    "colab": {
      "provenance": []
    },
    "kernelspec": {
      "name": "python3",
      "display_name": "Python 3"
    },
    "language_info": {
      "name": "python"
    }
  },
  "cells": [
    {
      "cell_type": "markdown",
      "source": [
        "# nmi | 2024 spring\n",
        "## lecture 10 : GMRES\n"
      ],
      "metadata": {
        "id": "IgURT4MC1E1V"
      }
    },
    {
      "cell_type": "markdown",
      "source": [
        "## 4.4 generalized minimum residual method (GMRES)"
      ],
      "metadata": {
        "id": "f_iiAXbKfs68"
      }
    },
    {
      "cell_type": "markdown",
      "source": [
        "a good choice for large, sparse, nonsymmetric linear systems $Ax = b$.\n",
        "</br></br>\n",
        "\n",
        "why does orthogonality matter to a linear system? bc matrices with almost parallel column vectors tend to be ill-conditioned - ie, have large error magnification.\n",
        "</br></br>\n",
        "\n",
        "GMRES ~ orthogonal x2:\n",
        "</br></br>\n",
        "\n",
        "1.   backwards error minimized using least squares; and\n",
        "2.   search space basis is reorthogonalized with each iteration.\n",
        "</br>\n"
      ],
      "metadata": {
        "id": "DYo_QrvPf-li"
      }
    },
    {
      "cell_type": "markdown",
      "source": [
        "### 4.4.1 iterative krylov method\n"
      ],
      "metadata": {
        "id": "4OW9wIfJkU1Y"
      }
    },
    {
      "cell_type": "markdown",
      "source": [
        "GMRES is a krylov method - which relies on krylov space. krylov space is a vector space spanned by $\\{r, Ar, . . . , A^k r\\}$, where $r = b − Ax_0$ is the residual vector of the initial guess.\n",
        "</br></br>\n",
        "\n",
        "chebyshev minimized runge error by choosing roots; GMRES minimizes error by how it improves the initial guess. (note: not the initial guess itself but the increments to it.)\n",
        "</br></br>\n",
        "\n",
        "it looks at the krylov space spanned by $r$ and its products under nonsingular $A$. at each step $k$, the krylov space increases, its basis is reorthogonalized and least squares is applied. (ie, gram-schmidt & householder from 4.3.)\n",
        "</br></br>\n"
      ],
      "metadata": {
        "id": "0jbhmSj1njvb"
      }
    },
    {
      "cell_type": "markdown",
      "source": [
        "#### algorithm"
      ],
      "metadata": {
        "id": "z1UwsZ1pn_wz"
      }
    },
    {
      "cell_type": "markdown",
      "source": [
        "\n",
        "```\n",
        "x[0] = initial guess\n",
        "r = b - A*x[0]\n",
        "q[1] = r/||r|| # L2 norm\n",
        "for k in range(m) # [0,m)\n",
        "  y = A*q[k]\n",
        "  for j in range(k) # [0,k)\n",
        "    h[j,k] = transpose(q[j])•y\n",
        "    y = y - h[j,k]*q[j]\n",
        "\n",
        "  h[k+1,k] = ||y||\n",
        "\n",
        "  if h[k+1,k] != 0\n",
        "    q[k+1] = y/h[k+1,k]\n",
        "  else\n",
        "    # finish loop with this k and stop\n",
        "\n",
        "  # lsq: H[k+1 eqns,k unknowns]\n",
        "  min(||H*c[k] - transpose([||r|| 0 ... 0])||)\n",
        "\n",
        "  # next x\n",
        "  x[k] = Q[k]*c[k] + x[0]\n",
        "```\n"
      ],
      "metadata": {
        "id": "Et5s0cB1oByi"
      }
    },
    {
      "cell_type": "markdown",
      "source": [
        "where\n",
        "</br></br>\n",
        "\n",
        "*   $x_k$ is $\\bar{x}$ for $Ax = b$;\n",
        "</br></br>\n",
        "\n",
        "and at step $k$,\n",
        "</br></br>\n",
        "\n",
        "*   $H$ is the $k+1$ x $k$ matrix minimized with least squares for $c$;\n",
        "*   $Q_k$ is the $n$ x $k$ matrix of $k$ orthonormal colums; and\n",
        "*   if $h_{k+1,k} = 0$, $k$ is final step and minimizing $H$ will return the exact solution of $Ax = b$.\n",
        "</br></br>\n",
        "\n",
        "gram-schmidt applied to $\\{r,Ar,...,A^kr\\}$ results in $AQ_k = Q_{k+1}H_k$. ie,\n",
        "</br></br>\n"
      ],
      "metadata": {
        "id": "dhiSF3LRthBI"
      }
    },
    {
      "cell_type": "markdown",
      "source": [
        "![ss_nmi_sauer_44_01.png](data:image/png;base64,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)"
      ],
      "metadata": {
        "id": "WnCBkIaGtaBw"
      }
    },
    {
      "cell_type": "markdown",
      "source": [
        "$A$ is $n$ x $n$, $Q_k$ is $n$ x $k$ and $H_k$ is $(k+1)$ x $k$. usually $k \\ll n$.\n",
        "</br></br>\n",
        "\n",
        "$Q_k$, which spans the $k$-dimensional krylov space, is what is searched for the increment $x_{add}$ to $x_0$. ie, minimize the residual\n",
        "</br></br>\n",
        "\n",
        "$b - A(x_0 + x_{add}) = r - Ax_{add}$\n",
        "</br></br>\n",
        "\n",
        "by finding $c$ that minimizes\n",
        "</br></br>\n",
        "\n",
        "$||Ax_{add} - r||_2 = ||AQ_kc - r||_2 = ||Q_{k+1}H_kc - r||_2 = ||H_kc - Q^T_{k+1}r||_2$, giving the least squares problem below.\n",
        "</br></br>\n"
      ],
      "metadata": {
        "id": "RwlKUvYJzAaV"
      }
    },
    {
      "cell_type": "markdown",
      "source": [
        "![ss_nmi_sauer_44_02.png](data:image/png;base64,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)"
      ],
      "metadata": {
        "id": "aene2hkjtgKl"
      }
    },
    {
      "cell_type": "markdown",
      "source": [
        "#### cost, usw"
      ],
      "metadata": {
        "id": "YxKyEAVj_s-y"
      }
    },
    {
      "cell_type": "markdown",
      "source": [
        "computationally, least squares is what costs the most but usually $k \\ll n$, so usually its beneficial. when $h_{k+1,k} = 0$, the problem is zero and the solution $x_k$ exact.\n",
        "</br></br>\n",
        "\n",
        "also, bc of least squares, error $||b-Ax_k||_2$ decreases monotonically with $k$.\n",
        "</br></br>\n",
        "\n",
        "also, you can do the least squares part once in a while or only at the end if you only need an approximate solution. thats not very math-like but sometimes the real world gets impatient.\n",
        "</br></br>\n",
        "\n",
        "also, if a large $n$ runs too long, stop it and restart with $x_0 = x_{stopped}$.\n",
        "</br></br>\n"
      ],
      "metadata": {
        "id": "xPhRJxmsy_z8"
      }
    },
    {
      "cell_type": "markdown",
      "source": [
        "### 4.4.2 preconditioned GMRES"
      ],
      "metadata": {
        "id": "yfG1frNC78Yh"
      }
    },
    {
      "cell_type": "markdown",
      "source": [
        "for nonsymmetric $Ax = b$, solve $M^{-1}Ax = M^{-1}b$. ie, residual $r = M^{-1}(b-Ax_0)$ with krylov space iteration $w = M^{-1}Aq_k$."
      ],
      "metadata": {
        "id": "9XjOGdTu9Kgh"
      }
    },
    {
      "cell_type": "markdown",
      "source": [
        "#### algorithm"
      ],
      "metadata": {
        "id": "_7r0B4Ka94Rp"
      }
    },
    {
      "cell_type": "markdown",
      "source": [
        "\n",
        "```\n",
        "x[0] = initial guess\n",
        "r = inverse(M)*(b − A*x[0])\n",
        "q[1] = r/||r|| # L2 norm\n",
        "for k in range(m) # [0,m)\n",
        "  w = inverse(M)*A*q[k]\n",
        "  for j in range(k) # [0,k)\n",
        "    h[j,k] = transpose(w)•q[j]\n",
        "    w = w − h[j,k]*q[j]\n",
        "\n",
        "  h[k+1,k] = ||w||\n",
        "  q[k+1] = w/h[k+1,k]\n",
        "\n",
        "  # lsq: H[k+1 eqns,k unknowns]\n",
        "  min(||H*c[k] − transpose([||r|| 0 ... 0])||)\n",
        "\n",
        "  # next x\n",
        "  x[k] = Q[k]*c[k] + x[0]\n",
        "```\n",
        "\n"
      ],
      "metadata": {
        "id": "MrT1g3nF99pB"
      }
    },
    {
      "cell_type": "markdown",
      "source": [
        "### miscellaney\n"
      ],
      "metadata": {
        "id": "6w3wSSbdG3oy"
      }
    },
    {
      "cell_type": "markdown",
      "source": [
        "<b>krylov subspaces</b>\n",
        "</br>\n",
        "\n",
        "* excellent summary! [@aerodynamic cfd](https://www.youtube.com/watch?v=B_eSPrYuIuU) (4m)\n",
        "* rationale, proofs [@daniel an](https://www.youtube.com/watch?v=UgyLaAXqlQ4) (12m)\n",
        "* textbook-like [@ocw.mit](https://ocw.mit.edu/courses/18-086-mathematical-methods-for-engineers-ii-spring-2006/41750e11021842bc972670e46cc949cc_am64.pdf) (homely but obviously diligent)\n",
        "* math for the people [@etchzurich](https://people.math.ethz.ch/~mhg/pub/biksm.pdf) (not as homely)\n",
        "* nerdy reading [@arxiv](https://arxiv.org/abs/1811.09025)\n",
        "</br>\n",
        "\n",
        "<b>GMRES</b>\n",
        "</br>\n",
        "* krylov for GMRES [@daniel an]()\n",
        "* GMRES [@scipy](https://docs.scipy.org/doc/scipy/reference/generated/scipy.sparse.linalg.gmres.html)\n",
        "</br>"
      ],
      "metadata": {
        "id": "8HpHoUG-t7v2"
      }
    }
  ]
}