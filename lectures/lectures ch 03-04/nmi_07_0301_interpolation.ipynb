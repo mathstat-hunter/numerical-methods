{
  "nbformat": 4,
  "nbformat_minor": 0,
  "metadata": {
    "colab": {
      "provenance": [],
      "collapsed_sections": [
        "74A6z0U7H72-",
        "xkwogPquIBju",
        "rwmY3P11Nf6c",
        "MAAbzS0WIJHD",
        "Pmkwj_vuD1hS",
        "OeRF2AKTYu54",
        "r7BXMf-SIRT-"
      ]
    },
    "kernelspec": {
      "name": "python3",
      "display_name": "Python 3"
    },
    "language_info": {
      "name": "python"
    }
  },
  "cells": [
    {
      "cell_type": "markdown",
      "source": [
        "# nmi | 2024 spring\n",
        "## lecture 07 : interpolation\n"
      ],
      "metadata": {
        "id": "IgURT4MC1E1V"
      }
    },
    {
      "cell_type": "markdown",
      "source": [
        "efficient ways of representing data are fundamental to science and engineering wrt understanding and application. at its most fundamental, approximating data with a polynomial is an act of compression - ie, function $\\hat{y}(x)$ takes the place of experimental measurements $\\{x_i,y_i\\}$ sufficiently to facilitate design.\n",
        "</br>\n"
      ],
      "metadata": {
        "id": "F2EffAtOYit-"
      }
    },
    {
      "cell_type": "markdown",
      "source": [
        "### 3.1 data and interpolating functions\n"
      ],
      "metadata": {
        "id": "sLwSIO5Duivy"
      }
    },
    {
      "cell_type": "markdown",
      "source": [
        "##### visual\n"
      ],
      "metadata": {
        "id": "74A6z0U7H72-"
      }
    },
    {
      "cell_type": "markdown",
      "source": [
        "###### code\n"
      ],
      "metadata": {
        "id": "xkwogPquIBju"
      }
    },
    {
      "cell_type": "code",
      "source": [
        "import matplotlib.pyplot as plt\n",
        "import numpy as np\n",
        "\n",
        "def lazy_spacer(xs,col=0,margin=1,h=0.1):\n",
        "  \"\"\"\n",
        "  xs     : array\n",
        "  col    : column to space\n",
        "  margin : how much to extend min,max of column interval\n",
        "  h      : stepsize per column unit\n",
        "\n",
        "  returns : 1d array containing evenly spaced points beyond, including column\n",
        "  \"\"\"\n",
        "  rc = None\n",
        "\n",
        "  try:\n",
        "    x_from = min(xs[:,col]) - margin\n",
        "    x_thru = max(xs[:,col]) + margin\n",
        "    x_many = int((x_thru - x_from)/h + 1)\n",
        "\n",
        "    rc = np.linspace(x_from,x_thru,x_many)\n",
        "  except:\n",
        "    print(\"misfortune cookie: make better choices in your life\")\n",
        "\n",
        "  return rc\n",
        "\n",
        "def main():\n",
        "  # known\n",
        "  input = np.array([[0,1],[2,2],[3,4]])\n",
        "  p = lambda x: pow(x,2)/2 - x/2 + 1\n",
        "\n",
        "  # calc\n",
        "  xs = lazy_spacer(input)\n",
        "  ps = p(xs)\n",
        "\n",
        "  # plot, data\n",
        "  plt.scatter(input[:,0],input[:,1],c=\"C0\",marker=\"o\",label=\"some data\")\n",
        "  plt.plot(xs,ps,c=\"C1\",linestyle=\":\",label=\"$P_2(x) = \\\\frac{x^2}{2} - \\\\frac{x}{2} + 1$\")\n",
        "\n",
        "  # plot, set style\n",
        "  plt.grid()\n",
        "  plt.title(\"parabolic fit to some data\\n\")\n",
        "  plt.legend(bbox_to_anchor=(1.02, 1), loc='upper left', borderaxespad=0)\n",
        "  plt.ylabel(\"why, i ask you\")\n",
        "  plt.xlabel(\"x\")\n",
        "\n",
        "  # plot, show\n",
        "  plt.show()\n",
        "\n",
        "if __name__ == \"__main__\":\n",
        "  main()\n"
      ],
      "metadata": {
        "colab": {
          "base_uri": "https://localhost:8080/",
          "height": 493
        },
        "id": "nfdgFZoFvKqN",
        "outputId": "2698b7c7-4d4b-45e3-cb19-94a9d72fc14a"
      },
      "execution_count": null,
      "outputs": [
        {
          "output_type": "display_data",
          "data": {
            "text/plain": [
              "<Figure size 640x480 with 1 Axes>"
            ],
            "image/png": "[encoded data removed]"
          },
          "metadata": {}
        }
      ]
    },
    {
      "cell_type": "markdown",
      "source": [
        "##### usw\n"
      ],
      "metadata": {
        "id": "uWHjdOycIDl1"
      }
    },
    {
      "cell_type": "markdown",
      "source": [
        "<b><font color=grey>definition 01</font></b> function $y=P(x)$ <b>interpolates</b> data points $(x_1,y_1),(x_2,y_2),\\dots,(x_n,y_n)$ if $p(x_i) = y_i$ for each $1\\le i\\le n$.\n",
        "</br>\n"
      ],
      "metadata": {
        "id": "OGl1aHKNujlD"
      }
    },
    {
      "cell_type": "markdown",
      "source": [
        "$P$ must be a function. ie, that each $x$ corresponds to one $y$. this restricts interpolation of set $\\{(x_i,y_i)\\}$ in that each $x_i$ must be distinct for a function to pass through them; there is no such restriction on $y_i$.\n",
        "</br></br>\n",
        "\n",
        "wrt interpolation methods, obviously (= first) consider polynomials. q: does a polynomial fit always exist? a: if $x_i$ are distinct then some polynomial $y = P(x)$ runs through them.\n",
        "</br></br>\n",
        "\n",
        "also, interpolation is the reverse of evaluation. ie, polynomial evaluation calculates $y_i$ given $x_i$; polynomial interpolation computes a polynomial from points $(x_i,y_i)$.\n",
        "</br>\n"
      ],
      "metadata": {
        "id": "kS-EdjrpDtCk"
      }
    },
    {
      "cell_type": "markdown",
      "source": [
        "#### 3.1.1 lagrange interpolation\n"
      ],
      "metadata": {
        "id": "7EAug6g3EIU1"
      }
    },
    {
      "cell_type": "markdown",
      "source": [
        "for an interpolating polynomial, given $n$ data points $(x_1,y_1),\\dots,(x_n,y_n)$, lagrange is a method of explicit formula of degree $d = n-1$. eg, for three points $(x_1,y_1),(x_2,y_2),(x_3,y_3)$,\n",
        "</br></br>\n",
        "\n",
        "$$P_2(x) = y_1\\frac{(x-x_2)(x-x_3)}{(x_1-x_2)(x_1-x_3)} + y_2\\frac{(x-x_1)(x-x_3)}{(x_2-x_1)(x_2-x_3)} + y_3\\frac{(x-x_1)(x-x_2)}{(x_3-x_1)(x_3-x_2)}.\\$$\n",
        "</br>\n",
        "\n",
        "is the <b>lagrange interpolating polynomial</b> for these points. note that\n",
        "</br></br>\n",
        "\n",
        "\\begin{align}\n",
        "  x_1 \\mapsto x : P_2(x_1) &= y_1 + 0 + 0 = y_1 \\\\\n",
        "  x_2 \\mapsto x : P_2(x_2) &= 0 + y_2 + 0 = y_2 \\\\\n",
        "  x_3 \\mapsto x : P_2(x_3) &= 0 + 0 + y_3 = y_3\n",
        "\\end{align}\n",
        "</br>\n"
      ],
      "metadata": {
        "id": "kpjD2ASCEOqI"
      }
    },
    {
      "cell_type": "markdown",
      "source": [
        "##### <b><font color=grey>example 01</font></b>\n"
      ],
      "metadata": {
        "id": "7QTGat2XIEUn"
      }
    },
    {
      "cell_type": "markdown",
      "source": [
        "find interpolating polynomial for data points $(0,1),(2,2),(3,4)$.\n",
        "</br>\n"
      ],
      "metadata": {
        "id": "aTnAWZr9IKfs"
      }
    },
    {
      "cell_type": "markdown",
      "source": [
        "\\begin{align}\n",
        "  P_2(x) &= 1\\cdot\\frac{(x-2)(x-3)}{(0-2)(0-3)} + 2\\cdot\\frac{(x-0)(x-3)}{(2-0)(0-3)} + 4\\cdot\\frac{(x-0)(x-2)}{(3-0)(3-2)} \\\\\n",
        "  &= \\frac{1}{6}(x^2-5x+6) + 2(-\\frac{1}{2})(x^2-3x) + 4(\\frac{1}{3})(x^2-2x) \\\\\n",
        "  &= \\frac{1}{2}x^2 - \\frac{1}{2}x + 1. \\\\ \\\\\n",
        "  &\\Rightarrow \\quad P_2(0)=1,P_2(2)=2,P_2(3)=4. \\quad\\checkmark\n",
        "\\end{align}\n",
        "</br>\n"
      ],
      "metadata": {
        "id": "-SuWqygMITzE"
      }
    },
    {
      "cell_type": "markdown",
      "source": [
        "##### usw\n"
      ],
      "metadata": {
        "id": "Dqygy69LKNY4"
      }
    },
    {
      "cell_type": "markdown",
      "source": [
        "for $n$ points $(x_1,y_1),\\dots,(x_n,y_n)$, for each $k$ between $1$ and $n$, define degree $d=n-1$ polynomial\n",
        "</br></br>\n",
        "\n",
        "$$L_k(x) = \\frac{(x-x_1)\\dots(x-x_{k-1})(x-x_{k+1})\\dots(x-x_n)}{(x_k-x_1)\\dots(x_k-x_{k-1})(x_k-x_{k+1})\\dots(x_k-x_n)}.$$\n",
        "</br>\n",
        "\n",
        "as seen for $n=3$, generally $L_k(x_k) = 1,L_k(x_{j\\ne k})=0$. then\n",
        "</br></br>\n",
        "\n",
        "$$P_{d=n-1}(x_k) = y_1L_1(x_k) + \\dots + y_nL_n(x_k) = 0 + \\dots + 0 + y_kL_k(x_k) + 0 + \\dots + 0 = y_k,$$\n",
        "</br></br>\n",
        "\n",
        "a polynomial of degree at most $n-1$ that passes through any set of $n$ points with distinct $x_i$s -- and it is the only one. she said, as if picking a fight.\n",
        "</br>\n"
      ],
      "metadata": {
        "id": "NJz2wQzQKPLo"
      }
    },
    {
      "cell_type": "markdown",
      "source": [
        "##### <b><font color=grey>theorem 02</font></b> <b>main theorem of polynomial interpolation</b>\n"
      ],
      "metadata": {
        "id": "-XXOYR_DM259"
      }
    },
    {
      "cell_type": "markdown",
      "source": [
        "let $(x_1,y_1),\\dots,(x_n,y_n)$ be $n$ points in the plane with distinct $x_i$. then there exists one and only one polynomial $P$ of degree $n-1$ or less that satisfies $P(x_i) = y_i, i = 1,\n",
        "\\dots,n$.\n",
        "</br>\n"
      ],
      "metadata": {
        "id": "NR7JuCaANB88"
      }
    },
    {
      "cell_type": "markdown",
      "source": [
        "###### <b><font color=grey>proof</font></b>\n",
        "\n"
      ],
      "metadata": {
        "id": "rwmY3P11Nf6c"
      }
    },
    {
      "cell_type": "markdown",
      "source": [
        "the existence is proved by the explicit formula for lagrange interpolation. to show there is only one, assume that there are two, $P(x)$ and $Q(x)$ that have degree at most $n-1$ and that both interpolate all $n$ points. ie, $P(x_1) = Q(x_1) = y_1, P(x_2) = Q(x_2) = y_2,..., P(x_n) = Q(x_n) = y_n$. define polynomial $H(x) = P(x) - Q(x)$. $H$ is also of degree of at most $n - 1$ and note that $0 = H(x_1) = H(x_2) = ... = H(x_n)$. ie, $H$ has $n$ distinct zeros. the fundamental theorem of algebra states a degree $d$ polynomial can have at most $d$ zeros unless it is the identically zero polynomial. therefore, $H$ is the identically zero polynomial and $P(x) ≡ Q(x)$. therefore there is a unique $P(x)$ of degree $d\\le n-1$ interpolating the $n$ points $(x_i,y_i)$. $\\blacksquare$\n",
        "</br>\n"
      ],
      "metadata": {
        "id": "8RZrLqDsNl4M"
      }
    },
    {
      "cell_type": "markdown",
      "source": [
        "##### <b><font color=grey>example 02</font></b>\n"
      ],
      "metadata": {
        "id": "1J2Oe5gVQDqV"
      }
    },
    {
      "cell_type": "markdown",
      "source": [
        "find polynomial of degree three or less that interpolates $(0,2),(1,1),(2,0),(3,-1)$.\n",
        "</br>\n"
      ],
      "metadata": {
        "id": "xQjJQnXHQJDe"
      }
    },
    {
      "cell_type": "markdown",
      "source": [
        "lagrange:\n",
        "</br></br>\n",
        "\n",
        "\\begin{align}\n",
        "  P(x) &= 2\\frac{(x-1)(x-2)(x-3)}{(0-1)(0-2)(0-3)} + 1\\frac{(x-0)(x-2)(x-3)}{(1-0)(1-2)(1-3)} \\\\\n",
        "  &\\quad + 0\\frac{(x-0)(x-1)(x-3)}{(2-0)(2-1)(2-3)} -1\\frac{(x-0)(x-1)(x-2)}{(3-0)(3-1)(3-2)} \\\\ \\\\\n",
        "  &= -\\frac{1}{3}(x^3-6x^2+11x-6) + \\frac{1}{2}(x^3-5x^2+6x) - \\frac{1}{6}(x^3-3x^2+2x) \\\\ \\\\\n",
        "  &= -x + 2.\n",
        "\\end{align}\n",
        "</br>\n"
      ],
      "metadata": {
        "id": "vLTOlnDoSJIJ"
      }
    },
    {
      "cell_type": "markdown",
      "source": [
        "###### code\n"
      ],
      "metadata": {
        "id": "MAAbzS0WIJHD"
      }
    },
    {
      "cell_type": "code",
      "source": [
        "import matplotlib.pyplot as plt\n",
        "import numpy as np\n",
        "from numpy.polynomial.polynomial import Polynomial\n",
        "import scipy as sp\n",
        "\n",
        "#https://docs.scipy.org/doc/scipy/reference/generated/scipy.interpolate.lagrange.html\n",
        "\n",
        "def main():\n",
        "  # known\n",
        "  input = np.array([[0,2],[1,1],[2,0],[3,-1]])\n",
        "  p = lambda x: -x + 2\n",
        "\n",
        "  # calc\n",
        "  xs = input[:,0]\n",
        "  ps = p(xs)\n",
        "\n",
        "  # library life\n",
        "  polysci = sp.interpolate.lagrange(input[:,0],input[:,1])\n",
        "  print(f\"\\nas object:\\n{polysci}\")\n",
        "  print(f\"\\nas array of coeffs:\\n{Polynomial(polysci.coef[::-1]).coef}\\n\")\n",
        "\n",
        "  # plot, data\n",
        "  plt.scatter(input[:,0],input[:,1],c=\"C0\",marker=\"o\",label=\"some data\")\n",
        "  plt.plot(xs,ps,c=\"C1\",linestyle=\":\",label=\"$P_1(x) = 2 - x$\")\n",
        "  plt.plot(xs,Polynomial(polysci.coef[::-1])(xs),c=\"C2\",linestyle=\":\",label='poly, sci')\n",
        "\n",
        "  # plot, set style\n",
        "  plt.grid()\n",
        "  plt.title(\"lagrange munges some data\\n\")\n",
        "  plt.legend(bbox_to_anchor=(1.02, 1), loc='upper left', borderaxespad=0)\n",
        "  plt.ylabel(\"wait, was i trolled?\")\n",
        "  plt.xlabel(\"x\")\n",
        "\n",
        "  # plot, show\n",
        "  plt.show()\n",
        "\n",
        "if __name__ == \"__main__\":\n",
        "  main()\n"
      ],
      "metadata": {
        "colab": {
          "base_uri": "https://localhost:8080/",
          "height": 632
        },
        "outputId": "506961db-9867-44e4-ce85-e83db94f2905",
        "id": "F0x0eGZRVbC2"
      },
      "execution_count": null,
      "outputs": [
        {
          "output_type": "stream",
          "name": "stdout",
          "text": [
            "\n",
            "as object:\n",
            "           3\n",
            "2.776e-17 x - 1 x + 2\n",
            "\n",
            "as array of coeffs:\n",
            "[ 2.00000000e+00 -1.00000000e+00  0.00000000e+00  2.77555756e-17]\n",
            "\n"
          ]
        },
        {
          "output_type": "display_data",
          "data": {
            "text/plain": [
              "<Figure size 640x480 with 1 Axes>"
            ],
            "image/png": "[encoded data removed]"
          },
          "metadata": {}
        }
      ]
    },
    {
      "cell_type": "markdown",
      "source": [
        "#### 3.1.2 newtons divided difference\n"
      ],
      "metadata": {
        "id": "t7uZY4ZgVWF-"
      }
    },
    {
      "cell_type": "markdown",
      "source": [
        "newtons divided difference gives a simple way to achieve the interpolating polynomial. given $n$ data points, its result will be a polynomial of degree $d=n-1$. bc of theorem 02, it is the same polynomial achieved by lagrange.\n",
        "</br>\n"
      ],
      "metadata": {
        "id": "EDejOn84Z5ZC"
      }
    },
    {
      "cell_type": "markdown",
      "source": [
        "<b><font color=grey>definition 03</font></b>\n",
        "</br></br>\n",
        "\n",
        "denote by $f[x_1 \\dots x_n]$ the coefficient of the $x^{n-1}$ term in the unique polynomial that interpolates $(x_1,(f(x_1)),\\dots,(x_n,f(x_n))$.\n",
        "</br>\n"
      ],
      "metadata": {
        "id": "OlzjP8tTjA1L"
      }
    },
    {
      "cell_type": "markdown",
      "source": [
        "continuing example 01,\n",
        "</br></br>\n",
        "\n",
        "\\begin{align}\n",
        "  \\begin{array}{l}\n",
        "    f(0) = 1 \\\\\n",
        "    f(2) = 2 \\\\\n",
        "    f(3) = 4\n",
        "  \\end{array}\n",
        "  \\quad\\xrightarrow{\\text{by uniqueness}}\\quad\n",
        "  \\frac{1}{2} = f[0\\text{ }3\\text{ }2] = f[3\\text{ }0\\text{ }2] = \\dots \\quad\\text{usw}\n",
        "\\end{align}\n",
        "</br>\n"
      ],
      "metadata": {
        "id": "cSn6092LjDU0"
      }
    },
    {
      "cell_type": "markdown",
      "source": [
        "<b>newtons divided difference formula</b>\n",
        "</br></br>\n",
        "\n",
        "$$\n",
        "\\left.\n",
        "  \\begin{align}\n",
        "  y = P(x) = N(x) &= f[x_1] \\\\\n",
        "  &\\quad + f[x_1\\textrm{ } x_2]\\cdot(x-x_1) \\\\\n",
        "  &\\quad + f[x_1\\textrm{ } x_2\\textrm{ } x_3]\\cdot(x-x_1)(x-x_2) \\\\\n",
        "  &\\quad + f[x_1\\textrm{ } x_2\\textrm{ } x_3\\textrm{ } x_4]\\cdot(x-x_1)(x-x_2)(x-x_3) \\\\\n",
        "  &\\quad + \\cdots \\\\\n",
        "  &\\quad + f[x_1\\textrm{ } \\dots\\textrm{ } x_n]\\cdot(x-x_1)\\textrm{ }\\cdots\\textrm{ }(x-x_{n-1})\n",
        "  \\end{align} \\quad\n",
        "\\right\\}\\quad\\text{unique interpolationg polynomial}\n",
        "$$\n",
        "</br>\n",
        "\n",
        "$$\n",
        "\\left.\n",
        "  \\begin{align}\n",
        "  f[x_k] &= f(x_k) = y_k \\\\\n",
        "  f[x_k\\textrm{ } x_{k+1}] &= \\frac{f[x_{k+1}] - f[x_k]}{x_{k+1}-x_k} \\\\\n",
        "  f[x_k\\textrm{ } x_{k+1}\\textrm{ } x_{k+2}] &= \\frac{f[x_{k+1}\\textrm{ } x_{k+2}] - f[x_k\\textrm{ } x_{k+1}]}{x_{k+2}-x_k} \\\\\n",
        "  f[x_k\\textrm{ } x_{k+1}\\textrm{ } x_{k+2}\\textrm{ } x_{k+3}] &= \\frac{f[x_{k+1}\\textrm{ } x_{k+2}\\textrm{ } x_{k+3}] - f[x_k\\textrm{ } x_{k+1}\\textrm{ } x_{k+2}]}{x_{k+3}-x_k} \\\\ \\\\\n",
        "  &\\cdots\n",
        "  \\end{align} \\quad\n",
        "\\right\\}\\quad\\text{its coefficients}\n",
        "$$\n",
        "</br>\n"
      ],
      "metadata": {
        "id": "ZXEdNNlVe7oX"
      }
    },
    {
      "cell_type": "markdown",
      "source": [
        "###### algorithm <b>newtons divided differences</b>\n"
      ],
      "metadata": {
        "id": "cnm9WDpUmggG"
      }
    },
    {
      "cell_type": "markdown",
      "source": [
        "given $x=[x_1,\\dots,x_n],y=[y_1,\\dots,y_n]$.\n",
        "</br></br>\n",
        "\n",
        "```\n",
        "for j = 1,...,n\n",
        "  f[x(j)] = y(j)\n",
        "end\n",
        "\n",
        "for i = 2,...,n\n",
        "  for j = 1,...,n+1-i\n",
        "    f[x(j),...,x(j+i-1)] = (f[x(j+1) ... x(j+i-1)] - f[x(j) ... x(j+i-2)])/(x(j+i-1)-x(j))\n",
        "  end\n",
        "end\n",
        "```\n",
        "</br>\n",
        "\n",
        "$$\n",
        "\\Rightarrow\n",
        "P(x) = \\sum_{i=1}^n f[x_1\\text{ }\\dots\\text{ }x_i](x-x_1)\\dots(x-x_{i-1})\n",
        "$$\n",
        "</br>\n",
        "\n",
        "\\begin{align}\n",
        "x_1 \\mapsto f[x_1] \\\\\n",
        "&& f[x_1\\text{ }x_2] \\\\\n",
        "x_2 \\mapsto f[x_2] &&&& f[x_1\\text{ }x_2\\text{ }x_3] \\\\\n",
        "&& f[x_2\\text{ }x_3] \\\\\n",
        "x_3 \\mapsto f[x_3] \\\\\n",
        "\\end{align}\n",
        "</br>\n",
        "\n",
        "where top edge terms of triangle are the coefficients, surprise.\n",
        "</br>\n"
      ],
      "metadata": {
        "id": "1Hn2lkZBmivv"
      }
    },
    {
      "cell_type": "markdown",
      "source": [
        "##### example 03\n"
      ],
      "metadata": {
        "id": "PWStFWqwsSDL"
      }
    },
    {
      "cell_type": "markdown",
      "source": [
        "continuing example 01,\n",
        "</br></br>\n",
        "\n",
        "\\begin{align}\n",
        "0 \\mapsto f(0) = f[x_1] = 1 \\\\\n",
        "&& f[x_1\\text{ }x_2] = \\frac{2-1}{2-0} = \\frac{1}{2} \\\\\n",
        "2 \\mapsto f(2) = f[x_2] = 2 &&&& f[x_1\\text{ }x_2\\text{ }x_3] = \\frac{2-\\frac{1}{2}}{3-0} = \\frac{1}{2}. \\\\\n",
        "&& f[x_2\\text{ }x_3] = \\frac{4-2}{3-2} = 2 \\\\\n",
        "3 \\mapsto f(3) =  f[x_3] = 4 \\\\\n",
        "\\end{align}\n",
        "</br>\n",
        "\n",
        "$P(x) = 1 + \\frac{1}{2}\\cdot(x-0) + \\frac{1}{2}\\cdot(x-0)(x-2) = \\frac{1}{2}x^2 - \\frac{1}{2}x + 1. \\quad\\checkmark$\n",
        "</br>\n"
      ],
      "metadata": {
        "id": "64akTfYIldb0"
      }
    },
    {
      "cell_type": "markdown",
      "source": [
        "##### example 04\n"
      ],
      "metadata": {
        "id": "dvsmpduGxEyl"
      }
    },
    {
      "cell_type": "markdown",
      "source": [
        "add fourth data point $(1,0)$ to previous example.\n",
        "</br>\n"
      ],
      "metadata": {
        "id": "zZRi02UFxHQg"
      }
    },
    {
      "cell_type": "markdown",
      "source": [
        "\\begin{align}\n",
        "0 \\mapsto 1 \\\\\n",
        "&& \\frac{2-1}{2-0} = \\frac{1}{2} \\\\\n",
        "2 \\mapsto 2 &&&& \\frac{2-\\frac{1}{2}}{3-0} = \\frac{1}{2} \\\\\n",
        "&& \\frac{4-2}{3-2} = 2 &&&& \\frac{0-\\frac{1}{2}}{1-0} = -\\frac{1}{2} \\\\\n",
        "3 \\mapsto 4 &&&& \\frac{2-2}{1-2} = 0 \\\\\n",
        "&& \\frac{0-4}{1-3} = 2 \\\\\n",
        "1 \\mapsto 0 \\\\\n",
        "\\end{align}\n",
        "</br></br>\n",
        "\n",
        "\\begin{align}\n",
        "P_3(x) &= 1 + \\frac{1}{2}\\cdot(x-0) + \\frac{1}{2}\\cdot(x-0)(x-2) - \\frac{1}{2}\\cdot(x-0)(x-2)(x-3) \\\\\n",
        "&= P_2(x) - \\frac{1}{2}\\cdot(x-0)(x-2)(x-3).\n",
        "\\end{align}\n",
        "</br>\n"
      ],
      "metadata": {
        "id": "EbuE-P7AxRd6"
      }
    },
    {
      "cell_type": "markdown",
      "source": [
        "###### code\n"
      ],
      "metadata": {
        "id": "Pmkwj_vuD1hS"
      }
    },
    {
      "cell_type": "code",
      "source": [
        "import matplotlib.pyplot as plt\n",
        "import numpy as np\n",
        "\n",
        "#https://pythonnumericalmethods.berkeley.edu/notebooks/chapter17.05-Newtons-Polynomial-Interpolation.html\n",
        "\n",
        "def divided_diff(x, y):\n",
        "  '''\n",
        "  function to calculate the divided\n",
        "  differences table\n",
        "  '''\n",
        "  n = len(y)\n",
        "  coef = np.zeros([n, n])\n",
        "  # the first column is y\n",
        "  coef[:,0] = y\n",
        "\n",
        "  for j in range(1,n):\n",
        "    for i in range(n-j):\n",
        "      coef[i][j] = (coef[i+1][j-1] - coef[i][j-1]) / (x[i+j]-x[i])\n",
        "\n",
        "  return coef\n",
        "\n",
        "def newton_poly(coef, x_data, x):\n",
        "  '''\n",
        "  evaluate the newton polynomial\n",
        "  at x\n",
        "  '''\n",
        "  n = len(x_data) - 1\n",
        "  p = coef[n]\n",
        "  for k in range(1,n+1):\n",
        "    p = coef[n-k] + (x -x_data[n-k])*p\n",
        "  return p\n",
        "\n",
        "def main():\n",
        "  xs = np.array([0,2,3,1])\n",
        "  ys = np.array([1,2,4,0])\n",
        "  # get the divided difference coef\n",
        "  as_tres = divided_diff(xs[0:3],ys[0:3])[0,:]\n",
        "  as_four = divided_diff(xs,ys)[0,:]\n",
        "\n",
        "  # evaluate on new data points\n",
        "  xs_moar = np.arange(-1,4,.1)\n",
        "  ys_tres = newton_poly(as_tres,xs[0:3],xs_moar)\n",
        "  ys_four = newton_poly(as_four,xs,xs_moar)\n",
        "\n",
        "  # plot, show\n",
        "  plt.plot(xs[0:3],ys[0:3],'bo')\n",
        "  plt.plot(xs_moar,ys_tres,color=\"blue\",label=\"n=3\")\n",
        "  plt.plot(xs[3],ys[3],'ro')\n",
        "  plt.plot(xs_moar,ys_four,color=\"red\",label=\"n=4\")\n",
        "  plt.title(f\"P(x) = N(x)\\n\")\n",
        "  plt.show()\n",
        "\n",
        "if __name__ == \"__main__\":\n",
        "  main()\n"
      ],
      "metadata": {
        "colab": {
          "base_uri": "https://localhost:8080/",
          "height": 473
        },
        "id": "lKSCRUEr-AbB",
        "outputId": "ac6283f7-ad4d-489c-8861-29d8fa013a32"
      },
      "execution_count": null,
      "outputs": [
        {
          "output_type": "display_data",
          "data": {
            "text/plain": [
              "<Figure size 640x480 with 1 Axes>"
            ],
            "image/png": "[encoded data removed]"
          },
          "metadata": {}
        }
      ]
    },
    {
      "cell_type": "markdown",
      "source": [
        "##### example 05\n"
      ],
      "metadata": {
        "id": "GZnvZ898zvds"
      }
    },
    {
      "cell_type": "markdown",
      "source": [
        "apply newtons divided difference to example 02.\n",
        "</br>\n"
      ],
      "metadata": {
        "id": "yXqMclgQzxlk"
      }
    },
    {
      "cell_type": "markdown",
      "source": [
        "$(0,2),(1,1),(2,0),(3,-1)$\n",
        "</br></br>\n",
        "\n",
        "\\begin{align}\n",
        "  0 &\\mapsto \\quad 2 \\\\\n",
        "  &&& -1 \\\\\n",
        "  1 &\\mapsto \\quad 1 &&&& 0 \\\\\n",
        "  &&& -1 &&&& 0 \\\\\n",
        "  2 &\\mapsto \\quad 0 &&&& 0 \\\\\n",
        "  &&& -1 \\\\\n",
        "  3 &\\mapsto -1 \\\\\n",
        "\\end{align}\n",
        "</br>\n",
        "\n",
        "$\\Rightarrow P(x) = 2 + (-1)(x-0) = 2-x. \\quad\\checkmark$\n",
        "</br>\n"
      ],
      "metadata": {
        "id": "J2_TPJluz4S8"
      }
    },
    {
      "cell_type": "markdown",
      "source": [
        "###### code\n"
      ],
      "metadata": {
        "id": "OeRF2AKTYu54"
      }
    },
    {
      "cell_type": "code",
      "source": [
        "import matplotlib.pyplot as plt\n",
        "import numpy as np\n",
        "\n",
        "def main():\n",
        "  xs = np.array([0,1,2,3])\n",
        "  ys = np.array([2,1,0,-1])\n",
        "  # get the divided difference coef\n",
        "  as_four = divided_diff(xs,ys)[0,:]\n",
        "\n",
        "  # evaluate on new data points\n",
        "  xs_moar = np.arange(-1,4,.1)\n",
        "  ys_four = newton_poly(as_four,xs,xs_moar)\n",
        "\n",
        "  # plot, show\n",
        "  plt.plot(xs,ys,marker=\"o\")\n",
        "  plt.plot(xs_moar,ys_four,label=\"NDD\")\n",
        "  plt.title(f\"P(x) = N(x)\\n\")\n",
        "  plt.show()\n",
        "\n",
        "if __name__ == \"__main__\":\n",
        "  main()\n"
      ],
      "metadata": {
        "colab": {
          "base_uri": "https://localhost:8080/",
          "height": 473
        },
        "outputId": "592c4f3b-71c9-48c5-dd19-4a82c6650fb0",
        "id": "CGN8mhxPYw8a"
      },
      "execution_count": null,
      "outputs": [
        {
          "output_type": "display_data",
          "data": {
            "text/plain": [
              "<Figure size 640x480 with 1 Axes>"
            ],
            "image/png": "[encoded data removed]"
          },
          "metadata": {}
        }
      ]
    },
    {
      "cell_type": "markdown",
      "source": [
        "#### 3.1.3 how many degree $d$ polynomials pass through $n$ points?\n"
      ],
      "metadata": {
        "id": "VG5E6l0G1bF-"
      }
    },
    {
      "cell_type": "markdown",
      "source": [
        "theorem 02 states can be only one polynomial of degree $d\\le n-1$ that passes through $n$ points. how many of degree $n$?\n",
        "</br></br>\n",
        "\n",
        "adding another points adds another degree but thats cheating? the new polynomial still interpolates the original $n$ points and now it has degree of at least $n$. however, that extra point can be added in as many ways as there are numbers to add.\n",
        "</br></br>\n",
        "\n",
        "$$P_n(x) = P_{n-1}(x) + cx(x-x_1)(x-x_2)...(x-x_n), \\quad c\\ne 0.$$\n",
        "</br>\n",
        "\n",
        "so how many polynomials of degree $n$ can interpolate $n$ data points? :D\n",
        "</br></br>\n"
      ],
      "metadata": {
        "id": "en7FmRbD2V9b"
      }
    },
    {
      "cell_type": "markdown",
      "source": [
        "##### example 06\n"
      ],
      "metadata": {
        "id": "B2K9x1Mw5d9C"
      }
    },
    {
      "cell_type": "markdown",
      "source": [
        "how many polynomials of each degree $0\\le d\\le 5$ pass through points $(-1,-5),(0,-1),(2-1),(3,11)$?\n",
        "</br>\n"
      ],
      "metadata": {
        "id": "OeMgUAeD5fzC"
      }
    },
    {
      "cell_type": "markdown",
      "source": [
        "\\begin{align}\n",
        "  -1 \\mapsto -5 \\\\\n",
        "  && 4 \\\\\n",
        "  0 \\mapsto -1 &&&& -1 \\\\\n",
        "  && 1 &&&& 1 \\\\\n",
        "  2 \\mapsto \\quad 1 &&&& 3 \\\\\n",
        "  && 10 \\\\\n",
        "  3 \\mapsto \\text{ }11 \\\\ \\\\\n",
        "  \\Downarrow\\quad &\n",
        "\\end{align}\n",
        "</br>\n",
        "\n",
        "\\begin{align}\n",
        "  P_3(x) &= -5 + 4(x+1) - 1(x+1)(x-0) + 1(x+1)(x-0)(x-2) \\\\\n",
        "  &= x^3 - 2x^2 + x - 1 \\sim \\text{only polynomial of degree } d\\le n-1 = 4-1 = 3. \\\\ \\\\\n",
        "  P_4(x) &= P_3(x) + c_1x(x+1)(x-0)(x-2)(x-3), \\quad c_1\\ne0 \\sim \\infty\\text{-ly many}. \\\\ \\\\\n",
        "  P_5(x) &= P_3(x) + c_2x^2(x+1)(x-0)(x-2)(x-3), \\quad c_2\\ne0 \\sim \\infty\\text{-ly many}. \\\\\n",
        "\\end{align}\n",
        "</br>\n"
      ],
      "metadata": {
        "id": "eXR7ZiCr5vaz"
      }
    },
    {
      "cell_type": "markdown",
      "source": [
        "#### 3.1.4 compression\n"
      ],
      "metadata": {
        "id": "I6rUylv88p0a"
      }
    },
    {
      "cell_type": "markdown",
      "source": [
        "what does interpolation compress? the degree $n-1$ polynomial characterized by $n$ coefficients is a \"compressed\" version of $f(x)$. eg, \"$sin\\text{ }x$\" is stored computationally as coefficients and its calculation relies on interpolation. this type of compression is \"lossy compression\" bc error will occur as sine is not a polynomial.\n",
        "</br>\n"
      ],
      "metadata": {
        "id": "wX5WJ8GUBqcs"
      }
    },
    {
      "cell_type": "markdown",
      "source": [
        "#### 3.1.5 representing functions by approximating polynomials\n"
      ],
      "metadata": {
        "id": "dJlMcEetDIjx"
      }
    },
    {
      "cell_type": "markdown",
      "source": [
        "a major use of polynomial interpolation  is to replace evaluation of a complicated function by evaluation of a polynomial - which involves only elementary operations. consider this simplification as a form of compression.\n",
        "</br>\n"
      ],
      "metadata": {
        "id": "MX4UYcweDNoH"
      }
    },
    {
      "cell_type": "markdown",
      "source": [
        "##### example 07\n"
      ],
      "metadata": {
        "id": "zU0_sz0b9-L_"
      }
    },
    {
      "cell_type": "markdown",
      "source": [
        "interpolate $f(x) = sin\\text{ }x$ at four equally spaced points on $[0,\\frac{\\pi}{2}]$.\n",
        "</br>\n"
      ],
      "metadata": {
        "id": "rZvyYWKKEDbX"
      }
    },
    {
      "cell_type": "markdown",
      "source": [
        "\\begin{align}\n",
        "  0 \\mapsto 0.0000 \\\\\n",
        "  && 0.9549 \\\\\n",
        "  \\frac{\\pi}{6} \\mapsto 0.5000 &&&& -0.2443 \\\\\n",
        "  && 0.6990 &&&& -0.1139\\\\\n",
        "  \\frac{\\pi}{3} \\mapsto 0.8660 &&&& -0.4232 \\\\\n",
        "  && 0.2559 \\\\\n",
        "  \\frac{\\pi}{2} \\mapsto 1.0000 \\\\\n",
        "\\end{align}\n",
        "</br>\n",
        "\n",
        "\\begin{align}\n",
        "  \\Rightarrow P_3(x) &= 0 + 0.9549x - 0.2443x(x-\\frac{\\pi}{6}) - 0.1139x(x-\\frac{\\pi}{6})(x-\\frac{\\pi}{3}) \\\\\n",
        "  &= 0 + x(0.9549 + (x-\\frac{\\pi}{6})(-0.2443 + (x-\\frac{\\pi}{3})(-0.1139))).\n",
        "\\end{align}\n",
        "</br>\n"
      ],
      "metadata": {
        "id": "iuTFTsvgK6an"
      }
    },
    {
      "cell_type": "markdown",
      "source": [
        "###### code\n"
      ],
      "metadata": {
        "id": "r7BXMf-SIRT-"
      }
    },
    {
      "cell_type": "code",
      "source": [
        "import matplotlib.pyplot as plt\n",
        "import numpy as np\n",
        "\n",
        "p = lambda x: x*(0.9549 + (x - np.pi/6)*(-0.2443 + (x - np.pi/3)*(-0.1139)))\n",
        "\n",
        "def main():\n",
        "  # known\n",
        "  xs = np.linspace(0,np.pi/2,3+1)\n",
        "\n",
        "  # calc\n",
        "  ps = p(xs)\n",
        "  xs_more = np.linspace(-np.pi*3/4,np.pi*3/4,1000) # 3*8+1)\n",
        "  ps_more = p(xs_more)\n",
        "  ys_more = np.sin(xs_more)\n",
        "\n",
        "  # plot, data\n",
        "  plt.scatter(xs,ps,c=\"C0\",marker=\"o\",label=\"some data\")\n",
        "  plt.plot(xs_more,ys_more,c=\"C1\",linestyle=\":\",label=\"np.sin()\")\n",
        "  plt.plot(xs_more,ps_more,c=\"C2\",linestyle=\":\",label=\"$P_3(x) = N_3(x)$\")\n",
        "\n",
        "  # plot, set style\n",
        "  plt.grid()\n",
        "  plt.title(\"approximating sine\\n\")\n",
        "  plt.legend(bbox_to_anchor=(1.02, 1), loc='upper left', borderaxespad=0)\n",
        "  plt.ylabel(\"y\")\n",
        "  plt.xlabel(\"x\")\n",
        "\n",
        "  # plot, show\n",
        "  plt.show()\n",
        "\n",
        "if __name__ == \"__main__\":\n",
        "  main()\n"
      ],
      "metadata": {
        "colab": {
          "base_uri": "https://localhost:8080/",
          "height": 493
        },
        "outputId": "8d7b534e-a2f0-436e-e82d-192825443ef9",
        "id": "85gOdJXyMhnS"
      },
      "execution_count": null,
      "outputs": [
        {
          "output_type": "display_data",
          "data": {
            "text/plain": [
              "<Figure size 640x480 with 1 Axes>"
            ],
            "image/png": "[encoded data removed]"
          },
          "metadata": {}
        }
      ]
    },
    {
      "cell_type": "code",
      "source": [
        "from tabulate import tabulate\n",
        "\n",
        "def main():\n",
        "  # error, sample\n",
        "  xs_sam = np.array([1.,2.,3.,4.,14.,1000.])\n",
        "  ys_sam = np.sin(xs_sam)\n",
        "\n",
        "  # error, scale input to area of niceness\n",
        "  xs_mod = xs_sam.copy()\n",
        "  ps_sam = np.zeros_like(ys_sam)\n",
        "  for i,x in enumerate(xs_mod):\n",
        "    s = 1.\n",
        "    x = x%(2*np.pi)\n",
        "    if x > np.pi:\n",
        "      x = 2*np.pi - x\n",
        "      s = -1.\n",
        "    if x > np.pi/2:\n",
        "      x = np.pi - x\n",
        "    xs_mod[i] = x\n",
        "    ps_sam[i] = s*p(x)\n",
        "\n",
        "  # error, display\n",
        "  data = []\n",
        "  for i,x in enumerate(xs_sam):\n",
        "    data.append([x,ys_sam[i],ps_sam[i],abs(ys_sam[i] - ps_sam[i])])\n",
        "\n",
        "  print() #spacer\n",
        "  print(tabulate(data,headers=[\"x (rad)\",\"np.sin()\",\"$N_3,mod$\",\"error\"],tablefmt=\"github\"),\"\\n\")\n",
        "\n",
        "if __name__ == \"__main__\":\n",
        "  main()\n"
      ],
      "metadata": {
        "colab": {
          "base_uri": "https://localhost:8080/"
        },
        "id": "BqtfB1FEf_QL",
        "outputId": "42fb5ea8-b970-4281-af15-42d91d237fa1"
      },
      "execution_count": null,
      "outputs": [
        {
          "output_type": "stream",
          "name": "stdout",
          "text": [
            "\n",
            "|   x (rad) |   np.sin() |   $N_3,mod$ |       error |\n",
            "|-----------|------------|-------------|-------------|\n",
            "|         1 |   0.841471 |    0.841076 | 0.000394766 |\n",
            "|         2 |   0.909297 |    0.910169 | 0.000871189 |\n",
            "|         3 |   0.14112  |    0.142842 | 0.0017216   |\n",
            "|         4 |  -0.756802 |   -0.755661 | 0.0011416   |\n",
            "|        14 |   0.990607 |    0.992824 | 0.00221669  |\n",
            "|      1000 |   0.82688  |    0.826294 | 0.000585579 | \n",
            "\n"
          ]
        }
      ]
    }
  ]
}