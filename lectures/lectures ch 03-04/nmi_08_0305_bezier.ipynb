{
  "nbformat": 4,
  "nbformat_minor": 0,
  "metadata": {
    "colab": {
      "provenance": []
    },
    "kernelspec": {
      "name": "python3",
      "display_name": "Python 3"
    },
    "language_info": {
      "name": "python"
    }
  },
  "cells": [
    {
      "cell_type": "markdown",
      "source": [
        "# nmi | 2024 spring\n",
        "## lecture 08 : bézier curves\n",
        "\n"
      ],
      "metadata": {
        "id": "IgURT4MC1E1V"
      }
    },
    {
      "cell_type": "markdown",
      "source": [
        "### 3.5 bézier curves\n"
      ],
      "metadata": {
        "id": "KqYQd0M4VrL3"
      }
    },
    {
      "cell_type": "markdown",
      "source": [
        "first, some links:\n",
        "</br></br>\n",
        "\n",
        "* [fast, historic](https://www.youtube.com/watch?v=BThr1pb77Fo);\n",
        "</br>\n",
        "* [more mathy](https://www.youtube.com/watch?v=pnYccz1Ha34).\n",
        "</br>\n"
      ],
      "metadata": {
        "id": "fD048vw18Qt3"
      }
    },
    {
      "cell_type": "markdown",
      "source": [
        "bézier curves are splines that allow the user to control the slopes at the knots. in return for the extra freedom, the smoothness of the ﬁrst and second derivatives across the knot, which are automatic features of the cubic splines of the previous section, are no longer guaranteed. bézier splines are appropriate for cases where corners (discontinuous first derivatives) and abrupt changes in curvature (discontinuous second derivatives) are occasionally needed.\n",
        "</br></br>\n",
        "\n",
        "pierre bézier developed the idea during his work for the renault automobile company. The same idea was discovered independently by paul de casteljau, working for citroen, a rival automobile company. it was top secret back in the day. however, bézier published first and got dibs on the naming. this is used all over design, manufacturing.\n",
        "</br></br>\n",
        "\n",
        "each segment of a planar bézier spline is determined by four points $(x_1,y_1), (x_2,y_2), (x_3,y_3), (x_4,y_4)$. the first and last are endpoints and the middle two are control points. the curve leaves $(x_1,y_1)$ along the tangent direction $(x_2-x_1,y_2-y_1)$ and ends at $(x_4,y_4)$ along the tangent direction $(x_4-x_3,y_4-y_3)$. the equations that accomplish this are expressed as a parametric curve $(x(t),y(t))$ for $0\\le t\\le 1$.\n",
        "</br>\n"
      ],
      "metadata": {
        "id": "Aqk6qAPJVs03"
      }
    },
    {
      "cell_type": "markdown",
      "source": [
        "###### algorithm <b>bézier curve</b>\n"
      ],
      "metadata": {
        "id": "njImnaRnHBUi"
      }
    },
    {
      "cell_type": "markdown",
      "source": [
        "given endponts $(x_1,y_1),(x_4,y_4)$ and control points $(x_2,y_2),(x_3,y_3)$ set\n",
        "</br></br>\n",
        "\n",
        "\\begin{align}\n",
        "  b_x &= 3(x_2 - x_1) \\\\\n",
        "  c_x &= 3(x_3 - x_2) - b_x \\\\\n",
        "  d_x &= x_4 - x_1 - b_x - c_x \\\\\n",
        "  b_y &= 3(y_2 - y_1) \\\\\n",
        "  c_y &= 3(y_3 - y_2) - b_y \\\\\n",
        "  d_y &= y_4 - y_1 - b_y - c_y.\n",
        "\\end{align}\n",
        "</br>\n",
        "\n",
        "the bézier curve is defined by $0\\le t\\le 1$ by\n",
        "</br></br>\n",
        "\n",
        "\\begin{align}\n",
        "  x(t) &= x_1 + b_xt + c_xt^2 + d_xt^3 \\\\\n",
        "  y(t) &= y_1 + b_yt + c_yt^2 + d_yt^3.\n",
        "\\end{align}\n",
        "</br>\n"
      ],
      "metadata": {
        "id": "FnxMfCaNYMd4"
      }
    },
    {
      "cell_type": "markdown",
      "source": [
        "continuing example 11,\n",
        "</br></br>\n",
        "\n",
        "\\begin{align}\n",
        "  x(0) &= x_1 \\\\\n",
        "  x'(0) &= 3(x_2 - x_1) \\\\\n",
        "  x(1) &= x_4 \\\\\n",
        "  x'(1) &= 3(x_4 - x_3) \\\\\n",
        "\\end{align}\n",
        "</br>\n",
        "\n",
        "and the analogous facts hold for $y(t)$.\n",
        "</br>\n"
      ],
      "metadata": {
        "id": "dj0l1fuYZuP6"
      }
    },
    {
      "cell_type": "markdown",
      "source": [
        "##### example 15\n"
      ],
      "metadata": {
        "id": "CU4cvaQCaOTx"
      }
    },
    {
      "cell_type": "markdown",
      "source": [
        "find bézier curve $(x(t),y(t))$ through points $(x,y)=(1,1),(2,2)$ with control points $(1,3),(3,3)$.\n",
        "</br>\n"
      ],
      "metadata": {
        "id": "JjbBkIgzaboz"
      }
    },
    {
      "cell_type": "markdown",
      "source": [
        "###### answer\n"
      ],
      "metadata": {
        "id": "sTrbgzHXctEO"
      }
    },
    {
      "cell_type": "markdown",
      "source": [
        "\\begin{align}\n",
        "  x(t) &= 1 + 6t^2 - 5t^3 \\\\\n",
        "  y(t) &= 1 + 6t - 6t^2 + t^3\n",
        "\\end{align}\n",
        "</br>\n"
      ],
      "metadata": {
        "id": "QTMb_6g0cu_V"
      }
    },
    {
      "cell_type": "markdown",
      "source": [
        "###### code\n"
      ],
      "metadata": {
        "id": "EtGQdOAbcyUM"
      }
    },
    {
      "cell_type": "code",
      "source": [
        "import matplotlib.pyplot as plt\n",
        "import numpy as np\n",
        "\n",
        "def main():\n",
        "  x = lambda t: 1 + 6*pow(t,2) - 5*pow(t,3)\n",
        "  y = lambda t: 1 + 6*t - 6*pow(t,2) + pow(t,3)\n",
        "\n",
        "  h = 0.01\n",
        "  imax = int(1/h)+1\n",
        "  data = np.zeros((imax,2))\n",
        "  for i in range(imax):\n",
        "    t = i*h\n",
        "    data[i,0] = x(t)\n",
        "    data[i,1] = y(t)\n",
        "\n",
        "  # plot, set data\n",
        "  plt.scatter(data[:,0],data[:,1],c=\"C0\",marker=\".\",label=\"bezier\")\n",
        "\n",
        "  # plot, set style\n",
        "  plt.grid()\n",
        "  plt.title(\"example 15\\n\")\n",
        "  plt.legend(bbox_to_anchor=(1.02, 1), loc='upper left', borderaxespad=0)\n",
        "  plt.ylabel(\"y\")\n",
        "  plt.xlabel(\"t\")\n",
        "  plt.xlim(0.5,3)\n",
        "  plt.ylim(0.5,3)\n",
        "\n",
        "  # plot, show\n",
        "  plt.show()\n",
        "\n",
        "if __name__ == \"__main__\":\n",
        "  main()\n"
      ],
      "metadata": {
        "id": "Qvkn022m3f0N",
        "outputId": "ecf9b959-479f-456f-a471-9d4ba8786541",
        "colab": {
          "base_uri": "https://localhost:8080/",
          "height": 493
        }
      },
      "execution_count": null,
      "outputs": [
        {
          "output_type": "display_data",
          "data": {
            "text/plain": [
              "<Figure size 640x480 with 1 Axes>"
            ],
            "image/png": "[encoded data removed]"
          },
          "metadata": {}
        }
      ]
    }
  ]
}