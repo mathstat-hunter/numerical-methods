{
  "nbformat": 4,
  "nbformat_minor": 0,
  "metadata": {
    "colab": {
      "provenance": [],
      "collapsed_sections": [
        "JykWBmFG1ACS",
        "-aqenyhjppcf",
        "HBZCjPx1psun",
        "9eEa-Pe2xumk",
        "8QpXdtLnz65U",
        "AuSvsPxi00l-",
        "aEfxn4jUC-18",
        "Jo6IvNVUDBUi",
        "VXoX5qrN37sh",
        "7WHQtpMHSDAv",
        "9M4Q0WT0SIMd"
      ]
    },
    "kernelspec": {
      "name": "python3",
      "display_name": "Python 3"
    },
    "language_info": {
      "name": "python"
    }
  },
  "cells": [
    {
      "cell_type": "markdown",
      "source": [
        "# nmi | spring 2024\n",
        "## demo 03 | homework 03 : gauss elimination, PA=LU factorization\n",
        "## your name here\n"
      ],
      "metadata": {
        "id": "5UzhS1MMRn0X"
      }
    },
    {
      "cell_type": "markdown",
      "source": [
        "### 00. python loops\n"
      ],
      "metadata": {
        "id": "JykWBmFG1ACS"
      }
    },
    {
      "cell_type": "markdown",
      "source": [
        "##### python, forward loops\n"
      ],
      "metadata": {
        "id": "-aqenyhjppcf"
      }
    },
    {
      "cell_type": "code",
      "source": [
        "# https://docs.python.org/3/library/functions.html#func-range\n",
        "\n",
        "# range(start with,stop before,step size)\n",
        "\n",
        "print(\"\\nin range(10) ~\")\n",
        "for i in range(10):\n",
        "  print(i)\n",
        "\n",
        "print(\"\\nin range(1,10) ~\")\n",
        "for i in range(1,10):\n",
        "  print(i)\n",
        "\n",
        "print(\"\\nin range(1,10,2) ~\")\n",
        "for i in range(1,10,2):\n",
        "  print(i)\n",
        "\n",
        "print(\"\\nin range(0,10,2) ~\")\n",
        "for i in range(0,10,2):\n",
        "  print(i)\n"
      ],
      "metadata": {
        "id": "2glT-xzbn2ks",
        "colab": {
          "base_uri": "https://localhost:8080/"
        },
        "outputId": "9ae9ba43-2ba2-4f9e-abba-23e8f3e59317"
      },
      "execution_count": null,
      "outputs": [
        {
          "output_type": "stream",
          "name": "stdout",
          "text": [
            "\n",
            "in range(10) ~\n",
            "0\n",
            "1\n",
            "2\n",
            "3\n",
            "4\n",
            "5\n",
            "6\n",
            "7\n",
            "8\n",
            "9\n",
            "\n",
            "in range(1,10) ~\n",
            "1\n",
            "2\n",
            "3\n",
            "4\n",
            "5\n",
            "6\n",
            "7\n",
            "8\n",
            "9\n",
            "\n",
            "in range(1,10,2) ~\n",
            "1\n",
            "3\n",
            "5\n",
            "7\n",
            "9\n",
            "\n",
            "in range(0,10,2) ~\n",
            "0\n",
            "2\n",
            "4\n",
            "6\n",
            "8\n"
          ]
        }
      ]
    },
    {
      "cell_type": "markdown",
      "source": [
        "##### python, backward loops"
      ],
      "metadata": {
        "id": "HBZCjPx1psun"
      }
    },
    {
      "cell_type": "code",
      "source": [
        "print(\"\\nin range(9,0,-1)) ~\")\n",
        "for i in range(9,0,-1):\n",
        "  print(i)\n",
        "\n",
        "print(\"\\nin range(9,0-1,-1)) ~\")\n",
        "for i in range(9,-1,-1):\n",
        "  print(i)\n",
        "\n",
        "#https://docs.python.org/3/library/functions.html#reversed\n",
        "\n",
        "print(\"\\nin reversed(range(10)) ~\")\n",
        "for i in reversed(range(10)):\n",
        "  print(i)\n",
        "\n",
        "print(\"\\nin reversed(range(1,10)) ~\")\n",
        "for i in reversed(range(1,10)):\n",
        "  print(i)\n",
        "\n",
        "print(\"\\nin reversed(range(1,10+1)) ~\")\n",
        "for i in reversed(range(1,11)):\n",
        "  print(i)\n"
      ],
      "metadata": {
        "id": "VzIkLWP4oHhU",
        "colab": {
          "base_uri": "https://localhost:8080/"
        },
        "outputId": "178a5142-5d98-410a-cebb-94a52e06978c"
      },
      "execution_count": null,
      "outputs": [
        {
          "output_type": "stream",
          "name": "stdout",
          "text": [
            "\n",
            "in range(9,0,-1)) ~\n",
            "9\n",
            "8\n",
            "7\n",
            "6\n",
            "5\n",
            "4\n",
            "3\n",
            "2\n",
            "1\n",
            "\n",
            "in range(9,0-1,-1)) ~\n",
            "9\n",
            "8\n",
            "7\n",
            "6\n",
            "5\n",
            "4\n",
            "3\n",
            "2\n",
            "1\n",
            "0\n",
            "\n",
            "in reversed(range(10)) ~\n",
            "9\n",
            "8\n",
            "7\n",
            "6\n",
            "5\n",
            "4\n",
            "3\n",
            "2\n",
            "1\n",
            "0\n",
            "\n",
            "in reversed(range(1,10)) ~\n",
            "9\n",
            "8\n",
            "7\n",
            "6\n",
            "5\n",
            "4\n",
            "3\n",
            "2\n",
            "1\n",
            "\n",
            "in reversed(range(1,10+1)) ~\n",
            "10\n",
            "9\n",
            "8\n",
            "7\n",
            "6\n",
            "5\n",
            "4\n",
            "3\n",
            "2\n",
            "1\n"
          ]
        }
      ]
    },
    {
      "cell_type": "markdown",
      "source": [
        "### q1. gauss elimination\n",
        "\n",
        "a) (15 pts) code gauss elimination algorithm as a callable function in python.\n",
        "</br></br>\n",
        "\n",
        "b) (5 pts) call your function to solve the following system of equations,\n",
        "</br></br>\n",
        "\n",
        "\\begin{align}\n",
        "  x + 2y - z &= 3 \\\\\n",
        "  2x + y - 2z &= 3\\\\\n",
        "  -3x + y + z &= -6.\n",
        "\\end{align}\n",
        "</br>\n",
        "\n",
        "c) <b><font color=blue>MATH 685 ONLY</font></b>. (5 pts) how many operations (addition, multiplication) did your function require for this system?\n",
        "</br>\n"
      ],
      "metadata": {
        "id": "9eEa-Pe2xumk"
      }
    },
    {
      "cell_type": "markdown",
      "source": [
        "#### algorithm\n"
      ],
      "metadata": {
        "id": "8QpXdtLnz65U"
      }
    },
    {
      "cell_type": "markdown",
      "source": [
        "\n",
        "```\n",
        "# forward elimination\n",
        "\n",
        "for j = 1 : n-1\n",
        "  # check for zero on diagonal\n",
        "  if abs(a(j,j))<eps; error(\"zero pivot encountered\"); end\n",
        "\n",
        "  # eliminate column j\n",
        "  for i = j+1 : n\n",
        "\n",
        "    # calc factor between rows\n",
        "    mult = a(i,j)/a(j,j);\n",
        "\n",
        "    # eliminate element i,j\n",
        "    for k = j+1:n\n",
        "      a(i,k) = a(i,k) - mult*a(j,k);\n",
        "    end\n",
        "    b(i) = b(i) - mult*b(j);\n",
        "  end\n",
        "end\n",
        "\n",
        "# back substitution\n",
        "\n",
        "for i = n : -1 : 1\n",
        "  for j = i+1 : n\n",
        "    b(i) = b(i) - a(i,j)*x(j);\n",
        "  end\n",
        "  x(i) = b(i)/a(i,i);\n",
        "end\n",
        "```\n"
      ],
      "metadata": {
        "id": "xZ6_dOIuXiiF"
      }
    },
    {
      "cell_type": "markdown",
      "source": [
        "#### code\n"
      ],
      "metadata": {
        "id": "AuSvsPxi00l-"
      }
    },
    {
      "cell_type": "code",
      "source": [
        "def gauss_elimination(aa,ab,aeps):\n",
        "  \"\"\"\n",
        "  solves system of linear equations Ax=b using gaussian elimination\n",
        "\n",
        "  args:\n",
        "    aa:   square matrix [A] of system coeffs\n",
        "    ab:   vector [b] of RHS constants\n",
        "    aeps: error bound\n",
        "\n",
        "  returns:\n",
        "    x: solution vector [x]\n",
        "\n",
        "  raises:\n",
        "    no error handling whatsoever bc i didnt feel like it\n",
        "  \"\"\"\n",
        "\n",
        "  # initialize\n",
        "  a = aa\n",
        "  b = ab\n",
        "  n = len(a)\n",
        "  x = [0]*n\n",
        "\n",
        "  # lol\n",
        "\n",
        "  return x\n"
      ],
      "metadata": {
        "id": "vUoxLXe9DHs7"
      },
      "execution_count": null,
      "outputs": []
    },
    {
      "cell_type": "markdown",
      "source": [
        "##### demo, partial\n"
      ],
      "metadata": {
        "id": "aEfxn4jUC-18"
      }
    },
    {
      "cell_type": "code",
      "source": [
        "def gauss_elimination(aa,ab,aeps):\n",
        "  \"\"\"\n",
        "  solves system of linear equations Ax=b using gaussian elimination\n",
        "\n",
        "  args:\n",
        "    aa:   square matrix [A] of system coeffs\n",
        "    ab:   vector [b] of RHS constants\n",
        "    aeps: error bound\n",
        "\n",
        "  returns:\n",
        "    x: solution vector [x]\n",
        "\n",
        "  raises:\n",
        "    no error handling whatsoever bc i didnt feel like it\n",
        "  \"\"\"\n",
        "\n",
        "  # initialize\n",
        "  a = aa\n",
        "  b = ab\n",
        "  n = len(a)\n",
        "  x = [0]*n\n",
        "\n",
        "  ## forward elimination\n",
        "\n",
        "  #for j = 1 : n-1\n",
        "  for j in range(n-1): # j = 0 to n-2 = 0,1\n",
        "    ## check for zero on diagonal\n",
        "    #if abs(a(j,j))<eps; error(’zero pivot encountered’); end\n",
        "    if abs(a[j][j]) < aeps:\n",
        "      break;\n",
        "\n",
        "    ## eliminate column j\n",
        "    #for i = j+1 : n\n",
        "    for i in range(j+1,n):\n",
        "\n",
        "      ## calc factor between rows\n",
        "      #mult = a(i,j)/a(j,j);\n",
        "      m = a[i][j]/a[j][j]\n",
        "\n",
        "      ## eliminate element i,j\n",
        "      #for k = j+1:n\n",
        "      for k in range(j+1,n):\n",
        "        #a(i,k) = a(i,k) - mult*a(j,k);\n",
        "        a[i][k] = a[i][k] - m*a[j][k]\n",
        "      #end\n",
        "      #b(i) = b(i) - mult*b(j);\n",
        "      b[i] = b[i] - m*b[j];\n",
        "    #end\n",
        "  #end\n",
        "\n",
        "  ## back substitution\n",
        "\n",
        "  #for i = n : -1 : 1\n",
        "    #for j = i+1 : n\n",
        "      #b(i) = b(i) - a(i,j)*x(j);\n",
        "    #end\n",
        "    #x(i) = b(i)/a(i,i);\n",
        "  #end\n",
        "\n",
        "  return x\n"
      ],
      "metadata": {
        "id": "JKhZxZ_7lNmy"
      },
      "execution_count": null,
      "outputs": []
    },
    {
      "cell_type": "markdown",
      "source": [
        "#### results\n"
      ],
      "metadata": {
        "id": "Jo6IvNVUDBUi"
      }
    },
    {
      "cell_type": "code",
      "source": [
        "#   x + 2y −  z =  3\n",
        "#  2x +  y − 2z =  3\n",
        "# −3x +  y +  z = −6\n",
        "#\n",
        "# answer [x,y,z] = [3,1,2]\n",
        "\n",
        "A = [[1,2,-1],[2,1,-2],[-3,1,1]]\n",
        "b = [3,3,-6]\n",
        "eps = 1e-6\n",
        "\n",
        "x = gauss_elimination(A,b,eps)\n",
        "print(f\"answer: {x}\")\n"
      ],
      "metadata": {
        "colab": {
          "base_uri": "https://localhost:8080/"
        },
        "id": "Js_w_c2rg9TZ",
        "outputId": "0bcffa8b-31fc-4cca-b9c1-6367333f849d"
      },
      "execution_count": null,
      "outputs": [
        {
          "output_type": "stream",
          "name": "stdout",
          "text": [
            "answer: [3.0, 1.0, 2.0]\n"
          ]
        }
      ]
    },
    {
      "cell_type": "code",
      "source": [
        "# lol!\n",
        "print(\"\\neine minute, bitte:\\n\")\n",
        "print(A)\n",
        "print(b)\n",
        "\n",
        "# fix\n",
        "# change \"a = aa\" to \"a = aa.copy()\", usw"
      ],
      "metadata": {
        "colab": {
          "base_uri": "https://localhost:8080/"
        },
        "id": "hLyTdx9XwrRL",
        "outputId": "75018461-c302-4326-f4ea-7217b316ede7"
      },
      "execution_count": null,
      "outputs": [
        {
          "output_type": "stream",
          "name": "stdout",
          "text": [
            "\n",
            "eine minute, bitte:\n",
            "\n",
            "[[1, 2, -1], [2, -3.0, 0.0], [-3, 7.0, -2.0]]\n",
            "[3, 3, -6]\n"
          ]
        }
      ]
    },
    {
      "cell_type": "markdown",
      "source": [
        "### q2. <b><font color=green>MATH 385 ONLY</font></b>. (5 pts) LU factorization vs PA=LU factorization\n",
        "\n",
        "what is naive gauss elimination? in relation, what are LU factorization and PA=LU factorization?\n",
        "</br>\n"
      ],
      "metadata": {
        "id": "ovBnf9FB35LH"
      }
    },
    {
      "cell_type": "markdown",
      "source": [
        "### q3. PA=LU factorization\n",
        "\n",
        "a) <b><font color=green>MATH 385 ONLY</font></b>. (10 pts) solve the following system of equations using PA=LU factorization. show your work.\n",
        "</br></br>\n",
        "\n",
        "$$\n",
        "\\begin{bmatrix} 3 & 1 & 2 \\\\ 6 & 3 & 4 \\\\ 3 & 1 & 5 \\end{bmatrix}\n",
        "\\begin{bmatrix} x_1 \\\\ x_2 \\\\ x_3 \\end{bmatrix}\n",
        "= \\begin{bmatrix} 0 \\\\ 1 \\\\ 3 \\end{bmatrix}\n",
        "$$\n",
        "</br>\n",
        "\n",
        "a) <b><font color=blue>MATH 685 ONLY</font></b>. (20 pts) code the PA=LU algorithm as function in python and use it to solve the same system of equations.\n",
        "</br>\n"
      ],
      "metadata": {
        "id": "VXoX5qrN37sh"
      }
    },
    {
      "cell_type": "markdown",
      "source": [
        "##### algorithm\n"
      ],
      "metadata": {
        "id": "7WHQtpMHSDAv"
      }
    },
    {
      "cell_type": "markdown",
      "source": [
        "\n",
        "```\n",
        "# input a,b; output p,l,u, x\n",
        "\n",
        "# forward elimination : PA = LU\n",
        "\n",
        "p = identity\n",
        "n = len(b)\n",
        "u = a # start with, becomes lu\n",
        "\n",
        "for j = 1 : n-1\n",
        "  # permute\n",
        "  for i = j+1 : n\n",
        "    if abs(u[i,j])>abs(u[j,j]) then # swap # be careful!\n",
        "      p(j),p(i) = p(i),p(j)\n",
        "      u(j),u(i) = u(i),u(j)\n",
        "\n",
        "  # check for zero on diagonal\n",
        "  if abs(u(j,j))<eps; error(\"zero pivot encountered\"); end\n",
        "\n",
        "  # eliminate column j\n",
        "  for i = j+1 : n\n",
        "\n",
        "    # calc factor between rows\n",
        "    mult = u(i,j)/u(j,j);\n",
        "    u(i,j) = mult\n",
        "\n",
        "    # eliminate element i,j\n",
        "    for k = j+1:n\n",
        "      u(i,k) = u(i,k) - mult*u(j,k);\n",
        "    end\n",
        "  end\n",
        "end\n",
        "\n",
        "# decompose lu ~ l,u\n",
        "l = identity\n",
        "for j = 1 : n-1\n",
        "  for i = j+1 : n\n",
        "    l(i,j) = u(i,j)\n",
        "    u(i,j) = 0\n",
        "\n",
        "# back substitution 1 : lc = pb\n",
        "\n",
        "pb = p.b\n",
        "c = [0]*n\n",
        "\n",
        "# for lower triangular\n",
        "for i = 1 : n\n",
        "  for j = 1 : i\n",
        "    pb(i) = pb(i) - l(i,j)*c(j);\n",
        "  end\n",
        "  c(i) = pb(i)/l(i,i);\n",
        "end\n",
        "\n",
        "# back substitution 2 : ux = c\n",
        "\n",
        "x = [0]*n\n",
        "\n",
        "# for upper triangular\n",
        "for i = n : -1 : 1\n",
        "  for j = i+1 : n\n",
        "    c(i) = c(i) - u(i,j)*x(j);\n",
        "  end\n",
        "  x(i) = c(i)/u(i,i);\n",
        "end\n",
        "```\n"
      ],
      "metadata": {
        "id": "tbAJdSZkSLOu"
      }
    },
    {
      "cell_type": "markdown",
      "source": [
        "##### code\n"
      ],
      "metadata": {
        "id": "9M4Q0WT0SIMd"
      }
    },
    {
      "cell_type": "code",
      "source": [
        "#https://numpy.org/doc/stable/reference/generated/numpy.dot.html\n",
        "\n",
        "import numpy as np\n",
        "\n",
        "def f_palu(aa,ab):\n",
        "  \"\"\"\n",
        "  aa : coefficient matrix\n",
        "  ab : RHS\n",
        "\n",
        "  solves Ax = b with PA=LU factorization\n",
        "\n",
        "  returns\n",
        "    : P permutation matrix\n",
        "    : L lower triangular matrix\n",
        "    : U upper triangular matrix\n",
        "    : x solution vector\n",
        "  \"\"\"\n",
        "\n",
        "  # forward elimination : PA = LU\n",
        "\n",
        "  u = aa.copy() # start with, becomes lu\n",
        "  n = len(u)\n",
        "  p = np.identity(n)\n",
        "\n",
        "  # decompose lu ~ l,u\n",
        "  l = np.identity(n)\n",
        "\n",
        "  # back substitution 1 : Lc = Pb\n",
        "\n",
        "  pb = np.dot(p,ab.copy())\n",
        "  c = [0]*n\n",
        "\n",
        "  # for lower triangular\n",
        "\n",
        "  # back substitution 2 : Ux = c\n",
        "\n",
        "  x = [0]*n\n",
        "\n",
        "  # for upper triangular\n",
        "\n",
        "  return p,l,u,x\n",
        "\n",
        "a = [[3,1,2],[6,3,4],[3,1,5]]\n",
        "b = [[0],[1],[3]]\n",
        "\n",
        "p,l,u,x = f_palu(a,b)\n",
        "print(\"\\np\\n\",p,\"\\nl\\n\",l,\"\\nu\\n\",u,\"\\nx\\n\",x)\n"
      ],
      "metadata": {
        "id": "7WrxxspXmh0K"
      },
      "execution_count": null,
      "outputs": []
    }
  ]
}