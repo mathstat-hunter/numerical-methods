{
  "nbformat": 4,
  "nbformat_minor": 0,
  "metadata": {
    "colab": {
      "provenance": [],
      "collapsed_sections": [
        "_Yhz39lX8c8a",
        "q94N3x84DZFN",
        "k4tGM7mKltav",
        "r5gqrcChpVeF",
        "5EtTmeL4Chk8",
        "I84XCh5YC5Dj",
        "UuRkHZrHMRqZ",
        "fGnd2ShSDb3s",
        "v_1e7A8aDvpt",
        "EULn8WurwU6P",
        "SyWBBNXWJQma",
        "hakorzfuJSs6",
        "W9hg1yaWHUAH",
        "m8iPixtum8M_",
        "aQJ4E1T-wf0b",
        "5sF6B8db3Ise",
        "E3q9u3t83RWA",
        "6IC4Ftbx4lcT",
        "e5sS2n-lLExJ",
        "LOU9UUOW7-jN",
        "3-0EAv88R4-M",
        "H4WkpAPDDq7D",
        "gSaB0_KCR9Ru",
        "AJ46Lg4hD_w8",
        "WJj2OzB8S0x_",
        "b2dOR5RZYHV1",
        "LvqMv3P1O14s",
        "gRI6pQFHF1NV"
      ]
    },
    "kernelspec": {
      "name": "python3",
      "display_name": "Python 3"
    },
    "language_info": {
      "name": "python"
    }
  },
  "cells": [
    {
      "cell_type": "markdown",
      "source": [
        "# nmi | spring 2024\n",
        "## demo 02 | homework 02 : rootfinding\n",
        "## vicious, sid\n"
      ],
      "metadata": {
        "id": "5UzhS1MMRn0X"
      }
    },
    {
      "cell_type": "markdown",
      "source": [
        "finding roots for $y = f(x) = x^3 + x - 1$ using various methods.\n"
      ],
      "metadata": {
        "id": "W2fiRAk4NAxz"
      }
    },
    {
      "cell_type": "markdown",
      "source": [
        "### global functions, variables\n"
      ],
      "metadata": {
        "id": "_Yhz39lX8c8a"
      }
    },
    {
      "cell_type": "code",
      "source": [
        "# debug\n",
        "gb_debug = True\n",
        "\n",
        "# limits, programmatic\n",
        "gepsilon = 1e-5 # 0.00001 # max error\n",
        "gimax = 100 # max iterations\n",
        "\n",
        "# x interval\n",
        "gx_from = 0.\n",
        "gx_thru = 1.\n",
        "\n",
        "# x, educated guess\n",
        "gx0 = 0.60\n",
        "\n",
        "def f(ax):\n",
        "  rc = ax**3 + ax - 1.\n",
        "  if gb_debug:\n",
        "    print(f\"inside f: f({ax}) = {rc}\")\n",
        "  return rc\n"
      ],
      "metadata": {
        "id": "OmECKVbG8gtc"
      },
      "execution_count": null,
      "outputs": []
    },
    {
      "cell_type": "markdown",
      "source": [
        "### bisection"
      ],
      "metadata": {
        "id": "q94N3x84DZFN"
      }
    },
    {
      "cell_type": "markdown",
      "source": [
        "#### algorithm"
      ],
      "metadata": {
        "id": "k4tGM7mKltav"
      }
    },
    {
      "cell_type": "markdown",
      "source": [
        "\n",
        "```\n",
        "def f(x) = x^3 + x - 1\n",
        "\n",
        "def hc_bisection(aa,ab)\n",
        "  epsilon = 0.01 # bc im lazy\n",
        "  a = aa,b = ab\n",
        "\n",
        "  while (b-a)/2. > epsilon\n",
        "    c = (a+b)/2.\n",
        "    fc = f(c)\n",
        "    if fc = 0\n",
        "      stop\n",
        "    elsif fa*fc < 0\n",
        "      b = c\n",
        "      # fb = f(b)\n",
        "    else\n",
        "      a = c\n",
        "      fa = fc\n",
        "```\n"
      ],
      "metadata": {
        "id": "r-lb7lVml0Vh"
      }
    },
    {
      "cell_type": "markdown",
      "source": [
        "#### code"
      ],
      "metadata": {
        "id": "r5gqrcChpVeF"
      }
    },
    {
      "cell_type": "code",
      "execution_count": null,
      "metadata": {
        "id": "5Cy2UID6ln2e"
      },
      "outputs": [],
      "source": [
        "def f_bisection(aa,ab,aepsilon):\n",
        "  # do stuff\n",
        "\n",
        "  return c,isteps # root, iterations\n"
      ]
    },
    {
      "cell_type": "markdown",
      "source": [
        "##### demo\n"
      ],
      "metadata": {
        "id": "5EtTmeL4Chk8"
      }
    },
    {
      "cell_type": "code",
      "source": [
        "def bisection(aa,ab,aepsilon):\n",
        "  #a = aa,b = ab\n",
        "  a = aa;b = ab\n",
        "  # isteps = 0\n",
        "  # < do something here >\n",
        "\n",
        "  fa = f(a)\n",
        "\n",
        "  #while (b-a)/2. > epsilon\n",
        "  while (b-a)/2. > aepsilon:\n",
        "    #c = (a+b)/2.\n",
        "    c = (a+b)/2.\n",
        "    #fc = f(c)\n",
        "    fc = f(c)\n",
        "    #if fc = 0\n",
        "    if fc == 0:\n",
        "      #stop\n",
        "      break;\n",
        "    #elsif fa*fc < 0\n",
        "    elif fa*fc < 0:\n",
        "      #b = c\n",
        "      b = c\n",
        "      # fb = f(b) # leave as comment, unneeded\n",
        "    #else\n",
        "    else:\n",
        "      #a = c\n",
        "      a = c\n",
        "      #fa = f(a)\n",
        "      fa = fc\n",
        "      # isteps = isteps + 1\n",
        "      # < do something here >\n",
        "\n",
        "  return c,isteps # root, iterations\n"
      ],
      "metadata": {
        "id": "TZAlxmzGCqoK"
      },
      "execution_count": null,
      "outputs": []
    },
    {
      "cell_type": "markdown",
      "source": [
        "#### results\n"
      ],
      "metadata": {
        "id": "I84XCh5YC5Dj"
      }
    },
    {
      "cell_type": "code",
      "source": [
        "root,steps = f_bisection(gx_from,gx_thru,gepsilon)\n",
        "print(f\"given max error {gepsilon:.5f}, found root = {root:.5f} at {steps} iterations\")\n"
      ],
      "metadata": {
        "id": "ClBFtwhq9Voe"
      },
      "execution_count": null,
      "outputs": []
    },
    {
      "cell_type": "markdown",
      "source": [
        "##### self-check"
      ],
      "metadata": {
        "id": "UuRkHZrHMRqZ"
      }
    },
    {
      "cell_type": "code",
      "source": [
        "from scipy import optimize\n",
        "\n",
        "sol = optimize.root(f, [0.6])\n",
        "sol.x"
      ],
      "metadata": {
        "id": "V6ttsPgBMb_2"
      },
      "execution_count": null,
      "outputs": []
    },
    {
      "cell_type": "markdown",
      "source": [
        "that is, for the purposes of error analysis, you can use the best python answer to coded problems as the comparatively true answer."
      ],
      "metadata": {
        "id": "zw8SB_T5PhlH"
      }
    },
    {
      "cell_type": "markdown",
      "source": [
        "### fixed-point\n",
        "\n",
        "<font color = \"blue\">not needed for homework; for continuity of methods.</font>"
      ],
      "metadata": {
        "id": "fGnd2ShSDb3s"
      }
    },
    {
      "cell_type": "markdown",
      "source": [
        "#### algorithm"
      ],
      "metadata": {
        "id": "v_1e7A8aDvpt"
      }
    },
    {
      "cell_type": "markdown",
      "source": [
        "$x_{i+1} = x_{i} - f(x_{i})$\n"
      ],
      "metadata": {
        "id": "5d_STbOJnCpx"
      }
    },
    {
      "cell_type": "markdown",
      "source": [
        "#### code, static f(x) and <font color=red>what can go wrong</font>"
      ],
      "metadata": {
        "id": "EULn8WurwU6P"
      }
    },
    {
      "cell_type": "code",
      "source": [
        "# fixed point\n",
        "def f_fpi(ax0,aepsilon,aimax):\n",
        "  rc = 0\n",
        "  isteps = 0\n",
        "  x = ax0\n",
        "  fx = f(x)\n",
        "  while (abs(fx - x) > aepsilon) and (isteps <= aimax):\n",
        "    x = fx\n",
        "    fx = f(x)\n",
        "    isteps += 1 # common shortcut for isteps = isteps + 1\n",
        "  rc = x\n",
        "  return rc,isteps"
      ],
      "metadata": {
        "id": "_Pbb1WTYm-nN"
      },
      "execution_count": null,
      "outputs": []
    },
    {
      "cell_type": "markdown",
      "source": [
        "##### first (lol)"
      ],
      "metadata": {
        "id": "SyWBBNXWJQma"
      }
    },
    {
      "cell_type": "code",
      "source": [
        "x0 = gx_from\n",
        "root,steps = f_fpi(x0,gepsilon,gimax)\n",
        "print(f\"given max error {gepsilon:.5f}, found root = {root:.5f} starting at {x0} with {steps} iterations\")\n",
        "\n",
        "x0 = gx_thru\n",
        "root,steps = f_fpi(x0,gepsilon,gimax)\n",
        "print(f\"given max error {gepsilon:.5f}, found root = {root:.5f} starting at {x0} with {steps} iterations\")\n",
        "\n",
        "x0 = gx0\n",
        "root,steps = f_fpi(x0,gepsilon,gimax)\n",
        "print(f\"given max error {gepsilon:.5f}, found root = {root:.5f} starting at {x0} with {steps} iterations\")\n"
      ],
      "metadata": {
        "id": "dLsrB33gBJ-b"
      },
      "execution_count": null,
      "outputs": []
    },
    {
      "cell_type": "markdown",
      "source": [
        "##### later (fixing, un/doable)"
      ],
      "metadata": {
        "id": "hakorzfuJSs6"
      }
    },
    {
      "cell_type": "code",
      "source": [
        "# very rudimentary exception handling\n",
        "try:\n",
        "  x0 = gx0\n",
        "  root,steps = f_fpi(x0,gepsilon,gimax)\n",
        "  print(f\"given max error {gepsilon:.5f}, found root = {root:.5f} starting at {x0} with {steps} iterations\")\n",
        "except:\n",
        "  print(\"oh noes\")"
      ],
      "metadata": {
        "id": "mk-l_X3rL1jt",
        "colab": {
          "base_uri": "https://localhost:8080/"
        },
        "outputId": "29a8be21-f892-48db-dfa1-316b0a5a0dd2"
      },
      "execution_count": null,
      "outputs": [
        {
          "output_type": "stream",
          "name": "stdout",
          "text": [
            "inside f: f(0.6) = -0.18400000000000005\n",
            "inside f: f(-0.18400000000000005) = -1.190229504\n",
            "inside f: f(-1.190229504) = -3.8763636938946355\n",
            "inside f: f(-3.8763636938946355) = -63.12336233840013\n",
            "inside f: f(-63.12336233840013) = -251582.8768554049\n",
            "inside f: f(-251582.8768554049) = -1.5923672500891132e+16\n",
            "inside f: f(-1.5923672500891132e+16) = -4.0376596785907655e+48\n",
            "inside f: f(-4.0376596785907655e+48) = -6.582473699994703e+145\n",
            "oh noes\n"
          ]
        }
      ]
    },
    {
      "cell_type": "markdown",
      "source": [
        "#### does this fixed point iteration method work at all?\n"
      ],
      "metadata": {
        "id": "W9hg1yaWHUAH"
      }
    },
    {
      "cell_type": "code",
      "source": [
        "# fixed point iteration w a fixed-point\n",
        "\n",
        "import math\n",
        "\n",
        "def f2(ax):\n",
        "  rc = math.cos(ax)\n",
        "  #rc = cos(ax)\n",
        "  if gb_debug:\n",
        "    print(f\"inside f2: f({ax}) = {rc}\")\n",
        "  return rc\n",
        "\n",
        "def f_fpi_waf(af,ax0,aerrmax,aimax): # w function as argument\n",
        "  rc = 0\n",
        "  isteps = 0\n",
        "  x = ax0\n",
        "  fx = af(x)\n",
        "  while (abs(fx - x) > aerrmax) and (isteps <= aimax):\n",
        "    x = fx\n",
        "    fx = af(x)\n",
        "    isteps += 1 # common shortcut for isteps = isteps + 1\n",
        "  rc = x\n",
        "  return rc,isteps\n",
        "\n",
        "try:\n",
        "  x0 = 0.5\n",
        "  root,steps = f_fpi_waf(f2,x0,gepsilon,gimax)\n",
        "  print(f\"given max error {gepsilon:.5f}, found root = {root:.5f} starting at {x0} with {steps} iterations\")\n",
        "except:\n",
        "  print(\"oh noes\")\n"
      ],
      "metadata": {
        "id": "1kLjyoQ8Kt93",
        "colab": {
          "base_uri": "https://localhost:8080/"
        },
        "outputId": "e5660490-df45-4074-c46e-6847c5b0e962"
      },
      "execution_count": null,
      "outputs": [
        {
          "output_type": "stream",
          "name": "stdout",
          "text": [
            "inside f2: f(0.5) = 0.8775825618903728\n",
            "inside f2: f(0.8775825618903728) = 0.6390124941652592\n",
            "inside f2: f(0.6390124941652592) = 0.8026851006823349\n",
            "inside f2: f(0.8026851006823349) = 0.6947780267880062\n",
            "inside f2: f(0.6947780267880062) = 0.7681958312820161\n",
            "inside f2: f(0.7681958312820161) = 0.719165445942419\n",
            "inside f2: f(0.719165445942419) = 0.752355759421527\n",
            "inside f2: f(0.752355759421527) = 0.7300810631378233\n",
            "inside f2: f(0.7300810631378233) = 0.7451203413514401\n",
            "inside f2: f(0.7451203413514401) = 0.7350063090148431\n",
            "inside f2: f(0.7350063090148431) = 0.7418265226432459\n",
            "inside f2: f(0.7418265226432459) = 0.7372357254422314\n",
            "inside f2: f(0.7372357254422314) = 0.7403296518782632\n",
            "inside f2: f(0.7403296518782632) = 0.7382462383322335\n",
            "inside f2: f(0.7382462383322335) = 0.7396499627696612\n",
            "inside f2: f(0.7396499627696612) = 0.7387045393569833\n",
            "inside f2: f(0.7387045393569833) = 0.7393414522812101\n",
            "inside f2: f(0.7393414522812101) = 0.7389124493321031\n",
            "inside f2: f(0.7389124493321031) = 0.739201444135799\n",
            "inside f2: f(0.739201444135799) = 0.739006779780813\n",
            "inside f2: f(0.739006779780813) = 0.7391379107622928\n",
            "inside f2: f(0.7391379107622928) = 0.7390495805952085\n",
            "inside f2: f(0.7390495805952085) = 0.7391090814205267\n",
            "inside f2: f(0.7391090814205267) = 0.7390690012040115\n",
            "inside f2: f(0.7390690012040115) = 0.7390959998357547\n",
            "inside f2: f(0.7390959998357547) = 0.7390778132851752\n",
            "inside f2: f(0.7390778132851752) = 0.739090063988251\n",
            "inside f2: f(0.739090063988251) = 0.7390818117781094\n",
            "given max error 0.00001, found root = 0.73909 starting at 0.5 with 27 iterations\n"
          ]
        }
      ]
    },
    {
      "cell_type": "markdown",
      "source": [
        "#### code, <font color=blue>re-rig $g(x)$</font>\n"
      ],
      "metadata": {
        "id": "m8iPixtum8M_"
      }
    },
    {
      "cell_type": "markdown",
      "source": [
        "##### fpi, v2: f(x) as argument"
      ],
      "metadata": {
        "id": "aQJ4E1T-wf0b"
      }
    },
    {
      "cell_type": "code",
      "source": [
        "# fixed point\n",
        "def f_fpi2(af,ax0,aepsilon,aimax):\n",
        "  rc = 0\n",
        "  isteps = 0\n",
        "  x = ax0\n",
        "  gx = af(x)\n",
        "  while (abs(gx - x) > aepsilon) and (isteps < aimax):\n",
        "    x = gx\n",
        "    gx = af(x)\n",
        "    isteps += 1 # common shortcut for isteps = isteps + 1\n",
        "  rc = x\n",
        "  return rc,isteps"
      ],
      "metadata": {
        "id": "mgxD2iQ3wjzN"
      },
      "execution_count": null,
      "outputs": []
    },
    {
      "cell_type": "markdown",
      "source": [
        "##### $g_1(x) = 1 - x^3$"
      ],
      "metadata": {
        "id": "5sF6B8db3Ise"
      }
    },
    {
      "cell_type": "code",
      "source": [
        "def g1(ax):\n",
        "  rc = 1. - ax**3\n",
        "  if gb_debug:\n",
        "    print(f\"inside g1({ax}) = {rc}\")\n",
        "  return rc"
      ],
      "metadata": {
        "id": "LAjtUvi6xaJ2"
      },
      "execution_count": null,
      "outputs": []
    },
    {
      "cell_type": "code",
      "source": [
        "x0 = 0.5\n",
        "g1_root,g1_steps = f_fpi2(g1,x0,gepsilon,gimax)\n",
        "print(f\"\\nroot {g1_root} from {x0} with {g1_steps} steps of max {gimax} and ε {gepsilon}\")"
      ],
      "metadata": {
        "id": "VZ-G3-AIxtsP",
        "colab": {
          "base_uri": "https://localhost:8080/"
        },
        "outputId": "fc532d8b-7d94-498b-a1ae-29144d9a858a"
      },
      "execution_count": null,
      "outputs": [
        {
          "output_type": "stream",
          "name": "stdout",
          "text": [
            "inside g1(0.5) = 0.875\n",
            "inside g1(0.875) = 0.330078125\n",
            "inside g1(0.330078125) = 0.9640374705195427\n",
            "inside g1(0.9640374705195427) = 0.10405418832767732\n",
            "inside g1(0.10405418832767732) = 0.9988733767808354\n",
            "inside g1(0.9988733767808354) = 0.003376063247859995\n",
            "inside g1(0.003376063247859995) = 0.999999961520296\n",
            "inside g1(0.999999961520296) = 1.1543910749534092e-07\n",
            "inside g1(1.1543910749534092e-07) = 1.0\n",
            "inside g1(1.0) = 0.0\n",
            "inside g1(0.0) = 1.0\n",
            "inside g1(1.0) = 0.0\n",
            "inside g1(0.0) = 1.0\n",
            "inside g1(1.0) = 0.0\n",
            "inside g1(0.0) = 1.0\n",
            "inside g1(1.0) = 0.0\n",
            "inside g1(0.0) = 1.0\n",
            "inside g1(1.0) = 0.0\n",
            "inside g1(0.0) = 1.0\n",
            "inside g1(1.0) = 0.0\n",
            "inside g1(0.0) = 1.0\n",
            "inside g1(1.0) = 0.0\n",
            "inside g1(0.0) = 1.0\n",
            "inside g1(1.0) = 0.0\n",
            "inside g1(0.0) = 1.0\n",
            "inside g1(1.0) = 0.0\n",
            "inside g1(0.0) = 1.0\n",
            "inside g1(1.0) = 0.0\n",
            "inside g1(0.0) = 1.0\n",
            "inside g1(1.0) = 0.0\n",
            "inside g1(0.0) = 1.0\n",
            "inside g1(1.0) = 0.0\n",
            "inside g1(0.0) = 1.0\n",
            "inside g1(1.0) = 0.0\n",
            "inside g1(0.0) = 1.0\n",
            "inside g1(1.0) = 0.0\n",
            "inside g1(0.0) = 1.0\n",
            "inside g1(1.0) = 0.0\n",
            "inside g1(0.0) = 1.0\n",
            "inside g1(1.0) = 0.0\n",
            "inside g1(0.0) = 1.0\n",
            "inside g1(1.0) = 0.0\n",
            "inside g1(0.0) = 1.0\n",
            "inside g1(1.0) = 0.0\n",
            "inside g1(0.0) = 1.0\n",
            "inside g1(1.0) = 0.0\n",
            "inside g1(0.0) = 1.0\n",
            "inside g1(1.0) = 0.0\n",
            "inside g1(0.0) = 1.0\n",
            "inside g1(1.0) = 0.0\n",
            "inside g1(0.0) = 1.0\n",
            "inside g1(1.0) = 0.0\n",
            "inside g1(0.0) = 1.0\n",
            "inside g1(1.0) = 0.0\n",
            "inside g1(0.0) = 1.0\n",
            "inside g1(1.0) = 0.0\n",
            "inside g1(0.0) = 1.0\n",
            "inside g1(1.0) = 0.0\n",
            "inside g1(0.0) = 1.0\n",
            "inside g1(1.0) = 0.0\n",
            "inside g1(0.0) = 1.0\n",
            "inside g1(1.0) = 0.0\n",
            "inside g1(0.0) = 1.0\n",
            "inside g1(1.0) = 0.0\n",
            "inside g1(0.0) = 1.0\n",
            "inside g1(1.0) = 0.0\n",
            "inside g1(0.0) = 1.0\n",
            "inside g1(1.0) = 0.0\n",
            "inside g1(0.0) = 1.0\n",
            "inside g1(1.0) = 0.0\n",
            "inside g1(0.0) = 1.0\n",
            "inside g1(1.0) = 0.0\n",
            "inside g1(0.0) = 1.0\n",
            "inside g1(1.0) = 0.0\n",
            "inside g1(0.0) = 1.0\n",
            "inside g1(1.0) = 0.0\n",
            "inside g1(0.0) = 1.0\n",
            "inside g1(1.0) = 0.0\n",
            "inside g1(0.0) = 1.0\n",
            "inside g1(1.0) = 0.0\n",
            "inside g1(0.0) = 1.0\n",
            "inside g1(1.0) = 0.0\n",
            "inside g1(0.0) = 1.0\n",
            "inside g1(1.0) = 0.0\n",
            "inside g1(0.0) = 1.0\n",
            "inside g1(1.0) = 0.0\n",
            "inside g1(0.0) = 1.0\n",
            "inside g1(1.0) = 0.0\n",
            "inside g1(0.0) = 1.0\n",
            "inside g1(1.0) = 0.0\n",
            "inside g1(0.0) = 1.0\n",
            "inside g1(1.0) = 0.0\n",
            "inside g1(0.0) = 1.0\n",
            "inside g1(1.0) = 0.0\n",
            "inside g1(0.0) = 1.0\n",
            "inside g1(1.0) = 0.0\n",
            "inside g1(0.0) = 1.0\n",
            "inside g1(1.0) = 0.0\n",
            "inside g1(0.0) = 1.0\n",
            "inside g1(1.0) = 0.0\n",
            "inside g1(0.0) = 1.0\n",
            "\n",
            "root 0.0 from 0.5 with 100 steps of max 100 and ε 1e-05\n"
          ]
        }
      ]
    },
    {
      "cell_type": "markdown",
      "source": [
        "##### $g_2(x) = (1 - x)^{\\frac{1}{3}}$\n",
        "\n",
        "ie, using $x^3$ instead of $x$ on the left side of fpi, $x^3 = 1 - x$. also, cube root reduces order."
      ],
      "metadata": {
        "id": "E3q9u3t83RWA"
      }
    },
    {
      "cell_type": "code",
      "source": [
        "def g2(ax):\n",
        "  rc = (1. - ax)**(1/3)\n",
        "  if gb_debug:\n",
        "    print(f\"inside g2({ax}) = {rc}\")\n",
        "  return rc"
      ],
      "metadata": {
        "id": "hjfhPeKP58SG"
      },
      "execution_count": null,
      "outputs": []
    },
    {
      "cell_type": "code",
      "source": [
        "x0 = 0.5\n",
        "g2_root,g2_steps = f_fpi2(g2,x0,gepsilon,gimax)\n",
        "print(f\"\\nroot {g2_root} from {x0} with {g2_steps} steps of max {gimax} and ε {gepsilon}\")"
      ],
      "metadata": {
        "id": "6OL4z-Zh6HP9",
        "colab": {
          "base_uri": "https://localhost:8080/"
        },
        "outputId": "870e1887-dd30-46c3-9bae-b3964fdcb25b"
      },
      "execution_count": null,
      "outputs": [
        {
          "output_type": "stream",
          "name": "stdout",
          "text": [
            "inside g2(0.5) = 0.7937005259840998\n",
            "inside g2(0.7937005259840998) = 0.5908801132751771\n",
            "inside g2(0.5908801132751771) = 0.7423639321680063\n",
            "inside g2(0.7423639321680063) = 0.6363102034816613\n",
            "inside g2(0.6363102034816613) = 0.7138008141442069\n",
            "inside g2(0.7138008141442069) = 0.6590061456223998\n",
            "inside g2(0.6590061456223998) = 0.6986326057302191\n",
            "inside g2(0.6986326057302191) = 0.670448496228072\n",
            "inside g2(0.670448496228072) = 0.6907291205891408\n",
            "inside g2(0.6907291205891408) = 0.6762589249268274\n",
            "inside g2(0.6762589249268274) = 0.6866455368644897\n",
            "inside g2(0.6866455368644897) = 0.6792223398970035\n",
            "inside g2(0.6792223398970035) = 0.6845440054697164\n",
            "inside g2(0.6845440054697164) = 0.680737373803562\n",
            "inside g2(0.680737373803562) = 0.6834646031717696\n",
            "inside g2(0.6834646031717696) = 0.6815129209547558\n",
            "inside g2(0.6815129209547558) = 0.6829107343858817\n",
            "inside g2(0.6829107343858817) = 0.681910189621121\n",
            "inside g2(0.681910189621121) = 0.6826266706195234\n",
            "inside g2(0.6826266706195234) = 0.682113758124644\n",
            "inside g2(0.682113758124644) = 0.6824810189413075\n",
            "inside g2(0.6824810189413075) = 0.6822180893227887\n",
            "inside g2(0.6822180893227887) = 0.6824063466799226\n",
            "inside g2(0.6824063466799226) = 0.6822715651542335\n",
            "inside g2(0.6822715651542335) = 0.6823680664498976\n",
            "inside g2(0.6823680664498976) = 0.682298975927841\n",
            "inside g2(0.682298975927841) = 0.6823484430100466\n",
            "inside g2(0.6823484430100466) = 0.6823130265482631\n",
            "inside g2(0.6823130265482631) = 0.6823383836989513\n",
            "inside g2(0.6823383836989513) = 0.682320228912402\n",
            "inside g2(0.682320228912402) = 0.6823332271695629\n",
            "inside g2(0.6823332271695629) = 0.6823239208758985\n",
            "\n",
            "root 0.6823332271695629 from 0.5 with 31 steps of max 100 and ε 1e-05\n"
          ]
        }
      ]
    },
    {
      "cell_type": "markdown",
      "source": [
        "##### $g_3(x) = \\frac{1+2x^3}{1+3x^2}$\n",
        "\n",
        "ie, add $2x^3$ to each side of $f(x)$ to reduce its order. for why \"$2$\" in \"$2x^3$\", consider what happens if lhopital.\n",
        "\n",
        "$f(x) = x^3+x-1 = 0 \\Rightarrow x^3 + x - 1 + 2x^3 = 0 + 2x^3 \\Rightarrow (3x^2 + 1)\\cdot x = 1 + 2x^3 \\Rightarrow x = \\frac{1+2x^3}{1+3x^2} = g(x)$."
      ],
      "metadata": {
        "id": "6IC4Ftbx4lcT"
      }
    },
    {
      "cell_type": "code",
      "source": [
        "def g3(ax):\n",
        "  rc = (1. + 2*ax**3)/(1. + 3*ax**2)\n",
        "  if gb_debug:\n",
        "    print(f\"inside g3({ax}) = {rc}\")\n",
        "  return rc"
      ],
      "metadata": {
        "id": "zG7kFNHM69KO"
      },
      "execution_count": null,
      "outputs": []
    },
    {
      "cell_type": "code",
      "source": [
        "x0 = 0.5\n",
        "g3_root,g3_steps = f_fpi2(g3,x0,gepsilon,gimax)\n",
        "print(f\"\\nroot {g3_root} from {x0} with {g3_steps} steps of max {gimax} and ε {gepsilon}\")"
      ],
      "metadata": {
        "id": "ZhA7_jOU7CQT",
        "colab": {
          "base_uri": "https://localhost:8080/"
        },
        "outputId": "a450994e-5632-461f-ac00-cef47ce3b394"
      },
      "execution_count": null,
      "outputs": [
        {
          "output_type": "stream",
          "name": "stdout",
          "text": [
            "inside g3(0.5) = 0.7142857142857143\n",
            "inside g3(0.7142857142857143) = 0.6831797235023042\n",
            "inside g3(0.6831797235023042) = 0.6823284233045783\n",
            "inside g3(0.6823284233045783) = 0.682327803828347\n",
            "\n",
            "root 0.6823284233045783 from 0.5 with 3 steps of max 100 and ε 1e-05\n"
          ]
        }
      ]
    },
    {
      "cell_type": "markdown",
      "source": [
        "##### usw\n"
      ],
      "metadata": {
        "id": "e5sS2n-lLExJ"
      }
    },
    {
      "cell_type": "markdown",
      "source": [
        "![ss_sauer2_01_03.png](data:image/png;base64,iVBORw0KGgoAAAANSUhEUgAAA78AAAGyCAYAAAAs4XNtAAAABHNCSVQICAgIfAhkiAAAABl0RVh0U29mdHdhcmUAZ25vbWUtc2NyZWVuc2hvdO8Dvz4AAAAtdEVYdENyZWF0aW9uIFRpbWUAU3VuIDA0IEZlYiAyMDI0IDA5OjQ3OjQzIFBNIEVTVKc+DL4AACAASURBVHic7N11eJX1/8fx5336LIHBqI2SbkVFpCUEQcIg7CQkJQQxEPXLz6BUkLAIpRsUpUMkBBQpydEbG2yw7Zyzk/fvjzMHiCKx7T5nez+uywvYxs5rAvfu1/0pRVVVFSGEEEIIIYQQIg/TaR1ACCGEEEIIIYTIaVJ+hRBCCCGEEELkeVJ+hRBCCCGEEELkeVJ+hRBCCCGEEELkeVJ+hRBCCCGEEELkeVJ+hRBCCCGEEELkeVJ+hRBCCCGEEELkeVJ+hRBCCCGEEELkeVJ+hRBCCCGEEELkeVJ+hRBCCCGEEELkeVJ+hRBCCCGEEELkeVJ+hRBCCCGEEELkeVJ+hRBCCCGEEELkeVJ+hRBCCCGEEELkeVJ+hRBCCCGEEELkeVJ+hRBCCCGEEELkeVJ+hRBCCCGEEELkeVJ+hRBCCCGEuAEJ8Qls3LCB3bt3X/X23b//TlxcnEaphBA3SlFVVdU6hBBCCCGEEIFs88+b2bljB5M+/5ziJYqzZv36rPe1a9OW06dOsX3XTgwGg3YhhRDXJSO/QgghhBBC/If6DerTt38/XundmxPHT7Br586s902cMpmIiAgURdEwoRDiv+T78ivTV4QQ4lpybRRCiH/2yGOPArDyp5+y3layZEkaNW6MXq/XKpYQ4gbk62nPMn1FCCGuJddGIYS4vratWuN2u/lpzWoAdvy6g/T0NJo0bapxMiHE9eTrkV+ZviKEENeSa6MQQlxfw8aNOHr0KOfPnwdg08YNNG7SRNtQQoj/lK/L719k+ooQQlxLro1CCPHP6t53HwB79+xh186d1KxZSx4KChEEpPwCJUqUoHLlyqxbszbrbTt+3cEDzZtpmEoIIbQl10YhhPhnd9Wpg6Io/HngAGtXr6FZi+ZaRxJC3AApv5lk+ooQQlxLro1CCHGtiIgISpcpzfRp02nfsYPWcYQQN0jKbyaZviKEENeSa6MQQvyz8uUr0KlzJypUrKh1FCHEDZKtOjNdOX0lPS2dQUNe0zqSEEJoTq6NQghxLZ/PR2RkJH369tM6ihDiJuTro47+rnnTptjtDqbNmC5P8YQQIpNcG4UQ4mrTvplK0weaUqp0aa2jCCFugoz8XqF8+QpUrlJZbu6EEOIKcm0UQuR36enp7N2zh3vr1uX75cupWq2qFF8hgpCs+c0k01eEEOJacm0UQghYMG8+T3V9gocebEWxYsW45957tY4khLgFMu05k0xfEUKIa8m1UQghwGG3s2nTJu6rV4+IiAit4wghblG+Lb9/n74iT/GEEEKujUIIIYTIu/LttGeZviKEENeSa6MQQggh8qp8O/Ir01eEEOJacm0UQogbY7PZSEpMokzZMlpHEULcoHxbfoUQQgghhLhVn48fz5HDRxjzyTitowghbpCUXyGEEEIIIW6C3WanScOGXLx4keUrVlCxkhwFJ0QwyLdrfv/J4UOHtI4ghBAB53jcca0jCCFEQJn6zdckJyfj8/mY9PnnWscRQtwgKb+ZTp44wTNPPoXdZtc6ihBCBAyPx8MLzz1HXFyc1lGEECIg2G12pn79Tdavly9bxqGDMoAiRDCQ8ptpwmfjSUpKYuZ332kdRQghAsac2bM5eeIEkybIyIYQQsDlUd+/yOivEMFD1vziH/Vt0awZXo+XgoUKsmHTz4SEhmgdSwghNOXxeGjepCmnT59Gr9fz4+pVlC1bVutYQgihmb/W+l66dImatWphs9lIiI8nPT1d1v4KEQRk5Bf/qK/X4wUgJTlFRn+FEAL/qO/p06cB8Hq9MvorhMj3pn7zNT5V5etp06harRoFCxZkwZLFlLvjDhn9FSII5Pvye/LECRYvXnTV2yZPmihrf4UQ+ZrH4+GLSZOvetviRYtk7a8QIt+y2+xs27qVxUuXUL9B/ay3ly1blgWLF+FyuWTtrxABLt+X379GfStXqYJer+eOO8rL6K8QIt+bO2cOp0+fpkSJEoSGhlKpciW8Xi8Tx0/QOpoQQmgi4VwCk7/8kpjY2GveFxoayqcTxuNTfRokE0LcqHxdfv8a9e3yRFdef2MYXq+Xr6dNpVXr1jL6K4TItzweD1MmTuKee+9lxqyZ2Gw2XhsyhO49e7Bk8WIZ/RVC5EvlypXDYrH86/t1Oh2VK1fOxURCiJuVr8vvF5OnMPKDD3h/5Ej0ej0A1hArn30+gZde7sac2bM0TiiEELlvzuzZNGjUkBkzv6NQoUIA6PR6Bg8ZwkejRzH1q681TiiEEEIIcfMMWgfQisPh4KlnnqFS5UrXvE9RFLr37MHu3btRVRVFUTRIKIQQuU9VVSpWrMSTTz31j+9v36ED5cuXx26zy674QgghhLgtW7dsITIykipVq+bK6+XbkV+r1fqPxfdKtWrVkuIrxE04eeIEH4wciZygFrwUReGee++57sdUq15diq8QNyExMZEB/fpz8eJFraMIIURAUFWVr774gmeffpqF8xfk2uvm25FfIUT2Wr9uHQP7v0pMbCyXLl2iQIECWkcSQgjN7dyxgz6v9CI0NJSLKRfl2iiEyPfsNjtDh7zGTyt+ZMCgQXTr0T3XXjvfjvwKIbKHqqpMnjiJbi++RJOmTZk9b67c3AkhBDB75iye6voE1apXZ8GSxZQpW0brSEIIoakTx0/w+KOP8MvmX/hq6lS69+yRqzNtZeRXCHHL0tPTeW3gINasWc3AwYPp3rOH1pGEEEJzTqeTd956m/nz5tGtR3cGDh6MTifjDUKI/G3d2rVZswQXL1tKTExMrmeQ8iuEuCVHjx7lle49SEtLY9acOdxVp47WkYQQQnPx8fH06tGDY0ePMXHKZJq3aKF1JCGE0JSqqkyZNJnRH39Muw7teX/kyOseG5aTpPwKIW7a8mXLeH3IUKpVq8qMmd8RHR2tdSQhhNDc1i1b6Ne7D9HR0Sz9fjmlSpfWOpIQQmgqNTWVAf3688vmzYx4/z26PvGEpnlkDo4Q4qaM/ngU/fv0pVPnTnw7a5YUXyGEwL++99mnnqZBw4bMXbhAiq8QQmRyOBzMnDNb8+ILMvIrhLhJ5cuXZ/TYsbTv2EHrKEIIETDuvOsu3njrLZ557lmtowghRMCIiIjgu9mztI6RRcqvEOKmSOkVQohrVapciUqVK2kdQwghxHXItGchhBBCCCGEELfl/PnzTPr8c61jXJeUXyHEP3K5XLz9xpv8tmuX1lGEECJgeL1ePh03jm++/lrrKEIIETB+/+032rd9mLlz5nLhwgWt4/wrKb9CiGvEx8fT5fHHWbZ0KZcuXdI6jhBCBISU5BSef+ZZJk+cRIHIAlrHEUKIgDB75iy6dupMlSpVWLR0CVFRUVpH+ley5lcIcZVft2+nzyu9iIiIYN7CBZSvUEHrSEIIobn9+/bxSo+eeD0eZs6dQ61atbSOJIQQmnK5XLzz9tvMmzOXbj26M3DwYHS6wB5bDex0QohcNXvmLJ5+4klq3VmbBUsWS/EVQghgyaLFdH7scUqWLMni5cuk+Aoh8r2E+AS6Pt6JH5Z/z4RJExk8ZEjAF1+QkV8hBGC32Rk65DV+WvEjAwYNoluP7iiKonUsIYTQlNfjYczo0UyZNJlnnnuWYW+8gd4gt05CiPxt+7Zt9O3Vm8jISBYsXsQd5ctrHemGyRVciHzuxPETvNKjO+fOJfLV1Kk0aNhA60hCCKG5cwkJ9H6lFwcP/slnEybQ6qHWWkcSQgjNffXFF3z0wYe0fugh/u/DD7CGhGgd6aZI+RUiH9u9ezfPPfU0ZcqWYen3yylRooTWkYQQQnOJ587Rvu3DREZGsmjJkqAa1RBCiJxkDQlh6LDXef7FF7WOckuk/AqRj1WsUIHnX3yB7j17YjabtY4jhBABIbpoUfr060v7jh0JCwvTOo7QQFJSEnabndJlSmsdRYiA8sSTT2od4bYE/qrkbJKUlMSJ4ye0jiFEQLGGhNC3f38pvkII8TdPPv20FN986Pz584x8/380bdiInTt3aB1HCJHN8nz5lYuYEEIIIa5HVVWtI4gA8MfuP1i3di07ft1ORkaG1nGE0JTX62XcmDHs37dP6yjZKk+XX7mICXHZsqVL6de7Dz6fT+soQggRMDasX0+7Nm1JSU7ROorQWM1aNXm8UydatX5I6yhCaOrixYu89PwLTJk0mbi4OK3jZKs8XX7lIiYEeDwe3hsxglf79iO6aFEZ4RBCCPyjvZMnTuLlF16kYsWKWKwWrSOJAKHX5+nbYyGu68D+/XRs157Dhw8xa+4c2rRtq3WkbJUvNrySi5jIr5KTk+nXuw+/7drFR6NH8cijj2odSQghNJeens5rAwexZs1qBg4eTPeePbSOJIQQmluyeDFvvj6M6jVq8NnnEyhcuLDWkbJdvii/QuRHe/7YQ68ePTCajCxYvJhKlStpHUkIITR39OhRXuneg7S0NGbNmcNddepoHUkIITTl9XgYM3o0kydOossTXXnn3XcxGPJmTZQhUSHyoNkzZ9Hp0UepWKkSC5cskeIrhBDA8mXL6PBwOwoWLMDiZUul+Aoh8r0LFy7w7NPPMGP6dD4dP573R47Ms8UXZORXiDzF5XIx/K23mT93Lt16dGfg4MHodPKMSwiRv3m9XsaMGsWUSZPp3LULw0eMwGg0ah1LCCE0deDAAV589jlCQ0NZsGgRFSpW1DpSjpPyK0Qeoaoqzzz5JIcOHmLKV1/S9IEHtI4khBAB4c3Xh7F82TJGjRlD+44dtI4jhBABISYmhgdbt2LAoEGEh4drHSdXSPkVIo9QFIVu3XtwR/nylC5TWus4IkgkJSVht9nl74zI0158+SWeee5ZqlStqnUUIYQIGOHh4QwfMULrGLlK5kMKkYc80LyZlBhxQ86fP8/I9/9H04aN2Llzh9ZxhMhR5StUkOIrhBBCyq8Qwcrn82kdQQSpP3b/wbq1a9nx63YyMjK0jiNEtnK73VpHEEKIgLNp40befuNNVFXVOoqmpPwKEYSOHj1Ku4fasHOHjNiJm1ezVk0e79SJVq0f0jqKENkqPj6eLo89ztSvv9E6ighiKckpALicLo2TCHH7VFXl8/Hjeen5F7DZbHg8Hq0jaSpfrPmVi5jIS9auXsOgAQMoVbo0xYoX1zqOCGJ6vTz/FHnHr9u307dXb8LDw2nQsIHWcUQQOnzoECt/WsnsWbMAmDF9GnqDnnr16hETG6txOiFuns1mY8igwaxatZIBgwbRvWcPrSNpLtvK78RjThKdKjUi9dSK1FMuVIeSXZ/8FslFTOQlqqoyZdJkRn/8Me06tOf9kSOxWCxaxxJCCM3NnjmLd95+m8ZNmzBqzJh8s2upyF4VKlakQsWK9OrTW+soQty2Y8eO8Ur3HiRfuMDU6dOpd//9WkcKCNlWfifFufjjkjfr12EGheoRempG6qgVqad6hJ7yYTqKmXXocqkVy0VM5BUXU1Lo37cf27dt4/2RI+nUpbPWkYQQQnN2m52hQ17jpxU/MmDQILr16I6iaP3oXQghtLVm1WoGDRhAmbJlWLx8GSVKlNA6UsDIlvJr96r8mea96m3pHpWtyR62Jl/9sSYdxFh1lArRUcqqo0yojtKZvy5mUShkUihkVLDo5ZuXEAAH9u+nZ/ceeDxuZs2dQ63atbWOJIQQmjtx/AQ9u3cjMTGJr6ZOlanOIkc5fXAk3UuSUyXZrXLBpbKrcE0SvUWZecpFUbOOaItCrFVHAaPcwwpteL1exowaxZRJk+nctQvDR4zAaDRqHSugZEv5DdErpDwcyb5UH7svefnjkpc9qV52X/SS4r56RzGXD47ZfByzXX+nWqv+chEuZFIoaPL/aFCgoFFBURQKGBV0QKRRQa9AxL9cbMINYPiPJ8EHnKFklK3N72kQqfNe92MBQvVgyhzCNusgxOD/uZ5/zyHEzVqyeDFvvj6MGjVr8umE8RQuXFjrSEIIobl1a9cysP+rxMTGsnjZUmJiYrSOJPIQnwp7Ur1sOO9h03kPv1/yEmfz4f37JrmxzSEWnvzVftWbLRmpFEhLIOriKYpcOEZ0chyt7r+b5194Ife+CJHvqKpKtxdfYtvWrXw46mMeefRRrSMFpGyb9hyiV7inoJ57Cuqvevsph48/LnnZn+rjhP3yfycdPi65/32rbYdX5YxD5YwjuxL+l1LQ5xua7QRIy5bPGGHwl/JQg4JJBxa9v7AXMCpEGi//PMqkEG1WKGbRUdyiUNSso4hZCnR+t3jhIgYPHMhL3V5m0Guvodfr//s3CZFDxn/6GUN+OcuF8KLEnj9I7PkjWF3p13xcn3595TxVkaP+2P0H3V58icc6deKdd0dgNpu1jiTyABX45YKHuafdLDjr5ozj1o8TzLBEkGCJIKFIRajQDIDtpHNoXwZtihm4v5Ah15YAivxDURTad+zAgEEDqVa9utZxAlaO7/Yca9URa9XRpti177vkVjnpuFyIk5wqKS7/dJJkl/+/FLcv6+fXPHELUAr+i2iqxx/476PfN8Kkg2IWHeVCddwR6v/R/3M9FcN0RMrocp73YOtWFChYgCZNm2odRQj0ej1Hi9ckMbwEh4rfCUAhWyLlzh8kNuUoJS6eQO/zoOhkB2mRs2rWqsm3s2ZS9777tI4i8oBLbpVpJ11MPOa6Zgkf+O/pKoTpqBahp3K4npJW/6zEKJOOb6dN48yZM/Qa8joJGf772CM2H3+mefkzzUe65/L933HC+OBgBh8chJJWHZ1jjHSNMXF3QXmwLbJPu/bttY4Q8DQ96ijSqFDDqKdGxI39w7/kVvEBKS4VFbjoVvGp/rd71ctl8++cXhX7f8xkPnbsGF9/9RWvDHkDq9X6n1kcXpWMzDbu8oEt8+c+FdI94FVV0jzgUVVsHnD5VBw+uOhSuehWsf9Hk3f54KTdx0m7j/VJ176/VIiOauF6akTqqBGhp3rmpmIG6cQBLTk5mUKFCt3Qx1qtVim+ImC8+EovdjpjSEy/PBqSHBpNcmg0O0o3JNyg0CzawDqTAZPNR7lQKcEi50jxFbfrgktl9GEnnx11XlVSAUpYdHQsYaRFUQMNogxEmf755mpz2gm85w7zSIlr11R6M6dOb77gYX2Sh1WJnqwZj2ccPsYcdjLmsJM6BfT0vsNMlxij7HcjRC4IqnN+/xrtLJgDo55bE1KY/8t8+sa+TqFCOT+FyuXzl/aLbpULLh+JTpWzGT4SMlQSMnyczVA57fCvjf6n6eF/FeMV5y6/LUSvUKegnvsK6alXyEDdQnpKWOQGNJBMHD+BqtWq0eGRjtfsSOp0OmX6nghYJkXlYMsI4mw+ViV6WJ3oZlWih4uZ16c0j8ris24Wn3UDDsqF6mgebaB5tJEHow2yF4K4ZampqURERGgdQ+QRNo/Kh4ecjDviJO2K0mvVK3SJMfJ8aRP1o25/WrJegdqRempH6ulVzoxHhZ/Pe1h41s3c0y7OOf2vvfOil+d32nltr8LLZcz0LGcixir3buL6ziUkMPDVAbw2dCg1a9XUOk5QCarym5eYdFDErFDErFCB61/kLrhUjtl8HLV5OWbzsS/Vx95UL3+meXFdsSTF7lXZlLk5AzgBrroBfaDIvz+9FLmjWYvmPNX1CebMnkXvvn1p0LAhDoeDN4cNIy0tjSlffql1RJGPpCSnAOByum7495QN1dGtrIluZU14Vfj9kpfViR6WxbvZkuzBl3kveczmY0qciylxLgwK1IrU07a4kYeLG7mrgF7zc+BF4PN4PHwwciSrV67ix9Wr5FxzcVtUYPYpF6/tzeD0Fet5o80KAytYeKmMiUI5eI9kUKBJEQNNihgYW9PKmkQPXxx3svisG48KSU6VkQcz+OhQBh1KGHmtouWafXSEANi+bRt9e/UmMjKS0LBQreMEHSm/QSDKpBBlunYzMbcPDqV72ZvqY9dFD9uSvey46MV2xZPME4nJrBzwCCszf21Q/MXbrFdkirRGdDodO37dwXNPP4NBr8enqpgtZj6fNEnraCKfOHzoECt/WsnsWbMAmDF9GnqDnnr16hETG3vDn0evQJ0CeuoU0DOkoplEp8rKc25+SvSw8pybxMyRDY/qH93YedHLiAMZFLfoaFnUwIPRBloUNVJYHsqJv0lOTqZf7z7s2rmT90b+T4qvuC1xNh8v7rKzLsmT9bbCJoUhlSz0LGsiNJdviPQKtCxqoGVRA6ccPiYec/HlcSdJThWPCvPPuJl/xs3DxY28U8XCXQWkBAu/2TNn8c7bb9OoSWNGjx1LeHi41pGCjpTfIGbUQbUIPdUi9HSO8a838aiwN9XLlgsetiZ7WRunoLelcKlRV9yFS1/1+wsaFWpG6KhdQE+5UL3sPJgLbDYbY0aNAqBQVBRpqWmoXjcvv9yNho0aaZxO5BcVKlakQsWK9OrTO1s/b7RZ4alSJp4qZQL8o7/L4t0sT3Cz6bwHZ+ZgS3yGj2knXEw74UKnwJ0yKiyusOePPfTq0QOjycjCJUuoVLmS1pFEkFKBL+JcDNzjyFrXa1DghTIm/lfNGhAP3mKtOkZWszC8ioWl8W7GHnayJdlf0pfFu1kW76Z5tIEPq1ulBOdjTqeTt994k8WLFtGrT2969+2LTjaYvCVSfvMYwxVrTHqWg+Ry4dwLPN++FX+WqMP6JE/WGpdLwHFgKf6b1q6xJp4rbaJ2pFxcc8q0b6ZStmxZ7qpzNwsXzKdN27Zs2riRgje4CZYQwaRcqI5+5c30K2/G7lX55YKX1YluliV42J/q34XQ97dR4aJmhZZF/UW4dVEDYTJFJV+ZPXMWI4YPp36DBoweN5bIyEitI4kgdc6p8vSvNlYlXh7tvT/KwJQ7rVS7wY1Wc5NZB4+XNPJ4SSMrz3kYfiCDrZkleHWih3vWpfFoCSPDq1gCMr/IOSeOn+CVHt05dy6Rr6Z+Q4OGDbWOFNTkkUE+8UgJI0vrhXKhbSQrG4TRo6yZYldshpXoVPnkiJM716RRe00a4474p9+I7KU36LmjfHkWLpzPgEGDGPPJuGs2vhIiLwrRKzSPNvBBdSv7modzuGUE42tbaVXUiOWK+7hzTpUZJ1102maj6PeptNtiY0qc67bO3BSBz+l08vqQobz1xhu88NKLTPnqSym+4patTfJw55q0rOJr0cMH1a1sbBQWFMWxZVEDW5qEsapBWNaSN58K8864qbkmjWd22EnIkGtifrB+3Toead8enU7P4qVLpPhmAxn5zWeMOmgRbaBFtIEJta1sSfbvPDjn9OUD3Xdf8vLqHw5e2+vgkRJG+pc3c18h+atyu44dO8a302eQfOECU6dPp97992sdSQjNlA/TUT7MTK9yZhxelc0XvCyLd7PwrDtrMxq7V82a9gdQNULP4yX9o8J1ZPpfnhEfH0/vHj05evQon0+eRIuWLbWOJIKUCow4kMF7f2Zkbb53ZwE9s+4JpVJ48I33NI820Cw6nGXxbobvz+D3S158Ksw46WLJWTfDKlvod4dJjkjKo1Z8/wP9+vSh4yOP8O7/3pcTQbJJ8F0JRLbRKVA/ysDoGlZOtopgVYMwni5lIiTzIur2wZzTbuqtT+futWlMP+nCLQ8ab4nD4eCJTp2JiIhg+YofpPgKcQVr5qjwJ7WsnGodwd7m4XxQ3XrNcSP7U/1To+9em0a5n1Lpt9vB6kQP/3LEuwgS/Xr3IcOZwZLly6X4iluW5lF5ZKuNEQf8xVcBet9hZkuT8KAsvn9RgHbFjexqFs7cuqFZZ6inelSG7nVQdXUa88+4tQ0pckTDxo348OOP+XDUx1J8s5EM5wnAX4T9RyIZ+KSWyuxTLibHudh9yb8ub+dFL8/usDNsXwavlvefQxciTxpvmNVqZfKXX1C1WjWMRqPWcYQIaH9t5DekopmEDB/fJ/iPUlqZ6MHh9TfdOJuPT486+fSok2IWHe2KG+hQwsgDRYyYg/c+N18aM24sUVFRWENCtI4igtQxm492W2zsy9xLINygMPXuEB4pkXe+3yr41wS3K27kkyNO/vdnBqkelTibj8e32WhY2MCYGlbuluOR8oywsDA6PvqI1jHyHLlFENcoaFToWc7M783C2dQ4jMdLGrOORTrj8DFoj4PSK1J550AGqW4ZcrlRtWrXluIrxE0qZtHxYhkTi+uFcr5tBAvvC+WZUqarzixPyPCfKfzQZhtFll+i63Y7C864s4qyCGwxsbFSfMUt25vqpdHG9Kzie0eojl+ahOWp4nslsw5eq2jmWKsI+t5h5q9xiE3nPdy7zr8eWPZsCU4+n0yvzA1SfsV1NYgyMLduKAdbRvBqeXPWzqvnXSojDmRQcWUqYw475Sbzby6mpGgdQYg8J0Sv0LGEkWl3h3CuTSSbGocxpKKZCmGXv5WleVRmn3bx2DYbUctTefgXG9NPurJ2uRfaio+PR1Xlz0Jkj3VJHuqvT8/as6RFtIFfHwinehBsanW7okwKn9SysuuBcJpF+ydyqvjXA1dbncrXx13Iv7Tg4PV4GPn+/+jXp4/WUTR1zqny0SEnQ/c6cvR1pPyKG1IuVMeYmlaOt4pgeBULkUZ/CT7nVBm4x0GFlWlMiXNlbTCRl23bupWkpKR/ff+8OXNo3KAhB/bvz8VUQuQvesX/cO6D6lYOtYxg5wPhvFXZQo0rbnodXpXlCW6e3WGn2PepdNpmY94ZNzYpwppY+dNPtG7RkkULF2odReQBC864ab05ndTMf89Pxpr4/v4wChrz15KsmpF6VjcIY9F9oZQJ8d/WJzlVXtxlp+GGdP7IXL4mAlNKcgrPP/sc382YQeMmTbSOk+t8Kvx0zsNj22zErrjEkL0Oxh1xct6Vc9+npfyKmxJlUninioWjD15dgs84fHT/zU7d9WlsOu/5j88S3IoXL07bVq2ZN3fuVVNUXC4X740YwbChr/PUM09TsVIlDVMKkb/cVUDPu1Ut/NE8nAMtwnmvqoWaV5xZbveqzDvj8NhqvwAAIABJREFUptM2G9Hfp/L4NhtzT8vU6NygqiqTJ06id89XaN6yBQ+1aaN1JBHkJse56LzdhjPzW3D/8mZm3BOCMR/f1XYoYWRfi3CGVbJgyvz/sPmChzpr0xjwh0NmvwSgfXv30uHhhzkeF8fsefN47PHHtY6Ua047fLz3Zwblfkql1eZ0FpxxZ22qa9Ap7EjJuS4hG16JW/JXCe59h5l3D2QwKc6J2we7EtJos24F9xXS8XRpM4Xy6BPYiIgIXn9tCKM/HkWjRo2oVqM6s76bSfzZs3w2YQKtHmqtdUQh8q3K4XrerKznzcoWjtt9LDnrZt4ZN79c8KDiL8Lzz7iZf8aNVa/QtpiBp0uZaFXUmK9vnnPCxZQU+vftx/Zt23h/5Eg6demsdSQR5N49kMHwAxmAfxOokdUsDK1k0TZUgAjRK/yvmoWnSxnp9buDtUn+3fDHHnEy57SbsTWtdIrJm2uhg82iBQt56403qHvffYweN5YCBQpoHSnHeVT4IcHNF3EuVpxz8/dnz3UK6Hm5rJmuMUYicrA/SPkVt6WwSeHTWlZ632HmzX0OFv+WSPT0IRwDRmgdLhecT0pi4YIFLFywALPZwuJlS6hQsaLWsYQQmcqE6OhX3ky/8uZ/LMKOzBHheWfcFDIpPFbSyNOlTNSPMpA3H93lngP799Ozew88Hjez5s6hVu3aWkcSQUwF+u928OlRJwAGBSbfGcILZUzaBgtAlcP1rGkYxqxTLgbuySA+w8fZDB+dt9uYdtLI57WtlA6RJ31acLlcjBg+nLmz59CtR3cGDh6MTpe3/yyO2Xx8fcLFN8ddnM24elOvSKPCE7EmXi5j4s4CubNWX8qvyBYVw3TMrRvKdCWEd4FTg+fiKl4BgPujDEy500q1PLIBhc/no3H9BqSnp3PPvfewceNGihUtRnTRolJ8hQhgVxbhI+k+Zp12MfOUmz/T/Gvikl0qU+JcTIlzUS5UxxOxJrrGGKmaR65duWnJ4sW8+fowatSsyacTxlO4cGGtI4kgN/CPy8XXqleYfW8I7YrLKOb1dI010aaYkbcPZDDhqDNr5K3aag/vVrHQt7w56zQPkfMS4hPo1bMnRw4fZvzEz3mwVSutI+UYlw8Wn3Xz5XEna5I81+wJdH+UgZfLmOgUY8z1o1Pz9qMGkevqR/lvEvvdYcaa+Zf5lwse7lqbxvADGbjywC7u27ZupWbtWjRq3JgN6zfwSq9eNGrcGINBniUJESzKh+l4q7KFAy3C2flAOAMrmClpvfwt8ZjNx/t/ZlBtdRp3rU3jkyNOOT7kBng9Hj7+8EMGvTqATl06M/27b6X4its2ZK+DsUf8xTfUoPBj/VApvjcowqgwrqaVbU3DqZM5smbz+DcrrbsujV0XZUOs3JCRkcFjj3TEbrezePmyPFt8/0zzMmiPg5gVl+i83caqxMvFN8qk0L+8mX3Nw9ncOIznSptyvfiClF+RQ14oY2Jv83BaZG6/7/L51+ncvz6Ng2nB3YBLlynDHXeUZ/PmzXw1dSp9+/dHUeTRqRDB6q4CekbVsHKyVQSbGofR9w4zRcyX/03/dtFL/z8cFP/hEi1+TmfeFRtziKutWrWKGdOn89mECbw1fLg8FBS37a39GXx06PKI79J6oTQqLH+vbtZdBfRsbxrO5DtDCM8c7t110cs969Lo/ptdNsTKYRaLhQ8/HsWCRYsoW7as1nGyldMH8864afFzOlVXpTH68NUPi+sU0DP5zhBOto5gbE2r5rOp5Oohcky5UB0/NQhj6gkXg/Y4SHap7Lzopc66NMbWtPJykK7TKVGiBK/07kXnrl0oWbKk1nGEENlEl3l8UoMoAx/VsLIiwc13p1wsT3CT4QWvCqsTPaxO9FDUrPBUKRPPlzblmSUd2aFV69bcddddRBctqnUUkQe8eyCD9//0b25l0cOSeqE8UERuXW+VToFuZU08WNTAK787+CHBjU+FKXEufjrn4fPaVh4qJiPqOaV+g/paR8hWv1zwMP2kizmn3Vx0X/3wpJhFx3OlTbxY2kT5sMAaaw2sNCLPUYDnS5vY3yKC1kX9F1SbR6XbLjsdt9q4kIPneOUki8UixVeIPMys8x8dMq9uKAkPRTL5zhDqR12+6T7nVBl92En11WlUW53Gh4dy9lzCYCLFV2SHMYedWbs6m3Qwr25o1mwycXtKh+j4/v5QltYLJSZzuccJu482v9h4+BcbJ+wyteV2ORwOrSPkiDMOHx8eclJpZSr1N6QzOc6VVXx1CjSPNjC3bignW0Xwf9UsAVd8QcqvyCVFzQrL7w/l4xrWrPPnFp91U3tNGluTA/tc4NTUVC5duqR1DCGERiKNCt3Kmvi5cRh7m/vXBxe9Ylr0/lQvQ/c6iF1xiad+tfPzhcC+pmWXjIwM4uLitI4h8qDRh50M3OMvDyYdzK8bSlsZkcx2Dxc38kfzcF4uY8ra3X55gjvrgZ4s77g1a1atpmnDRhw4cEDrKNnC5lGZftJF85/TKfVjKkP3OjiUfvkvR5kQHcOrWIh7MIJVDcJ4vGRgHxsYwNFEXqNTYFAFMzsfCKdG5jTB0w4fTTam80nmRhaB5uCfB+nYrh3/e/c9raMIIQJAtQj/+uAzD0VmfZP/64Fehhe+O+Wi4YZ0Kq9K5cNDzqCd3ZJ47tx133/q5Ekef+RR+vbqjaoG59coAtPkOBeDM4uvUQez7w3lYdncKscUNCpMuSuEjY3DqBl5eUOsoXsd1FqTxtqk/PEwLzuoqsrkiZPo2b07DRo1DOq1vT4V1id5eH6nnWI/pPLsDjtrrti8Ktyg8FxpE+sahnGsVQTvVLFQKkiOzwqOlCJPqR6hZ2vTMJ4t7V/z6/RB/z8cvLTLjjOAnjIuX7aMxx55hCJFijBoyGtaxxFCBBD9FdO7zjwUybiaVx/ndjDNx9C9DkqtSOXFXXZ+TQmuHVW3/LKF90aMwGazXfO+jRs20LFde1BVPp80UTb8E9lmeYKb3r/bUfH/G5tWJ4SOJaT45oYGUQZ2PhDOuJpWIo3+f9MH0rw025ROi5/T2X0puK5huS09PZ2e3brzydixDHvzTUaNGYPFYtE61k3bl+rlnQMZVFiZStNN6Uw94SLdc3lac/0oA5PvDOHsQxF8UyeEJkUMBNt3ACm/QhMheoWpdUKYUPvyNOivjrtouCGNUw5tG/BfR3X079OX9h3a8+2sWURHR2uaSQgRuAqbFPqVN7O3eTg7HginW9nLxzfYvSpfH3dx7zr/2uBPjjizbiQCWYuWLZk7Zy4tmzVnxrTpOByOrFGNl194kUaNGzN34QJiS5XSOqrII7Yle+my3Y5H9e8XMuXOELrGBufGmMHKoEC/8mb+bBHO06UuT4Veneg/srLTNhtxtgAapQgQBw4c4OGH2rBnzx5mzpnNcy88r3Wkm3IgzV94K69KpfrqNEYcyODYFX/OlcL905qPtIzg58ZhdCtrIiyID4iWnQOEpl4pZ6Z2pJ7HttmJz/Dxa4qXe9els6xeKHcXzP0dVFOSU+jXpw87d+zgw1Ef8+hjj+V6BiFE8PrrSIf/VVOZdsLF5DgnhzPXRtkGNuNTRxqfoaBXVIw6JaCfmDtdTs4l2BkxfDjjxo4lqlAhTpw4zoBBg+nes4fW8UQeciDNS5tf0rFlPhh6t6qFF4L0RIi8oJhFx/S7Q3ipjInX9jrYluzFp/qPs1me4KHPHSYGVbBcdSRcfrV0yRLeGPo61WvU4NMJ4ylSpIjWkW7ICbuP2afdzDrl+sdR/WizQqcYE0/EGqlXKG/Vxbz11YigdH+Ugd3Nwum83ca6JA8JGT6abEpn1j0hubrOZ9/evbzSvQeqqjJ73jxq1KyRa68thMhbCpsUBlYwM6CCmbWJHibFOdnpdJBeswWO8nUA/xSyOyP1tCxqoEJY4B2XNPqjj0lKSqJkyZI4XS5Onz7NvXXvk+IrstXZDB+tN18+/aFHWTNvVg6+6aJ5UaPCBrY0CWfBGTfD9jk4nO7D4VX56JCTCcdcvFzGxKAKZkpa899EUq/Hw5jRo5k8cRJdnujKO+++G/DnmsfZfCyOdzP/jJstFzz8fQ5SAaNCxxJGusSYaBZtQJ9Hn20E9p+SyDeKmBV+rB/GS7vszDjpwuZR6bjVxie1rPQqZ87x11+0YCFvvfEGde+7jzGfjCMyMjLHX1MIkfcpQLNoA82iDdQ2KjS4/27WVenA6czlHesz/7u3oJ5XK5h5rKSJQJhNtnv3bhRF4fkXX2D+3HlUrFSJ0NBQIiIitI4m8pBUt0qbzZeP1nm4uJHPals1TiWupACPlTTSvriRb064eOdABvEZPmwelXFHnHx+zEnnGBNvVrZQMQCPtckp4z/7jOnTpvPJ+M9o07at1nH+1b5UL8sTPCyLd/PLPxReix6aFzHyeIyRx0oas5bs5GX552+pCHgmHUy7O4ThVfxPfL0q9P7dQb/djqzd5XJCQnwCw99+i5e6vcwXX38lxVcIkSMU4KFiRo63imBpvdCrppJtT/HSdbudUitSeedABska7xKdfOECS5YvY+OGjbTv2JFvZ83EbM75B5Ei/3D6oMNWG79nTrmsH2Vgzr0hAfHwR1zLqINuZU0cbhnO2JrWrNFelw9mnHRRbVUqj261sTbp2oKVF73UrRsLFy8KuOLrVWFdkof+fzgo86N/De/QvQ42X1F8TTpoW8zIt/eEkNQmkmX3h/JMKVO+KL4gI78iwCjAO1UslAnR0e03O24ffHrUyXmXyvS7Q3JkCkax4sVYs3590KzTEEIEN73iH+F6uLiRjec9jD3iZGm8G58K8Rk+RhzIYPRhJy+UNvFqBTNlsvn4CK/Hw6ZNm2jStOm/fkzTBx4AYOGSxYSGhmbr6wvhU+HZHf6lTgBVwvUsrReKNZ/cfAezUINC//JmepYzM+2Ei48OZXDU5sOjwsKzbhaedVM1Qk+vciaeLmUiPI8+zQgNDaVCxYpaxwAgxa2yJtHD8gQ3y+Pd/3jEXrhBoXUxAx2KG3momDFrR+/8SMqvCEjPlTZRwqLj8W02Uj0qM0+50CvwTZ2cKcBSfIUQWmhU2ECjwgaO2XxMiXMyOc7FRbdKukfl06NOJsY56RJjYlglM5XDs2ddsN5gYNGChXy/fDmvDR163eufFF+REy551KyN4EpadfxYP5RCpvx7Mx6MzJkjwS+UMTH3tItxR5xZR7rtT/XS63cHr+/N4LEYI8+UMtEwyoAuSP+IMzIy8Hl9hISGaB0FAI8KW5M9rDznYVWih19TPHj/Ybi9qFmhXXEjHUoYaRZtxCzzfQEpvyKAtSxqYF2jMFr+nM4Fl8qMky6cPpVv7w7FeIv/gFVVZd/evVSvIZtZCSECR7lQHR9UtzKskoVvTrgYc8TJSbsPd+aUwoU/rubuAgaeLGXijtDbv4MpW+4Oxn/6Cd8vW85DbdvwSu/enD1zlvoN6su5vSLHFTQqbGgURvffHAypaKZUNs9uELnHoMATsSaeiDWxPcXL+KNO5p524fRBqsd/1NvXx12UCtHxVKyJp0sZs+1B3u1yuVwYjcbrXvNOnz5Nrx49qVy5Mh+O+jgX013tSLqPlYluViV6WJvoIfVfjswrH6ajYwn/Gu16hYL3gUNOkvIrAtpdBfSsbhhGi03pnHepzD3txuG1Ma9u6E0/wbLb7Lw2eBDr1qxl3aaNcnavECLgRBj9Zwa/Us7MzFMu/u9QBgfTfBT7qj+nVZUPs/n1XC4XixcuYu3qNaSmpjJ63Fjad+iQza8ixLXCDArf3RMYI2kie9xbUM/0u0MYVcPKl8edfHPCxZHMEf6Tdh8jD2Yw8mAG1SL0tM8ckby7oF7TI9+GDn6NIcNep1ChQte8b9vWrfTt1ZsiRYrQq0/vXMukAgfTvGxJ9vLLBQ9rkzxXnbt7pVCDQqMoAy2LGniwqIEqAfJgIZBJ+RUBr3akno2Nw2i2yUZ8ho9l8W4e3Wpjft0QLDc4B/p43HFe6dGdpKQkpnz1lRRfIURAM+rg2dL+NXPfJ7h5FUjs+h7ptZpnfUzTInreqmyh7i2cwbhowQLefvMtqlarhsNu59y5cwCUKFEiu74EIUQ+FW1WGFbJwuuVLGy54OHbU27mnHZlbeS3L9XLvlQvIw9mUNKq4+FiRh4saqBxEQMFc3Et6gmXgWTVQLMmD9C3Xx+6dO2KNSQEVVWZMmkyY0aN4qE2bRj5wf9hDcm5BzXpHpVfU7xsvuBha7KXLcmef930UKf474tbFjXSItpA/SiDTGe+SVJ+RVCoEq5nbcNQmm2ycTbDx/cJbh7Zamfhff4CnOFVueSBQkblminRa9esZdCrrxJbqhSLli4lJiZGmy9CCCFuki5zc6wBwIAqYSyPDmXnRf+6urWXYO02L82jFUZUsXB/1LXf0pOcKicdPgoaFcpdMV1608ZN9OzVi/lz5xIWFsYX33zNk5275NaXJYTIBxTg/igD90cZGFvTyg8J/hL84zkPl9z+cnfG4eObDTtZtGkWCv4p8cWsOoqaFYqYdeREFz5p97HrohebV0WXlkJI6iX+9977jPtkPE907czRI0fYsGE9AwYNyvZzzd0+OJDmZfclL9uS/YV3T6r3H9fs/qWkVUeLaAMtow00jzZSxCxzmW+HlF8RNCqH61lzRQFecc5N403pmHUKmy948Klg0im0LWbg/6pbqRCqMGXSZEZ//DHtOrTn/ZEjsVgsWn8ZQghxS+4uqOedB8L5+YKH4fszWJu5U+7qRA+rE9NpHm1gdA0rNSP17Ejx0m+3nS3J3qzjLWJDdPyvqoUnSuioWbsWn4wZS6MmjRk9diwZGRnafWFCiDzPrIOOJYx0LGHE5YP1SR4Wx7tZGu/mUnI8YTt/wFatESkZkJIGBzJ/X5hBoYBJoYDR/1+4Hgy3sZD1qM3H/lQviqKgqCq6jLSs9120FGDmvIXYkpN48+23ee6F52/5dbwqHLf7OJjm5UCajz2pXnZf9LI/zYvrn2cwA/411LUi9dSLMlCvkJ77owzZvuN/fiflVwSVyuF6NjcJo+nGdI7bfWxP9qIooGbe3bl8Ksvi3axIcNN8yySOLPqGYW++eVsXMCGECCQNogysaRjG2iQP7/+ZkXVczOpED3XWptGiqIFViS5Af9V5m6ftKs9tTWHqjx9wesMyevXpTe++fdHpdFJ+hRC5xqTzb2rasqiBCbWtTE63Mgq4+40JbDzv/dfNnP5SOkRHpXAdVcL1VAnXUzZER2yIQimrjtDrHK30+yUvd61Ny7pnBCg6Yygupw1b7QeJ3PAtFyOjMZJEterV/vPrSHb5Z9actPs4br/846E0H4fSvTivU3L/UtikXFV07y6gv+7XIG6flF8RdMqE6Jh0ZwitNqcBylUXMQC3Cm6fjxW1n2Jdp9Y0qFNLk5xCCJGTHihi4IEiYWy+4OG1vRn8csGDR4UVCR5AB1x9cTScP0mxqQM4duk8A8Z9SZ+Hm2gRWwghsij4yyzA0nqheFHYmeJl43kP21M8/Jri5YT96hZ5wu7jhN3HynOeaz5fAaNCjFVHcYtCQZNCIaPO/6NJYclZNzoVvJkfq3PacUeXIbltf2I/6ICzVHUUlwOAJfEu1h5ykpp59Nwlj0qSU+Vcho9zTpUkp++Gyu2Vilt01IrUUyvS/2OdggYqhsmobm6T8iuC0tzTLgyKwr8+HFR0YAljR2QRGuRqMiGEyF31owz83DiM+Wfc9PrdTpLzny6MKpZju1D1JuIHzuTHqFL0yfWkQghxfQYF6hbSU7eQHjADkOhU+TXFw84U/7ThP9N8HEz3kuG99vdfdKtcdHvZm/rfr+UzWUlp/hKhf6zGXagklqM7SW3YBfOp/Yw57MLhddx0fp3iL/MVw3RUDtdTOVxHxTA9NSL0slY3QEj5FUFp7Xn3vxffTF5VZeN5D/3Lm3MnlBBCaEQBHi9pZMlZI7NOu/H9fUoMCmn3tif97jaoOgNbkq8dMRFCiEAUbVZoU8xIm2LGrLf5/lpTm+7luM3HaYfKKYePUw4fZxw+Ep1q1qZa/0afnkzxKb0wnzmY9bawnSv+9eOteoUiZoViZoVos44iZoVSITrKhOgoFaKjdIiOWKsOkwzmBjQpvyIoOTwKf5/S93cqCmn/1ZCFECIPcftU1GuK72Wqzv9t3329rUWFECLA6RQoF6q7ahf7v/OqkOJWSXappLhUhu7LYNN5N7qkU7gLx+INj+Js728I37aQAhu+w5AST/p97anRpBWfNKpKsQJhhOkVwgwQaVQIk7W4eYI8mxBBqXKE7j8PRTfpFKpFyGHfQoj8o0akHqNewXT2COZT+//14yx65V+mRwshRN6gV/wbSlUM01G3kJ5h5fUUnP9/xH70GIZLiQD4zFYuNXqSk68vJrl1L0xxfzCq3b20KRNJnQJ6KoXrKGnVSfHNQ6T8iqD0XCkT/zXy6/KqPBlryp1AQggRAJ4qZcK68wdKfvoMBdbP+NePO+9SqboqlS+Ou/BJBxZC5HGJ587xRe+nKLRrOUlPvIcnMvqq96sGExdbvES7AW9TXm/XKKXIDVJ+RdBxOp38OfEdLEd3oVP/YbeDTCEGheIWeVInhMgfvB4P8z77mMLTh2Gv3ghnqerXfIxe8a9bA38B7rbLTqON6RxK+/drqRBCBLMdv+6gw8PtSL5wgSWLFjH0yXZYMq+Dfw3ohhkUPqll5fOH7yQ8PFzDtCKnSfkVQSU+Pp6unTrx4/JlzK4Fj8VaUACj4j9A3aCAknkhs3tVHt1qI0PWtgkh8riU5BSef/Y5pn49lQdbPUjB/RsxxpRDUfzXRx0qegV6ljNz5qEIhlexYMlcFbL5gofmm22A/6g4IYTIK2bPnMVTXbtSvUZ1Fi5dQuXKFRlWyUJimwiW3R/KxDtD+KF+KOfaRNDnDtkgNT+QDa9E0Ni2dSt9e/WmSJEiLP1+OaVKl6Yd8FZlLyvPeUhyqZSyKrQsauT5nXY2nfewPcXLy785mHF3iNbxhRAiR+zds4ce3bpjS0/HZDLx048/ERISQvfULZzZsoU0j4pZBzFWHSG7FT5b5H/y3dOtsjbJwxmHD8XlBODlXQ6+rOChXiG5PRBCBC+n08nwN99iwfz5dOvRnYGDB6PTXR7zCzcotL1i92iRf8h3NxHwVFVlyqTJjBk1iofatGHkB/+HNeRyma0eoaf63za2mntvCPesS+e0w8e3J13UitQzqII80RNC5C2LFizkzWHDqFK1CiEh5djyyy8A6PV6Dh04APiLrhuI+4ffXwko4FQ5bvORUbY2p7xWGm5IZ0hFC+9UsWCU+WFCiCBz9uxZevXowamTp/h62lQaNmqkdSQRQKT8ioBms9kYMngwq1auZMCgQXTv2eOGfl8xi44l9UJpuCEdu1dlyF4HVcJ1V50RJ4QQwcrlcvHO228zb87cq0Y1Dh08xKfjxvHjihW88dZb1KxV84Y+X0KGj767Hcw74wYVRh7M4KdzbmbcE0KVcNk1XwgRPD4b9wler4/Fy5YSExurdRwRYOSZrgho8WfPsn/ffr6dOfOGi+9f7iqgZ/KdVsB/GPoT2+3sT5VNXYQQwc/j9nD40GE++3wCg4cMyZrOV7FSRcZP/Jyvp01l88+bbvjzFbPomFs3lPl1Q4ky+TdO2HnRy11r0/jwkFN2hBZCBI23hg9n7oL5UnzFP5KRXxHQyleowKo1q9Ebbu2v6lOlTOy+5GXUYSepHpVHttnY2iScAkbZBVoIEbzMZhONGjemevVrd3QGaNS4MffWrXvTn/fRkkbuKxTO8zvtrEr0kOGFoXsdrEtyU9yrIotHhBCBLiRU9nkR/05GfkXAu9Xi+5cPqltpVdQ/3flgmo+nfrXLKIYQImj9vGkT7dq2ZcP69dcd2bBYLLf0+UtadfzUIIzJd4YQknkcyE/nPKw77+GcUy6eQojAceTwYdLT07WOIYKIjPyKgHExJYVt27bxYKtW2fp59QrMuTeEehvS2Z/q5fsENx8fdjKkooxhCCECn91mB2Dvnr188+VX7N69G4CatWoyoF//HH3tLm6VXy54SHGrcGIf63V38tEhJ4MrmpH5M0IILf2w/HuGDnmN5194gVcHDtQ6jggSUn5FQNi3dy+vdO+B3mCgSdOmmM3ZW0wjjArz6/p3gLZ5VN7a76BRYb0c5yGECGhxcXH07NadggULUrhwYWx2e9b7XC43NrstR1/fADSIgP2pPo7FVCEjtipD9jrYdN7D9HtCKChLSIQQuczr9TJm1CimTJpM565d6N23r9aRRBCRO3+huSWLFvPmsGHUqFmTTyeMz/bi+5cq4Xo+q2XlhZ123D7ovM3Ob83CszZ3EUKIQLJ2zVoGvfoqsaVKsXDpEmJiYnjhpRdZvWoVH/3fB4SHhzH5iy9yLc+Mky56/OYAr8ryBDd3r01j4X2h1IqU3aCFELkjJTmF/n37sOPXHYz88AMe79RJ60giyMiaX6EZr8fDxx9+yKABA+jUpTMzvvuWwoUL5+hrPl/axDOlTACccvh4bocdWcEmhAgkqqoyeeIkerz8Mg80b8ac+fOIiYkBQKfT0fLBB/lh5U/cVacOp0+fzrVcT5cysfOBMKplnqt+zOajwYZ0lsa7cy2DECL/2rd3Lx3btePY0WPMmjtXiq+4JVJ+hSYSz52ja+cuzJg+nU/Hj+et4cNve2OrG/V5bSuVM8+tXJ7gZvxRZ668rhBC/JeLFy/ywrPP8cnYsbz7/vuMGjPmHzeuMplMDB4yhGLFiuVqvsrherY0CeOxkv5NBNM9Ko9stTHuiFxHhRA5Z9GChXR+7HFiYmNZvHzZDZ9hLsTfSfkVuW7Hrzvo8HA7ki9cYP7CRbRu81Cuvn6oQWFu3RCsmbuYDt7jYNdFOf9XCKGtAwcO0LFdew4dOsTMObPp8kTX//w9hlx6aHiTpRwdAAAgAElEQVSlcIPC3LqhDK9iQQG8Krz6h4Nuu/xLSoQQIru4XC7eGzGC1wYN4tnnn2PatzOIiorSOpYIYlJ+Ra6aPXMWTz/xBNVrVOf/2bvPgKauPgzgTwaE4cStuGetAzqss84O9951720dte5qLUoVtxX3XiiCYB0dblv3xD0QJyiCshOS3PcDSPUVlZFwkpvn96lNcnOfIPlz//fce87OgF0oV76ckByVc6gwp3LSaIrWCHQ8FYuoRF4ATURi7PL3R/vWbVCkSBEE7vkdbu7uoiO9lwLATx85YN1nTtAkH0msuKdD839jEK1nLSUi07h79y52BwRi6fJlGDtuHFQqzjFAmcPml7LUxYsXMXzkCCxbuRI5cuQQmmVwKU3KpXu3Y4wYfCFeaB4isl2JiYno2q0b1m1YDxcXF9Fx0qxbMXsc/DIb8mv+Ww+4wdEYPNexASaizKtQoQIOHTuKRl99JToKyQRne6YsNdNzlugIb1jxiRPOvohGcKwRmx7o0KKQHTq42omORUQ2pl379qIjZFgNFzX+qZcdjY/H4FaMEWciDWh0NAZ/1M6GfBrOpk9EmePo6Cg6AskIR37JpuWyU2DT505Ivv0XQy7EIUzLEQsiovQo7azE0brZUSV52aMLLw348kgMHsbzJmAiSpv4uDgcP3ZcdAySOTa/ZBaSJGHN6tV4ERkpOsoH1XBRY0zZpLWFw3US+p+LE5yIiORs4/r1uHjhgugYJldAo8CBOtnwWe6kBvh6tAH1jsQgJI4NMBF9WLs2bfDDmDGIj+dtaGQ+bH7JLGZMnw5Pj5k4e+as6ChpMq2iIyonr10Z8CQRG+/rBCciIrmRJAk7tm/H9J+m4eKFi6LjmEUeewUO1smG+vmS7qq6E2tEw6MxCE1gA0xEqbt65QoAQK22w7btPrzMmcyKzS+Z1IMHDwAA165ew9oN69Hwq0aCE6WNRgms+8wJdsnfiKEX4/GAl+sRkYk8efIE8XFxuHblKpZ4L0X3nj1ERzKbbGoFAms4o8FrDXDj47F4yRn1SW4k/k5nhiRJWLbUG95LlwIAtm73gWvRooJTkdyx+SWT+evPPzF88BAAwOKlv6F6jRqCE6WPey4VJpRPWv7oZaKEPmfjwD9rRJRZJ0+cQKtmzQEoMGTYUHz19deiI5mds1qBwJrOqJknqQG+8NKAxsdjEctlkEhmFApO6pYRMTExGDxgIBbMm4c2bdsC4MRWlDXY/FKmGQwGzPb0xKD+A1CvQX0AsKqlOl43qYJDyv1qfz7VY9U9Xv5MRBnzalSje9fvULNWLTg6OcIlTx7RsbKMk0qBgBrOqJh8S8m/EXp0OhUH9r9Etu369eto0bQZLl26hE1bt6Be/fqiI5ENYfNLmRIZEYnePXpg7eo18PCchRHffy86UqaoFcDqT52gSf5mjL4Uz8laiCjdYmNjMWzwEMz1moNRY8Zg3sIFNjlClMdegX21nFHMKamo7g5NxPeXOJkNka0KDAhA+zZtUaBAfvgHBsD9k09ERyIbw+aXMuxKUBBaNG2KkJD72L7TF+07dBAdySQq51Dhp4+SLn+O0ksYcJ6zPxNR2j188ACtm7fA2TNnsHHzZgwYNFB0JKGKOiqxv5Yz8tonNf+L72ixNoRX1RDZor/++BOdOnXCxs2bkS9fPtFxyAax+aUM02g0qOrmBv/AAFT8+GPRcUxqbDkHfJ58+fP+MD22PUwUnIiIrIWLSx64f/IJ/AMD8Hm1aqLjWIQK2VXwq+GcMqngoAtxOBVpEBuKiLLcvIULMHHKZKjUatFRyEax+aUMK1O2LBYv/Q25cuUSHcXkVApg5Sf/zf488lI8XnCmUiJKAydnJ3jOmY0CBQuKjmJRaudR49dKSRPaJBiAVv/G4jGXQCKyKUolWw8Si7+BRO9QJacKw0prAAChCUZMvJIgOBERkXUbWUaD74rZAwCeJBjR9XQcjDyvSCRL/jv9EB0dLToG0RvY/FKanDxxAps3bRIdI8v9XNEBJZInavEO1uLfCL3gRERkSYIuX8bUyVMgcb3PNFvh7pgyq/6hZ3rMva0VnIiITEmr1eLHsT9g7OjROHL4sOg4RG9g80sftHrlSnT/7juc/PeEzR3gOakUWOKWdJmeUQIGnItHIq/SIyIAvjt2oGO79rgXfBfxcZzBOK0cVApsreYMZ3XSBFiTr8bjShTv/yWSg9AnoejSoSP27d2LJd5L0bRZM9GRiN7A5pfeKS42DiOGDoPnzFkYMnQo5i9aaJNLdTQpaIdWhe0AAJejDFhwh6MURLbMoNdjtqcnfhz7Azp16YzVa9fCydlJdCyrUtpZidmVkmbVTzAA3c7E8cQikZU7dfIkWjVvjpiYGPj6++Hrb74RHYnoLWx+KVUh90LQvm0bHD9+HKvWrsXwkSNtsvF9ZYmbI3LaJX3+qVcTEBzLozQiW/Q0LAydOnTEhvXrsWjJEkyeOpWzlmbQwFIaNC6QdGLx/AsDfrnBeRWIrJEkSVi7eg26de2K6jVqwD8wAKXLlBEdiyhVbH7pLYcOHkSbli2hUqnhH7ALtevUFh1JuMIOSkxLXvs3ziBh+EVe4khka86cPoNWzVvgRWQkfP388G2TxqIjWTUFgOWfOCJX8olFjxsJuB7Ny5+JrElcbByGDx2KmR6/YNToMZi3cAEcnXglDFkuNr+UQpIkLFvqjf59+qJeg/rYtmM7XIsWFR3LYgwtrcGnuZImadkdmoi9YVz7l8hWbN28Bd917oxKVSrDd5c/ypYrJzqSLLg6KjG3StK8ColGYPRljv4SWYu7d++idcuWOHXiJNZv3IgBgwba9FWCZB3Y/BIAQKfToV/vPpg/dy5++nk6vObNg6Ojo+hYFkWlABa7OeJVWR91KYH3qBHZgPHjfsTUyZMxctT3WLZiBXLkyCE6kqz0LG6PasmzP+8JTcQ+nlgksgoJ8fHImzcvdu3ejS+qVxcdhyhN2PwSAMDe3h4VPvoIW3y2oUvXrqLjWKzqLmp0TV6j8nq0AUvucvIrIrmrWasmVq1dg4GDB3NUwwwUABZU5YlFImtT8eOPsWnrFhQsVFB0FKI0Y/NLKcb8MBZu7u6iY1i8WR87IFvyEh3TriXgmda2ln8isjXNW7RA7Tp1RMeQteouanQumnRi8Vq0AcuCeWKRiIhMj80vUToVcVRiXDkNAOBFooQpV3mPGhFRZnlWckhZ+3fG9QTEG3hikchSXL1yBbv8/EXHIMo0Nr82KDw8HKNGjERkRKToKFZrTFkNSjglfX1W3NPiuY4HaUTWLjo6GkMHDcb5c+dER7FJro5KDC6VNPobppWw7r5OcCIiAgD/nX7o0LYd/P38IEk83iHrxubXxlw4fx4tmzXHhQsXEBoWKjqO1XJQKfBr5aQJwQwScPy5XnAiIsqMmzduonXzFjjHxleo0WUd4JA09xVm39RCz+NsImEMej1me3pizKhRaNWmNVasXsV5D8jqsfm1IVs3b0HnDh1RunRpVK5SGcWKFRMdyaq1L2KHunnVAIBH8UaEc/SXyCr9vns32rZujTx588I/MADun3wiOpLNKqBRoHvypIJ3Y43wfcSZn4lEiIiIQI9u3bFh/XosXLwYMzw8oFarRcciyjQ2vzZi1YoVmDxxIj6vVg1XgoKgUqrg7OwsOpbVm1/VEarkk6B3YgzQcYZSIqthMBgw29MTI4cNR8tWLbFxy2bkz59fdCybN66cQ0pdnXkjATytSJS1zp45g2bfNsaTJ4+xY6cfmjRrKjoSkcnwFI7MPQ17CgA4dPAgFEoV/jl+HABw7dpVdGrf3uT7S0hImqFz3JixcHR0MPn7WyK3GCOeP7qPhHzFsfSuFiPKaERHIqIPiIyIxMjhw3Dm9BnM/NUT7cxQDyljSjkr0aawHbY/SsTFlwb881yPWnl4uEKUFbZu3oJpU6eidp068Jo/j+uak+zwr4mMnTp5EsMGD0XOnDnw0UcVcffuXTx9mtQMFyhYECVLljT5PqNeRiHo8mWUKlUKuXLnMvn7W6ISBmBDvnKIdSmGGdcT0Ku4PXLY8Z4YIkt1JSgIQwYOgtFoxBYfH1SpWkV0JPo/Q0prsD35kud1ITo2v0RmptfrMX7cOOzy88fwkSMxZNhQ3t9LssS/JjK13ccHk8ZPwLeNG2PWr55wdHICkNQQz5j+M5QKJaZOm2by/d65cwe7/P0xYPAgVKhQweTvb6nUVxPwy/UEQCfB67YW0z6yjVFvImvzz/Hj6NurN6rXqIG5C+YjVy7bOElnbb7Mq0ZpZyXuxBqx7WEi5leV4KTigTiRuajVajg6OGLF6lWoW6+e6DhEZsN7fmXqk08/xfiJE7Fg8aKUxhcAqn3xBfwCdqFa9S+41JEJjSunQX5N0oGZ1y0tQhN48y+RJXJ3d8cPP/6IlWtWs/G1YAogZeKrKL0Ev8ec+IrI3Kb/MoONL8kem1+ZKl26NHr27pXqcyqVCgMHDbKZy5KzQna1Aj+WTxrtjdVLmHFdKzgREaXG0ckJPXv3glLJP3+WrkdxeyiTB3vXhXDNXyIiyjz+9bdhvJfDtIaU0qCUc9JXavk9LW7HcPSXSDRJ4lzB1qq4kxL18yXdnfX3Mz2vqCEykZiYGEybOhVRUVGioxBlOTa/Vk6SJCxb6o2Vy1eIjmLz7JXA1OR7fRONwOSrCYITEdm2rZu3pExsRdapo2vSpc9GCdgXphechsj63b51C21atMS+PXvx6OFD0XGIshybXyv24sUL9O7REwvnz0fOXDlFxyEA3xW1h1tOFQBg20Mdzr4wCE5EZHviYuMwYugwTJ08GVXd3HiVixVrXECNV/96e8N43y9RZvz9519o36YtnLM5w3eXPz6qWFF0JKIsx+bXSl27ehWtW7TErVs3sXnbVrTv0EF0JAKgVAA/f5w0+isBmHAlXmwgIhsTci8E7du2wfHjx7Fq7VoMGDSQza8Vc3VUonLyCcX9YXokchCfKN0MBgMWzp+Pgf37o2nzZvDx9UXhwoVFxyISgs2vFdrl748ObduhYMGC8A8MRFU3N9GR6DXNCtqhTt6k+9T+CNPj2HNeqkeUFQ4eOIA2LVtCpVLDPzAAtevUFh2JTKBJQTsAwMtECSciWE+J0uNFZCT69OyJZUu94TFrJmZ4eMDOzk50LCJh2PxaEYNej9menhg98nu0bN0KGzZvQt68eUXHolR4fPzfOr/TrvHeXyJzejX3wYC+/VC/YQP4+O6Aq6ur6FhkIo0LqFP+ew/v+yVKs6tXrqBVi5a4c/sONvtsQ/uOHUVHIhJO/eGXkCWIiIjA8CFDcenSRSxcvBhNmjUVHYneo3YeNernU+PgMz3+eqrHkXA9vszLrxuRqcXExGDsqNE4fOgQJkya9M4l3sh61cyjRg61AlF6CcfC2fwSpcXe3/dgzKhR+Lza55i/cCFy5c4tOhKRReDRuBUIDw9HiyZN4ezsDF8/P5QtV050JEqDnys6oPbhGABJo79/18kmOBGRvBgMBnRo2xYvX0Zh87atcHN3Fx2JzECtAD7NrcLBZ3qce2GAXkp6jIjerUTJEujTrx9GfD8SKpVKdBwii8Hm1wrkzZsXQ0cMR/MWLZA9e3bRcSiNauVRo0E+NQ480+PAMz0Oh+tRl6O/RCajUqnw44QJqPjxx7wFROaqJTe/cQYJQVGGlFn1iSh1H1WsyNmciVLBe36tRJeuXdn4WqHpFXnvL5E5fVm3LhtfG/B57v9OHJ6K4BJyRESUMWx+LZAkSaIjkInUyqNGw/xJB20Hk0d/iShj9Hp+f2xVNZf/RnpPR/L3gOh1a1avxqaNG0XHILIKbH4tzIl//0XrFi3x/Plz0VHIRKZ/9N/o76QrHP0lyojz586hUb36OH/unOgoJEBRRyUKOSQdspyO5MgvEQDEx8dj1IiRmPWLB+Ji40THIbIKbH4txKulOnp81w0lS5aEk5OT6EhkIjXzqNEoefT32HM9Dj3jqAVRemzdvAVdOnZCmbJlUap0adFxSJCqyff53ogxwMgLpMjG3Q8JQfvWbXDkyBGsWrsG/Qb0Fx2JyCqw+bUAsbGxGDZ4COZ6zcGoMWMwb+ECODo6io5FJvTTa6O/v9zg6C9RWuh0Okz48UdMnjgRvfv2wfJVK5EzZ07RsUiQMtmSDlkSDMDjBKPgNETiHD50CK1btIRCqYR/wC7UrlNHdCQiq8GpZwW7e/cuBg8YiIjnz7F2/XrUqFlTdCQyg1p51KiXT41Dyev+nojQo7oLv35E7xL6JBRDBg7EnTt3sMR7Kb7+5hvRkUiw0s7/na+/HWOEqyPP35NtkSQJy72XwWv2bDRv0QIzZnpwsIQonfiXQ6C///wLbVu2gqOjA/x3B7Lxlbnx5f4b/Z19UyswCZFlO3XyJFo1b46YmBj4+vux8SUAbza/d2I58ku2JSYmBkMGDsJcrzkYPXYsvObPY+NLlAFsfgUwGAxYOH8+Bvbvj6bNm8HH1xeFCxcWHYvM7OsCanyWO+meNb/HibgSxUlbiF4nSRLWrl6Dbl27onqNGvAPDEDpMmVExyIL8eqyZ4DNL9mWiIgItGrWHBcuXMCWbdswYNBA0ZGIrBavuxRg2pSp8N2xA55zZqNN27ai41AWGlfOAe1PxkICMOeWFms+5cRmRK+sX7sOMz1+wbgff0Tvvn1FxyELU8pZBaUCMErA7RiePCTb4eLignYd2qNt+/bIly+f6DhEVo3NrwA9+/RGx86d8HGlSqKjUBZrU9gOFXOocDXKgE0PdG9MhEVk6zp07IDKVSrjk08/FR2FLJBGCRTQKPEkwYhHCZzumWzLwMGDRUcgkgVe9ixAqVKl2PjaKKUCGF1GAwBINAJzb/HeX6JXHJ2c2PjSe+W1VwAAnut42TMREaUfm18zS0xMhCTxDDX9p1sxexRzSvrqrbyn43qVZJMMBgPi4+JExyArk1eT1PyGa1k4SZ6uBAWhS8dOeBEZKToKkSyx+TWjsNBQdOnYCSuWLRcdhSyInRL4Pnn0N84gId7AgziyLS8iI9GnZy+MGTVadBSyMnmSR34jEyWwdJLcbNuyFe3btIWjoyMUSh6iE5kDv1lmcub0GbRq3gIvIiPx8uVLjnDQG/qVsE+5fC/eIIFX8JGtuHb1Klq1aInbt2+h/8ABouOQlclrn3TYYpSSGmAiOdDpdJg4fjwmTZiAXn16Y/mqlciZM6foWESyxObXDLZu3oLvOndG8ZIl4JwtG+7fD4GjE2f1pf84qxUYWjpp9FeCAici9IITEZnfLn9/dGjbDoUKFYJ/YCCqurmJjkRW5tVlzwAQruVZQ7J+oU9C0blDR+wOCMTipb9h7LhxUKlUomMRyRZnezYhrVaLIQMG4vDhw8iZMwfOnj4DSZJQqmQpLFqwUHS8LBEZGQEA2LJpM/LmzSs4jWXT6CXkv62DIjEBB57pYZAAleLD2xFZG4Nej7leXli21BudunTGT9OnQ63mnx9KPxf7/4pkhI4jv2TdTp86hWGDhyBHjhzw9fdDmbJlRUcikj0efZjI48ePMWTgQNy+dQcOGg1evoxKmejq3LmzCAq6LDhh1tAlJgIADh88CHt7e8FpLF+BBCNe5iyACFU2BDxJROvCdqIjEZnU8+fPMWLoMFy6dBELFy9Gk2ZNRUciK6Z57Xo13i5C1mzr5i34acoU1K1fD3PmzkX27NlFRyKyCWx+TeDwoUMYNWIkChcpgr1/7INr0aIICw3FyhUrsXH9ejRu2gTjxo8XHTNL3LlzB980bATvlStQoUIF0XEs3o1oIyr+FQWjlLTsEZtfkpOzZ85g2OAhcHJywo6dfihXvpzoSGTl7JT/jfzyll+yVh4zfsG6tWswZuwP6Nu/HxQKXvZFlFV4z28mXbt2Df1690GDRg2xfacvXIsWBQAUKFgQEydPwu59exFyLwRGo7hT1AkJCVm2/1ej3Vm9vJMkSUhISBC2rJRer0di8qh3epTPrsS3BZIa3mPP9TgZYUh5Liv/3YhMLSoqCn179UblqlXgFxjAxheA0WiETqfL0LaPHz9GfHx8lm/7uoiICERGiF1+5bWrnqHjOnFkpVq3bYO169ej34D+bHwBXLp0CUDWHzv+9eef+LSqm2yWJI2MiMSnVd1w5vQZ0VEsGpvfTProo4+wYfMmzPbygoODw1vPly5dGgsWL8rwAU9mRUREoFKFj3Dq5Mks2d+DBw8AAPfu3cuS/b1y6dIlVKrwER49epSl+33l55+mocd33TK07ajkZY8AYN7tBABAdHQ0KlX4CMePHTNJPqKsliNHDmzdvh3ey5fzcr5kcXFxuHjhYoa2rVurNv7+668MbVu/zpf4848/MrTt6yb+OB7Tpk7N9Ptkht1rRy2JPDdIVuqjjz5CjZo1RcewGAa9mEk/E3WJePnypZB9m4MECS9fvoRen/7BGFvC5tcEvqhe/b3P29nZpdoYEwFAw/xquOdKmtlxx6NEBMfyiI7koXyF8hzVIJOy52XPZGV4BReRZWHzm05RUVGiI5AMjUwe/TVIwOK7WsFpiNIvLDRUdASyAXZvTHjF7pcs28uXL9Gvdx+sW7NWdBQiSsbmN40Mej1m/uKBJt98g7jYONFxSGY6udqjsEPS13FlsA4xhg9sQGQhJEnCb4sXo/6XdXHnzh3RcUjmXl8OzsDelyzYtWvX0Kp5C1y/fh1V3aqKjkNEydj8pkFkRCR69+yJjevXY+SoUXBydhIdiWTGXgkMLZ20NFSUXsKmR7xMiixfbGwshg0eggXz52PE99+jdOnSoiORzL2+vJFGyUvqyTIFBgSgQ9t2KFiwAPwDA+Dm7i46EhElY/P7AVeCgtC6RQsE3w3GFh8ftGvfXnQkkql+JTVwSLr1F94PJEDBrydZrrt376Jtq9Y4dfIk1m3YgAGDBoqORDZA+9pwr8bKSiTv/ZQ/g16P2Z6e+H74CLRs1RIbNm9Gvnz5RMcisjqPHz/Gti1bMzVhcGREJA4eOIArQUEpj8XFxrH5fR8/353o2K49SpUujYA9v6NK1SqiI5GM5bVXoJNr0ujvnTggruwXghNlzOlTp7F18xboMzh747uK1f59+4Qvs0JJ/v7zL7Rt2Qo5c+bE7r17UL1GDdGRyEZoXx/5VYnLkRHhz57BY8YvuB8SkuH3YH20XBEREejZvQfWrVmLX73mYIaHB9RqtehYRFapcOHCsLO3Q50aNbFsqTcSEhLStf2F8+exOzAQUyZOQo9u3WEwGBAeHo6+vXuz+U2NTqfDpAkT8MOYMejRqydWrF6FXLlyiY5FNmB46f+WPYqq00lgkoz7vNrnuHHjOhrWrZfuJvh9xWrE0GHY5e9vxuT0IQaDAbM9PTGwf380bd4MG7dsRv4CBUTHIhuiteLLnvMXKIB69euhyTffYsyoUeluglkfLdflS5fRqllzPH78CL7+/mjTtq3oSERWr03btvj6m28w29MTdWvVTlcT7Obujm49uqNTly54ERmJoMuXsWjBQqxcvRo8JfV/nj19iv59+uLWzZtY9NsSfNu4sehIZEPcc6lQM48a/zzXI7ZibTw23BQdKUMmTZ6MmzduYtKECVi6ZAkGDRmCdh3af/AsuJu7O9zc3REVFYV5Xl4IunwZO313YuXq1QDA++0FiomORp+ePXH61Gl4zJqJ9h07io5ENkj72gzP9lZ4+r5mrVoYOWoUZnl4YHdAIJq1aI7hI0agWPHiH9yW9dEyxcXFo0PbtqjzZR3MmTcPOXLkEB2JSDamTp+G27dv4/SpU5jt6YnVK1eid9++6NGrZ5qWkX21HO1PU6ZgtpcXnJyd0t78xsTEwGCQ7xS0MTExAIAJP45HVFQUNm7dgmLFiln94tevlmaKiYnJks8SF5c0E3Z8fHyW/uxiY2MBANHR0UL+zXQ6HfR6vUn23bughH+eA1AosT0mJ7610t/BGTM98F2nznj06FG6m+DUipU1ePz4MSRJXlPQxsYkfbe2+2zH7Vu3sXjpbyhXvjwePXokOJl1io+Py/DPLjIiUsi2ryQkJMAoGYX+2z+NsAOQdHvIy/BneJRgfffRNm7aBOfPncP+ffvgv9Mv3U2wNdbHX6b/jJ2+vqJjmFx8fDyMRiPsNfY4e+Ys6tf5UnQkq6TT6aBQAJ+7f5Kl+zUYDLCzU+MzN3lMSCZJEuzs1BjYvz9USiu7L+Q9jEYjNBoNtFotnj9/jtmentiwfh1meHigXv367922StUq0Gg0KFy4CMqULQsAUEhpPFL7pmEjLmNBlAUkpRr3J/8Ofc78UMZHo/i0b6DUxYuOlSHZsmVLObH0SokSJbBq7VoUL/HugzydTgf3ylVQr359LPFeau6YJlOmREnREYhkLaFEFcR+XA+Sxgm5DqyB+kWY6EgZpnFwgPa1S/js7e2xaMkSNPyq0Xu3s8b6ePrUady5fVt0DJML3LULz549Q+++fUVHIZKt48eOYu+evSn/71q0KAYOGoT2HdpD9YHBFIPegHp16iB7juzYs38/AKR95HfilMkpIwBydOvmTSxcsAAzPT2RLVs20XHIxm3Sa7HJABgds6PZnI1orAoVHSndjAYDfvvtN9y4fh0AoFQq8U3jbzHy++/f2/gCgEqpgouLC4KD72ZFVJPx3eUPyGzkNy4uDt26dMXkqVPh5u4mOg7Rf7pb56SAALB82XLs3/vfwVyt2rUw5odxqFyl8ge3tcb6+Hm1z/F5tc9FxzAJrVYLjSZpfo5rV69CoVSiU5fOglMRydM/x49j6pQ/AKSv6X1l+TJvlChZEidPnEBUVBRy5MiR9ub3y7p1M5bagj158gQFCxaEQqFAbpfcwAKg4VeN4OLiIjoa2Tj3BCO274uCzggcciqLhY2y9lIgU/h52jTcuH79jaa3dJkyado2tWJlDapWrSo6gkmEPgmFo5MjcubMiejoaABAqW3URM4AACAASURBVNKlUNWNzS9RZvnv9EtpfNPT9L5irfXR2kmShGXe3tixzQe7ft8NZ2dn0ZGIZO3Ro0cYOWw4ChUqnO6mF0iaJNDJyRm9+vTBv//8gzOnz6BBwwa2O9vzgb/+RpOvv4HP1m2ioxC9paCDEu2KJN3XdjnKgH+eZ2zZIFF2+fljw7r1aNy0Cfb+sR+LlixJc+P7erEyGo04c/oMAODhw4fmjEzJTp08iVbNm2PuHC/RUYhk50pQECZNmIBatWvBLyAA6zZuTFfjy/ooRlxsHIYNGYJ5Xl5o37EjG18iM0tISMAsDw+MGjMGfx88gE5dOqep8Q0LDcWRw4dxPyQE+/ftQ49ePfF5tc+hUqnw5/79OHf2rO3N9ixJEpZ7L4PX7Nlo0aolWrZuJToSUaoGlLTH5gdJi3uvuKdDzTzW8XW9fv06jh87hr1/7E9zwxsWGoobN26gRIkS2L9vH8aNH4/o6OiUYpUrV06EhYbB1dXVzOlt29bNW/DTlCn4sl5djPlhrOg4RLISHh6O9WvXYYuPT7oaXtZHsYKDgzF4wECEhz/DmnXrULNWLdGRiGQvPi4e8xcuhEqVvom7/P38MdvTE59+9hnWbdwAAMiePTtq16mD7T4+sLe3t63mNyYmBmNHjcbhQ4cwYdIk9OzdS3Qkonf6Mq8aFXOocDXKgG0PEzG3ioTcdpa/rqWrqyt+9ZqTrm3SUqymzfjZHHEJSfewTZk4Cf5+fhgybCiGDh8OpdJmLwwiMoscOXLAc87sdG/H+ijOgb/+xujvv0fxEiXgHxiIIkWKiI5E9F7Pnj1DXGzcB+dWsXS5XXJnaLt+A/qjYaOGKFGy5Bsri3ivWI7gu8EoV76c7TS/169fx+ABA6HVarF521a4uctjWnOSt97F7THmcjziDRI23ddhaGmN6EgflJEJ49JSrMg8Qu6FYPDAAQgLe4pVa9egdp06oiMRyZK9vX2GtmN9zHoGgwFLFi3C4oWL0KFTR0ydNg12dnaiYxG9U3h4OJZ7L8PmjRsx/ZcZVt/8ZpRSqUxZ0uh1dnZ2KbXSJk7tBwYEoH2btihQID/8AwPY+JJVePbsGRrhCRySr/hYHqwTG8iMXhWr/1//9/ViRaZ36OBBtGnZEkqlCv4Bu9j4ktV49uwZQu6FiI6RJVgfs9aLyEj06dkL3r8txQwPD8zw8GDjSxbt0sVLOHjgAM6cPoWE15ZPo9TJuvk16PWY7emJ74ePQMtWLbFh82bky5dPdCyi9woPD4fHjF9Qv86XuHPpLFoX/m/iq5MRBsHpSA4kScKypd7o36cv6jWoDx/fHXAtWlR0LKIPer0+nj17RnQckqHhQ4fh7p072LZjBzp06ig6DtEHValaBe07dMC3jZuIjmIVZH3Z8+FDh7F+3XrMW7gAzVu0EB2H6IMuXbyEGzeuv3H2rl8Je2xJmfhKiy9cnERGJBm4H3Ify729MXX6NHT97jvRcYjSJLX6SGRqP/08Hblz5c7wPYdEoqhUsh7TNBlZN78NGjXE3wcPIH+BAqKjEKVJlapVUKVqFURGROLSxUsAgHr51CiXTYmbMUZseZCIOZUl5LKCia/IchUvURyHjh1F9uzZRUchSrPU6iORqZUqVUp0BJsRGRGJCxfOI3/+/Pi4UiUASctKHT16BNWqfWHWExB6vR7Bd+/iwYOHaNCwAQwGA/45fhxlypZFoUKFzLZfEk/2pwjY+JI1ev3snQJAnxJJE13FGaSUUWCizGDjS9aKoxtkKi9evBAdwWZdOH8euwMDMWXiJPTo1h0GgwHh4eHo27s3Rgwdhl3+/mbb9+1bt7BowQI0/vobbFi3DvHx8ejVvQd6de+BqZMnm22/ZBlk8xdEq9Xizp07omNYjMiISBw8cABXgoJSHouLjcP+ffsQGRFp9ft7nV6vx62bN3Hg7wMAkmZpPHrkCJ48eWLW/QJZ97l7l7CHJvnb6i3jia/I9Ax6PU6fOiU6hs0SWRuBzNdH0fmJzOXM6TNo8vU32L5tm+goNsnN3R3denRHpy5d8CIyEkGXL2PRgoVYuXo1zl28aNblSMuULYuBgwdDoVDgi+pfYP7ceZg0ZQratmuHr776ymz7Jcsgi+b30aNH6NC2HYYOGgyj0Sg6jnBZfTbNVs/eZeXnzmuvQMvCSbNNXnppwJlITnxFH/b8+XN06/od+vfpyxEOAUTWRiDz9VF0fiJz2bp5C7p16YJKlSvhm8aNRcexaV9Urw4A+GnKFHTr3g1Ozk5wcjb/3CaXLl6EJEkIDw9H/Qb1Ua58OXjOmY32HTnJmdxZ/T2/J0+cwPAhQ5ErVy78tnwZlEpZ9POZ4ubuDjd3d0RFRWGelxeCLl/GTt+dWLl6NQCYvKhk9f5e9+rs3W+Ll7xx9m7VihX47PPPzLZfIOs/d78SGvg8TASQNPHVZ7k58RW9W9DlyxgycBAkScL6TZuQK1cu0ZFsjsjaCGS+PorOT2RqWq0WUydNhu+OHeg/cABGjx3L40bBqlStAo1Gg8KFi6S6Pqu5HD92HGq1GgqFEtVr1Miy/ZJ4Vtv8SpKEdWvWYqbHL2jcuAlmes6CoxP/EL/u9bNps728zH6gktX7e+X1s3eNvvoq5exdVsmqz90wvxplsilxO8aIzQ8SMbuShByc+IpS4ee7E5MnTsQX1atj7oL5yJkzp+hINk1UbQRMUx9F5icylcePH2PooEG4H3Ifq9auwZd164qORABUShVcXFwQHHz3na/x3+mHR48eAQBcXV3RsnWrTO/36JHD0Ov1aN2mdabfi6yLVTa/cbFx+GHsGPz5xx8YNXoMBgwaKDqSRfrQ2TStVos1q1fjyKHDyJY9G7r36IHadeqYbX+AeQqY6LN3aT1ree7sWRz4+wDG/DA2Q/tRAOhd3B4TriQgRi9h68NE9C9pn8HUJEc6nQ7Tpk6Fz9ZtHNWwIKJqI2Ca+phVNY7IXI4cPoxRI0aiUKFC8AvYhaLFiomORMmWL/NGiZIlcfLECURFRSFHjhxvPB8YEICAXbuwet1aAECv7j2gtlOjabNmGd5nZEQkgi4H4Yvq1VHx448zE5+skNUdFQUHB6Nt69Y4eeIE1qxbx8b3PT50Nm3yhImIjYlF/QYNEBYahl7de+DY0aNm29+rAjZk2FAMGTYU/n5++H337gzv7xXRZ+8+9LljY2Ox9/c9GDF0GE78+2+m9tW7hAZ2yd/aFfe0mXovkpfQJ6Ho3KEjdgcEYvHS3zB23Dg2vhZCVG0ETFMfs7LGEZmSJElYttQb/Xr3wZd168Jnpy8bXwty4fx5ODk5o1efPjAajThz+gwA4OHDhwCSBmkmT5iI77p3T9mmW/fumDR+AnS6jE/+efToEUiShHbt22fuA5BVsqojowN//Y22LVtBo9HAPzAQNWvVEh3Jor06m3b71m1ERUW98dyVoCDUq18fo8eOQb8B/eHjuwOFChWCTyZmPXzf/sxVwCzh7N37PjcAODs7o3HTJqhbv16m91VAo0CLQkkTX52JNODcC058RcDpU6fQqnlzREdFYecuf3zz7beiI9FrRNRGwHT1MStrHJEpHfz7AOZ5eWHi5MmYu2A+HB0dRUeyeWGhoThy+DDuh4Rg/7596NGrJz6v9jlUKhX+3L8f586exeXkdbz/OX4cMTExcHN3S9m+iltVREdH499//slwhqNHjkCtVqPhV40y/XksyasZ+HVargryPlbT/Br0enjNmY2mzZrBx3cHihQpIjqSRfvQ2TQHBwc0btok5fUajQZf1KiOhPh4s+zPbAVM8Nm7D33u1ykVpvm69Ute8xcAVnDZIwKww2c7qlX/Av6BgShdpozoOPQaUbURME19FFHjiEylQaOG2PPHfnTv2UN0FErm7+eP3j16YuzoMRjx/fcAktadr12nDrb7+GCXn3/K8enlS5eg0Wjg4uKSsn3evHmh0Whw8cLFDO1fkiQcO3IUX1T/4q1LrK3VrZs3sWTRYmzdsgUAsGH9Omz38cHDBw8EJ7NMVnPPr0qtho+vL5ydnUVHsVhhoaG4ceMGSpQogf379mHc+PGIjo5OOZuWK1dOhIWGwdXVNdUD5KdhYajXoIFZ9vehAla3Xr0MfWYRZ+/S87kz6n1n774uoEZpZyXuxBqx6YEOv1Z2QHY1J76yZb/MmgmVSgWFgr8HlsASaiOQ8fqYFTUuMzi6QelRqlQp0RHoNf0G9EfDRg1RomRJqNX/tSHeK5Yj+G4wypUvl/LY8+cRqY7WOzg4ICIiIkP7VygU+Pf0qQxta6nKliuHsuXKYciwoaKjWAWraX4BsPH9AH8/f8z29MSnn32GdRs3AHjzbJq9vT2mzfg51W3DQkMRFvYUnTp3Nsv+zFHARJ29y8zP+UNu3byJP/b/8cbZO5VahRo1asC1aFEASRNf9Spuj0lXExCtl7DjUSJ6FefEV7bs9QMIEk90bQQyVx/NWeMyIy31kWyXwWBAWFgYChcuLDoKvYdSqUx14jw7O7s3Gl8AcHJyhMHw9u1der0ezpx1njLIYo+Yjh87jpq1anIkIx3Sczbt/82fNx9Llv6Wrvth0rM/cxQwUWfvMvNz/pC0nr3rWdweU68lwCAB60J0bH5tyOFDh1DVzY3r9low0bURyFx9NGeNywyObtC7REREYOSw4Xj69Cn27N/Hyf5komixYoiNjYVOp4O9fdJxjlarRVxcHE94UYZZXHVITEzET1Omome3bvjneObud7I1r86m/f8oUGpn0163edMmtGjZIt33CqZnf68XsFestYBl9OdsSkUclWiUP2n/R8L1uBtrzJL9kjhGoxHzvLzQt1dvBPjvEh2H3sPaa6Ml1DiitLp65QratGiJ4Lt38eucOWx8ZaRe/fowGo24HxKS8ljIvRBIkpSpW0LItllUhXj+/Dl6de+Bnb47sGDRItSqzdmczW3fnr1wdXVFjZo1Ux5LbTbPzGIBM70exZLOgkoANt7nvW9yFhMTg8EDBmLFsuWYOHkyJ2+REdZGoozz3+mHDm3boYirK/x3B6JK1SqiI5EJFS5cGE2aNcXuwMCUx3YHBqJps2a8vJ0yzGKa37NnzqB54yYIffIEO3b6oUmzpqIjyd6Bv/5G0OXLyJkzJy5euIAL58/DZ+s2nD93zuT7YgEDEvV6SEbTjdC2LmyHXHZJtwWsva+DZLJ3Jkty7do1NG/SFJcvX8bmbVvRs3cv0ZHIhORUG01d44jeRafT4edp0zB29Gj06NUT6zdtRJ48eUTHIjPwmDULly9dxp7dv+P33btxJSgIHp6zRMciK2YR9/xu3bwF06ZORe06deA1f55sph63ZGdOn8GwIUOg1WrhvXRpyuP58+fH0Uwur/EuHrNmYcTQYdiz+3dIkHAlKAgLlyw2y74sSWJiIv7c/weOHz2KZ8+eYd/evaheo0am79l0UCnQrogdVt7TITjWiOPP9aidxyK+0mQigQEBmDDuR1SqXBkLlyxGvnz5REciM7D22miuGkeUmrDQUAwZNBi3bt7EoiVL8G2TxqIjkRlly5YNq9auQci9ECgUQNNmzURHIiunkCRJ2ICRVqvFT5OnYMf27eg/cABGjx0r7F6NE//+i+86d8Gpc2ffWHKCTO9VAStWvLjoKFbv2HM96hyOAQD0LWGPFZ9w9kM5MOj1mOvlhWVLvdGpS2f8NH26sBmdo6Oj4V65CtasX4c6X34pJIOtYG0ker/Tp05j+JAhyJYtG35b5o2y5cTegz510mTcuXMHG7dsFpqDiNJO2DDR48ePMXTQINwPuY9Va9fgy7p1RUWhLFa8BA/sTKV2HjXKZVPiZowRPg8TsaCqBCcVZ0i3ZhERERgxdBjOnzuHX73moE3btqIjURZhbSR6N4PBgEkTJuDTzz6D55zZXP6SiDJEWPN7+uQpJCbq4RewC0WLFRMVg8jqdS2atOxRlF6C/+NEdCnKZY+sWWRkJKKiouDr74/yFcqLjkNEZBFUKhU2b9sKFxcXLoNJRBkmbMKrlq1bsfElMoEexe2hTD4OWMdZn61e6dKl4R8YwMaXiOj/5MmTh40vEWWK0NmeRd3DRiQnxZ2U+DJv0nfpr6d6PIjnbKvWjgd3RGTrgi5fFh2BiGQoS5rf27du4eLFi1mxKyKb9GrNX6MEbH6QKDgNpdXDhw8RsGuX6BhkwSIjInHwwAFcCQpKeSwuNg779+1DZESkwGRE5mE0GrFw/ny0adkKRw4fFh2HiGTG7M3vvj170bZVa6zwXmbuXRHZrPZF7JBNnTRauPqeVnAaSotjR4+hVfMWWLViJfR6veg4ZIEunD+P3YGBmDJxEnp06w6DwYDw8HD07d0bI4YOwy5/f9ERiUwqJiYGQwcNxpLFizF67FhOhkpEJme2644NBgPmzpmD5d7L0LFzJ0ydNs1cuyKyec5qBVoXtsOG+zrcjDHidKQBn+dWiY5FqZAkCcu9l2HunDlo3KQJZnrO4i0glCo3d3e4ubsjKioK87y8EHT5Mnb67sTK1asBAE7OXNqM5OPOnTsY3H8AomNisNXHB+6ffCI6EhHJkFlGfl9ERqJPz55Yu3oNPGbNxAwPD9jZ2ZljV0SU7NWlzwCwLoQTX1mi2NhYDBsyBHO95mDUmDGYv2ghHJ3YwND7fVG9OgDgpylT0K17Nzg5O7HxJVnZHRiIVs1bILdLbvgHBrDxJSKzMflww9UrVzB4wEAYDAZs8fFBlapVTL0LIkpF/XxqFHNS4n6cEVse6uBVxREaoVPa0euCg4MxeMBAPA8Px5p161CzVi3RkchKVKlaBRqNBoULF0GZsmXfel6r1WLN6tU4cugwsmXPhu49eqB2nToCkhKlj0Gvx1wvLyxb6o1OXTrjp+nTeSUMEZmVSQ+N/Xf6oUPbdiji6gr/3YFsfImykFIBfJe8xm+ETsLvoZz4ylIc+OtvtGnREhqNBn6BAWx8KV1UShVcXFwQHHw31ecnT5iI2JhY1G/QAGGhYejVvQeOHT2axSmJ0icyIhK9eiRdJeg5ZzZmeHiw8SUiszNJ86vT6fDztGkYO3o0evTqifWbNiJPnjymeGsiSoeexe3xapEcXvosntFoxBzPXzGgXz80b9EC23f6okiRIqJjkZVZvswbJUqWxO1btxEVFfXGc1eCglCvfn2MHjsG/Qb0h4/vDhQqVAg+27YJSkuUNn/99ScePnwI313+aNuuneg4RGQjTNL8Go1GXLt6DYuWLMHYceOgUnGiHSIRymZTon4+NTq52mNQKfsPb0BmpVQqERUVhZm/emL6LzM49wGl24Xz5+Hk5IxeffrAaDTizOkzAJKWyQIABwcHNG7aJOX1Go0GX9SojoT4eCF5idKqfYcO+H3vHlSoUEF0FCKyISa5vsTBwQGbt201xVsRUSb9VSdbyugviTf9lxmiI5CVCQsNxY0bN1CiRAns37cP48aPR3R0NFQqFf7cvx+5cuVEWGgYXF1dUbpMmbe2fxoWhnoNGghITpQ+nPCPiLIab64gkhk2vkTWzd/PH7M9PfHpZ59h3cYNAIDs2bOjdp062O7jA3t7e0yb8XOq24aFhiIs7Ck6de6clZGJiIisAptfIiIiC9JvQH80bNQQJUqWfGMCIO8VyxF8Nxjlypd757bz583HkqW/wdHRMSuiEhERWRU2v0RERBZEqVSmuqSRnZ3dexvfzZs2oUXLFqleCk1EpleoSGEYjUbRMYgoHdj8EhHRO6lVKlR1c0OOHDlER6H32LdnL1xdXVGjZs2Ux6KiovjvRmRGAwcNEh2BiNKJzS8REb2To5MTfP39RMeg9zjw198IunwZX33zNS5euABJknDzxk0UKFgAdevVEx2PiIjIYrD5JSIislJnTp/BsCFDoNVq4b10acrj+fPnx9F//hGYjIiIyPKw+U2WO7cL6tWvD3t7ro1KRETW4bPPP8OVG9dFxyAiIrIKCkmSJNEhiIiIiIiIiMxJKToAERERERERkbmx+SUiIiIiIiLZY/NLREREREREssfml4iIiIiIiGSPzS8RERERERHJHptfIiIiIiIikj02v0RERERERCR7bH6JiIiIiIhI9tj8EhERERERkeyx+SUiIiIiIiLZY/NLREREREREssfml4iIiIiIiGSPzS8RERERERHJHptfIiIiIiIikj02v0REREREZHESExPx4P79NL02LDQUUVFRZk5E1o7NL5lNegoWwKJFRLbj9foYEREB3x07cC/43nu3YY0kIlvy8OFDzJ87F7ly507T63O7uGD92nW4du2amZORNWPzS2aR3oIFsGgRkW14vT6uWLYcDevWw7gxY/H48aP3bscaSUS24s7t2/hh9BgMGzEC2bNnT9M29vb2GDJsKFYuX47r16+bOSFZKza/ZHIZKVgAixYRyd//18d+A/qjVZvWadqWNZKIbEFMTAyGDBqMGTM94ODgkK5tFQoFxo0fj8EDBiI8PNxMCcmasfklk8pMwQJYtIhIvt5VH52dnNP8HqyRRCR3P/80Da6urihVqlSGts+fPz+qVKmCOZ6/mjgZyQGbXzKpzBYsgEWLiOTJFPURYI0kIvl69uwZdvn7o03btqk+L0kSdmzfjlkeHvh++AhMnTQZN2/cfOt1nbp0ht/OnR+cS4FsD5tfMpkPFSwAOHvmDGZMn445nr9i8ICB2L5tW6qvY9EiIjlJS30EgIMHDmBQ/wHo2a07vH/7DQkJCam+jjWSiORo6+Yt0Ov1qFb9i7eei4mJQecOHaBP1OPHCRMwd8F8nDt3Dm1bt8atm282wJUqV4bBYMDqlSuzKjpZCTa/ZDLvK1gAEBgQgE7tO6Brt24YM+4HjBs/HhN+HI8N69a/9VoWLSKSkw/VRwDYvHETli75DbldcuNecDDm/DobPb7rlmoDzBpJRHJ04fx5ODk7IW/evG895zFjBlyLFkWnLp0BJN0G0qlLZ8THxeHc2XNvvDZbtmzIX6AATp44kSW5yXqw+SWTeV/BAoDt23ygVCpRpEgRAEDxEsWRL39+BAYEvPVaFi0ikpMP1UcAKFa8GHx8d8Bj1izs/WM/Pq5UCWfPnIHv9u1vvZY1kojk6H5ICLJnz/HW42GhofDZug1169V74/Gu332HPfv3o0Onjm9tkz9/ftwLuWempGSt2PySybyrYL0ycfJkeK9YDnt7ewBAfHw8IEmIjIhI9fUsWkQkFx+qjwBQq3adlP92dHLCyFHfAwD8dvql+nrWSCKSm6dPn8LOzu6tx69evQoAKFa8+FvPlStfDgqF4q3HNRoNDHoD4mLjTB+UrJZadACSj6dPnyK3i8s7ny9foTzKVyiP+yEhCAwIhL29PQwGA4ySMdXXv160nJydzBWbiMjsPlQfAeD/j91q16kDhUKBe/fupfp61kgikhtnZ2fo9YlvPf7wwUMAQPjTZ2l+L0mSoFKroNFoTJaPrB9Hfslk3lWwXtHpdPhpylTMnzsPPXv3Qr8B/eHo6PjO17NoEZFcfKg+psbOzg65cueCg0PqNZA1kojkJm++fIiKinrr8WLFiwEA/vnneKrbhT4Jfeux2NgYFC5cBCq1yrQhyaqx+SWTeVfBemXE0GE4euQwZs/1grPzh9e1ZNEiIrn4UH18l4QELSpWrJjqc6yRRCQ3bm5uiIuNw9OwsDcer/jxx1CpVdi8cROCLl9+47nTp07hyOHDb71X6JNQlClTxqx5yfqw+SWTeVfBAoCIiAj89eefyJ+/AFSq/w7UtFotJCn192PRIiK5eF99fJdbN28iPi4Ovfv2TfV51kgikpt2HToAAG7evPXG4/ny5cOgwYORmJiITu07YOYvHtjp64tZHh5Y7r0Mbdu3e+P1jx49wsuXL996nIjNL5nMuwoWACTqdJAkCefOnsWBvw/gyZMnWLpkCeLj4xEZEYH7ISG4HxKS8noWLSKSk/fVR4Uy6U9x1Mv/RoYlScKC+fPRpWtXVK9R461tWCOJSI6qVK2Chl81wp7fd7/13LDhIzBsxHAYDAasWrEC48aMxdOwp5i/aOEbAysAELhrFwoVKoSvvv46q6KTlVBI0rvG3YjSb0C/fsiTJw88Zs1667lffp6BNatWAUhao/LXOXOwbu0abNuyFYUKFcK6TRtRqlQpAID3b79h04aNOHTs6FsFjYjIGr2rPj58+BBTJ03GlaAgfFm3LvLkzYNrV6+hbr266NWnT6rvxRpJRHJ1+9YtdO7YEX8eOIBcuXK99bxWq0XIvRDkL5A/1eclScK3jb7CjxMnoH6DBlkRmawIm18yqQ8VrCdPnkCn1aF4iaSp6g0GA+4FB8O1aNGUSVtYtIhIjj5UHw0GA+7duwc7tRpFiri+815e1kgikrt9e/bi0qWL+OHHH9O97eKFiyBJEoaNGG6GZGTt2PySyWWmYAEsWkQkX5mtjwBrJBHZhq2bt8DRyREtW7VK8zb79u7F3Tt3MGjIkFTX/iVi80tmkZGCBbBoEZH8ZbQ+AqyRRGRbzp09C41Gg48rVfrga0PuheDx40eoUbNmFiQja8Xml8wmPQULYNEiItuR3voIsEYSERFlFptfIiIiIiIikj0udURERERERESyx+aXiIiIiIiIZI/NLxEREREREckem18iIiIiIiKSPTa/REREREREJHtsfomIiIiIiEj22PwSERERERGR7LH5JSIiIiIiItlj80tERERERESyx+aXiIiIiIiIZI/NLxEREREREckem18iIiIiIiKSPTa/REREREREJHtsfomIiIiIiEj22PwSERERERGR7LH5JSIiIiIiItlj80tERERERESyx+aXiIiIiIiIZI/NLxEREREREckem18iIiIiIiKSPTa/REREREREJHtsfomIiIiIiEj22PwSERERERGR7LH5JSIiIiIiItlj80tERERERESyx+aXiIiIiIiIZI/NLxEREREREckem18iZu4m9gAAIABJREFUIiIiIiKSPTa/REREREREJHtsfomIiIiIiEj22PwSERERERGR7LH5JSIiIiIiItlj80tERERERESyx+aXiIiIiIiIZE8tOoAcRSVKsFcCDiqF6ChEJmVpv9uWlsccwrQSgl4aYKcEPsquQj6NfD/r+8QZJETrgexqwEnwv3esXsK1aCPCdUaUcVahTDZx55Et6edCSfhvQqJdizbgbqwRxZ2UqJRDJTqO1TPHd5p1Qhw2v2lw4aUBd2KM733NV/nVyGGnwPJgHUZciodGCWyt5oRvC9hlUUp50EuA2sw1IEwr4Ua0AdejjdBLEgpolCjupIRbLpXZ923NLO1329LymJrWCIy+FA/vYC0MUtJjY8tp8Gslxw9um56aBQChCUbciDEiNEFCvEFCglGCi50Sro4KlM+uQh77N78Yr7+/q6MSX7ik/+BKArDzUWKaXlvKWYkDz/QYczkei90cMaSUJt37MwW9BMy8kYBfridA+9qPt08Je6z8xElIphXBOoy8FI/5VRwxooyYn0tqgmON2PJQh27F7FHUUczJAVEZlt7VCf1dtYSfvbWRy8/sRaKErqfjsCc0qba62CvwvFlOs+0vTCuh6+lY/FjOAY3yf7il+PupHjNvJmD9Z04o7GA9P2dz1FnRdcKWsflNg1X3dFh8R/ve1wQ1yo6P7VRYeU+LBIOEBAOw4X6i7A7IU6OXAJ+HOiwL1iEqMekoPaCmc5r+gNyOMcI7WItjz/UIjjXiqVZCAY0CbrlUGF/eAXXzmu5XNPBJIsYGxeNGdOpNQe08ahytm81k+7NkT7US8qdzBNHSfrctLY+pedxIwJK7b9adnGk8O5OemgUA065p4R2c+us1SqBncXv8XNExZdT59ffv5GqPLdXS3/gZJaDdydg0vXZgSY3Q0dVXZt1IwJSrCaiXT40RpTVwsVfg3AsDiljxwbK5/Hw9AWtCdAhNkLCw6odP2Mg1gwi2+rkzQy4/s0lXErAnNBH9S9qjS1F7xL06c2omQy/E4YVOQv18aTtWq59PjXFBEgaej0dADWezZiN6Fza/JtbR1R5nX8TDXqlAuyLyOhj/fzojsCxYC69bWoTEGd96Li1m3UzAqnu6Nx4L00rYH6bH/rAYbK3mjI6umfs5huskdDwZiwPP9O99nXsueV8aFJpgxJxbWuwP0yNcJ+FJkxzp2t7SfrctLY8pxeglzLqRkPL/vUvYo2MRexR3yvomS2sElgXrEBRlxME62WBnoggqBXDoyzdPNk2/loADz/RY5u6E8tn/21FhByUCnqRtlNhctEbglxtaFNAosK9WNmiS431pwhN0cvJdMXs8jDeiUybr9/ZHiQiKMmDaRw7CMrxLZrKZkyX87C3Vuz6TuX9XskKsXoJ3sBYFHZRY5m7+K1EuvDRgx6NE/F7TGWm9alepAH6q6IDm/8TiRIQe1V3kXz/l+D2ydvL/rTOxWnnU+D6VSx5ejXKOLqtBJ1c7OKsVyGUn72to4w3/Y++84+Qqq8b/vXf6zJbsJptNJwmkQzoloYXQmwgCRsCCVDuWFxUUeBFERX4gqCAoCCgvKKh0pLcQkpAe0nuyyW6ySbZMv+33x52Zndmd2bl3dnZ2Nzzfz2c/hnHKueec5zztPOcx+N6KCF1ZVzy71sWTO+KcNMDJURUOWlWDZ3YptKrmt/5wVaRLk1/VgHPmB1l8UEu9dmy1gy+PcDOuzIEsmZPCDxo1zh/cdzs9K6wP6tyz0dytG1RAulFv8+3eJk8xWR/UUwtIDgnuOcpX8DPmi1ntmTfMzSPTfTQrBs/tVvj+ygi6AfP3qzydSAssFu0zOwYmZpQzqhzM6GWLURuCGlHN4MIh7tTEV5CbuTVO5tZ0LZNGM+DShSGmVjoKGjgWQ4ZcdFW27qQ36L430tkzdaevlIrNIR3NoGSx87cbYowOyLazrs6pdTE6IHP3hhjPHXdoT0MOxXZ0KHBoe103MNwn84VOdpleb1DZGTFHrZMrHRxd1RaE1rfqvL5XYVNQZ0aVg88NdvFpi3n2FOD8wa5UKuor9Qp7ouYEcEaVg6mV5vcEE5PDJJcNd+FzSLxcr1CfeP/XR7rZGNR5dFuMEX6Zb6adJdgXM3ivUWXhARW3LHF0lYMzap0FHbavdElMqHBQ7ZK4abyH8z8KYTfD5qxaJ9vPqsiYjJ07SOHCj810yLqITlA1KCvwMO4ft8QyJr6/nOTlJ+O8tP+2y4Zn/7xdfQVVg9f3qnzaotEYMziy0sGJ/R2ML8/sjF7co7A3ZuCQzJTS1S0a/9ilENYM5tY4OaPWhVOCPVGdv+1Q2BbWGVsm87XD3FRmmQTlk/PdfSqvNLT5TVgzUjvu5w12UevJ70Od+TaYQf79RvPZ1wd1BnkkJlY4OG+Qy9JuYbrPD/JKnDuorZ1tCOp80Gju3EuYOntzb+fy5NNJ+vNMqpBTK9AHFSN1FnVmlYMpibZXF9F5rcGUodwpcWkBizJW/OP1BpUX69tsVe6UeK5OSfmKXfLFrPaUOaHMKVHmlPju4R4W7Nd4epfpKx8f0PjyCNsiFB0DeKNBZUmTSq1H5pJhLspzxIgmxWD+fpVlTRpHlMmcNMBp+6zZ0iaNVxM2CapmZkp7DvNLjC93sK5VY3vYYHRAZky7VO3VLRp1EYNJFTLDEosPduQ7EDd4v1FlU0hnRj8HxxVw1jrJxqDOlpDOiQMceGWJt/epLG3S6O+WOKG/M2PnvT0xHRbsV1nRrOFzSEzr52BmlSMjrm4L66xv1ZlQLjMikbGQ/M2TBjhwyRIv7VFY26ox2Ctz8VBXRpxf3aKxI5FR1JKm8zFlMqMD1uyXTQYARYeX6hXWt2r0c0uc2N/JJBtFgezIVmpfhdLo3oqsm4I6mxO/qRnw9C6FarfERUPMeGTFDnZ1sqpFY0WTxvawzmCvzNyBTkb65bzPlMtXwJq/29WxXfLJsLRJ47VEHy9LpJ7v1IHOgmqZ6AZ8kPi9kGowwi9zbJUzdfxENeDFeoVrRrqR075/TYvGzojBtH6OjKNVMd0chzglU6YLh7j445Y4MZ2CFhP3xQzebTSPy1W7Jab3czC93aS/UHsUK8729jjxWUZMfovMA5tjvJQYJP1knDc1IL9/c4z/WRXJSAeeXOlggFtKpeMuP7WcgR7z/XdvjPFu4vU7JnpTk9/9cYOrl4ZT33He4Ep8Dvjdphhv7DXfPyogc8GCEEHV4LxBrtTk9/UGlS8tDnEgnjlDnVLp4PlZgYJSKl87vu1sbyFhPeCUCLRr4AeVNvlGBeQudRh/2tqWUn1GrZOfjrO+8mZXXy/VK3xzWSQ1oUrilOBHY73cPsGbmgTeszHGe2mTuauXhklsdnPPxhjXj/Jw7Sg3Z84Psi/W9vv3b47x0ZxyatM6FSty/mV7nL/taNNFi9LmRx+eXEatx5nXh3L5NpjpT1cvCbOkSSOdgFOi+XxrxTaWNmn8fI2Z6lvhkmg8tzKlr99vjvFA4ozpKTVOvj7S3ak8VnQy/4DK7WvN3zt3kIuXZpvh8NV6JaWby4a7+fvRZvrYv3crfGdFJPW63cmvVf9Ify4wO7qrl4bxOqSCJr9dJX3HubvPj1lB0WHeohD/SFsEvHmNzFsnBJjYbuD8XqPKFxeGaIwbjArIbA3pyBI8OdPecYpb10RTNnlxj8KLWVKwbzjCw72TfUhIXPhxkAFuiVWnlacWq3ZHdU58L0i5U2LlaeW25XulXuGrn4RpjBvIkjk4HVMmc96gwjJW/r4zzv+ujbLwlHLuXBflhT0KEuYgTJbgZ+O93DremzGwBfj4gMqVSyKsazUH4THdQDfgtIFOHpvhT03qn6tTOhRzeXJHnF+si/LByWV8b0WEpWnx4qefZtrwno0x/rrdjFlbQjpnzQ8CZn9483hrcTybDHuiOnPeD7IhqFPlkmhVDSQJ9p1bmXVhMRtWZesJX8313MXUvVVZn9oZ59a1UZbOLecrn4RZ3aIxb5ibi4a4LNnBjk62hXWuWRrmzb1t/aoBHF3lYNEp5XmfKZvOwLq/29WxHazIkCtGNZ1v3a+TrGrRuHRhmHWtGl6HhExb7H9gio9vH+5h4QGVFsXghP6Z04gdEZ2z54e4bpSbh9JSr7+xLMxj2+OpwoAnDXByz8YY8/erzLV4XjjJc3UKly8OoRhQ65FpiOnoBlw7ys2DU/2pmFWIPYoZZ3t7nPgsI5YKbLI5pPGXbfGMv+fznEV7tUHheyvaJr4VLokql8TKZi3jHKq3/SjDBp60z169NExQzRykLjygcfZHQQ7EDQa4Jb412sPZiVSVFc0a8xaFKYRiVUV8ZFuc29dGuWBBiOuXmbJ4ZPjD1MILT9RHdda0tAW7Lw3LnDgsbdJY0u5vf2KyZFdfnxzU+PyCUGpiMyogM6OfuSqrGmahnDvSznB60uLZ15a0TXyTPLQ1xqx3WzMmvmAG0F+ua/seq3LK0OFMjlPKrKydz4dysTmkc/y7wYyJb3+3RLVbYkY/h+WzQFeMcKcWUFoSK5tJ/pu2a51vAmhVJ+k7y+myv5XWJt9N+/eitAyCC2ymyNvxD1miw4TDKXW0n1UKiVlJdkZ0/rW7bdGkN1yZcfvaKE5JYvOZFWw9q4JvH+6hPqpz5ZLMNrkxqHP6h0EmVjjYe24lG8+oYN95lRxb5eSyxSE+bdFy/EJHHp7u49EZ5qDtS8PdbDqzIvX3cLsqz+PKZX5zpJedEZ3vr4ykXv/msggtqsETM/30c0m25FvbqnHBghCqAc8dF6D1c5XUn1vJyQOc3Lup88JmuUhuFFyxOERUN1hzejnhCyp584Qyhnplbl8b5fEdmfUYdoR1Tv8wRENU55XjAzSfX8m+cyu5aZyXN/eqnJcn+ye5w3PJwjATyh1sO6uCHWdX8L0jTBt+Lc2Gvz7Sx7rTzboEE8odKX1/8/CuVUW9cXWUDUGdJ2b62X9+JaEL+vHmCWW2JghWZesJX81FsXRvR9bkFXQ3rIzgkuGpo/3cPN7UUT472Pmdg4rBce+08s4+ldsmeNl0ZgXKhf3YelYFf5jqt2WzdOz6ux0dW8WqDLliVK7dw1w8W6dw7DvmJO3NE8poOr+S0AWV/HisqaeRiR3LZYk+s32tlLNqXUzr5+CJHQqNifHU/ZtjPLY9zs3jvVw10uy/k7u0y5vs+/a0fg4eneEnfEE/dp9TwcHzKjlvkIuHt8b59+62vs2uPYodZ/tinPisIHZ+bbL4oMbig5kOObPK0elg+Icr2yYrZ9W6+PdxfmRJ4pqlYZ5IG1x05Zqv9MHy1pDOlEoHFw1xMTmxY/zj1ea5PYBXjy9jZmKX7IwPg7yxV+XjAyrvNapFra5sh1+ui7ItrWjWQI/Ev44LcHz/wuWpi2aOwtoP3I9/L0i03UjtrzP8fPUwt219Xb8snOoEPz/ExXPHBpAluHtDjBtXmwPgu9ZH+fphZtEip9RmsBqPxEuzyxjqlTjp/SBbQqYe4ropz+eHuPjm8ghP7TR95b97FcBcFLAq5+Mz/Xx9pJs575ud2iCv3KHgVT4fysV1y8KpVeHD/DL/ODbAMQk5mhXrO4Uj/TInDnDyfmJH/JUGhTk1TraHdTYkrtUJOCW+MKTziadVnZw0wMlAj8TemEF9VGdP1EyTe3tv24R3d9T87bFlMgsPmK+7ZDNd3w52/OP5WQGe36Pw+QVm6n82W9nBbsz6YL/K91ZEaIjpvFyvphZBqt0SVxTxvG+hHOaXeWyGH3diYHP/FB//bVBYdFCjMbHgAXDzpxFcksRTR/upTrxW5ZJ4cJqPo95s5Y9b4pYX1wZ75VRaWaVT4vC0lLV1rR0D97cO9/DCHoXHtse5fLibJsXg+T0KN471MCexy2FHvhtXRVENeCwRDwD8Dnh4up9PW3QWHOi8mF82HIkYpBvwwqy2Al6nDnTy0uwAU99q5WefRvnaYW2LUt9fGSGoGjw/K5BaUKp2S9w5ycumkHl04y/b4lw7KrufeBKdXK1H4tE0G9472cer9QqL02w40COlrtjyyGTovCssb9KQJbMvlgC3bL9omVXZesJXc1Es3V+3NGxZ1qRPfXJQY8tZFRkZS/nsYK99RGiImVWav5M2sRjplxmZWJsqxJ/s+rsdHVvFjgy5YpRVGmJmltGYMpl3TyqjKm1BKHkkKZmF2JBYmM927/xN47xcsjDEI1tjzK1x8cOVEb403M0vJrbtdtYknGNvTO/w+XyMDsiMDrTFmAqXxF1HenmpXuGfdfHUMR+79ih2nO2LceKzgtj57Wb2xw3Wtratxtx1pBevQ8Itm2ll6UjW42EH0j96mF/mozll3DLBy+eHuNgfN1IpttVuiRXNbTtB6WdXPznYc6tGh/nNu3aTaa57YwanfxjiyXY7D3bQ2827QhZTNu3qq1kxMnYObxrXlir4ncPdqbRuRScVPNMb3jUjPRxT5WCoT84oujWjysFXE2d80++V2xbSMQqQMx+d+VAuWlUjY7L4+6m+1MQXsJ1ulV5M6eV683vTz1deMtTVIU0+HTs6kYCz2+3+bg3pbAvrVLgkRibS2t/Zp9KkGGxMTMBPqWm7H9cKhfhHT7K+Vef+zTGe2aWkJr5DvDJ/O9qfMXjtKeYNd6cGCWD67ezEIln6yvcrDSqTKx00K+YzJf+ckjkQ+eRg9+lawhxAVbkkrl8e5rsrIkytdPCLiW0DEzvyvdOoMtgrc0G7tigB5w0ubIEw2d9cPqJjAa/JlQ6Oq3ayO6qnzqyBmRUxxCtnLQ547UgzRiXbX9bfTPzvl7LYcFYWG3YHs6od6AZctTScWmjsLnqTrxZL93ZkTca5r490d4gd+exg53f+tVuhv1viG0W+K9Wuv3eHf3e1zdnhp6sjNCsG9072ZUx8wdzprXZLqTTvhqiORyZr/ZOLhrgYVy7z4JY4ly0OMau/mZ6d/k6PbC5m741ZXyBvT1A1FxUf3BJLjRV3Rtq+z649uiPOWqE3xYnPCmLn1yanDnR2qNjW2ZnU9IkvwMS0wjZ2BtD5SA8fFw1xZQSkdWkyHGh3ZjidHeHuHQh0RvLKk6BqcOf6GL9aHyWiGVy1NMzMKgcTyu2nWw71Zep3VbOWsbP91NF+dANuXRvNCDB29bW6XWc2Ia1QjNchcZhfTqVfr2npqOP0ohDj0z6bftZysLft3zHd3BUutl0786FcrG7RMj7XlZ16MCe331khEdUM1iSKRby5ty2N6at5dh7t6uTcQS4eT5zJWdmspc4IH1lhFuvYFjZXeyeUy6nn/JzNlOeu+kdXsRuzypwSPodZefnwgMysagffOdzT6aJDKSnL4mLJttKUyDSoi+iEVIOPD6iMf6Ml6/c0xgsfdFlhqE/m7qN8KR98cXZ5aoBjR75difcm0+TbEygwZSj5qZocu1DjymUWHDCLFh3ml9kV0WlWDKZWZpcjGbva93nZsGLD7uLuo3zsjhq8uEfh5XqFC4e4uPtIH6OKtLOcTm/01a7o3q6syX+1L/wGndvBzu/sjuociJtnT4sZorri78Xy72K2uXwYmCnPkyocHc7gRjRzE+fktNcdkpTzpg9Zgm+M8nDDyghDvDL/OS6QtaiVZlDQ1Xlx3Uylf2JHnJhmMK7ckUrvjrff9cCaPborzlqhN8aJQx0x+bVJjVu2NcBvP4FoUdtSGGKd7ESmfyqaNh7O0q474Gn3m960//Y6JMaVtQ3kDaOtgxrZDZ2/XcqcEndN8vLE9ji7o7pZDXKPWtDkd4jXrLaa3LG7b1OMq0a68SX0cWFide/3WzLPctjVV/uJRFjLDGahtLOzQ3ydB1ApR9mwbJbpil0No3NHau9DuWh/Tn1/zOiwYmyHSpfE5wY7U4UfPtiv8uF+s2Mf6ZczOt+s8tjUyRmJSpiqAZ+26OwMm+84tsqc/P5nt8LHB1Rmpp1rsjv5LaZ/FILdmDVvmItHpnf/HZHFpL3WkhqdW+Pkvim+lO0N2vygFNcVvbBHSRVNeWpnnOn9fAXLl+vu9O5askzu+ifTGl2Jtp6r6FnyiMPAArMDSrW0UumSeGl2gPn7VX69IcZzdQrv7lNZdVo5g0tQMbU3+qpV3duVNdnNZOtOOrODnd9JfrXVzC6rFNvfC/Hv7m5z6WwL6bSqRtZjTq81qKhGW8ozwECvRFw3s7/anyveGzO4b1MMtwz74zox3aC9BkKqQVQzUtfb2eHLn5jFoW6Z4OXGMebCbEwH73+aLH9HLo2VOs7mojfGiUMJMfntZsaVyamqg2BWn0veufn63twpCumd8MrmtlW99tV0zUlM7hU4MHeakjJIwFsnlqXOIZSK7WGdO9dFcckSt0zwplKgwprRcYFAMTI6si7UAeNn47189RNz52VzSOfyxWEenu7v9MyNXX1NKHfgks20VTCLJCUrAW8L6xnVfafmOT9rB7typk9Um1VT3vRV10KGDhPKZRwSqfOsD22N8dujunbm5Csj3KnJ75M74uxJrP58Je3sYWfy2NFJpUvihAFO3t2nsrpFS33/yTXO1IBiQ6ueSiub1s9hu8hbT/lHT5CrnZeaYT6Zcqe5c39UDxXp+vO2OC/sUbj7KB/P1SncuynGhUNcHN/faUu+5HvXtmpENCO1eJdkZxczdtrXRgCz/SxvNs9kjk3s2tV6JAa4Jda1mjsQ7TMBklfKTekGH+6OIuPH93fywiwn314e4Q9bYjy+Pc5PbNwGUCzZeoOvdkb689mV1YpqctnB6u8M9spUuSTWtuocVKwtvlqxWU/6e0/IkKy50l5/BqSKPaX3T8nY3hA1KC9r+0xUM/j8ArMS85MzA3xxUYj7N8e5a1Jm26pPpDsP8trrIw4qBs/WKRxdlXlvrmplZ6gTujvOHupxoq8h1gm6mYAzs0jM/6yKcNXSMFcvDXNDWiXQ9hyRlib04h6FG1ZGuGVNNFUJOYmV5uh3SKldzohmcPx7rdy5Lso7+1Re2KPw6w0x/ryt8LO1VvjqJ2Ee2Rbnj1ti3JFWrfiShWHmfhDkf9dGeWpnnAc2xzjhvWBGoaRTbJbBT+crI9ypIhFgXlcz/vUWLl0Y4pY1UW7+NMradmmpdvXllmFeWiXpH66K8E5iMvW1T8Kp3fojKxxM71e89Sa7cg73Z3ZQ5y8Ict+mWMbVUnbxOiQuTrtD9p6NMeYtCvG3HXEe2horqELimbVt912nn/f9ioViS4X4erLq89pWjdUtGi4ZTq1xcnSVebbXwNzBA/tVnqHn/KMnyNXOe4KLh7rYEtJ5eGv3xrZsbAmZlZ6nVDq44QgPf5rmQ8as7J7cxbEj3wVDXOZZvHbtaXdUT511K7QVP7E9nqpyn+TvO+JsCuqcP8iVkU0xb7ibVtXgtxsz5QhrBr/aEMMhwReGFq8omkMyF6g2hfQOFfGLxbGJOzxz7fjkopiy9aSv5iLX89mR1Y5a2tvBzu/MG+4mqhncsCLSaXacXZuV2t97UoZkjYv3G9UMHd6+NsqCxM0LU9MyoI6tNvuqhWnnTA3gyiURFh5UeXS6n4uHuhjpl3loS4zWdgr/OFHfYla1vT5va8i81qj9vbZPJxbMuzIH7o44e6jHib5K3x5p9RHumuRl/n6VLSEdzYBHE4PvkX45I+UxfVHvqsPc/Hp9lJhuNrbfJRqjWzZXOpO7YcndpDxZrPx+qo8P96vsjRmsb9X52ZrMgenUSgdXj+y+IJ5e0OLDxC5aXDcLNYRUg3f2Zd8Fv2WCt8PF5Xb560w/31oe5tk6Mzjujxv8s04Bcl/3Yldfv5vi471GlR1hnV0RnbkfBDPe73NIPHWMP6OoQTGwI+dgr8zUSgfLE5kE/21Q+W+DyjmDXFS5pLw+lIsHpvh5v7E15ZPP7FJ4JtERDfbKqUwHqzgls0DF79I6oBMHOC1Xr7Rru3MHOfmfVW1t6eQBzlSq8ikDnDy/R0kNyOymPCfpKf8oNdnaeU/x6yN9vFKv8I3lYT46oHJ2rYtKl1m19INGld9N8dm+BsQKmgFf/iRMRDN4ZLofp2QWkPrJOC93rIvy49VRHpjisyXfLyd5eWGPws2fRtkU1Dl9oJN9cYN7NsaYU+Pk2Tql4IGVDsx+t5Ubx3oZ5JV4v1Hl/22MEXBK3DclM4vjzoleXtyjcNvaKPvjBl8Y6mJvzOBX66Osa9W4aZw3o+BdMZjWz8G7+1R+sDLCcdUOZlU7u3Q+9/LFYU4c4GBKpYMmxeCu9TGcEpxXQNsulmw95av5yPZ8dmTtrE/JZwe77eOlPQpP7IizMahz+QgXQ7wyO8I6OmT0QXZs1hP+3lMyjArInF3r4tUGhTPmBzmtxsk7jSq7IwZzapx80KgyPu342bRKBwPcEu/sU7l8uNmf3romytO74vz6SB9nJG5E+O4RHn6wMsIjW+P8YEybHd7bp9LfLXW4KikfE8plaj0SL9cr3LMxxtwaJx8fULltbRSfQ+owybZDd8XZQz1O9EX6+FCrbzDUJ7N0bjnfP8LDzCoHEyscXD/KwyvHB1LvcUiZK1kj/DJPHxPISNkc4Zf593EBZvdvCxa5zoK0Z7BXZs3pFVw10t2hcQScEqO7+bzvdYmrACTg6sS/47rBdaPcHc6rSJhXsfz7uECHQj2FMNAj8c9jA7x1YhmnDXR2SLP2OSQmVji4dpQ7VQHQrr6qXBIrTi3nG6M9Gd/vlMyzxatPK++WVBU7ckrAX2b4U2mMSfRCZ70JajwSq08r55qR7g5pWaphECkg36f9Lm++Qlfp2LXdhHJHxmvpFaDPSLvSaLhPtt1RJ+kp/yg12dp5T1HjkVh5WgUXD3XxzC6FeYtCnD0/xNeXhFnSpFGfJd23GPx6Q5SP9qt87wgPR6cNSn8+3svECgd/2Bzj7X2qLfmG+2QWzSlnZpWDx7bHuWxxmJ+sjnLNSDe3JGKk1Xu523PTOA/nDXbx3RURzvsoxG/yG446AAAgAElEQVQ2xDi6ysmSU8pTu0FJKlwSS+aW86Xhbv60Ncac94NcujBEfdTg8Zl+7pzU9Xjdnl9N8jHQI/HA5hiXLw5n7DTZJawZbAnpfGNZhNnvBjlnfohmxeBvRwcKWmQtlmw95av5yPZ8dmTNJbUVO9j5nX4uieWnlvPlEW6WNWt8e3mEiz4O8f2VkdQVdZ09Uy56wt97Uob/O8bPFSPcrGjSuHdTjCMCDt47qYwVzRozqzILiskSXDLMzb93K0Q0g7/vjPOLdVHmDXNz49i2Se7VI80bK+7dFEstMEc1g3/tVvjisPxHmdrjc0g8fUyAGo/Mj1ZFmP52K7/fEuel2WVMqpA52IWiT90VZw/1ONEXkYx8lW8E3cZzdQoXLzTv8jzML7PtrI53eaoGbAxqOCTz3rZiFZzbHdVpiBr0d0sM9soFVdyzy6agjks2n7U9TYrB9rCOV5YYGZC79eC+ZpiVgFtVg2q3lFFVORd29GVgpuZENIMxZY6S7uZZkTMp34G4wVCfVNQiLwbm2Zi9MYMBHrOScU+vQ/aEr3dGT/pHKeisnfcUmmGe+TcMGOaTek3l6iR25GuMG+wM6xxRJndplf+ejTF+tCrC76f6+NZoD6phpv4P88mWzk3GdVgf1Kh2SQy1eQ7eLlHNYH1Qxy3D2DJHl/vBxrjBjrBOtVtiuK9r/WqxZettvtrZ83VVVqt2sPM7mmHGINUwGOHP3kYKsVkp/b03yfD2PpVTPwhy6wQvt7XbjNgc0hn3egsPTfPbyhx8dFuca5eF2XBGRcEbL5oBG4Ia1W65W2pLFCvOJjnU40RfQ0x+S8S3lkc4faCTKZUOKlwS8/erfGNZhN2JVNHLh7v529F9q8KqQCAQCPom7Se/AoFAkI5uwGkfBvlov8qnp1dkPXr03RUR/r1bYd3p5ZYmYGHNYMIbrXxusIsHpnStOKZAUCjizG8JqIvo/HFLjD9uyV78p8Il8fPx3Z8+IxAIBAKBQCAQpPPuPpXGuMEJ/R30d8tsDGrcstYsFvnbo3w5a27cNcmLLMHSJo0TB+SfUixr0rhwiIs7Jooxr6DnEJPfErAlpFPpkjIqGCc5Z5CLuyZ5GVfee1IEBQKBQCAQCASfDZ7ZpfDQ1swNmnKneWVdZ0UrA06J+yZb38E9vr/T1r3zAkF3INKeS0RMhwX7Veqi5kXiw3wyY8scHYoPCQQCgUDQ3TTEDHZFdEb4ZGp66D5mgUDQe1japLG+VaNFhRF+iWOrnFS7RWwQHHqIya9AIBAIBAKBQCAQCA55xLajQCAQCAQCgUAgEAgOecTkVyAQCAQCgUAgEAgEhzxi8isQCAQCgUAgEAgEgkMeMfkVCAQCgUAgEAgEAsEhj5j8CgQCgUAgEAgEAoHgkEdMfgUCgUAgEAgEAoFAcMgjJr8CgUAgEAgEAoFAIDjkEZNfgUAgEAgEAoFAIBAc8ojJr0AgEAgEAoFAIBAIDnnE5FcgEAgEAoFAIBAIBIc8zp4WoK8T1gxaVSh3gt8h9bQ4PUahejhU9XeoPtehTF+32dpWjS0hncP8MkdWOHpanM88fd2fPmsIe7VRal30Jt2HVIO1rTqNcZ0jAg6OKOu9e0Qi5vc9hM16B723VfcRHtkaZ9DLzTyyNZ56bWtI55fro+yM6D0oWWl5cIuph8e2x/O/Oc/nepv+DOC5OsXS37ImDShcH4Keo6/arEkxOPejEBPfaOW8j0Kc/H6wW3+vIWZw2odB3tyrWnr/W3tVTvswyO5o72jPpaKv+tNnlUPZXnb71FLrojfoXjXgF+ui9H+pmaPfaeXs+SHGvN7C1UvDPSZTLkod8wVdR9isdyF2fruBX6yL8tj2OPVRg/un+HpanD5Hb9OfbsDFC0OW3nv9KA8PTut5mQWfHX72aZRX6hWuHeXmsuFuwprRrb/37eVhmuIGp9RY6z5OqXHy49UG1y+L8MKsQLfKJhAIOtLb+tTeyK/WR7llTZQ5NU6+d7iHarfE0iaNob7et0dU6pgv6DrCZr0LMfntBq4Y4WZXRGfeMFdPi9In6W36c0jw7kllGa/dvjbK2/tU/jTNz7jyts5xiLf3dZSCQ5eQavDQ1hiDvDJ/mubv9t9b3qzxbJ3Cy7MDWM1OlCW4baKX8z8K8fEBleOqRbdzqPLPOoXVLRr/O8Hb06LkpC/IWGxy9aml1kVv1X1MhzvXx6j1SLx2fBmeRDd+0oDix6qu6qDUMb876a3+UGwOJZsdKoiRejcwt8bJ6yeUMbu/GOQVQm/U38kDnBl/AxO944wqR8brY3rx+SDBocfmkI5mwIx+pTk79NsNMUYHZM6qtbcwdU6ti9EBmbs3xLpJMkFPoxlw6cIQL+xWelqUnPQFGbuDbH1qqXXRm3W/IagR1QzmDnSlJr7dQTF0UOqY3130Zn8oNoeKzQ4les/sog9wIG7wfqPKppDOjH4OjqvO7sjbwjrrW3UmlMuM8LdF0n0xg3cbVbaGdKrdEtP7OZieozE0KQbvNaqsadEY7pO5cIgLxYCFB7QO3wvmyuWC/SormjV8Dolp/RzMrHKQvjmzMaizJaRz0gAHLlnipT0Ka1s1BntlLh7qoszZcSvHjszFIpv+CpEdTD3O36+yrEnjiDKZkwY4S747awBvNKgsaVKp9chcMsxFeZq8m4I6mxPPphnw9C6FarfERUPaJhh2nqPYz9zZ961r1dgeNhgdkDtM/Fe3aNRFDCZVyAxLpI5Z9aekvU8e4EAH/r1bYXtYZ1KFg/MHuZAT6nu/UWXhAY1Kl8TFQ11Uu6UO33HiAAdeWeLtfSpLmzT6uyVO6O/M2LHvig7SUXR4qV5hfatGP7fEif2dTCqwqEW+Nr20SeO1BnPgIEvw3wbzDO6pA53kaA6dohvwQeL3QqrBCL/MsVXOVMEX1YAX6xWuGelO6R9gTYvGzojBtH4OBnra/o+YDu/uU3FKpkwXDnHxxy1xYjoFDTCt+E6x21I+rNo7XwxIx0osT+p8SqXMoHayv7FXpX9CP+kk2+qMKgcH40ZB8TQXq1s0doTN86QtqpHyxTFlMqMDbfJZebZ07PaDndnWqoxgz15W/MmKX+aiq7Ye4JY69KndpYtc9KTu87G0SePVejOOBtNkS+cwv8T4clPH+WyZKybY0UFnsuaL+Z3ppBi+ZJXOYqMVXVixbSF9fCn7aCh+Py0oDmLya5FX6hW++kmYxriBLJkDxTFlMucN6th5PVen8KNVEX4/1ce3RntSr12+OIRiQK1HpiGmoxtw7Sg3D071ZwwmX2tQuHJJhPqojls2G+thfpk7Jnm5YnGYh6f7uWakO/X+jw+oXLkkwrpWswHGdAPdgNMGOnlshj818XhyR5xfrIvywcllfG9FhKWJ4kwAP/1U5q0TAkxMCwJ2ZC4m2fRnV3aA9xpVvrgwRGPcYFRAZmtIR5bgyZkBvliilGpFh3mLQvxjV9vq5s1rMuV9amecW9dGWTq3nK98EmZ1i8a8Ye5UZ2rnOYr9zPm+T0Liwo+DDHBLrDqtnEqX6RS7ozonvhek3Cmx8rRywJ4/pdv7yiVhNgXbCrV89TA3j83wc+WSMI+nFUj52RqJt08sS1VQ/PvOOP+7NsrCU8q5c12UF/YoSJiDK1mCn433cut4b14/tqrTPVGdOe8H2RDUqXJJtKoGkgT7zq1M6cUqVtr0rWuivJQYtL24R+HFPea/m863/3urWjQuXRhmXauG1yEhQ+pM0gNTfHz7cA8LD6i0KAYntMvI2BHROXt+iOtGuXkoLaXrG8vCPLY9zp+nm6+dNMDJPRtjzN+vMtfieeEkVn2nmG0pH1btbSUGJLEayxcc0Lh6aZhbJ3i5LS1lcHWLxhkfBhnqk9l5dkXGIOxbyyO826iy55zKguJpZ9yzMcZfE21xS0jnrPlmMZc7Jnq5ebzX1rMlsdsP5rOtFRnt2suqP+Xzy87oqq2hY5/aHbrojJ7UfT5yxdF0bjjCw72TzbPSndmys5hgVQeFyJqM+fl0UgxfskK+2JhPF1Zta7ePL3UfbcVmgp5B5GhaYG2rxgULQqgGPHdcgNbPVVJ/biUnD3By7yZraXzT+jl4dIaf8AX92H1OBQfPq+S8QS4e3hrn32lpHxuCOhcsCKEZBi/PDhD8XD/2n1/JCQOcXLs0AkD64teOsM7pH4ZoiOq8cnyA5vMr2XduJTeN8/LmXpXzPgqRPFef3G25ZGGYCeUOtp1VwY6zK/jeER7qozpfW5JZ1dCqzKXAruwbgzqnfxhkYoWDvedWsvGMCvadV8mxVU4uWxzi0xYty68Un9vXRnFKEpvPrGDrWRV8+3BT3ivT5PUmDk/esDKCS4anjvZz83iP7eco9jNb+b5x5TK/OdLLzojO91dGUp/95rIILarBEzP99EsEeDv+lLT3xR+HOLvWRf25law4tZzJlQ4e3x7ntA+CLG/SWHFqOfXnVnLjWA/7YgbfXN4mQ7KdXLE4RFQ3WHN6OeELKnnzhDKGemVuXxvl8R2dVxe1o9MbV0fZENR5Yqaf/edXErqgH2+eUGa7g7Paph+e7uPRGebE8kvD3Ww6s4JNZ1bY3pV5tk7h2HfMwcebJ5TRdH4loQsq+fFY0wdHJlbik5XMp7XbGTir1sW0fg6e2KHQGDeDzf2bYzy2Pc7N471clZigJHcUljfZb3tWfadYbckKVu1tJQaAvVh+7iAnEmYl7XT+Vafgd0jURXSWHGx7nqBq8OF+lRP7OxnokWzH03z8+kgf606vAGBCuSPli9883GP72cB+P2jFtvlktGsvO/7UmV/mo6u2zkaxdZGPntR9PnLF0U1nVvDw9I7nMzuzZWcxwaoOCpG13ClZ0kl3+FI28sXGznRhq13Z7ONL3UdD8fppQXERk18L3LgqimrAYzP8XDTEhd8hUeuReHi6n1kWi7eMDshcNtydGnRUuCTuOtJceftnXVvj/OHKCHHd/K1zBrlwyVDlkvjTNB+DvWZjSW8y318ZIaga/HWmn7NrzfdXuyXunOTl0mEuVjRr/GWb+f2eRNCu9Ug8OsPPYX6Z4T6Zeyf7GFsms/iglhq82pG5FNiV/eZPI7gkiaeO9qdSYatcEg9O86Eb8MctpZH/ML/MYzP8jA7IjPTL3D/Fx5gymUVp8ib1+8lBjVePL+NLw92p3Us7z1HsZ7b6fd863MPpA508tj3OW3tVnqtTeH6Pwo/GeJiTtsNnx5+S9h4dcHDfZB+1HonJlY5UpdL3G1X+cWyAyZUOaj0SvzrS9IMPG1VCqqlXh2R+h27AC7PKmFDuwOuQOHWgk5dmB5AwKzB2VnPRjk6XN2nIkjkZlAC3XFjBFKtterBXTqWBVTolDg/IHB6QbWVkNMQMrl4aZkyZzEdzyjh1oDNlnz1RUzNTKx2p9wLUZBkE3TTOS0QzeGRrjIUHNH64MsKXhrv5xcS23YWaxBfvjdm/8siq7xSrLVnBqr2txACwF8sHeWWOqXbw8QGVoNr2Hf/arXDVSDcVLon/pO1gvbVPJa7DF4aauyZ242k+BnqkVHq8Rybli1WJQaWdZwP7/aAV2+aT0a697PhTZ36Zj67aOhvF1kU+elL3+cgVRw8PyAzxdox1ndmys5hgVQeFyCpL1nTSHb6UjXyxsTNd2LGt3T6+1H00dG4zQc8hJr8WeKdRZbBX5oJ2KUoScN5gew0nqBo8v0fhwS0xnkysSO2MtAWh9xpVhnhlzm2XTu13SKnfl9IazVv7zPefP7hjcLp2pCf1nUl5wVx9cqdZXgJmJVIZs62Y5pO5FNiV/ZUGlcmVDpoVWN+qp/6ckhlsPzlo7Y7SrjIvi7yz28mbDIJfH+mmtt3Ews5zFPuZrX6fhDlIrXJJXL88zHdXRJha6eAXE7NfqWHFn9rs7croJGYmdg9HBmTGpp0xloBjq50YwPpEinSynVw+wt3hjOnkSgfHVTvZHdVTZ4+6ogOAWdUOdAOuWhpmS6jwO23ttOmu8tPVEZoVg3sn+zoMwpY1aVS7pVT6VkNUxyObsag9Fw1xMa5c5sEtcS5bHGJWfzP1K/2dHhkCTom9scJjRz7fKVZbsoJVe1uJAWDf7ucPcqEa5kIQmOmDK5o1zh3k4pQBTp5P2xF/td5MB/x8sg9JvG63LygUu89mtx8spm2t2svOb3bml1boiq27glVdFIvu0H2x6cyWxeoDCsGqTkrhS13Rgx3b2u3j+2IfLegexJnfPOyK6IRUgxn9shflCFi87yOum2kyT+yIE9MMxpU7UmkPcd0cvO2M6LSqRoe0wiTtB527IjrNisHUyuyyjU8c9l/bmtlJlWWxejI1tUlpG0hakbnUWJG9LmGzjw+ojH+jJev32Fm17gpW5E1K0r5glJ3nKPYz2/2+oT6Zu4/ycfVSMz3txdnlGYMYKMyfKtqlBgUS/+3NsmyaXCU+mJAr+Y6aHEU6xpXLLDhgFjA5zN9xHdCuDu4+ysfuqMGLexRerle4cIiLu4/0McpiMRMovE0XgoGZ8jypwtHhDG5EM1jbqnFy2usOScq5Sy5L8I1RHm5YGWGIV+Y/xwWyFrXSDHAVsORq1XeK0ZasYtXeVmJAIXY/f7CLn62J8sZelXMGufjXbgWPDCcOcLAx6OT5FRE2h3QOD8i81qByTLWD4T77snUVu89mtx8stm27o4/J5ZdWKYatC6EU/mH393q6f+/MlsXoAwrBjk5K4UuF6sGube328X2tjxZ0H2Lya5F4jkUiq2tHX/7ELOJwywQvN47xEHBKxHTw/qcp9Z7kxkskx+XXaruXXYkJQK7LspsTnYWVsxrZ3mFF5t5Ae9mT2phb4+S+KT4Mw3zNgNS/u/M6g3x0kDchcPt1FDvPUexnLuT7XtijpIrBPbUzzvR+mTu/3e1PdvdTkmlf2dJ4wb4OKl0SL80OMH+/yq83xHiuTuHdfSqrTitnsMUKpMVs0/nYFjInGZMrO04yXmtQUY22lGeAgV6JuA6tqtHhvNLemMF9m2K4Zdgf14npBu0tElINopqRuibMDlZ9pxhtySpdsXd76xVi98mVDg7zy3yQ2GF4aY/CqQPNYznnDHLxnRURXq1XOHeQi+1hnW+Ozp6JkU+2rmL32ez2g6WI913tY3L5pVW6y9aFUOpszd7Wv3dmy2L0AQXJlPhfKzophS8Vqodi27Z9H9/X+mhB9yEmv3kY5pMpd0qsbdWIaAa+dhFvZycpk0kOKgbP1ikcXeXIuMxbbbfbNchrnnlY06pzUDE6pCGubZdmVOuRGOCWWNdqrpYF2g1IFycKF0zJMrgtlsy9kaTNtoV1jiqwhH0pyaVRO89R7Ge2+31/3hbnhT0Kdx/l47k6hXs3xbhwiIvjEylrPelPddGOv2EAy5vN8z9jc+zGFKrT4/s7eWGWk28vj/CHLTEe3x7nJ+OsVfPszjbdnm2J2NU+zhiQKuSXPvlNpvg1RA3Ky9o+E9UMPr/ArMT85MwAX1wU4v7Nce6alPnM9Yl050FZztF1hh3fKUZbsktX7J2kULufP9jFQ1ti7InqfHRATVXWHh2QmVLp4PW9aqqYi5XKwsWg/ZjQ7rPZ7QcLsW2Ocatl7P5mMaJcd9m6q7qwS6l1X2ysiJ8vJhRb53Z1Uqq4YSU2puuiUNva7eP7Sh8t6D7EmV8LXDDEZZ6La1fZeXdUT5076yyWbQ2Z13K0v6Ps6UQ5//Qx3DWj3IRUgxtXRTJef3GPWUSoPfOGu2lVDX67MVO2sGbwqw0xHBJ8Yai7w+fyYUfm3sjFQ11sCek8vLXzwhcNMXNgnWuXoRR09stWn8Pue61g9fu2hMxKz1MqHdxwhIc/TfMhA19bEk6tjvakPz2xPc7+dmlwf98RZ1NQ5/xBrlT1zmx0RafHJu4Bz5U1kovuatPtGZlI9X6/Uc3Q/+1royzYb+4KTE1LPT02UdxvYdqZKwO4ckmEhQdVHp3u5+KhLkb6ZR7aEqO13RbdxwfMz1ktEpjEju8Uqy0VQqH2TlKI3T832Dy/d9f6GBJwQdoZtIuGuHhnn8rb+8wzdEcUmHJrFYdk7qxsCukddmftPpvdftCqbTuT0S52/KkY4a3Yti6mLqzQU7ovNnZEbx8TulPndnRS6riRLTbm0kUhti20j+/tfbSg+xA7vxb45SQvL+xRuPnTKJuCOqcPdLIvbnDPxhhzapw8W6d0GsgmlMvUeiRerle4Z2OMuTVOPj6gctvaKD6HlDFIvHmcl1fqVf68Lc7yZo1Ta8zfenGPwhm1Tl5vUDNWLO6c6OXFPQq3rY2yP27whaEu9sYMfrU+yrpWjZvGeTmmyv4KlB2ZeyO/PtLHK/UK31ge5qMDKmfXuqh0mRVsP2hU+d0UH+VOicsWhXh7n8rtE7383OJde8XG6ESVVp/D7nutYOX7/A6JL38SNiv9TvfjlMy0qp+M83LHuig/Xh3lgSm+HvUnHZj9bis3jvUyyCvxfqPK/9sYI+CUuG9K5ylddnR6+eIwJw5wMKXSQZNicNf6GE4JzstSFKMzuqtNt2dUQObsWhevNiicMT/IaTVO3mlU2R0xmFPj5INGlfHlbb8zrdLBALfEO/tULh9uduy3rony9K44vz7Sxxm1Znfy3SM8/GBlhEe2xvnBmLZrPN7bp9LfLeU8y5kLO75TrLZkhWLZO0khdj95gJNyp8SftsY4q9aVcWXHF4a6uHVtlKd2xrnZ5k50oUzr5+DdfSo/WBnhuGoHs6qdjArItp/Nbj9ox7a5ZLSLnd/szC+t0h22LpYuSv17xW7LdujMllZiQnfp3I5OujtuWI2N2XRRiG2t9vF9rY8WdB9i8muB4T6ZRXPKueKTEI9tj/PY9jg+h8RN4zxcMMTFs3VKRtn49vgcEk8fE+CyxWF+tMq8o3BihYOXZpfxzeVhtqVVnatwSSw8pYzb1kZ5c6/KP+oUTuzv5OXZZTxXF+f1BpXytEBV4ZJYMrec76yI8KetMR7YbK5EDfHKPD7Tz1dGFLb6ZEfm3kiNR2LlaRV8Z0WYZ3YpPL69bRVxcqWD+kTqZvL8YXeex8lHZ+Miq89h971WsPJ9/6yL8dF+lR+M8XB0WrD/+Xgv/9qt8IfNZvrz3Bpnj/nTTeM8bAvrfHdFJLUTPavarEY8Mkuhq3Ss6jSsGWwJ6Ty1s+3/H+KV+dvRgdT9tlbprjadjf87xs+3V0R4rV5hVbPGxUPd/N/RXsa/0cLMKifpYwxZgkuGuXlmV5wHphj8a7fCL9ZFmTfMzY1j2ya5V490879ro9y7KcZ3Dvfgks3U6H/tVvjiMLftM4N2YlGx2lI+imnvJIXY3S3DWbVO/lmn8MVhmQO4SRUOxpbJbAjqXGTzqpJC+dUkH59bEOSBzTEe2Gz616iA2/az2e0H7dg2l4x2sfObxVja6w5bF0sXpf69Yvd1dshlS6sxobt0bkcn3Rk37MTGbLqYN8xt27ZW+vi+2kcLugfJMIqxJvnZoTFusDOsc0SZbHtlUTNgQ1Cj2i0XdN3BJQtDPFunsOLU8qxFauI6rA9qVLskhhah0iN0XebegGbA5pCOYcAwn5RxRkM3YEdEzzsJ6g109hxdeW+xfzvf95TKn+7ZGONHqyL8fqqPb432oBpmBcZhPnt3KyaxooPGuMGOsE61W2K4Ty64wE2S7mjT+Xh7n8qpHwS5dYKX2yZkrvxvDumMe72Fh6b5uXqk9Q7+0W1xrl0WZsMZFYwucJejmL5TLH8utr2T9ITdi0VUM1gf1HHLMLbM0UEnXX22fP2gFdvmk9EuxY63paTYuij17/U23VuJCd2t896gE6uxsTNd5HuOQvr4Q6GPFnQdMfntI+yJ6ox/o5VKp8TWsyq6vYMSCPo67TtGQX50A077MMhH+1U+Pb2Cw7NMVL+7IsK/dyusO73c0qAqrBlMeKOVzw128UCeNHOBoDNEPygQCJKIPl5QKGKZopehGvClRWFeqlfYHtZpjBu83qBy1vwQLYrB76b4RIcvEAi6zLv7VJ6tU6iP6ig6rGnRuHRRiHf2qdw5yZd14gtw1yQvXxjqYmmTtXsMlzVpXDjE1aH6s0CQC9EPCgQCgaC7EGd+exnbwzrvNao8vSuz0l2tR+LBaT4uLNF1FQKB4NDmmV0KD23NrFZZ7pS4ZYKX7x+RexU94JS4b7L1Hdzj+ztTV14JBFYQ/aBAIBAIuguR9twLUQ1YsF9lW9jckRkdkDm6ytHjZ1kEgr5EQ8xgV0RnhE9OXXIvyGRpk8b6Vo0WFUb4JY6tclLtFroS9DyiHxQIBJ0h+nhBoYjJr0AgEAgEAoFAIBAIDnnEmV+BQCAQCAQCgUAgEBzyiMmvQCAQCAQCgUAgEAgOecTkVyAQCAQCgUAgEAgEhzxi8isQCAQCgUAgEAgEgkMeMfkVCAQCgUAgEAgEAsEhj5j8CgQCgaDkBFWD/XFx2YBAIBAIBILSIa46Egj6KNvDOn/cEmNJk8aBuMHEcgc3jvUwudLR06IJPoOsbNa4f3OMYT6Z2yZ4877/eysiHN/fyaXDXIDwZ0HPIvyva0Q1gwe3xnlvn8r2sM74cgffOtzNCf2dPS2aQCAQZCAmvwJBH+WKxWF2RnTm1DgxDHh0e5wDcYNlc8sZVy6SOgSlIaIZXLcswlM747hkiZn9HHxwclmnn1F0mPRmCytPLcfrkADhz4KeRfhf1/jcghCrmjXOHuSin0vi37sVNgQ1Xpod4OxaV0+LJxAIBCnE5Fcg6KOENQN/YuIAsLxZY9pbrfx8vJfbJ+bfeRMIioFuwLxFIX4yzsv3VkQA8k5+n9+j8Gq9wkPT/KnXhD8LehLhf11jTYvG4WUOPIl1gpBqMPb1Vg7zy3w0p/N4IBAIBKVE5KMIBH2U9IEaQH+3+d8usUkhKCGyBP84NmDrM3/dHufGsZ6M14Q/C3oS4X9dY2JFZnp4wClx0gAnb+xVekgigUAgyMk9IiEAABRDSURBVI4I6wLBIcD6Vp3vLI8wwC1x5WHuon53WDNoiBmENZEkIug6++MGG4M6s6pzr712pz8LBPkQ/lccdkV0Dg+IYaZAIOhdiKhkgS0hnefqlJx/u6M6AM2KwfuNKv+3M86ft8X56/Y47zWqNMQ6ThqS37m+VS+KjA0xg9M+DPLmXtXyZ97aq3Lah8GU/KWgr8jZV/jjlhiDXm5m/BstrAtqfDSnnGG+rjXr9jZ6cEucQS8389j2eN7P9pSt7PpVb/KpQtpEqSmmvp7aGedLw7KfASy2P/eVeHMoy1kK9CKty+XzPzs63x7W+f7KCJtDbe/trfozKJ4Ok6xp0fj4gMrFQzMXD3pT7BUIBJ9NxOTXAm/sVbl4YSjn3+KDGgDP1imc/H6QyxaHuWZpmCuXhJnzfpBhrzRz3bIwB9Ku9Uh+53/2FCcl6NvLwzTFDU6psZ7JfkqNk6a4wfXLIkWRwQp9Rc5sKLo5OJr5disXLwz1qCxJ5tY4+X+TfdwywUtQNYuOpA+2CqEQGyXpKVvZlbm3+BTklr03+Vsx9fXEjjhfHpF9N63Y/txX4k1fl7MnfPXZOoUz5wepfbkZ3/NNTHurld9titGVOVw+/7Oj80e2xXlyR5zhaZPn3qS//XGDW9dGmfl2K+UvNBN4oZnpb7fyfzvzL3LmI67DtcsijPDLfOfwzLbem2KvQCD4bCLO/Nrg+lEerhjRccdiQnnmWZcfjvFw83gvhgHrgxq/2RDj4a1xtod1Xj2+DKnDN3SN5c0az9YpvDw7gMPGl8sS3DbRy/kfhfj4gMpxnaQhFoO+Imc2/rNb4YerImwN6RhArJcsWo8vdzA+4X/Xj3Iz5a1WrlsW5s0TCiswUqiNkvSErQqRuTf4FOSWvbf5W7H0tbpFo8IpMcKffd21mP7cV+JNX5ezJ3z1jnVRfr4mytRKBxcPdRPVDV7eo3DDyggbgzq/n+or6Hvz+Z9VnesGPL7dXORxJ1y9N+kP4JldcX6zIcYZA52cWetib0znqZ0Kly0O06rCtaMKS/c2gK8vCbOiWWPBnLJUNfckvSX2CgSCzy5i59cGIwMyx/d3dvirdmcG9xqPTJVLototMavayXPHBpjd38l/G9TULnEx+e2GGKMDMmcVcJ3AObUuRgdk7t4QK7pc7ekrcmbjlXqFI8pklswtx1ns1YsiMdgrM7fGyYeNasG7H12xUZJS26pQmXvapyC37L3R34qhr8e3x/mqxTOUXfXnvhJv+rqcxfDVuojO83sUy3b+wlAXL80OsOzUcv4w1cdfpvtZfXoFQ30yD26NsTHY9RlkLv+zovPX9yrsiuhcNbLN17u7rdvV4eXD3Ww+s5znZwW4c5KXR6b7eftEc5L/243RgmQwgOuXhXlut8K/jgtwZEX2O5J7Q+wVCASfXcSSWwmQJTh3kJOP9qssa9I4pip7h1AIqgEv1itcM9KN3K7j3BczeLdRZWtIp9otMb2fg+n9Mn9bluDCIS7+uCVOTCd1TYFddAM+2K+yolkjpBqM8MscW+XkiDK5UznXtGjsjBhM6+dgoKft/4jp8O4+FacEpw50Fk3OQrlnso/yEs5CrOqlPZtDOkN9ckHZBZ35UhID8/c/OajRzy1xfLWjQ5XPYtqqu/2qJ32qM32X0t9K1QY1w7zi6LYJ1q+NKdSfrfjyqhaNFU0a28O6OdEZ6GRkYkdaxMVMuttXP9yvMW9RCPXCfpZ2vyeUOzpkXA1wS3x5hJtfrY+y6KDKmDJz4lloLIXs/mdF549ui3NMlSM1+StFW7erw0qXRKUr843HVjuocEnURzOn0FZ0eEqNk2uXhfn7ToX/HBfg9Bw6heL2EQKBQGAXEXJKRGuivkU/V3EHtAsPqLQoBif0z+xonqtTGP5qM/MWhbhvU4zrloWZ8baZwtW+sMVJA5xENIP5+wsrwrGqRWPSm63MeT/Ij1dHuWNdjCsWhxnzegu/3xzrVM4dEZ2z5ge5ZU3m+Z9vLAtz1vwg28JtK/hdlbMrlHLiC/n1siWkc92yMC/XK2wN6Sxt0rhqaZhPDmr8YIwnx7d2Ti4bJVF08z7XuR8E+cmnEa5dGubIN1v56adR2heCLoatSuFXPelTnem7lP5Wqjb4+l6F2f2dBLI8m2ZQVH/uTLfbwjqnfxhk8putfPmTMD9fE+WqpWEubXfWUsTFNnqLr+bDn5gPu6Q2mazo0q7/dabz/XGD5/coXDWy7XN9RX+LDmq0KAYnDbDnj1tDOlcuCfOXbXGuG2WmoT+/R0n97Y933I/uydgrEAg+24idXxtohtFhkA/kXWVtVQ3+uSuOU4Kji7jrC7CsyUyjntZuR3daPwePzvDzhaFuPDK0KAaXLw7z8NY4Zwx08YWhbalXyd3g5U0ac20WOXq2TuErn4Q5zC/z5gllnDDAiUeGn6yO8OsNMUYmrjnIJedZtS6m9XPwxA6FOyYZDHBL3L85xmPb49w83puRNlaInAcVgycsVCkG817HK3IU4ik1+fTy+SEu/lEX53MLQqnFjEFemT9O9fGN0YVNfnPZKMkd66LMqnay6cwKhvtkPtqv8tUlYX61PspIv8x1o7pmq3RK5VeFylkMv8qn71LR3W0wyV+3x7l+VHbfPBA32BLSi+bPuXR7UDE47p1WGuMGt03wcsUINyP9MjsjOvvaVeU/FOJiseJfb/HVfCw6YMo5NU1OK7rcF7Pnf53p/G874jgliXlpFc17s/62h3WaFIN396ncsS7KCL/M76ZknpnOp8Ojqx1csywMwO82xfjdpsx05ndPKuPkdhPqrvYRAoFAUCgi4tjg5k+j3Pxp5lmYkX6ZrWdVZLy2PayzKaijGgYrmnV+uT7K5pDOz8Z7GV3kO++S1yjVeDJn4KMDMqMDbQOZCpfEXUd6eale4Z918YzJb00i52ivzUobDTGDq5eGGVMm8+5JZVSl7WrvSaRNTa10dConwE3jvFyyMMQjW2PMrXHxw5URvjTczS8mZqZHFiJnU9zgoa3WBn9jyuReM/mFzvUiAW+cUEZMh60hjSq3TG0W3dqhMxuBOTh+7rhAqoDLnBonL80OMOXNVm5bG81I6SvUp5JylMqvCpWzGH6VT9+lpFht8IOTsxemalIMljdpzMkxyK3xSEX151y6vXFVhIaYwf1TfHzn8LZJzUi/zEh/e5n6flwsVvzrTb6ai2VNGq80KJw+0MnYssx+Np8u7fpfZzp/dHucS4a5qEize2/Vn2bAyNdaUv89odzBi7MDWe/mzdcfGRf1s/XbXekjBAKBoCuIya8NTqkxC1ylky2N+cEtMR7c0rbyOcgr88wxAS7NcbdlV2iI6nhk8OfYfg6qBm/tU9kd0VOpcjsjmTscHhkCTom9We4j7oyfro7QrBjcO9mXMcADcyBS7ZZSdyR2JudFQ1yMK5d5cIt5P/Ks/k4em+HvcM6vEDlHBWTWnl5u67mKhW6AYkHUXOedrOjFI5OqTtpV8vnSvOFtlUuTHFXhYFZ/8zz7joieOjNZqE9Baf2qUDmL4Vf59G2HUvha8vOF6OuZXQqXDnPnPbtbLH/Opdt/7Vbo75Ys7SYfCnGxWPGvmL6a7JPSWXzQ/O/n9ygZmVTlTsnSrmBEM7h2WRiHBL85qmOlZzu6tOJ/uXS+pEljZbPG79vtnBZTf1A8HcoSvHZ8mbk41azx560xJr/Zyl9m+Jg3LHMhxKoOrdKVPkIgEAi6gpj82uDMWhc/Hpt/0PS1w9ycPtBJmVNiQrmD0QG5oGtjrOCQpKzVHeM63LAywhM74sQ0g3HljtTZoniW2+w1A1w2NqUNzNS+SRWODh1rRDNY26pxctrrueQEswP+xigPN6yMMMQr85/jAjkH6Xbl7En+b1ecKxaH874v14q5Hb0Ug85sBFDjzu7EY8tkPtoPm4Jtk18ozFY94Vc95VP59G2HUvpaIfp6fHucx2f687+xSGTT7e6ozoG4ee7S6jFLERdNiumru6MG8xZl+qpmmN9+2aIQUtp53YnlZhXkztANuGyxeT73ken+1K56Ot0RS7Pp/NFtccaUyZzYLsW3mPqD4ulQAs6sNWX94jAX3xzt5rh3gly5JMIxVc6MTLVS6VAgEAi6GzH57QbGlzu4bHhp0mcHeiXiunmuOL1wxpc/CfGPXQq3TPBy4xgPAadETAfvf5o6fEdINYhqBgNt9GTbQjqtqsHkLAON1xpUVIOMQUguOQH2xgzu2xTDLcP+uE5MNyDLenIhcoY1gwX7rV0vFXBS1DsHzxjo4sMcaaBWsKqXYtGZjTqjVTUHXbXets8UYisovV8VKmcx/KpQfWejVL5WiL4OxA2OrJAZU1a6UW423SafJpStcEMWDoW4WKz4V0xfHVsmE7mgMuO1Z3YpzFsUInSBtUrFSQzg2mVh/rNb4X/Gerh6ZPZ+t9ixNJvOo5rBUzvjWRfIi6k/KK4O0xnuk7lsuIvfbozxWoPCN9MyJEqhQ4FAICgFYvLbx0meS2qIGpSXmf8+qBg8W6dwdJWD/027VkTNsuMLUJ9IOxrktd6RJVOo26f1GcC9iWIX6YO8bHKCOWD4/IIQigFPzgzwxUUh7t8c565JHa9DKUTOnWGD0z4MWnrvkRUOVp1WvBTpGo9EjaewJmZHL8Uil42S7Ip0PJtlYBYscUgwtqzN3oXYCkrvV4XKWQy/yqdvO5TK1wrRV7Vb4uHppdv1hey6Hew1719f26pzUDE6+Fh7DoW4WKz4V0xfLRa6AV9fGubx7XG+f4SH3xzZMd0ZuieWZtP5v3crtKpG1nuse6P+cpE8ypV+FLdUOhQIBIJSICa/vYiGmMEHjSrnDnLis7h0e2xipX7hQZUjEvcabg3p6AYM8WauqD69SwHocNXRxwfMs0KzbOx6JtNb329U0Q1ShY5uXxtlQeLqgvSKm9nkNIArl0RYeFDl1dllnJa4Z/OhLTFuGufpsEJeiJzjymXbhTh6Grt6KRbZbJSUB+CBzXGuGeXJKIby5I44m0M6Fw1xZaTAFWIrKL1fFSpnMfwql75LSSnaYE+QS7fzhrt5cEuMG1ZEeGyGP+cdwHBoxMVixb/e4KvpaAZ89ZMwf98Z54djPPw2yzlf6L5Ymk3nj26Pc84gF4O9HXcye5v+wLy6rn3KcVgzeHyHWSAtWd+klDoUCASCUiDyTXoRly0KccnCEL/dGMv/5gTTKh0McEu8k1b8YkK5Wany5XqFezbGWNak8eCWGDd9GsHnkFJpqkne26fS3y3ZuoZhVEDm7FoXq1s0zpgf5Ffro5w5P8izdQpzapwdCodkk/PWNVGe3hXnrkk+zqh1Ikvw3SM8NCkGj2SpUFqInH0Ru3opFtlsBKSu95rWz8GZHwZ5eGuc5/co/HBVhK8vCfP/27u/0LbKOIzjz2nTdG3X6comE7aqoKBMsKjUP4wh6vBCEFFkIvNuDBQRitPbFURBUDfZFEFEEaYi2N6IF0plg6FzOreuOjpaV7XQ1Y2Ztkl6eppz8nqRxjVZUvOnOT05/X4gN4XQl+f95SW/nPO+pz1i6UDeAS+VzpXfdbWSNVUsbz+F9TNYLNvXt67RlpYGffLXvLYdTejd8476J1J6Z9T578psFuviFUGo1Swj6Zmfkjo8Pq9NC43my0N2zuvgwnOUa7WW5mf+x2xaAxfdnEdQLRak/LLuOxLXzhNJHRh11DeR+a7QNRDXSCKtPTdF1b3wWEa/MgQAv9D8Bkh270uhX46LabCkpzZH1T+Rkr3QpbQ0Wvq8u00bmxu0d8jWnd/Fdej8vL66f622rmtQbNED5+c8o76JlHaWcBJrvs+6W7WrM6rBKU/7Rx3d3Naoo9vXanDa093rcw+VyR/n4fF5vTo8p6c3R/XKoj1Su2+M6pomS/tHHaXybruqdJz1pNxcllOhWpIyVwMk6aO7WvXAxoheGrL1+A9JvT3i6N6OiE4+2K4tLbl736qZK7/qaqVrqljefgnzZ7BYttc2WTr9ULue7Yzq1LSnF07beuJ4Uj1nbP34z5XGhHUx10rX6mKzrtEXC3cxTc6l9daIozfzXp+Op2q2lhbK/OM/53Vds6VHNxV+okOQ8pMyV323bYjom79d9Zyx9eTxpPYO2Uq40qGuFr3Xldmm4GeGAOAbg8Dw0saMJb2y3zea8ExjX8x8MObk/N1NG3N2xjWTc+mi7/1wzDGNfTHze6L8/1vIwMWU0Zcxs++sXfI4S7Hc40RhpcyRmzZmaNo1l53CdVWLuapFXQWhpqr5TPgtCHmV4/+yddPGDM945tdp18ykcmuZdfFq9VSrtVQo80eOxc1rw1fP7WJBze+C7ZmTMddcKrKe10K9rSUAwsUyxqz8z5Co2ouDtvonUhre0a62EvfgzHpGt30b12PXN+ngHYX3TJUjbaSHjyX0/WVXv+1Yl7M3NEjjxNIqmaOsWsxVLeoqSDVVTd5+CVJe5QjCehOmdbEearWWqs18tecn1e9aAiA8Gnt7e3tXehCo3vYNEV1wMieY3tBa2m3TJ2Ke0srsg4sudfJLAUcuufp5ylNH1FJzg6VzcU/PD9r6etLVG7e3FL39y+9xonyVzFFWtXPlV10FqaaqydsvQcqrHKyLy6searWWqs18tecn1e9aAiA8uPKLijx3ytb7Y7kHxLRHLPXc0qx9t65Z8hRVoBjqCvWM+gUAINhoflGxX6Y8nYt7mnGlzlZL96yPqCPKtztUh7pCPaN+AQAILppfAAAAAEDorc5NJwAAAACAVYXmFwAAAAAQejS/AAAAAIDQo/kFAAAAAIQezS8AAAAAIPRofgEAAAAAoUfzCwAAAAAIPZpfAAAAAEDo0fwCAAAAAEKP5hcAAAAAEHo0vwAAAACA0KP5BQAAAACEHs0vAAAAACD0aH4BAAAAAKFH8wsAAAAACD2aXwAAAABA6P0Lm8Rjde4zbCQAAAAASUVORK5CYII=)"
      ],
      "metadata": {
        "id": "cJnBtbNiLKGb"
      }
    },
    {
      "cell_type": "markdown",
      "source": [
        "for completeness, fixed point iteration [@scipy](https://docs.scipy.org/doc/scipy/reference/generated/scipy.optimize.fixed_point.html).\n",
        "</br></br>\n",
        "\n",
        "for completeness, a plot of $y$.\n",
        "</br>"
      ],
      "metadata": {
        "id": "vD8fnKOXMtFU"
      }
    },
    {
      "cell_type": "code",
      "source": [
        "import numpy as np\n",
        "import matplotlib.pyplot as plt\n",
        "\n",
        "xs = np.arange(0.0, 1.1, 0.1)\n",
        "\n",
        "gb_debug = False\n",
        "plt.figure()\n",
        "plt.plot(xs,f(xs))\n",
        "plt.title(\"$y=x^3+x-1$\")\n",
        "plt.grid(True)\n",
        "gb_debug = True\n"
      ],
      "metadata": {
        "colab": {
          "base_uri": "https://localhost:8080/",
          "height": 456
        },
        "id": "BhmPKqMSOJOP",
        "outputId": "66cca9e4-92b6-4b9c-8b6d-7ae7d26e7238"
      },
      "execution_count": null,
      "outputs": [
        {
          "output_type": "display_data",
          "data": {
            "text/plain": [
              "<Figure size 640x480 with 1 Axes>"
            ],
            "image/png": "[encoded data removed]"
          },
          "metadata": {}
        }
      ]
    },
    {
      "cell_type": "markdown",
      "source": [
        "### newton-raphson"
      ],
      "metadata": {
        "id": "LOU9UUOW7-jN"
      }
    },
    {
      "cell_type": "markdown",
      "source": [
        "#### algorithm"
      ],
      "metadata": {
        "id": "3-0EAv88R4-M"
      }
    },
    {
      "cell_type": "markdown",
      "source": [
        "newton-raphson: $x_{new} = x_{old} - \\frac{f(x_{old})}{f'(x_{old})}$\n",
        "\n",
        "\n",
        "```\n",
        "icount = 0\n",
        "fx = f(x_old)\n",
        "while (abs(fx) > epsilon) and (icount <= imax):\n",
        "  x_new = x_old - f(x_old)/f'(x_old)\n",
        "  fx = f(x_new)\n",
        "  x_old = x_new\n",
        "  icount = icount + 1\n",
        "return x_old\n",
        "```\n",
        "\n"
      ],
      "metadata": {
        "id": "j_IdxTgFXuSA"
      }
    },
    {
      "cell_type": "markdown",
      "source": [
        "##### algorithm, lecture\n"
      ],
      "metadata": {
        "id": "H4WkpAPDDq7D"
      }
    },
    {
      "cell_type": "markdown",
      "source": [
        "\n",
        "```\n",
        "function fpi(g,x0,epsilon,imax)\n",
        "\n",
        "function g(x)\n",
        "  return x - f(x)/df(x)\n",
        "```\n"
      ],
      "metadata": {
        "id": "SoT8xuBLDv-D"
      }
    },
    {
      "cell_type": "markdown",
      "source": [
        "#### code"
      ],
      "metadata": {
        "id": "gSaB0_KCR9Ru"
      }
    },
    {
      "cell_type": "code",
      "source": [
        "def df(ax):\n",
        "  rc = 0;\n",
        "\n",
        "  # do stuff\n",
        "\n",
        "  return rc\n",
        "\n",
        "def f_newton(af,adf,ax,aepsilon,aimax):\n",
        "  root = 0;iterations = 0\n",
        "\n",
        "  # do stuff\n",
        "\n",
        "  return root,iterations"
      ],
      "metadata": {
        "id": "criwV8pfMPj1"
      },
      "execution_count": null,
      "outputs": []
    },
    {
      "cell_type": "markdown",
      "source": [
        "#### results"
      ],
      "metadata": {
        "id": "AJ46Lg4hD_w8"
      }
    },
    {
      "cell_type": "code",
      "source": [
        "# bonus code\n",
        "\n",
        "from scipy import optimize\n",
        "\n",
        "root_mod = f_newton(f,df,gx0,gepsilon,gimax)\n",
        "print() # spacer\n",
        "root_sys = optimize.newton(f,gx0)\n",
        "\n",
        "print(f\"mine {root_mod} vs python {root_sys}\")"
      ],
      "metadata": {
        "id": "tbo2lQuUTe4a"
      },
      "execution_count": null,
      "outputs": []
    },
    {
      "cell_type": "markdown",
      "source": [
        "### secant method"
      ],
      "metadata": {
        "id": "WJj2OzB8S0x_"
      }
    },
    {
      "cell_type": "markdown",
      "source": [
        "#### algorithm"
      ],
      "metadata": {
        "id": "b2dOR5RZYHV1"
      }
    },
    {
      "cell_type": "markdown",
      "source": [
        "secant: $x_{i+1} = x_i - f(x_i)\\cdot\\frac{x_i - x_{i-1}}{f(x_i) - f(x_{i-1})}$\n",
        "</br></br>\n",
        "\n",
        "```\n",
        "icount = 0\n",
        "\n",
        "fx_old = f(x_old)\n",
        "if abs(fx_old) < epsilon # epsilon ~ eta\n",
        "  return x_old\n",
        "fx_older = f(x_older)\n",
        "if abs(fx_older) < epsilon # epsilon ~ eta\n",
        "  return x_older\n",
        "\n",
        "dq = (fx_old - fx_older)/(x_old - x_older)\n",
        "x_new = x_old - fx_old/dq\n",
        "fx = f(x_new)\n",
        "icount = icount + 1\n",
        "\n",
        "# while (abs(fx) > epsilon) and (icount <= imax): # epsilon ~ eta\n",
        "while (abs(x_new - x_old) > epsilon) and (icount <= imax):\n",
        "  x_older = x_old\n",
        "  fx_older = fx_old\n",
        "  x_old = x_new\n",
        "  fx_old = fx\n",
        "  dq = (fx_old - fx_older)/(x_old - x_older)\n",
        "  x_new = x_old - fx_old/dq\n",
        "  fx = f(x_new)\n",
        "  icount = icount + 1\n",
        "\n",
        "return x_new\n",
        "```\n",
        "\n"
      ],
      "metadata": {
        "id": "zwXxdWt0YmWg"
      }
    },
    {
      "cell_type": "markdown",
      "source": [
        "#### code"
      ],
      "metadata": {
        "id": "LvqMv3P1O14s"
      }
    },
    {
      "cell_type": "code",
      "source": [
        "def qf(af,ax1,ax2):\n",
        "  # difference quotient here, plz\n",
        "\n",
        "  return rc\n",
        "\n",
        "def f_secant(af,ax1,ax2,aepsilon,aimax):\n",
        "  root = 0;iterations = 0\n",
        "\n",
        "  # do some stuffs here\n",
        "\n",
        "  # dont be like me and forget to put values into root,iteration here\n",
        "  return root,iterations\n"
      ],
      "metadata": {
        "id": "VR3OkXDw2p4-"
      },
      "execution_count": null,
      "outputs": []
    },
    {
      "cell_type": "markdown",
      "source": [
        "#### results"
      ],
      "metadata": {
        "id": "gRI6pQFHF1NV"
      }
    },
    {
      "cell_type": "code",
      "source": [
        "# bonus code\n",
        "\n",
        "from scipy import optimize\n",
        "\n",
        "x1 = gx0;x2 = gx0+0.1\n",
        "root_mod = f_secant(f,x1,x2,gepsilon,gimax)\n",
        "print() # spacer\n",
        "root_sys = optimize.root_scalar(f=f,x0=gx0,method='secant')\n",
        "\n",
        "print(f\"mine {root_mod} vs python {root_sys}\")\n"
      ],
      "metadata": {
        "id": "C7FRcnnHO143"
      },
      "execution_count": null,
      "outputs": []
    }
  ]
}