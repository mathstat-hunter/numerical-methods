{
  "nbformat": 4,
  "nbformat_minor": 0,
  "metadata": {
    "colab": {
      "provenance": [],
      "collapsed_sections": [
        "qISMHGM20xQ9",
        "7F_l5n1FbXKE",
        "GRDCNVuD55DA",
        "VJaMt1KQhklF",
        "MEh1E45oimEb",
        "4YH7g8bVwiFo"
      ]
    },
    "kernelspec": {
      "name": "python3",
      "display_name": "Python 3"
    },
    "language_info": {
      "name": "python"
    }
  },
  "cells": [
    {
      "cell_type": "markdown",
      "source": [
        "# nmi | spring 2024\n",
        "## demo 06 | homework 06 : least squares\n",
        "## your name here\n"
      ],
      "metadata": {
        "id": "5UzhS1MMRn0X"
      }
    },
    {
      "cell_type": "markdown",
      "source": [
        "### q1 (10 pts) least squares solution\n",
        "\n",
        "form the normal equations and compute the least squares solution and 2-norm error for inconsistent system below. <b><font color=orange>if you code your answers, also display the normal equations.</font></b>\n",
        "</br></br>\n",
        "\n",
        "$$\n",
        "\\begin{bmatrix}\n",
        "  3 & -1 & 2 \\\\\n",
        "  4 & 1 & 0 \\\\\n",
        "  -3 & 2 & 1 \\\\\n",
        "  1 & 1 & 5 \\\\\n",
        "  -2 & 0 & 3\n",
        "\\end{bmatrix}\n",
        "\\begin{bmatrix} x_1 \\\\ x_2 \\\\ x_3 \\end{bmatrix}\n",
        "=\n",
        "\\begin{bmatrix}\n",
        "  10 \\\\ 10 \\\\ -5 \\\\ 15 \\\\ 0\n",
        "\\end{bmatrix}\n",
        "$$\n",
        "</br>\n"
      ],
      "metadata": {
        "id": "qISMHGM20xQ9"
      }
    },
    {
      "cell_type": "code",
      "source": [
        "# q01\n",
        "\n",
        "import numpy as np\n",
        "\n",
        "a = np.array([[3,-1,2],[4,1,0],[-3,2,1],[],[]]) # finish populating this with columns up there\n",
        "b = np.array([10,10,-5,15,0])\n",
        "\n",
        "ata = a.T @ a # get transpose(A)xA\n",
        "atb = a.T @ b # get transpose(A)xb\n",
        "\n",
        "x = some call # get best (ie, least squares) solution by calling some solver\n",
        "\n",
        "y_new = np.dot(a,x) # get approximate y using best x\n",
        "n2 = np.linalg.norm(y_new - b) # get the 2-norm\n",
        "\n",
        "# display everything the problem statement needs!!\n",
        "# yes, you need stuff here!\n"
      ],
      "metadata": {
        "id": "FZDUEFV3Glfc"
      },
      "execution_count": null,
      "outputs": []
    },
    {
      "cell_type": "markdown",
      "source": [
        "### q2 (10 pts) models\n",
        "\n",
        "fit data below to periodic model $y = F_3(t) = c_1 + c_2\\text{ }cos\\text{ }2\\pi t + c_3\\text{ }sin\\text{ }2\\pi t$. calculate 2-norm error and RMSE.\n",
        "</br></br>\n",
        "\n",
        "|t|y|\n",
        "|-|-|\n",
        "0.00|1\n",
        "0.25|3\n",
        "0.50|2\n",
        "0.75|0\n"
      ],
      "metadata": {
        "id": "7F_l5n1FbXKE"
      }
    },
    {
      "cell_type": "code",
      "source": [
        "# 4.2.1 example 06 (lecture notebook nmi_09_0402_model.ipynb) ~ has everything you need\n"
      ],
      "metadata": {
        "id": "Nh6AgUu2H11a"
      },
      "execution_count": null,
      "outputs": []
    },
    {
      "cell_type": "markdown",
      "source": [
        "### q3 QR factorization\n"
      ],
      "metadata": {
        "id": "N42_6NWBdKFU"
      }
    },
    {
      "cell_type": "markdown",
      "source": [
        "solve the least squares problem\n",
        "</br></br>\n",
        "\n",
        "\\begin{align}\n",
        "  \\begin{bmatrix} 2 & 3 \\\\ -2 & -6 \\\\ 1 & 0 \\end{bmatrix}\n",
        "  \\begin{bmatrix} x_1 \\\\ x_2 \\end{bmatrix} &=\n",
        "  \\begin{bmatrix} 3 \\\\ -3 \\\\ 6 \\end{bmatrix}\n",
        "\\end{align}\n",
        "</br>\n",
        "\n",
        "with QR factorization via\n",
        "</br>\n"
      ],
      "metadata": {
        "id": "N90YfVdudf1L"
      }
    },
    {
      "cell_type": "markdown",
      "source": [
        "#### (a) (10 pts) numpy;"
      ],
      "metadata": {
        "id": "GRDCNVuD55DA"
      }
    },
    {
      "cell_type": "code",
      "source": [
        "# 4.3.1 example 15 (lecture notebook nmi_10_0403_qr.ipynb) ~ has everything you need\n"
      ],
      "metadata": {
        "id": "CcFv2xj5IbMJ"
      },
      "execution_count": null,
      "outputs": []
    },
    {
      "cell_type": "markdown",
      "source": [
        "#### (b) (10 pts) classical gram-schmidt orthogonalization;\n"
      ],
      "metadata": {
        "id": "vLBAHZPOdbrr"
      }
    },
    {
      "cell_type": "markdown",
      "source": [
        "#### (c) (15 pts) modified gram-schmidt orthogonalization; or\n"
      ],
      "metadata": {
        "id": "0_-b2vmody0O"
      }
    },
    {
      "cell_type": "markdown",
      "source": [
        "#### (d) (20 pts) householder reflectors.\n"
      ],
      "metadata": {
        "id": "JMhnJKTpd97W"
      }
    },
    {
      "cell_type": "markdown",
      "source": [
        "### q4 (10 pts <font color=blue>MATH 685 ONLY</font>) householder reflection\n"
      ],
      "metadata": {
        "id": "8Jhm-zooeQ41"
      }
    },
    {
      "cell_type": "markdown",
      "source": [
        "prove that householder reflectors are symmetric matrices.\n",
        "</br>\n"
      ],
      "metadata": {
        "id": "v_wqfCwdeiON"
      }
    },
    {
      "cell_type": "markdown",
      "source": [
        "<font color=grey>hint: start with definition of householder reflectors: $H = I - 2P$. (section 4.3.3 in lecture notes.)</font>\n",
        "</br>\n"
      ],
      "metadata": {
        "id": "TgAtitDKvPjU"
      }
    },
    {
      "cell_type": "markdown",
      "source": [
        "### q5 (10 pts) GMRES\n"
      ],
      "metadata": {
        "id": "VJaMt1KQhklF"
      }
    },
    {
      "cell_type": "markdown",
      "source": [
        "for $A$ below, prove that for any $x_0$ and $b$, GMRES converges to the exact solution after two steps.\n",
        "</br></br>\n",
        "\n",
        "$$A = \\begin{bmatrix} 1 & 0 & a_{13} \\\\ 0 & 1 & a_{23} \\\\ 0 & 0  & 1\\end{bmatrix}$$\n",
        "</br>\n"
      ],
      "metadata": {
        "id": "JuVnfJSHh2yf"
      }
    },
    {
      "cell_type": "markdown",
      "source": [
        "<font color=grey>hint: step through this like homework 04 question 06. if you need, watch video wrt to algorithm - soon not thursday, sorry.</font>\n",
        "</br>\n"
      ],
      "metadata": {
        "id": "ZA05ITMHvz0j"
      }
    },
    {
      "cell_type": "markdown",
      "source": [
        "### q6 (15 pts) levenberg-marquardt\n"
      ],
      "metadata": {
        "id": "MEh1E45oimEb"
      }
    },
    {
      "cell_type": "markdown",
      "source": [
        "<b><font color=red>this is a code problem</font></b>\n",
        "</br></br>\n",
        "\n",
        "use levenberg-marquardt method with $\\lambda = 1$ to ﬁt a power law to the height-weight data of example 10 without linearization. compute the RMSE.\n",
        "</br></br>\n",
        "\n",
        "mean height and weight of boys 2-11 collected in US national health and nutrition examination survey by CDC in 2002. (fyi, CDC: $W = 16.3H^{2.42}$.)\n",
        "</br></br>\n",
        "\n",
        "|age (yrs)|height (m)|weight (kg)|\n",
        "|-|-|-|\n",
        "2|0.9120|13.7\n",
        "3|0.9860|15.9\n",
        "4|1.0600|18.5\n",
        "5|1.1300|21.3\n",
        "6|1.1900|23.5\n",
        "7|1.2600|27.2\n",
        "8|1.3200|32.7\n",
        "9|1.3800|36.0\n",
        "10|1.4100|38.6\n",
        "11|1.4900|43.7\n"
      ],
      "metadata": {
        "id": "JU0ST0PNipi5"
      }
    },
    {
      "cell_type": "markdown",
      "source": [
        "###### code\n"
      ],
      "metadata": {
        "id": "4YH7g8bVwiFo"
      }
    },
    {
      "cell_type": "code",
      "source": [
        "# this link has everything you need\n",
        "\n",
        "#https://docs.scipy.org/doc/scipy/reference/generated/scipy.optimize.least_squares.html\n"
      ],
      "metadata": {
        "id": "8ctMTHR0wjpw"
      },
      "execution_count": null,
      "outputs": []
    },
    {
      "cell_type": "markdown",
      "source": [
        "### q7 (5 pts <font color=orange>EXTRA CREDIT</font>) a wee proof.\n",
        "\n",
        "$Q$ is an orthogonal $m\\times m$ matrix and $x$ is an $m$-dimensional vector. prove $||Qx||_2 = ||x||_2$.\n",
        "</br>\n"
      ],
      "metadata": {
        "id": "NCUcM_EO0cto"
      }
    },
    {
      "cell_type": "markdown",
      "source": [
        "### q8 (5 pts <font color=orange>EXTRA CREDIT</font>) another wee proof.\n",
        "\n",
        "$x$ and $w$ are vectors of the same euclidean length -- ie, $||x||_2 = ||w||_2$. prove $w - x$ and $w + x$ are perpendicular.\n",
        "</br>\n"
      ],
      "metadata": {
        "id": "OlrB6cN31qaz"
      }
    }
  ]
}