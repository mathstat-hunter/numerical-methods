{
  "nbformat": 4,
  "nbformat_minor": 0,
  "metadata": {
    "colab": {
      "provenance": [],
      "collapsed_sections": [
        "UoY-VKUHLlAC",
        "4Ahi2_3DGM-J",
        "NigcxCYASXgd",
        "V_M5BIu8Sb_s",
        "3e73FzPaSeKP",
        "VRPx5BZlNWz5",
        "Off3BOieJr_x"
      ]
    },
    "kernelspec": {
      "name": "python3",
      "display_name": "Python 3"
    },
    "language_info": {
      "name": "python"
    }
  },
  "cells": [
    {
      "cell_type": "markdown",
      "source": [
        "# nmi | spring 2024\n",
        "## homework 04 | systems of equations : iterative\n",
        "## your name here\n"
      ],
      "metadata": {
        "id": "5UzhS1MMRn0X"
      }
    },
    {
      "cell_type": "markdown",
      "source": [
        "### q1 <b><font color=green>MATH 385 ONLY</font></b> <b><font color=blue>MATH 685 EXTRA CREDIT</font></b> systems of equations, iterative.\n",
        "\n",
        "<b><font color=red>this is a code question.</font></b>\n",
        "</br></br>\n",
        "\n",
        "solve this system of equations\n",
        "</br></br>\n",
        "\n",
        "\\begin{align}\n",
        "  3x + y + z &= 6 \\\\\n",
        "  x + 3y + z &= 3 \\\\\n",
        "  x + y + 3z &= 5.\n",
        "\\end{align}\n",
        "</br>\n",
        "\n",
        "using initial guess $x_0 = [0,0,0]$, error $\\epsilon = abs(||x_{i+1}||_2 - ||x_i||_2) < 1e-5$ and <b>one</b> of the iterative methods below. provide final solution and number of iterations required to meet the error condition.\n",
        "</br>\n"
      ],
      "metadata": {
        "id": "UoY-VKUHLlAC"
      }
    },
    {
      "cell_type": "markdown",
      "source": [
        "#### code, common to (a),(b),(c)\n"
      ],
      "metadata": {
        "id": "4Ahi2_3DGM-J"
      }
    },
    {
      "cell_type": "code",
      "source": [
        "# used by all (a),(b),(c)\n",
        "\n",
        "import numpy as np\n",
        "\n",
        "#https://numpy.org/doc/stable/reference/generated/numpy.dot.html\n",
        "\n",
        "a = np.array([[3,1,1],[1,3,1],[1,1,3]])\n",
        "b = np.array([[6],[3],[5]]) # row vector vs row\n",
        "\n",
        "# system\n",
        "x_sys = np.linalg.solve(a,b) # system to check your work\n",
        "print(f\"system solution: {x_sys.flatten()}\")\n",
        "\n",
        "x0 = np.array([[0],[0],[0]]) # first guess\n",
        "eps = 1e-5\n",
        "\n",
        "d = np.zeros_like(a)\n",
        "np.fill_diagonal(d,np.diagonal(a))\n",
        "inv_d = np.linalg.inv(d)\n",
        "l = np.tril(a,k=-1) # k = -1 ~ below diagonal\n",
        "u = np.triu(a,k=1)  # k = +1 ~ above diagonal\n"
      ],
      "metadata": {
        "colab": {
          "base_uri": "https://localhost:8080/"
        },
        "id": "XijzWoqKB7M0",
        "outputId": "91e2573d-816e-4209-d6cd-800d4235c41f"
      },
      "execution_count": null,
      "outputs": [
        {
          "output_type": "stream",
          "name": "stdout",
          "text": [
            "system solution: [1.6 0.1 1.1]\n"
          ]
        }
      ]
    },
    {
      "cell_type": "markdown",
      "source": [
        "#### a) (20 pts) jacobi method;\n",
        "</br>\n"
      ],
      "metadata": {
        "id": "NigcxCYASXgd"
      }
    },
    {
      "cell_type": "markdown",
      "source": [
        "\\begin{align}\n",
        "  x_0 &= \\text{initial vector} \\\\\n",
        "  x_{k+1} &= D^{-1}(b-(L+U)Ux_k) \\quad k = 0,1,2,\\dots\n",
        "\\end{align}\n",
        "</br>\n"
      ],
      "metadata": {
        "id": "pMJwDR5pJoWh"
      }
    },
    {
      "cell_type": "code",
      "source": [
        "# jacobi\n",
        "\n",
        "x_old = x0.copy()\n",
        "x_new = x_old.copy()\n",
        "error = 2*eps # ensures while-loop runs at least once\n",
        "count = 0\n",
        "\n",
        "while error > eps:\n",
        "  pass; # replace line with x[k+1] = whatever!\n",
        "  error = abs(np.linalg.norm(x_new) - np.linalg.norm(x_old))\n",
        "  x_old = x_new.copy()\n",
        "  count += 1\n",
        "print(f\"jac step {count} \",x_new.flatten())\n",
        "print() # spacer\n"
      ],
      "metadata": {
        "id": "QSdiIcDwC8GH"
      },
      "execution_count": null,
      "outputs": []
    },
    {
      "cell_type": "markdown",
      "source": [
        "#### b) (30 pts) gauss-seidel; or\n",
        "</br>\n"
      ],
      "metadata": {
        "id": "V_M5BIu8Sb_s"
      }
    },
    {
      "cell_type": "markdown",
      "source": [
        "\\begin{align}\n",
        "  x_0 &= \\text{initial vector} \\\\\n",
        "  x_{k+1} &= D^{-1}(b-Ux_k -Lx_{k+1}) \\quad k=0,1,2,\\dots\n",
        "\\end{align}\n",
        "</br>\n"
      ],
      "metadata": {
        "id": "ATZV2wcSKAAL"
      }
    },
    {
      "cell_type": "code",
      "source": [
        "# gauss-seidel\n",
        "\n",
        "x_old = x0.copy()\n",
        "x_new = x_old.copy()\n",
        "error = 2*eps # ensures while-loop runs at least once\n",
        "count = 0\n",
        "\n",
        "n = len(x_old)\n",
        "while error > eps:\n",
        "  for k in range(n): # per row k\n",
        "    pass; # replace line with x[k+1] = whatever!\n",
        "  error = abs(np.linalg.norm(x_new) - np.linalg.norm(x_old))\n",
        "  x_old = x_new.copy()\n",
        "  count += 1\n",
        "print(f\"gas step {count} \",x_old.flatten())\n",
        "print() # spacer\n"
      ],
      "metadata": {
        "id": "Jq56K6iAC-UV"
      },
      "execution_count": null,
      "outputs": []
    },
    {
      "cell_type": "markdown",
      "source": [
        "#### c) (40 pts) successive over-relaxation. include optimal weight $\\omega$ as part of solution.\n",
        "</br>\n"
      ],
      "metadata": {
        "id": "3e73FzPaSeKP"
      }
    },
    {
      "cell_type": "markdown",
      "source": [
        "\\begin{align}\n",
        "  x_0 &= \\text{initial vector} \\\\\n",
        "  x_{k+1} &= (1-\\omega)x_k + \\omega(D^{-1}(b-Ux_k - Lx_{k+1})) \\quad k=0,1,2,\\dots\n",
        "\\end{align}\n",
        "</br>\n"
      ],
      "metadata": {
        "id": "x4QgdBLoKUzu"
      }
    },
    {
      "cell_type": "code",
      "source": [
        "# sor\n",
        "\n",
        "x_old = x0.copy()\n",
        "x_new = x_old.copy()\n",
        "error = 2*eps # ensures while-loop runs at least once\n",
        "count = 0\n",
        "\n",
        "w = 1.1 ### LOOP TO FIND BEST OMEGA ###\n",
        "inv_dwl = np.linalg.inv(d + w*l)\n",
        "n = len(x_old)\n",
        "while error > eps:\n",
        "  for k in range(n): # per row k\n",
        "    pass; # replace line with x[k+1] = whatever!\n",
        "  error = abs(np.linalg.norm(x_new) - np.linalg.norm(x_old))\n",
        "  x_old = x_new.copy()\n",
        "  count += 1\n",
        "print(f\"sor step {count} \",x_old.flatten())\n",
        "print() # spacer\n"
      ],
      "metadata": {
        "id": "tGPwhzVZV2qU"
      },
      "execution_count": null,
      "outputs": []
    },
    {
      "cell_type": "markdown",
      "source": [
        "\n",
        "### q2) (5 pts) discuss all three methods of q1."
      ],
      "metadata": {
        "id": "lM5bRbPwN6oi"
      }
    },
    {
      "cell_type": "markdown",
      "source": [
        "### q3) (10 pts) <b><font color=orange>extra credit</font></b>. tiny linear algebra proof = free points!\n"
      ],
      "metadata": {
        "id": "VRPx5BZlNWz5"
      }
    },
    {
      "cell_type": "markdown",
      "source": [
        "let $A\\in M_n(\\mathbb{R})$. we say that $A$ is an <i>orthogonal</i> matrix if the columns of $A$ are mutually orthogonal. specifically, if $A = [a_1,a_2,\\dots,a_n]$, where $a_j$ denotes the columns of $A$, then $a_i\\cdot a_j = 0$, whenever $i\\ne j$, where $v\\cdot w$ denotes the euclidean dot product -- ie, $v\\cdot w = \\sum_{i=1}^n v_i,w_i$. prove that if $A$ is an orthogonal matrix, then $A^TA$ is a diagonal matrix, where $A^T$ denotes the transpose of $A$."
      ],
      "metadata": {
        "id": "i-RgnP_2LqI_"
      }
    },
    {
      "cell_type": "markdown",
      "source": [
        "<b>note: every orthonormal set is also orthogonal, but not every orthogonal set is orthonormal.</b>\n",
        "</br>\n"
      ],
      "metadata": {
        "id": "GPRavABZNwCL"
      }
    },
    {
      "cell_type": "markdown",
      "source": [
        "### q4) (10 pts) cholesky factorization.\n",
        "\n",
        "solve the system by finding the cholesky factorization of $A_{2\\times 2}$ followed by two back substitutions. show your work.\n",
        "</br></br>\n",
        "\n",
        "$$\n",
        "\\begin{bmatrix} 1 & -1 \\\\ -1 & 5 \\end{bmatrix}\n",
        "\\begin{bmatrix} x_1 \\\\ x_2 \\end{bmatrix}\n",
        "=\n",
        "\\begin{bmatrix} 3 \\\\ -7 \\end{bmatrix}\n",
        "$$\n",
        "</br>\n"
      ],
      "metadata": {
        "id": "xyIuMSjPSsi-"
      }
    },
    {
      "cell_type": "markdown",
      "source": [
        "### q5) (10 pts) conjugate gradient method.\n",
        "\n",
        "solve the system with conjugate gradient method. show your work.\n",
        "</br></br>\n",
        "\n",
        "$$\n",
        "\\begin{bmatrix} 1 & -1 \\\\ -1 & 5 \\end{bmatrix}\n",
        "\\begin{bmatrix} x_1 \\\\ x_2 \\end{bmatrix}\n",
        "=\n",
        "\\begin{bmatrix} 3 \\\\ -7 \\end{bmatrix}\n",
        "$$\n",
        "</br>\n"
      ],
      "metadata": {
        "id": "UcypeEzYWewK"
      }
    },
    {
      "cell_type": "markdown",
      "source": [
        "### q6) (10 pts) <b><font color=blue>MATH 685 ONLY</font></b> prove that if $d>4$, matrix $A$ is positive-definite.\n",
        "\n",
        "$$A = \\begin{bmatrix} 1 & 2 \\\\ 2 & d \\end{bmatrix}$$\n",
        "</br>\n"
      ],
      "metadata": {
        "id": "bgNNkVLLXEJ6"
      }
    },
    {
      "cell_type": "markdown",
      "source": [
        "### q7) (30 pts) <b><font color=blue>MATH 685 ONLY</font></b> nonlinear systems of equations, newtons multivariate.\n",
        "\n",
        "<b><font color=red>this is a code question.</font></b>\n",
        "</br></br>\n",
        "\n",
        "use newtons method with appropriate $x_0$ to find all solutions. use error $\\epsilon = abs(||x^*||_2 -||x||_2) < 1e-05$, where $x^*$ is the true solution. display final solutions, iteration count to get there.\n",
        "</br></br>\n",
        "\n",
        "\\begin{align}\n",
        "  x_1^2 + x_2^2 &= 1 \\\\\n",
        "  (x_1-1)^2 + x_2^2 &= 1\n",
        "\\end{align}\n",
        "</br>\n"
      ],
      "metadata": {
        "id": "Off3BOieJr_x"
      }
    },
    {
      "cell_type": "markdown",
      "source": [
        "\\begin{align}\n",
        "  x_0 &= \\text{initial vector} \\\\\n",
        "  x_{k+1} &= x_k - (DF(x_k))^{-1}F(x_k), \\quad k=0,1,2,\\dots\n",
        "\\end{align}\n",
        "</br>\n"
      ],
      "metadata": {
        "id": "OXUHnOoiQd6R"
      }
    },
    {
      "cell_type": "code",
      "source": [
        "import numpy as np\n",
        "\n",
        "#https://numpy.org/doc/stable/reference/generated/numpy.dot.html\n",
        "\n",
        "f1 = lambda x: pow(x[0],2) + pow(x[1],2) - 1 # x[0]=x1, x[1]=x2\n",
        "f2 = lambda x: 0 # f2(x1,x2)\n",
        "df11 = lambda x: 0 # df1/dx1(x1,x2)\n",
        "df12 = lambda x: 0 # df1/dx2(x1,x2)\n",
        "df21 = lambda x: 0 # df2/dx1(x1,x2)\n",
        "df22 = lambda x: 0 # df2/dx2(x1,x2)\n",
        "\n",
        "x0 = np.array([1,-1]) # first guess ~ remember what the equations represent graphically\n",
        "eps = 1e-5\n",
        "imax = 10 # lol, not even this\n",
        "\n",
        "x_old = x0.copy()\n",
        "x_new = x_old.copy()\n",
        "\n",
        "count = 0\n",
        "error = 2*eps # ensure while-loop runs at least once\n",
        "while (error > eps) and (count <= imax):\n",
        "  # F =\n",
        "  # DF =\n",
        "  x_new = x_old - # the rest of the algorithm for x[k+1]\n",
        "  error = abs(np.linalg.norm(x_new)-np.linalg.norm(x_old))\n",
        "  x_old = x_new.copy()\n",
        "  count += 1\n",
        "\n",
        "print(\"\\n\",x_new.flatten(),error,count)\n"
      ],
      "metadata": {
        "id": "r26AlQb4FYix",
        "colab": {
          "base_uri": "https://localhost:8080/"
        },
        "outputId": "03e623d3-19b6-42c3-f62c-7271c6170324"
      },
      "execution_count": null,
      "outputs": [
        {
          "output_type": "stream",
          "name": "stdout",
          "text": [
            "\n",
            " [ 0.5       -0.8660254] 1.05908426473178e-09 5\n"
          ]
        }
      ]
    }
  ]
}