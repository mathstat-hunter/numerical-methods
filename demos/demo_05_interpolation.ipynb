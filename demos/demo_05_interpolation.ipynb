{
  "nbformat": 4,
  "nbformat_minor": 0,
  "metadata": {
    "colab": {
      "provenance": [],
      "collapsed_sections": [
        "zuJRf2U-dqTY",
        "UlhrHcm3c6fW",
        "-Yx-V39ydEoz",
        "wimNFEhadIc7",
        "0No9pDU9dKxb",
        "Ry10dL_RdNcG"
      ]
    },
    "kernelspec": {
      "name": "python3",
      "display_name": "Python 3"
    },
    "language_info": {
      "name": "python"
    }
  },
  "cells": [
    {
      "cell_type": "markdown",
      "source": [
        "# nmi | spring 2024\n",
        "## demo 05 | homework 05 : interpolation\n",
        "## your name here\n"
      ],
      "metadata": {
        "id": "5UzhS1MMRn0X"
      }
    },
    {
      "cell_type": "markdown",
      "source": [
        "### q1 interpolating function\n",
        "\n",
        "find polynomial that passes through points $(0,1),(2,3),(3,0)$.\n",
        "</br>\n"
      ],
      "metadata": {
        "id": "qISMHGM20xQ9"
      }
    },
    {
      "cell_type": "markdown",
      "source": [
        "#### (a) (10 pts) use lagrange interpolation or newtons divided difference.\n"
      ],
      "metadata": {
        "id": "HULyoQzX1Jc1"
      }
    },
    {
      "cell_type": "markdown",
      "source": [
        "#### (b) (5 pts) calculate the upper bound for interpolation error at $x=1$.\n"
      ],
      "metadata": {
        "id": "HxY8tvQ53LF0"
      }
    },
    {
      "cell_type": "markdown",
      "source": [
        "### q2 chebyshev interpolation\n",
        "\n",
        "<b><font color=red>this is a code question.</font></b>\n",
        "</br></br>\n",
        "\n",
        "find interpolating function $P_{10}(x)$ that approximates $f(x) = e^x$ over the interval $[-1,1]$ with number of data points sampled $n = 11$.\n",
        "</br></br>\n",
        "\n",
        "<b>wednesdays lab will include similar workflow for this question. the quick extra credit on blackboard is a basic introduction to plots in python.</b>\n",
        "</br>\n"
      ],
      "metadata": {
        "id": "UoY-VKUHLlAC"
      }
    },
    {
      "cell_type": "markdown",
      "source": [
        "#### common code\n"
      ],
      "metadata": {
        "id": "zuJRf2U-dqTY"
      }
    },
    {
      "cell_type": "code",
      "source": [
        "import math\n",
        "import matplotlib.pyplot as plt\n",
        "import numpy as np\n",
        "from numpy import polynomial as npp\n",
        "import scipy as sp\n",
        "\n",
        "# function to approximate\n",
        "f = lambda x: 1/np.exp(pow(x,2)) # demo function; obviously its not homework function\n",
        "\n",
        "# interval\n",
        "x = [-1,1]\n"
      ],
      "metadata": {
        "id": "rcCA4hkcdsXd"
      },
      "execution_count": null,
      "outputs": []
    },
    {
      "cell_type": "code",
      "source": [
        "#https://pythonnumericalmethods.berkeley.edu/notebooks/chapter17.05-Newtons-Polynomial-Interpolation.html\n",
        "\n",
        "def divided_diff(x, y):\n",
        "  '''\n",
        "  function to calculate the divided\n",
        "  differences table\n",
        "  '''\n",
        "  n = len(y)\n",
        "  coef = np.zeros([n, n])\n",
        "  # the first column is y\n",
        "  coef[:,0] = y\n",
        "\n",
        "  for j in range(1,n):\n",
        "    for i in range(n-j):\n",
        "      coef[i][j] = (coef[i+1][j-1] - coef[i][j-1]) / (x[i+j]-x[i])\n",
        "\n",
        "  return coef\n",
        "\n",
        "def newton_poly(coef, x_data, x):\n",
        "  '''\n",
        "  evaluate the newton polynomial\n",
        "  at x\n",
        "  '''\n",
        "  n = len(x_data) - 1\n",
        "  p = coef[n]\n",
        "  for k in range(1,n+1):\n",
        "    p = coef[n-k] + (x -x_data[n-k])*p\n",
        "  return p\n",
        "\n",
        "#coeffs = divided_diff(xn,yn)[0,:]\n",
        "#ps_std = newton_poly(coeffs,xn,xall)\n"
      ],
      "metadata": {
        "id": "rCY4MwqBg1s_"
      },
      "execution_count": null,
      "outputs": []
    },
    {
      "cell_type": "markdown",
      "source": [
        "#### (a) (5 pts) express $P_{10}(x)$ as standard monomial using evenly spaced data points.\n",
        "\n"
      ],
      "metadata": {
        "id": "UlhrHcm3c6fW"
      }
    },
    {
      "cell_type": "code",
      "source": [
        "n = 11 # points, including both endpoints\n",
        "xs_esp = np.linspace(x[0],x[1],n) # evenly spaced\n",
        "ys_esp = f(xs_esp)\n",
        "\n",
        "#print(f\"\\nstandard monomial:\\n\\n{p_std}\\n\") # meh print\n"
      ],
      "metadata": {
        "id": "BSXNb2CdfRo_"
      },
      "execution_count": null,
      "outputs": []
    },
    {
      "cell_type": "markdown",
      "source": [
        "#### (b) (10 pts) express $P_{10}(x)$ with chebyshev basis using chebyshev nodes.\n"
      ],
      "metadata": {
        "id": "-Yx-V39ydEoz"
      }
    },
    {
      "cell_type": "code",
      "source": [
        "xs_rts = npp.chebyshev.chebpts2(n) # chebyshev roots\n",
        "ys_rts = f(xs_rts) # np.exp(xs) # system ~ truth\n",
        "\n",
        "#print(f\"\\nchebyshev polynomial:\\n\\n{p_che}\\n\") # pretty print\n"
      ],
      "metadata": {
        "id": "acZN_PVMrRhJ"
      },
      "execution_count": null,
      "outputs": []
    },
    {
      "cell_type": "markdown",
      "source": [
        "#### (c) (5 pts) calculate error bound at $x=0.9$.\n"
      ],
      "metadata": {
        "id": "wimNFEhadIc7"
      }
    },
    {
      "cell_type": "markdown",
      "source": [
        "<font color=orange>no need to code! you could write a wee script but why not do it by hand?</font>\n",
        "</br>\n"
      ],
      "metadata": {
        "id": "qIkWzAYFvgc5"
      }
    },
    {
      "cell_type": "markdown",
      "source": [
        "#### (d) (10 pts) calculate computational error for both methods at $x=0.9$.\n"
      ],
      "metadata": {
        "id": "0No9pDU9dKxb"
      }
    },
    {
      "cell_type": "code",
      "source": [
        "x_check = 0.9\n",
        "f_check = f(x_check) # system ~ truth\n",
        "\n",
        "#print(f\"\\nstandard monomial, P({x_check})= {p_check_std}, error = {abs(f_check-p_check_std)}\")\n",
        "\n",
        "#print(f\"\\nchebyshev, P({x_check})= {p_check_che}, error = {abs(f_check-p_check_che)}\")\n"
      ],
      "metadata": {
        "id": "ta9zxUhHinP8"
      },
      "execution_count": null,
      "outputs": []
    },
    {
      "cell_type": "markdown",
      "source": [
        "#### (e) (10 pts) show and label $f(x),P_{10:std}(x),P_{10:che}(x)$ on same plot.\n"
      ],
      "metadata": {
        "id": "Ry10dL_RdNcG"
      }
    },
    {
      "cell_type": "code",
      "source": [
        "# lol\n"
      ],
      "metadata": {
        "id": "6AYxI6l_ie4Q"
      },
      "execution_count": null,
      "outputs": []
    },
    {
      "cell_type": "markdown",
      "source": [
        "### q3 (15 pts <font color=blue>MATH 685 ONLY</font>) cubic splines.\n",
        "\n",
        "find the equations for the <b>natural</b> cubic spline that interpolates the data points: $(0,3),(1,5),(2,4),(3,1)$.\n",
        "</br></br>\n",
        "\n",
        "<font color=orange>+5 points extra credit if you plot the result</font>\n",
        "</br>\n"
      ],
      "metadata": {
        "id": "NCUcM_EO0cto"
      }
    },
    {
      "cell_type": "markdown",
      "source": [
        "### q4 (10 pts <font color=GREEN>MATH 385 ONLY</font>) bezier curve.\n",
        "\n",
        "find the one-piece bezier curve $(x(t),y(t))$ defined by the given four points: $(0,0),(0,2),(2,0),(1,0)$.\n",
        "</br></br>\n",
        "\n",
        "<font color=orange>+5 points extra credit if you plot the result</font>\n",
        "</br>\n"
      ],
      "metadata": {
        "id": "OlrB6cN31qaz"
      }
    }
  ]
}