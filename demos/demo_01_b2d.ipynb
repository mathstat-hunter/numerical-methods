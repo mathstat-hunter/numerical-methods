{
  "nbformat": 4,
  "nbformat_minor": 0,
  "metadata": {
    "colab": {
      "provenance": [],
      "collapsed_sections": [
        "E25DmqYjwowy",
        "QX9yRAu3nKZ6",
        "LyA19fjxpHKf",
        "1gkgNztfrSoN",
        "rbSNkbN657cP",
        "xvLMvTrbmkuf",
        "WdlkZs0cw4Hw",
        "aTQLPH4v9ZfZ",
        "eivCoW_WmTbB"
      ]
    },
    "kernelspec": {
      "name": "python3",
      "display_name": "Python 3"
    },
    "language_info": {
      "name": "python"
    }
  },
  "cells": [
    {
      "cell_type": "markdown",
      "source": [
        "# nmi | spring 2024\n",
        "## demo 01 : homework 01\n",
        "## your name here\n"
      ],
      "metadata": {
        "id": "5UzhS1MMRn0X"
      }
    },
    {
      "cell_type": "markdown",
      "source": [
        "### eg. convert from base 2 to base 10.\n"
      ],
      "metadata": {
        "id": "E25DmqYjwowy"
      }
    },
    {
      "cell_type": "markdown",
      "source": [
        "#### algorithm"
      ],
      "metadata": {
        "id": "QX9yRAu3nKZ6"
      }
    },
    {
      "cell_type": "markdown",
      "source": [
        "***does not include fractionals.***"
      ],
      "metadata": {
        "id": "kHb_EUJqrK_S"
      }
    },
    {
      "cell_type": "markdown",
      "source": [
        "\n",
        "\talgorithm, convert from base 2 to base 10\n",
        "\n",
        "\trc = 0\n",
        "\tfor s in sb\n",
        "\t\trc = rc*2 + int(s)\n",
        "\treturn rc\n"
      ],
      "metadata": {
        "id": "71DfW7WtmX8T"
      }
    },
    {
      "cell_type": "markdown",
      "source": [
        "#### code"
      ],
      "metadata": {
        "id": "LyA19fjxpHKf"
      }
    },
    {
      "cell_type": "markdown",
      "source": [
        "#####***does not include fractionals.***"
      ],
      "metadata": {
        "id": "1gkgNztfrSoN"
      }
    },
    {
      "cell_type": "code",
      "source": [
        "# nmi homework 01\n",
        "\n",
        "def eg_zb2b10(ab):\n",
        "  rc = 0\n",
        "  if not ab:\n",
        "    return 0\n",
        "  print(f\"string to process: {ab}\")\n",
        "  rc = eg_zb2b10(ab[:-1])*2 + int(ab[-1])\n",
        "  return rc\n",
        "\n",
        "sb = \"110\"\n",
        "iz = eg_zb2b10(sb)\n",
        "print(f\"{sb} -> {iz}\")\n"
      ],
      "metadata": {
        "id": "IX767d55nOvk",
        "colab": {
          "base_uri": "https://localhost:8080/"
        },
        "outputId": "e0b4b7b6-ae9c-4496-c0db-9438d5349dfa"
      },
      "execution_count": null,
      "outputs": [
        {
          "output_type": "stream",
          "name": "stdout",
          "text": [
            "string to process: 110\n",
            "string to process: 11\n",
            "string to process: 1\n",
            "110 -> 6\n"
          ]
        }
      ]
    },
    {
      "cell_type": "markdown",
      "source": [
        "#####***includes fractionals.***"
      ],
      "metadata": {
        "id": "rbSNkbN657cP"
      }
    },
    {
      "cell_type": "markdown",
      "source": [
        "to run, execute both cells below sequentially."
      ],
      "metadata": {
        "id": "QFaa2935xfS5"
      }
    },
    {
      "cell_type": "code",
      "source": [
        "# nmi homework 01\n",
        "\n",
        "import math\n",
        "import random\n",
        "\n",
        "def _zB2B10(ab):\n",
        "  \"\"\"\n",
        "  convert from base 2 string to base 10 integer >= 0\n",
        "\n",
        "  ab: string representation of binary integer\n",
        "\n",
        "  return: base 10 integer of counting numbers set, Z\n",
        "  \"\"\"\n",
        "  if not ab:\n",
        "    return 0\n",
        "  rc = _zB2B10(ab[:-1])*2 + int(ab[-1])\n",
        "  return rc\n",
        "\n",
        "def _fB2B10(ab):\n",
        "  \"\"\"\n",
        "  convert from base 2 string to base 10 fraction between 0 and +1\n",
        "\n",
        "  ab: string representation of binary integer\n",
        "\n",
        "  return: base 10 decimal in [0,+1]\n",
        "  \"\"\"\n",
        "  rc = 0\n",
        "  if not ab:\n",
        "    return rc\n",
        "  rc = float(ab[0])\n",
        "  if len(ab) > 0:\n",
        "    # recursion determined by string length\n",
        "    rc += _fB2B10(ab[1:])\n",
        "  rc = rc/2.\n",
        "  return rc\n",
        "\n",
        "def convertB2B10(ab):\n",
        "  \"\"\"\n",
        "  convert from base 2 string to base 10 number\n",
        "\n",
        "  ab: string representation of binary integer\n",
        "\n",
        "  return: decimal\n",
        "  \"\"\"\n",
        "  rc = 0\n",
        "  if not ab:\n",
        "    return rc\n",
        "\n",
        "  bNegative = False\n",
        "  if ab.find(\"-\") != -1:\n",
        "    ab = ab.replace(\"-\",\"\")\n",
        "    bNegative = True\n",
        "  ab = ab.replace(\"0b\",\"\")\n",
        "  sb = ab.split(\".\")\n",
        "  iz = _zB2B10(sb[0])\n",
        "  if len(sb) > 1:\n",
        "    rc = _fB2B10(sb[1])\n",
        "  rc = rc + iz\n",
        "  if bNegative:\n",
        "    rc = rc*-1\n",
        "  return rc\n"
      ],
      "metadata": {
        "id": "4wMCumbU57cc"
      },
      "execution_count": null,
      "outputs": []
    },
    {
      "cell_type": "code",
      "source": [
        "iprecision = 10\n",
        "test = \"111.11\"\n",
        "print(convertB2B10(test))\n"
      ],
      "metadata": {
        "id": "kQ85w3IQo6Ds",
        "colab": {
          "base_uri": "https://localhost:8080/"
        },
        "outputId": "5a0c9c04-a982-45e2-c4d7-2ca4721c7423"
      },
      "execution_count": null,
      "outputs": [
        {
          "output_type": "stream",
          "name": "stdout",
          "text": [
            "7.75\n"
          ]
        }
      ]
    },
    {
      "cell_type": "markdown",
      "source": [
        "### q1. convert from base 10 to base 2.\n"
      ],
      "metadata": {
        "id": "xvLMvTrbmkuf"
      }
    },
    {
      "cell_type": "markdown",
      "source": [
        "#### algorithm"
      ],
      "metadata": {
        "id": "WdlkZs0cw4Hw"
      }
    },
    {
      "cell_type": "markdown",
      "source": [
        "some resources:\n",
        "\n",
        "lecture 01, slide 05, second column for example conversion.\n",
        "\n",
        "[binary <-> decimal conversion review](https://indepth.dev/posts/1019/the-simple-math-behind-decimal-binary-conversion-algorithms)\n",
        "\n",
        "\n",
        "```\n",
        "function convert(input)\n",
        "  rc = \"\"\n",
        "  q,r = input//2\n",
        "  rc = convert(q)\n",
        "  rc = rc + r\n",
        "  return rc\n",
        "\n",
        "input = 12\n",
        "output = convert(input)\n",
        "```"
      ],
      "metadata": {
        "id": "aKqQd0bNw7u3"
      }
    },
    {
      "cell_type": "markdown",
      "source": [
        "#### code\n"
      ],
      "metadata": {
        "id": "aTQLPH4v9ZfZ"
      }
    },
    {
      "cell_type": "code",
      "source": [
        "#\n",
        "# q = input//2\n",
        "# r = input%2\n",
        "#"
      ],
      "metadata": {
        "id": "VlX4sBxE_JtC"
      },
      "execution_count": null,
      "outputs": []
    },
    {
      "cell_type": "markdown",
      "source": [
        "### python native methods, some examples\n"
      ],
      "metadata": {
        "id": "eivCoW_WmTbB"
      }
    },
    {
      "cell_type": "markdown",
      "source": [
        "native methods as in \"native to (core) python\" and not in a library such as [numpy](https://numpy.org/) or [scipy](https://scipy.org/). ie, notice how the code below does not contain [import](https://docs.python.org/3/reference/import.html) statements.\n",
        "</br>\n"
      ],
      "metadata": {
        "id": "SLckWJruoXcu"
      }
    },
    {
      "cell_type": "code",
      "source": [
        "# hw01 example for decimal to binary conversion\n",
        "#\n",
        "# bc bin() is a native method n. ie, you need to write the algorithm not use\n",
        "# an existing method.\n",
        "\n",
        "decimal_number = 12\n",
        "binary_number = bin(decimal_number)[2:]\n",
        "print(f\"dont use bin() to convert decimal {decimal_number} to binary {binary_number}.\\n\")\n",
        "\n",
        "# non-hw example, power\n",
        "#\n",
        "# there wont be any homework assignments on the power method, so use this as\n",
        "# much as you care.\n",
        "\n",
        "number_squared = pow(decimal_number,2)\n",
        "print(f\"example native function for power: pow({decimal_number}) = {number_squared}.\\n\")\n",
        "\n",
        "# usw"
      ],
      "metadata": {
        "colab": {
          "base_uri": "https://localhost:8080/"
        },
        "id": "mjRCLKmwmbWT",
        "outputId": "4445fe74-bb4d-4776-842e-7fcfe5912e6d"
      },
      "execution_count": null,
      "outputs": [
        {
          "output_type": "stream",
          "name": "stdout",
          "text": [
            "dont use bin() to convert decimal 12 to binary 1100.\n",
            "\n",
            "example native function for power: pow(12) = 144.\n",
            "\n"
          ]
        }
      ]
    },
    {
      "cell_type": "markdown",
      "source": [
        "* again, dont do this if asked to code the algorithm: [casting to native type](https://pynative.com/python-type-casting/)\n",
        "\n",
        "* more fyi: [python data types](https://docs.python.org/3/library/stdtypes.html)\n",
        "</br>\n"
      ],
      "metadata": {
        "id": "rLVLfUX2-0DK"
      }
    }
  ]
}